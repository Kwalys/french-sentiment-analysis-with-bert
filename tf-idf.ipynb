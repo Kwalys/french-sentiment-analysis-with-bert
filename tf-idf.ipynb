{
 "cells": [
  {
   "cell_type": "code",
   "execution_count": 116,
   "metadata": {},
   "outputs": [],
   "source": [
    "import numpy as np\n",
    "import pandas as pd\n",
    "\n",
    "# better display of review text in dataframes\n",
    "pd.set_option('display.max_colwidth', -1) \n",
    "\n",
    "# Seaborn options\n",
    "sns.set(style=\"whitegrid\", font_scale=1.4)"
   ]
  },
  {
   "cell_type": "markdown",
   "metadata": {},
   "source": [
    "# Load data"
   ]
  },
  {
   "cell_type": "markdown",
   "metadata": {},
   "source": [
    "## Dataset"
   ]
  },
  {
   "cell_type": "code",
   "execution_count": 2,
   "metadata": {},
   "outputs": [
    {
     "name": "stdout",
     "output_type": "stream",
     "text": [
      "LEN TRAIN: 11996\n",
      "LEN VAL: 4003\n",
      "LEN TEST: 4001\n"
     ]
    }
   ],
   "source": [
    "import pickle\n",
    "\n",
    "PICKLE_PATH = \"allocine_dataset/data/allocine_dataset.pickle\"\n",
    "\n",
    "with open(PICKLE_PATH, 'rb') as reader:\n",
    "    data = pickle.load(reader)\n",
    "\n",
    "X_train, y_train = np.array(data[\"train_set\"]['review']), np.array(data[\"train_set\"]['polarity'])\n",
    "X_val, y_val = np.array(data[\"val_set\"]['review']), np.array(data[\"val_set\"]['polarity'])\n",
    "X_test, y_test = np.array(data[\"test_set\"]['review']), np.array(data[\"test_set\"]['polarity'])\n",
    "class_names = data['class_names']\n",
    "\n",
    "print(\"LEN TRAIN: \"+ str(len(X_train)))\n",
    "print(\"LEN VAL: \"+ str(len(X_val)))\n",
    "print(\"LEN TEST: \"+ str(len(X_test)))"
   ]
  },
  {
   "cell_type": "markdown",
   "metadata": {},
   "source": [
    "## Stop words"
   ]
  },
  {
   "cell_type": "code",
   "execution_count": 4,
   "metadata": {},
   "outputs": [
    {
     "name": "stderr",
     "output_type": "stream",
     "text": [
      "[nltk_data] Downloading package stopwords to\n",
      "[nltk_data]     /home/theophile/nltk_data...\n",
      "[nltk_data]   Package stopwords is already up-to-date!\n"
     ]
    }
   ],
   "source": [
    "import nltk\n",
    "nltk.download('stopwords')\n",
    "nltk_stopwords = nltk.corpus.stopwords.words('french')"
   ]
  },
  {
   "cell_type": "markdown",
   "metadata": {},
   "source": [
    "# Model selection"
   ]
  },
  {
   "cell_type": "markdown",
   "metadata": {},
   "source": [
    "## First model"
   ]
  },
  {
   "cell_type": "code",
   "execution_count": 5,
   "metadata": {},
   "outputs": [
    {
     "name": "stderr",
     "output_type": "stream",
     "text": [
      "[Parallel(n_jobs=-1)]: Using backend LokyBackend with 12 concurrent workers.\n",
      "[Parallel(n_jobs=-1)]: Done   1 out of   1 | elapsed:    0.6s finished\n"
     ]
    },
    {
     "data": {
      "text/plain": [
       "Pipeline(memory=None,\n",
       "         steps=[('tfidf',\n",
       "                 TfidfVectorizer(analyzer='word', binary=False,\n",
       "                                 decode_error='strict',\n",
       "                                 dtype=<class 'numpy.float64'>,\n",
       "                                 encoding='utf-8', input='content',\n",
       "                                 lowercase=True, max_df=1.0, max_features=None,\n",
       "                                 min_df=1, ngram_range=(1, 1), norm='l2',\n",
       "                                 preprocessor=None, smooth_idf=True,\n",
       "                                 stop_words=['au', 'aux', 'avec', 'ce', 'ces',\n",
       "                                             'dans', 'de', 'des', 'du', 'elle...\n",
       "                                 strip_accents=None, sublinear_tf=False,\n",
       "                                 token_pattern='(?u)\\\\b\\\\w\\\\w+\\\\b',\n",
       "                                 tokenizer=None, use_idf=True,\n",
       "                                 vocabulary=None)),\n",
       "                ('clf',\n",
       "                 LogisticRegression(C=1.0, class_weight=None, dual=False,\n",
       "                                    fit_intercept=True, intercept_scaling=1,\n",
       "                                    l1_ratio=None, max_iter=100,\n",
       "                                    multi_class='auto', n_jobs=-1, penalty='l2',\n",
       "                                    random_state=None, solver='lbfgs',\n",
       "                                    tol=0.0001, verbose=1, warm_start=False))],\n",
       "         verbose=False)"
      ]
     },
     "execution_count": 5,
     "metadata": {},
     "output_type": "execute_result"
    }
   ],
   "source": [
    "from sklearn.feature_extraction.text import TfidfVectorizer\n",
    "from sklearn.linear_model import LogisticRegression\n",
    "from sklearn.pipeline import Pipeline\n",
    "\n",
    "tfidf_clf = Pipeline([\n",
    "    ('tfidf', TfidfVectorizer(\n",
    "        lowercase=True,\n",
    "        tokenizer=None,\n",
    "        stop_words=nltk_stopwords, ## TODO: test different conf with grid search (ex: without stop)\n",
    "    )\n",
    "    ),\n",
    "    ('clf', LogisticRegression(n_jobs=-1, verbose=1)),\n",
    "])\n",
    "\n",
    "tfidf_clf.fit(X_train, y_train)"
   ]
  },
  {
   "cell_type": "markdown",
   "metadata": {},
   "source": [
    "## Prediction"
   ]
  },
  {
   "cell_type": "code",
   "execution_count": 6,
   "metadata": {},
   "outputs": [
    {
     "name": "stdout",
     "output_type": "stream",
     "text": [
      "J'y suis allée par affection pour Ramzy et pour Antony Sonigo, que j'aimerai bien un jour voir dans un bon film... Doux rêve inaccessible ? Encore une comédie française lamentable. les auteurs du scénario croient donc s'adresser à des spectateurs quiont du pop corn à la place des neurones ? une comedie triste : tout ce qui fait fuir.\n",
      "\n",
      "True Polarity: Negative\n"
     ]
    }
   ],
   "source": [
    "some_index = 0\n",
    "some_review = X_val[some_index]\n",
    "print(some_review)\n",
    "print()\n",
    "print(\"True Polarity:\", class_names[y_val[some_index]])"
   ]
  },
  {
   "cell_type": "code",
   "execution_count": 7,
   "metadata": {},
   "outputs": [
    {
     "name": "stdout",
     "output_type": "stream",
     "text": [
      "Predicted Polarity: Positive\n"
     ]
    }
   ],
   "source": [
    "some_prediction = tfidf_clf.predict([some_review, ])\n",
    "print(\"Predicted Polarity:\", class_names[some_prediction[0]]) # Prediction error !"
   ]
  },
  {
   "cell_type": "code",
   "execution_count": 8,
   "metadata": {},
   "outputs": [
    {
     "name": "stdout",
     "output_type": "stream",
     "text": [
      "Training Accuracy: 0.9511503834611538\n",
      "Validation Accuracy: 0.9043217586809893\n",
      "\n",
      "              precision    recall  f1-score   support\n",
      "\n",
      "    Negative       0.92      0.90      0.91      2047\n",
      "    Positive       0.89      0.91      0.90      1956\n",
      "\n",
      "    accuracy                           0.90      4003\n",
      "   macro avg       0.90      0.90      0.90      4003\n",
      "weighted avg       0.90      0.90      0.90      4003\n",
      "\n"
     ]
    }
   ],
   "source": [
    "from sklearn import metrics\n",
    "\n",
    "# Predicting training dataset\n",
    "y_pred = tfidf_clf.predict(X_train)\n",
    "print(\"Training Accuracy:\", metrics.accuracy_score(y_train, y_pred))\n",
    "\n",
    "# Predicting with a test dataset\n",
    "\n",
    "y_pred = tfidf_clf.predict(X_val)\n",
    "print(\"Validation Accuracy:\", metrics.accuracy_score(y_val, y_pred))\n",
    "print()\n",
    "print(metrics.classification_report(y_val, y_pred, target_names=class_names.values()))"
   ]
  },
  {
   "cell_type": "markdown",
   "metadata": {},
   "source": [
    "## Grid Search"
   ]
  },
  {
   "cell_type": "code",
   "execution_count": 40,
   "metadata": {},
   "outputs": [],
   "source": [
    "from sklearn.model_selection import PredefinedSplit\n",
    "\n",
    "# Grid-search on validation set.\n",
    "X = np.concatenate((X_train, X_val), axis=0)\n",
    "y = np.concatenate((y_train, y_val), axis=0)\n",
    "validation_indexes = [-1]*len(X_train) + [0]*len(X_val)\n",
    "ps = PredefinedSplit(test_fold=validation_indexes)"
   ]
  },
  {
   "cell_type": "code",
   "execution_count": 362,
   "metadata": {},
   "outputs": [
    {
     "name": "stdout",
     "output_type": "stream",
     "text": [
      "Fitting 1 folds for each of 96 candidates, totalling 96 fits\n"
     ]
    },
    {
     "name": "stderr",
     "output_type": "stream",
     "text": [
      "[Parallel(n_jobs=-1)]: Using backend LokyBackend with 12 concurrent workers.\n",
      "[Parallel(n_jobs=-1)]: Done  26 tasks      | elapsed:   11.1s\n",
      "[Parallel(n_jobs=-1)]: Done  96 out of  96 | elapsed:  2.0min finished\n",
      "[Parallel(n_jobs=-1)]: Using backend LokyBackend with 12 concurrent workers.\n",
      "[Parallel(n_jobs=-1)]: Done   1 out of   1 | elapsed:    8.9s finished\n"
     ]
    },
    {
     "data": {
      "text/plain": [
       "GridSearchCV(cv=PredefinedSplit(test_fold=array([-1, -1, ...,  0,  0])),\n",
       "             error_score=nan,\n",
       "             estimator=Pipeline(memory=None,\n",
       "                                steps=[('tfidf',\n",
       "                                        TfidfVectorizer(analyzer='word',\n",
       "                                                        binary=False,\n",
       "                                                        decode_error='strict',\n",
       "                                                        dtype=<class 'numpy.float64'>,\n",
       "                                                        encoding='utf-8',\n",
       "                                                        input='content',\n",
       "                                                        lowercase=True,\n",
       "                                                        max_df=1.0,\n",
       "                                                        max_features=None,\n",
       "                                                        min_df=1,\n",
       "                                                        ngram_range=(1, 1),\n",
       "                                                        norm='l2',\n",
       "                                                        preprocesso...\n",
       "                         'tfidf__ngram_range': [(1, 1), (1, 2)],\n",
       "                         'tfidf__stop_words': (None,\n",
       "                                               ['au', 'aux', 'avec', 'ce',\n",
       "                                                'ces', 'dans', 'de', 'des',\n",
       "                                                'du', 'elle', 'en', 'et', 'eux',\n",
       "                                                'il', 'ils', 'je', 'la', 'le',\n",
       "                                                'les', 'leur', 'lui', 'ma',\n",
       "                                                'mais', 'me', 'même', 'mes',\n",
       "                                                'moi', 'mon', 'ne', 'nos', ...]),\n",
       "                         'tfidf__use_idf': (True, False)},\n",
       "             pre_dispatch='2*n_jobs', refit=True, return_train_score=True,\n",
       "             scoring='accuracy', verbose=1)"
      ]
     },
     "execution_count": 362,
     "metadata": {},
     "output_type": "execute_result"
    }
   ],
   "source": [
    "from sklearn.model_selection import GridSearchCV\n",
    "\n",
    "param_grid = {\n",
    "     'tfidf__lowercase': (True, False),\n",
    "     'tfidf__ngram_range': [(1, 1), (1, 2)],\n",
    "     'tfidf__use_idf': (True, False),\n",
    "     'tfidf__stop_words': (None, nltk_stopwords),\n",
    "     'clf__C': [1, 10, 100],\n",
    "     \"clf__penalty\": (\"l1\",\"l2\")\n",
    "}\n",
    "\n",
    "tfidf_clf = Pipeline([\n",
    "    ('tfidf', TfidfVectorizer()),\n",
    "    ('clf', LogisticRegression(max_iter=300, n_jobs=-1, verbose=1)),\n",
    "])\n",
    "\n",
    "grid_search = GridSearchCV(\n",
    "    tfidf_clf, param_grid, cv=ps, \n",
    "    scoring='accuracy', return_train_score=True, \n",
    "    n_jobs=-1, verbose=1\n",
    ")\n",
    "\n",
    "grid_search.fit(X, y)"
   ]
  },
  {
   "cell_type": "code",
   "execution_count": 379,
   "metadata": {},
   "outputs": [
    {
     "name": "stdout",
     "output_type": "stream",
     "text": [
      "{'clf__C': 100, 'clf__penalty': 'l2', 'tfidf__lowercase': True, 'tfidf__ngram_range': (1, 2), 'tfidf__stop_words': None, 'tfidf__use_idf': True}\n",
      "0.9190607044716462\n"
     ]
    }
   ],
   "source": [
    "print(grid_search.best_params_) # pprint ?\n",
    "print(grid_search.best_score_)\n",
    "\n",
    "best_clf = grid_search.best_estimator_"
   ]
  },
  {
   "cell_type": "markdown",
   "metadata": {},
   "source": [
    "# Training best model"
   ]
  },
  {
   "cell_type": "code",
   "execution_count": 11,
   "metadata": {},
   "outputs": [
    {
     "name": "stderr",
     "output_type": "stream",
     "text": [
      "[Parallel(n_jobs=-1)]: Using backend LokyBackend with 12 concurrent workers.\n",
      "[Parallel(n_jobs=-1)]: Done   1 out of   1 | elapsed:    2.7s finished\n"
     ]
    },
    {
     "data": {
      "text/plain": [
       "Pipeline(memory=None,\n",
       "         steps=[('tfidf',\n",
       "                 TfidfVectorizer(analyzer='word', binary=False,\n",
       "                                 decode_error='strict',\n",
       "                                 dtype=<class 'numpy.float64'>,\n",
       "                                 encoding='utf-8', input='content',\n",
       "                                 lowercase=True, max_df=1.0, max_features=None,\n",
       "                                 min_df=1, ngram_range=(1, 2), norm='l2',\n",
       "                                 preprocessor=None, smooth_idf=True,\n",
       "                                 stop_words=None, strip_accents=None,\n",
       "                                 sublinear_tf=False,\n",
       "                                 token_pattern='(?u)\\\\b\\\\w\\\\w+\\\\b',\n",
       "                                 tokenizer=None, use_idf=True,\n",
       "                                 vocabulary=None)),\n",
       "                ('clf',\n",
       "                 LogisticRegression(C=100, class_weight=None, dual=False,\n",
       "                                    fit_intercept=True, intercept_scaling=1,\n",
       "                                    l1_ratio=None, max_iter=300,\n",
       "                                    multi_class='auto', n_jobs=-1, penalty='l2',\n",
       "                                    random_state=None, solver='lbfgs',\n",
       "                                    tol=0.0001, verbose=1, warm_start=False))],\n",
       "         verbose=False)"
      ]
     },
     "execution_count": 11,
     "metadata": {},
     "output_type": "execute_result"
    }
   ],
   "source": [
    "best_clf = Pipeline([\n",
    "    ('tfidf', TfidfVectorizer(\n",
    "        lowercase=True, ngram_range=(1, 2),\n",
    "        stop_words=None, use_idf=True\n",
    "    )),\n",
    "    ('clf', LogisticRegression(\n",
    "        C=100, penalty='l2', max_iter=300, \n",
    "        n_jobs=-1, verbose=1\n",
    "    )),\n",
    "])\n",
    "\n",
    "best_clf.fit(X_train, y_train)"
   ]
  },
  {
   "cell_type": "markdown",
   "metadata": {},
   "source": [
    "## Results"
   ]
  },
  {
   "cell_type": "code",
   "execution_count": 67,
   "metadata": {},
   "outputs": [
    {
     "name": "stdout",
     "output_type": "stream",
     "text": [
      "Val Accuracy: 0.92\n",
      "Val F1-Score: 0.92\n",
      "\n",
      "              precision    recall  f1-score   support\n",
      "\n",
      "    Negative       0.93      0.91      0.92      2047\n",
      "    Positive       0.90      0.93      0.92      1956\n",
      "\n",
      "    accuracy                           0.92      4003\n",
      "   macro avg       0.92      0.92      0.92      4003\n",
      "weighted avg       0.92      0.92      0.92      4003\n",
      "\n"
     ]
    }
   ],
   "source": [
    "y_pred = best_clf.predict(X_val)\n",
    "print(\"Val Accuracy: {:.2f}\".format(metrics.accuracy_score(y_val, y_pred)))\n",
    "print(\"Val F1-Score: {:.2f}\".format(metrics.f1_score(y_val, y_pred)))\n",
    "print()\n",
    "\n",
    "report = metrics.classification_report(\n",
    "    y_val, y_pred, \n",
    "    target_names=class_names.values()\n",
    ")\n",
    "print(report)"
   ]
  },
  {
   "cell_type": "markdown",
   "metadata": {},
   "source": [
    "## Learning curves"
   ]
  },
  {
   "cell_type": "code",
   "execution_count": null,
   "metadata": {},
   "outputs": [],
   "source": [
    "from sklearn.model_selection import learning_curve\n",
    "\n",
    "# Create CV training and test scores for various training set sizes\n",
    "train_sizes, train_scores, test_scores = learning_curve(\n",
    "    best_clf, X, y, cv=ps, \n",
    "    scoring='accuracy',n_jobs=-1,verbose=1,\n",
    "    # 50 different sizes of the training set\n",
    "    train_sizes=np.linspace(0.01, 1.0, 50)\n",
    ")"
   ]
  },
  {
   "cell_type": "code",
   "execution_count": 129,
   "metadata": {},
   "outputs": [],
   "source": [
    "#import matplotlib.pyplot as plt\n",
    "from sklearn.datasets import load_digits\n",
    "\n",
    "def plot_learning_curves(train_sizes, train_scores, test_scores, figsize=(10,7), fontsize=14):\n",
    "    # Create means and standard deviations of training set scores\n",
    "    train_mean = np.mean(train_scores, axis=1)\n",
    "    train_std = np.std(train_scores, axis=1)\n",
    "    \n",
    "    # Create means and standard deviations of test set scores\n",
    "    test_mean = np.mean(test_scores, axis=1)\n",
    "    test_std = np.std(test_scores, axis=1)\n",
    "    \n",
    "    fig = plt.figure(figsize=figsize)\n",
    "    \n",
    "    # Draw lines\n",
    "    plt.plot(train_sizes, train_mean, '--', color=\"r\",  label=\"Training score\")\n",
    "    plt.plot(train_sizes, test_mean, color=\"g\", label=\"Validation score\")\n",
    "\n",
    "    # Draw bands\n",
    "    #plt.fill_between(train_sizes, train_mean - train_std, train_mean + train_std, color=\"#DDDDDD\")\n",
    "    #plt.fill_between(train_sizes, test_mean - test_std, test_mean + test_std, color=\"#DDDDDD\") \n",
    "\n",
    "    # Create plot\n",
    "    plt.title(\"Learning Curve\")\n",
    "    plt.xlabel(\"Training Set Size\")\n",
    "    plt.ylabel(\"Accuracy Score\")\n",
    "    plt.legend(loc=\"lower right\")  \n",
    "    \n",
    "       \n",
    "    return fig"
   ]
  },
  {
   "cell_type": "code",
   "execution_count": 133,
   "metadata": {},
   "outputs": [
    {
     "data": {
      "image/png": "[encoded data removed]",
      "text/plain": [
       "<Figure size 720x504 with 1 Axes>"
      ]
     },
     "metadata": {},
     "output_type": "display_data"
    }
   ],
   "source": [
    "fig = plot_learning_curves(train_sizes, train_scores, test_scores)\n",
    "\n",
    "# Finalize the plot\n",
    "sns.despine(bottom=True)\n",
    "plt.tight_layout(h_pad=2)\n",
    "\n",
    "# Saving plot\n",
    "fig.savefig('img/tf-idf/learning_curves.png', dpi=200)"
   ]
  },
  {
   "cell_type": "markdown",
   "metadata": {},
   "source": [
    "We can see clearly that the training score is still around the maximum and the validation score could be increased with more training samples."
   ]
  },
  {
   "cell_type": "markdown",
   "metadata": {},
   "source": [
    "## Error analysis"
   ]
  },
  {
   "cell_type": "code",
   "execution_count": 15,
   "metadata": {},
   "outputs": [],
   "source": [
    "import pandas as pd\n",
    "import matplotlib.pyplot as plt\n",
    "import seaborn as sns\n",
    "\n",
    "def print_confusion_matrix(confusion_matrix, class_names, figsize=(10,7), fontsize=14):\n",
    "    df_cm = pd.DataFrame(\n",
    "        confusion_matrix, index=class_names, columns=class_names, \n",
    "    )\n",
    "    fig = plt.figure(figsize=figsize)\n",
    "\n",
    "    heatmap = sns.heatmap(df_cm, annot=True, fmt=\"d\", cmap=\"YlGnBu\")\n",
    "    heatmap.yaxis.set_ticklabels(heatmap.yaxis.get_ticklabels(), rotation=0, ha='right', fontsize=fontsize)\n",
    "    heatmap.xaxis.set_ticklabels(heatmap.xaxis.get_ticklabels(), rotation=45, ha='right', fontsize=fontsize)\n",
    "    \n",
    "    plt.ylabel('True label')\n",
    "    plt.xlabel('Predicted label')\n",
    "    return fig"
   ]
  },
  {
   "cell_type": "markdown",
   "metadata": {},
   "source": [
    "### Confusion matrix"
   ]
  },
  {
   "cell_type": "code",
   "execution_count": 134,
   "metadata": {},
   "outputs": [
    {
     "data": {
      "image/png": "[encoded data removed]",
      "text/plain": [
       "<Figure size 504x360 with 2 Axes>"
      ]
     },
     "metadata": {},
     "output_type": "display_data"
    }
   ],
   "source": [
    "from sklearn.metrics import confusion_matrix\n",
    "conf_mx = confusion_matrix(y_val, y_pred)\n",
    "\n",
    "fig = print_confusion_matrix(\n",
    "    conf_mx, \n",
    "    class_names.values(), \n",
    "    figsize=(7,5)\n",
    ")\n",
    "\n",
    "# Finalize the plot\n",
    "sns.despine(bottom=True)\n",
    "plt.tight_layout(h_pad=2)\n",
    "\n",
    "# Saving plot\n",
    "fig.savefig('img/tf-idf/val_confusion_mx.png', dpi=200)"
   ]
  },
  {
   "cell_type": "markdown",
   "metadata": {},
   "source": [
    "### False Positive / Negative"
   ]
  },
  {
   "cell_type": "code",
   "execution_count": 25,
   "metadata": {},
   "outputs": [],
   "source": [
    "false_pos = X_val[(y_val == -1) & (y_pred == 1)]\n",
    "false_neg = X_val[(y_val == 1) & (y_pred == -1)]"
   ]
  },
  {
   "cell_type": "code",
   "execution_count": 26,
   "metadata": {},
   "outputs": [
    {
     "data": {
      "text/html": [
       "<div>\n",
       "<style scoped>\n",
       "    .dataframe tbody tr th:only-of-type {\n",
       "        vertical-align: middle;\n",
       "    }\n",
       "\n",
       "    .dataframe tbody tr th {\n",
       "        vertical-align: top;\n",
       "    }\n",
       "\n",
       "    .dataframe thead th {\n",
       "        text-align: right;\n",
       "    }\n",
       "</style>\n",
       "<table border=\"1\" class=\"dataframe\">\n",
       "  <thead>\n",
       "    <tr style=\"text-align: right;\">\n",
       "      <th></th>\n",
       "      <th>0</th>\n",
       "    </tr>\n",
       "  </thead>\n",
       "  <tbody>\n",
       "    <tr>\n",
       "      <th>0</th>\n",
       "      <td>J'y suis allée par affection pour Ramzy et pour Antony Sonigo, que j'aimerai bien un jour voir dans un bon film... Doux rêve inaccessible ? Encore une comédie française lamentable. les auteurs du scénario croient donc s'adresser à des spectateurs quiont du pop corn à la place des neurones ? une comedie triste : tout ce qui fait fuir.</td>\n",
       "    </tr>\n",
       "    <tr>\n",
       "      <th>1</th>\n",
       "      <td>Scènes montrant l'homosexualité des 2 jeunes sont désagréables à regarder. La critique sociale est faible. Tout fait trop théâtre, on ne change presque jamais de lieu... Day-Lewis très bon.</td>\n",
       "    </tr>\n",
       "    <tr>\n",
       "      <th>2</th>\n",
       "      <td>Après l'énorme réussite du premier volet, on était en droit d'attendre mieux de cette suite. En effet, ce film est décevant. Tout d'abord le choix du contexte : un groupe de militaires ce retrouvant piégé dans ces collines. Le fait que ce soit des Hommes armés et entrainés qui se fassent massacrer fait que l'on se sent moins impliqué et moins horrifié par ce qui leurs arrivent. De plus si c'est cela l'armée américaine.... no comment u_u'. Les personnages, que ce soit les humains ou les mutants, sont moins développés. Néanmoins les meurtres sont sympas et bien sanglants et après tout on vient voir ce genre de film avant tout pour cela.</td>\n",
       "    </tr>\n",
       "    <tr>\n",
       "      <th>3</th>\n",
       "      <td>les promesses de ce film furent grandes: Film tiré d'une histoire vraie d'un homme de couleur à l'heure noire des USA. Il n'en fut rien... Ce film nous montre l'humanité sous son pire jour. Comme si seuls les clivages existaient et avaient du sens: Soit tu es un méchant blancs anti-noirs (tous les blancs détestent les noirs), soit tu es noir et dans ce cas 2 catégories: le noir animal et soumis, version hybride d'un labrador et d'un semi homme, soit une bête assoiffée de violence. Vous l'aurez compris, dans ce film, peu de place pour l'Humanité (avec un grand H). L'égalité n'a pas sa place. L'Histoire (avec un grand H) n'y sera jamais incluse. Ou est le discours de Martin Luther King ayant vu les Hommes (peu importe leur couleur) se lever pour l'égalité? Qu'en est il de son prix nobel? Pourquoi seule sa mort et celle de Kennedy (présenté comme l'unique président des USA pour l'égalité) ne fut elle mise en avant??? Qu'en est il de la loi sous Johnson visant ayant institué l'égalité devant le vote? De la décoration posthume de King par Carter marquant le symbole d'une union du peuple Américain? Qu'en est il de Clinton? Des mobilisation pro Angela Davis ayant mobilisé blancs et noirs lors de son éviction de UCLA??? On nous parle de droits et de non droits du peuple noir... Pas d'égalité de l'Homme (avec un grand H j'insiste) dans sa diversité, comme si il n'en fut, n'en est, et n'en sera question à aucun moment de notre Histoire. Moment fort? lorsque ce brave majordome obtient une promotion après 20 ans de bons et loyaux services, suite à l'approbation d'un président présenté comme pro Apartheid en Afrique du Sud. Veut on nous dire que seule sa loyauté rend cela possible? L'humanité et l'égalité se gagnerait elle et ne serait donc pas fondamentale? La foule du cinéma applaudira ce passage, le tour de passe passe et lavage de cerveau a fonctionné! Nous voici face à une nouvelle manipulation extrêmes de nos simples esprits visant à nous enfermer dans un passé ne nous ressemblant pas (plus?), auquel la plupart d'entre nous n'a pas participé, mais dans lequel un microcosme veut nous enfermer pour mieux nous faire culpabiliser et nous manipuler: Seigner, j'ai honte de mon héritage, président, montrez moi comment nous racheter... L'Homme est EGAL! Quand va-t-on enfin véhiculer un message d'espoir? Quand va-t-on arrêter de se divertir/délecter de ces périodes sombres d'un passé que nous voulons tous oublier, pour se concentrer vers un futur commun?</td>\n",
       "    </tr>\n",
       "    <tr>\n",
       "      <th>4</th>\n",
       "      <td>Certes Marina Foïs joue incroyablement bien, certes le sujet dont traite Darling est un sujet qu'il faut traiter... Cependant il est traité avec bien trop de dureté pour moi. Difficile à regarder, pas assez de réserve, tout est trop explicite, de nombreuses choses auraient pu être comprises sans être montrées, et auraient été tout aussi touchantes tout en restant regardables... Le jeu des acteurs est très bon, la réalisation l'est, à mon gout, un peu moins.</td>\n",
       "    </tr>\n",
       "  </tbody>\n",
       "</table>\n",
       "</div>"
      ],
      "text/plain": [
       "                                                                                                                                                                                                                                                                                                                                                                                                                                                                                                                                                                                                                                                                                                                                                                                                                                                                                                                                                                                                                                                                                                                                                                                                                                                                                                                                                                                                                                                                                                                                                                                                                                                                                                                                                                                                                                                                                                                                                                                                                                                                                                                                                                                                                                                                                                                                                                                                                                                                                                                                                                                    0\n",
       "0  J'y suis allée par affection pour Ramzy et pour Antony Sonigo, que j'aimerai bien un jour voir dans un bon film... Doux rêve inaccessible ? Encore une comédie française lamentable. les auteurs du scénario croient donc s'adresser à des spectateurs quiont du pop corn à la place des neurones ? une comedie triste : tout ce qui fait fuir.                                                                                                                                                                                                                                                                                                                                                                                                                                                                                                                                                                                                                                                                                                                                                                                                                                                                                                                                                                                                                                                                                                                                                                                                                                                                                                                                                                                                                                                                                                                                                                                                                                                                                                                                                                                                                                                                                                                                                                                                                                                                                                                                                                                                                                   \n",
       "1  Scènes montrant l'homosexualité des 2 jeunes sont désagréables à regarder. La critique sociale est faible. Tout fait trop théâtre, on ne change presque jamais de lieu... Day-Lewis très bon.                                                                                                                                                                                                                                                                                                                                                                                                                                                                                                                                                                                                                                                                                                                                                                                                                                                                                                                                                                                                                                                                                                                                                                                                                                                                                                                                                                                                                                                                                                                                                                                                                                                                                                                                                                                                                                                                                                                                                                                                                                                                                                                                                                                                                                                                                                                                                                                     \n",
       "2  Après l'énorme réussite du premier volet, on était en droit d'attendre mieux de cette suite. En effet, ce film est décevant. Tout d'abord le choix du contexte : un groupe de militaires ce retrouvant piégé dans ces collines. Le fait que ce soit des Hommes armés et entrainés qui se fassent massacrer fait que l'on se sent moins impliqué et moins horrifié par ce qui leurs arrivent. De plus si c'est cela l'armée américaine.... no comment u_u'. Les personnages, que ce soit les humains ou les mutants, sont moins développés. Néanmoins les meurtres sont sympas et bien sanglants et après tout on vient voir ce genre de film avant tout pour cela.                                                                                                                                                                                                                                                                                                                                                                                                                                                                                                                                                                                                                                                                                                                                                                                                                                                                                                                                                                                                                                                                                                                                                                                                                                                                                                                                                                                                                                                                                                                                                                                                                                                                                                                                                                                                                                                                                                                \n",
       "3  les promesses de ce film furent grandes: Film tiré d'une histoire vraie d'un homme de couleur à l'heure noire des USA. Il n'en fut rien... Ce film nous montre l'humanité sous son pire jour. Comme si seuls les clivages existaient et avaient du sens: Soit tu es un méchant blancs anti-noirs (tous les blancs détestent les noirs), soit tu es noir et dans ce cas 2 catégories: le noir animal et soumis, version hybride d'un labrador et d'un semi homme, soit une bête assoiffée de violence. Vous l'aurez compris, dans ce film, peu de place pour l'Humanité (avec un grand H). L'égalité n'a pas sa place. L'Histoire (avec un grand H) n'y sera jamais incluse. Ou est le discours de Martin Luther King ayant vu les Hommes (peu importe leur couleur) se lever pour l'égalité? Qu'en est il de son prix nobel? Pourquoi seule sa mort et celle de Kennedy (présenté comme l'unique président des USA pour l'égalité) ne fut elle mise en avant??? Qu'en est il de la loi sous Johnson visant ayant institué l'égalité devant le vote? De la décoration posthume de King par Carter marquant le symbole d'une union du peuple Américain? Qu'en est il de Clinton? Des mobilisation pro Angela Davis ayant mobilisé blancs et noirs lors de son éviction de UCLA??? On nous parle de droits et de non droits du peuple noir... Pas d'égalité de l'Homme (avec un grand H j'insiste) dans sa diversité, comme si il n'en fut, n'en est, et n'en sera question à aucun moment de notre Histoire. Moment fort? lorsque ce brave majordome obtient une promotion après 20 ans de bons et loyaux services, suite à l'approbation d'un président présenté comme pro Apartheid en Afrique du Sud. Veut on nous dire que seule sa loyauté rend cela possible? L'humanité et l'égalité se gagnerait elle et ne serait donc pas fondamentale? La foule du cinéma applaudira ce passage, le tour de passe passe et lavage de cerveau a fonctionné! Nous voici face à une nouvelle manipulation extrêmes de nos simples esprits visant à nous enfermer dans un passé ne nous ressemblant pas (plus?), auquel la plupart d'entre nous n'a pas participé, mais dans lequel un microcosme veut nous enfermer pour mieux nous faire culpabiliser et nous manipuler: Seigner, j'ai honte de mon héritage, président, montrez moi comment nous racheter... L'Homme est EGAL! Quand va-t-on enfin véhiculer un message d'espoir? Quand va-t-on arrêter de se divertir/délecter de ces périodes sombres d'un passé que nous voulons tous oublier, pour se concentrer vers un futur commun?\n",
       "4  Certes Marina Foïs joue incroyablement bien, certes le sujet dont traite Darling est un sujet qu'il faut traiter... Cependant il est traité avec bien trop de dureté pour moi. Difficile à regarder, pas assez de réserve, tout est trop explicite, de nombreuses choses auraient pu être comprises sans être montrées, et auraient été tout aussi touchantes tout en restant regardables... Le jeu des acteurs est très bon, la réalisation l'est, à mon gout, un peu moins.                                                                                                                                                                                                                                                                                                                                                                                                                                                                                                                                                                                                                                                                                                                                                                                                                                                                                                                                                                                                                                                                                                                                                                                                                                                                                                                                                                                                                                                                                                                                                                                                                                                                                                                                                                                                                                                                                                                                                                                                                                                                                                     "
      ]
     },
     "execution_count": 26,
     "metadata": {},
     "output_type": "execute_result"
    }
   ],
   "source": [
    "pd.DataFrame(false_pos[:5])"
   ]
  },
  {
   "cell_type": "code",
   "execution_count": 386,
   "metadata": {
    "scrolled": false
   },
   "outputs": [
    {
     "data": {
      "text/html": [
       "<div>\n",
       "<style scoped>\n",
       "    .dataframe tbody tr th:only-of-type {\n",
       "        vertical-align: middle;\n",
       "    }\n",
       "\n",
       "    .dataframe tbody tr th {\n",
       "        vertical-align: top;\n",
       "    }\n",
       "\n",
       "    .dataframe thead th {\n",
       "        text-align: right;\n",
       "    }\n",
       "</style>\n",
       "<table border=\"1\" class=\"dataframe\">\n",
       "  <thead>\n",
       "    <tr style=\"text-align: right;\">\n",
       "      <th></th>\n",
       "      <th>0</th>\n",
       "    </tr>\n",
       "  </thead>\n",
       "  <tbody>\n",
       "    <tr>\n",
       "      <th>0</th>\n",
       "      <td>Le titre original aurait sans doute mieux convenu tant le message est aujourd'hui universel. Jia nous donne des nouvelles de la Chine et sans doute un peu du Monde.</td>\n",
       "    </tr>\n",
       "    <tr>\n",
       "      <th>1</th>\n",
       "      <td>Pas vraiment mon genre de films car pas de SF, de comique ou d'action.Mais alors, qu'est-ce qu'il est prenant ! On nage dans le glauque mais l'imprégnation dans cette atmosphère est pudique.C'est un film conçu par des gens matures.Du coup j'irais voir les autres films du réalisateur.</td>\n",
       "    </tr>\n",
       "    <tr>\n",
       "      <th>2</th>\n",
       "      <td>Je l'ai regardé à l'instant avec mon petit frère sur internet. Je m'attendais à un navet comme il s'en fait beaucoup depuis de nombreuses années et franchement j'ai étais surpris. Bien entendu ce n'était pas un film exceptionnel mais la qualité était bonne, les mises en scènes intéressantes, les effets spéciaux étaient loin d'être mauvais et j'ai eu mon lot de \"oh bordel\". Seul point négatif : beaucoup de scènes étaient prévisibles et on s'en amusait à parier sur beaucoup de choses. Si il fallait noter concrètement j'aurai mis la note de 6,75/10</td>\n",
       "    </tr>\n",
       "    <tr>\n",
       "      <th>3</th>\n",
       "      <td>Almost blind and horribly egoist, the nemesis must buy some parcels to enter his revenge and retake which belongs actually to him in this new western happening during the civil war. Again, stereotypes are sublimated allowing the birth of a total masterpiece.</td>\n",
       "    </tr>\n",
       "    <tr>\n",
       "      <th>4</th>\n",
       "      <td>Je ne serais pas dur dans ma notation car il ne faut pas bouder son plaisir : c'est divertissant! De plus, le duo d'acteurs est convaincant, et les seconds rôles qui les entourent également. Sans être pliant, c'est marrant et on ne s'ennuie pas spécialement durant 1H30. Mais alors, c'est quoi le hic??? Bin c'est que sortit en Aout 1998, \"Un cadavre sur le campus\" est littérallement le copier-coller de \"Cursus fatal\" , sortit jour pour jour 1 an avant...donc piquer le scénario d'un autre, pour le ressortir l'année d'après en pleine période d'été comme son prédecesseur, j'appelle ça du commerce pur et simple, et non du cinéma. Tiens, en fait je suis un peu dur! Notons tout de même que le film prend une tournure nettement moins morbide que \"Cursus Fatal\", et se veut plus comique, et donc dire que je n'ai pas passé un bon moment serait faux.</td>\n",
       "    </tr>\n",
       "  </tbody>\n",
       "</table>\n",
       "</div>"
      ],
      "text/plain": [
       "                                                                                                                                                                                                                                                                                                                                                                                                                                                                                                                                                                                                                                                                                                                                                                                                                                                                                   0\n",
       "0  Le titre original aurait sans doute mieux convenu tant le message est aujourd'hui universel. Jia nous donne des nouvelles de la Chine et sans doute un peu du Monde.                                                                                                                                                                                                                                                                                                                                                                                                                                                                                                                                                                                                                                                                                                             \n",
       "1  Pas vraiment mon genre de films car pas de SF, de comique ou d'action.Mais alors, qu'est-ce qu'il est prenant ! On nage dans le glauque mais l'imprégnation dans cette atmosphère est pudique.C'est un film conçu par des gens matures.Du coup j'irais voir les autres films du réalisateur.                                                                                                                                                                                                                                                                                                                                                                                                                                                                                                                                                                                     \n",
       "2  Je l'ai regardé à l'instant avec mon petit frère sur internet. Je m'attendais à un navet comme il s'en fait beaucoup depuis de nombreuses années et franchement j'ai étais surpris. Bien entendu ce n'était pas un film exceptionnel mais la qualité était bonne, les mises en scènes intéressantes, les effets spéciaux étaient loin d'être mauvais et j'ai eu mon lot de \"oh bordel\". Seul point négatif : beaucoup de scènes étaient prévisibles et on s'en amusait à parier sur beaucoup de choses. Si il fallait noter concrètement j'aurai mis la note de 6,75/10                                                                                                                                                                                                                                                                                                          \n",
       "3  Almost blind and horribly egoist, the nemesis must buy some parcels to enter his revenge and retake which belongs actually to him in this new western happening during the civil war. Again, stereotypes are sublimated allowing the birth of a total masterpiece.                                                                                                                                                                                                                                                                                                                                                                                                                                                                                                                                                                                                               \n",
       "4  Je ne serais pas dur dans ma notation car il ne faut pas bouder son plaisir : c'est divertissant! De plus, le duo d'acteurs est convaincant, et les seconds rôles qui les entourent également. Sans être pliant, c'est marrant et on ne s'ennuie pas spécialement durant 1H30. Mais alors, c'est quoi le hic??? Bin c'est que sortit en Aout 1998, \"Un cadavre sur le campus\" est littérallement le copier-coller de \"Cursus fatal\" , sortit jour pour jour 1 an avant...donc piquer le scénario d'un autre, pour le ressortir l'année d'après en pleine période d'été comme son prédecesseur, j'appelle ça du commerce pur et simple, et non du cinéma. Tiens, en fait je suis un peu dur! Notons tout de même que le film prend une tournure nettement moins morbide que \"Cursus Fatal\", et se veut plus comique, et donc dire que je n'ai pas passé un bon moment serait faux."
      ]
     },
     "execution_count": 386,
     "metadata": {},
     "output_type": "execute_result"
    }
   ],
   "source": [
    "pd.DataFrame(false_neg[:5])"
   ]
  },
  {
   "cell_type": "markdown",
   "metadata": {},
   "source": [
    "# Testing best model"
   ]
  },
  {
   "cell_type": "code",
   "execution_count": 135,
   "metadata": {},
   "outputs": [
    {
     "name": "stdout",
     "output_type": "stream",
     "text": [
      "Test Accuracy: 0.91\n",
      "Test F1-Score: 0.91\n",
      "\n",
      "              precision    recall  f1-score   support\n",
      "\n",
      "    Negative       0.93      0.90      0.91      2018\n",
      "    Positive       0.90      0.93      0.91      1983\n",
      "\n",
      "    accuracy                           0.91      4001\n",
      "   macro avg       0.91      0.91      0.91      4001\n",
      "weighted avg       0.91      0.91      0.91      4001\n",
      "\n"
     ]
    }
   ],
   "source": [
    "y_pred = best_clf.predict(X_test)\n",
    "print(\"Test Accuracy: {:.2f}\".format(metrics.accuracy_score(y_test, y_pred)))\n",
    "print(\"Test F1-Score: {:.2f}\".format(metrics.f1_score(y_test, y_pred)))\n",
    "print()\n",
    "\n",
    "report = metrics.classification_report(\n",
    "    y_test, y_pred, \n",
    "    target_names=class_names.values()\n",
    ")\n",
    "print(report)"
   ]
  },
  {
   "cell_type": "code",
   "execution_count": 136,
   "metadata": {},
   "outputs": [
    {
     "data": {
      "image/png": "[encoded data removed]",
      "text/plain": [
       "<Figure size 504x360 with 2 Axes>"
      ]
     },
     "metadata": {},
     "output_type": "display_data"
    }
   ],
   "source": [
    "from sklearn.metrics import confusion_matrix\n",
    "conf_mx = confusion_matrix(y_test, y_pred)\n",
    "\n",
    "fig = print_confusion_matrix(\n",
    "    conf_mx, \n",
    "    class_names.values(), \n",
    "    figsize=(7,5)\n",
    ")\n",
    "\n",
    "# Finalize the plot\n",
    "sns.despine(bottom=True)\n",
    "plt.tight_layout(h_pad=2)\n",
    "\n",
    "# Saving plot\n",
    "fig.savefig('img/tf-idf/test_confusion_mx.png', dpi=200)"
   ]
  }
 ],
 "metadata": {
  "kernelspec": {
   "display_name": "Python 3",
   "language": "python",
   "name": "python3"
  },
  "language_info": {
   "codemirror_mode": {
    "name": "ipython",
    "version": 3
   },
   "file_extension": ".py",
   "mimetype": "text/x-python",
   "name": "python",
   "nbconvert_exporter": "python",
   "pygments_lexer": "ipython3",
   "version": "3.7.5"
  }
 },
 "nbformat": 4,
 "nbformat_minor": 4
}
