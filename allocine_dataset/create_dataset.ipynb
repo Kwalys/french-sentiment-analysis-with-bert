{
 "cells": [
  {
   "cell_type": "code",
   "execution_count": 6,
   "metadata": {
    "scrolled": true
   },
   "outputs": [],
   "source": [
    "import os\n",
    "import random\n",
    "random.seed(42) \n",
    "\n",
    "import matplotlib.pyplot as plt\n",
    "import pandas as pd\n",
    "import seaborn as sns\n",
    "\n",
    "# Inline plots in Jupyter notebooks\n",
    "%matplotlib inline\n",
    "\n",
    "# better display of review text in dataframes\n",
    "pd.set_option('display.max_colwidth', -1) \n",
    "\n",
    "# Seaborn style\n",
    "sns.set(style=\"whitegrid\")"
   ]
  },
  {
   "cell_type": "markdown",
   "metadata": {},
   "source": [
    "# Load pickle files"
   ]
  },
  {
   "cell_type": "code",
   "execution_count": 2,
   "metadata": {},
   "outputs": [
    {
     "name": "stdout",
     "output_type": "stream",
     "text": [
      "Reading file: pickle/allocine_0.pickle\n",
      "Reading file: pickle/allocine_1.pickle\n",
      "Reading file: pickle/allocine_2.pickle\n",
      "Reading file: pickle/allocine_3.pickle\n",
      "Reading file: pickle/allocine_4.pickle\n",
      "Reading file: pickle/allocine_5.pickle\n",
      "Reading file: pickle/allocine_6.pickle\n",
      "Reading file: pickle/allocine_7.pickle\n",
      "Reading file: pickle/allocine_8.pickle\n",
      "Reading file: pickle/allocine_9.pickle\n",
      "Reading file: pickle/allocine_10.pickle\n",
      "Reading file: pickle/allocine_11.pickle\n",
      "Reading file: pickle/allocine_12.pickle\n",
      "Reading file: pickle/allocine_13.pickle\n",
      "Reading file: pickle/allocine_14.pickle\n",
      "Reading file: pickle/allocine_15.pickle\n",
      "Reading file: pickle/allocine_16.pickle\n",
      "Reading file: pickle/allocine_17.pickle\n",
      "Reading file: pickle/allocine_18.pickle\n",
      "Reading file: pickle/allocine_19.pickle\n",
      "Reading file: pickle/allocine_20.pickle\n",
      "\n",
      "Loaded 384079 reviews !\n"
     ]
    }
   ],
   "source": [
    "PICKLE_DIR = 'pickle'\n",
    "\n",
    "allocine_df = pd.DataFrame()\n",
    "\n",
    "files = [file for file in os.listdir(PICKLE_DIR) if file.endswith(\".pickle\")]\n",
    "files.sort(key=lambda f: int(''.join(filter(str.isdigit, f))))\n",
    "\n",
    "for file in files:\n",
    "    path = os.path.join(PICKLE_DIR, file)\n",
    "    print(\"Reading file: \" + path)\n",
    "    df = pd.read_pickle(path)\n",
    "    allocine_df = allocine_df.append(df, ignore_index=True)\n",
    "    \n",
    "print()\n",
    "print(\"Loaded {} reviews !\".format(len(allocine_df)))"
   ]
  },
  {
   "cell_type": "markdown",
   "metadata": {},
   "source": [
    "# Explore data"
   ]
  },
  {
   "cell_type": "code",
   "execution_count": 3,
   "metadata": {},
   "outputs": [
    {
     "data": {
      "text/html": [
       "<div>\n",
       "<style scoped>\n",
       "    .dataframe tbody tr th:only-of-type {\n",
       "        vertical-align: middle;\n",
       "    }\n",
       "\n",
       "    .dataframe tbody tr th {\n",
       "        vertical-align: top;\n",
       "    }\n",
       "\n",
       "    .dataframe thead th {\n",
       "        text-align: right;\n",
       "    }\n",
       "</style>\n",
       "<table border=\"1\" class=\"dataframe\">\n",
       "  <thead>\n",
       "    <tr style=\"text-align: right;\">\n",
       "      <th></th>\n",
       "      <th>film-url</th>\n",
       "      <th>rating</th>\n",
       "      <th>review</th>\n",
       "      <th>date</th>\n",
       "      <th>helpful</th>\n",
       "      <th>unhelpful</th>\n",
       "    </tr>\n",
       "  </thead>\n",
       "  <tbody>\n",
       "    <tr>\n",
       "      <th>53894</th>\n",
       "      <td>http://www.allocine.fr/film/fichefilm-111632/critiques/spectateurs</td>\n",
       "      <td>1.0</td>\n",
       "      <td>Sans grande surprise, le premier opus de la franchise (il en existe trois actuellement) est dépourvu d’originalité et d’un quelconque intérêt. Sexy Dance (2006) est ultra conventionnel, prévisible au bout de dix minutes et pour un film qui avoisine les 105 minutes, il y en a clairement 45 en trop, entre les répétitions inutiles, les séquences musicales et de danses à rallonges, les répliques mièvres, les disputes et les réconciliations, bref, une sortie en DTV aurait largement suffit ! Espérons que le second volet (2008) et le troisième (2010) seront relever le niveau.</td>\n",
       "      <td>2010-09-21</td>\n",
       "      <td>1</td>\n",
       "      <td>1</td>\n",
       "    </tr>\n",
       "    <tr>\n",
       "      <th>366314</th>\n",
       "      <td>http://www.allocine.fr/film/fichefilm-209558/critiques/spectateurs</td>\n",
       "      <td>3.5</td>\n",
       "      <td>enfin un téléfilm Gulli qui traite des vacances ! un téléfilm très sympathique, bien joué et divertissant pour les moins de 12 ans.</td>\n",
       "      <td>2014-11-14</td>\n",
       "      <td>1</td>\n",
       "      <td>2</td>\n",
       "    </tr>\n",
       "    <tr>\n",
       "      <th>14939</th>\n",
       "      <td>http://www.allocine.fr/film/fichefilm-109788/critiques/spectateurs</td>\n",
       "      <td>5.0</td>\n",
       "      <td>En voyant la multiplication de critiques négatives envers ce monument du cinéma modernes, j'ai re-regardé There Will Be Blood une troisième fois. Et le verdict est toujours le même, on est toujours face à une leçon magistrale de cinéma. Les acteurs sont plus qu'excellents (Day-Lewis comme à son habitude fait exploser le talentomètre, mais aussi le sous-estimé Paul Dano). Les dialogues sont écrits à la perfection. La réalisation est irréprochable, offre certains plans très beaux plans mais arrive à asseoir une ambiance angoissante et poisseuse, appuyé par la musique qui déroute au début mais arrive à nous influencer inconsciemment et instaurer chez le spectateur un profond malaise à certains moments (les dangers du métier de mineur dans une exploitation pétrolière sont parfaitement retranscris à l'écran). Cette ambiance sert une histoire passionnante, celle d'un exploitant misanthrope (de plus en plus détestable) sombrant dans la folie et qui ne cherche qu'une chose: être assez riche pour pouvoir vivre coupé du monde. Tout est parfait, rien que la scène de fin (grand moment, interrogation sur la foi religieuse, le dévoilement de la vraie nature des personnages principaux, le milk-shake, etc) devrait suffire nous faire aimer There Will Be Blood, ou au moins lui reconnaître ses indéniables qualités.</td>\n",
       "      <td>2017-01-11</td>\n",
       "      <td>3</td>\n",
       "      <td>0</td>\n",
       "    </tr>\n",
       "  </tbody>\n",
       "</table>\n",
       "</div>"
      ],
      "text/plain": [
       "                                                                  film-url  \\\n",
       "53894   http://www.allocine.fr/film/fichefilm-111632/critiques/spectateurs   \n",
       "366314  http://www.allocine.fr/film/fichefilm-209558/critiques/spectateurs   \n",
       "14939   http://www.allocine.fr/film/fichefilm-109788/critiques/spectateurs   \n",
       "\n",
       "        rating  \\\n",
       "53894   1.0      \n",
       "366314  3.5      \n",
       "14939   5.0      \n",
       "\n",
       "                                                                                                                                                                                                                                                                                                                                                                                                                                                                                                                                                                                                                                                                                                                                                                                                                                                                                                                                                                                                                                                                                                                                                                                                                                                                                                                                                                       review  \\\n",
       "53894   Sans grande surprise, le premier opus de la franchise (il en existe trois actuellement) est dépourvu d’originalité et d’un quelconque intérêt. Sexy Dance (2006) est ultra conventionnel, prévisible au bout de dix minutes et pour un film qui avoisine les 105 minutes, il y en a clairement 45 en trop, entre les répétitions inutiles, les séquences musicales et de danses à rallonges, les répliques mièvres, les disputes et les réconciliations, bref, une sortie en DTV aurait largement suffit ! Espérons que le second volet (2008) et le troisième (2010) seront relever le niveau.                                                                                                                                                                                                                                                                                                                                                                                                                                                                                                                                                                                                                                                                                                                                                                         \n",
       "366314  enfin un téléfilm Gulli qui traite des vacances ! un téléfilm très sympathique, bien joué et divertissant pour les moins de 12 ans.                                                                                                                                                                                                                                                                                                                                                                                                                                                                                                                                                                                                                                                                                                                                                                                                                                                                                                                                                                                                                                                                                                                                                                                                                                     \n",
       "14939   En voyant la multiplication de critiques négatives envers ce monument du cinéma modernes, j'ai re-regardé There Will Be Blood une troisième fois. Et le verdict est toujours le même, on est toujours face à une leçon magistrale de cinéma. Les acteurs sont plus qu'excellents (Day-Lewis comme à son habitude fait exploser le talentomètre, mais aussi le sous-estimé Paul Dano). Les dialogues sont écrits à la perfection. La réalisation est irréprochable, offre certains plans très beaux plans mais arrive à asseoir une ambiance angoissante et poisseuse, appuyé par la musique qui déroute au début mais arrive à nous influencer inconsciemment et instaurer chez le spectateur un profond malaise à certains moments (les dangers du métier de mineur dans une exploitation pétrolière sont parfaitement retranscris à l'écran). Cette ambiance sert une histoire passionnante, celle d'un exploitant misanthrope (de plus en plus détestable) sombrant dans la folie et qui ne cherche qu'une chose: être assez riche pour pouvoir vivre coupé du monde. Tout est parfait, rien que la scène de fin (grand moment, interrogation sur la foi religieuse, le dévoilement de la vraie nature des personnages principaux, le milk-shake, etc) devrait suffire nous faire aimer There Will Be Blood, ou au moins lui reconnaître ses indéniables qualités.   \n",
       "\n",
       "              date  helpful  unhelpful  \n",
       "53894   2010-09-21  1        1          \n",
       "366314  2014-11-14  1        2          \n",
       "14939   2017-01-11  3        0          "
      ]
     },
     "execution_count": 3,
     "metadata": {},
     "output_type": "execute_result"
    }
   ],
   "source": [
    "allocine_df.sample(3, random_state=42)"
   ]
  },
  {
   "cell_type": "markdown",
   "metadata": {},
   "source": [
    "## Negative reviews"
   ]
  },
  {
   "cell_type": "markdown",
   "metadata": {},
   "source": [
    "We consider a review is negative when its associating rating is less than or equal to 2.0, which includes 4 categories: 0.5, 1.0, 1.5 and 2.0"
   ]
  },
  {
   "cell_type": "code",
   "execution_count": 4,
   "metadata": {
    "scrolled": true
   },
   "outputs": [
    {
     "data": {
      "text/html": [
       "<div>\n",
       "<style scoped>\n",
       "    .dataframe tbody tr th:only-of-type {\n",
       "        vertical-align: middle;\n",
       "    }\n",
       "\n",
       "    .dataframe tbody tr th {\n",
       "        vertical-align: top;\n",
       "    }\n",
       "\n",
       "    .dataframe thead th {\n",
       "        text-align: right;\n",
       "    }\n",
       "</style>\n",
       "<table border=\"1\" class=\"dataframe\">\n",
       "  <thead>\n",
       "    <tr style=\"text-align: right;\">\n",
       "      <th></th>\n",
       "      <th>film-url</th>\n",
       "      <th>rating</th>\n",
       "      <th>review</th>\n",
       "      <th>date</th>\n",
       "      <th>helpful</th>\n",
       "      <th>unhelpful</th>\n",
       "    </tr>\n",
       "  </thead>\n",
       "  <tbody>\n",
       "    <tr>\n",
       "      <th>320352</th>\n",
       "      <td>http://www.allocine.fr/film/fichefilm-131749/critiques/spectateurs</td>\n",
       "      <td>0.5</td>\n",
       "      <td>Le film m'a semblé interminable, et pourtant il dure à peine 1h30.\\r\\nUne compilation de fausses bonnes idées, pour un scénario que mon neveu de 12 ans n'aurait aucun mal à écrire. Les personnages sont stupides, les situations convenues, et les dialogues désesperant.\\r\\nLa mise en scéne simplette ( alors qu'on sent le metteur en scéne tres content de lui ), et le charisme proche de celui d'une moule de l'acteur principal font de ce film un spectacle affligeant.</td>\n",
       "      <td>2009-02-02</td>\n",
       "      <td>0</td>\n",
       "      <td>1</td>\n",
       "    </tr>\n",
       "    <tr>\n",
       "      <th>332411</th>\n",
       "      <td>http://www.allocine.fr/film/fichefilm-41414/critiques/spectateurs</td>\n",
       "      <td>1.5</td>\n",
       "      <td>Un film excessivement mauvais et très ennuyeux, c'est fâcheux.</td>\n",
       "      <td>2012-12-17</td>\n",
       "      <td>0</td>\n",
       "      <td>1</td>\n",
       "    </tr>\n",
       "    <tr>\n",
       "      <th>293009</th>\n",
       "      <td>http://www.allocine.fr/film/fichefilm-73848/critiques/spectateurs</td>\n",
       "      <td>0.5</td>\n",
       "      <td>Impossible d'accrocher tellement c'est mauvais...</td>\n",
       "      <td>2007-10-11</td>\n",
       "      <td>0</td>\n",
       "      <td>1</td>\n",
       "    </tr>\n",
       "  </tbody>\n",
       "</table>\n",
       "</div>"
      ],
      "text/plain": [
       "                                                                  film-url  \\\n",
       "320352  http://www.allocine.fr/film/fichefilm-131749/critiques/spectateurs   \n",
       "332411  http://www.allocine.fr/film/fichefilm-41414/critiques/spectateurs    \n",
       "293009  http://www.allocine.fr/film/fichefilm-73848/critiques/spectateurs    \n",
       "\n",
       "        rating  \\\n",
       "320352  0.5      \n",
       "332411  1.5      \n",
       "293009  0.5      \n",
       "\n",
       "                                                                                                                                                                                                                                                                                                                                                                                                                                                                                   review  \\\n",
       "320352  Le film m'a semblé interminable, et pourtant il dure à peine 1h30.\\r\\nUne compilation de fausses bonnes idées, pour un scénario que mon neveu de 12 ans n'aurait aucun mal à écrire. Les personnages sont stupides, les situations convenues, et les dialogues désesperant.\\r\\nLa mise en scéne simplette ( alors qu'on sent le metteur en scéne tres content de lui ), et le charisme proche de celui d'une moule de l'acteur principal font de ce film un spectacle affligeant.   \n",
       "332411  Un film excessivement mauvais et très ennuyeux, c'est fâcheux.                                                                                                                                                                                                                                                                                                                                                                                                                      \n",
       "293009  Impossible d'accrocher tellement c'est mauvais...                                                                                                                                                                                                                                                                                                                                                                                                                                   \n",
       "\n",
       "              date  helpful  unhelpful  \n",
       "320352  2009-02-02  0        1          \n",
       "332411  2012-12-17  0        1          \n",
       "293009  2007-10-11  0        1          "
      ]
     },
     "execution_count": 4,
     "metadata": {},
     "output_type": "execute_result"
    }
   ],
   "source": [
    "negative_reviews = allocine_df[allocine_df['rating'] <= 2.0]\n",
    "negative_reviews.sample(3, random_state=42)"
   ]
  },
  {
   "cell_type": "markdown",
   "metadata": {},
   "source": [
    "## Positive reviews"
   ]
  },
  {
   "cell_type": "markdown",
   "metadata": {},
   "source": [
    "We consider a review is positive when its associating rating is greater than or equal to to 4.0, which includes 3 categories: 4.0, 4.5 and 5.0"
   ]
  },
  {
   "cell_type": "code",
   "execution_count": 5,
   "metadata": {},
   "outputs": [
    {
     "data": {
      "text/html": [
       "<div>\n",
       "<style scoped>\n",
       "    .dataframe tbody tr th:only-of-type {\n",
       "        vertical-align: middle;\n",
       "    }\n",
       "\n",
       "    .dataframe tbody tr th {\n",
       "        vertical-align: top;\n",
       "    }\n",
       "\n",
       "    .dataframe thead th {\n",
       "        text-align: right;\n",
       "    }\n",
       "</style>\n",
       "<table border=\"1\" class=\"dataframe\">\n",
       "  <thead>\n",
       "    <tr style=\"text-align: right;\">\n",
       "      <th></th>\n",
       "      <th>film-url</th>\n",
       "      <th>rating</th>\n",
       "      <th>review</th>\n",
       "      <th>date</th>\n",
       "      <th>helpful</th>\n",
       "      <th>unhelpful</th>\n",
       "    </tr>\n",
       "  </thead>\n",
       "  <tbody>\n",
       "    <tr>\n",
       "      <th>153779</th>\n",
       "      <td>http://www.allocine.fr/film/fichefilm-242131/critiques/spectateurs</td>\n",
       "      <td>4.0</td>\n",
       "      <td>Le film, porté par une Virginie Efira au sommet de son art, charme par la concision de sa mise en scène et la justesse des rapports entre mère et fils. \\n\\nLA SUITE :</td>\n",
       "      <td>2017-03-30</td>\n",
       "      <td>1</td>\n",
       "      <td>0</td>\n",
       "    </tr>\n",
       "    <tr>\n",
       "      <th>304158</th>\n",
       "      <td>http://www.allocine.fr/film/fichefilm-121048/critiques/spectateurs</td>\n",
       "      <td>5.0</td>\n",
       "      <td>Quel que soit votre âge, si vieillir vous fait peur, courez vite voir ce film. Réalisé à Madrid par le cinéaste argentin Marcos Carnevale, \"Elsa &amp; Fred\" est une merveilleuse histoire d'amour entre une adolescente de 82 ans, d'origine argentine, fofolle et menteuse, et un jeune veuf de 77 ans, au départ plutôt hypocondriaque. Ce qui se passe entre eux ainsi que les rapports qu'ils entretiennent avec leurs enfants nous entraînent dans un récit à la fois émouvant et drôle, jamais vulgaire. Ce film a un charme fou et les 2 acteurs, China Zorrilla et Manuel Alexandre, sont absolument parfaits. S'il y avait une justice dans le monde du cinéma, ce film dépasserait les 10 millions de spectateurs, avec 99 % de taux de satisfaction.</td>\n",
       "      <td>2006-12-20</td>\n",
       "      <td>0</td>\n",
       "      <td>0</td>\n",
       "    </tr>\n",
       "    <tr>\n",
       "      <th>108277</th>\n",
       "      <td>http://www.allocine.fr/film/fichefilm-105494/critiques/spectateurs</td>\n",
       "      <td>4.0</td>\n",
       "      <td>Dans son premier long-métrage, Gaspar Noé nous plonge dans la descente aux enfers d'un personnage tellement empli de haine envers lui-même et le reste du monde que l'expérience de visionnage en devient un énorme choc, presque cathartique tellement le spectateur se noie dans un récit français engoncé dans la misère d'une humanité cruellement réaliste, mais autant désespérée et juste que particulièrement sordide et dépressive. Difficile donc de savoir quoi en tirer, la violence constante du personnage virant souvent dans le racisme et l'homophobie, ne nonobstant pas non plus le fait que nombre de séquences, voire une en particulier, ont réussi à complètement me déstabiliser, ce qui est assez rare pour être souligné. En bref, une expérience marquante mais volontairement provocatrice, et cela bien que Noé, avec son montage en coup de hachoir et une capacité très palpable à créer des atmosphères étouffantes et sensitives (les scènes finales par exemple sont une fantastique démonstration de comment instiguer une complète perte de repère qui dérange et déstabilise le spectateur), laisse toutefois une marque indéniable dans le cinéma français. Et laisser une marque, bien évidemment que Gaspar Noé le fait dès son premier long-métrage, à l'époque bien remarqué avec le « Prix Très Spécial » du Festival de Cannes de la même année. Abandonnez ainsi tout autre candidat, Seul Contre Tous est peut-être le film le plus nihiliste des années 90.</td>\n",
       "      <td>2017-03-01</td>\n",
       "      <td>3</td>\n",
       "      <td>0</td>\n",
       "    </tr>\n",
       "  </tbody>\n",
       "</table>\n",
       "</div>"
      ],
      "text/plain": [
       "                                                                  film-url  \\\n",
       "153779  http://www.allocine.fr/film/fichefilm-242131/critiques/spectateurs   \n",
       "304158  http://www.allocine.fr/film/fichefilm-121048/critiques/spectateurs   \n",
       "108277  http://www.allocine.fr/film/fichefilm-105494/critiques/spectateurs   \n",
       "\n",
       "        rating  \\\n",
       "153779  4.0      \n",
       "304158  5.0      \n",
       "108277  4.0      \n",
       "\n",
       "                                                                                                                                                                                                                                                                                                                                                                                                                                                                                                                                                                                                                                                                                                                                                                                                                                                                                                                                                                                                                                                                                                                                                                                                                                                                                                                                                                                                                                                                                                            review  \\\n",
       "153779  Le film, porté par une Virginie Efira au sommet de son art, charme par la concision de sa mise en scène et la justesse des rapports entre mère et fils. \\n\\nLA SUITE :                                                                                                                                                                                                                                                                                                                                                                                                                                                                                                                                                                                                                                                                                                                                                                                                                                                                                                                                                                                                                                                                                                                                                                                                                                                                                                                                       \n",
       "304158  Quel que soit votre âge, si vieillir vous fait peur, courez vite voir ce film. Réalisé à Madrid par le cinéaste argentin Marcos Carnevale, \"Elsa & Fred\" est une merveilleuse histoire d'amour entre une adolescente de 82 ans, d'origine argentine, fofolle et menteuse, et un jeune veuf de 77 ans, au départ plutôt hypocondriaque. Ce qui se passe entre eux ainsi que les rapports qu'ils entretiennent avec leurs enfants nous entraînent dans un récit à la fois émouvant et drôle, jamais vulgaire. Ce film a un charme fou et les 2 acteurs, China Zorrilla et Manuel Alexandre, sont absolument parfaits. S'il y avait une justice dans le monde du cinéma, ce film dépasserait les 10 millions de spectateurs, avec 99 % de taux de satisfaction.                                                                                                                                                                                                                                                                                                                                                                                                                                                                                                                                                                                                                                                                                                                                                 \n",
       "108277  Dans son premier long-métrage, Gaspar Noé nous plonge dans la descente aux enfers d'un personnage tellement empli de haine envers lui-même et le reste du monde que l'expérience de visionnage en devient un énorme choc, presque cathartique tellement le spectateur se noie dans un récit français engoncé dans la misère d'une humanité cruellement réaliste, mais autant désespérée et juste que particulièrement sordide et dépressive. Difficile donc de savoir quoi en tirer, la violence constante du personnage virant souvent dans le racisme et l'homophobie, ne nonobstant pas non plus le fait que nombre de séquences, voire une en particulier, ont réussi à complètement me déstabiliser, ce qui est assez rare pour être souligné. En bref, une expérience marquante mais volontairement provocatrice, et cela bien que Noé, avec son montage en coup de hachoir et une capacité très palpable à créer des atmosphères étouffantes et sensitives (les scènes finales par exemple sont une fantastique démonstration de comment instiguer une complète perte de repère qui dérange et déstabilise le spectateur), laisse toutefois une marque indéniable dans le cinéma français. Et laisser une marque, bien évidemment que Gaspar Noé le fait dès son premier long-métrage, à l'époque bien remarqué avec le « Prix Très Spécial » du Festival de Cannes de la même année. Abandonnez ainsi tout autre candidat, Seul Contre Tous est peut-être le film le plus nihiliste des années 90.   \n",
       "\n",
       "              date  helpful  unhelpful  \n",
       "153779  2017-03-30  1        0          \n",
       "304158  2006-12-20  0        0          \n",
       "108277  2017-03-01  3        0          "
      ]
     },
     "execution_count": 5,
     "metadata": {},
     "output_type": "execute_result"
    }
   ],
   "source": [
    "positive_reviews = allocine_df[allocine_df['rating'] >= 4.0]\n",
    "positive_reviews.sample(3, random_state=42)"
   ]
  },
  {
   "cell_type": "markdown",
   "metadata": {},
   "source": [
    "## Rating counts"
   ]
  },
  {
   "cell_type": "code",
   "execution_count": 7,
   "metadata": {},
   "outputs": [
    {
     "data": {
      "image/png": "[encoded data removed]",
      "text/plain": [
       "<Figure size 576x360 with 1 Axes>"
      ]
     },
     "metadata": {},
     "output_type": "display_data"
    }
   ],
   "source": [
    "plt.figure(figsize=(8,5))\n",
    "\n",
    "goodbad_palette = sns.color_palette(\"RdYlGn_r\", n_colors=10)\n",
    "goodbad_palette.reverse()\n",
    "\n",
    "ax = sns.countplot(data=allocine_df, x='rating', palette=goodbad_palette)\n",
    "ax.set(xlabel='Rating', ylabel='')\n",
    "\n",
    "# Finalize the plot\n",
    "sns.despine(bottom=True)\n",
    "plt.tight_layout(h_pad=2)\n",
    "\n",
    "# Saving plot\n",
    "fig = ax.get_figure()\n",
    "fig.savefig('img/rating_counts.png', dpi=200)"
   ]
  },
  {
   "cell_type": "markdown",
   "metadata": {},
   "source": [
    "## Polarity"
   ]
  },
  {
   "cell_type": "code",
   "execution_count": 8,
   "metadata": {
    "scrolled": false
   },
   "outputs": [],
   "source": [
    "def find_polarity(row):\n",
    "    if row['rating'] <= 2.0:\n",
    "        return -1\n",
    "    elif row['rating'] >= 4.0:\n",
    "        return 1\n",
    "    else:\n",
    "        return 0\n",
    "\n",
    "allocine_df['polarity'] = allocine_df.apply(lambda row : find_polarity(row), axis=1) "
   ]
  },
  {
   "cell_type": "code",
   "execution_count": 9,
   "metadata": {},
   "outputs": [
    {
     "data": {
      "image/png": "[encoded data removed]",
      "text/plain": [
       "<Figure size 576x360 with 1 Axes>"
      ]
     },
     "metadata": {},
     "output_type": "display_data"
    }
   ],
   "source": [
    "plt.figure(figsize=(8,5))\n",
    "\n",
    "goodbad_palette = sns.color_palette(\"RdYlGn_r\", n_colors=3)\n",
    "goodbad_palette.reverse()\n",
    "\n",
    "ax = sns.countplot(data=allocine_df, x='polarity', palette=goodbad_palette)\n",
    "ax.set(xlabel='Polarity', ylabel='')\n",
    "ax.set_xticklabels(['Negative', 'Neutral', 'Positive'])\n",
    "\n",
    "# Frenquencies\n",
    "ncount = len(allocine_df)\n",
    "for p in ax.patches:\n",
    "    x=p.get_bbox().get_points()[:,0]\n",
    "    y=p.get_bbox().get_points()[1,1]\n",
    "    ax.annotate('{:.1f}%'.format(100.*y/ncount), (x.mean(), y), \n",
    "            ha='center', va='bottom') # set the alignment of the text\n",
    "\n",
    "# Finalize the plot\n",
    "sns.despine(bottom=True)\n",
    "plt.tight_layout(h_pad=2)\n",
    "\n",
    "# Saving plot\n",
    "fig = ax.get_figure()\n",
    "fig.savefig('img/polarity_frequency.png', dpi=200)"
   ]
  },
  {
   "cell_type": "markdown",
   "metadata": {},
   "source": [
    "## Reviews per year"
   ]
  },
  {
   "cell_type": "code",
   "execution_count": 10,
   "metadata": {},
   "outputs": [],
   "source": [
    "allocine_df['date'] = pd.to_datetime(allocine_df['date'])\n",
    "reviews_per_year = allocine_df.groupby(allocine_df['date'].dt.year).size()"
   ]
  },
  {
   "cell_type": "code",
   "execution_count": 11,
   "metadata": {
    "scrolled": true
   },
   "outputs": [
    {
     "data": {
      "image/png": "[encoded data removed]",
      "text/plain": [
       "<Figure size 576x360 with 1 Axes>"
      ]
     },
     "metadata": {},
     "output_type": "display_data"
    }
   ],
   "source": [
    "plt.figure(figsize=(8,5))\n",
    "ax = sns.barplot(reviews_per_year.index, reviews_per_year.values, palette=\"GnBu_d\")\n",
    "ax.set(xlabel='Year', ylabel='')\n",
    "\n",
    "# Finalize the plot\n",
    "sns.despine(bottom=True)\n",
    "plt.tight_layout(h_pad=2)\n",
    "\n",
    "# Saving plot\n",
    "fig = ax.get_figure()\n",
    "fig.savefig('img/reviews_per_year.png', dpi=200)"
   ]
  },
  {
   "cell_type": "markdown",
   "metadata": {},
   "source": [
    "## Reviews length"
   ]
  },
  {
   "cell_type": "code",
   "execution_count": 12,
   "metadata": {},
   "outputs": [
    {
     "data": {
      "image/png": "[encoded data removed]",
      "text/plain": [
       "<Figure size 720x360 with 1 Axes>"
      ]
     },
     "metadata": {},
     "output_type": "display_data"
    }
   ],
   "source": [
    "reviews_length = allocine_df['review'].str.len()\n",
    "\n",
    "plt.figure(figsize=(10,5))\n",
    "ax = sns.distplot(reviews_length, bins=150, kde=False, hist_kws=dict(alpha=0.8))\n",
    "ax.set(xlabel='Review Length')\n",
    "\n",
    "# Finalize the plot\n",
    "sns.despine(bottom=True)\n",
    "plt.tight_layout(h_pad=2)\n",
    "\n",
    "# Saving plot\n",
    "fig = ax.get_figure()\n",
    "fig.savefig('img/reviews_length.png', dpi=200)"
   ]
  },
  {
   "cell_type": "code",
   "execution_count": 13,
   "metadata": {},
   "outputs": [
    {
     "name": "stdout",
     "output_type": "stream",
     "text": [
      "3956 reviews with LEN > 4000 (1.03 % of total data)\n"
     ]
    }
   ],
   "source": [
    "THRESHOLD = 4000\n",
    "short_reviews = allocine_df[allocine_df['review'].str.len() <= THRESHOLD]\n",
    "long_reviews =  allocine_df[allocine_df['review'].str.len() > THRESHOLD]\n",
    "\n",
    "print(\"{} reviews with LEN > {} ({:.2f} % of total data)\".format(\n",
    "    len(long_reviews),\n",
    "    THRESHOLD,\n",
    "    100 * len(long_reviews) / len(allocine_df)\n",
    "))"
   ]
  },
  {
   "cell_type": "markdown",
   "metadata": {},
   "source": [
    "Example of a long review"
   ]
  },
  {
   "cell_type": "code",
   "execution_count": 14,
   "metadata": {},
   "outputs": [
    {
     "data": {
      "text/html": [
       "<div>\n",
       "<style scoped>\n",
       "    .dataframe tbody tr th:only-of-type {\n",
       "        vertical-align: middle;\n",
       "    }\n",
       "\n",
       "    .dataframe tbody tr th {\n",
       "        vertical-align: top;\n",
       "    }\n",
       "\n",
       "    .dataframe thead th {\n",
       "        text-align: right;\n",
       "    }\n",
       "</style>\n",
       "<table border=\"1\" class=\"dataframe\">\n",
       "  <thead>\n",
       "    <tr style=\"text-align: right;\">\n",
       "      <th></th>\n",
       "      <th>film-url</th>\n",
       "      <th>rating</th>\n",
       "      <th>review</th>\n",
       "      <th>date</th>\n",
       "      <th>helpful</th>\n",
       "      <th>unhelpful</th>\n",
       "      <th>polarity</th>\n",
       "    </tr>\n",
       "  </thead>\n",
       "  <tbody>\n",
       "    <tr>\n",
       "      <th>10</th>\n",
       "      <td>http://www.allocine.fr/film/fichefilm-265567/critiques/spectateurs</td>\n",
       "      <td>2.5</td>\n",
       "      <td>Après Dunkerque et The King, les Anglais nous pondent un énième film sur des guerres qui se sont passé en France mais sans aucun Français… On est complètement effacé de l’histoire.\\nComment peut-on s’émouvoir du sauvetage de 1.600 soldats quand on sait que la première guerre mondiale a fait 10 millions de morts ? \\nLe film avec un seul plan séquence pour impressionner les Oscars.! Les deux soldats sont anti-charismatiques, l’un a une tête de bébé et l’autre a une tête de victime. Ils auraient pu foutre des acteurs virils avec des visages de soldats ! Ça aurait été plus crédible, et on se serait identifié a eux. L’un des deux, Scofield, a un pouvoir surnaturel : il est littéralement invincible. Le mec se prend une explosion, et des dizaines pierres de la taille d’une tête qui le recouvre, 5 secondes après il fait un marathon ! n’importe quoi. Il esquive également toute les balles. Il arrive a esquiver 15 balles d’un sniper posté en hauteur et réussi à le tuer ! Et en plus il chute d’un escalier, se fracasse le crane, et chute aussi d’un torrent sans jamais mourir. Son pote lui n’a pas la eu même chance : au bout d’un tiers du film il sauve un pilote allemand mais celui ci, au lieu de le remercier, le poignarde ! Donc il meurt. Ah là là ces Allemands... Ils n’ont aucune humanité. des vrais nazi dis donc. Mais cette scène est impossible : jamais un simple soldat allemands de la ww1 n’aurait agit de manière aussi barbare. Au contraire, tout les soldats de tout les camps avaient un code d’honneur et n’étaient pas des soldats fanatisé, ils avaient le respect du combattant, traitaient bien ceux qui se rendait et respectaient les drapeaux blancs. Et attention après scène il y a la scène la plus incohérente du film : quand le soldat sert son pote mort dans ses bras, il y a une colonne de soldats britanniques qui passe a coté de lui. QU’EST QU’ILS FOUTENT LA ??? Les deux soldats viennent de traverser le no man’s land, des gallérie ennemis et s’arrêtent a une ferme a 400 mètres des lignes allemandes vide, comment peut-il y avoir des soldats britannique chez eux ? Depuis quand ils sont là ? j’ai rien compris, c’est hallucinant. \\nEnsuite on voit un soldat indien qui lui est très bien mis en valeur, il est rassurant, calme et mature. Certainement pour montrer qu’on doit la victoires aux immigrés… En plus il est stupide de montrer un indien comme ça au milieu de soldats blancs : dans la vraie vie les soldats coloniaux étaient tous ensemble, par régiment, jamais mélangé. \\nLe soldat scolfield est antipathique : son pote lui sauve la vie, et lui il ne lui dit pas merci et se dispute même avec lui ! Et il remercie pas non plus les autres qui l’aident a pousser le camion, puis se barre comme un voleur. Comment voulez-vous qu’on s’attache a un personnage aussi détestable ? Bon, c’est censé se passer en 1917 mais les dialogues et les mimiques des soldats font clairement 2020, je cite « avec les potos... » ou le comportement du lieutenant leslie au début du film, on dirait un jeune fêtard fumeur de joint… Le film dure 1h50 mais il n’y a rien : toute la scène dans le village la nuit, avec la française, est inutile et chiante, les soldats qui ne font que marcher, les scènes de discussion inutiles…\\nDédicace à la scène avec la française où notre pote donne du lait cru non pasteurisé bourré de microbe et de mouche a un bébé… mais il complètement taré ce gars !! \\nL’alchimie entre les deux soldats est bidon : ils se parlent comme si s’était la première fois qui se rencontraient et ont des discussions qu’ils devraient même pas avoir tellement ce qu’ils disent est habituel dans cette guerre… \\nLa scène du village en ruine est rempli d’impossibilité : le sniper qui rate 15 tirs, le gars qui  - en théorie – se prend une balle et tombe dans les escalier mais n’a rien, le village qui brûle, les allemand bourrés et indisciplinés comme des racailles, la française et ses chansons de merdes, la fuite du gars… \\nMais j’avoue que la photographie de Roger Deakins est absolument magnifique et les plans séquences sont incroyablement bien réussie !! c’est immersif et bien fait ; Par exemple a la fin le combo : scène du village + scène de la rivière + scènes du camp + scène de l’assaut + scène avec benedict cumberbatch + scène des blessés est bluffant !! Je met 2,5/5 parce que je me suis quand même bien amusé.</td>\n",
       "      <td>2020-01-16</td>\n",
       "      <td>10</td>\n",
       "      <td>7</td>\n",
       "      <td>0</td>\n",
       "    </tr>\n",
       "  </tbody>\n",
       "</table>\n",
       "</div>"
      ],
      "text/plain": [
       "                                                              film-url  \\\n",
       "10  http://www.allocine.fr/film/fichefilm-265567/critiques/spectateurs   \n",
       "\n",
       "    rating  \\\n",
       "10  2.5      \n",
       "\n",
       "                                                                                                                                                                                                                                                                                                                                                                                                                                                                                                                                                                                                                                                                                                                                                                                                                                                                                                                                                                                                                                                                                                                                                                                                                                                                                                                                                                                                                                                                                                                                                                                                                                                                                                                                                                                                                                                                                                                                                                                                                                                                                                                                                                                                                                                                                                                                                                                                                                                                                                                                                                                                                                                                                                                                                                                                                                                                                                                                                                                                                                                                                                                                                                                                                                                                                                                                                                                                                                                                                                                                                                                                                                                                                                                                                                                                                                                                                                                                                                                                                                                                                                                                                                                                                                                                                                                                                                                                                                                                                                                          review  \\\n",
       "10  Après Dunkerque et The King, les Anglais nous pondent un énième film sur des guerres qui se sont passé en France mais sans aucun Français… On est complètement effacé de l’histoire.\\nComment peut-on s’émouvoir du sauvetage de 1.600 soldats quand on sait que la première guerre mondiale a fait 10 millions de morts ? \\nLe film avec un seul plan séquence pour impressionner les Oscars.! Les deux soldats sont anti-charismatiques, l’un a une tête de bébé et l’autre a une tête de victime. Ils auraient pu foutre des acteurs virils avec des visages de soldats ! Ça aurait été plus crédible, et on se serait identifié a eux. L’un des deux, Scofield, a un pouvoir surnaturel : il est littéralement invincible. Le mec se prend une explosion, et des dizaines pierres de la taille d’une tête qui le recouvre, 5 secondes après il fait un marathon ! n’importe quoi. Il esquive également toute les balles. Il arrive a esquiver 15 balles d’un sniper posté en hauteur et réussi à le tuer ! Et en plus il chute d’un escalier, se fracasse le crane, et chute aussi d’un torrent sans jamais mourir. Son pote lui n’a pas la eu même chance : au bout d’un tiers du film il sauve un pilote allemand mais celui ci, au lieu de le remercier, le poignarde ! Donc il meurt. Ah là là ces Allemands... Ils n’ont aucune humanité. des vrais nazi dis donc. Mais cette scène est impossible : jamais un simple soldat allemands de la ww1 n’aurait agit de manière aussi barbare. Au contraire, tout les soldats de tout les camps avaient un code d’honneur et n’étaient pas des soldats fanatisé, ils avaient le respect du combattant, traitaient bien ceux qui se rendait et respectaient les drapeaux blancs. Et attention après scène il y a la scène la plus incohérente du film : quand le soldat sert son pote mort dans ses bras, il y a une colonne de soldats britanniques qui passe a coté de lui. QU’EST QU’ILS FOUTENT LA ??? Les deux soldats viennent de traverser le no man’s land, des gallérie ennemis et s’arrêtent a une ferme a 400 mètres des lignes allemandes vide, comment peut-il y avoir des soldats britannique chez eux ? Depuis quand ils sont là ? j’ai rien compris, c’est hallucinant. \\nEnsuite on voit un soldat indien qui lui est très bien mis en valeur, il est rassurant, calme et mature. Certainement pour montrer qu’on doit la victoires aux immigrés… En plus il est stupide de montrer un indien comme ça au milieu de soldats blancs : dans la vraie vie les soldats coloniaux étaient tous ensemble, par régiment, jamais mélangé. \\nLe soldat scolfield est antipathique : son pote lui sauve la vie, et lui il ne lui dit pas merci et se dispute même avec lui ! Et il remercie pas non plus les autres qui l’aident a pousser le camion, puis se barre comme un voleur. Comment voulez-vous qu’on s’attache a un personnage aussi détestable ? Bon, c’est censé se passer en 1917 mais les dialogues et les mimiques des soldats font clairement 2020, je cite « avec les potos... » ou le comportement du lieutenant leslie au début du film, on dirait un jeune fêtard fumeur de joint… Le film dure 1h50 mais il n’y a rien : toute la scène dans le village la nuit, avec la française, est inutile et chiante, les soldats qui ne font que marcher, les scènes de discussion inutiles…\\nDédicace à la scène avec la française où notre pote donne du lait cru non pasteurisé bourré de microbe et de mouche a un bébé… mais il complètement taré ce gars !! \\nL’alchimie entre les deux soldats est bidon : ils se parlent comme si s’était la première fois qui se rencontraient et ont des discussions qu’ils devraient même pas avoir tellement ce qu’ils disent est habituel dans cette guerre… \\nLa scène du village en ruine est rempli d’impossibilité : le sniper qui rate 15 tirs, le gars qui  - en théorie – se prend une balle et tombe dans les escalier mais n’a rien, le village qui brûle, les allemand bourrés et indisciplinés comme des racailles, la française et ses chansons de merdes, la fuite du gars… \\nMais j’avoue que la photographie de Roger Deakins est absolument magnifique et les plans séquences sont incroyablement bien réussie !! c’est immersif et bien fait ; Par exemple a la fin le combo : scène du village + scène de la rivière + scènes du camp + scène de l’assaut + scène avec benedict cumberbatch + scène des blessés est bluffant !! Je met 2,5/5 parce que je me suis quand même bien amusé.   \n",
       "\n",
       "         date  helpful  unhelpful  polarity  \n",
       "10 2020-01-16  10       7          0         "
      ]
     },
     "execution_count": 14,
     "metadata": {},
     "output_type": "execute_result"
    }
   ],
   "source": [
    "long_reviews.head(1)"
   ]
  },
  {
   "cell_type": "code",
   "execution_count": 15,
   "metadata": {},
   "outputs": [
    {
     "data": {
      "image/png": "[encoded data removed]",
      "text/plain": [
       "<Figure size 576x360 with 1 Axes>"
      ]
     },
     "metadata": {},
     "output_type": "display_data"
    }
   ],
   "source": [
    "short_reviews_length = short_reviews['review'].str.len()\n",
    "\n",
    "plt.figure(figsize=(8,5))\n",
    "ax = sns.distplot(short_reviews_length, bins=100, kde=False, hist_kws=dict(alpha=0.8))\n",
    "ax.set(xlabel='Review Length')\n",
    "\n",
    "# Finalize the plot\n",
    "sns.despine(bottom=True)\n",
    "plt.tight_layout(h_pad=2)\n",
    "\n",
    "# Saving plot\n",
    "fig = ax.get_figure()\n",
    "fig.savefig('img/short_reviews_length.png', dpi=200)"
   ]
  },
  {
   "cell_type": "code",
   "execution_count": null,
   "metadata": {},
   "outputs": [],
   "source": [
    "# TODO: other analysis ?\n",
    "# Histograms of reviews lengths for each rating (negative reviews are shorter ?)"
   ]
  },
  {
   "cell_type": "code",
   "execution_count": null,
   "metadata": {
    "scrolled": true
   },
   "outputs": [],
   "source": [
    "# Num reviews per film ? => why are we limiting to 30 reviews per film ?"
   ]
  },
  {
   "cell_type": "code",
   "execution_count": null,
   "metadata": {},
   "outputs": [],
   "source": []
  },
  {
   "cell_type": "code",
   "execution_count": null,
   "metadata": {},
   "outputs": [],
   "source": []
  },
  {
   "cell_type": "markdown",
   "metadata": {
    "scrolled": false
   },
   "source": [
    "# Build dataset"
   ]
  },
  {
   "cell_type": "code",
   "execution_count": 16,
   "metadata": {},
   "outputs": [
    {
     "name": "stdout",
     "output_type": "stream",
     "text": [
      "Length: 384079\n"
     ]
    }
   ],
   "source": [
    "dataset_df = allocine_df.copy()\n",
    "initial_len = len(dataset_df)\n",
    "print(\"Length: {}\".format(initial_len))"
   ]
  },
  {
   "cell_type": "markdown",
   "metadata": {},
   "source": [
    "## Remove data we don't need "
   ]
  },
  {
   "cell_type": "code",
   "execution_count": 17,
   "metadata": {},
   "outputs": [],
   "source": [
    "def loss_percentage(df, previous_length):\n",
    "    new_length = len(df)\n",
    "    percentage = 100*(1-(new_length/previous_length))    \n",
    "    return new_length, percentage  "
   ]
  },
  {
   "cell_type": "code",
   "execution_count": 18,
   "metadata": {
    "scrolled": true
   },
   "outputs": [
    {
     "name": "stdout",
     "output_type": "stream",
     "text": [
      "Length: 259210 (-32.5 %)\n",
      "Length: 256353 (-1.1 %)\n",
      "Total loss: (-33.3 %)\n"
     ]
    }
   ],
   "source": [
    "# 1. Drop columns we don't need\n",
    "dataset_df = dataset_df.drop(columns=['rating', 'date', 'helpful', 'unhelpful'])\n",
    "\n",
    "# 2. Drop rows we don't need (neutral polarity)\n",
    "dataset_df = dataset_df[dataset_df['polarity'] != 0]\n",
    "length, percentage = loss_percentage(dataset_df, initial_len)\n",
    "print(\"Length: {} (-{:.1f} %)\".format(length, percentage))\n",
    "\n",
    "# 3. Remove long reviews\n",
    "LENGTH_THRESH = 4000\n",
    "dataset_df = dataset_df[dataset_df['review'].str.len() <= LENGTH_THRESH]\n",
    "length, percentage = loss_percentage(dataset_df, length)\n",
    "print(\"Length: {} (-{:.1f} %)\".format(length, percentage))\n",
    "\n",
    "# 4. Limit number of reviews per film\n",
    "\"\"\"\n",
    "MAX_REVIEWS_PER_FILM = 30\n",
    "grouped = dataset_df.groupby('film-url')\n",
    "for ids in grouped.groups.values():\n",
    "    num_reviews = len(ids)    \n",
    "    if num_reviews > MAX_REVIEWS_PER_FILM:\n",
    "        sampling_size = num_reviews - MAX_REVIEWS_PER_FILM\n",
    "        ids_to_drop = random.sample(list(ids), sampling_size)\n",
    "        dataset_df = dataset_df.drop(ids_to_drop)\n",
    "        \n",
    "length, percentage = loss_percentage(dataset_df, length)\n",
    "print(\"Length: {} (-{:.1f} %)\".format(length, percentage))\n",
    "\"\"\"\n",
    "# Total loss\n",
    "length, percentage = loss_percentage(dataset_df, initial_len)\n",
    "print(\"Total loss: (-{:.1f} %)\".format(percentage))"
   ]
  },
  {
   "cell_type": "code",
   "execution_count": 19,
   "metadata": {},
   "outputs": [
    {
     "data": {
      "text/plain": [
       "polarity\n",
       "-1    105687\n",
       " 1    150666\n",
       "dtype: int64"
      ]
     },
     "execution_count": 19,
     "metadata": {},
     "output_type": "execute_result"
    }
   ],
   "source": [
    "dataset_df.groupby('polarity').size()"
   ]
  },
  {
   "cell_type": "markdown",
   "metadata": {},
   "source": [
    "## Clean review text"
   ]
  },
  {
   "cell_type": "code",
   "execution_count": 20,
   "metadata": {},
   "outputs": [],
   "source": [
    "import re\n",
    "\n",
    "def clean_text(text):\n",
    "    text = text.replace('\\xa0', ' ')\n",
    "    text = text.replace('\\x92', \"'\")\n",
    "    \n",
    "    # Substituting multiple spaces with single space\n",
    "    # Also remove '\\n' and '\\r' occurences\n",
    "    text= re.sub(r'\\s+', ' ', text, flags=re.I)\n",
    "    \n",
    "    return text\n",
    " \n",
    "dataset_df['review'] = dataset_df['review'].apply(clean_text)"
   ]
  },
  {
   "cell_type": "code",
   "execution_count": 21,
   "metadata": {},
   "outputs": [
    {
     "data": {
      "text/html": [
       "<div>\n",
       "<style scoped>\n",
       "    .dataframe tbody tr th:only-of-type {\n",
       "        vertical-align: middle;\n",
       "    }\n",
       "\n",
       "    .dataframe tbody tr th {\n",
       "        vertical-align: top;\n",
       "    }\n",
       "\n",
       "    .dataframe thead th {\n",
       "        text-align: right;\n",
       "    }\n",
       "</style>\n",
       "<table border=\"1\" class=\"dataframe\">\n",
       "  <thead>\n",
       "    <tr style=\"text-align: right;\">\n",
       "      <th></th>\n",
       "      <th>film-url</th>\n",
       "      <th>review</th>\n",
       "      <th>polarity</th>\n",
       "    </tr>\n",
       "  </thead>\n",
       "  <tbody>\n",
       "    <tr>\n",
       "      <th>336107</th>\n",
       "      <td>http://www.allocine.fr/film/fichefilm-9975/critiques/spectateurs</td>\n",
       "      <td>Film mèconnu, \"Cold Fever\" de Fridrik Thor Fridriksson est pourtant un road movie initiatique plein d'humanitè et d'humour! L'argument est original, un jeune japonais (Masatoshi Nagase, impeccable) tente de rejoindre une règion isolèe d'Islande où sont morts ses parents! Sorti discrètement aux States en 1996 (le film a ètè tournè en 1995), c'est une brise d'air frais qui fait du bien et qui donne du baume au coeur parce qu'on aime ce merveilleux pays qu'est l'Islande avec sa nature et ses coutumes, mais surtout parce qu'on s'attache à son personnage principal qui donne ce qu'il faut de mystère pour qu'on ait envie de le suivre à travers ce voyage pas comme les autres puisqu'il est limite surrèaliste! De plus on y retrouve brièvement une actrice rare et formidable, Lili Taylor, dont la spontanèitè et la fraîcheur a sèduit immanquablement le cinèma hollywoodien! Une belle rèussite avec une atmosphère unique...</td>\n",
       "      <td>1</td>\n",
       "    </tr>\n",
       "    <tr>\n",
       "      <th>163786</th>\n",
       "      <td>http://www.allocine.fr/film/fichefilm-26667/critiques/spectateurs</td>\n",
       "      <td>Le film commence bizarrement pour un western, mais la suite se comprend aisément. Il est assez inhabituel de trouver Gregory Peck dans un rôle de mauvais et cynique garçon . King Vidor nous livre un petit chef-d'œuvre bâti sur un solide scénario où les scènes s'enchaînent pour le plus grand plaisir du spectateur. D'abord, les couleurs et les différentes mises en scène renforcent l'atmosphère de chaque séquence, les plus belles se présentant sous un ciel chargé. Ensuite, les différents déroulements offrent leur lot de satisfaction : le cheval de Pearl qui s'emballe rattrapé par Lewt McCanles, la scène avec le pasteur particulièrement cocasse, le regroupement des cowboys sous un ciel de traîne pour empêcher le chemin de fer de traverser les terres du ranch, la confrontation permanente entre les deux frères Lewt (Gregory Peck) et Jesse (Joseph Cotten), l'intransigeance du vieux sénateur plus têtu qu'une bourrique. Certaines scènes sont mémorables comme celle du dressage du cheval par Lewt ou de la mort de Laura Belle au pied du fauteuil roulant du sénateur. Les sentiments et les caractères sont très bien dessinés : le cynisme des uns, la loyauté des autres, sans oublier la versatilité féminine. Seule fausse note, le doublage de la servante noire est assez désagréable, pourquoi lui avoir donné une voix aigue et puérile ! Le ciel rouge du début et de la fin rend le spectacle d'une beauté indicible. Un des meilleurs westerns de tous les temps. Du grand, du très grand cinéma.</td>\n",
       "      <td>1</td>\n",
       "    </tr>\n",
       "    <tr>\n",
       "      <th>129434</th>\n",
       "      <td>http://www.allocine.fr/film/fichefilm-244123/critiques/spectateurs</td>\n",
       "      <td>Une très belle comédie poétique de Ramzy Bedia sur nos solitudes respectives. Formé à l'univers absurde de Quentin Dupieux nous retrouvons ici un brouillage des cartes géographiques avec un environnement nord-américain et d'autres éléments de décor français. Un soin apporté jusqu'au plaques d'immatriculation qui contribuent à nous perdre pour mieux lâcher prise et ne pas résister à l'univers absurde que l'on nous propose. Une bonne distribution pour un beau film.</td>\n",
       "      <td>1</td>\n",
       "    </tr>\n",
       "    <tr>\n",
       "      <th>300182</th>\n",
       "      <td>http://www.allocine.fr/film/fichefilm-58132/critiques/spectateurs</td>\n",
       "      <td>j'ai adoré le film, sans chichi, sans langue de bois, traite du handicap et de ses difficultés, tittof tiens ici un rôle dans lequel on ne l'attend pas et personnellement j'aime !</td>\n",
       "      <td>1</td>\n",
       "    </tr>\n",
       "    <tr>\n",
       "      <th>12827</th>\n",
       "      <td>http://www.allocine.fr/film/fichefilm-254187/critiques/spectateurs</td>\n",
       "      <td>la sirene et le nounours. voila revenu la vraie comédie américaine, pleine de charme, c'est plus que ça, presque un film politique , une oeuvre courageuse et truculente on on s'amuse et réfléchi a la fois, tendre et grivois . les comédiens s'en donnent a coeur joie et Charlize est stupéfiante de beauté d'élégance et de maitrise de son rôle et le nounours séduisant dans sa drôlerie . que c'est bon de retrouver la vraie comédie du temps des géants du noir et blanc.</td>\n",
       "      <td>1</td>\n",
       "    </tr>\n",
       "  </tbody>\n",
       "</table>\n",
       "</div>"
      ],
      "text/plain": [
       "                                                                  film-url  \\\n",
       "336107  http://www.allocine.fr/film/fichefilm-9975/critiques/spectateurs     \n",
       "163786  http://www.allocine.fr/film/fichefilm-26667/critiques/spectateurs    \n",
       "129434  http://www.allocine.fr/film/fichefilm-244123/critiques/spectateurs   \n",
       "300182  http://www.allocine.fr/film/fichefilm-58132/critiques/spectateurs    \n",
       "12827   http://www.allocine.fr/film/fichefilm-254187/critiques/spectateurs   \n",
       "\n",
       "                                                                                                                                                                                                                                                                                                                                                                                                                                                                                                                                                                                                                                                                                                                                                                                                                                                                                                                                                                                                                                                                                                                                                                                                                                                                                                                                                                                                                                                                                                                                                       review  \\\n",
       "336107  Film mèconnu, \"Cold Fever\" de Fridrik Thor Fridriksson est pourtant un road movie initiatique plein d'humanitè et d'humour! L'argument est original, un jeune japonais (Masatoshi Nagase, impeccable) tente de rejoindre une règion isolèe d'Islande où sont morts ses parents! Sorti discrètement aux States en 1996 (le film a ètè tournè en 1995), c'est une brise d'air frais qui fait du bien et qui donne du baume au coeur parce qu'on aime ce merveilleux pays qu'est l'Islande avec sa nature et ses coutumes, mais surtout parce qu'on s'attache à son personnage principal qui donne ce qu'il faut de mystère pour qu'on ait envie de le suivre à travers ce voyage pas comme les autres puisqu'il est limite surrèaliste! De plus on y retrouve brièvement une actrice rare et formidable, Lili Taylor, dont la spontanèitè et la fraîcheur a sèduit immanquablement le cinèma hollywoodien! Une belle rèussite avec une atmosphère unique...                                                                                                                                                                                                                                                                                                                                                                                                                                                                                                                                                                                               \n",
       "163786  Le film commence bizarrement pour un western, mais la suite se comprend aisément. Il est assez inhabituel de trouver Gregory Peck dans un rôle de mauvais et cynique garçon . King Vidor nous livre un petit chef-d'œuvre bâti sur un solide scénario où les scènes s'enchaînent pour le plus grand plaisir du spectateur. D'abord, les couleurs et les différentes mises en scène renforcent l'atmosphère de chaque séquence, les plus belles se présentant sous un ciel chargé. Ensuite, les différents déroulements offrent leur lot de satisfaction : le cheval de Pearl qui s'emballe rattrapé par Lewt McCanles, la scène avec le pasteur particulièrement cocasse, le regroupement des cowboys sous un ciel de traîne pour empêcher le chemin de fer de traverser les terres du ranch, la confrontation permanente entre les deux frères Lewt (Gregory Peck) et Jesse (Joseph Cotten), l'intransigeance du vieux sénateur plus têtu qu'une bourrique. Certaines scènes sont mémorables comme celle du dressage du cheval par Lewt ou de la mort de Laura Belle au pied du fauteuil roulant du sénateur. Les sentiments et les caractères sont très bien dessinés : le cynisme des uns, la loyauté des autres, sans oublier la versatilité féminine. Seule fausse note, le doublage de la servante noire est assez désagréable, pourquoi lui avoir donné une voix aigue et puérile ! Le ciel rouge du début et de la fin rend le spectacle d'une beauté indicible. Un des meilleurs westerns de tous les temps. Du grand, du très grand cinéma.   \n",
       "129434  Une très belle comédie poétique de Ramzy Bedia sur nos solitudes respectives. Formé à l'univers absurde de Quentin Dupieux nous retrouvons ici un brouillage des cartes géographiques avec un environnement nord-américain et d'autres éléments de décor français. Un soin apporté jusqu'au plaques d'immatriculation qui contribuent à nous perdre pour mieux lâcher prise et ne pas résister à l'univers absurde que l'on nous propose. Une bonne distribution pour un beau film.                                                                                                                                                                                                                                                                                                                                                                                                                                                                                                                                                                                                                                                                                                                                                                                                                                                                                                                                                                                                                                                                     \n",
       "300182  j'ai adoré le film, sans chichi, sans langue de bois, traite du handicap et de ses difficultés, tittof tiens ici un rôle dans lequel on ne l'attend pas et personnellement j'aime !                                                                                                                                                                                                                                                                                                                                                                                                                                                                                                                                                                                                                                                                                                                                                                                                                                                                                                                                                                                                                                                                                                                                                                                                                                                                                                                                                                     \n",
       "12827   la sirene et le nounours. voila revenu la vraie comédie américaine, pleine de charme, c'est plus que ça, presque un film politique , une oeuvre courageuse et truculente on on s'amuse et réfléchi a la fois, tendre et grivois . les comédiens s'en donnent a coeur joie et Charlize est stupéfiante de beauté d'élégance et de maitrise de son rôle et le nounours séduisant dans sa drôlerie . que c'est bon de retrouver la vraie comédie du temps des géants du noir et blanc.                                                                                                                                                                                                                                                                                                                                                                                                                                                                                                                                                                                                                                                                                                                                                                                                                                                                                                                                                                                                                                                                     \n",
       "\n",
       "        polarity  \n",
       "336107  1         \n",
       "163786  1         \n",
       "129434  1         \n",
       "300182  1         \n",
       "12827   1         "
      ]
     },
     "execution_count": 21,
     "metadata": {},
     "output_type": "execute_result"
    }
   ],
   "source": [
    "dataset_df.sample(5, random_state=42)"
   ]
  },
  {
   "cell_type": "markdown",
   "metadata": {},
   "source": [
    "## Balance classes"
   ]
  },
  {
   "cell_type": "code",
   "execution_count": 22,
   "metadata": {},
   "outputs": [],
   "source": [
    "# The overall distribution of labels is balanced (25k pos and 25k neg).\n",
    "# We don't have to have train and testset perfectly balanced\n",
    "\n",
    "balanced_df = dataset_df.copy()\n",
    "\n",
    "MAX_REVIEWS_PER_POLARITY = 10000\n",
    "# 4. Limit number of reviews per film\n",
    "grouped = balanced_df.groupby('polarity')\n",
    "for ids in grouped.groups.values():\n",
    "    num_reviews = len(ids)    \n",
    "    if num_reviews > MAX_REVIEWS_PER_POLARITY:\n",
    "        sampling_size = num_reviews - MAX_REVIEWS_PER_POLARITY\n",
    "        ids_to_drop = random.sample(list(ids), sampling_size)\n",
    "        balanced_df = balanced_df.drop(ids_to_drop)"
   ]
  },
  {
   "cell_type": "code",
   "execution_count": 23,
   "metadata": {},
   "outputs": [
    {
     "name": "stdout",
     "output_type": "stream",
     "text": [
      "polarity\n",
      "-1    10000\n",
      " 1    10000\n",
      "dtype: int64\n"
     ]
    },
    {
     "data": {
      "text/html": [
       "<div>\n",
       "<style scoped>\n",
       "    .dataframe tbody tr th:only-of-type {\n",
       "        vertical-align: middle;\n",
       "    }\n",
       "\n",
       "    .dataframe tbody tr th {\n",
       "        vertical-align: top;\n",
       "    }\n",
       "\n",
       "    .dataframe thead th {\n",
       "        text-align: right;\n",
       "    }\n",
       "</style>\n",
       "<table border=\"1\" class=\"dataframe\">\n",
       "  <thead>\n",
       "    <tr style=\"text-align: right;\">\n",
       "      <th></th>\n",
       "      <th>film-url</th>\n",
       "      <th>review</th>\n",
       "      <th>polarity</th>\n",
       "    </tr>\n",
       "  </thead>\n",
       "  <tbody>\n",
       "    <tr>\n",
       "      <th>201832</th>\n",
       "      <td>http://www.allocine.fr/film/fichefilm-3660/critiques/spectateurs</td>\n",
       "      <td>Certainement le meilleur film de Wes Craven (comme par hasard aussi un des moins connu), cette histoire de vaudou est fascinante et l'intrigue menée à la perfection ; des rebondissements bien agencés, du suspense et du mystère et des scènes très prenantes. Un excellent film d'épouvante à découvrir.</td>\n",
       "      <td>1</td>\n",
       "    </tr>\n",
       "    <tr>\n",
       "      <th>38151</th>\n",
       "      <td>http://www.allocine.fr/film/fichefilm-6838/critiques/spectateurs</td>\n",
       "      <td>Gérard Jugnot au sommet. Cette comédie humaine et sociale est forte, intelligente, drôle et dramatique. Jugnot réussit à rendre attachants de manière incroyable ces marginaux, qui sont brillamment joués par Ticky Holgado et Richard Bohringer. De plus, Jugnot metteur en scène est aussi bon que Jugnot acteur. Un exemple de comédie dramatique réussi.</td>\n",
       "      <td>1</td>\n",
       "    </tr>\n",
       "    <tr>\n",
       "      <th>163679</th>\n",
       "      <td>http://www.allocine.fr/film/fichefilm-126473/critiques/spectateurs</td>\n",
       "      <td>Un ratage complet ! Un scénario plus que brouillon dans lequel on se perd facilement, une mise en scène médiocre et ce n'est pas l'avalanche de cadavre ou les scènes \"chocs\" qui arrangent quelque chose. Bref, on comprend très vite la raison du bide de cette réalisation.</td>\n",
       "      <td>-1</td>\n",
       "    </tr>\n",
       "    <tr>\n",
       "      <th>20357</th>\n",
       "      <td>http://www.allocine.fr/film/fichefilm-136181/critiques/spectateurs</td>\n",
       "      <td>Avec une touche de féérie, Martin Scorsese réussi un divertissement honnête, mené par un scénario très délicat, qui nous montre les tendresses d'un dialogue des années 30. Équipe d'un casting cinq étoiles, avec Asa Butterfield et Chloë Grace Moretz, et d'une mise en scène ultra-dynamique. Hugo Cabret raconte une aventure émouvante au cœur de Paris. Magique et envoûtant. 5/5 *****</td>\n",
       "      <td>1</td>\n",
       "    </tr>\n",
       "    <tr>\n",
       "      <th>265300</th>\n",
       "      <td>http://www.allocine.fr/film/fichefilm-258369/critiques/spectateurs</td>\n",
       "      <td>Ce film est excellent. De très bons et très beaux (!) acteurs, une trame historique intéressante, de belles photos du Piémont en hiver (un peu trop de brume, malgré tout), une intrigue intéressante qui fait la part belle à la quête individuelle, aux questions qui taraudent. Enfin, du cinéma italien. Merci.</td>\n",
       "      <td>1</td>\n",
       "    </tr>\n",
       "    <tr>\n",
       "      <th>228250</th>\n",
       "      <td>http://www.allocine.fr/film/fichefilm-28772/critiques/spectateurs</td>\n",
       "      <td>Le thriller commence plutôt bien (l'idée de départ est bonne) mais l'histoire devient rapidement absurde tant elle mange de crédibilité et le jeu d'acteur est correct sans plus. La fin est très prévisible.</td>\n",
       "      <td>-1</td>\n",
       "    </tr>\n",
       "    <tr>\n",
       "      <th>210544</th>\n",
       "      <td>http://www.allocine.fr/film/fichefilm-147753/critiques/spectateurs</td>\n",
       "      <td>un nanar de toute 1ère catégorie... peut-être même un chef-d'oeuvre du genre! ça vaut bien 4 ou 5 étoiles...heureusement que l'industrie du téléfilm à petit budget existe pour nous faire rêver de temps en temps avec un spectacle vraiment incroyable... et pourtant si parlant sur notre réalité. merci à eux pour nous exposer de façon aussi jubilatoire la profonde déchéance de nos sociétés contemporaines!</td>\n",
       "      <td>1</td>\n",
       "    </tr>\n",
       "    <tr>\n",
       "      <th>55563</th>\n",
       "      <td>http://www.allocine.fr/film/fichefilm-14539/critiques/spectateurs</td>\n",
       "      <td>Film marrant bien que parfois un peu lourd.Mais les acteurs sont tous au top avec leurs personnages respectif.</td>\n",
       "      <td>1</td>\n",
       "    </tr>\n",
       "    <tr>\n",
       "      <th>379580</th>\n",
       "      <td>http://www.allocine.fr/film/fichefilm-169940/critiques/spectateurs</td>\n",
       "      <td>Miki Manojlovic embarque le spectateur sur son tandem. Une interprétation remarquable pour un film qui met du baume au coeur.</td>\n",
       "      <td>1</td>\n",
       "    </tr>\n",
       "    <tr>\n",
       "      <th>152998</th>\n",
       "      <td>http://www.allocine.fr/film/fichefilm-204301/critiques/spectateurs</td>\n",
       "      <td>Ce film est parfois drôle. Mais les quelques moments de drôlerie ne permettent pas d'oublier l'indigence du scénario, les lieux communs et les niaiseries proférées par des acteurs, plutôt bons par ailleurs. Son problème, c'est que les personnages lourds le sont vraiment (on a du mal à y déceler le second degré) et que les autres sont au mieux caricaturaux, au pire irréalistes. Ce sous-produit de l'humour british-beauf ne justifie certainement pas l'emballement des critiques de presse dont le moral doit être tombé bien bas pour encenser ce mariage à la rien du tout. Evitez de perdre votre temps : allez boire un verre avec des amis !</td>\n",
       "      <td>-1</td>\n",
       "    </tr>\n",
       "  </tbody>\n",
       "</table>\n",
       "</div>"
      ],
      "text/plain": [
       "                                                                  film-url  \\\n",
       "201832  http://www.allocine.fr/film/fichefilm-3660/critiques/spectateurs     \n",
       "38151   http://www.allocine.fr/film/fichefilm-6838/critiques/spectateurs     \n",
       "163679  http://www.allocine.fr/film/fichefilm-126473/critiques/spectateurs   \n",
       "20357   http://www.allocine.fr/film/fichefilm-136181/critiques/spectateurs   \n",
       "265300  http://www.allocine.fr/film/fichefilm-258369/critiques/spectateurs   \n",
       "228250  http://www.allocine.fr/film/fichefilm-28772/critiques/spectateurs    \n",
       "210544  http://www.allocine.fr/film/fichefilm-147753/critiques/spectateurs   \n",
       "55563   http://www.allocine.fr/film/fichefilm-14539/critiques/spectateurs    \n",
       "379580  http://www.allocine.fr/film/fichefilm-169940/critiques/spectateurs   \n",
       "152998  http://www.allocine.fr/film/fichefilm-204301/critiques/spectateurs   \n",
       "\n",
       "                                                                                                                                                                                                                                                                                                                                                                                                                                                                                                                                                                                                                                                                 review  \\\n",
       "201832  Certainement le meilleur film de Wes Craven (comme par hasard aussi un des moins connu), cette histoire de vaudou est fascinante et l'intrigue menée à la perfection ; des rebondissements bien agencés, du suspense et du mystère et des scènes très prenantes. Un excellent film d'épouvante à découvrir.                                                                                                                                                                                                                                                                                                                                                       \n",
       "38151   Gérard Jugnot au sommet. Cette comédie humaine et sociale est forte, intelligente, drôle et dramatique. Jugnot réussit à rendre attachants de manière incroyable ces marginaux, qui sont brillamment joués par Ticky Holgado et Richard Bohringer. De plus, Jugnot metteur en scène est aussi bon que Jugnot acteur. Un exemple de comédie dramatique réussi.                                                                                                                                                                                                                                                                                                     \n",
       "163679  Un ratage complet ! Un scénario plus que brouillon dans lequel on se perd facilement, une mise en scène médiocre et ce n'est pas l'avalanche de cadavre ou les scènes \"chocs\" qui arrangent quelque chose. Bref, on comprend très vite la raison du bide de cette réalisation.                                                                                                                                                                                                                                                                                                                                                                                    \n",
       "20357   Avec une touche de féérie, Martin Scorsese réussi un divertissement honnête, mené par un scénario très délicat, qui nous montre les tendresses d'un dialogue des années 30. Équipe d'un casting cinq étoiles, avec Asa Butterfield et Chloë Grace Moretz, et d'une mise en scène ultra-dynamique. Hugo Cabret raconte une aventure émouvante au cœur de Paris. Magique et envoûtant. 5/5 *****                                                                                                                                                                                                                                                                    \n",
       "265300  Ce film est excellent. De très bons et très beaux (!) acteurs, une trame historique intéressante, de belles photos du Piémont en hiver (un peu trop de brume, malgré tout), une intrigue intéressante qui fait la part belle à la quête individuelle, aux questions qui taraudent. Enfin, du cinéma italien. Merci.                                                                                                                                                                                                                                                                                                                                               \n",
       "228250  Le thriller commence plutôt bien (l'idée de départ est bonne) mais l'histoire devient rapidement absurde tant elle mange de crédibilité et le jeu d'acteur est correct sans plus. La fin est très prévisible.                                                                                                                                                                                                                                                                                                                                                                                                                                                     \n",
       "210544  un nanar de toute 1ère catégorie... peut-être même un chef-d'oeuvre du genre! ça vaut bien 4 ou 5 étoiles...heureusement que l'industrie du téléfilm à petit budget existe pour nous faire rêver de temps en temps avec un spectacle vraiment incroyable... et pourtant si parlant sur notre réalité. merci à eux pour nous exposer de façon aussi jubilatoire la profonde déchéance de nos sociétés contemporaines!                                                                                                                                                                                                                                              \n",
       "55563   Film marrant bien que parfois un peu lourd.Mais les acteurs sont tous au top avec leurs personnages respectif.                                                                                                                                                                                                                                                                                                                                                                                                                                                                                                                                                    \n",
       "379580  Miki Manojlovic embarque le spectateur sur son tandem. Une interprétation remarquable pour un film qui met du baume au coeur.                                                                                                                                                                                                                                                                                                                                                                                                                                                                                                                                     \n",
       "152998  Ce film est parfois drôle. Mais les quelques moments de drôlerie ne permettent pas d'oublier l'indigence du scénario, les lieux communs et les niaiseries proférées par des acteurs, plutôt bons par ailleurs. Son problème, c'est que les personnages lourds le sont vraiment (on a du mal à y déceler le second degré) et que les autres sont au mieux caricaturaux, au pire irréalistes. Ce sous-produit de l'humour british-beauf ne justifie certainement pas l'emballement des critiques de presse dont le moral doit être tombé bien bas pour encenser ce mariage à la rien du tout. Evitez de perdre votre temps : allez boire un verre avec des amis !   \n",
       "\n",
       "        polarity  \n",
       "201832  1         \n",
       "38151   1         \n",
       "163679 -1         \n",
       "20357   1         \n",
       "265300  1         \n",
       "228250 -1         \n",
       "210544  1         \n",
       "55563   1         \n",
       "379580  1         \n",
       "152998 -1         "
      ]
     },
     "execution_count": 23,
     "metadata": {},
     "output_type": "execute_result"
    }
   ],
   "source": [
    "print(balanced_df.groupby('polarity').size())\n",
    "balanced_df.sample(10, random_state=42)"
   ]
  },
  {
   "cell_type": "markdown",
   "metadata": {},
   "source": [
    "## Split train/dev/test"
   ]
  },
  {
   "cell_type": "code",
   "execution_count": 24,
   "metadata": {},
   "outputs": [
    {
     "name": "stdout",
     "output_type": "stream",
     "text": [
      "LEN TRAIN: 11996\n",
      "LEN DEV: 4003\n",
      "LEN TEST: 4001\n"
     ]
    }
   ],
   "source": [
    "TRAIN_RATIO = 0.6\n",
    "DEV_RATIO = 0.2\n",
    "TEST_RATIO = 0.2\n",
    "\n",
    "total_size = len(balanced_df)\n",
    "\n",
    "train_df = balanced_df.copy()\n",
    "dev_df = pd.DataFrame()\n",
    "test_df = pd.DataFrame()\n",
    "\n",
    "while True:\n",
    "    row = train_df.sample(1, random_state=42)\n",
    "    url = row['film-url'].iloc[0]\n",
    "    rows = train_df[train_df['film-url'] == url]\n",
    "    if(len(dev_df) < DEV_RATIO * total_size):\n",
    "        dev_df = dev_df.append(rows)\n",
    "        train_df = train_df[train_df['film-url'] != url]        \n",
    "    elif(len(test_df) < TEST_RATIO * total_size):\n",
    "        test_df = test_df.append(rows)\n",
    "        train_df = train_df[train_df['film-url'] != url]\n",
    "    else:\n",
    "        break\n",
    "\n",
    "print(\"LEN TRAIN: \" + str(len(train_df)))\n",
    "print(\"LEN DEV: \" + str(len(dev_df)))\n",
    "print(\"LEN TEST: \" + str(len(test_df)))"
   ]
  },
  {
   "cell_type": "code",
   "execution_count": 25,
   "metadata": {},
   "outputs": [
    {
     "data": {
      "image/png": "[encoded data removed]",
      "text/plain": [
       "<Figure size 720x360 with 3 Axes>"
      ]
     },
     "metadata": {},
     "output_type": "display_data"
    }
   ],
   "source": [
    "splits = [train_df, dev_df, test_df]\n",
    "titles = [\"Train set\", \"Dev set\", \"Test set\"]\n",
    "\n",
    "fig, ax = plt.subplots(1, len(splits), sharex=True, figsize=(10,5))\n",
    "for i, (data, title) in enumerate(zip(splits, titles)):\n",
    "    sns.countplot(data=data, x='polarity', palette=[\"r\", \"g\"], ax=ax[i])\n",
    "    ax[i].set(xlabel='', ylabel='')\n",
    "    ax[i].set_xticklabels(['Negative', 'Positive']) \n",
    "    ax[i].set_title(title)\n",
    "    \n",
    "    # Frequencies\n",
    "    ncount = len(data)\n",
    "    for p in ax[i].patches:\n",
    "        x=p.get_bbox().get_points()[:,0]\n",
    "        y=p.get_bbox().get_points()[1,1]\n",
    "        ax[i].annotate('{:.1f}%'.format(100.*y/ncount), (x.mean(), y), \n",
    "                ha='center', va='bottom') # set the alignment of the text\n",
    "\n",
    "# Finalize the plot\n",
    "sns.despine(bottom=True)\n",
    "plt.tight_layout(h_pad=2)\n",
    "\n",
    "# Saving plot\n",
    "fig.savefig('img/splits_polarity.png', dpi=200)"
   ]
  },
  {
   "cell_type": "markdown",
   "metadata": {},
   "source": [
    "# Export"
   ]
  },
  {
   "cell_type": "markdown",
   "metadata": {},
   "source": [
    "## To pickle"
   ]
  },
  {
   "cell_type": "code",
   "execution_count": 26,
   "metadata": {},
   "outputs": [],
   "source": [
    "DATA_DIR = 'data'"
   ]
  },
  {
   "cell_type": "code",
   "execution_count": 27,
   "metadata": {},
   "outputs": [],
   "source": [
    "import pickle\n",
    "\n",
    "out_dict = {\n",
    "    'train_set': train_df,\n",
    "    'dev_set': dev_df,\n",
    "    'test_set': test_df\n",
    "}\n",
    "\n",
    "pickle_file = os.path.join(DATA_DIR, \"allocine_dataset.pickle\")\n",
    "with open(pickle_file, 'wb') as writer:\n",
    "    pickle.dump(out_dict, writer)"
   ]
  },
  {
   "cell_type": "code",
   "execution_count": 28,
   "metadata": {},
   "outputs": [
    {
     "name": "stdout",
     "output_type": "stream",
     "text": [
      "LEN TRAIN: 11996\n",
      "LEN DEV: 4003\n",
      "LEN TEST: 4001\n"
     ]
    }
   ],
   "source": [
    "with open(pickle_file, 'rb') as reader:\n",
    "    data = pickle.load(reader)\n",
    "    \n",
    "print(\"LEN TRAIN: \"+ str(len(data[\"train_set\"])))\n",
    "print(\"LEN DEV: \"+ str(len(data[\"dev_set\"])))\n",
    "print(\"LEN TEST: \"+ str(len(data[\"test_set\"])))"
   ]
  },
  {
   "cell_type": "markdown",
   "metadata": {},
   "source": [
    "## To Jsonlines"
   ]
  },
  {
   "cell_type": "code",
   "execution_count": 29,
   "metadata": {},
   "outputs": [],
   "source": [
    "import jsonlines\n",
    "\n",
    "splits = [train_df, dev_df, test_df]\n",
    "files = [\"train.jsonl\", \"dev.jsonl\", \"test.jsonl\"]\n",
    "\n",
    "for split, file in zip(splits, files):\n",
    "    export_file = os.path.join(DATA_DIR, file)\n",
    "    with jsonlines.open(export_file, mode='w') as writer:\n",
    "        for index, row in split.iterrows():        \n",
    "            writer.write({\n",
    "                \"film-url\": row[\"film-url\"],\n",
    "                \"review\": row[\"review\"],\n",
    "                \"polarity\": row[\"polarity\"]\n",
    "            })"
   ]
  },
  {
   "cell_type": "code",
   "execution_count": 30,
   "metadata": {},
   "outputs": [],
   "source": [
    "import tarfile\n",
    "\n",
    "with tarfile.open(\"data.tar.bz2\", \"w:bz2\") as tar:\n",
    "    tar.add(DATA_DIR, arcname=os.path.basename(DATA_DIR))"
   ]
  },
  {
   "cell_type": "code",
   "execution_count": null,
   "metadata": {},
   "outputs": [],
   "source": []
  }
 ],
 "metadata": {
  "kernelspec": {
   "display_name": "Python 3",
   "language": "python",
   "name": "python3"
  },
  "language_info": {
   "codemirror_mode": {
    "name": "ipython",
    "version": 3
   },
   "file_extension": ".py",
   "mimetype": "text/x-python",
   "name": "python",
   "nbconvert_exporter": "python",
   "pygments_lexer": "ipython3",
   "version": "3.7.5"
  }
 },
 "nbformat": 4,
 "nbformat_minor": 4
}
