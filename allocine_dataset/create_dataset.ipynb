{
 "cells": [
  {
   "cell_type": "code",
   "execution_count": 1,
   "metadata": {
    "scrolled": true
   },
   "outputs": [],
   "source": [
    "import os\n",
    "import random\n",
    "random.seed(42) \n",
    "\n",
    "import matplotlib.pyplot as plt\n",
    "import pandas as pd\n",
    "import seaborn as sns\n",
    "\n",
    "# Inline plots in Jupyter notebooks\n",
    "%matplotlib inline\n",
    "\n",
    "# better display of review text in dataframes\n",
    "pd.set_option('display.max_colwidth', -1) \n",
    "\n",
    "# Seaborn style\n",
    "sns.set(style=\"whitegrid\")"
   ]
  },
  {
   "cell_type": "markdown",
   "metadata": {},
   "source": [
    "# Load pickle files"
   ]
  },
  {
   "cell_type": "code",
   "execution_count": 2,
   "metadata": {},
   "outputs": [
    {
     "name": "stdout",
     "output_type": "stream",
     "text": [
      "Reading file: pickle/allocine_0.pickle\n",
      "Reading file: pickle/allocine_1.pickle\n",
      "Reading file: pickle/allocine_2.pickle\n",
      "Reading file: pickle/allocine_3.pickle\n",
      "Reading file: pickle/allocine_4.pickle\n",
      "Reading file: pickle/allocine_5.pickle\n",
      "Reading file: pickle/allocine_6.pickle\n",
      "Reading file: pickle/allocine_7.pickle\n",
      "Reading file: pickle/allocine_8.pickle\n",
      "Reading file: pickle/allocine_9.pickle\n",
      "Reading file: pickle/allocine_10.pickle\n",
      "Reading file: pickle/allocine_11.pickle\n",
      "Reading file: pickle/allocine_12.pickle\n",
      "Reading file: pickle/allocine_13.pickle\n",
      "Reading file: pickle/allocine_14.pickle\n",
      "Reading file: pickle/allocine_15.pickle\n",
      "Reading file: pickle/allocine_16.pickle\n",
      "Reading file: pickle/allocine_17.pickle\n",
      "Reading file: pickle/allocine_18.pickle\n",
      "Reading file: pickle/allocine_19.pickle\n",
      "Reading file: pickle/allocine_20.pickle\n",
      "\n",
      "Loaded 384079 reviews !\n"
     ]
    }
   ],
   "source": [
    "PICKLE_DIR = 'pickle'\n",
    "\n",
    "allocine_df = pd.DataFrame()\n",
    "\n",
    "files = [file for file in os.listdir(PICKLE_DIR) if file.endswith(\".pickle\")]\n",
    "files.sort(key=lambda f: int(''.join(filter(str.isdigit, f))))\n",
    "\n",
    "for file in files:\n",
    "    path = os.path.join(PICKLE_DIR, file)\n",
    "    print(\"Reading file: \" + path)\n",
    "    df = pd.read_pickle(path)\n",
    "    allocine_df = allocine_df.append(df, ignore_index=True)\n",
    "    \n",
    "print()\n",
    "print(\"Loaded {} reviews !\".format(len(allocine_df)))"
   ]
  },
  {
   "cell_type": "markdown",
   "metadata": {},
   "source": [
    "# Explore data"
   ]
  },
  {
   "cell_type": "code",
   "execution_count": 3,
   "metadata": {},
   "outputs": [
    {
     "data": {
      "text/html": [
       "<div>\n",
       "<style scoped>\n",
       "    .dataframe tbody tr th:only-of-type {\n",
       "        vertical-align: middle;\n",
       "    }\n",
       "\n",
       "    .dataframe tbody tr th {\n",
       "        vertical-align: top;\n",
       "    }\n",
       "\n",
       "    .dataframe thead th {\n",
       "        text-align: right;\n",
       "    }\n",
       "</style>\n",
       "<table border=\"1\" class=\"dataframe\">\n",
       "  <thead>\n",
       "    <tr style=\"text-align: right;\">\n",
       "      <th></th>\n",
       "      <th>film-url</th>\n",
       "      <th>rating</th>\n",
       "      <th>review</th>\n",
       "      <th>date</th>\n",
       "      <th>helpful</th>\n",
       "      <th>unhelpful</th>\n",
       "    </tr>\n",
       "  </thead>\n",
       "  <tbody>\n",
       "    <tr>\n",
       "      <th>53894</th>\n",
       "      <td>http://www.allocine.fr/film/fichefilm-111632/critiques/spectateurs</td>\n",
       "      <td>1.0</td>\n",
       "      <td>Sans grande surprise, le premier opus de la franchise (il en existe trois actuellement) est dépourvu d’originalité et d’un quelconque intérêt. Sexy Dance (2006) est ultra conventionnel, prévisible au bout de dix minutes et pour un film qui avoisine les 105 minutes, il y en a clairement 45 en trop, entre les répétitions inutiles, les séquences musicales et de danses à rallonges, les répliques mièvres, les disputes et les réconciliations, bref, une sortie en DTV aurait largement suffit ! Espérons que le second volet (2008) et le troisième (2010) seront relever le niveau.</td>\n",
       "      <td>2010-09-21</td>\n",
       "      <td>1</td>\n",
       "      <td>1</td>\n",
       "    </tr>\n",
       "    <tr>\n",
       "      <th>366314</th>\n",
       "      <td>http://www.allocine.fr/film/fichefilm-209558/critiques/spectateurs</td>\n",
       "      <td>3.5</td>\n",
       "      <td>enfin un téléfilm Gulli qui traite des vacances ! un téléfilm très sympathique, bien joué et divertissant pour les moins de 12 ans.</td>\n",
       "      <td>2014-11-14</td>\n",
       "      <td>1</td>\n",
       "      <td>2</td>\n",
       "    </tr>\n",
       "    <tr>\n",
       "      <th>14939</th>\n",
       "      <td>http://www.allocine.fr/film/fichefilm-109788/critiques/spectateurs</td>\n",
       "      <td>5.0</td>\n",
       "      <td>En voyant la multiplication de critiques négatives envers ce monument du cinéma modernes, j'ai re-regardé There Will Be Blood une troisième fois. Et le verdict est toujours le même, on est toujours face à une leçon magistrale de cinéma. Les acteurs sont plus qu'excellents (Day-Lewis comme à son habitude fait exploser le talentomètre, mais aussi le sous-estimé Paul Dano). Les dialogues sont écrits à la perfection. La réalisation est irréprochable, offre certains plans très beaux plans mais arrive à asseoir une ambiance angoissante et poisseuse, appuyé par la musique qui déroute au début mais arrive à nous influencer inconsciemment et instaurer chez le spectateur un profond malaise à certains moments (les dangers du métier de mineur dans une exploitation pétrolière sont parfaitement retranscris à l'écran). Cette ambiance sert une histoire passionnante, celle d'un exploitant misanthrope (de plus en plus détestable) sombrant dans la folie et qui ne cherche qu'une chose: être assez riche pour pouvoir vivre coupé du monde. Tout est parfait, rien que la scène de fin (grand moment, interrogation sur la foi religieuse, le dévoilement de la vraie nature des personnages principaux, le milk-shake, etc) devrait suffire nous faire aimer There Will Be Blood, ou au moins lui reconnaître ses indéniables qualités.</td>\n",
       "      <td>2017-01-11</td>\n",
       "      <td>3</td>\n",
       "      <td>0</td>\n",
       "    </tr>\n",
       "  </tbody>\n",
       "</table>\n",
       "</div>"
      ],
      "text/plain": [
       "                                                                  film-url  \\\n",
       "53894   http://www.allocine.fr/film/fichefilm-111632/critiques/spectateurs   \n",
       "366314  http://www.allocine.fr/film/fichefilm-209558/critiques/spectateurs   \n",
       "14939   http://www.allocine.fr/film/fichefilm-109788/critiques/spectateurs   \n",
       "\n",
       "        rating  \\\n",
       "53894   1.0      \n",
       "366314  3.5      \n",
       "14939   5.0      \n",
       "\n",
       "                                                                                                                                                                                                                                                                                                                                                                                                                                                                                                                                                                                                                                                                                                                                                                                                                                                                                                                                                                                                                                                                                                                                                                                                                                                                                                                                                                       review  \\\n",
       "53894   Sans grande surprise, le premier opus de la franchise (il en existe trois actuellement) est dépourvu d’originalité et d’un quelconque intérêt. Sexy Dance (2006) est ultra conventionnel, prévisible au bout de dix minutes et pour un film qui avoisine les 105 minutes, il y en a clairement 45 en trop, entre les répétitions inutiles, les séquences musicales et de danses à rallonges, les répliques mièvres, les disputes et les réconciliations, bref, une sortie en DTV aurait largement suffit ! Espérons que le second volet (2008) et le troisième (2010) seront relever le niveau.                                                                                                                                                                                                                                                                                                                                                                                                                                                                                                                                                                                                                                                                                                                                                                         \n",
       "366314  enfin un téléfilm Gulli qui traite des vacances ! un téléfilm très sympathique, bien joué et divertissant pour les moins de 12 ans.                                                                                                                                                                                                                                                                                                                                                                                                                                                                                                                                                                                                                                                                                                                                                                                                                                                                                                                                                                                                                                                                                                                                                                                                                                     \n",
       "14939   En voyant la multiplication de critiques négatives envers ce monument du cinéma modernes, j'ai re-regardé There Will Be Blood une troisième fois. Et le verdict est toujours le même, on est toujours face à une leçon magistrale de cinéma. Les acteurs sont plus qu'excellents (Day-Lewis comme à son habitude fait exploser le talentomètre, mais aussi le sous-estimé Paul Dano). Les dialogues sont écrits à la perfection. La réalisation est irréprochable, offre certains plans très beaux plans mais arrive à asseoir une ambiance angoissante et poisseuse, appuyé par la musique qui déroute au début mais arrive à nous influencer inconsciemment et instaurer chez le spectateur un profond malaise à certains moments (les dangers du métier de mineur dans une exploitation pétrolière sont parfaitement retranscris à l'écran). Cette ambiance sert une histoire passionnante, celle d'un exploitant misanthrope (de plus en plus détestable) sombrant dans la folie et qui ne cherche qu'une chose: être assez riche pour pouvoir vivre coupé du monde. Tout est parfait, rien que la scène de fin (grand moment, interrogation sur la foi religieuse, le dévoilement de la vraie nature des personnages principaux, le milk-shake, etc) devrait suffire nous faire aimer There Will Be Blood, ou au moins lui reconnaître ses indéniables qualités.   \n",
       "\n",
       "              date  helpful  unhelpful  \n",
       "53894   2010-09-21  1        1          \n",
       "366314  2014-11-14  1        2          \n",
       "14939   2017-01-11  3        0          "
      ]
     },
     "execution_count": 3,
     "metadata": {},
     "output_type": "execute_result"
    }
   ],
   "source": [
    "allocine_df.sample(3, random_state=42)"
   ]
  },
  {
   "cell_type": "markdown",
   "metadata": {},
   "source": [
    "## Negative reviews"
   ]
  },
  {
   "cell_type": "markdown",
   "metadata": {},
   "source": [
    "We consider a review is negative when its associating rating is less than or equal to 2.0, which includes 4 categories: 0.5, 1.0, 1.5 and 2.0"
   ]
  },
  {
   "cell_type": "code",
   "execution_count": 4,
   "metadata": {
    "scrolled": true
   },
   "outputs": [
    {
     "data": {
      "text/html": [
       "<div>\n",
       "<style scoped>\n",
       "    .dataframe tbody tr th:only-of-type {\n",
       "        vertical-align: middle;\n",
       "    }\n",
       "\n",
       "    .dataframe tbody tr th {\n",
       "        vertical-align: top;\n",
       "    }\n",
       "\n",
       "    .dataframe thead th {\n",
       "        text-align: right;\n",
       "    }\n",
       "</style>\n",
       "<table border=\"1\" class=\"dataframe\">\n",
       "  <thead>\n",
       "    <tr style=\"text-align: right;\">\n",
       "      <th></th>\n",
       "      <th>film-url</th>\n",
       "      <th>rating</th>\n",
       "      <th>review</th>\n",
       "      <th>date</th>\n",
       "      <th>helpful</th>\n",
       "      <th>unhelpful</th>\n",
       "    </tr>\n",
       "  </thead>\n",
       "  <tbody>\n",
       "    <tr>\n",
       "      <th>320352</th>\n",
       "      <td>http://www.allocine.fr/film/fichefilm-131749/critiques/spectateurs</td>\n",
       "      <td>0.5</td>\n",
       "      <td>Le film m'a semblé interminable, et pourtant il dure à peine 1h30.\\r\\nUne compilation de fausses bonnes idées, pour un scénario que mon neveu de 12 ans n'aurait aucun mal à écrire. Les personnages sont stupides, les situations convenues, et les dialogues désesperant.\\r\\nLa mise en scéne simplette ( alors qu'on sent le metteur en scéne tres content de lui ), et le charisme proche de celui d'une moule de l'acteur principal font de ce film un spectacle affligeant.</td>\n",
       "      <td>2009-02-02</td>\n",
       "      <td>0</td>\n",
       "      <td>1</td>\n",
       "    </tr>\n",
       "    <tr>\n",
       "      <th>332411</th>\n",
       "      <td>http://www.allocine.fr/film/fichefilm-41414/critiques/spectateurs</td>\n",
       "      <td>1.5</td>\n",
       "      <td>Un film excessivement mauvais et très ennuyeux, c'est fâcheux.</td>\n",
       "      <td>2012-12-17</td>\n",
       "      <td>0</td>\n",
       "      <td>1</td>\n",
       "    </tr>\n",
       "    <tr>\n",
       "      <th>293009</th>\n",
       "      <td>http://www.allocine.fr/film/fichefilm-73848/critiques/spectateurs</td>\n",
       "      <td>0.5</td>\n",
       "      <td>Impossible d'accrocher tellement c'est mauvais...</td>\n",
       "      <td>2007-10-11</td>\n",
       "      <td>0</td>\n",
       "      <td>1</td>\n",
       "    </tr>\n",
       "  </tbody>\n",
       "</table>\n",
       "</div>"
      ],
      "text/plain": [
       "                                                                  film-url  \\\n",
       "320352  http://www.allocine.fr/film/fichefilm-131749/critiques/spectateurs   \n",
       "332411  http://www.allocine.fr/film/fichefilm-41414/critiques/spectateurs    \n",
       "293009  http://www.allocine.fr/film/fichefilm-73848/critiques/spectateurs    \n",
       "\n",
       "        rating  \\\n",
       "320352  0.5      \n",
       "332411  1.5      \n",
       "293009  0.5      \n",
       "\n",
       "                                                                                                                                                                                                                                                                                                                                                                                                                                                                                   review  \\\n",
       "320352  Le film m'a semblé interminable, et pourtant il dure à peine 1h30.\\r\\nUne compilation de fausses bonnes idées, pour un scénario que mon neveu de 12 ans n'aurait aucun mal à écrire. Les personnages sont stupides, les situations convenues, et les dialogues désesperant.\\r\\nLa mise en scéne simplette ( alors qu'on sent le metteur en scéne tres content de lui ), et le charisme proche de celui d'une moule de l'acteur principal font de ce film un spectacle affligeant.   \n",
       "332411  Un film excessivement mauvais et très ennuyeux, c'est fâcheux.                                                                                                                                                                                                                                                                                                                                                                                                                      \n",
       "293009  Impossible d'accrocher tellement c'est mauvais...                                                                                                                                                                                                                                                                                                                                                                                                                                   \n",
       "\n",
       "              date  helpful  unhelpful  \n",
       "320352  2009-02-02  0        1          \n",
       "332411  2012-12-17  0        1          \n",
       "293009  2007-10-11  0        1          "
      ]
     },
     "execution_count": 4,
     "metadata": {},
     "output_type": "execute_result"
    }
   ],
   "source": [
    "negative_reviews = allocine_df[allocine_df['rating'] <= 2.0]\n",
    "negative_reviews.sample(3, random_state=42)"
   ]
  },
  {
   "cell_type": "markdown",
   "metadata": {},
   "source": [
    "## Positive reviews"
   ]
  },
  {
   "cell_type": "markdown",
   "metadata": {},
   "source": [
    "We consider a review is positive when its associating rating is greater than or equal to to 4.0, which includes 3 categories: 4.0, 4.5 and 5.0"
   ]
  },
  {
   "cell_type": "code",
   "execution_count": 5,
   "metadata": {},
   "outputs": [
    {
     "data": {
      "text/html": [
       "<div>\n",
       "<style scoped>\n",
       "    .dataframe tbody tr th:only-of-type {\n",
       "        vertical-align: middle;\n",
       "    }\n",
       "\n",
       "    .dataframe tbody tr th {\n",
       "        vertical-align: top;\n",
       "    }\n",
       "\n",
       "    .dataframe thead th {\n",
       "        text-align: right;\n",
       "    }\n",
       "</style>\n",
       "<table border=\"1\" class=\"dataframe\">\n",
       "  <thead>\n",
       "    <tr style=\"text-align: right;\">\n",
       "      <th></th>\n",
       "      <th>film-url</th>\n",
       "      <th>rating</th>\n",
       "      <th>review</th>\n",
       "      <th>date</th>\n",
       "      <th>helpful</th>\n",
       "      <th>unhelpful</th>\n",
       "    </tr>\n",
       "  </thead>\n",
       "  <tbody>\n",
       "    <tr>\n",
       "      <th>153779</th>\n",
       "      <td>http://www.allocine.fr/film/fichefilm-242131/critiques/spectateurs</td>\n",
       "      <td>4.0</td>\n",
       "      <td>Le film, porté par une Virginie Efira au sommet de son art, charme par la concision de sa mise en scène et la justesse des rapports entre mère et fils. \\n\\nLA SUITE :</td>\n",
       "      <td>2017-03-30</td>\n",
       "      <td>1</td>\n",
       "      <td>0</td>\n",
       "    </tr>\n",
       "    <tr>\n",
       "      <th>304158</th>\n",
       "      <td>http://www.allocine.fr/film/fichefilm-121048/critiques/spectateurs</td>\n",
       "      <td>5.0</td>\n",
       "      <td>Quel que soit votre âge, si vieillir vous fait peur, courez vite voir ce film. Réalisé à Madrid par le cinéaste argentin Marcos Carnevale, \"Elsa &amp; Fred\" est une merveilleuse histoire d'amour entre une adolescente de 82 ans, d'origine argentine, fofolle et menteuse, et un jeune veuf de 77 ans, au départ plutôt hypocondriaque. Ce qui se passe entre eux ainsi que les rapports qu'ils entretiennent avec leurs enfants nous entraînent dans un récit à la fois émouvant et drôle, jamais vulgaire. Ce film a un charme fou et les 2 acteurs, China Zorrilla et Manuel Alexandre, sont absolument parfaits. S'il y avait une justice dans le monde du cinéma, ce film dépasserait les 10 millions de spectateurs, avec 99 % de taux de satisfaction.</td>\n",
       "      <td>2006-12-20</td>\n",
       "      <td>0</td>\n",
       "      <td>0</td>\n",
       "    </tr>\n",
       "    <tr>\n",
       "      <th>108277</th>\n",
       "      <td>http://www.allocine.fr/film/fichefilm-105494/critiques/spectateurs</td>\n",
       "      <td>4.0</td>\n",
       "      <td>Dans son premier long-métrage, Gaspar Noé nous plonge dans la descente aux enfers d'un personnage tellement empli de haine envers lui-même et le reste du monde que l'expérience de visionnage en devient un énorme choc, presque cathartique tellement le spectateur se noie dans un récit français engoncé dans la misère d'une humanité cruellement réaliste, mais autant désespérée et juste que particulièrement sordide et dépressive. Difficile donc de savoir quoi en tirer, la violence constante du personnage virant souvent dans le racisme et l'homophobie, ne nonobstant pas non plus le fait que nombre de séquences, voire une en particulier, ont réussi à complètement me déstabiliser, ce qui est assez rare pour être souligné. En bref, une expérience marquante mais volontairement provocatrice, et cela bien que Noé, avec son montage en coup de hachoir et une capacité très palpable à créer des atmosphères étouffantes et sensitives (les scènes finales par exemple sont une fantastique démonstration de comment instiguer une complète perte de repère qui dérange et déstabilise le spectateur), laisse toutefois une marque indéniable dans le cinéma français. Et laisser une marque, bien évidemment que Gaspar Noé le fait dès son premier long-métrage, à l'époque bien remarqué avec le « Prix Très Spécial » du Festival de Cannes de la même année. Abandonnez ainsi tout autre candidat, Seul Contre Tous est peut-être le film le plus nihiliste des années 90.</td>\n",
       "      <td>2017-03-01</td>\n",
       "      <td>3</td>\n",
       "      <td>0</td>\n",
       "    </tr>\n",
       "  </tbody>\n",
       "</table>\n",
       "</div>"
      ],
      "text/plain": [
       "                                                                  film-url  \\\n",
       "153779  http://www.allocine.fr/film/fichefilm-242131/critiques/spectateurs   \n",
       "304158  http://www.allocine.fr/film/fichefilm-121048/critiques/spectateurs   \n",
       "108277  http://www.allocine.fr/film/fichefilm-105494/critiques/spectateurs   \n",
       "\n",
       "        rating  \\\n",
       "153779  4.0      \n",
       "304158  5.0      \n",
       "108277  4.0      \n",
       "\n",
       "                                                                                                                                                                                                                                                                                                                                                                                                                                                                                                                                                                                                                                                                                                                                                                                                                                                                                                                                                                                                                                                                                                                                                                                                                                                                                                                                                                                                                                                                                                            review  \\\n",
       "153779  Le film, porté par une Virginie Efira au sommet de son art, charme par la concision de sa mise en scène et la justesse des rapports entre mère et fils. \\n\\nLA SUITE :                                                                                                                                                                                                                                                                                                                                                                                                                                                                                                                                                                                                                                                                                                                                                                                                                                                                                                                                                                                                                                                                                                                                                                                                                                                                                                                                       \n",
       "304158  Quel que soit votre âge, si vieillir vous fait peur, courez vite voir ce film. Réalisé à Madrid par le cinéaste argentin Marcos Carnevale, \"Elsa & Fred\" est une merveilleuse histoire d'amour entre une adolescente de 82 ans, d'origine argentine, fofolle et menteuse, et un jeune veuf de 77 ans, au départ plutôt hypocondriaque. Ce qui se passe entre eux ainsi que les rapports qu'ils entretiennent avec leurs enfants nous entraînent dans un récit à la fois émouvant et drôle, jamais vulgaire. Ce film a un charme fou et les 2 acteurs, China Zorrilla et Manuel Alexandre, sont absolument parfaits. S'il y avait une justice dans le monde du cinéma, ce film dépasserait les 10 millions de spectateurs, avec 99 % de taux de satisfaction.                                                                                                                                                                                                                                                                                                                                                                                                                                                                                                                                                                                                                                                                                                                                                 \n",
       "108277  Dans son premier long-métrage, Gaspar Noé nous plonge dans la descente aux enfers d'un personnage tellement empli de haine envers lui-même et le reste du monde que l'expérience de visionnage en devient un énorme choc, presque cathartique tellement le spectateur se noie dans un récit français engoncé dans la misère d'une humanité cruellement réaliste, mais autant désespérée et juste que particulièrement sordide et dépressive. Difficile donc de savoir quoi en tirer, la violence constante du personnage virant souvent dans le racisme et l'homophobie, ne nonobstant pas non plus le fait que nombre de séquences, voire une en particulier, ont réussi à complètement me déstabiliser, ce qui est assez rare pour être souligné. En bref, une expérience marquante mais volontairement provocatrice, et cela bien que Noé, avec son montage en coup de hachoir et une capacité très palpable à créer des atmosphères étouffantes et sensitives (les scènes finales par exemple sont une fantastique démonstration de comment instiguer une complète perte de repère qui dérange et déstabilise le spectateur), laisse toutefois une marque indéniable dans le cinéma français. Et laisser une marque, bien évidemment que Gaspar Noé le fait dès son premier long-métrage, à l'époque bien remarqué avec le « Prix Très Spécial » du Festival de Cannes de la même année. Abandonnez ainsi tout autre candidat, Seul Contre Tous est peut-être le film le plus nihiliste des années 90.   \n",
       "\n",
       "              date  helpful  unhelpful  \n",
       "153779  2017-03-30  1        0          \n",
       "304158  2006-12-20  0        0          \n",
       "108277  2017-03-01  3        0          "
      ]
     },
     "execution_count": 5,
     "metadata": {},
     "output_type": "execute_result"
    }
   ],
   "source": [
    "positive_reviews = allocine_df[allocine_df['rating'] >= 4.0]\n",
    "positive_reviews.sample(3, random_state=42)"
   ]
  },
  {
   "cell_type": "markdown",
   "metadata": {},
   "source": [
    "## Rating counts"
   ]
  },
  {
   "cell_type": "code",
   "execution_count": 6,
   "metadata": {},
   "outputs": [
    {
     "data": {
      "image/png": "[encoded data removed]",
      "text/plain": [
       "<Figure size 576x360 with 1 Axes>"
      ]
     },
     "metadata": {},
     "output_type": "display_data"
    }
   ],
   "source": [
    "plt.figure(figsize=(8,5))\n",
    "\n",
    "goodbad_palette = sns.color_palette(\"RdYlGn_r\", n_colors=10)\n",
    "goodbad_palette.reverse()\n",
    "\n",
    "ax = sns.countplot(data=allocine_df, x='rating', palette=goodbad_palette)\n",
    "ax.set(xlabel='Rating', ylabel='')\n",
    "\n",
    "# Finalize the plot\n",
    "sns.despine(bottom=True)\n",
    "plt.tight_layout(h_pad=2)\n",
    "\n",
    "# Saving plot\n",
    "fig = ax.get_figure()\n",
    "fig.savefig('img/rating_counts.png', dpi=200)"
   ]
  },
  {
   "cell_type": "markdown",
   "metadata": {},
   "source": [
    "## Polarity"
   ]
  },
  {
   "cell_type": "code",
   "execution_count": 9,
   "metadata": {
    "scrolled": false
   },
   "outputs": [],
   "source": [
    "def find_polarity(row):\n",
    "    if row['rating'] <= 2.0:\n",
    "        return -1\n",
    "    elif row['rating'] >= 4.0:\n",
    "        return 1\n",
    "    else:\n",
    "        return 0\n",
    "\n",
    "allocine_df['polarity'] = allocine_df.apply(lambda row : find_polarity(row), axis=1) "
   ]
  },
  {
   "cell_type": "code",
   "execution_count": 10,
   "metadata": {},
   "outputs": [
    {
     "data": {
      "image/png": "[encoded data removed]",
      "text/plain": [
       "<Figure size 576x360 with 1 Axes>"
      ]
     },
     "metadata": {},
     "output_type": "display_data"
    }
   ],
   "source": [
    "plt.figure(figsize=(8,5))\n",
    "\n",
    "goodbad_palette = sns.color_palette(\"RdYlGn_r\", n_colors=3)\n",
    "goodbad_palette.reverse()\n",
    "\n",
    "ax = sns.countplot(data=allocine_df, x='polarity', palette=goodbad_palette)\n",
    "ax.set(xlabel='', ylabel='')\n",
    "ax.set_xticklabels(['Negative', 'Neutral', 'Positive'])\n",
    "\n",
    "# Frenquencies\n",
    "ncount = len(allocine_df)\n",
    "for p in ax.patches:\n",
    "    x=p.get_bbox().get_points()[:,0]\n",
    "    y=p.get_bbox().get_points()[1,1]\n",
    "    ax.annotate('{:.1f}%'.format(100.*y/ncount), (x.mean(), y), \n",
    "            ha='center', va='bottom') # set the alignment of the text\n",
    "\n",
    "# Finalize the plot\n",
    "sns.despine(bottom=True)\n",
    "plt.tight_layout(h_pad=2)\n",
    "\n",
    "# Saving plot\n",
    "fig = ax.get_figure()\n",
    "fig.savefig('img/polarity_frequency.png', dpi=200)"
   ]
  },
  {
   "cell_type": "markdown",
   "metadata": {},
   "source": [
    "## Reviews per year"
   ]
  },
  {
   "cell_type": "code",
   "execution_count": 11,
   "metadata": {},
   "outputs": [],
   "source": [
    "allocine_df['date'] = pd.to_datetime(allocine_df['date'])\n",
    "reviews_per_year = allocine_df.groupby(allocine_df['date'].dt.year).size()"
   ]
  },
  {
   "cell_type": "code",
   "execution_count": 12,
   "metadata": {
    "scrolled": true
   },
   "outputs": [
    {
     "data": {
      "image/png": "[encoded data removed]",
      "text/plain": [
       "<Figure size 576x360 with 1 Axes>"
      ]
     },
     "metadata": {},
     "output_type": "display_data"
    }
   ],
   "source": [
    "plt.figure(figsize=(8,5))\n",
    "ax = sns.barplot(reviews_per_year.index, reviews_per_year.values, palette=\"GnBu_d\")\n",
    "ax.set(xlabel='Year', ylabel='')\n",
    "\n",
    "# Finalize the plot\n",
    "sns.despine(bottom=True)\n",
    "plt.tight_layout(h_pad=2)\n",
    "\n",
    "# Saving plot\n",
    "fig = ax.get_figure()\n",
    "fig.savefig('img/reviews_per_year.png', dpi=200)"
   ]
  },
  {
   "cell_type": "markdown",
   "metadata": {},
   "source": [
    "## Reviews length"
   ]
  },
  {
   "cell_type": "code",
   "execution_count": 13,
   "metadata": {},
   "outputs": [
    {
     "data": {
      "image/png": "[encoded data removed]",
      "text/plain": [
       "<Figure size 720x360 with 1 Axes>"
      ]
     },
     "metadata": {},
     "output_type": "display_data"
    }
   ],
   "source": [
    "reviews_length = allocine_df['review'].str.len()\n",
    "\n",
    "plt.figure(figsize=(10,5))\n",
    "ax = sns.distplot(reviews_length, bins=150, kde=False, hist_kws=dict(alpha=0.8))\n",
    "ax.set(xlabel='Review Length')\n",
    "\n",
    "# Finalize the plot\n",
    "sns.despine(bottom=True)\n",
    "plt.tight_layout(h_pad=2)\n",
    "\n",
    "# Saving plot\n",
    "fig = ax.get_figure()\n",
    "fig.savefig('img/reviews_length.png', dpi=200)"
   ]
  },
  {
   "cell_type": "code",
   "execution_count": 14,
   "metadata": {},
   "outputs": [
    {
     "name": "stdout",
     "output_type": "stream",
     "text": [
      "3956 reviews with LEN > 4000 (1.03 % of total data)\n"
     ]
    }
   ],
   "source": [
    "THRESHOLD = 4000\n",
    "short_reviews = allocine_df[allocine_df['review'].str.len() <= THRESHOLD]\n",
    "long_reviews =  allocine_df[allocine_df['review'].str.len() > THRESHOLD]\n",
    "\n",
    "print(\"{} reviews with LEN > {} ({:.2f} % of total data)\".format(\n",
    "    len(long_reviews),\n",
    "    THRESHOLD,\n",
    "    100 * len(long_reviews) / len(allocine_df)\n",
    "))"
   ]
  },
  {
   "cell_type": "markdown",
   "metadata": {},
   "source": [
    "Example of a long review"
   ]
  },
  {
   "cell_type": "code",
   "execution_count": 15,
   "metadata": {},
   "outputs": [
    {
     "data": {
      "text/html": [
       "<div>\n",
       "<style scoped>\n",
       "    .dataframe tbody tr th:only-of-type {\n",
       "        vertical-align: middle;\n",
       "    }\n",
       "\n",
       "    .dataframe tbody tr th {\n",
       "        vertical-align: top;\n",
       "    }\n",
       "\n",
       "    .dataframe thead th {\n",
       "        text-align: right;\n",
       "    }\n",
       "</style>\n",
       "<table border=\"1\" class=\"dataframe\">\n",
       "  <thead>\n",
       "    <tr style=\"text-align: right;\">\n",
       "      <th></th>\n",
       "      <th>film-url</th>\n",
       "      <th>rating</th>\n",
       "      <th>review</th>\n",
       "      <th>date</th>\n",
       "      <th>helpful</th>\n",
       "      <th>unhelpful</th>\n",
       "      <th>polarity</th>\n",
       "    </tr>\n",
       "  </thead>\n",
       "  <tbody>\n",
       "    <tr>\n",
       "      <th>10</th>\n",
       "      <td>http://www.allocine.fr/film/fichefilm-265567/critiques/spectateurs</td>\n",
       "      <td>2.5</td>\n",
       "      <td>Après Dunkerque et The King, les Anglais nous pondent un énième film sur des guerres qui se sont passé en France mais sans aucun Français… On est complètement effacé de l’histoire.\\nComment peut-on s’émouvoir du sauvetage de 1.600 soldats quand on sait que la première guerre mondiale a fait 10 millions de morts ? \\nLe film avec un seul plan séquence pour impressionner les Oscars.! Les deux soldats sont anti-charismatiques, l’un a une tête de bébé et l’autre a une tête de victime. Ils auraient pu foutre des acteurs virils avec des visages de soldats ! Ça aurait été plus crédible, et on se serait identifié a eux. L’un des deux, Scofield, a un pouvoir surnaturel : il est littéralement invincible. Le mec se prend une explosion, et des dizaines pierres de la taille d’une tête qui le recouvre, 5 secondes après il fait un marathon ! n’importe quoi. Il esquive également toute les balles. Il arrive a esquiver 15 balles d’un sniper posté en hauteur et réussi à le tuer ! Et en plus il chute d’un escalier, se fracasse le crane, et chute aussi d’un torrent sans jamais mourir. Son pote lui n’a pas la eu même chance : au bout d’un tiers du film il sauve un pilote allemand mais celui ci, au lieu de le remercier, le poignarde ! Donc il meurt. Ah là là ces Allemands... Ils n’ont aucune humanité. des vrais nazi dis donc. Mais cette scène est impossible : jamais un simple soldat allemands de la ww1 n’aurait agit de manière aussi barbare. Au contraire, tout les soldats de tout les camps avaient un code d’honneur et n’étaient pas des soldats fanatisé, ils avaient le respect du combattant, traitaient bien ceux qui se rendait et respectaient les drapeaux blancs. Et attention après scène il y a la scène la plus incohérente du film : quand le soldat sert son pote mort dans ses bras, il y a une colonne de soldats britanniques qui passe a coté de lui. QU’EST QU’ILS FOUTENT LA ??? Les deux soldats viennent de traverser le no man’s land, des gallérie ennemis et s’arrêtent a une ferme a 400 mètres des lignes allemandes vide, comment peut-il y avoir des soldats britannique chez eux ? Depuis quand ils sont là ? j’ai rien compris, c’est hallucinant. \\nEnsuite on voit un soldat indien qui lui est très bien mis en valeur, il est rassurant, calme et mature. Certainement pour montrer qu’on doit la victoires aux immigrés… En plus il est stupide de montrer un indien comme ça au milieu de soldats blancs : dans la vraie vie les soldats coloniaux étaient tous ensemble, par régiment, jamais mélangé. \\nLe soldat scolfield est antipathique : son pote lui sauve la vie, et lui il ne lui dit pas merci et se dispute même avec lui ! Et il remercie pas non plus les autres qui l’aident a pousser le camion, puis se barre comme un voleur. Comment voulez-vous qu’on s’attache a un personnage aussi détestable ? Bon, c’est censé se passer en 1917 mais les dialogues et les mimiques des soldats font clairement 2020, je cite « avec les potos... » ou le comportement du lieutenant leslie au début du film, on dirait un jeune fêtard fumeur de joint… Le film dure 1h50 mais il n’y a rien : toute la scène dans le village la nuit, avec la française, est inutile et chiante, les soldats qui ne font que marcher, les scènes de discussion inutiles…\\nDédicace à la scène avec la française où notre pote donne du lait cru non pasteurisé bourré de microbe et de mouche a un bébé… mais il complètement taré ce gars !! \\nL’alchimie entre les deux soldats est bidon : ils se parlent comme si s’était la première fois qui se rencontraient et ont des discussions qu’ils devraient même pas avoir tellement ce qu’ils disent est habituel dans cette guerre… \\nLa scène du village en ruine est rempli d’impossibilité : le sniper qui rate 15 tirs, le gars qui  - en théorie – se prend une balle et tombe dans les escalier mais n’a rien, le village qui brûle, les allemand bourrés et indisciplinés comme des racailles, la française et ses chansons de merdes, la fuite du gars… \\nMais j’avoue que la photographie de Roger Deakins est absolument magnifique et les plans séquences sont incroyablement bien réussie !! c’est immersif et bien fait ; Par exemple a la fin le combo : scène du village + scène de la rivière + scènes du camp + scène de l’assaut + scène avec benedict cumberbatch + scène des blessés est bluffant !! Je met 2,5/5 parce que je me suis quand même bien amusé.</td>\n",
       "      <td>2020-01-16</td>\n",
       "      <td>10</td>\n",
       "      <td>7</td>\n",
       "      <td>0</td>\n",
       "    </tr>\n",
       "  </tbody>\n",
       "</table>\n",
       "</div>"
      ],
      "text/plain": [
       "                                                              film-url  \\\n",
       "10  http://www.allocine.fr/film/fichefilm-265567/critiques/spectateurs   \n",
       "\n",
       "    rating  \\\n",
       "10  2.5      \n",
       "\n",
       "                                                                                                                                                                                                                                                                                                                                                                                                                                                                                                                                                                                                                                                                                                                                                                                                                                                                                                                                                                                                                                                                                                                                                                                                                                                                                                                                                                                                                                                                                                                                                                                                                                                                                                                                                                                                                                                                                                                                                                                                                                                                                                                                                                                                                                                                                                                                                                                                                                                                                                                                                                                                                                                                                                                                                                                                                                                                                                                                                                                                                                                                                                                                                                                                                                                                                                                                                                                                                                                                                                                                                                                                                                                                                                                                                                                                                                                                                                                                                                                                                                                                                                                                                                                                                                                                                                                                                                                                                                                                                                                          review  \\\n",
       "10  Après Dunkerque et The King, les Anglais nous pondent un énième film sur des guerres qui se sont passé en France mais sans aucun Français… On est complètement effacé de l’histoire.\\nComment peut-on s’émouvoir du sauvetage de 1.600 soldats quand on sait que la première guerre mondiale a fait 10 millions de morts ? \\nLe film avec un seul plan séquence pour impressionner les Oscars.! Les deux soldats sont anti-charismatiques, l’un a une tête de bébé et l’autre a une tête de victime. Ils auraient pu foutre des acteurs virils avec des visages de soldats ! Ça aurait été plus crédible, et on se serait identifié a eux. L’un des deux, Scofield, a un pouvoir surnaturel : il est littéralement invincible. Le mec se prend une explosion, et des dizaines pierres de la taille d’une tête qui le recouvre, 5 secondes après il fait un marathon ! n’importe quoi. Il esquive également toute les balles. Il arrive a esquiver 15 balles d’un sniper posté en hauteur et réussi à le tuer ! Et en plus il chute d’un escalier, se fracasse le crane, et chute aussi d’un torrent sans jamais mourir. Son pote lui n’a pas la eu même chance : au bout d’un tiers du film il sauve un pilote allemand mais celui ci, au lieu de le remercier, le poignarde ! Donc il meurt. Ah là là ces Allemands... Ils n’ont aucune humanité. des vrais nazi dis donc. Mais cette scène est impossible : jamais un simple soldat allemands de la ww1 n’aurait agit de manière aussi barbare. Au contraire, tout les soldats de tout les camps avaient un code d’honneur et n’étaient pas des soldats fanatisé, ils avaient le respect du combattant, traitaient bien ceux qui se rendait et respectaient les drapeaux blancs. Et attention après scène il y a la scène la plus incohérente du film : quand le soldat sert son pote mort dans ses bras, il y a une colonne de soldats britanniques qui passe a coté de lui. QU’EST QU’ILS FOUTENT LA ??? Les deux soldats viennent de traverser le no man’s land, des gallérie ennemis et s’arrêtent a une ferme a 400 mètres des lignes allemandes vide, comment peut-il y avoir des soldats britannique chez eux ? Depuis quand ils sont là ? j’ai rien compris, c’est hallucinant. \\nEnsuite on voit un soldat indien qui lui est très bien mis en valeur, il est rassurant, calme et mature. Certainement pour montrer qu’on doit la victoires aux immigrés… En plus il est stupide de montrer un indien comme ça au milieu de soldats blancs : dans la vraie vie les soldats coloniaux étaient tous ensemble, par régiment, jamais mélangé. \\nLe soldat scolfield est antipathique : son pote lui sauve la vie, et lui il ne lui dit pas merci et se dispute même avec lui ! Et il remercie pas non plus les autres qui l’aident a pousser le camion, puis se barre comme un voleur. Comment voulez-vous qu’on s’attache a un personnage aussi détestable ? Bon, c’est censé se passer en 1917 mais les dialogues et les mimiques des soldats font clairement 2020, je cite « avec les potos... » ou le comportement du lieutenant leslie au début du film, on dirait un jeune fêtard fumeur de joint… Le film dure 1h50 mais il n’y a rien : toute la scène dans le village la nuit, avec la française, est inutile et chiante, les soldats qui ne font que marcher, les scènes de discussion inutiles…\\nDédicace à la scène avec la française où notre pote donne du lait cru non pasteurisé bourré de microbe et de mouche a un bébé… mais il complètement taré ce gars !! \\nL’alchimie entre les deux soldats est bidon : ils se parlent comme si s’était la première fois qui se rencontraient et ont des discussions qu’ils devraient même pas avoir tellement ce qu’ils disent est habituel dans cette guerre… \\nLa scène du village en ruine est rempli d’impossibilité : le sniper qui rate 15 tirs, le gars qui  - en théorie – se prend une balle et tombe dans les escalier mais n’a rien, le village qui brûle, les allemand bourrés et indisciplinés comme des racailles, la française et ses chansons de merdes, la fuite du gars… \\nMais j’avoue que la photographie de Roger Deakins est absolument magnifique et les plans séquences sont incroyablement bien réussie !! c’est immersif et bien fait ; Par exemple a la fin le combo : scène du village + scène de la rivière + scènes du camp + scène de l’assaut + scène avec benedict cumberbatch + scène des blessés est bluffant !! Je met 2,5/5 parce que je me suis quand même bien amusé.   \n",
       "\n",
       "         date  helpful  unhelpful  polarity  \n",
       "10 2020-01-16  10       7          0         "
      ]
     },
     "execution_count": 15,
     "metadata": {},
     "output_type": "execute_result"
    }
   ],
   "source": [
    "long_reviews.head(1)"
   ]
  },
  {
   "cell_type": "code",
   "execution_count": 16,
   "metadata": {},
   "outputs": [
    {
     "data": {
      "image/png": "[encoded data removed]",
      "text/plain": [
       "<Figure size 576x360 with 1 Axes>"
      ]
     },
     "metadata": {},
     "output_type": "display_data"
    }
   ],
   "source": [
    "short_reviews_length = short_reviews['review'].str.len()\n",
    "\n",
    "plt.figure(figsize=(8,5))\n",
    "ax = sns.distplot(short_reviews_length, bins=100, kde=False, hist_kws=dict(alpha=0.8))\n",
    "ax.set(xlabel='Review Length')\n",
    "\n",
    "# Finalize the plot\n",
    "sns.despine(bottom=True)\n",
    "plt.tight_layout(h_pad=2)\n",
    "\n",
    "# Saving plot\n",
    "fig = ax.get_figure()\n",
    "fig.savefig('img/short_reviews_length.png', dpi=200)"
   ]
  },
  {
   "cell_type": "code",
   "execution_count": null,
   "metadata": {},
   "outputs": [],
   "source": [
    "# TODO: other analysis ?\n",
    "# Histograms of reviews lengths for each rating (negative reviews are shorter ?)"
   ]
  },
  {
   "cell_type": "code",
   "execution_count": null,
   "metadata": {
    "scrolled": true
   },
   "outputs": [],
   "source": [
    "# Num reviews per film ? => why are we limiting to 30 reviews per film ?"
   ]
  },
  {
   "cell_type": "code",
   "execution_count": null,
   "metadata": {},
   "outputs": [],
   "source": []
  },
  {
   "cell_type": "code",
   "execution_count": null,
   "metadata": {},
   "outputs": [],
   "source": []
  },
  {
   "cell_type": "markdown",
   "metadata": {
    "scrolled": false
   },
   "source": [
    "# Build dataset"
   ]
  },
  {
   "cell_type": "code",
   "execution_count": 30,
   "metadata": {},
   "outputs": [
    {
     "name": "stdout",
     "output_type": "stream",
     "text": [
      "Length: 384079\n"
     ]
    }
   ],
   "source": [
    "dataset_df = allocine_df.copy()\n",
    "initial_len = len(dataset_df)\n",
    "print(\"Length: {}\".format(initial_len))"
   ]
  },
  {
   "cell_type": "markdown",
   "metadata": {},
   "source": [
    "## Remove data we don't need "
   ]
  },
  {
   "cell_type": "code",
   "execution_count": 31,
   "metadata": {},
   "outputs": [],
   "source": [
    "def loss_percentage(df, previous_length):\n",
    "    new_length = len(df)\n",
    "    percentage = 100*(1-(new_length/previous_length))    \n",
    "    return new_length, percentage  "
   ]
  },
  {
   "cell_type": "code",
   "execution_count": 32,
   "metadata": {
    "scrolled": true
   },
   "outputs": [
    {
     "name": "stdout",
     "output_type": "stream",
     "text": [
      "Length: 259210 (-32.5 %)\n",
      "Length: 256353 (-1.1 %)\n",
      "Total loss: (-33.3 %)\n"
     ]
    }
   ],
   "source": [
    "# 1. Drop columns we don't need\n",
    "dataset_df = dataset_df.drop(columns=['rating', 'date', 'helpful', 'unhelpful'])\n",
    "\n",
    "# 2. Drop rows we don't need (neutral polarity)\n",
    "dataset_df = dataset_df[dataset_df['polarity'] != 0]\n",
    "length, percentage = loss_percentage(dataset_df, initial_len)\n",
    "print(\"Length: {} (-{:.1f} %)\".format(length, percentage))\n",
    "\n",
    "# 3. Remove long reviews\n",
    "LENGTH_THRESH = 4000\n",
    "dataset_df = dataset_df[dataset_df['review'].str.len() <= LENGTH_THRESH]\n",
    "length, percentage = loss_percentage(dataset_df, length)\n",
    "print(\"Length: {} (-{:.1f} %)\".format(length, percentage))\n",
    "\n",
    "# 4. Limit number of reviews per film\n",
    "\"\"\"\n",
    "MAX_REVIEWS_PER_FILM = 30\n",
    "grouped = dataset_df.groupby('film-url')\n",
    "for ids in grouped.groups.values():\n",
    "    num_reviews = len(ids)    \n",
    "    if num_reviews > MAX_REVIEWS_PER_FILM:\n",
    "        sampling_size = num_reviews - MAX_REVIEWS_PER_FILM\n",
    "        ids_to_drop = random.sample(list(ids), sampling_size)\n",
    "        dataset_df = dataset_df.drop(ids_to_drop)\n",
    "        \n",
    "length, percentage = loss_percentage(dataset_df, length)\n",
    "print(\"Length: {} (-{:.1f} %)\".format(length, percentage))\n",
    "\"\"\"\n",
    "# Total loss\n",
    "length, percentage = loss_percentage(dataset_df, initial_len)\n",
    "print(\"Total loss: (-{:.1f} %)\".format(percentage))"
   ]
  },
  {
   "cell_type": "code",
   "execution_count": 33,
   "metadata": {},
   "outputs": [],
   "source": [
    "# Change -1 to 0 for negative polarity\n",
    "dataset_df.loc[dataset_df['polarity'] == -1, 'polarity'] = 0"
   ]
  },
  {
   "cell_type": "code",
   "execution_count": 61,
   "metadata": {
    "scrolled": false
   },
   "outputs": [
    {
     "data": {
      "text/plain": [
       "polarity\n",
       "0    105687\n",
       "1    150666\n",
       "dtype: int64"
      ]
     },
     "execution_count": 61,
     "metadata": {},
     "output_type": "execute_result"
    }
   ],
   "source": [
    "dataset_df.groupby('polarity').size()"
   ]
  },
  {
   "cell_type": "markdown",
   "metadata": {},
   "source": [
    "## Clean review text"
   ]
  },
  {
   "cell_type": "code",
   "execution_count": 35,
   "metadata": {},
   "outputs": [],
   "source": [
    "import re\n",
    "\n",
    "def clean_text(text):\n",
    "    text = text.replace('\\xa0', ' ')\n",
    "    text = text.replace('\\x92', \"'\")\n",
    "    \n",
    "    # Substituting multiple spaces with single space\n",
    "    # Also remove '\\n' and '\\r' occurences\n",
    "    text= re.sub(r'\\s+', ' ', text, flags=re.I)\n",
    "    \n",
    "    return text\n",
    " \n",
    "dataset_df['review'] = dataset_df['review'].apply(clean_text)"
   ]
  },
  {
   "cell_type": "markdown",
   "metadata": {},
   "source": [
    "## Remove empty reviews"
   ]
  },
  {
   "cell_type": "code",
   "execution_count": 70,
   "metadata": {},
   "outputs": [],
   "source": [
    "# Remove reviews with less than 3 characters\n",
    "# Done after text processing on purpose\n",
    "dataset_df = dataset_df[dataset_df['review'].str.len() > 2]"
   ]
  },
  {
   "cell_type": "code",
   "execution_count": 71,
   "metadata": {},
   "outputs": [
    {
     "data": {
      "text/html": [
       "<div>\n",
       "<style scoped>\n",
       "    .dataframe tbody tr th:only-of-type {\n",
       "        vertical-align: middle;\n",
       "    }\n",
       "\n",
       "    .dataframe tbody tr th {\n",
       "        vertical-align: top;\n",
       "    }\n",
       "\n",
       "    .dataframe thead th {\n",
       "        text-align: right;\n",
       "    }\n",
       "</style>\n",
       "<table border=\"1\" class=\"dataframe\">\n",
       "  <thead>\n",
       "    <tr style=\"text-align: right;\">\n",
       "      <th></th>\n",
       "      <th>film-url</th>\n",
       "      <th>review</th>\n",
       "      <th>polarity</th>\n",
       "    </tr>\n",
       "  </thead>\n",
       "  <tbody>\n",
       "    <tr>\n",
       "      <th>221733</th>\n",
       "      <td>http://www.allocine.fr/film/fichefilm-141261/critiques/spectateurs</td>\n",
       "      <td>Voilà unfilm qui dit être historique... peu importe : c'et une fable merveilleuse, magnifiquement mise en scène et interprétée. Les idées profondes sont présentées avec douceur et drôlerie. Allez-y !!!!!!</td>\n",
       "      <td>1</td>\n",
       "    </tr>\n",
       "    <tr>\n",
       "      <th>217567</th>\n",
       "      <td>http://www.allocine.fr/film/fichefilm-169916/critiques/spectateurs</td>\n",
       "      <td>Au Canada, Mordecai Richler (1931-2001) est un auteur-culte. On lui doit, entre autre, \"L’apprentissage de Duddy Kravitz\" qui révéla l’acteur Richard Dreyfuss en 1974… Et cela faisait des années que le producteur Robert Lantos, familier de l’œuvre de Richler, rêvait de porter à l’écran un de ses romans les plus illustres, \"Barney’s version\". A l’instar du \"Monde selon Garp\" de John Irving, \"Barney’s version\" ne raconte pas une histoire linéaire, mais dresse le portrait d’un homme, dans toute sa complexité et dans toutes ses contradictions : Barney Panofsky, impulsif, drôle, alcoolique, sentimental, irascible… Bref, haut en couleurs. Un des moments forts de la vie de Barney – et, par conséquent, un des points d’orgue du film- c’est lorsque, le jour de son deuxième mariage avec une riche héritière juive, il tombe éperdument amoureux d’une autre femme, Myriam, qu’il va chercher, sans relâche, à séduire, et qui deviendra la femme de sa vie… On l’aura compris : plus qu’une intrigue, \"Barney’s version\" repose sur une galerie de personnages, tantôt émouvants, tantôt pittoresques. Pour que ce genre de comédie douce-amère fonctionne, le casting est déterminant. Le producteur et le réalisateur Richard L. Lewis ont eu la main heureuse en confiant le rôle principal du film à Paul Giamatti, figure essentielle du cinéma américain indépendant ( \"Sideways\", \"Cold souls\" ) : avec son air de Droopy, il apporte toute l’humanité nécessaire au rôle, et a remporté le Golden Globe du meilleur acteur dans une comédie en janvier dernier. Mais il faut aussi citer quelques inoubliables seconds rôles : Dustin Hoffman, en vieux papa anticonformiste de Barney, est magnifique, et l’anglaise Rosamund Pyke, dans le rôle de Myriam, prouve une fois de plus qu’elle est une des plus séduisantes actrices de sa génération. Même si \"Barney’s version\" connaît un démarrage un peu hésitant, il ne tarde pas à trouver son ton, et son humour désenchanté s’imprime alors durablement dans la mémoire du spectateur. (source: http://www.rtbf.be/info/chroniques/chronique_the-adjustment-bureau-une-belle-fable-metaphysique?id=5822713 )</td>\n",
       "      <td>1</td>\n",
       "    </tr>\n",
       "    <tr>\n",
       "      <th>313230</th>\n",
       "      <td>http://www.allocine.fr/film/fichefilm-248159/critiques/spectateurs</td>\n",
       "      <td>Ce film montre une consultation qui est tout sauf humaniste, où des médecins soi-disant engagés ne sont pas à l'écoute de celles et ceux qu'ils prétendent soigner, où l'on prescrit des anti-dépresseurs comme remèdes à la violence administrative d'Etat, ce que le médecin reconnaît lui-même lorsqu'il dit que ce genre de prescriptions signe son impuissance face à la demande de ses patients. J'avais entendu parler de ce film et je pensais qu'il allait me gonfler d'espoir en montrant des professionnels de santé formés aux problématiques de l'exil, un dispositif transdisciplinaire inspiré de l'ethnopsychiatrie de Devereux dans ce haut lieu qu'est l'Hôpital Avicenne, anciennement hôpital des musulmans de France... Ce que j'ai vu est tout l'inverse : de vieux schnocks gentils mais incompétents, un médecin désaffecté, une psychiatre inexistante, le bruit du clavier et du tampon de l'ordonnance comme réponse à la douleur exprimée par les patients, l'enfant à qui l'on ne parle pas, sauf le perche man qui a compris qu'il y avait un malaise et qui tente d'entrer en relation avec ce bébé à qui personne ne peut traduire la situation.. La dernière phrase rend bien compte de la posture de cette consultation après que le médecin a jugé tout de go devant la caméra que la femme qu'il recevait avait \"une vie de merde\" : \"So Mrs, good luck !\"</td>\n",
       "      <td>0</td>\n",
       "    </tr>\n",
       "    <tr>\n",
       "      <th>341733</th>\n",
       "      <td>http://www.allocine.fr/film/fichefilm-4756/critiques/spectateurs</td>\n",
       "      <td>Je pense que c’est le premier film chinois que j’ai vu, quand j’avais une vingtaine d’années, et il m’a particulièrement marqué, de par son évocation poignante, sans doute très autobiographique de la jeunesse de Dai Sijie, de ce que la Révolution Culturelle a pu infliger à des innocents. Si vous vous promenez dans les Pyrénées, vous pourrez dormir dans le refuge qui avait, pour le tournage du film, été transformé en temple chinois...</td>\n",
       "      <td>1</td>\n",
       "    </tr>\n",
       "    <tr>\n",
       "      <th>7446</th>\n",
       "      <td>http://www.allocine.fr/film/fichefilm-273687/critiques/spectateurs</td>\n",
       "      <td>En 1927, Lilian Alling a disparu en ralliant à pied la Russie depuis New York en traversant le continent américain puis le détroit de Béring. Un réalisateur autrichien, Andreas Horvath, a transposé cette histoire vraie à notre époque et confié le rôle principal, quasiment muet, à une plasticienne polonaise, Patrycja Planik. \"Lillian\" est une longue errance à travers les États-Unis. On y retrouve la soif d’absolu qui nourrissait déjà \"Into the Wild\", Wild\", \"Captain fantastic\" ou \"Leave no Trace\" dont les protagonistes mutiques tournaient le dos à la société et revenaient à la nature. Si \"Lilian\" a la même radicalité que ces quatre films-là, il n’est pas aussi réussi qu’eux. La faute peut-être à une trop grande radicalité. Le réalisateur refuse d’expliquer la dromomanie de Lillian : on ne saura rien de son passé, de ce qu’elle fuit et de ce vers quoi elle va. Il refuse également d’enjoliver les étapes de son périple de rencontres édifiantes. Il filme à l’os une femme qui marche, seule, dans une nature, splendide et indifférente. Seule dérogation à ces principes rigoureux : des épisodes quasi-documentaires qui sont autant de témoignages sur l’Amérique profonde, celle même que documentait Frederick Wiseman dans \"Monrovia, Indiana\", Claus Drexel dans \"America\" ou Stéphanie Gillard dans \"The Ride\", ses rednecks confits dans leurs préjugés, ses rares belles âmes compatissantes. Les images sont belles. On peut se laisser happer par leur beauté hypnotique. Jusqu’à un épilogue étonnant filmé au milieu du détroit de Béring, auprès d’Inuits chassant la baleine au harpon comme au temps jadis. Mais on risque aussi de trouver le temps long. Très long.</td>\n",
       "      <td>0</td>\n",
       "    </tr>\n",
       "  </tbody>\n",
       "</table>\n",
       "</div>"
      ],
      "text/plain": [
       "                                                                  film-url  \\\n",
       "221733  http://www.allocine.fr/film/fichefilm-141261/critiques/spectateurs   \n",
       "217567  http://www.allocine.fr/film/fichefilm-169916/critiques/spectateurs   \n",
       "313230  http://www.allocine.fr/film/fichefilm-248159/critiques/spectateurs   \n",
       "341733  http://www.allocine.fr/film/fichefilm-4756/critiques/spectateurs     \n",
       "7446    http://www.allocine.fr/film/fichefilm-273687/critiques/spectateurs   \n",
       "\n",
       "                                                                                                                                                                                                                                                                                                                                                                                                                                                                                                                                                                                                                                                                                                                                                                                                                                                                                                                                                                                                                                                                                                                                                                                                                                                                                                                                                                                                                                                                                                                                                                                                                                                                                                                                                                                                                                                                                                                                                                                                                                                                                                                                                                                                        review  \\\n",
       "221733  Voilà unfilm qui dit être historique... peu importe : c'et une fable merveilleuse, magnifiquement mise en scène et interprétée. Les idées profondes sont présentées avec douceur et drôlerie. Allez-y !!!!!!                                                                                                                                                                                                                                                                                                                                                                                                                                                                                                                                                                                                                                                                                                                                                                                                                                                                                                                                                                                                                                                                                                                                                                                                                                                                                                                                                                                                                                                                                                                                                                                                                                                                                                                                                                                                                                                                                                                                                                                             \n",
       "217567  Au Canada, Mordecai Richler (1931-2001) est un auteur-culte. On lui doit, entre autre, \"L’apprentissage de Duddy Kravitz\" qui révéla l’acteur Richard Dreyfuss en 1974… Et cela faisait des années que le producteur Robert Lantos, familier de l’œuvre de Richler, rêvait de porter à l’écran un de ses romans les plus illustres, \"Barney’s version\". A l’instar du \"Monde selon Garp\" de John Irving, \"Barney’s version\" ne raconte pas une histoire linéaire, mais dresse le portrait d’un homme, dans toute sa complexité et dans toutes ses contradictions : Barney Panofsky, impulsif, drôle, alcoolique, sentimental, irascible… Bref, haut en couleurs. Un des moments forts de la vie de Barney – et, par conséquent, un des points d’orgue du film- c’est lorsque, le jour de son deuxième mariage avec une riche héritière juive, il tombe éperdument amoureux d’une autre femme, Myriam, qu’il va chercher, sans relâche, à séduire, et qui deviendra la femme de sa vie… On l’aura compris : plus qu’une intrigue, \"Barney’s version\" repose sur une galerie de personnages, tantôt émouvants, tantôt pittoresques. Pour que ce genre de comédie douce-amère fonctionne, le casting est déterminant. Le producteur et le réalisateur Richard L. Lewis ont eu la main heureuse en confiant le rôle principal du film à Paul Giamatti, figure essentielle du cinéma américain indépendant ( \"Sideways\", \"Cold souls\" ) : avec son air de Droopy, il apporte toute l’humanité nécessaire au rôle, et a remporté le Golden Globe du meilleur acteur dans une comédie en janvier dernier. Mais il faut aussi citer quelques inoubliables seconds rôles : Dustin Hoffman, en vieux papa anticonformiste de Barney, est magnifique, et l’anglaise Rosamund Pyke, dans le rôle de Myriam, prouve une fois de plus qu’elle est une des plus séduisantes actrices de sa génération. Même si \"Barney’s version\" connaît un démarrage un peu hésitant, il ne tarde pas à trouver son ton, et son humour désenchanté s’imprime alors durablement dans la mémoire du spectateur. (source: http://www.rtbf.be/info/chroniques/chronique_the-adjustment-bureau-une-belle-fable-metaphysique?id=5822713 )   \n",
       "313230  Ce film montre une consultation qui est tout sauf humaniste, où des médecins soi-disant engagés ne sont pas à l'écoute de celles et ceux qu'ils prétendent soigner, où l'on prescrit des anti-dépresseurs comme remèdes à la violence administrative d'Etat, ce que le médecin reconnaît lui-même lorsqu'il dit que ce genre de prescriptions signe son impuissance face à la demande de ses patients. J'avais entendu parler de ce film et je pensais qu'il allait me gonfler d'espoir en montrant des professionnels de santé formés aux problématiques de l'exil, un dispositif transdisciplinaire inspiré de l'ethnopsychiatrie de Devereux dans ce haut lieu qu'est l'Hôpital Avicenne, anciennement hôpital des musulmans de France... Ce que j'ai vu est tout l'inverse : de vieux schnocks gentils mais incompétents, un médecin désaffecté, une psychiatre inexistante, le bruit du clavier et du tampon de l'ordonnance comme réponse à la douleur exprimée par les patients, l'enfant à qui l'on ne parle pas, sauf le perche man qui a compris qu'il y avait un malaise et qui tente d'entrer en relation avec ce bébé à qui personne ne peut traduire la situation.. La dernière phrase rend bien compte de la posture de cette consultation après que le médecin a jugé tout de go devant la caméra que la femme qu'il recevait avait \"une vie de merde\" : \"So Mrs, good luck !\"                                                                                                                                                                                                                                                                                                                                                                                                                                                                                                                                                                                                                                                                                                                                                                                                           \n",
       "341733  Je pense que c’est le premier film chinois que j’ai vu, quand j’avais une vingtaine d’années, et il m’a particulièrement marqué, de par son évocation poignante, sans doute très autobiographique de la jeunesse de Dai Sijie, de ce que la Révolution Culturelle a pu infliger à des innocents. Si vous vous promenez dans les Pyrénées, vous pourrez dormir dans le refuge qui avait, pour le tournage du film, été transformé en temple chinois...                                                                                                                                                                                                                                                                                                                                                                                                                                                                                                                                                                                                                                                                                                                                                                                                                                                                                                                                                                                                                                                                                                                                                                                                                                                                                                                                                                                                                                                                                                                                                                                                                                                                                                                                                    \n",
       "7446    En 1927, Lilian Alling a disparu en ralliant à pied la Russie depuis New York en traversant le continent américain puis le détroit de Béring. Un réalisateur autrichien, Andreas Horvath, a transposé cette histoire vraie à notre époque et confié le rôle principal, quasiment muet, à une plasticienne polonaise, Patrycja Planik. \"Lillian\" est une longue errance à travers les États-Unis. On y retrouve la soif d’absolu qui nourrissait déjà \"Into the Wild\", Wild\", \"Captain fantastic\" ou \"Leave no Trace\" dont les protagonistes mutiques tournaient le dos à la société et revenaient à la nature. Si \"Lilian\" a la même radicalité que ces quatre films-là, il n’est pas aussi réussi qu’eux. La faute peut-être à une trop grande radicalité. Le réalisateur refuse d’expliquer la dromomanie de Lillian : on ne saura rien de son passé, de ce qu’elle fuit et de ce vers quoi elle va. Il refuse également d’enjoliver les étapes de son périple de rencontres édifiantes. Il filme à l’os une femme qui marche, seule, dans une nature, splendide et indifférente. Seule dérogation à ces principes rigoureux : des épisodes quasi-documentaires qui sont autant de témoignages sur l’Amérique profonde, celle même que documentait Frederick Wiseman dans \"Monrovia, Indiana\", Claus Drexel dans \"America\" ou Stéphanie Gillard dans \"The Ride\", ses rednecks confits dans leurs préjugés, ses rares belles âmes compatissantes. Les images sont belles. On peut se laisser happer par leur beauté hypnotique. Jusqu’à un épilogue étonnant filmé au milieu du détroit de Béring, auprès d’Inuits chassant la baleine au harpon comme au temps jadis. Mais on risque aussi de trouver le temps long. Très long.                                                                                                                                                                                                                                                                                                                                                                                                                                                                        \n",
       "\n",
       "        polarity  \n",
       "221733  1         \n",
       "217567  1         \n",
       "313230  0         \n",
       "341733  1         \n",
       "7446    0         "
      ]
     },
     "execution_count": 71,
     "metadata": {},
     "output_type": "execute_result"
    }
   ],
   "source": [
    "dataset_df.sample(5, random_state=42)"
   ]
  },
  {
   "cell_type": "code",
   "execution_count": null,
   "metadata": {},
   "outputs": [],
   "source": []
  },
  {
   "cell_type": "markdown",
   "metadata": {},
   "source": [
    "## Balance classes"
   ]
  },
  {
   "cell_type": "code",
   "execution_count": 72,
   "metadata": {},
   "outputs": [],
   "source": [
    "# The overall distribution of labels is balanced (25k pos and 25k neg).\n",
    "# We don't have to have train and testset perfectly balanced\n",
    "\n",
    "balanced_df = dataset_df.copy()\n",
    "\n",
    "MAX_REVIEWS_PER_POLARITY = 10000\n",
    "# 4. Limit number of reviews per film\n",
    "grouped = balanced_df.groupby('polarity')\n",
    "for ids in grouped.groups.values():\n",
    "    num_reviews = len(ids)    \n",
    "    if num_reviews > MAX_REVIEWS_PER_POLARITY:\n",
    "        sampling_size = num_reviews - MAX_REVIEWS_PER_POLARITY\n",
    "        ids_to_drop = random.sample(list(ids), sampling_size)\n",
    "        balanced_df = balanced_df.drop(ids_to_drop)"
   ]
  },
  {
   "cell_type": "code",
   "execution_count": 73,
   "metadata": {},
   "outputs": [
    {
     "name": "stdout",
     "output_type": "stream",
     "text": [
      "polarity\n",
      "0    10000\n",
      "1    10000\n",
      "dtype: int64\n"
     ]
    },
    {
     "data": {
      "text/html": [
       "<div>\n",
       "<style scoped>\n",
       "    .dataframe tbody tr th:only-of-type {\n",
       "        vertical-align: middle;\n",
       "    }\n",
       "\n",
       "    .dataframe tbody tr th {\n",
       "        vertical-align: top;\n",
       "    }\n",
       "\n",
       "    .dataframe thead th {\n",
       "        text-align: right;\n",
       "    }\n",
       "</style>\n",
       "<table border=\"1\" class=\"dataframe\">\n",
       "  <thead>\n",
       "    <tr style=\"text-align: right;\">\n",
       "      <th></th>\n",
       "      <th>film-url</th>\n",
       "      <th>review</th>\n",
       "      <th>polarity</th>\n",
       "    </tr>\n",
       "  </thead>\n",
       "  <tbody>\n",
       "    <tr>\n",
       "      <th>200181</th>\n",
       "      <td>http://www.allocine.fr/film/fichefilm-10226/critiques/spectateurs</td>\n",
       "      <td>Un film lent et froid avec des personnages tristes. De quoi vous mettre votre soirée en l'air mais c'est vous qui voyez.</td>\n",
       "      <td>0</td>\n",
       "    </tr>\n",
       "    <tr>\n",
       "      <th>38038</th>\n",
       "      <td>http://www.allocine.fr/film/fichefilm-12704/critiques/spectateurs</td>\n",
       "      <td>\"Suspiria\", un film qu'il faut avoir vu dans sa vie quand on aime les films d'épouvante/horreur. Déjà, quelle bonne bande son... Enfin, ce n'est pas le plus important ! Au début je trouvais l'ambiance trop particulière, je n'accrochais pas, mais j'ai changé d'avis après la première scène de meurtre ! J'ai été surpris par ce gore, quand on remet le film dans le contexte de l'époque, mais c'était tout de même très bien fait, tellement que ça en devient presque beau, artistique. La tension est bien là, et l'histoire accrocheuse. Sans doute l'un des meilleurs film d'horreur italien ! Presque un chef-d'œuvre ! Si j'avais vu le film à sa sortie, j'aurais donné la note maximale.</td>\n",
       "      <td>1</td>\n",
       "    </tr>\n",
       "    <tr>\n",
       "      <th>160879</th>\n",
       "      <td>http://www.allocine.fr/film/fichefilm-52636/critiques/spectateurs</td>\n",
       "      <td>Regarder \"S21\" est, ne le nions pas, une véritable épreuve : ce que Rithy Panh montre ici, en parcourant les lieux désolés d'un ancien centre de torture, en mettant en présence bourreaux et victimes dans un pays qui n'a pas encore fait son travail de mémoire et de deuil, et surtout en faisant refaire aux tortionnaires les gestes mêmes de l'horreur, c'est l'incompréhensible monstruosité de la nature humaine telle qu'elle s'exprime dans le génocide. Sur des principes pas très éloignés de ceux de Lanzmann, mais pour des motifs sans doute différents (on n'est pas ici dans une approche morale et intellectuelle de l'indicible, mais dans l'impossibilité de faire le travail de reconcilation dans une société qui n'a pas affronté la vérité), Panh fait véritablement un travail exemplaire de cinéaste, de par la justesse de son regard et l'obstination de sa quête. \"S21\" est un film nécessaire, á nous autant qu'aux Cambodgiens.</td>\n",
       "      <td>1</td>\n",
       "    </tr>\n",
       "    <tr>\n",
       "      <th>20756</th>\n",
       "      <td>http://www.allocine.fr/film/fichefilm-148441/critiques/spectateurs</td>\n",
       "      <td>Un très bon divertissement que cette comédie rythmée et drôle, emmenée par un duo Duris-Paradis très efficace et des seconds rôles comme François Damiens bien remontés ! S'il s'agit avant tout d'une comédie, on est pas si loin du film d'action, d'ailleurs la manière dont se déroule la fin du film fait monter la sauce de façon très appréciable. Beaucoup de soleil et d'originalité, une belle photographie, des acteurs pétillants et du charme malgré un scénario peu surprenant font la recette de cette comédie sympathique, dont la morale est joyeuse et dure à la fois. Une belle surprise !</td>\n",
       "      <td>1</td>\n",
       "    </tr>\n",
       "    <tr>\n",
       "      <th>264816</th>\n",
       "      <td>http://www.allocine.fr/film/fichefilm-59879/critiques/spectateurs</td>\n",
       "      <td>Magnifique film naturaliste. Baigné dans des paysages champêtres, Ultranova se laisse regarder avec grand plaisir. Les longs plans-séquences, les dialogues ainsi que le jeu des acteurs portent le spectateur d'un bout à l'autre du film. A la fois critiques de la société, critique des mœurs, de la fatalité et de bien d'autres, Ultranova dresse le portrait d'une vie, comme le ferait Maupassant au Flaubert.</td>\n",
       "      <td>1</td>\n",
       "    </tr>\n",
       "    <tr>\n",
       "      <th>227069</th>\n",
       "      <td>http://www.allocine.fr/film/fichefilm-146564/critiques/spectateurs</td>\n",
       "      <td>Sur une bonne idee de depart, et malgre un bon Kevin Spacey, le film fait Pschiiiiittt . La faute a une realisation hyper classique, un script ennuyeux car trop inegal. Se laisse regarder une fois, mais sans plus.</td>\n",
       "      <td>0</td>\n",
       "    </tr>\n",
       "    <tr>\n",
       "      <th>208720</th>\n",
       "      <td>http://www.allocine.fr/film/fichefilm-46558/critiques/spectateurs</td>\n",
       "      <td>Un film plutôt réussi , dans le genre de ces films de Kung Fhu. Une mise en scène assez rigoureuse . Des décors peints à l'ancienne, de qualité. Des cadrages soignés.. Les acteurs sonts bons et jouent dans leur registre mélodramatique. Le scénario n'a rien d'exceptionnel , mais il y a un côté tragédie antique bien retranscrit. Pour ce genre de sous catégorie film B de Hong Kong , se laisse regarder avec plaisir, au 2e degré..</td>\n",
       "      <td>0</td>\n",
       "    </tr>\n",
       "    <tr>\n",
       "      <th>55377</th>\n",
       "      <td>http://www.allocine.fr/film/fichefilm-269465/critiques/spectateurs</td>\n",
       "      <td>Histoire de science fiction est amusante sortir la terre du système solaire. les effets spéciaux sont très bien faits. Dommage que les dialogues ne sont pas en français</td>\n",
       "      <td>1</td>\n",
       "    </tr>\n",
       "    <tr>\n",
       "      <th>379848</th>\n",
       "      <td>http://www.allocine.fr/film/fichefilm-186008/critiques/spectateurs</td>\n",
       "      <td>S.J. Clarkson adapte le roman autobiographique \"Toast : The Story of A Boy's Hunger\" (publié en 2004) du célèbre Nigel Slater (un grand nom de la gastronomie culinaire anglaise). Dès le début du film, on se retrouve plongé en plein cœur des années 60, les reconstitutions sont fidèles, les décors soignés et les couleurs foisonnent. La présentation des personnages est-elle aussi réussie, avec d’un côté, le personnage central du film, à savoir Nigel Slater (parfaitement incarné par Oscar Kennedy avant que Freddie Highmore ne prenne la relève en l’incarnant à l’adolescence). Les seconds rôles nous réservent d’agréables surprises comme Ken Stott &amp; Victoria Hamilton (respectivement le père et la mère), sans oublier l’odieuse Helena Bonham Carter. En fin de compte, si la première partie s’avère convaincante, la seconde aura le don de décevoir et d’ennuyer. Le film ne nous apprend pas grand chose sur Nigel Slater, si ce n’est qu’il est gay, que sa mère était une piètre cuisinière et gravement malade, que son père était odieux, que la Grande-Bretagne ne connaît pas la cuisine raffinée, bref, si vous veniez pour voir un film sur la gastronomie à l’anglaise, c’est loupé, ce biopic se focalise sur trop peu d’éléments pour pleinement satisfaire sur toute la longueur, le film s’avère sans grand intérêt, c’est une déception, dommage car il y avait pourtant du potentiel.</td>\n",
       "      <td>0</td>\n",
       "    </tr>\n",
       "    <tr>\n",
       "      <th>150510</th>\n",
       "      <td>http://www.allocine.fr/film/fichefilm-248315/critiques/spectateurs</td>\n",
       "      <td>« Confident Royal » met en lumière avec soin et délicatesse, une histoire singulière et étonnante par rapport à son contexte historique situé en 1876. Stephen Frears nous plonge en effet en plein XIX ème siècle lors du règne de la reine Victoria, avec justement celle-ci aux premières loges... Cette peinture de la monarchie britannique est ici d’autant plus intéressante qu’elle révèle un fait d’époque assez savoureux par l’intermédiaire de cette relation touchante et humaine qui va se tisser entre la reine et un Indien tout juste débarqué de son pays, afin de lui remettre un présent pour son jubilé d’or... Et sans jeu de mot, Judi Dench est à ce niveau tout simplement royale en campant un personnage saisissant dans son comportement, ses agissements et sa détermination ! On reste plus d’une fois impressionné par l’actrice qui compose cette femme plus vraie que nature, au caractère trempé, aux yeux glacés, aux manières dures et inflexibles ! Pour la voir ensuite se transformer et fondre tout simplement devant Abdoul (Ali Fazal, très touchant), ce fonctionnaire musulman passionné de littérature, charmant et bienveillant, dont le naturel et la gentillesse auront raison de sa séduction ! Car cette femme obèse et acariâtre, extrêmement seule par son pouvoir et sa fonction, va ainsi sous nos yeux rajeunir et même renaître, en retrouvant une naïveté et une fraîcheur, doublées d’un aplomb complètement inattendu... Toute la suite avec les incidences causées par ce duo improbable, sera véritablement un régal ! L’étude de la cour, dont chaque sujet sera par ailleurs terriblement bien croqué, fera l’objet d’échanges croustillants tant la jalousie et l’incompréhension arriveront à des sommets inimaginables ! Les bonnes manières, le protocole voleront en éclat, révélant un racisme et un mépris chez tous ceux qui graviteront autour de la reine Victoria ! C’est donc une peinture sans concession d’aucune sorte de ce fait historique que nous propose là le cinéaste, peinture empreinte d’un certain romantisme doublée d’une cruauté évidente ! Chaque rôle secondaire vaut ici son pesant d’or par la façon dont il est traité et on pense notamment au Prince (interprété par Eddie Izzard), ainsi qu’au médecin, tous deux parfaits dans leur prestation. Si bien qu’au bout du compte, cette petite histoire édifiante noyée dans la grande Histoire, devient une pure curiosité par ce qu’elle nous apprend sur cette amitié hors du commun et ses conséquences !</td>\n",
       "      <td>1</td>\n",
       "    </tr>\n",
       "  </tbody>\n",
       "</table>\n",
       "</div>"
      ],
      "text/plain": [
       "                                                                  film-url  \\\n",
       "200181  http://www.allocine.fr/film/fichefilm-10226/critiques/spectateurs    \n",
       "38038   http://www.allocine.fr/film/fichefilm-12704/critiques/spectateurs    \n",
       "160879  http://www.allocine.fr/film/fichefilm-52636/critiques/spectateurs    \n",
       "20756   http://www.allocine.fr/film/fichefilm-148441/critiques/spectateurs   \n",
       "264816  http://www.allocine.fr/film/fichefilm-59879/critiques/spectateurs    \n",
       "227069  http://www.allocine.fr/film/fichefilm-146564/critiques/spectateurs   \n",
       "208720  http://www.allocine.fr/film/fichefilm-46558/critiques/spectateurs    \n",
       "55377   http://www.allocine.fr/film/fichefilm-269465/critiques/spectateurs   \n",
       "379848  http://www.allocine.fr/film/fichefilm-186008/critiques/spectateurs   \n",
       "150510  http://www.allocine.fr/film/fichefilm-248315/critiques/spectateurs   \n",
       "\n",
       "                                                                                                                                                                                                                                                                                                                                                                                                                                                                                                                                                                                                                                                                                                                                                                                                                                                                                                                                                                                                                                                                                                                                                                                                                                                                                                                                                                                                                                                                                                                                                                                                                                                                                                                                                                                                                                                                                                                                                                                                                                                                                                                                                                                                                                                                                                                                                                                                                                                                                                                                                                review  \\\n",
       "200181  Un film lent et froid avec des personnages tristes. De quoi vous mettre votre soirée en l'air mais c'est vous qui voyez.                                                                                                                                                                                                                                                                                                                                                                                                                                                                                                                                                                                                                                                                                                                                                                                                                                                                                                                                                                                                                                                                                                                                                                                                                                                                                                                                                                                                                                                                                                                                                                                                                                                                                                                                                                                                                                                                                                                                                                                                                                                                                                                                                                                                                                                                                                                                                                                                                                         \n",
       "38038   \"Suspiria\", un film qu'il faut avoir vu dans sa vie quand on aime les films d'épouvante/horreur. Déjà, quelle bonne bande son... Enfin, ce n'est pas le plus important ! Au début je trouvais l'ambiance trop particulière, je n'accrochais pas, mais j'ai changé d'avis après la première scène de meurtre ! J'ai été surpris par ce gore, quand on remet le film dans le contexte de l'époque, mais c'était tout de même très bien fait, tellement que ça en devient presque beau, artistique. La tension est bien là, et l'histoire accrocheuse. Sans doute l'un des meilleurs film d'horreur italien ! Presque un chef-d'œuvre ! Si j'avais vu le film à sa sortie, j'aurais donné la note maximale.                                                                                                                                                                                                                                                                                                                                                                                                                                                                                                                                                                                                                                                                                                                                                                                                                                                                                                                                                                                                                                                                                                                                                                                                                                                                                                                                                                                                                                                                                                                                                                                                                                                                                                                                                                                                                                                         \n",
       "160879  Regarder \"S21\" est, ne le nions pas, une véritable épreuve : ce que Rithy Panh montre ici, en parcourant les lieux désolés d'un ancien centre de torture, en mettant en présence bourreaux et victimes dans un pays qui n'a pas encore fait son travail de mémoire et de deuil, et surtout en faisant refaire aux tortionnaires les gestes mêmes de l'horreur, c'est l'incompréhensible monstruosité de la nature humaine telle qu'elle s'exprime dans le génocide. Sur des principes pas très éloignés de ceux de Lanzmann, mais pour des motifs sans doute différents (on n'est pas ici dans une approche morale et intellectuelle de l'indicible, mais dans l'impossibilité de faire le travail de reconcilation dans une société qui n'a pas affronté la vérité), Panh fait véritablement un travail exemplaire de cinéaste, de par la justesse de son regard et l'obstination de sa quête. \"S21\" est un film nécessaire, á nous autant qu'aux Cambodgiens.                                                                                                                                                                                                                                                                                                                                                                                                                                                                                                                                                                                                                                                                                                                                                                                                                                                                                                                                                                                                                                                                                                                                                                                                                                                                                                                                                                                                                                                                                                                                                                                                  \n",
       "20756   Un très bon divertissement que cette comédie rythmée et drôle, emmenée par un duo Duris-Paradis très efficace et des seconds rôles comme François Damiens bien remontés ! S'il s'agit avant tout d'une comédie, on est pas si loin du film d'action, d'ailleurs la manière dont se déroule la fin du film fait monter la sauce de façon très appréciable. Beaucoup de soleil et d'originalité, une belle photographie, des acteurs pétillants et du charme malgré un scénario peu surprenant font la recette de cette comédie sympathique, dont la morale est joyeuse et dure à la fois. Une belle surprise !                                                                                                                                                                                                                                                                                                                                                                                                                                                                                                                                                                                                                                                                                                                                                                                                                                                                                                                                                                                                                                                                                                                                                                                                                                                                                                                                                                                                                                                                                                                                                                                                                                                                                                                                                                                                                                                                                                                                                    \n",
       "264816  Magnifique film naturaliste. Baigné dans des paysages champêtres, Ultranova se laisse regarder avec grand plaisir. Les longs plans-séquences, les dialogues ainsi que le jeu des acteurs portent le spectateur d'un bout à l'autre du film. A la fois critiques de la société, critique des mœurs, de la fatalité et de bien d'autres, Ultranova dresse le portrait d'une vie, comme le ferait Maupassant au Flaubert.                                                                                                                                                                                                                                                                                                                                                                                                                                                                                                                                                                                                                                                                                                                                                                                                                                                                                                                                                                                                                                                                                                                                                                                                                                                                                                                                                                                                                                                                                                                                                                                                                                                                                                                                                                                                                                                                                                                                                                                                                                                                                                                                           \n",
       "227069  Sur une bonne idee de depart, et malgre un bon Kevin Spacey, le film fait Pschiiiiittt . La faute a une realisation hyper classique, un script ennuyeux car trop inegal. Se laisse regarder une fois, mais sans plus.                                                                                                                                                                                                                                                                                                                                                                                                                                                                                                                                                                                                                                                                                                                                                                                                                                                                                                                                                                                                                                                                                                                                                                                                                                                                                                                                                                                                                                                                                                                                                                                                                                                                                                                                                                                                                                                                                                                                                                                                                                                                                                                                                                                                                                                                                                                                            \n",
       "208720  Un film plutôt réussi , dans le genre de ces films de Kung Fhu. Une mise en scène assez rigoureuse . Des décors peints à l'ancienne, de qualité. Des cadrages soignés.. Les acteurs sonts bons et jouent dans leur registre mélodramatique. Le scénario n'a rien d'exceptionnel , mais il y a un côté tragédie antique bien retranscrit. Pour ce genre de sous catégorie film B de Hong Kong , se laisse regarder avec plaisir, au 2e degré..                                                                                                                                                                                                                                                                                                                                                                                                                                                                                                                                                                                                                                                                                                                                                                                                                                                                                                                                                                                                                                                                                                                                                                                                                                                                                                                                                                                                                                                                                                                                                                                                                                                                                                                                                                                                                                                                                                                                                                                                                                                                                                                    \n",
       "55377   Histoire de science fiction est amusante sortir la terre du système solaire. les effets spéciaux sont très bien faits. Dommage que les dialogues ne sont pas en français                                                                                                                                                                                                                                                                                                                                                                                                                                                                                                                                                                                                                                                                                                                                                                                                                                                                                                                                                                                                                                                                                                                                                                                                                                                                                                                                                                                                                                                                                                                                                                                                                                                                                                                                                                                                                                                                                                                                                                                                                                                                                                                                                                                                                                                                                                                                                                                         \n",
       "379848  S.J. Clarkson adapte le roman autobiographique \"Toast : The Story of A Boy's Hunger\" (publié en 2004) du célèbre Nigel Slater (un grand nom de la gastronomie culinaire anglaise). Dès le début du film, on se retrouve plongé en plein cœur des années 60, les reconstitutions sont fidèles, les décors soignés et les couleurs foisonnent. La présentation des personnages est-elle aussi réussie, avec d’un côté, le personnage central du film, à savoir Nigel Slater (parfaitement incarné par Oscar Kennedy avant que Freddie Highmore ne prenne la relève en l’incarnant à l’adolescence). Les seconds rôles nous réservent d’agréables surprises comme Ken Stott & Victoria Hamilton (respectivement le père et la mère), sans oublier l’odieuse Helena Bonham Carter. En fin de compte, si la première partie s’avère convaincante, la seconde aura le don de décevoir et d’ennuyer. Le film ne nous apprend pas grand chose sur Nigel Slater, si ce n’est qu’il est gay, que sa mère était une piètre cuisinière et gravement malade, que son père était odieux, que la Grande-Bretagne ne connaît pas la cuisine raffinée, bref, si vous veniez pour voir un film sur la gastronomie à l’anglaise, c’est loupé, ce biopic se focalise sur trop peu d’éléments pour pleinement satisfaire sur toute la longueur, le film s’avère sans grand intérêt, c’est une déception, dommage car il y avait pourtant du potentiel.                                                                                                                                                                                                                                                                                                                                                                                                                                                                                                                                                                                                                                                                                                                                                                                                                                                                                                                                                                                                                                                                                                                                \n",
       "150510  « Confident Royal » met en lumière avec soin et délicatesse, une histoire singulière et étonnante par rapport à son contexte historique situé en 1876. Stephen Frears nous plonge en effet en plein XIX ème siècle lors du règne de la reine Victoria, avec justement celle-ci aux premières loges... Cette peinture de la monarchie britannique est ici d’autant plus intéressante qu’elle révèle un fait d’époque assez savoureux par l’intermédiaire de cette relation touchante et humaine qui va se tisser entre la reine et un Indien tout juste débarqué de son pays, afin de lui remettre un présent pour son jubilé d’or... Et sans jeu de mot, Judi Dench est à ce niveau tout simplement royale en campant un personnage saisissant dans son comportement, ses agissements et sa détermination ! On reste plus d’une fois impressionné par l’actrice qui compose cette femme plus vraie que nature, au caractère trempé, aux yeux glacés, aux manières dures et inflexibles ! Pour la voir ensuite se transformer et fondre tout simplement devant Abdoul (Ali Fazal, très touchant), ce fonctionnaire musulman passionné de littérature, charmant et bienveillant, dont le naturel et la gentillesse auront raison de sa séduction ! Car cette femme obèse et acariâtre, extrêmement seule par son pouvoir et sa fonction, va ainsi sous nos yeux rajeunir et même renaître, en retrouvant une naïveté et une fraîcheur, doublées d’un aplomb complètement inattendu... Toute la suite avec les incidences causées par ce duo improbable, sera véritablement un régal ! L’étude de la cour, dont chaque sujet sera par ailleurs terriblement bien croqué, fera l’objet d’échanges croustillants tant la jalousie et l’incompréhension arriveront à des sommets inimaginables ! Les bonnes manières, le protocole voleront en éclat, révélant un racisme et un mépris chez tous ceux qui graviteront autour de la reine Victoria ! C’est donc une peinture sans concession d’aucune sorte de ce fait historique que nous propose là le cinéaste, peinture empreinte d’un certain romantisme doublée d’une cruauté évidente ! Chaque rôle secondaire vaut ici son pesant d’or par la façon dont il est traité et on pense notamment au Prince (interprété par Eddie Izzard), ainsi qu’au médecin, tous deux parfaits dans leur prestation. Si bien qu’au bout du compte, cette petite histoire édifiante noyée dans la grande Histoire, devient une pure curiosité par ce qu’elle nous apprend sur cette amitié hors du commun et ses conséquences !   \n",
       "\n",
       "        polarity  \n",
       "200181  0         \n",
       "38038   1         \n",
       "160879  1         \n",
       "20756   1         \n",
       "264816  1         \n",
       "227069  0         \n",
       "208720  0         \n",
       "55377   1         \n",
       "379848  0         \n",
       "150510  1         "
      ]
     },
     "execution_count": 73,
     "metadata": {},
     "output_type": "execute_result"
    }
   ],
   "source": [
    "print(balanced_df.groupby('polarity').size())\n",
    "balanced_df.sample(10, random_state=42)"
   ]
  },
  {
   "cell_type": "markdown",
   "metadata": {},
   "source": [
    "## Split train/val/test"
   ]
  },
  {
   "cell_type": "code",
   "execution_count": 77,
   "metadata": {},
   "outputs": [
    {
     "name": "stdout",
     "output_type": "stream",
     "text": [
      "LEN TRAIN: 12000\n",
      "LEN VAL: 4000\n",
      "LEN TEST: 4000\n"
     ]
    }
   ],
   "source": [
    "TRAIN_RATIO = 0.6\n",
    "VAL_RATIO = 0.2\n",
    "TEST_RATIO = 0.2\n",
    "\n",
    "total_size = len(balanced_df)\n",
    "\n",
    "train_df = balanced_df.copy()\n",
    "val_df = pd.DataFrame()\n",
    "test_df = pd.DataFrame()\n",
    "\n",
    "while True:\n",
    "    row = train_df.sample(1, random_state=42)\n",
    "    url = row['film-url'].iloc[0]\n",
    "    rows = train_df[train_df['film-url'] == url]\n",
    "    if(len(val_df) < VAL_RATIO * total_size):\n",
    "        val_df = val_df.append(rows)\n",
    "        train_df = train_df[train_df['film-url'] != url]        \n",
    "    elif(len(test_df) < TEST_RATIO * total_size):\n",
    "        test_df = test_df.append(rows)\n",
    "        train_df = train_df[train_df['film-url'] != url]\n",
    "    else:\n",
    "        break\n",
    "\n",
    "# Shuffle dataframes & reset indexes\n",
    "train_df = train_df.sample(frac=1, random_state=42).reset_index(drop=True)\n",
    "val_df = val_df.sample(frac=1, random_state=42).reset_index(drop=True)\n",
    "test_df = test_df.sample(frac=1, random_state=42).reset_index(drop=True)\n",
    "    \n",
    "print(\"LEN TRAIN: \" + str(len(train_df)))\n",
    "print(\"LEN VAL: \" + str(len(val_df)))\n",
    "print(\"LEN TEST: \" + str(len(test_df)))"
   ]
  },
  {
   "cell_type": "code",
   "execution_count": 78,
   "metadata": {},
   "outputs": [
    {
     "data": {
      "image/png": "[encoded data removed]",
      "text/plain": [
       "<Figure size 720x360 with 3 Axes>"
      ]
     },
     "metadata": {},
     "output_type": "display_data"
    }
   ],
   "source": [
    "splits = [train_df, val_df, test_df]\n",
    "titles = [\"Train set\", \"Val set\", \"Test set\"]\n",
    "\n",
    "fig, ax = plt.subplots(1, len(splits), sharex=True, figsize=(10,5))\n",
    "for i, (data, title) in enumerate(zip(splits, titles)):\n",
    "    sns.countplot(data=data, x='polarity', palette=[\"r\", \"g\"], ax=ax[i])\n",
    "    ax[i].set(xlabel='', ylabel='')\n",
    "    ax[i].set_xticklabels(['Negative', 'Positive']) \n",
    "    ax[i].set_title(title)\n",
    "    \n",
    "    # Frequencies\n",
    "    ncount = len(data)\n",
    "    for p in ax[i].patches:\n",
    "        x=p.get_bbox().get_points()[:,0]\n",
    "        y=p.get_bbox().get_points()[1,1]\n",
    "        ax[i].annotate('{:.1f}%'.format(100.*y/ncount), (x.mean(), y), \n",
    "                ha='center', va='bottom') # set the alignment of the text\n",
    "\n",
    "# Finalize the plot\n",
    "sns.despine(bottom=True)\n",
    "plt.tight_layout(h_pad=2)\n",
    "\n",
    "# Saving plot\n",
    "fig.savefig('img/splits_polarity.png', dpi=200)"
   ]
  },
  {
   "cell_type": "markdown",
   "metadata": {},
   "source": [
    "# Export"
   ]
  },
  {
   "cell_type": "markdown",
   "metadata": {},
   "source": [
    "## To pickle"
   ]
  },
  {
   "cell_type": "code",
   "execution_count": 79,
   "metadata": {},
   "outputs": [],
   "source": [
    "DATA_DIR = 'data'"
   ]
  },
  {
   "cell_type": "code",
   "execution_count": 80,
   "metadata": {},
   "outputs": [],
   "source": [
    "import pickle\n",
    "\n",
    "out_dict = {\n",
    "    'train_set': train_df,\n",
    "    'val_set': val_df,\n",
    "    'test_set': test_df,\n",
    "    'class_names': {-1: 'Negative', \n",
    "                    1: 'Positive'}    \n",
    "}\n",
    "\n",
    "pickle_file = os.path.join(DATA_DIR, \"allocine_dataset.pickle\")\n",
    "with open(pickle_file, 'wb') as writer:\n",
    "    pickle.dump(out_dict, writer)"
   ]
  },
  {
   "cell_type": "code",
   "execution_count": 81,
   "metadata": {},
   "outputs": [
    {
     "name": "stdout",
     "output_type": "stream",
     "text": [
      "LEN TRAIN: 12000\n",
      "LEN VAL: 4000\n",
      "LEN TEST: 4000\n"
     ]
    }
   ],
   "source": [
    "with open(pickle_file, 'rb') as reader:\n",
    "    data = pickle.load(reader)\n",
    "    \n",
    "print(\"LEN TRAIN: \"+ str(len(data[\"train_set\"])))\n",
    "print(\"LEN VAL: \"+ str(len(data[\"val_set\"])))\n",
    "print(\"LEN TEST: \"+ str(len(data[\"test_set\"])))"
   ]
  },
  {
   "cell_type": "markdown",
   "metadata": {},
   "source": [
    "## To Jsonlines"
   ]
  },
  {
   "cell_type": "code",
   "execution_count": 82,
   "metadata": {},
   "outputs": [],
   "source": [
    "import jsonlines\n",
    "\n",
    "splits = [train_df, val_df, test_df]\n",
    "files = [\"train.jsonl\", \"val.jsonl\", \"test.jsonl\"]\n",
    "\n",
    "for split, file in zip(splits, files):\n",
    "    export_file = os.path.join(DATA_DIR, file)\n",
    "    with jsonlines.open(export_file, mode='w') as writer:\n",
    "        for index, row in split.iterrows():        \n",
    "            writer.write({\n",
    "                \"film-url\": row[\"film-url\"],\n",
    "                \"review\": row[\"review\"],\n",
    "                \"polarity\": row[\"polarity\"]\n",
    "            })"
   ]
  },
  {
   "cell_type": "markdown",
   "metadata": {},
   "source": [
    "## Create archive"
   ]
  },
  {
   "cell_type": "code",
   "execution_count": 83,
   "metadata": {},
   "outputs": [],
   "source": [
    "import tarfile\n",
    "\n",
    "with tarfile.open(\"data.tar.bz2\", \"w:bz2\") as tar:\n",
    "    tar.add(DATA_DIR, arcname=os.path.basename(DATA_DIR))"
   ]
  },
  {
   "cell_type": "code",
   "execution_count": null,
   "metadata": {},
   "outputs": [],
   "source": []
  }
 ],
 "metadata": {
  "kernelspec": {
   "display_name": "Python 3",
   "language": "python",
   "name": "python3"
  },
  "language_info": {
   "codemirror_mode": {
    "name": "ipython",
    "version": 3
   },
   "file_extension": ".py",
   "mimetype": "text/x-python",
   "name": "python",
   "nbconvert_exporter": "python",
   "pygments_lexer": "ipython3",
   "version": "3.7.5"
  }
 },
 "nbformat": 4,
 "nbformat_minor": 4
}
