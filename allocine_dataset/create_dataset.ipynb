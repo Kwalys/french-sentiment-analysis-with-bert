{
 "cells": [
  {
   "cell_type": "code",
   "execution_count": 2,
   "metadata": {
    "scrolled": true
   },
   "outputs": [],
   "source": [
    "import os\n",
    "import random\n",
    "random.seed(42) \n",
    "\n",
    "import matplotlib.pyplot as plt\n",
    "import pandas as pd\n",
    "import seaborn as sns\n",
    "\n",
    "# Inline plots in Jupyter notebooks\n",
    "%matplotlib inline\n",
    "\n",
    "# better display of review text in dataframes\n",
    "pd.set_option('display.max_colwidth', None) \n",
    "\n",
    "# Seaborn style\n",
    "sns.set(style=\"whitegrid\")"
   ]
  },
  {
   "cell_type": "markdown",
   "metadata": {},
   "source": [
    "# Load pickle files"
   ]
  },
  {
   "cell_type": "code",
   "execution_count": 3,
   "metadata": {},
   "outputs": [
    {
     "name": "stdout",
     "output_type": "stream",
     "text": [
      "Reading file: pickle/allocine_0.pickle\n",
      "Reading file: pickle/allocine_1.pickle\n",
      "Reading file: pickle/allocine_2.pickle\n",
      "Reading file: pickle/allocine_3.pickle\n",
      "Reading file: pickle/allocine_4.pickle\n",
      "Reading file: pickle/allocine_5.pickle\n",
      "Reading file: pickle/allocine_6.pickle\n",
      "Reading file: pickle/allocine_7.pickle\n",
      "Reading file: pickle/allocine_8.pickle\n",
      "Reading file: pickle/allocine_9.pickle\n",
      "Reading file: pickle/allocine_10.pickle\n",
      "Reading file: pickle/allocine_11.pickle\n",
      "Reading file: pickle/allocine_12.pickle\n",
      "Reading file: pickle/allocine_13.pickle\n",
      "Reading file: pickle/allocine_14.pickle\n",
      "Reading file: pickle/allocine_15.pickle\n",
      "Reading file: pickle/allocine_16.pickle\n",
      "Reading file: pickle/allocine_17.pickle\n",
      "Reading file: pickle/allocine_18.pickle\n",
      "Reading file: pickle/allocine_19.pickle\n",
      "Reading file: pickle/allocine_20.pickle\n",
      "\n",
      "Loaded 384079 reviews !\n"
     ]
    }
   ],
   "source": [
    "PICKLE_DIR = 'pickle'\n",
    "\n",
    "allocine_df = pd.DataFrame()\n",
    "\n",
    "files = [file for file in os.listdir(PICKLE_DIR) if file.endswith(\".pickle\")]\n",
    "files.sort(key=lambda f: int(''.join(filter(str.isdigit, f))))\n",
    "\n",
    "for file in files:\n",
    "    path = os.path.join(PICKLE_DIR, file)\n",
    "    print(\"Reading file: \" + path)\n",
    "    df = pd.read_pickle(path)\n",
    "    allocine_df = allocine_df.append(df, ignore_index=True)\n",
    "    \n",
    "print()\n",
    "print(\"Loaded {} reviews !\".format(len(allocine_df)))"
   ]
  },
  {
   "cell_type": "markdown",
   "metadata": {},
   "source": [
    "# Explore data"
   ]
  },
  {
   "cell_type": "code",
   "execution_count": 4,
   "metadata": {},
   "outputs": [
    {
     "data": {
      "text/html": [
       "<div>\n",
       "<style scoped>\n",
       "    .dataframe tbody tr th:only-of-type {\n",
       "        vertical-align: middle;\n",
       "    }\n",
       "\n",
       "    .dataframe tbody tr th {\n",
       "        vertical-align: top;\n",
       "    }\n",
       "\n",
       "    .dataframe thead th {\n",
       "        text-align: right;\n",
       "    }\n",
       "</style>\n",
       "<table border=\"1\" class=\"dataframe\">\n",
       "  <thead>\n",
       "    <tr style=\"text-align: right;\">\n",
       "      <th></th>\n",
       "      <th>film-url</th>\n",
       "      <th>rating</th>\n",
       "      <th>review</th>\n",
       "      <th>date</th>\n",
       "      <th>helpful</th>\n",
       "      <th>unhelpful</th>\n",
       "    </tr>\n",
       "  </thead>\n",
       "  <tbody>\n",
       "    <tr>\n",
       "      <th>53894</th>\n",
       "      <td>http://www.allocine.fr/film/fichefilm-111632/critiques/spectateurs</td>\n",
       "      <td>1.0</td>\n",
       "      <td>Sans grande surprise, le premier opus de la franchise (il en existe trois actuellement) est dépourvu d’originalité et d’un quelconque intérêt. Sexy Dance (2006) est ultra conventionnel, prévisible au bout de dix minutes et pour un film qui avoisine les 105 minutes, il y en a clairement 45 en trop, entre les répétitions inutiles, les séquences musicales et de danses à rallonges, les répliques mièvres, les disputes et les réconciliations, bref, une sortie en DTV aurait largement suffit ! Espérons que le second volet (2008) et le troisième (2010) seront relever le niveau.</td>\n",
       "      <td>2010-09-21</td>\n",
       "      <td>1</td>\n",
       "      <td>1</td>\n",
       "    </tr>\n",
       "    <tr>\n",
       "      <th>366314</th>\n",
       "      <td>http://www.allocine.fr/film/fichefilm-209558/critiques/spectateurs</td>\n",
       "      <td>3.5</td>\n",
       "      <td>enfin un téléfilm Gulli qui traite des vacances ! un téléfilm très sympathique, bien joué et divertissant pour les moins de 12 ans.</td>\n",
       "      <td>2014-11-14</td>\n",
       "      <td>1</td>\n",
       "      <td>2</td>\n",
       "    </tr>\n",
       "    <tr>\n",
       "      <th>14939</th>\n",
       "      <td>http://www.allocine.fr/film/fichefilm-109788/critiques/spectateurs</td>\n",
       "      <td>5.0</td>\n",
       "      <td>En voyant la multiplication de critiques négatives envers ce monument du cinéma modernes, j'ai re-regardé There Will Be Blood une troisième fois. Et le verdict est toujours le même, on est toujours face à une leçon magistrale de cinéma. Les acteurs sont plus qu'excellents (Day-Lewis comme à son habitude fait exploser le talentomètre, mais aussi le sous-estimé Paul Dano). Les dialogues sont écrits à la perfection. La réalisation est irréprochable, offre certains plans très beaux plans mais arrive à asseoir une ambiance angoissante et poisseuse, appuyé par la musique qui déroute au début mais arrive à nous influencer inconsciemment et instaurer chez le spectateur un profond malaise à certains moments (les dangers du métier de mineur dans une exploitation pétrolière sont parfaitement retranscris à l'écran). Cette ambiance sert une histoire passionnante, celle d'un exploitant misanthrope (de plus en plus détestable) sombrant dans la folie et qui ne cherche qu'une chose: être assez riche pour pouvoir vivre coupé du monde. Tout est parfait, rien que la scène de fin (grand moment, interrogation sur la foi religieuse, le dévoilement de la vraie nature des personnages principaux, le milk-shake, etc) devrait suffire nous faire aimer There Will Be Blood, ou au moins lui reconnaître ses indéniables qualités.</td>\n",
       "      <td>2017-01-11</td>\n",
       "      <td>3</td>\n",
       "      <td>0</td>\n",
       "    </tr>\n",
       "  </tbody>\n",
       "</table>\n",
       "</div>"
      ],
      "text/plain": [
       "                                                                  film-url  \\\n",
       "53894   http://www.allocine.fr/film/fichefilm-111632/critiques/spectateurs   \n",
       "366314  http://www.allocine.fr/film/fichefilm-209558/critiques/spectateurs   \n",
       "14939   http://www.allocine.fr/film/fichefilm-109788/critiques/spectateurs   \n",
       "\n",
       "        rating  \\\n",
       "53894      1.0   \n",
       "366314     3.5   \n",
       "14939      5.0   \n",
       "\n",
       "                                                                                                                                                                                                                                                                                                                                                                                                                                                                                                                                                                                                                                                                                                                                                                                                                                                                                                                                                                                                                                                                                                                                                                                                                                                                                                                                                                       review  \\\n",
       "53894                                                                                                                                                                                                                                                                                                                                                                                                                                                                                                                                                                                                                                                                                                                                                                         Sans grande surprise, le premier opus de la franchise (il en existe trois actuellement) est dépourvu d’originalité et d’un quelconque intérêt. Sexy Dance (2006) est ultra conventionnel, prévisible au bout de dix minutes et pour un film qui avoisine les 105 minutes, il y en a clairement 45 en trop, entre les répétitions inutiles, les séquences musicales et de danses à rallonges, les répliques mièvres, les disputes et les réconciliations, bref, une sortie en DTV aurait largement suffit ! Espérons que le second volet (2008) et le troisième (2010) seront relever le niveau.   \n",
       "366314                                                                                                                                                                                                                                                                                                                                                                                                                                                                                                                                                                                                                                                                                                                                                                                                                                                                                                                                                                                                                                                                                                                                                                                                                                    enfin un téléfilm Gulli qui traite des vacances ! un téléfilm très sympathique, bien joué et divertissant pour les moins de 12 ans.   \n",
       "14939   En voyant la multiplication de critiques négatives envers ce monument du cinéma modernes, j'ai re-regardé There Will Be Blood une troisième fois. Et le verdict est toujours le même, on est toujours face à une leçon magistrale de cinéma. Les acteurs sont plus qu'excellents (Day-Lewis comme à son habitude fait exploser le talentomètre, mais aussi le sous-estimé Paul Dano). Les dialogues sont écrits à la perfection. La réalisation est irréprochable, offre certains plans très beaux plans mais arrive à asseoir une ambiance angoissante et poisseuse, appuyé par la musique qui déroute au début mais arrive à nous influencer inconsciemment et instaurer chez le spectateur un profond malaise à certains moments (les dangers du métier de mineur dans une exploitation pétrolière sont parfaitement retranscris à l'écran). Cette ambiance sert une histoire passionnante, celle d'un exploitant misanthrope (de plus en plus détestable) sombrant dans la folie et qui ne cherche qu'une chose: être assez riche pour pouvoir vivre coupé du monde. Tout est parfait, rien que la scène de fin (grand moment, interrogation sur la foi religieuse, le dévoilement de la vraie nature des personnages principaux, le milk-shake, etc) devrait suffire nous faire aimer There Will Be Blood, ou au moins lui reconnaître ses indéniables qualités.   \n",
       "\n",
       "              date  helpful  unhelpful  \n",
       "53894   2010-09-21        1          1  \n",
       "366314  2014-11-14        1          2  \n",
       "14939   2017-01-11        3          0  "
      ]
     },
     "execution_count": 4,
     "metadata": {},
     "output_type": "execute_result"
    }
   ],
   "source": [
    "allocine_df.sample(3, random_state=42)"
   ]
  },
  {
   "cell_type": "markdown",
   "metadata": {},
   "source": [
    "## Negative reviews"
   ]
  },
  {
   "cell_type": "markdown",
   "metadata": {},
   "source": [
    "We consider a review is negative when its associating rating is less than or equal to 2.0, which includes 4 categories: 0.5, 1.0, 1.5 and 2.0"
   ]
  },
  {
   "cell_type": "code",
   "execution_count": 5,
   "metadata": {
    "scrolled": true
   },
   "outputs": [
    {
     "data": {
      "text/html": [
       "<div>\n",
       "<style scoped>\n",
       "    .dataframe tbody tr th:only-of-type {\n",
       "        vertical-align: middle;\n",
       "    }\n",
       "\n",
       "    .dataframe tbody tr th {\n",
       "        vertical-align: top;\n",
       "    }\n",
       "\n",
       "    .dataframe thead th {\n",
       "        text-align: right;\n",
       "    }\n",
       "</style>\n",
       "<table border=\"1\" class=\"dataframe\">\n",
       "  <thead>\n",
       "    <tr style=\"text-align: right;\">\n",
       "      <th></th>\n",
       "      <th>film-url</th>\n",
       "      <th>rating</th>\n",
       "      <th>review</th>\n",
       "      <th>date</th>\n",
       "      <th>helpful</th>\n",
       "      <th>unhelpful</th>\n",
       "    </tr>\n",
       "  </thead>\n",
       "  <tbody>\n",
       "    <tr>\n",
       "      <th>320352</th>\n",
       "      <td>http://www.allocine.fr/film/fichefilm-131749/critiques/spectateurs</td>\n",
       "      <td>0.5</td>\n",
       "      <td>Le film m'a semblé interminable, et pourtant il dure à peine 1h30.\\r\\nUne compilation de fausses bonnes idées, pour un scénario que mon neveu de 12 ans n'aurait aucun mal à écrire. Les personnages sont stupides, les situations convenues, et les dialogues désesperant.\\r\\nLa mise en scéne simplette ( alors qu'on sent le metteur en scéne tres content de lui ), et le charisme proche de celui d'une moule de l'acteur principal font de ce film un spectacle affligeant.</td>\n",
       "      <td>2009-02-02</td>\n",
       "      <td>0</td>\n",
       "      <td>1</td>\n",
       "    </tr>\n",
       "    <tr>\n",
       "      <th>332411</th>\n",
       "      <td>http://www.allocine.fr/film/fichefilm-41414/critiques/spectateurs</td>\n",
       "      <td>1.5</td>\n",
       "      <td>Un film excessivement mauvais et très ennuyeux, c'est fâcheux.</td>\n",
       "      <td>2012-12-17</td>\n",
       "      <td>0</td>\n",
       "      <td>1</td>\n",
       "    </tr>\n",
       "    <tr>\n",
       "      <th>293009</th>\n",
       "      <td>http://www.allocine.fr/film/fichefilm-73848/critiques/spectateurs</td>\n",
       "      <td>0.5</td>\n",
       "      <td>Impossible d'accrocher tellement c'est mauvais...</td>\n",
       "      <td>2007-10-11</td>\n",
       "      <td>0</td>\n",
       "      <td>1</td>\n",
       "    </tr>\n",
       "  </tbody>\n",
       "</table>\n",
       "</div>"
      ],
      "text/plain": [
       "                                                                  film-url  \\\n",
       "320352  http://www.allocine.fr/film/fichefilm-131749/critiques/spectateurs   \n",
       "332411   http://www.allocine.fr/film/fichefilm-41414/critiques/spectateurs   \n",
       "293009   http://www.allocine.fr/film/fichefilm-73848/critiques/spectateurs   \n",
       "\n",
       "        rating  \\\n",
       "320352     0.5   \n",
       "332411     1.5   \n",
       "293009     0.5   \n",
       "\n",
       "                                                                                                                                                                                                                                                                                                                                                                                                                                                                                   review  \\\n",
       "320352  Le film m'a semblé interminable, et pourtant il dure à peine 1h30.\\r\\nUne compilation de fausses bonnes idées, pour un scénario que mon neveu de 12 ans n'aurait aucun mal à écrire. Les personnages sont stupides, les situations convenues, et les dialogues désesperant.\\r\\nLa mise en scéne simplette ( alors qu'on sent le metteur en scéne tres content de lui ), et le charisme proche de celui d'une moule de l'acteur principal font de ce film un spectacle affligeant.   \n",
       "332411                                                                                                                                                                                                                                                                                                                                                                                                                     Un film excessivement mauvais et très ennuyeux, c'est fâcheux.   \n",
       "293009                                                                                                                                                                                                                                                                                                                                                                                                                                  Impossible d'accrocher tellement c'est mauvais...   \n",
       "\n",
       "              date  helpful  unhelpful  \n",
       "320352  2009-02-02        0          1  \n",
       "332411  2012-12-17        0          1  \n",
       "293009  2007-10-11        0          1  "
      ]
     },
     "execution_count": 5,
     "metadata": {},
     "output_type": "execute_result"
    }
   ],
   "source": [
    "negative_reviews = allocine_df[allocine_df['rating'] <= 2.0]\n",
    "negative_reviews.sample(3, random_state=42)"
   ]
  },
  {
   "cell_type": "markdown",
   "metadata": {},
   "source": [
    "## Positive reviews"
   ]
  },
  {
   "cell_type": "markdown",
   "metadata": {},
   "source": [
    "We consider a review is positive when its associating rating is greater than or equal to to 4.0, which includes 3 categories: 4.0, 4.5 and 5.0"
   ]
  },
  {
   "cell_type": "code",
   "execution_count": 6,
   "metadata": {},
   "outputs": [
    {
     "data": {
      "text/html": [
       "<div>\n",
       "<style scoped>\n",
       "    .dataframe tbody tr th:only-of-type {\n",
       "        vertical-align: middle;\n",
       "    }\n",
       "\n",
       "    .dataframe tbody tr th {\n",
       "        vertical-align: top;\n",
       "    }\n",
       "\n",
       "    .dataframe thead th {\n",
       "        text-align: right;\n",
       "    }\n",
       "</style>\n",
       "<table border=\"1\" class=\"dataframe\">\n",
       "  <thead>\n",
       "    <tr style=\"text-align: right;\">\n",
       "      <th></th>\n",
       "      <th>film-url</th>\n",
       "      <th>rating</th>\n",
       "      <th>review</th>\n",
       "      <th>date</th>\n",
       "      <th>helpful</th>\n",
       "      <th>unhelpful</th>\n",
       "    </tr>\n",
       "  </thead>\n",
       "  <tbody>\n",
       "    <tr>\n",
       "      <th>153779</th>\n",
       "      <td>http://www.allocine.fr/film/fichefilm-242131/critiques/spectateurs</td>\n",
       "      <td>4.0</td>\n",
       "      <td>Le film, porté par une Virginie Efira au sommet de son art, charme par la concision de sa mise en scène et la justesse des rapports entre mère et fils. \\n\\nLA SUITE :</td>\n",
       "      <td>2017-03-30</td>\n",
       "      <td>1</td>\n",
       "      <td>0</td>\n",
       "    </tr>\n",
       "    <tr>\n",
       "      <th>304158</th>\n",
       "      <td>http://www.allocine.fr/film/fichefilm-121048/critiques/spectateurs</td>\n",
       "      <td>5.0</td>\n",
       "      <td>Quel que soit votre âge, si vieillir vous fait peur, courez vite voir ce film. Réalisé à Madrid par le cinéaste argentin Marcos Carnevale, \"Elsa &amp; Fred\" est une merveilleuse histoire d'amour entre une adolescente de 82 ans, d'origine argentine, fofolle et menteuse, et un jeune veuf de 77 ans, au départ plutôt hypocondriaque. Ce qui se passe entre eux ainsi que les rapports qu'ils entretiennent avec leurs enfants nous entraînent dans un récit à la fois émouvant et drôle, jamais vulgaire. Ce film a un charme fou et les 2 acteurs, China Zorrilla et Manuel Alexandre, sont absolument parfaits. S'il y avait une justice dans le monde du cinéma, ce film dépasserait les 10 millions de spectateurs, avec 99 % de taux de satisfaction.</td>\n",
       "      <td>2006-12-20</td>\n",
       "      <td>0</td>\n",
       "      <td>0</td>\n",
       "    </tr>\n",
       "    <tr>\n",
       "      <th>108277</th>\n",
       "      <td>http://www.allocine.fr/film/fichefilm-105494/critiques/spectateurs</td>\n",
       "      <td>4.0</td>\n",
       "      <td>Dans son premier long-métrage, Gaspar Noé nous plonge dans la descente aux enfers d'un personnage tellement empli de haine envers lui-même et le reste du monde que l'expérience de visionnage en devient un énorme choc, presque cathartique tellement le spectateur se noie dans un récit français engoncé dans la misère d'une humanité cruellement réaliste, mais autant désespérée et juste que particulièrement sordide et dépressive. Difficile donc de savoir quoi en tirer, la violence constante du personnage virant souvent dans le racisme et l'homophobie, ne nonobstant pas non plus le fait que nombre de séquences, voire une en particulier, ont réussi à complètement me déstabiliser, ce qui est assez rare pour être souligné. En bref, une expérience marquante mais volontairement provocatrice, et cela bien que Noé, avec son montage en coup de hachoir et une capacité très palpable à créer des atmosphères étouffantes et sensitives (les scènes finales par exemple sont une fantastique démonstration de comment instiguer une complète perte de repère qui dérange et déstabilise le spectateur), laisse toutefois une marque indéniable dans le cinéma français. Et laisser une marque, bien évidemment que Gaspar Noé le fait dès son premier long-métrage, à l'époque bien remarqué avec le « Prix Très Spécial » du Festival de Cannes de la même année. Abandonnez ainsi tout autre candidat, Seul Contre Tous est peut-être le film le plus nihiliste des années 90.</td>\n",
       "      <td>2017-03-01</td>\n",
       "      <td>3</td>\n",
       "      <td>0</td>\n",
       "    </tr>\n",
       "  </tbody>\n",
       "</table>\n",
       "</div>"
      ],
      "text/plain": [
       "                                                                  film-url  \\\n",
       "153779  http://www.allocine.fr/film/fichefilm-242131/critiques/spectateurs   \n",
       "304158  http://www.allocine.fr/film/fichefilm-121048/critiques/spectateurs   \n",
       "108277  http://www.allocine.fr/film/fichefilm-105494/critiques/spectateurs   \n",
       "\n",
       "        rating  \\\n",
       "153779     4.0   \n",
       "304158     5.0   \n",
       "108277     4.0   \n",
       "\n",
       "                                                                                                                                                                                                                                                                                                                                                                                                                                                                                                                                                                                                                                                                                                                                                                                                                                                                                                                                                                                                                                                                                                                                                                                                                                                                                                                                                                                                                                                                                                            review  \\\n",
       "153779                                                                                                                                                                                                                                                                                                                                                                                                                                                                                                                                                                                                                                                                                                                                                                                                                                                                                                                                                                                                                                                                                                                                                                                                                                                                                                                                      Le film, porté par une Virginie Efira au sommet de son art, charme par la concision de sa mise en scène et la justesse des rapports entre mère et fils. \\n\\nLA SUITE :   \n",
       "304158                                                                                                                                                                                                                                                                                                                                                                                                                                                                                                                                                                                                                                                                                                                                                Quel que soit votre âge, si vieillir vous fait peur, courez vite voir ce film. Réalisé à Madrid par le cinéaste argentin Marcos Carnevale, \"Elsa & Fred\" est une merveilleuse histoire d'amour entre une adolescente de 82 ans, d'origine argentine, fofolle et menteuse, et un jeune veuf de 77 ans, au départ plutôt hypocondriaque. Ce qui se passe entre eux ainsi que les rapports qu'ils entretiennent avec leurs enfants nous entraînent dans un récit à la fois émouvant et drôle, jamais vulgaire. Ce film a un charme fou et les 2 acteurs, China Zorrilla et Manuel Alexandre, sont absolument parfaits. S'il y avait une justice dans le monde du cinéma, ce film dépasserait les 10 millions de spectateurs, avec 99 % de taux de satisfaction.   \n",
       "108277  Dans son premier long-métrage, Gaspar Noé nous plonge dans la descente aux enfers d'un personnage tellement empli de haine envers lui-même et le reste du monde que l'expérience de visionnage en devient un énorme choc, presque cathartique tellement le spectateur se noie dans un récit français engoncé dans la misère d'une humanité cruellement réaliste, mais autant désespérée et juste que particulièrement sordide et dépressive. Difficile donc de savoir quoi en tirer, la violence constante du personnage virant souvent dans le racisme et l'homophobie, ne nonobstant pas non plus le fait que nombre de séquences, voire une en particulier, ont réussi à complètement me déstabiliser, ce qui est assez rare pour être souligné. En bref, une expérience marquante mais volontairement provocatrice, et cela bien que Noé, avec son montage en coup de hachoir et une capacité très palpable à créer des atmosphères étouffantes et sensitives (les scènes finales par exemple sont une fantastique démonstration de comment instiguer une complète perte de repère qui dérange et déstabilise le spectateur), laisse toutefois une marque indéniable dans le cinéma français. Et laisser une marque, bien évidemment que Gaspar Noé le fait dès son premier long-métrage, à l'époque bien remarqué avec le « Prix Très Spécial » du Festival de Cannes de la même année. Abandonnez ainsi tout autre candidat, Seul Contre Tous est peut-être le film le plus nihiliste des années 90.   \n",
       "\n",
       "              date  helpful  unhelpful  \n",
       "153779  2017-03-30        1          0  \n",
       "304158  2006-12-20        0          0  \n",
       "108277  2017-03-01        3          0  "
      ]
     },
     "execution_count": 6,
     "metadata": {},
     "output_type": "execute_result"
    }
   ],
   "source": [
    "positive_reviews = allocine_df[allocine_df['rating'] >= 4.0]\n",
    "positive_reviews.sample(3, random_state=42)"
   ]
  },
  {
   "cell_type": "markdown",
   "metadata": {},
   "source": [
    "## Rating counts"
   ]
  },
  {
   "cell_type": "code",
   "execution_count": 7,
   "metadata": {},
   "outputs": [
    {
     "data": {
      "image/png": "[encoded data removed]",
      "text/plain": [
       "<Figure size 576x360 with 1 Axes>"
      ]
     },
     "metadata": {},
     "output_type": "display_data"
    }
   ],
   "source": [
    "plt.figure(figsize=(8,5))\n",
    "\n",
    "goodbad_palette = sns.color_palette(\"RdYlGn_r\", n_colors=10)\n",
    "goodbad_palette.reverse()\n",
    "\n",
    "ax = sns.countplot(data=allocine_df, x='rating', palette=goodbad_palette)\n",
    "ax.set(xlabel='Rating', ylabel='')\n",
    "\n",
    "# Finalize the plot\n",
    "sns.despine(bottom=True)\n",
    "plt.tight_layout(h_pad=2)\n",
    "\n",
    "# Saving plot\n",
    "fig = ax.get_figure()\n",
    "fig.savefig('img/rating_counts.png', dpi=200)"
   ]
  },
  {
   "cell_type": "markdown",
   "metadata": {},
   "source": [
    "## Polarity"
   ]
  },
  {
   "cell_type": "code",
   "execution_count": 8,
   "metadata": {
    "scrolled": false
   },
   "outputs": [],
   "source": [
    "def find_polarity(row):\n",
    "    if row['rating'] <= 2.0:\n",
    "        return -1\n",
    "    elif row['rating'] >= 4.0:\n",
    "        return 1\n",
    "    else:\n",
    "        return 0\n",
    "\n",
    "allocine_df['polarity'] = allocine_df.apply(lambda row : find_polarity(row), axis=1) "
   ]
  },
  {
   "cell_type": "code",
   "execution_count": 9,
   "metadata": {},
   "outputs": [
    {
     "data": {
      "image/png": "[encoded data removed]",
      "text/plain": [
       "<Figure size 576x360 with 1 Axes>"
      ]
     },
     "metadata": {},
     "output_type": "display_data"
    }
   ],
   "source": [
    "plt.figure(figsize=(8,5))\n",
    "\n",
    "goodbad_palette = sns.color_palette(\"RdYlGn_r\", n_colors=3)\n",
    "goodbad_palette.reverse()\n",
    "\n",
    "ax = sns.countplot(data=allocine_df, x='polarity', palette=goodbad_palette)\n",
    "ax.set(xlabel='', ylabel='')\n",
    "ax.set_xticklabels(['Negative', 'Neutral', 'Positive'])\n",
    "\n",
    "# Frenquencies\n",
    "ncount = len(allocine_df)\n",
    "for p in ax.patches:\n",
    "    x=p.get_bbox().get_points()[:,0]\n",
    "    y=p.get_bbox().get_points()[1,1]\n",
    "    ax.annotate('{:.1f}%'.format(100.*y/ncount), (x.mean(), y), \n",
    "            ha='center', va='bottom') # set the alignment of the text\n",
    "\n",
    "# Finalize the plot\n",
    "sns.despine(bottom=True)\n",
    "plt.tight_layout(h_pad=2)\n",
    "\n",
    "# Saving plot\n",
    "fig = ax.get_figure()\n",
    "fig.savefig('img/polarity_frequency.png', dpi=200)"
   ]
  },
  {
   "cell_type": "markdown",
   "metadata": {},
   "source": [
    "## Reviews per year"
   ]
  },
  {
   "cell_type": "code",
   "execution_count": 10,
   "metadata": {},
   "outputs": [],
   "source": [
    "allocine_df['date'] = pd.to_datetime(allocine_df['date'])\n",
    "reviews_per_year = allocine_df.groupby(allocine_df['date'].dt.year).size()"
   ]
  },
  {
   "cell_type": "code",
   "execution_count": 11,
   "metadata": {
    "scrolled": true
   },
   "outputs": [
    {
     "data": {
      "image/png": "[encoded data removed]",
      "text/plain": [
       "<Figure size 576x360 with 1 Axes>"
      ]
     },
     "metadata": {},
     "output_type": "display_data"
    }
   ],
   "source": [
    "plt.figure(figsize=(8,5))\n",
    "ax = sns.barplot(reviews_per_year.index, reviews_per_year.values, palette=\"GnBu_d\")\n",
    "ax.set(xlabel='Year', ylabel='')\n",
    "\n",
    "# Finalize the plot\n",
    "sns.despine(bottom=True)\n",
    "plt.tight_layout(h_pad=2)\n",
    "\n",
    "# Saving plot\n",
    "fig = ax.get_figure()\n",
    "fig.savefig('img/reviews_per_year.png', dpi=200)"
   ]
  },
  {
   "cell_type": "markdown",
   "metadata": {},
   "source": [
    "## Reviews length"
   ]
  },
  {
   "cell_type": "code",
   "execution_count": 12,
   "metadata": {},
   "outputs": [
    {
     "data": {
      "image/png": "[encoded data removed]",
      "text/plain": [
       "<Figure size 720x360 with 1 Axes>"
      ]
     },
     "metadata": {},
     "output_type": "display_data"
    }
   ],
   "source": [
    "reviews_length = allocine_df['review'].str.len()\n",
    "\n",
    "plt.figure(figsize=(10,5))\n",
    "ax = sns.distplot(reviews_length, bins=150, kde=False, hist_kws=dict(alpha=0.8))\n",
    "ax.set(xlabel='Review Length')\n",
    "\n",
    "# Finalize the plot\n",
    "sns.despine(bottom=True)\n",
    "plt.tight_layout(h_pad=2)\n",
    "\n",
    "# Saving plot\n",
    "fig = ax.get_figure()\n",
    "fig.savefig('img/reviews_length.png', dpi=200)"
   ]
  },
  {
   "cell_type": "code",
   "execution_count": 16,
   "metadata": {},
   "outputs": [
    {
     "name": "stdout",
     "output_type": "stream",
     "text": [
      "24247 reviews with LEN > 2000 (6.31 % of total data)\n"
     ]
    }
   ],
   "source": [
    "THRESHOLD = 2000\n",
    "short_reviews = allocine_df[allocine_df['review'].str.len() <= THRESHOLD]\n",
    "long_reviews =  allocine_df[allocine_df['review'].str.len() > THRESHOLD]\n",
    "\n",
    "print(\"{} reviews with LEN > {} ({:.2f} % of total data)\".format(\n",
    "    len(long_reviews),\n",
    "    THRESHOLD,\n",
    "    100 * len(long_reviews) / len(allocine_df)\n",
    "))"
   ]
  },
  {
   "cell_type": "markdown",
   "metadata": {},
   "source": [
    "Example of a long review"
   ]
  },
  {
   "cell_type": "code",
   "execution_count": 17,
   "metadata": {},
   "outputs": [
    {
     "data": {
      "text/html": [
       "<div>\n",
       "<style scoped>\n",
       "    .dataframe tbody tr th:only-of-type {\n",
       "        vertical-align: middle;\n",
       "    }\n",
       "\n",
       "    .dataframe tbody tr th {\n",
       "        vertical-align: top;\n",
       "    }\n",
       "\n",
       "    .dataframe thead th {\n",
       "        text-align: right;\n",
       "    }\n",
       "</style>\n",
       "<table border=\"1\" class=\"dataframe\">\n",
       "  <thead>\n",
       "    <tr style=\"text-align: right;\">\n",
       "      <th></th>\n",
       "      <th>film-url</th>\n",
       "      <th>rating</th>\n",
       "      <th>review</th>\n",
       "      <th>date</th>\n",
       "      <th>helpful</th>\n",
       "      <th>unhelpful</th>\n",
       "      <th>polarity</th>\n",
       "    </tr>\n",
       "  </thead>\n",
       "  <tbody>\n",
       "    <tr>\n",
       "      <th>1</th>\n",
       "      <td>http://www.allocine.fr/film/fichefilm-265567/critiques/spectateurs</td>\n",
       "      <td>5.0</td>\n",
       "      <td>Avril 1917. La guerre fait rage. Dans le Pas de Calais, les forces britanniques se sont terrées dans les tranchées face aux forces allemandes.\\nDeux soldats britanniques sont mandatés à travers les lignes ennemies pour aller de toute urgence délivrer un message à un bataillon dont l’engagement pourrait lui être fatal.\\n\\nSam Mendes fait fort. Après \"American Beauty\", \"Les Noces rebelles\", \"Skyfall\", le réalisateur britannique signe son film le plus personnel tiré, dit-il des souvenirs distillés par son grand-père paternel, caporal dans l’armée britannique pendant la Première Guerre mondiale.\\n\\nIl le fait dans une forme intimidante, qui force le respect : l’unique plan séquence. C’est le Graal des réalisateurs qui répond tout à la fois à un défi technique et scénaristique. Le défi technique, on le conçoit aisément, rendu plus facile à surmonter avec la miniaturisation des caméras. Le défi scénaristique consiste à raconter en temps réel une histoire.\\n\\nLes encyclopédies de cinéma listent les plans séquences les plus célèbres : la première scène de \"La Soif du mal\" de Orson Welles ou de Snake Eyes de Brian de Palma. Les revues de cinéma essaient d’en faire le hit parade, celui des \"Fils de l’Homme\" d’Alfonso Cuaron étant souvent cité parmi les plus époustouflants. Et puis, évidemment, il y a \"La Corde\" de Hitchcock, tourné en huis clos donnant l’impression d’un unique plan séquence (en fait, à l’époque, les bobines ne permettaient pas de tourner pendant plus de dix minutes et La Corde est constitué de dix séquences).\\n\\nOn voit récemment se multiplier, avec plus ou moins de bonheur, ce genre d’exercices. \"Victoria\" en 2015 suivait son héroïne dans les rues de Berlin. \"Utøya, 22 juillet\" l’an dernier racontait en temps réel la tuerie d’Utøya en Norvège du point de vue d’une jeune fille pourchassée par Anders Breivik.\\n\\nLa prouesse technique est en elle-même bluffante. Mais elle serait vaine si elle ne servait pas une cause. L’idée est de nous plonger dans la furie de la guerre, de nous faire sentir jusqu’à l’épuisement l’exténuation de deux soldats confrontés à une tâche titanesque : risquer leur vie, traverser l’enfer, vaincre la peur et la souffrance pour accomplir leur mission.\\nLe pari est réussi. On sort de la salle lessivé, après deux heures passées les ongles plantés dans l’accoudoir à retenir son souffle. Comme à la lecture des premières pages du roman de Pierre Lemaître \"Au revoir là-haut\", on aura vécu organiquement le bruit et la fureur, le sang et la merde, la sueur et les larmes. Chapeau l’artiste.</td>\n",
       "      <td>2020-01-15</td>\n",
       "      <td>11</td>\n",
       "      <td>3</td>\n",
       "      <td>1</td>\n",
       "    </tr>\n",
       "  </tbody>\n",
       "</table>\n",
       "</div>"
      ],
      "text/plain": [
       "                                                             film-url  rating  \\\n",
       "1  http://www.allocine.fr/film/fichefilm-265567/critiques/spectateurs     5.0   \n",
       "\n",
       "                                                                                                                                                                                                                                                                                                                                                                                                                                                                                                                                                                                                                                                                                                                                                                                                                                                                                                                                                                                                                                                                                                                                                                                                                                                                                                                                                                                                                                                                                                                                                                                                                                                                                                                                                                                                                                                                                                                                                                                                                                                                                                                                                                                                                                                                                                                                                                                                                                                                                                                                                                                                                                                        review  \\\n",
       "1  Avril 1917. La guerre fait rage. Dans le Pas de Calais, les forces britanniques se sont terrées dans les tranchées face aux forces allemandes.\\nDeux soldats britanniques sont mandatés à travers les lignes ennemies pour aller de toute urgence délivrer un message à un bataillon dont l’engagement pourrait lui être fatal.\\n\\nSam Mendes fait fort. Après \"American Beauty\", \"Les Noces rebelles\", \"Skyfall\", le réalisateur britannique signe son film le plus personnel tiré, dit-il des souvenirs distillés par son grand-père paternel, caporal dans l’armée britannique pendant la Première Guerre mondiale.\\n\\nIl le fait dans une forme intimidante, qui force le respect : l’unique plan séquence. C’est le Graal des réalisateurs qui répond tout à la fois à un défi technique et scénaristique. Le défi technique, on le conçoit aisément, rendu plus facile à surmonter avec la miniaturisation des caméras. Le défi scénaristique consiste à raconter en temps réel une histoire.\\n\\nLes encyclopédies de cinéma listent les plans séquences les plus célèbres : la première scène de \"La Soif du mal\" de Orson Welles ou de Snake Eyes de Brian de Palma. Les revues de cinéma essaient d’en faire le hit parade, celui des \"Fils de l’Homme\" d’Alfonso Cuaron étant souvent cité parmi les plus époustouflants. Et puis, évidemment, il y a \"La Corde\" de Hitchcock, tourné en huis clos donnant l’impression d’un unique plan séquence (en fait, à l’époque, les bobines ne permettaient pas de tourner pendant plus de dix minutes et La Corde est constitué de dix séquences).\\n\\nOn voit récemment se multiplier, avec plus ou moins de bonheur, ce genre d’exercices. \"Victoria\" en 2015 suivait son héroïne dans les rues de Berlin. \"Utøya, 22 juillet\" l’an dernier racontait en temps réel la tuerie d’Utøya en Norvège du point de vue d’une jeune fille pourchassée par Anders Breivik.\\n\\nLa prouesse technique est en elle-même bluffante. Mais elle serait vaine si elle ne servait pas une cause. L’idée est de nous plonger dans la furie de la guerre, de nous faire sentir jusqu’à l’épuisement l’exténuation de deux soldats confrontés à une tâche titanesque : risquer leur vie, traverser l’enfer, vaincre la peur et la souffrance pour accomplir leur mission.\\nLe pari est réussi. On sort de la salle lessivé, après deux heures passées les ongles plantés dans l’accoudoir à retenir son souffle. Comme à la lecture des premières pages du roman de Pierre Lemaître \"Au revoir là-haut\", on aura vécu organiquement le bruit et la fureur, le sang et la merde, la sueur et les larmes. Chapeau l’artiste.   \n",
       "\n",
       "        date  helpful  unhelpful  polarity  \n",
       "1 2020-01-15       11          3         1  "
      ]
     },
     "execution_count": 17,
     "metadata": {},
     "output_type": "execute_result"
    }
   ],
   "source": [
    "long_reviews.head(1)"
   ]
  },
  {
   "cell_type": "code",
   "execution_count": 18,
   "metadata": {},
   "outputs": [
    {
     "data": {
      "image/png": "[encoded data removed]",
      "text/plain": [
       "<Figure size 576x360 with 1 Axes>"
      ]
     },
     "metadata": {},
     "output_type": "display_data"
    }
   ],
   "source": [
    "short_reviews_length = short_reviews['review'].str.len()\n",
    "\n",
    "plt.figure(figsize=(8,5))\n",
    "ax = sns.distplot(short_reviews_length, bins=100, kde=False, hist_kws=dict(alpha=0.8))\n",
    "ax.set(xlabel='Review Length')\n",
    "\n",
    "# Finalize the plot\n",
    "sns.despine(bottom=True)\n",
    "plt.tight_layout(h_pad=2)\n",
    "\n",
    "# Saving plot\n",
    "fig = ax.get_figure()\n",
    "fig.savefig('img/short_reviews_length.png', dpi=200)"
   ]
  },
  {
   "cell_type": "code",
   "execution_count": null,
   "metadata": {},
   "outputs": [],
   "source": [
    "# TODO: other analysis ?\n",
    "# Histograms of reviews lengths for each rating (negative reviews are shorter ?)"
   ]
  },
  {
   "cell_type": "code",
   "execution_count": null,
   "metadata": {
    "scrolled": true
   },
   "outputs": [],
   "source": [
    "# Num reviews per film ? => why are we limiting to 30 reviews per film ?"
   ]
  },
  {
   "cell_type": "code",
   "execution_count": null,
   "metadata": {},
   "outputs": [],
   "source": []
  },
  {
   "cell_type": "code",
   "execution_count": null,
   "metadata": {},
   "outputs": [],
   "source": []
  },
  {
   "cell_type": "markdown",
   "metadata": {
    "scrolled": false
   },
   "source": [
    "# Build dataset"
   ]
  },
  {
   "cell_type": "code",
   "execution_count": 20,
   "metadata": {},
   "outputs": [
    {
     "name": "stdout",
     "output_type": "stream",
     "text": [
      "Length: 384079\n"
     ]
    }
   ],
   "source": [
    "dataset_df = allocine_df.copy()\n",
    "initial_len = len(dataset_df)\n",
    "print(\"Length: {}\".format(initial_len))"
   ]
  },
  {
   "cell_type": "markdown",
   "metadata": {},
   "source": [
    "## Remove data we don't need "
   ]
  },
  {
   "cell_type": "code",
   "execution_count": 21,
   "metadata": {},
   "outputs": [],
   "source": [
    "def loss_percentage(df, previous_length):\n",
    "    new_length = len(df)\n",
    "    percentage = 100*(1-(new_length/previous_length))    \n",
    "    return new_length, percentage  "
   ]
  },
  {
   "cell_type": "code",
   "execution_count": 22,
   "metadata": {
    "scrolled": true
   },
   "outputs": [
    {
     "name": "stdout",
     "output_type": "stream",
     "text": [
      "Length: 259210 (-32.5 %)\n",
      "Length: 243427 (-6.1 %)\n",
      "Total loss: (-36.6 %)\n"
     ]
    }
   ],
   "source": [
    "# 1. Drop columns we don't need\n",
    "dataset_df = dataset_df.drop(columns=['rating', 'date', 'helpful', 'unhelpful'])\n",
    "\n",
    "# 2. Drop rows we don't need (neutral polarity)\n",
    "dataset_df = dataset_df[dataset_df['polarity'] != 0]\n",
    "length, percentage = loss_percentage(dataset_df, initial_len)\n",
    "print(\"Length: {} (-{:.1f} %)\".format(length, percentage))\n",
    "\n",
    "# 3. Remove long reviews\n",
    "LENGTH_THRESH = 2000\n",
    "dataset_df = dataset_df[dataset_df['review'].str.len() <= LENGTH_THRESH]\n",
    "length, percentage = loss_percentage(dataset_df, length)\n",
    "print(\"Length: {} (-{:.1f} %)\".format(length, percentage))\n",
    "\n",
    "# 4. Limit number of reviews per film\n",
    "\"\"\"\n",
    "MAX_REVIEWS_PER_FILM = 30\n",
    "grouped = dataset_df.groupby('film-url')\n",
    "for ids in grouped.groups.values():\n",
    "    num_reviews = len(ids)    \n",
    "    if num_reviews > MAX_REVIEWS_PER_FILM:\n",
    "        sampling_size = num_reviews - MAX_REVIEWS_PER_FILM\n",
    "        ids_to_drop = random.sample(list(ids), sampling_size)\n",
    "        dataset_df = dataset_df.drop(ids_to_drop)\n",
    "        \n",
    "length, percentage = loss_percentage(dataset_df, length)\n",
    "print(\"Length: {} (-{:.1f} %)\".format(length, percentage))\n",
    "\"\"\"\n",
    "# Total loss\n",
    "length, percentage = loss_percentage(dataset_df, initial_len)\n",
    "print(\"Total loss: (-{:.1f} %)\".format(percentage))"
   ]
  },
  {
   "cell_type": "code",
   "execution_count": 23,
   "metadata": {},
   "outputs": [],
   "source": [
    "# Change -1 to 0 for negative polarity\n",
    "dataset_df.loc[dataset_df['polarity'] == -1, 'polarity'] = 0"
   ]
  },
  {
   "cell_type": "code",
   "execution_count": 24,
   "metadata": {
    "scrolled": false
   },
   "outputs": [
    {
     "data": {
      "text/plain": [
       "polarity\n",
       "0    101351\n",
       "1    142076\n",
       "dtype: int64"
      ]
     },
     "execution_count": 24,
     "metadata": {},
     "output_type": "execute_result"
    }
   ],
   "source": [
    "dataset_df.groupby('polarity').size()"
   ]
  },
  {
   "cell_type": "markdown",
   "metadata": {},
   "source": [
    "## Clean review text"
   ]
  },
  {
   "cell_type": "code",
   "execution_count": 25,
   "metadata": {},
   "outputs": [],
   "source": [
    "import re\n",
    "\n",
    "def clean_text(text):\n",
    "    text = text.replace('\\xa0', ' ')\n",
    "    text = text.replace('\\x92', \"'\")\n",
    "    \n",
    "    # Substituting multiple spaces with single space\n",
    "    # Also remove '\\n' and '\\r' occurences\n",
    "    text= re.sub(r'\\s+', ' ', text, flags=re.I)\n",
    "    \n",
    "    return text\n",
    " \n",
    "dataset_df['review'] = dataset_df['review'].apply(clean_text)"
   ]
  },
  {
   "cell_type": "markdown",
   "metadata": {},
   "source": [
    "## Remove empty reviews"
   ]
  },
  {
   "cell_type": "code",
   "execution_count": 26,
   "metadata": {},
   "outputs": [],
   "source": [
    "# Remove reviews with less than 3 characters\n",
    "# Done after text processing on purpose\n",
    "dataset_df = dataset_df[dataset_df['review'].str.len() > 2]"
   ]
  },
  {
   "cell_type": "code",
   "execution_count": 27,
   "metadata": {},
   "outputs": [
    {
     "data": {
      "text/html": [
       "<div>\n",
       "<style scoped>\n",
       "    .dataframe tbody tr th:only-of-type {\n",
       "        vertical-align: middle;\n",
       "    }\n",
       "\n",
       "    .dataframe tbody tr th {\n",
       "        vertical-align: top;\n",
       "    }\n",
       "\n",
       "    .dataframe thead th {\n",
       "        text-align: right;\n",
       "    }\n",
       "</style>\n",
       "<table border=\"1\" class=\"dataframe\">\n",
       "  <thead>\n",
       "    <tr style=\"text-align: right;\">\n",
       "      <th></th>\n",
       "      <th>film-url</th>\n",
       "      <th>review</th>\n",
       "      <th>polarity</th>\n",
       "    </tr>\n",
       "  </thead>\n",
       "  <tbody>\n",
       "    <tr>\n",
       "      <th>315559</th>\n",
       "      <td>http://www.allocine.fr/film/fichefilm-58484/critiques/spectateurs</td>\n",
       "      <td>Le titre français est vraiment en dessous du titre original, qui joues plus en effet sur cette histoire de destin qui doit arriver, et qui arrivera ?? Un très bon Guy Pearce de 2006 qui vaut le visionnage : personnellement je ne le connaissais pas à cette époque, et je suis bien content de voir cet acteur dans le rôle du vrai \"connard\" qui commence à perdre pied et à ne plus savoir ce qui va lui arriver. Entre fantastique et thriller, on passe par plusieurs possibilités scénaristiques qui nous amène à vouloir anticiper la fin, la première neige, mais sans y arriver ! Une bonne surprise à voir !</td>\n",
       "      <td>1</td>\n",
       "    </tr>\n",
       "    <tr>\n",
       "      <th>126095</th>\n",
       "      <td>http://www.allocine.fr/film/fichefilm-36285/critiques/spectateurs</td>\n",
       "      <td>J'adore ce film , il y a un petit quelque chose qui a fait que j'ai eu un coup de coeur pour ce film .</td>\n",
       "      <td>1</td>\n",
       "    </tr>\n",
       "    <tr>\n",
       "      <th>140730</th>\n",
       "      <td>http://www.allocine.fr/film/fichefilm-14704/critiques/spectateurs</td>\n",
       "      <td>L'affiche, scandale absolu à l'époque, reste encore dans toutes les mémoires : Larry Flynt allongé en forme de crucifix sur le bas-ventre d'une femme avec le drapeau américain en couche-culotte ! Avec \"Larry Flynt\" qu'il réalise en 1996, Milos Forman semble exprimer mieux que dans nulle autre film sa passion pour les personnages hors-normes, atypiques et exubérants. Cette biographie du sulfureux créateur du magazine Huslter, interprété par un génial Woody Harrelson permet par-dessus tout d'observer une nouvelle fois la maîtrise du réalisateur tchèque lorsqu'il s'essaye au genre. Pourvu d'un sens du rythme toujours aussi implacable, celui-ci arrive donc à nous passionner pendant deux heures devant un sujet et un protagonistes sur lesquels on aurait pu avoir des doutes. Mais lorsqu'on se penche sur \"Larry Flynt\", c'est surtout l'autodérision qui semble de rigueur et qu'il convient de prendre soigneusement en compte ; ainsi le vrai Larry Flynt effectue une courte apparition dans le film en jouant le rôle... du juge qui l'a fait condamner ! Jouissif.</td>\n",
       "      <td>1</td>\n",
       "    </tr>\n",
       "    <tr>\n",
       "      <th>14897</th>\n",
       "      <td>http://www.allocine.fr/film/fichefilm-146630/critiques/spectateurs</td>\n",
       "      <td>Vraiment le film surpise de cette fin d'année. Les films dits \"catastrophe\" se faisaient rare ces derniers temps. Et celui-ci revient sur un évènement particulièrement marquant de ces dernières années. La prise de recul par rapport à l'évènement, le réalisme de la reconstitution, et le jeu parfait de ses interprètes en font une vrai réussite. Malgré l'issue finale connue d'avance, le suspens est présent et la mise en abime dans l'évènement est particulièrement prenante. On effleure malgré tout seulement le vrai drame vécu par beaucoup d'autres familles.</td>\n",
       "      <td>1</td>\n",
       "    </tr>\n",
       "    <tr>\n",
       "      <th>128206</th>\n",
       "      <td>http://www.allocine.fr/film/fichefilm-28363/critiques/spectateurs</td>\n",
       "      <td>Une histoire intéressante qui aurais pu donner lieu à quelque chose de réellement pertinent mais non, au lieu de cela on a un film assez brouillon, mal fichu, long et pénible à visionner. Ni épouvante ni horreur ne sont présent dans \"13 fantômes\". Rajoutez à cela des acteurs moyens, une absence totale de suspense et de séquences effrayantes ainsi que des dialogues vides et on obtient un film des plus simplistes, ennuyeux et ridicule. Chose vraiment dommage puisque certaines séquences et agencements sont intéressants, de bonnes idées sont présentes et les effets spéciaux sont plutôt bien réussis. Mais le reste ne suit malheureusement pas... En somme, un film très mauvais dont on peux largement se passer de visionner et dont on ne retiendra pas grand chose tant on ne s'y accroche pas.</td>\n",
       "      <td>0</td>\n",
       "    </tr>\n",
       "  </tbody>\n",
       "</table>\n",
       "</div>"
      ],
      "text/plain": [
       "                                                                  film-url  \\\n",
       "315559   http://www.allocine.fr/film/fichefilm-58484/critiques/spectateurs   \n",
       "126095   http://www.allocine.fr/film/fichefilm-36285/critiques/spectateurs   \n",
       "140730   http://www.allocine.fr/film/fichefilm-14704/critiques/spectateurs   \n",
       "14897   http://www.allocine.fr/film/fichefilm-146630/critiques/spectateurs   \n",
       "128206   http://www.allocine.fr/film/fichefilm-28363/critiques/spectateurs   \n",
       "\n",
       "                                                                                                                                                                                                                                                                                                                                                                                                                                                                                                                                                                                                                                                                                                                                                                                                                                                                                                                                                                                                                                                                                                        review  \\\n",
       "315559                                                                                                                                                                                                                                                                                                                                                                                                                                                                               Le titre français est vraiment en dessous du titre original, qui joues plus en effet sur cette histoire de destin qui doit arriver, et qui arrivera ?? Un très bon Guy Pearce de 2006 qui vaut le visionnage : personnellement je ne le connaissais pas à cette époque, et je suis bien content de voir cet acteur dans le rôle du vrai \"connard\" qui commence à perdre pied et à ne plus savoir ce qui va lui arriver. Entre fantastique et thriller, on passe par plusieurs possibilités scénaristiques qui nous amène à vouloir anticiper la fin, la première neige, mais sans y arriver ! Une bonne surprise à voir !   \n",
       "126095                                                                                                                                                                                                                                                                                                                                                                                                                                                                                                                                                                                                                                                                                                                                                                                                                                                                                                                                                                                                  J'adore ce film , il y a un petit quelque chose qui a fait que j'ai eu un coup de coeur pour ce film .   \n",
       "140730  L'affiche, scandale absolu à l'époque, reste encore dans toutes les mémoires : Larry Flynt allongé en forme de crucifix sur le bas-ventre d'une femme avec le drapeau américain en couche-culotte ! Avec \"Larry Flynt\" qu'il réalise en 1996, Milos Forman semble exprimer mieux que dans nulle autre film sa passion pour les personnages hors-normes, atypiques et exubérants. Cette biographie du sulfureux créateur du magazine Huslter, interprété par un génial Woody Harrelson permet par-dessus tout d'observer une nouvelle fois la maîtrise du réalisateur tchèque lorsqu'il s'essaye au genre. Pourvu d'un sens du rythme toujours aussi implacable, celui-ci arrive donc à nous passionner pendant deux heures devant un sujet et un protagonistes sur lesquels on aurait pu avoir des doutes. Mais lorsqu'on se penche sur \"Larry Flynt\", c'est surtout l'autodérision qui semble de rigueur et qu'il convient de prendre soigneusement en compte ; ainsi le vrai Larry Flynt effectue une courte apparition dans le film en jouant le rôle... du juge qui l'a fait condamner ! Jouissif.   \n",
       "14897                                                                                                                                                                                                                                                                                                                                                                                                                                                                                                                          Vraiment le film surpise de cette fin d'année. Les films dits \"catastrophe\" se faisaient rare ces derniers temps. Et celui-ci revient sur un évènement particulièrement marquant de ces dernières années. La prise de recul par rapport à l'évènement, le réalisme de la reconstitution, et le jeu parfait de ses interprètes en font une vrai réussite. Malgré l'issue finale connue d'avance, le suspens est présent et la mise en abime dans l'évènement est particulièrement prenante. On effleure malgré tout seulement le vrai drame vécu par beaucoup d'autres familles.   \n",
       "128206                                                                                                                                                                                                                                                                               Une histoire intéressante qui aurais pu donner lieu à quelque chose de réellement pertinent mais non, au lieu de cela on a un film assez brouillon, mal fichu, long et pénible à visionner. Ni épouvante ni horreur ne sont présent dans \"13 fantômes\". Rajoutez à cela des acteurs moyens, une absence totale de suspense et de séquences effrayantes ainsi que des dialogues vides et on obtient un film des plus simplistes, ennuyeux et ridicule. Chose vraiment dommage puisque certaines séquences et agencements sont intéressants, de bonnes idées sont présentes et les effets spéciaux sont plutôt bien réussis. Mais le reste ne suit malheureusement pas... En somme, un film très mauvais dont on peux largement se passer de visionner et dont on ne retiendra pas grand chose tant on ne s'y accroche pas.   \n",
       "\n",
       "        polarity  \n",
       "315559         1  \n",
       "126095         1  \n",
       "140730         1  \n",
       "14897          1  \n",
       "128206         0  "
      ]
     },
     "execution_count": 27,
     "metadata": {},
     "output_type": "execute_result"
    }
   ],
   "source": [
    "dataset_df.sample(5, random_state=42)"
   ]
  },
  {
   "cell_type": "code",
   "execution_count": null,
   "metadata": {},
   "outputs": [],
   "source": []
  },
  {
   "cell_type": "markdown",
   "metadata": {},
   "source": [
    "## Balance classes"
   ]
  },
  {
   "cell_type": "code",
   "execution_count": 28,
   "metadata": {},
   "outputs": [],
   "source": [
    "# The overall distribution of labels is balanced (25k pos and 25k neg).\n",
    "# We don't have to have train and testset perfectly balanced\n",
    "\n",
    "balanced_df = dataset_df.copy()\n",
    "\n",
    "MAX_REVIEWS_PER_POLARITY = 10000\n",
    "# 4. Limit number of reviews per film\n",
    "grouped = balanced_df.groupby('polarity')\n",
    "for ids in grouped.groups.values():\n",
    "    num_reviews = len(ids)    \n",
    "    if num_reviews > MAX_REVIEWS_PER_POLARITY:\n",
    "        sampling_size = num_reviews - MAX_REVIEWS_PER_POLARITY\n",
    "        ids_to_drop = random.sample(list(ids), sampling_size)\n",
    "        balanced_df = balanced_df.drop(ids_to_drop)"
   ]
  },
  {
   "cell_type": "code",
   "execution_count": 29,
   "metadata": {},
   "outputs": [
    {
     "name": "stdout",
     "output_type": "stream",
     "text": [
      "polarity\n",
      "0    10000\n",
      "1    10000\n",
      "dtype: int64\n"
     ]
    },
    {
     "data": {
      "text/html": [
       "<div>\n",
       "<style scoped>\n",
       "    .dataframe tbody tr th:only-of-type {\n",
       "        vertical-align: middle;\n",
       "    }\n",
       "\n",
       "    .dataframe tbody tr th {\n",
       "        vertical-align: top;\n",
       "    }\n",
       "\n",
       "    .dataframe thead th {\n",
       "        text-align: right;\n",
       "    }\n",
       "</style>\n",
       "<table border=\"1\" class=\"dataframe\">\n",
       "  <thead>\n",
       "    <tr style=\"text-align: right;\">\n",
       "      <th></th>\n",
       "      <th>film-url</th>\n",
       "      <th>review</th>\n",
       "      <th>polarity</th>\n",
       "    </tr>\n",
       "  </thead>\n",
       "  <tbody>\n",
       "    <tr>\n",
       "      <th>202700</th>\n",
       "      <td>http://www.allocine.fr/film/fichefilm-139455/critiques/spectateurs</td>\n",
       "      <td>Je n'ai pas lu le pavé, qui avait l'air pourtant très intéressant mais un peu gros, rédigé par Naomi Klein. Ça ne parlera donc que du film et non pas de son ouvrage. \"La stratégie du Choc\" se positionne comme étant véritable plaidoyer contre notre société capitaliste actuelle et ce depuis le début du siècle. Michael Winterbottom et Mat Whitecross réalisent ce documentaire et avaient déjà un autre documentaire choc : \"The Road To Guantanamo\" duquel des images sont d'ailleurs extraites. Le propos est percutant, des notions, cependant de politique extérieure et d'économie semblent être requises pour comprendre parfaitement le sujet. Pourtant la narration est faite de telle sorte qu'un quidam, avec un peu de connaissance, comprend l'analyse de Klein, c'est clair ! Une attaque contre les théories ultralibérales de Milton Friedman. L'Histoire économique est retracée depuis le coup d'Etat de Pinochet au Chili qui a appliqué la doctrine des Chicago Boys et de Milton Friedman jusqu'au Crack boursier et la crise financière de 2008 en passant par le 11 septembre et les guerres d'Afghanistan et d'Irak sans oublier de parler de la politique libérale instaurée par Thatcher. Naomi Klein nous explique ce qu'est la Stratégie du Choc et comment réussir à faire croire que le système libéral est le meilleur système économique qu'il puisse exister. Le film est découpé en plusieurs chapitres démontrant les différentes Stratégies, celle de la guerre, celle de la lutte contre le terrorisme... instaurant la peur. La peur permettant de manipuler les esprits plus facilement. Elle propose des solutions, la première et la plus essentielle est [... La suite sur http://oranou59.blogspot.com/2010/03/film-la-strategie-du-choc.html]</td>\n",
       "      <td>1</td>\n",
       "    </tr>\n",
       "    <tr>\n",
       "      <th>38981</th>\n",
       "      <td>http://www.allocine.fr/film/fichefilm-257569/critiques/spectateurs</td>\n",
       "      <td>L'histoire de ce jeune chef mi chinois mi japonais est absolument bouleversante..retrouver le souvenir d'une maman disparue trop tôt à travers une multitude d'émotions est juste incroyable.. on en sort ému avec certainement un lot de souvenirs et de tendresse qui nous font un bien fou..allez-y ne ratez pas de vivre de si beaux moments..</td>\n",
       "      <td>1</td>\n",
       "    </tr>\n",
       "    <tr>\n",
       "      <th>166510</th>\n",
       "      <td>http://www.allocine.fr/film/fichefilm-226990/critiques/spectateurs</td>\n",
       "      <td>Un magnifique film pour petits et grands. L'aiglon et ensuite l'aigle sont splendides et attendrissants. Les paysages sont superbes. Bref une histoire hautement recommandable.</td>\n",
       "      <td>1</td>\n",
       "    </tr>\n",
       "    <tr>\n",
       "      <th>20303</th>\n",
       "      <td>http://www.allocine.fr/film/fichefilm-253601/critiques/spectateurs</td>\n",
       "      <td>Un film magnifique qui met en valeur tout le pouvoir de la parole et tout ce qu'elle représente : des idées, la liberté, des combats, la beauté... On reprend conscience à quel point la parole et la façon de s'en servir détient un pouvoir très puissant. En plus de défendre des idées, la parole est aussi une façon de voyager à travers des sonorités, des rimes, des intonations. En fait, elle peut être entreprise différemment selon chacun. Ce que l'on en retient c'est que la capacité à bien s'exprimer génère un impact sur notre quotidien et peut changer une vie.</td>\n",
       "      <td>1</td>\n",
       "    </tr>\n",
       "    <tr>\n",
       "      <th>265490</th>\n",
       "      <td>http://www.allocine.fr/film/fichefilm-26170/critiques/spectateurs</td>\n",
       "      <td>L'une des oeuvres majeures des Marx Brothers! L'un des gags les plus cèlèbres du 7ème art se retrouve dans une sèquence myhtique de \"A Night at the Opera\". Le film nous les montre d'abord sur un transatlantique! Groucho fait apporter dans sa minuscule cabine une malle si grande que la première rèflexion du porteur est: \"Faut-il la mettre dans la cabine ou la cabine dans la malle ?\" Mais ce n'est pas fini, puisque la cabine va finalement contenir: les trois frères, Allan Jones, deux grandes femmes de chambre, un plombier, une manucure (indispensable au confort de Groucho), une dame qui cherche sa tante Minnie, une ènorme femme de mènage, tandis que des garçons vont et viennent, prenant commandes, lesquelles s'achèvent règulièrement sur \"Et un oeuf dur!\", criè par Chico! Tout cela à l'air de tenir ensemble jusqu'au moment ou la terrible Margaret Dumont vient rendre une petite visite à son cher Groucho! Un vèritable torrent humain s'abat alors sur elle... et sur nous dans ce grand classique des Marx Brothers avec des gags pour la plupart d'anthologies! Un must...</td>\n",
       "      <td>1</td>\n",
       "    </tr>\n",
       "    <tr>\n",
       "      <th>228486</th>\n",
       "      <td>http://www.allocine.fr/film/fichefilm-242909/critiques/spectateurs</td>\n",
       "      <td>Que dire, hormis que ce film est une grosse déception. Dans l'esprit, difficile de dissocier père et fils, mais à l'écran, il n'y a pas photo. Diablo est une nullité absolue comme j'en vois rarement, fort heureusement. On s'attend à un western façon 2015, avec de l'action et un scénar prenant... On se retrouve avec une histoire à la ramasse, des acteurs qui sont aussi expressifs qu'un arbre mort. Je ne parle pas du script et de l'ambiance générale qui vous font regarder votre montre au bout de 10 mn en vous interrogeant sur votre capacité intellectuelle à aller au bout de ce cauchemar cinématographique... Quelques jolis plans de nature, mais dans ce domaine, la Terre vue du ciel fait très bien le job. Pour le reste, je pense que la vie est trop courte pour perdre une heure trente de sa vie à regarder ce navet ! Un conseil : Fuyez, et vite !!!</td>\n",
       "      <td>0</td>\n",
       "    </tr>\n",
       "    <tr>\n",
       "      <th>210895</th>\n",
       "      <td>http://www.allocine.fr/film/fichefilm-60211/critiques/spectateurs</td>\n",
       "      <td>Breakfast On Pluto est un film rare d'une puissance et d'une poésie magnifiques. Si j'ai eu du mal à accrocher à l'histoire les 15 premières minutes, j'ai vite retourné ma veste pour me laisser envahir par ce conte émouvant. L'histoire est fabuleuse avec des décors et des personnages hauts en couleurs. L'image est très soignée dans ce film avec une mise en avant de la couleur intéressante. La Bo est excellente avec une diversité que j'avais du mal à retrouver ces dernières années. Cependant, si le film en lui-même est déjà très bon, je dois signaler qu'il accède vraiment à un niveau supérieur grâce à l'interprétation impressionnante de Cillian Murphy. Sa métamorphose est incroyable et son jeu tout simplement magnifique. Avec ce film, il nous montre qu'il fait partie des jeunes talents irréfutables de la nouvelle génération. Un grand acteur pour un grand film : que demander de plus?</td>\n",
       "      <td>1</td>\n",
       "    </tr>\n",
       "    <tr>\n",
       "      <th>58000</th>\n",
       "      <td>http://www.allocine.fr/film/fichefilm-197082/critiques/spectateurs</td>\n",
       "      <td>Pour un \"remake\" ce film est assez bien. Au contraire de l'original avec Julia Roberts qui etait de gendre ni horreur ni philosophique, celui la se dirige bien vers l'horreur qui vient de la tete et pas de surnaturel. La motivation des etudients est aussi beaucoup plus credible : la reussite academique et carrier. Les effet speciaux sont bien et l'horreur ne va pas trop loin pour devenir insupportable et degoutant. En tout c'est un \"remake\" reussi que fait plaisire meme aux gens qui on vu et aime l'original.</td>\n",
       "      <td>1</td>\n",
       "    </tr>\n",
       "    <tr>\n",
       "      <th>380073</th>\n",
       "      <td>http://www.allocine.fr/film/fichefilm-128169/critiques/spectateurs</td>\n",
       "      <td>Même si l'intrigue n'est pas mauvaise, la trame de ce film est répétitif et la réalisation manque de rythme.</td>\n",
       "      <td>0</td>\n",
       "    </tr>\n",
       "    <tr>\n",
       "      <th>156624</th>\n",
       "      <td>http://www.allocine.fr/film/fichefilm-221200/critiques/spectateurs</td>\n",
       "      <td>Comment peut-on produire un film aussi nul ? 3/4 du film consiste à voir des personnages déambuler dans la nature ... Le scénario est inexistant ... Je me suis rarement autant ennuyé ! Mal filmé, mal joué, rien ne peut racheter ce navet.</td>\n",
       "      <td>0</td>\n",
       "    </tr>\n",
       "  </tbody>\n",
       "</table>\n",
       "</div>"
      ],
      "text/plain": [
       "                                                                  film-url  \\\n",
       "202700  http://www.allocine.fr/film/fichefilm-139455/critiques/spectateurs   \n",
       "38981   http://www.allocine.fr/film/fichefilm-257569/critiques/spectateurs   \n",
       "166510  http://www.allocine.fr/film/fichefilm-226990/critiques/spectateurs   \n",
       "20303   http://www.allocine.fr/film/fichefilm-253601/critiques/spectateurs   \n",
       "265490   http://www.allocine.fr/film/fichefilm-26170/critiques/spectateurs   \n",
       "228486  http://www.allocine.fr/film/fichefilm-242909/critiques/spectateurs   \n",
       "210895   http://www.allocine.fr/film/fichefilm-60211/critiques/spectateurs   \n",
       "58000   http://www.allocine.fr/film/fichefilm-197082/critiques/spectateurs   \n",
       "380073  http://www.allocine.fr/film/fichefilm-128169/critiques/spectateurs   \n",
       "156624  http://www.allocine.fr/film/fichefilm-221200/critiques/spectateurs   \n",
       "\n",
       "                                                                                                                                                                                                                                                                                                                                                                                                                                                                                                                                                                                                                                                                                                                                                                                                                                                                                                                                                                                                                                                                                                                                                                                                                                                                                                                                                                                                                                                                                                                                                                                                                                                                                                                                                                                                  review  \\\n",
       "202700  Je n'ai pas lu le pavé, qui avait l'air pourtant très intéressant mais un peu gros, rédigé par Naomi Klein. Ça ne parlera donc que du film et non pas de son ouvrage. \"La stratégie du Choc\" se positionne comme étant véritable plaidoyer contre notre société capitaliste actuelle et ce depuis le début du siècle. Michael Winterbottom et Mat Whitecross réalisent ce documentaire et avaient déjà un autre documentaire choc : \"The Road To Guantanamo\" duquel des images sont d'ailleurs extraites. Le propos est percutant, des notions, cependant de politique extérieure et d'économie semblent être requises pour comprendre parfaitement le sujet. Pourtant la narration est faite de telle sorte qu'un quidam, avec un peu de connaissance, comprend l'analyse de Klein, c'est clair ! Une attaque contre les théories ultralibérales de Milton Friedman. L'Histoire économique est retracée depuis le coup d'Etat de Pinochet au Chili qui a appliqué la doctrine des Chicago Boys et de Milton Friedman jusqu'au Crack boursier et la crise financière de 2008 en passant par le 11 septembre et les guerres d'Afghanistan et d'Irak sans oublier de parler de la politique libérale instaurée par Thatcher. Naomi Klein nous explique ce qu'est la Stratégie du Choc et comment réussir à faire croire que le système libéral est le meilleur système économique qu'il puisse exister. Le film est découpé en plusieurs chapitres démontrant les différentes Stratégies, celle de la guerre, celle de la lutte contre le terrorisme... instaurant la peur. La peur permettant de manipuler les esprits plus facilement. Elle propose des solutions, la première et la plus essentielle est [... La suite sur http://oranou59.blogspot.com/2010/03/film-la-strategie-du-choc.html]   \n",
       "38981                                                                                                                                                                                                                                                                                                                                                                                                                                                                                                                                                                                                                                                                                                                                                                                                                                                                                                                                                                                                                                                                                                                                                                                                                                                                                                                                                                                                                                                 L'histoire de ce jeune chef mi chinois mi japonais est absolument bouleversante..retrouver le souvenir d'une maman disparue trop tôt à travers une multitude d'émotions est juste incroyable.. on en sort ému avec certainement un lot de souvenirs et de tendresse qui nous font un bien fou..allez-y ne ratez pas de vivre de si beaux moments..   \n",
       "166510                                                                                                                                                                                                                                                                                                                                                                                                                                                                                                                                                                                                                                                                                                                                                                                                                                                                                                                                                                                                                                                                                                                                                                                                                                                                                                                                                                                                                                                                                                                                                                                                                   Un magnifique film pour petits et grands. L'aiglon et ensuite l'aigle sont splendides et attendrissants. Les paysages sont superbes. Bref une histoire hautement recommandable.   \n",
       "20303                                                                                                                                                                                                                                                                                                                                                                                                                                                                                                                                                                                                                                                                                                                                                                                                                                                                                                                                                                                                                                                                                                                                                                                                               Un film magnifique qui met en valeur tout le pouvoir de la parole et tout ce qu'elle représente : des idées, la liberté, des combats, la beauté... On reprend conscience à quel point la parole et la façon de s'en servir détient un pouvoir très puissant. En plus de défendre des idées, la parole est aussi une façon de voyager à travers des sonorités, des rimes, des intonations. En fait, elle peut être entreprise différemment selon chacun. Ce que l'on en retient c'est que la capacité à bien s'exprimer génère un impact sur notre quotidien et peut changer une vie.   \n",
       "265490                                                                                                                                                                                                                                                                                                                                                                                                                                                                                                                                                                                                                                                                              L'une des oeuvres majeures des Marx Brothers! L'un des gags les plus cèlèbres du 7ème art se retrouve dans une sèquence myhtique de \"A Night at the Opera\". Le film nous les montre d'abord sur un transatlantique! Groucho fait apporter dans sa minuscule cabine une malle si grande que la première rèflexion du porteur est: \"Faut-il la mettre dans la cabine ou la cabine dans la malle ?\" Mais ce n'est pas fini, puisque la cabine va finalement contenir: les trois frères, Allan Jones, deux grandes femmes de chambre, un plombier, une manucure (indispensable au confort de Groucho), une dame qui cherche sa tante Minnie, une ènorme femme de mènage, tandis que des garçons vont et viennent, prenant commandes, lesquelles s'achèvent règulièrement sur \"Et un oeuf dur!\", criè par Chico! Tout cela à l'air de tenir ensemble jusqu'au moment ou la terrible Margaret Dumont vient rendre une petite visite à son cher Groucho! Un vèritable torrent humain s'abat alors sur elle... et sur nous dans ce grand classique des Marx Brothers avec des gags pour la plupart d'anthologies! Un must...   \n",
       "228486                                                                                                                                                                                                                                                                                                                                                                                                                                                                                                                                                                                                                                                                                                                                                                                                                                                                                                            Que dire, hormis que ce film est une grosse déception. Dans l'esprit, difficile de dissocier père et fils, mais à l'écran, il n'y a pas photo. Diablo est une nullité absolue comme j'en vois rarement, fort heureusement. On s'attend à un western façon 2015, avec de l'action et un scénar prenant... On se retrouve avec une histoire à la ramasse, des acteurs qui sont aussi expressifs qu'un arbre mort. Je ne parle pas du script et de l'ambiance générale qui vous font regarder votre montre au bout de 10 mn en vous interrogeant sur votre capacité intellectuelle à aller au bout de ce cauchemar cinématographique... Quelques jolis plans de nature, mais dans ce domaine, la Terre vue du ciel fait très bien le job. Pour le reste, je pense que la vie est trop courte pour perdre une heure trente de sa vie à regarder ce navet ! Un conseil : Fuyez, et vite !!!   \n",
       "210895                                                                                                                                                                                                                                                                                                                                                                                                                                                                                                                                                                                                                                                                                                                                                                                                                                                                    Breakfast On Pluto est un film rare d'une puissance et d'une poésie magnifiques. Si j'ai eu du mal à accrocher à l'histoire les 15 premières minutes, j'ai vite retourné ma veste pour me laisser envahir par ce conte émouvant. L'histoire est fabuleuse avec des décors et des personnages hauts en couleurs. L'image est très soignée dans ce film avec une mise en avant de la couleur intéressante. La Bo est excellente avec une diversité que j'avais du mal à retrouver ces dernières années. Cependant, si le film en lui-même est déjà très bon, je dois signaler qu'il accède vraiment à un niveau supérieur grâce à l'interprétation impressionnante de Cillian Murphy. Sa métamorphose est incroyable et son jeu tout simplement magnifique. Avec ce film, il nous montre qu'il fait partie des jeunes talents irréfutables de la nouvelle génération. Un grand acteur pour un grand film : que demander de plus?   \n",
       "58000                                                                                                                                                                                                                                                                                                                                                                                                                                                                                                                                                                                                                                                                                                                                                                                                                                                                                                                                                                                                                                                                                                                                                                                                                                                                  Pour un \"remake\" ce film est assez bien. Au contraire de l'original avec Julia Roberts qui etait de gendre ni horreur ni philosophique, celui la se dirige bien vers l'horreur qui vient de la tete et pas de surnaturel. La motivation des etudients est aussi beaucoup plus credible : la reussite academique et carrier. Les effet speciaux sont bien et l'horreur ne va pas trop loin pour devenir insupportable et degoutant. En tout c'est un \"remake\" reussi que fait plaisire meme aux gens qui on vu et aime l'original.   \n",
       "380073                                                                                                                                                                                                                                                                                                                                                                                                                                                                                                                                                                                                                                                                                                                                                                                                                                                                                                                                                                                                                                                                                                                                                                                                                                                                                                                                                                                                                                                                                                                                                                                                                                                                                      Même si l'intrigue n'est pas mauvaise, la trame de ce film est répétitif et la réalisation manque de rythme.   \n",
       "156624                                                                                                                                                                                                                                                                                                                                                                                                                                                                                                                                                                                                                                                                                                                                                                                                                                                                                                                                                                                                                                                                                                                                                                                                                                                                                                                                                                                                                                                                                                                                                     Comment peut-on produire un film aussi nul ? 3/4 du film consiste à voir des personnages déambuler dans la nature ... Le scénario est inexistant ... Je me suis rarement autant ennuyé ! Mal filmé, mal joué, rien ne peut racheter ce navet.   \n",
       "\n",
       "        polarity  \n",
       "202700         1  \n",
       "38981          1  \n",
       "166510         1  \n",
       "20303          1  \n",
       "265490         1  \n",
       "228486         0  \n",
       "210895         1  \n",
       "58000          1  \n",
       "380073         0  \n",
       "156624         0  "
      ]
     },
     "execution_count": 29,
     "metadata": {},
     "output_type": "execute_result"
    }
   ],
   "source": [
    "print(balanced_df.groupby('polarity').size())\n",
    "balanced_df.sample(10, random_state=42)"
   ]
  },
  {
   "cell_type": "markdown",
   "metadata": {},
   "source": [
    "## Split train/val/test"
   ]
  },
  {
   "cell_type": "code",
   "execution_count": 30,
   "metadata": {},
   "outputs": [
    {
     "name": "stdout",
     "output_type": "stream",
     "text": [
      "LEN TRAIN: 12000\n",
      "LEN VAL: 4000\n",
      "LEN TEST: 4000\n"
     ]
    }
   ],
   "source": [
    "TRAIN_RATIO = 0.6\n",
    "VAL_RATIO = 0.2\n",
    "TEST_RATIO = 0.2\n",
    "\n",
    "total_size = len(balanced_df)\n",
    "\n",
    "train_df = balanced_df.copy()\n",
    "val_df = pd.DataFrame()\n",
    "test_df = pd.DataFrame()\n",
    "\n",
    "while True:\n",
    "    row = train_df.sample(1, random_state=42)\n",
    "    url = row['film-url'].iloc[0]\n",
    "    rows = train_df[train_df['film-url'] == url]\n",
    "    if(len(val_df) < VAL_RATIO * total_size):\n",
    "        val_df = val_df.append(rows)\n",
    "        train_df = train_df[train_df['film-url'] != url]        \n",
    "    elif(len(test_df) < TEST_RATIO * total_size):\n",
    "        test_df = test_df.append(rows)\n",
    "        train_df = train_df[train_df['film-url'] != url]\n",
    "    else:\n",
    "        break\n",
    "\n",
    "# Shuffle dataframes & reset indexes\n",
    "train_df = train_df.sample(frac=1, random_state=42).reset_index(drop=True)\n",
    "val_df = val_df.sample(frac=1, random_state=42).reset_index(drop=True)\n",
    "test_df = test_df.sample(frac=1, random_state=42).reset_index(drop=True)\n",
    "    \n",
    "print(\"LEN TRAIN: \" + str(len(train_df)))\n",
    "print(\"LEN VAL: \" + str(len(val_df)))\n",
    "print(\"LEN TEST: \" + str(len(test_df)))"
   ]
  },
  {
   "cell_type": "code",
   "execution_count": 31,
   "metadata": {},
   "outputs": [
    {
     "data": {
      "image/png": "[encoded data removed]",
      "text/plain": [
       "<Figure size 720x360 with 3 Axes>"
      ]
     },
     "metadata": {},
     "output_type": "display_data"
    }
   ],
   "source": [
    "splits = [train_df, val_df, test_df]\n",
    "titles = [\"Train set\", \"Val set\", \"Test set\"]\n",
    "\n",
    "fig, ax = plt.subplots(1, len(splits), sharex=True, figsize=(10,5))\n",
    "for i, (data, title) in enumerate(zip(splits, titles)):\n",
    "    sns.countplot(data=data, x='polarity', palette=[\"r\", \"g\"], ax=ax[i])\n",
    "    ax[i].set(xlabel='', ylabel='')\n",
    "    ax[i].set_xticklabels(['Negative', 'Positive']) \n",
    "    ax[i].set_title(title)\n",
    "    \n",
    "    # Frequencies\n",
    "    ncount = len(data)\n",
    "    for p in ax[i].patches:\n",
    "        x=p.get_bbox().get_points()[:,0]\n",
    "        y=p.get_bbox().get_points()[1,1]\n",
    "        ax[i].annotate('{:.1f}%'.format(100.*y/ncount), (x.mean(), y), \n",
    "                ha='center', va='bottom') # set the alignment of the text\n",
    "\n",
    "# Finalize the plot\n",
    "sns.despine(bottom=True)\n",
    "plt.tight_layout(h_pad=2)\n",
    "\n",
    "# Saving plot\n",
    "fig.savefig('img/splits_polarity.png', dpi=200)"
   ]
  },
  {
   "cell_type": "markdown",
   "metadata": {},
   "source": [
    "# Export"
   ]
  },
  {
   "cell_type": "markdown",
   "metadata": {},
   "source": [
    "## To pickle"
   ]
  },
  {
   "cell_type": "code",
   "execution_count": 32,
   "metadata": {},
   "outputs": [],
   "source": [
    "DATA_DIR = 'data'"
   ]
  },
  {
   "cell_type": "code",
   "execution_count": 33,
   "metadata": {},
   "outputs": [],
   "source": [
    "import pickle\n",
    "\n",
    "out_dict = {\n",
    "    'train_set': train_df,\n",
    "    'val_set': val_df,\n",
    "    'test_set': test_df,\n",
    "    'class_names': {-1: 'Negative', \n",
    "                    1: 'Positive'}    \n",
    "}\n",
    "\n",
    "pickle_file = os.path.join(DATA_DIR, \"allocine_dataset.pickle\")\n",
    "with open(pickle_file, 'wb') as writer:\n",
    "    pickle.dump(out_dict, writer)"
   ]
  },
  {
   "cell_type": "code",
   "execution_count": 34,
   "metadata": {},
   "outputs": [
    {
     "name": "stdout",
     "output_type": "stream",
     "text": [
      "LEN TRAIN: 12000\n",
      "LEN VAL: 4000\n",
      "LEN TEST: 4000\n"
     ]
    }
   ],
   "source": [
    "with open(pickle_file, 'rb') as reader:\n",
    "    data = pickle.load(reader)\n",
    "    \n",
    "print(\"LEN TRAIN: \"+ str(len(data[\"train_set\"])))\n",
    "print(\"LEN VAL: \"+ str(len(data[\"val_set\"])))\n",
    "print(\"LEN TEST: \"+ str(len(data[\"test_set\"])))"
   ]
  },
  {
   "cell_type": "markdown",
   "metadata": {},
   "source": [
    "## To Jsonlines"
   ]
  },
  {
   "cell_type": "code",
   "execution_count": 35,
   "metadata": {},
   "outputs": [],
   "source": [
    "import jsonlines\n",
    "\n",
    "splits = [train_df, val_df, test_df]\n",
    "files = [\"train.jsonl\", \"val.jsonl\", \"test.jsonl\"]\n",
    "\n",
    "for split, file in zip(splits, files):\n",
    "    export_file = os.path.join(DATA_DIR, file)\n",
    "    with jsonlines.open(export_file, mode='w') as writer:\n",
    "        for index, row in split.iterrows():        \n",
    "            writer.write({\n",
    "                \"film-url\": row[\"film-url\"],\n",
    "                \"review\": row[\"review\"],\n",
    "                \"polarity\": row[\"polarity\"]\n",
    "            })"
   ]
  },
  {
   "cell_type": "markdown",
   "metadata": {},
   "source": [
    "## Create archive"
   ]
  },
  {
   "cell_type": "code",
   "execution_count": 36,
   "metadata": {},
   "outputs": [],
   "source": [
    "import tarfile\n",
    "\n",
    "with tarfile.open(\"data.tar.bz2\", \"w:bz2\") as tar:\n",
    "    tar.add(DATA_DIR, arcname=os.path.basename(DATA_DIR))"
   ]
  },
  {
   "cell_type": "code",
   "execution_count": null,
   "metadata": {},
   "outputs": [],
   "source": []
  }
 ],
 "metadata": {
  "kernelspec": {
   "display_name": "Python 3",
   "language": "python",
   "name": "python3"
  },
  "language_info": {
   "codemirror_mode": {
    "name": "ipython",
    "version": 3
   },
   "file_extension": ".py",
   "mimetype": "text/x-python",
   "name": "python",
   "nbconvert_exporter": "python",
   "pygments_lexer": "ipython3",
   "version": "3.7.5"
  }
 },
 "nbformat": 4,
 "nbformat_minor": 4
}
