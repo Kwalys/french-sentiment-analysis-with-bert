{
 "cells": [
  {
   "cell_type": "code",
   "execution_count": 1,
   "metadata": {
    "scrolled": true
   },
   "outputs": [],
   "source": [
    "import os\n",
    "import random\n",
    "\n",
    "import matplotlib.pyplot as plt\n",
    "import pandas as pd\n",
    "import seaborn as sns\n",
    "\n",
    "%matplotlib inline\n",
    "\n",
    "# better display of review text in dataframes\n",
    "pd.set_option('display.max_colwidth', -1) \n",
    "\n",
    "RANDOM_SEED = 49\n",
    "random.seed(RANDOM_SEED) "
   ]
  },
  {
   "cell_type": "markdown",
   "metadata": {},
   "source": [
    "# Load pickle files"
   ]
  },
  {
   "cell_type": "code",
   "execution_count": 2,
   "metadata": {},
   "outputs": [
    {
     "name": "stdout",
     "output_type": "stream",
     "text": [
      "Reading file: pickle/allocine_0.pickle\n",
      "\n",
      "Loaded 19782 reviews !\n"
     ]
    }
   ],
   "source": [
    "PICKLE_DIR = 'pickle'\n",
    "\n",
    "allocine_df = pd.DataFrame()\n",
    "\n",
    "#TODO: add series ?\n",
    "# -> 150001 and on !\n",
    "for filename in os.listdir(PICKLE_DIR):\n",
    "    if filename.endswith(\".pickle\"):        \n",
    "        path = os.path.join(PICKLE_DIR, filename)\n",
    "        print(\"Reading file: \" + path)\n",
    "        df = pd.read_pickle(path)\n",
    "        allocine_df = allocine_df.append(df, ignore_index=True)\n",
    "\n",
    "print()\n",
    "print(\"Loaded {} reviews !\".format(len(allocine_df)))"
   ]
  },
  {
   "cell_type": "markdown",
   "metadata": {},
   "source": [
    "# Explore data"
   ]
  },
  {
   "cell_type": "code",
   "execution_count": 3,
   "metadata": {},
   "outputs": [
    {
     "data": {
      "text/html": [
       "<div>\n",
       "<style scoped>\n",
       "    .dataframe tbody tr th:only-of-type {\n",
       "        vertical-align: middle;\n",
       "    }\n",
       "\n",
       "    .dataframe tbody tr th {\n",
       "        vertical-align: top;\n",
       "    }\n",
       "\n",
       "    .dataframe thead th {\n",
       "        text-align: right;\n",
       "    }\n",
       "</style>\n",
       "<table border=\"1\" class=\"dataframe\">\n",
       "  <thead>\n",
       "    <tr style=\"text-align: right;\">\n",
       "      <th></th>\n",
       "      <th>film-url</th>\n",
       "      <th>rating</th>\n",
       "      <th>review</th>\n",
       "      <th>date</th>\n",
       "      <th>helpful</th>\n",
       "      <th>unhelpful</th>\n",
       "    </tr>\n",
       "  </thead>\n",
       "  <tbody>\n",
       "    <tr>\n",
       "      <th>13442</th>\n",
       "      <td>http://www.allocine.fr/film/fichefilm-141110/critiques/spectateurs</td>\n",
       "      <td>0.5</td>\n",
       "      <td>Le pire film du MCU. Captain Marvel n’a rien d’original. Il n’y a aucun suspens et aucun enjeu. Ce film est une véritable daube qui n’amène rien de nouveau à l’univers Marvel. Ne vous infligez pas ce film avant Endgame.</td>\n",
       "      <td>2019-03-10</td>\n",
       "      <td>0</td>\n",
       "      <td>0</td>\n",
       "    </tr>\n",
       "    <tr>\n",
       "      <th>1289</th>\n",
       "      <td>http://www.allocine.fr/film/fichefilm-270440/critiques/spectateurs</td>\n",
       "      <td>4.5</td>\n",
       "      <td>Encore une fois, ce réalisateur nous offre un excellent film. Parfaitement exécuté, vous n'avez qu'une chose à faire : le regarder !</td>\n",
       "      <td>2020-01-14</td>\n",
       "      <td>2</td>\n",
       "      <td>0</td>\n",
       "    </tr>\n",
       "    <tr>\n",
       "      <th>7197</th>\n",
       "      <td>http://www.allocine.fr/film/fichefilm-266409/critiques/spectateurs</td>\n",
       "      <td>4.0</td>\n",
       "      <td>Très bon film sur le milieu scolaire, avec beaucoup d'humour et de l'émotion. Juste dommage que la fin ne soit pas crédible, mais à voir assurément.</td>\n",
       "      <td>2019-09-04</td>\n",
       "      <td>0</td>\n",
       "      <td>2</td>\n",
       "    </tr>\n",
       "    <tr>\n",
       "      <th>19197</th>\n",
       "      <td>http://www.allocine.fr/film/fichefilm-5434/critiques/spectateurs</td>\n",
       "      <td>3.5</td>\n",
       "      <td>Les décors sont exceptionnels, ainsi que les costumes/maquillages et la musique. Les acteurs sont bons, l'ambiance sombre et angoissante. Mais je trouve que ce film fait trop \"clip-vidéo\". Certains passages sont de trop, d'autres trop lents. Dommage, car c'est une réalisation très esthétique.</td>\n",
       "      <td>2012-08-18</td>\n",
       "      <td>0</td>\n",
       "      <td>0</td>\n",
       "    </tr>\n",
       "    <tr>\n",
       "      <th>5581</th>\n",
       "      <td>http://www.allocine.fr/film/fichefilm-146552/critiques/spectateurs</td>\n",
       "      <td>0.5</td>\n",
       "      <td>Je viens de voir la fin de la saga Terminator, ce navet qui a pour seul but que de faire du fric vient de la mette à mort. Les actrices ne tiennent pas la route, on dirait des princesses sortis d'un Disney, le Terminator n'est pas crédible et alors ne parlons pas du vieux Schwarzenegger bedonnant. Seule Linda Hamilton tire son épingle du jeu. Le scénario n'a aucun sens et n'a pas beaucoup de rapport avec le 2. Franchement je suis très déçu</td>\n",
       "      <td>2019-10-26</td>\n",
       "      <td>11</td>\n",
       "      <td>6</td>\n",
       "    </tr>\n",
       "  </tbody>\n",
       "</table>\n",
       "</div>"
      ],
      "text/plain": [
       "                                                                 film-url  \\\n",
       "13442  http://www.allocine.fr/film/fichefilm-141110/critiques/spectateurs   \n",
       "1289   http://www.allocine.fr/film/fichefilm-270440/critiques/spectateurs   \n",
       "7197   http://www.allocine.fr/film/fichefilm-266409/critiques/spectateurs   \n",
       "19197  http://www.allocine.fr/film/fichefilm-5434/critiques/spectateurs     \n",
       "5581   http://www.allocine.fr/film/fichefilm-146552/critiques/spectateurs   \n",
       "\n",
       "       rating  \\\n",
       "13442  0.5      \n",
       "1289   4.5      \n",
       "7197   4.0      \n",
       "19197  3.5      \n",
       "5581   0.5      \n",
       "\n",
       "                                                                                                                                                                                                                                                                                                                                                                                                                                                            review  \\\n",
       "13442  Le pire film du MCU. Captain Marvel n’a rien d’original. Il n’y a aucun suspens et aucun enjeu. Ce film est une véritable daube qui n’amène rien de nouveau à l’univers Marvel. Ne vous infligez pas ce film avant Endgame.                                                                                                                                                                                                                                   \n",
       "1289   Encore une fois, ce réalisateur nous offre un excellent film. Parfaitement exécuté, vous n'avez qu'une chose à faire : le regarder !                                                                                                                                                                                                                                                                                                                          \n",
       "7197   Très bon film sur le milieu scolaire, avec beaucoup d'humour et de l'émotion. Juste dommage que la fin ne soit pas crédible, mais à voir assurément.                                                                                                                                                                                                                                                                                                          \n",
       "19197  Les décors sont exceptionnels, ainsi que les costumes/maquillages et la musique. Les acteurs sont bons, l'ambiance sombre et angoissante. Mais je trouve que ce film fait trop \"clip-vidéo\". Certains passages sont de trop, d'autres trop lents. Dommage, car c'est une réalisation très esthétique.                                                                                                                                                         \n",
       "5581   Je viens de voir la fin de la saga Terminator, ce navet qui a pour seul but que de faire du fric vient de la mette à mort. Les actrices ne tiennent pas la route, on dirait des princesses sortis d'un Disney, le Terminator n'est pas crédible et alors ne parlons pas du vieux Schwarzenegger bedonnant. Seule Linda Hamilton tire son épingle du jeu. Le scénario n'a aucun sens et n'a pas beaucoup de rapport avec le 2. Franchement je suis très déçu   \n",
       "\n",
       "             date  helpful  unhelpful  \n",
       "13442  2019-03-10  0        0          \n",
       "1289   2020-01-14  2        0          \n",
       "7197   2019-09-04  0        2          \n",
       "19197  2012-08-18  0        0          \n",
       "5581   2019-10-26  11       6          "
      ]
     },
     "execution_count": 3,
     "metadata": {},
     "output_type": "execute_result"
    }
   ],
   "source": [
    "allocine_df.sample(5, random_state=RANDOM_SEED)"
   ]
  },
  {
   "cell_type": "code",
   "execution_count": 9,
   "metadata": {},
   "outputs": [
    {
     "data": {
      "text/html": [
       "<div>\n",
       "<style scoped>\n",
       "    .dataframe tbody tr th:only-of-type {\n",
       "        vertical-align: middle;\n",
       "    }\n",
       "\n",
       "    .dataframe tbody tr th {\n",
       "        vertical-align: top;\n",
       "    }\n",
       "\n",
       "    .dataframe thead th {\n",
       "        text-align: right;\n",
       "    }\n",
       "</style>\n",
       "<table border=\"1\" class=\"dataframe\">\n",
       "  <thead>\n",
       "    <tr style=\"text-align: right;\">\n",
       "      <th></th>\n",
       "      <th>film-url</th>\n",
       "      <th>rating</th>\n",
       "      <th>review</th>\n",
       "      <th>date</th>\n",
       "      <th>helpful</th>\n",
       "      <th>unhelpful</th>\n",
       "    </tr>\n",
       "  </thead>\n",
       "  <tbody>\n",
       "    <tr>\n",
       "      <th>0</th>\n",
       "      <td>http://www.allocine.fr/film/fichefilm-138087/critiques/spectateurs</td>\n",
       "      <td>4.5</td>\n",
       "      <td>Enfin un polar à l’écran, c'est tellement rare de nos jours. Le film dispose d'une photographie, de plans, travelling vraiment léché, très bon travail. L'humour bien présent est excellent avec des répliques qui font mouche surtout dans la première moitié du film, la seconde étant plus sérieuse d'une manière générale. Scénario efficace, Edward Norton joue superbement bien comme toujours. Des morceaux de jazz percutant, un excellent film.</td>\n",
       "      <td>2019-12-06</td>\n",
       "      <td>1</td>\n",
       "      <td>0</td>\n",
       "    </tr>\n",
       "    <tr>\n",
       "      <th>1</th>\n",
       "      <td>http://www.allocine.fr/film/fichefilm-138087/critiques/spectateurs</td>\n",
       "      <td>3.5</td>\n",
       "      <td>Inspiré du roman Motherless Brooklyn, écrit par Jonathan Lethem et sortie en octobre 1999, Edward Norton réalise un vrai polar à l'ancienne, avec ses atouts et ses faiblesses. Contrairement au livre, l'intrigue se déroule dans les années 50 et pas en 1999. Tant mieux, l'ambiance des années 50 est vraiment envoûtante, les bagnoles sont magnifiques, les costumes toujours élégants, visuellement c'est une période tellement intéressante. Edward Norton s'offre un rôle assez particulier à travers ce détective atteint du syndrome de Gilles de la Tourette. Sa prestation est d'ailleurs assez bluffante, pour avoir su rentre ce trouble crédible tout en gardant son sérieux ! Le reste du casting n'est pas en reste, avec notamment Bruce Willis, Alec Baldwin ou Willems Dafoe qui offre leurs charismes à des personnages forts. Niveau Scenario, l'enquête arrive facilement à nous captiver, même si elle piétine un moment, imposant quelques baisses de rythme. J'avoue qu'il manque peut-être aussi quelques affrontements plus musclés, un interrogatoire intense ou quelques choses dans le genre pour vraiment parfaire l'ensemble. Ces petits bémols ne gâchent cependant pas les révélations finales qui clôturent le film avec panache. Bref, on est face à un vrai polar, très bien interprété, visuellement séduisant, manquant juste un peu de poigne.</td>\n",
       "      <td>2019-12-12</td>\n",
       "      <td>0</td>\n",
       "      <td>0</td>\n",
       "    </tr>\n",
       "  </tbody>\n",
       "</table>\n",
       "</div>"
      ],
      "text/plain": [
       "                                                             film-url  rating  \\\n",
       "0  http://www.allocine.fr/film/fichefilm-138087/critiques/spectateurs  4.5      \n",
       "1  http://www.allocine.fr/film/fichefilm-138087/critiques/spectateurs  3.5      \n",
       "\n",
       "                                                                                                                                                                                                                                                                                                                                                                                                                                                                                                                                                                                                                                                                                                                                                                                                                                                                                                                                                                                                                                                                                                                                                                                                                                                                                                                                                                                     review  \\\n",
       "0  Enfin un polar à l’écran, c'est tellement rare de nos jours. Le film dispose d'une photographie, de plans, travelling vraiment léché, très bon travail. L'humour bien présent est excellent avec des répliques qui font mouche surtout dans la première moitié du film, la seconde étant plus sérieuse d'une manière générale. Scénario efficace, Edward Norton joue superbement bien comme toujours. Des morceaux de jazz percutant, un excellent film.                                                                                                                                                                                                                                                                                                                                                                                                                                                                                                                                                                                                                                                                                                                                                                                                                                                                                                                                   \n",
       "1  Inspiré du roman Motherless Brooklyn, écrit par Jonathan Lethem et sortie en octobre 1999, Edward Norton réalise un vrai polar à l'ancienne, avec ses atouts et ses faiblesses. Contrairement au livre, l'intrigue se déroule dans les années 50 et pas en 1999. Tant mieux, l'ambiance des années 50 est vraiment envoûtante, les bagnoles sont magnifiques, les costumes toujours élégants, visuellement c'est une période tellement intéressante. Edward Norton s'offre un rôle assez particulier à travers ce détective atteint du syndrome de Gilles de la Tourette. Sa prestation est d'ailleurs assez bluffante, pour avoir su rentre ce trouble crédible tout en gardant son sérieux ! Le reste du casting n'est pas en reste, avec notamment Bruce Willis, Alec Baldwin ou Willems Dafoe qui offre leurs charismes à des personnages forts. Niveau Scenario, l'enquête arrive facilement à nous captiver, même si elle piétine un moment, imposant quelques baisses de rythme. J'avoue qu'il manque peut-être aussi quelques affrontements plus musclés, un interrogatoire intense ou quelques choses dans le genre pour vraiment parfaire l'ensemble. Ces petits bémols ne gâchent cependant pas les révélations finales qui clôturent le film avec panache. Bref, on est face à un vrai polar, très bien interprété, visuellement séduisant, manquant juste un peu de poigne.   \n",
       "\n",
       "         date  helpful  unhelpful  \n",
       "0  2019-12-06  1        0          \n",
       "1  2019-12-12  0        0          "
      ]
     },
     "execution_count": 9,
     "metadata": {},
     "output_type": "execute_result"
    }
   ],
   "source": [
    "allocine_df.head(2)"
   ]
  },
  {
   "cell_type": "markdown",
   "metadata": {},
   "source": [
    "Pickle files are not loaded in order.\n",
    "We sort the dataframe by film id for convenience"
   ]
  },
  {
   "cell_type": "code",
   "execution_count": 6,
   "metadata": {},
   "outputs": [],
   "source": [
    "# Pickle files are not loaded in order\n",
    "# We sort the dataframe by film id\n",
    "# TODO => don't do that. Sort path at the loading part so we don't have to do this\n",
    "#allocine_df = allocine_df.sort_values(\"film-url\")\n",
    "#allocine_df = allocine_df.reset_index(drop=True)"
   ]
  },
  {
   "cell_type": "code",
   "execution_count": 8,
   "metadata": {},
   "outputs": [],
   "source": [
    "#allocine_df.head(2)"
   ]
  },
  {
   "cell_type": "markdown",
   "metadata": {},
   "source": [
    "## Negative reviews"
   ]
  },
  {
   "cell_type": "markdown",
   "metadata": {},
   "source": [
    "We consider a review is negative when its associating rating is less than or equal to 2.0, which includes 4 categories: 0.5, 1.0, 1.5 and 2.0"
   ]
  },
  {
   "cell_type": "code",
   "execution_count": 10,
   "metadata": {
    "scrolled": true
   },
   "outputs": [
    {
     "data": {
      "text/html": [
       "<div>\n",
       "<style scoped>\n",
       "    .dataframe tbody tr th:only-of-type {\n",
       "        vertical-align: middle;\n",
       "    }\n",
       "\n",
       "    .dataframe tbody tr th {\n",
       "        vertical-align: top;\n",
       "    }\n",
       "\n",
       "    .dataframe thead th {\n",
       "        text-align: right;\n",
       "    }\n",
       "</style>\n",
       "<table border=\"1\" class=\"dataframe\">\n",
       "  <thead>\n",
       "    <tr style=\"text-align: right;\">\n",
       "      <th></th>\n",
       "      <th>film-url</th>\n",
       "      <th>rating</th>\n",
       "      <th>review</th>\n",
       "      <th>date</th>\n",
       "      <th>helpful</th>\n",
       "      <th>unhelpful</th>\n",
       "    </tr>\n",
       "  </thead>\n",
       "  <tbody>\n",
       "    <tr>\n",
       "      <th>14081</th>\n",
       "      <td>http://www.allocine.fr/film/fichefilm-265573/critiques/spectateurs</td>\n",
       "      <td>0.5</td>\n",
       "      <td>Rien à sauver dans ce film si ce n est les paysages. Le reste est affligeant, acteurs non motivés, grosses ficelles réchauffées, j ai attendu le générique de fin avec impatience...</td>\n",
       "      <td>2020-01-10</td>\n",
       "      <td>1</td>\n",
       "      <td>0</td>\n",
       "    </tr>\n",
       "    <tr>\n",
       "      <th>1982</th>\n",
       "      <td>http://www.allocine.fr/film/fichefilm-215094/critiques/spectateurs</td>\n",
       "      <td>0.5</td>\n",
       "      <td>Ce n'est pas du Star Wars. Les producteurs n'ont rien compris à l'univers et ça se ressent. Il a été tourné juste pour vendre des jouets et autres...</td>\n",
       "      <td>2019-12-27</td>\n",
       "      <td>1</td>\n",
       "      <td>2</td>\n",
       "    </tr>\n",
       "    <tr>\n",
       "      <th>8236</th>\n",
       "      <td>http://www.allocine.fr/film/fichefilm-257482/critiques/spectateurs</td>\n",
       "      <td>0.5</td>\n",
       "      <td>Franchement grand fan de l acting de Leonardo et Brad mais si il avais pris des acteurs lambda le film est inregardable autant Tarantino a toujours une façon d écrire qui est décalé qu on sait apprécier mais la l histoire est nulle le film est lent bref un navet qui en plus s avére être un somnifère j aurais pu m endormir heureusement que la fin est un peu animée ...</td>\n",
       "      <td>2019-09-05</td>\n",
       "      <td>1</td>\n",
       "      <td>7</td>\n",
       "    </tr>\n",
       "  </tbody>\n",
       "</table>\n",
       "</div>"
      ],
      "text/plain": [
       "                                                                 film-url  \\\n",
       "14081  http://www.allocine.fr/film/fichefilm-265573/critiques/spectateurs   \n",
       "1982   http://www.allocine.fr/film/fichefilm-215094/critiques/spectateurs   \n",
       "8236   http://www.allocine.fr/film/fichefilm-257482/critiques/spectateurs   \n",
       "\n",
       "       rating  \\\n",
       "14081  0.5      \n",
       "1982   0.5      \n",
       "8236   0.5      \n",
       "\n",
       "                                                                                                                                                                                                                                                                                                                                                                                  review  \\\n",
       "14081  Rien à sauver dans ce film si ce n est les paysages. Le reste est affligeant, acteurs non motivés, grosses ficelles réchauffées, j ai attendu le générique de fin avec impatience...                                                                                                                                                                                                \n",
       "1982   Ce n'est pas du Star Wars. Les producteurs n'ont rien compris à l'univers et ça se ressent. Il a été tourné juste pour vendre des jouets et autres...                                                                                                                                                                                                                               \n",
       "8236   Franchement grand fan de l acting de Leonardo et Brad mais si il avais pris des acteurs lambda le film est inregardable autant Tarantino a toujours une façon d écrire qui est décalé qu on sait apprécier mais la l histoire est nulle le film est lent bref un navet qui en plus s avére être un somnifère j aurais pu m endormir heureusement que la fin est un peu animée ...   \n",
       "\n",
       "             date  helpful  unhelpful  \n",
       "14081  2020-01-10  1        0          \n",
       "1982   2019-12-27  1        2          \n",
       "8236   2019-09-05  1        7          "
      ]
     },
     "execution_count": 10,
     "metadata": {},
     "output_type": "execute_result"
    }
   ],
   "source": [
    "negative_reviews = allocine_df[allocine_df['rating'] <= 2.0]\n",
    "negative_reviews.sample(3, random_state=RANDOM_SEED)"
   ]
  },
  {
   "cell_type": "markdown",
   "metadata": {},
   "source": [
    "## Positive reviews"
   ]
  },
  {
   "cell_type": "markdown",
   "metadata": {},
   "source": [
    "We consider a review is positive when its associating rating is greater than or equal to to 4.0, which includes 3 categories: 4.0, 4.5 and 5.0"
   ]
  },
  {
   "cell_type": "code",
   "execution_count": 11,
   "metadata": {},
   "outputs": [
    {
     "data": {
      "text/html": [
       "<div>\n",
       "<style scoped>\n",
       "    .dataframe tbody tr th:only-of-type {\n",
       "        vertical-align: middle;\n",
       "    }\n",
       "\n",
       "    .dataframe tbody tr th {\n",
       "        vertical-align: top;\n",
       "    }\n",
       "\n",
       "    .dataframe thead th {\n",
       "        text-align: right;\n",
       "    }\n",
       "</style>\n",
       "<table border=\"1\" class=\"dataframe\">\n",
       "  <thead>\n",
       "    <tr style=\"text-align: right;\">\n",
       "      <th></th>\n",
       "      <th>film-url</th>\n",
       "      <th>rating</th>\n",
       "      <th>review</th>\n",
       "      <th>date</th>\n",
       "      <th>helpful</th>\n",
       "      <th>unhelpful</th>\n",
       "    </tr>\n",
       "  </thead>\n",
       "  <tbody>\n",
       "    <tr>\n",
       "      <th>19170</th>\n",
       "      <td>http://www.allocine.fr/film/fichefilm-55983/critiques/spectateurs</td>\n",
       "      <td>4.0</td>\n",
       "      <td>Ce remake n'est peut-être pas innovant, en tous cas il est prenant. L'accumulation de morts par balles peut lasser mais la mise en scène ne les rend pas insupportables. Les acteurs jouent justes, surtout Nicholson et DiCaprio, qui sont étonnants de ressemblance malgré leurs 37 ans de différence.</td>\n",
       "      <td>2007-04-25</td>\n",
       "      <td>0</td>\n",
       "      <td>0</td>\n",
       "    </tr>\n",
       "    <tr>\n",
       "      <th>12388</th>\n",
       "      <td>http://www.allocine.fr/film/fichefilm-262124/critiques/spectateurs</td>\n",
       "      <td>4.0</td>\n",
       "      <td>J'ai tellement rigoler c'est très divertissant, le casting est excellent. C'est mon avis et je m'en fiche des avis dès autres.</td>\n",
       "      <td>2019-12-04</td>\n",
       "      <td>0</td>\n",
       "      <td>2</td>\n",
       "    </tr>\n",
       "    <tr>\n",
       "      <th>10940</th>\n",
       "      <td>http://www.allocine.fr/film/fichefilm-258374/critiques/spectateurs</td>\n",
       "      <td>5.0</td>\n",
       "      <td>C'était ambitieux de passer derrière Heath Ledger dans le role du Joker, mais l'interpretation livrée par Joaquin Phoenix est magistrale.\\nUne plongée dans la folie et l'esprit malade de celui qui va devenir le Joker a force de subir les coups durs de la vie.</td>\n",
       "      <td>2019-10-20</td>\n",
       "      <td>0</td>\n",
       "      <td>0</td>\n",
       "    </tr>\n",
       "  </tbody>\n",
       "</table>\n",
       "</div>"
      ],
      "text/plain": [
       "                                                                 film-url  \\\n",
       "19170  http://www.allocine.fr/film/fichefilm-55983/critiques/spectateurs    \n",
       "12388  http://www.allocine.fr/film/fichefilm-262124/critiques/spectateurs   \n",
       "10940  http://www.allocine.fr/film/fichefilm-258374/critiques/spectateurs   \n",
       "\n",
       "       rating  \\\n",
       "19170  4.0      \n",
       "12388  4.0      \n",
       "10940  5.0      \n",
       "\n",
       "                                                                                                                                                                                                                                                                                                         review  \\\n",
       "19170  Ce remake n'est peut-être pas innovant, en tous cas il est prenant. L'accumulation de morts par balles peut lasser mais la mise en scène ne les rend pas insupportables. Les acteurs jouent justes, surtout Nicholson et DiCaprio, qui sont étonnants de ressemblance malgré leurs 37 ans de différence.   \n",
       "12388  J'ai tellement rigoler c'est très divertissant, le casting est excellent. C'est mon avis et je m'en fiche des avis dès autres.                                                                                                                                                                             \n",
       "10940  C'était ambitieux de passer derrière Heath Ledger dans le role du Joker, mais l'interpretation livrée par Joaquin Phoenix est magistrale.\\nUne plongée dans la folie et l'esprit malade de celui qui va devenir le Joker a force de subir les coups durs de la vie.                                        \n",
       "\n",
       "             date  helpful  unhelpful  \n",
       "19170  2007-04-25  0        0          \n",
       "12388  2019-12-04  0        2          \n",
       "10940  2019-10-20  0        0          "
      ]
     },
     "execution_count": 11,
     "metadata": {},
     "output_type": "execute_result"
    }
   ],
   "source": [
    "positive_reviews = allocine_df[allocine_df['rating'] >= 4.0]\n",
    "positive_reviews.sample(3, random_state=RANDOM_SEED)"
   ]
  },
  {
   "cell_type": "code",
   "execution_count": null,
   "metadata": {},
   "outputs": [],
   "source": []
  },
  {
   "cell_type": "code",
   "execution_count": null,
   "metadata": {},
   "outputs": [],
   "source": []
  },
  {
   "cell_type": "markdown",
   "metadata": {},
   "source": [
    "# TODO"
   ]
  },
  {
   "cell_type": "code",
   "execution_count": 12,
   "metadata": {},
   "outputs": [],
   "source": [
    "sns.set(style=\"whitegrid\")"
   ]
  },
  {
   "cell_type": "markdown",
   "metadata": {},
   "source": [
    "## Rating counts"
   ]
  },
  {
   "cell_type": "code",
   "execution_count": 17,
   "metadata": {},
   "outputs": [
    {
     "data": {
      "image/png": "[encoded data removed]",
      "text/plain": [
       "<Figure size 576x360 with 1 Axes>"
      ]
     },
     "metadata": {},
     "output_type": "display_data"
    }
   ],
   "source": [
    "plt.figure(figsize=(8,5))\n",
    "\n",
    "goodbad_palette = sns.color_palette(\"RdYlGn_r\", n_colors=10)\n",
    "goodbad_palette.reverse()\n",
    "\n",
    "ax = sns.countplot(data=allocine_df, x='rating', palette=goodbad_palette)\n",
    "ax.set(xlabel='Rating', ylabel='Count')\n",
    "\n",
    "# Finalize the plot\n",
    "sns.despine(bottom=True)\n",
    "plt.tight_layout(h_pad=2)\n",
    "\n",
    "# Saving plot\n",
    "fig = ax.get_figure()\n",
    "fig.savefig('img/rating_counts.png', dpi=200)"
   ]
  },
  {
   "cell_type": "markdown",
   "metadata": {},
   "source": [
    "## Polarity"
   ]
  },
  {
   "cell_type": "code",
   "execution_count": 18,
   "metadata": {
    "scrolled": false
   },
   "outputs": [],
   "source": [
    "def find_polarity(row):\n",
    "    if row['rating'] <= 2.0:\n",
    "        return -1\n",
    "    elif row['rating'] >= 4.0:\n",
    "        return 1\n",
    "    else:\n",
    "        return 0\n",
    "\n",
    "allocine_df['polarity'] = allocine_df.apply(lambda row : find_polarity(row), axis=1) "
   ]
  },
  {
   "cell_type": "code",
   "execution_count": 19,
   "metadata": {},
   "outputs": [
    {
     "data": {
      "image/png": "[encoded data removed]",
      "text/plain": [
       "<Figure size 576x360 with 1 Axes>"
      ]
     },
     "metadata": {},
     "output_type": "display_data"
    }
   ],
   "source": [
    "plt.figure(figsize=(8,5))\n",
    "\n",
    "goodbad_palette = sns.color_palette(\"RdYlGn_r\", n_colors=3)\n",
    "goodbad_palette.reverse()\n",
    "\n",
    "ax = sns.countplot(data=allocine_df, x='polarity', palette=goodbad_palette)\n",
    "ax.set(xlabel='Polarity', ylabel='Count')\n",
    "ax.set_xticklabels(['Negative', 'Neutral', 'Positive'])\n",
    "\n",
    "# Frenquencies\n",
    "ncount = len(allocine_df)\n",
    "for p in ax.patches:\n",
    "    x=p.get_bbox().get_points()[:,0]\n",
    "    y=p.get_bbox().get_points()[1,1]\n",
    "    ax.annotate('{:.1f}%'.format(100.*y/ncount), (x.mean(), y), \n",
    "            ha='center', va='bottom') # set the alignment of the text\n",
    "\n",
    "# Finalize the plot\n",
    "sns.despine(bottom=True)\n",
    "plt.tight_layout(h_pad=2)\n",
    "\n",
    "# Saving plot\n",
    "fig = ax.get_figure()\n",
    "fig.savefig('img/polarity_frequency.png', dpi=200)"
   ]
  },
  {
   "cell_type": "markdown",
   "metadata": {},
   "source": [
    "## Reviews per year"
   ]
  },
  {
   "cell_type": "code",
   "execution_count": 20,
   "metadata": {},
   "outputs": [],
   "source": [
    "allocine_df['date'] = pd.to_datetime(allocine_df['date'])\n",
    "reviews_per_year = allocine_df.groupby(allocine_df['date'].dt.year).size()"
   ]
  },
  {
   "cell_type": "code",
   "execution_count": 22,
   "metadata": {
    "scrolled": true
   },
   "outputs": [
    {
     "data": {
      "image/png": "[encoded data removed]",
      "text/plain": [
       "<Figure size 576x360 with 1 Axes>"
      ]
     },
     "metadata": {},
     "output_type": "display_data"
    }
   ],
   "source": [
    "plt.figure(figsize=(8,5))\n",
    "ax = sns.barplot(reviews_per_year.index, reviews_per_year.values, palette=\"GnBu_d\")\n",
    "ax.set(xlabel='Year', ylabel='Count')\n",
    "\n",
    "# Finalize the plot\n",
    "sns.despine(bottom=True)\n",
    "plt.tight_layout(h_pad=2)\n",
    "\n",
    "# Saving plot\n",
    "fig = ax.get_figure()\n",
    "fig.savefig('img/reviews_per_year.png', dpi=200)"
   ]
  },
  {
   "cell_type": "markdown",
   "metadata": {},
   "source": [
    "## Reviews length"
   ]
  },
  {
   "cell_type": "code",
   "execution_count": 23,
   "metadata": {},
   "outputs": [
    {
     "data": {
      "image/png": "[encoded data removed]",
      "text/plain": [
       "<Figure size 720x360 with 1 Axes>"
      ]
     },
     "metadata": {},
     "output_type": "display_data"
    }
   ],
   "source": [
    "reviews_length = allocine_df['review'].str.len()\n",
    "\n",
    "plt.figure(figsize=(10,5))\n",
    "ax = sns.distplot(reviews_length, bins=150, kde=False, hist_kws=dict(alpha=0.8))\n",
    "ax.set(xlabel='Review Length')\n",
    "\n",
    "# Finalize the plot\n",
    "sns.despine(bottom=True)\n",
    "plt.tight_layout(h_pad=2)\n",
    "\n",
    "# Saving plot\n",
    "fig = ax.get_figure()\n",
    "fig.savefig('img/reviews_length.png', dpi=200)"
   ]
  },
  {
   "cell_type": "code",
   "execution_count": 24,
   "metadata": {},
   "outputs": [
    {
     "name": "stdout",
     "output_type": "stream",
     "text": [
      "254 reviews with LEN > 4000 (1.28 % of total data)\n"
     ]
    }
   ],
   "source": [
    "THRESHOLD = 4000\n",
    "short_reviews = allocine_df[allocine_df['review'].str.len() <= THRESHOLD]\n",
    "long_reviews =  allocine_df[allocine_df['review'].str.len() > THRESHOLD]\n",
    "\n",
    "print(\"{} reviews with LEN > {} ({:.2f} % of total data)\".format(\n",
    "    len(long_reviews),\n",
    "    THRESHOLD,\n",
    "    100 * len(long_reviews) / len(allocine_df)\n",
    "))"
   ]
  },
  {
   "cell_type": "markdown",
   "metadata": {},
   "source": [
    "Example of a long review"
   ]
  },
  {
   "cell_type": "code",
   "execution_count": 25,
   "metadata": {},
   "outputs": [
    {
     "data": {
      "text/html": [
       "<div>\n",
       "<style scoped>\n",
       "    .dataframe tbody tr th:only-of-type {\n",
       "        vertical-align: middle;\n",
       "    }\n",
       "\n",
       "    .dataframe tbody tr th {\n",
       "        vertical-align: top;\n",
       "    }\n",
       "\n",
       "    .dataframe thead th {\n",
       "        text-align: right;\n",
       "    }\n",
       "</style>\n",
       "<table border=\"1\" class=\"dataframe\">\n",
       "  <thead>\n",
       "    <tr style=\"text-align: right;\">\n",
       "      <th></th>\n",
       "      <th>film-url</th>\n",
       "      <th>rating</th>\n",
       "      <th>review</th>\n",
       "      <th>date</th>\n",
       "      <th>helpful</th>\n",
       "      <th>unhelpful</th>\n",
       "      <th>polarity</th>\n",
       "    </tr>\n",
       "  </thead>\n",
       "  <tbody>\n",
       "    <tr>\n",
       "      <th>12</th>\n",
       "      <td>http://www.allocine.fr/film/fichefilm-138087/critiques/spectateurs</td>\n",
       "      <td>3.5</td>\n",
       "      <td>Cette critique révèle quelques éléments de l'intrigue de Brooklyn Affairs.\\n\\nEdward Norton, qui n'avait jusqu'ici réalisé que le sympathique mais oubliable Au nom d'Anna, revient derrière et devant la caméra avec un polar noir aux forts reliefs de comédie, secondé d'une palette de superbes seconds couteaux. Hommage à tout un pan du cinéma aujourd'hui très peu représenté, Motherless Brooklyn affiche fièrement son ton décalé en prenant justement plaisir à se démarquer des autres sorties de l'année. \\n\\nOn sent que Norton voulait faire quelque chose de différent tout en revenant à une part du 7ème art qu'il affectionne; les hommages, discrets, sont surtout matérialisés par la superbe reproduction d'époque, qu'on pouvait craindre artificielle, numérique. Tout semble avoir été fait de façon artisanale (si je puis me permettre), permettant de fait au public de s'impliquer dans une intrigue d'un autre temps. \\n\\nL'histoire de vengeance des détectives (particulièrement du personnage de Norton), classique et peu trépidante, dévoile finalement les points d'intérêt d'écriture et de mise en scène de son auteur : Norton, s'il est un poil trop académique avec sa mise en scène (qui vous réservera cependant de sacrées images), prend un plaisir fou à filmer les intérieurs de bars jazz, et à donner le pas à la danse d'amour qu'il partage avec la charismatique et charmante Gugu Mbatha-Raw.\\n\\nLors de ces moments privilégiés, le film s'envole, et la photographie permet à cette partie intime de l'affaire d'éclore : les séquences musicales, parfaitement filmées, dévoilent un jeu de lumière absolument fascinant, proche du tableau. Il en ira de même pour les rares scènes amoureuses, discrètes et jamais pathos, que le réalisateur évite de trop mettre en avant, surement pour ne pas avoir à rencontrer les mêmes défauts que les films habituels où l'amour prime sur l'intrigue. \\n\\nC'est paradoxalement parce qu'il ne met pas assez d'attention sur la relation des deux protagonistes qu'il perd de sa saveur : Brooklyn Affairs, désireux de raconter l'histoire de vengeance de son personnage haut en couleur (à l'humour qui fonctionne un peu quand il veut), se concentre par principe sur une intrigue commune qu'il n'essaie jamais de transcender par un soupçon d'originalité; le concept même du film, le syndrome Gilles de la Tourrette assené à un personnage qui aurait dû être, par définition, de caractère sérieux, sombre, représente sa principale prise de risque.\\n\\nDu reste, on retiendra quelques révélations prévisibles, un second méchant qu'on attendait et dont la révélation de l'identité tombe totalement à plat, encore que l'ultime twist révèle une affaire aux proportions bien plus intéressantes. C'est alors qu'il développe avec intelligence le propos de son film : le monde est un tableau de nuances de gris qu'il ne faut pas blâmer; il faut essayer de comprendre les raisons de sa décadence. \\n\\nAinsi, les personnages n'y seront pas bons ou mauvais : ils auront fait les choix qu'ils pensaient nécessaires pour mener à bien leur vie, et tentent, pour les moins soucieux de la loi, d'en faire disparaître les conséquences. Ni méchant, ni bon, ni cible, un ramassis de personnages qui évoluent les uns par rapport aux autres en tentant de mener à bien leur vie dans un contexte social perturbé. \\n\\nLe fond, bien plus intéressant que la forme, vient même justifier, volontairement ou non, l'académisme de la mise en scène : le film, dont l'une des thématiques artistiques était d'aborder le renouvellement de l'architecture qui vient bouleverser le quotidien des petites gens, image cela par une réalisation laissant la part belle à la symétrie, au cadrage parfait, à la recherche de la plus belle manière de filmer les intérieurs, les décors, ses personnages en mouvement.\\n\\nOn lui pardonnera son aspect prévisible par le bonheur que procure la reproduction de l'époque, et la joie partagée de voir un Norton en contre-emploi complet, génial comme pas deux dans son rôle exubérant; l'humour, comme je le disais irrégulier, fait la plupart du temps mouche et nous offre quelques répliques d'une justesse surprenante en terme de symbolique et d'impact narratif. Là l'on pouvait craindre un rabaissement des enjeux pour mieux mettre en avant le divertissement et les blagues, le réalisateur, loin d'avoir opté pour la solution de facilité, s'est servi des avancées de son intrigue pour mieux développer tout ce que la fin enverra bouler. \\n\\nLoin d'idéaliser la figure d'un Bruce Willis pas bien convaincant (sa prestation quand il est blessé est à la limite du mauvais) ou de diaboliser un Alec Baldwin à l'égocentrisme dictatorial (il emporte la caméra quand il est présent), Motherless Brooklyn est un film qu'on aurait pu croire gâché par ses clichés, ses conventions, son manque de surprise, s'il n'avait pas été fait avec tant de sincérité, de plaisir et d'honnêteté. \\n\\nUn petit divertissement comme on aimerait en voir plus souvent.</td>\n",
       "      <td>2019-12-18</td>\n",
       "      <td>0</td>\n",
       "      <td>2</td>\n",
       "      <td>0</td>\n",
       "    </tr>\n",
       "  </tbody>\n",
       "</table>\n",
       "</div>"
      ],
      "text/plain": [
       "                                                              film-url  \\\n",
       "12  http://www.allocine.fr/film/fichefilm-138087/critiques/spectateurs   \n",
       "\n",
       "    rating  \\\n",
       "12  3.5      \n",
       "\n",
       "                                                                                                                                                                                                                                                                                                                                                                                                                                                                                                                                                                                                                                                                                                                                                                                                                                                                                                                                                                                                                                                                                                                                                                                                                                                                                                                                                                                                                                                                                                                                                                                                                                                                                                                                                                                                                                                                                                                                                                                                                                                                                                                                                                                                                                                                                                                                                                                                                                                                                                                                                                                                                                                                                                                                                                                                                                                                                                                                                                                                                                                                                                                                                                                                                                                                                                                                                                                                                                                                                                                                                                                                                                                                                                                                                                                                                                                                                                                                                                                                                                                                                                                                                                                                                                                                                                                                                                                                                                                                                                                                                                                                                                                                                                                                                                                                                                                                                                                                                                                                                                                                                                                                                         review  \\\n",
       "12  Cette critique révèle quelques éléments de l'intrigue de Brooklyn Affairs.\\n\\nEdward Norton, qui n'avait jusqu'ici réalisé que le sympathique mais oubliable Au nom d'Anna, revient derrière et devant la caméra avec un polar noir aux forts reliefs de comédie, secondé d'une palette de superbes seconds couteaux. Hommage à tout un pan du cinéma aujourd'hui très peu représenté, Motherless Brooklyn affiche fièrement son ton décalé en prenant justement plaisir à se démarquer des autres sorties de l'année. \\n\\nOn sent que Norton voulait faire quelque chose de différent tout en revenant à une part du 7ème art qu'il affectionne; les hommages, discrets, sont surtout matérialisés par la superbe reproduction d'époque, qu'on pouvait craindre artificielle, numérique. Tout semble avoir été fait de façon artisanale (si je puis me permettre), permettant de fait au public de s'impliquer dans une intrigue d'un autre temps. \\n\\nL'histoire de vengeance des détectives (particulièrement du personnage de Norton), classique et peu trépidante, dévoile finalement les points d'intérêt d'écriture et de mise en scène de son auteur : Norton, s'il est un poil trop académique avec sa mise en scène (qui vous réservera cependant de sacrées images), prend un plaisir fou à filmer les intérieurs de bars jazz, et à donner le pas à la danse d'amour qu'il partage avec la charismatique et charmante Gugu Mbatha-Raw.\\n\\nLors de ces moments privilégiés, le film s'envole, et la photographie permet à cette partie intime de l'affaire d'éclore : les séquences musicales, parfaitement filmées, dévoilent un jeu de lumière absolument fascinant, proche du tableau. Il en ira de même pour les rares scènes amoureuses, discrètes et jamais pathos, que le réalisateur évite de trop mettre en avant, surement pour ne pas avoir à rencontrer les mêmes défauts que les films habituels où l'amour prime sur l'intrigue. \\n\\nC'est paradoxalement parce qu'il ne met pas assez d'attention sur la relation des deux protagonistes qu'il perd de sa saveur : Brooklyn Affairs, désireux de raconter l'histoire de vengeance de son personnage haut en couleur (à l'humour qui fonctionne un peu quand il veut), se concentre par principe sur une intrigue commune qu'il n'essaie jamais de transcender par un soupçon d'originalité; le concept même du film, le syndrome Gilles de la Tourrette assené à un personnage qui aurait dû être, par définition, de caractère sérieux, sombre, représente sa principale prise de risque.\\n\\nDu reste, on retiendra quelques révélations prévisibles, un second méchant qu'on attendait et dont la révélation de l'identité tombe totalement à plat, encore que l'ultime twist révèle une affaire aux proportions bien plus intéressantes. C'est alors qu'il développe avec intelligence le propos de son film : le monde est un tableau de nuances de gris qu'il ne faut pas blâmer; il faut essayer de comprendre les raisons de sa décadence. \\n\\nAinsi, les personnages n'y seront pas bons ou mauvais : ils auront fait les choix qu'ils pensaient nécessaires pour mener à bien leur vie, et tentent, pour les moins soucieux de la loi, d'en faire disparaître les conséquences. Ni méchant, ni bon, ni cible, un ramassis de personnages qui évoluent les uns par rapport aux autres en tentant de mener à bien leur vie dans un contexte social perturbé. \\n\\nLe fond, bien plus intéressant que la forme, vient même justifier, volontairement ou non, l'académisme de la mise en scène : le film, dont l'une des thématiques artistiques était d'aborder le renouvellement de l'architecture qui vient bouleverser le quotidien des petites gens, image cela par une réalisation laissant la part belle à la symétrie, au cadrage parfait, à la recherche de la plus belle manière de filmer les intérieurs, les décors, ses personnages en mouvement.\\n\\nOn lui pardonnera son aspect prévisible par le bonheur que procure la reproduction de l'époque, et la joie partagée de voir un Norton en contre-emploi complet, génial comme pas deux dans son rôle exubérant; l'humour, comme je le disais irrégulier, fait la plupart du temps mouche et nous offre quelques répliques d'une justesse surprenante en terme de symbolique et d'impact narratif. Là l'on pouvait craindre un rabaissement des enjeux pour mieux mettre en avant le divertissement et les blagues, le réalisateur, loin d'avoir opté pour la solution de facilité, s'est servi des avancées de son intrigue pour mieux développer tout ce que la fin enverra bouler. \\n\\nLoin d'idéaliser la figure d'un Bruce Willis pas bien convaincant (sa prestation quand il est blessé est à la limite du mauvais) ou de diaboliser un Alec Baldwin à l'égocentrisme dictatorial (il emporte la caméra quand il est présent), Motherless Brooklyn est un film qu'on aurait pu croire gâché par ses clichés, ses conventions, son manque de surprise, s'il n'avait pas été fait avec tant de sincérité, de plaisir et d'honnêteté. \\n\\nUn petit divertissement comme on aimerait en voir plus souvent.   \n",
       "\n",
       "         date  helpful  unhelpful  polarity  \n",
       "12 2019-12-18  0        2          0         "
      ]
     },
     "execution_count": 25,
     "metadata": {},
     "output_type": "execute_result"
    }
   ],
   "source": [
    "long_reviews.head(1)"
   ]
  },
  {
   "cell_type": "code",
   "execution_count": 26,
   "metadata": {},
   "outputs": [
    {
     "data": {
      "image/png": "[encoded data removed]",
      "text/plain": [
       "<Figure size 576x360 with 1 Axes>"
      ]
     },
     "metadata": {},
     "output_type": "display_data"
    }
   ],
   "source": [
    "short_reviews_length = short_reviews['review'].str.len()\n",
    "\n",
    "plt.figure(figsize=(8,5))\n",
    "ax = sns.distplot(short_reviews_length, bins=100, kde=False, hist_kws=dict(alpha=0.8))\n",
    "ax.set(xlabel='Review Length')\n",
    "\n",
    "# Finalize the plot\n",
    "sns.despine(bottom=True)\n",
    "plt.tight_layout(h_pad=2)\n",
    "\n",
    "# Saving plot\n",
    "fig = ax.get_figure()\n",
    "fig.savefig('img/short_reviews_length.png', dpi=200)"
   ]
  },
  {
   "cell_type": "code",
   "execution_count": null,
   "metadata": {},
   "outputs": [],
   "source": [
    "# TODO: other analysis ?\n",
    "# Histograms of reviews lengths for each rating (negative reviews are shorter ?)"
   ]
  },
  {
   "cell_type": "code",
   "execution_count": null,
   "metadata": {
    "scrolled": true
   },
   "outputs": [],
   "source": [
    "# Num reviews per film ? => why are we limiting to 30 reviews per film ?"
   ]
  },
  {
   "cell_type": "code",
   "execution_count": null,
   "metadata": {},
   "outputs": [],
   "source": []
  },
  {
   "cell_type": "code",
   "execution_count": null,
   "metadata": {},
   "outputs": [],
   "source": []
  },
  {
   "cell_type": "markdown",
   "metadata": {
    "scrolled": false
   },
   "source": [
    "# Build dataset"
   ]
  },
  {
   "cell_type": "code",
   "execution_count": 32,
   "metadata": {},
   "outputs": [
    {
     "name": "stdout",
     "output_type": "stream",
     "text": [
      "Length: 19782\n"
     ]
    }
   ],
   "source": [
    "dataset_df = allocine_df.copy()\n",
    "initial_len = len(dataset_df)\n",
    "print(\"Length: {}\".format(initial_len))"
   ]
  },
  {
   "cell_type": "markdown",
   "metadata": {},
   "source": [
    "## Remove data we don't need "
   ]
  },
  {
   "cell_type": "code",
   "execution_count": 33,
   "metadata": {},
   "outputs": [],
   "source": [
    "def loss_percentage(df, previous_length):\n",
    "    new_length = len(df)\n",
    "    percentage = 100*(1-(new_length/previous_length))    \n",
    "    return new_length, percentage  "
   ]
  },
  {
   "cell_type": "code",
   "execution_count": 34,
   "metadata": {
    "scrolled": true
   },
   "outputs": [
    {
     "name": "stdout",
     "output_type": "stream",
     "text": [
      "Length: 15508 (-21.6 %)\n",
      "Length: 15333 (-1.1 %)\n",
      "Length: 1214 (-92.1 %)\n",
      "Total loss: (-93.9 %)\n"
     ]
    }
   ],
   "source": [
    "# 1. Drop columns we don't need\n",
    "dataset_df = dataset_df.drop(columns=['rating', 'date', 'helpful', 'unhelpful'])\n",
    "\n",
    "# 2. Drop rows we don't need (neutral polarity)\n",
    "dataset_df = dataset_df[dataset_df['polarity'] != 0]\n",
    "length, percentage = loss_percentage(dataset_df, initial_len)\n",
    "print(\"Length: {} (-{:.1f} %)\".format(length, percentage))\n",
    "\n",
    "# 3. Remove long reviews\n",
    "LENGTH_THRESH = 4000\n",
    "dataset_df = dataset_df[dataset_df['review'].str.len() <= LENGTH_THRESH]\n",
    "length, percentage = loss_percentage(dataset_df, length)\n",
    "print(\"Length: {} (-{:.1f} %)\".format(length, percentage))\n",
    "\n",
    "# 4. Limit number of reviews per film\n",
    "MAX_REVIEWS_PER_FILM = 30\n",
    "grouped = dataset_df.groupby('film-url')\n",
    "for ids in grouped.groups.values():\n",
    "    num_reviews = len(ids)    \n",
    "    if num_reviews > MAX_REVIEWS_PER_FILM:\n",
    "        sampling_size = num_reviews - MAX_REVIEWS_PER_FILM\n",
    "        ids_to_drop = random.sample(list(ids), sampling_size)\n",
    "        dataset_df = dataset_df.drop(ids_to_drop)\n",
    "        \n",
    "length, percentage = loss_percentage(dataset_df, length)\n",
    "print(\"Length: {} (-{:.1f} %)\".format(length, percentage))\n",
    "\n",
    "# Total loss\n",
    "length, percentage = loss_percentage(dataset_df, initial_len)\n",
    "print(\"Total loss: (-{:.1f} %)\".format(percentage))"
   ]
  },
  {
   "cell_type": "code",
   "execution_count": 35,
   "metadata": {},
   "outputs": [
    {
     "data": {
      "text/plain": [
       "polarity\n",
       "-1    320\n",
       " 1    894\n",
       "dtype: int64"
      ]
     },
     "execution_count": 35,
     "metadata": {},
     "output_type": "execute_result"
    }
   ],
   "source": [
    "dataset_df.groupby('polarity').size()"
   ]
  },
  {
   "cell_type": "markdown",
   "metadata": {},
   "source": [
    "## Clean review text"
   ]
  },
  {
   "cell_type": "code",
   "execution_count": 36,
   "metadata": {},
   "outputs": [],
   "source": [
    "import re\n",
    "\n",
    "def clean_text(text):\n",
    "    text = text.replace('\\xa0', ' ')\n",
    "    text = text.replace('\\x92', \"'\")\n",
    "    \n",
    "    # Substituting multiple spaces with single space\n",
    "    # Also remove '\\n' and '\\r' occurences\n",
    "    text= re.sub(r'\\s+', ' ', text, flags=re.I)\n",
    "    \n",
    "    return text\n",
    " \n",
    "dataset_df['review'] = dataset_df['review'].apply(clean_text)"
   ]
  },
  {
   "cell_type": "code",
   "execution_count": 37,
   "metadata": {},
   "outputs": [
    {
     "data": {
      "text/html": [
       "<div>\n",
       "<style scoped>\n",
       "    .dataframe tbody tr th:only-of-type {\n",
       "        vertical-align: middle;\n",
       "    }\n",
       "\n",
       "    .dataframe tbody tr th {\n",
       "        vertical-align: top;\n",
       "    }\n",
       "\n",
       "    .dataframe thead th {\n",
       "        text-align: right;\n",
       "    }\n",
       "</style>\n",
       "<table border=\"1\" class=\"dataframe\">\n",
       "  <thead>\n",
       "    <tr style=\"text-align: right;\">\n",
       "      <th></th>\n",
       "      <th>film-url</th>\n",
       "      <th>review</th>\n",
       "      <th>polarity</th>\n",
       "    </tr>\n",
       "  </thead>\n",
       "  <tbody>\n",
       "    <tr>\n",
       "      <th>6195</th>\n",
       "      <td>http://www.allocine.fr/film/fichefilm-255238/critiques/spectateurs</td>\n",
       "      <td>Film très spécial et pourtant, l'univers du film, la dureté du film, enfin tout est captivant et pourtant je suis pas fan de ce type de film d'auteur... comme quoi tout est possible. A voir sans hesiter</td>\n",
       "      <td>1</td>\n",
       "    </tr>\n",
       "    <tr>\n",
       "      <th>12194</th>\n",
       "      <td>http://www.allocine.fr/film/fichefilm-262099/critiques/spectateurs</td>\n",
       "      <td>Présenté en compétition au Festival de Cannes 2019, « Le Lac aux Oies Sauvages » nous plonge en Chine dans la cavale d’un gangster ennemi de tous. Dans une ambiance nocturne et pluvieuse, il tombera amoureux d’une baigneuse, c’est-à-dire une prostituée qui souhaite s’échapper de son malheureux sort. Le film est très violent et le travail sur les sons et les plans sont étonnants. Mais le film est également très romantique et la photographie valorise la femme avec un style presque céleste. « Le Lac aux Oies Sauvages » est un polar envoûtant grâce à une mise en scène et un esthétisme irréprochable et ce, malgré la complexité de l’intrigue. D'autres critiques sur notre page Facebook : Cinéphiles 44 et notre site cinephiles44.com</td>\n",
       "      <td>1</td>\n",
       "    </tr>\n",
       "    <tr>\n",
       "      <th>12911</th>\n",
       "      <td>http://www.allocine.fr/film/fichefilm-262485/critiques/spectateurs</td>\n",
       "      <td>Chanceux ceux qui n'ont pas encore cette merveille ! Les images sont splendides et donnent sens à cette question essentielle : quelle place sommes nous prêts à laisser au sauvage pour assurer notre équilibre ? avec respect et intelligence. Simple, pur, profond ce film de jean Michel BERTRAND nous ouvre les yeux sur la magie de notre monde.</td>\n",
       "      <td>1</td>\n",
       "    </tr>\n",
       "    <tr>\n",
       "      <th>12622</th>\n",
       "      <td>http://www.allocine.fr/film/fichefilm-262396/critiques/spectateurs</td>\n",
       "      <td>Très bon biopic, rythmé, prenant, et les 2:30 passent vite. Bien que je n'aime pas les courses de Nascar, les scènes de courses automobiles sont bien tournées et on rentre dans l'action. On voit dans le film un Henri Ford (le second) pas commode du tout et limite imbuvable mais changeant d'un seul coup dans la scène où il s'effondre dans la GT40: excellent. Du bon ciné musclé dans une ambiance bien recréée des années 1960.</td>\n",
       "      <td>1</td>\n",
       "    </tr>\n",
       "    <tr>\n",
       "      <th>15602</th>\n",
       "      <td>http://www.allocine.fr/film/fichefilm-270440/critiques/spectateurs</td>\n",
       "      <td>Je conseil a tout le monde d'aller le voir!!! Personnage attachant bien que certains pas assez détaillés , histoire bien amené sur le climat sans trop en faire , pm= petit message pour Libération critique non constructive c'est dégueulasse de mettre une étoile Même si vous aimez pas . Aller voir leur critique</td>\n",
       "      <td>1</td>\n",
       "    </tr>\n",
       "  </tbody>\n",
       "</table>\n",
       "</div>"
      ],
      "text/plain": [
       "                                                                 film-url  \\\n",
       "6195   http://www.allocine.fr/film/fichefilm-255238/critiques/spectateurs   \n",
       "12194  http://www.allocine.fr/film/fichefilm-262099/critiques/spectateurs   \n",
       "12911  http://www.allocine.fr/film/fichefilm-262485/critiques/spectateurs   \n",
       "12622  http://www.allocine.fr/film/fichefilm-262396/critiques/spectateurs   \n",
       "15602  http://www.allocine.fr/film/fichefilm-270440/critiques/spectateurs   \n",
       "\n",
       "                                                                                                                                                                                                                                                                                                                                                                                                                                                                                                                                                                                                                                                                                                                                                               review  \\\n",
       "6195   Film très spécial et pourtant, l'univers du film, la dureté du film, enfin tout est captivant et pourtant je suis pas fan de ce type de film d'auteur... comme quoi tout est possible. A voir sans hesiter                                                                                                                                                                                                                                                                                                                                                                                                                                                                                                                                                       \n",
       "12194  Présenté en compétition au Festival de Cannes 2019, « Le Lac aux Oies Sauvages » nous plonge en Chine dans la cavale d’un gangster ennemi de tous. Dans une ambiance nocturne et pluvieuse, il tombera amoureux d’une baigneuse, c’est-à-dire une prostituée qui souhaite s’échapper de son malheureux sort. Le film est très violent et le travail sur les sons et les plans sont étonnants. Mais le film est également très romantique et la photographie valorise la femme avec un style presque céleste. « Le Lac aux Oies Sauvages » est un polar envoûtant grâce à une mise en scène et un esthétisme irréprochable et ce, malgré la complexité de l’intrigue. D'autres critiques sur notre page Facebook : Cinéphiles 44 et notre site cinephiles44.com   \n",
       "12911  Chanceux ceux qui n'ont pas encore cette merveille ! Les images sont splendides et donnent sens à cette question essentielle : quelle place sommes nous prêts à laisser au sauvage pour assurer notre équilibre ? avec respect et intelligence. Simple, pur, profond ce film de jean Michel BERTRAND nous ouvre les yeux sur la magie de notre monde.                                                                                                                                                                                                                                                                                                                                                                                                            \n",
       "12622  Très bon biopic, rythmé, prenant, et les 2:30 passent vite. Bien que je n'aime pas les courses de Nascar, les scènes de courses automobiles sont bien tournées et on rentre dans l'action. On voit dans le film un Henri Ford (le second) pas commode du tout et limite imbuvable mais changeant d'un seul coup dans la scène où il s'effondre dans la GT40: excellent. Du bon ciné musclé dans une ambiance bien recréée des années 1960.                                                                                                                                                                                                                                                                                                                       \n",
       "15602  Je conseil a tout le monde d'aller le voir!!! Personnage attachant bien que certains pas assez détaillés , histoire bien amené sur le climat sans trop en faire , pm= petit message pour Libération critique non constructive c'est dégueulasse de mettre une étoile Même si vous aimez pas . Aller voir leur critique                                                                                                                                                                                                                                                                                                                                                                                                                                           \n",
       "\n",
       "       polarity  \n",
       "6195   1         \n",
       "12194  1         \n",
       "12911  1         \n",
       "12622  1         \n",
       "15602  1         "
      ]
     },
     "execution_count": 37,
     "metadata": {},
     "output_type": "execute_result"
    }
   ],
   "source": [
    "dataset_df.sample(5, random_state=RANDOM_SEED)"
   ]
  },
  {
   "cell_type": "markdown",
   "metadata": {},
   "source": [
    "## Balance classes"
   ]
  },
  {
   "cell_type": "code",
   "execution_count": 43,
   "metadata": {},
   "outputs": [],
   "source": [
    "# The overall distribution of labels is balanced (25k pos and 25k neg).\n",
    "# We don't have to have train and testset perfectly balanced\n",
    "\n",
    "balanced_df = dataset_df.copy()\n",
    "\n",
    "MAX_REVIEWS_PER_POLARITY = 300\n",
    "# 4. Limit number of reviews per film\n",
    "grouped = balanced_df.groupby('polarity')\n",
    "for ids in grouped.groups.values():\n",
    "    num_reviews = len(ids)    \n",
    "    if num_reviews > MAX_REVIEWS_PER_POLARITY:\n",
    "        sampling_size = num_reviews - MAX_REVIEWS_PER_POLARITY\n",
    "        ids_to_drop = random.sample(list(ids), sampling_size)\n",
    "        balanced_df = balanced_df.drop(ids_to_drop)"
   ]
  },
  {
   "cell_type": "code",
   "execution_count": 45,
   "metadata": {},
   "outputs": [
    {
     "name": "stdout",
     "output_type": "stream",
     "text": [
      "polarity\n",
      "-1    300\n",
      " 1    300\n",
      "dtype: int64\n"
     ]
    },
    {
     "data": {
      "text/html": [
       "<div>\n",
       "<style scoped>\n",
       "    .dataframe tbody tr th:only-of-type {\n",
       "        vertical-align: middle;\n",
       "    }\n",
       "\n",
       "    .dataframe tbody tr th {\n",
       "        vertical-align: top;\n",
       "    }\n",
       "\n",
       "    .dataframe thead th {\n",
       "        text-align: right;\n",
       "    }\n",
       "</style>\n",
       "<table border=\"1\" class=\"dataframe\">\n",
       "  <thead>\n",
       "    <tr style=\"text-align: right;\">\n",
       "      <th></th>\n",
       "      <th>film-url</th>\n",
       "      <th>review</th>\n",
       "      <th>polarity</th>\n",
       "    </tr>\n",
       "  </thead>\n",
       "  <tbody>\n",
       "    <tr>\n",
       "      <th>12317</th>\n",
       "      <td>http://www.allocine.fr/film/fichefilm-262124/critiques/spectateurs</td>\n",
       "      <td>Magnifique encore mieux que le precedent et toujour le meme humour une belle réussite encore je me suis bien amusée !!!</td>\n",
       "      <td>1</td>\n",
       "    </tr>\n",
       "    <tr>\n",
       "      <th>12959</th>\n",
       "      <td>http://www.allocine.fr/film/fichefilm-263312/critiques/spectateurs</td>\n",
       "      <td>Voici un polar roumain bien tordu, entre Roumanie, la Gomera aux Canaries et pour le final Singapour. Un flic piégé par la pègre, une femme ultra fatale, une procureure psychorigide, une intrigue complètement azimutée, un langage sifflé en trois langues, ajoutez en plus trois phases temporelles bien mélangées et chapitré par personnage, et vous obtenez une recette de polar absolument unique.</td>\n",
       "      <td>1</td>\n",
       "    </tr>\n",
       "    <tr>\n",
       "      <th>13575</th>\n",
       "      <td>http://www.allocine.fr/film/fichefilm-264228/critiques/spectateurs</td>\n",
       "      <td>Très bon film je recommande, moment agréable à passer seul ou à plusieurs, histoire immersive, touchante. Beaucoup à dire. Mais encore !</td>\n",
       "      <td>1</td>\n",
       "    </tr>\n",
       "    <tr>\n",
       "      <th>14386</th>\n",
       "      <td>http://www.allocine.fr/film/fichefilm-266409/critiques/spectateurs</td>\n",
       "      <td>Ah la bien pensance en une scéance ... Quand c'est bien traité, avec humour, positivisme, sous un fond de psychologie \"vraie\" pourquoi pas mais là le sujet est survolé. Pas vraiment du cinéma</td>\n",
       "      <td>-1</td>\n",
       "    </tr>\n",
       "    <tr>\n",
       "      <th>14382</th>\n",
       "      <td>http://www.allocine.fr/film/fichefilm-266409/critiques/spectateurs</td>\n",
       "      <td>Je ne recommande à personne d’aller voir ce film. Un ramassis de clichés sur les jeunes de cités. Pendant toute la durée du film on voit Amel, Yanis, Farid... faire des bêtises et être en échec scolaire. C’est une honte qu’en 2019, au cinéma, on se permette de montrer encore cette image des jeunes de cités, comme étant des débiles incapables de s’en sortir. Je suis d’autant plus déçue que Grand Corps Malade ait participé à la réalisation de ce film. Parlons aussi de la « morale » de ce film, et de la représentation des classes segpa. Alors d’apres ce film ces classes sont pour les « débiles » et les fauteurs de troubles. Pourtant ces classes permettent réellement à certains enfants de rattraper leur retard et de poursuivre les études de leurs choix à leurs rythmes, et adaptées à leurs profils. Parce que non en segpa on ne fait pas du repassage et de la couture et qu’on peut vivre en cité,banlieue, tout en étant cultivé et en ayant soif d’apprendre.</td>\n",
       "      <td>-1</td>\n",
       "    </tr>\n",
       "    <tr>\n",
       "      <th>15193</th>\n",
       "      <td>http://www.allocine.fr/film/fichefilm-267581/critiques/spectateurs</td>\n",
       "      <td>Le réalisateur Maxime Giroux retrouve son alter-ego Martin Dubreuil pour une conquête de l'ouest atemporelle et envoûtante : paysages grandioses et cadres resserrés en clair-obscur, galerie de personnages inquiétants et fascinants (Romain Duris, Reda Kateb, Soko, Sarah Gadon...), habile mélange des genres... Tout est réuni pour faire vivre au spectateur une expérience intellectuelle et sensorielle dont il se souviendra longtemps.</td>\n",
       "      <td>1</td>\n",
       "    </tr>\n",
       "    <tr>\n",
       "      <th>2784</th>\n",
       "      <td>http://www.allocine.fr/film/fichefilm-215094/critiques/spectateurs</td>\n",
       "      <td>Une déplorable pauvreté linguistique, des décors sans intérêt, l’antre depapi palpatine et déjà vue mille fois et jamais appréciée, une grotte, des pics et un fauteuil roulant télescopique, ça n’a rien de captivant. Pour ce qui est des « dialogues », étant lycéen, j’aurais pu poser mon bon micro à n’importe quelle table de la cantine pour les créer, rendant ce filme encore plus déprimant. Des incohérences à foison : d’où sort le margoulin dans le faucon millenium au début du filme ? Il dit un mot puis disparaît jusqu’à l’une des dernières scènes. La mort du général espion vaut-elle la peine d’être commentée ? Kylo Ren qui prend le collier de Rey par télépathie ? Suivi d’un « attends, j’arrive »? Leur cailloux à la qui les mènent à leur planète ? Je regrette mais pas d’arkenstone dans Star Wars, c’est sensé être un filme de science fiction. Les croiseurs qui sortent de terre ? Les méchants TOUJOURS associés à la pluie, le gris et le noir, même pas un peu de feu, dans une grotte bien sûr sinon ça devient trop dur à comprendre.C’est au jeu d’acteur de Poe Dameron avec ses mimiques que je donne ces 0,5. C’est une honte. On se prend une avalanche d’effets spéciaux et de dialogues PAUVRES dans la figure, je n’achèterais même pas ce filme en blue ray.</td>\n",
       "      <td>-1</td>\n",
       "    </tr>\n",
       "    <tr>\n",
       "      <th>15845</th>\n",
       "      <td>http://www.allocine.fr/film/fichefilm-271957/critiques/spectateurs</td>\n",
       "      <td>Le film MARTIN EDEN a le mérite de prouver encore une fois que l'oeuvre homonyme de Jack LONDON est indémodable et intemporelle. On a beau transposer l'action de San Francisco à Naples, il n'en demeure que l'essence même du personnage et ses tiraillements intellectuels sont très bien portés par le magnifique (retenez bien son nom) Luca MARINELLI. L'esthétique assez kaléidoscopique choisie par Pietro MARCELLO est aussi très singulière et mémorable. Malheureusement, malgré ces qualités indéniables, la \"sauce\" ne prend pas, le film souffre de lenteur et le spectateur d'ennui. Une belle déception.</td>\n",
       "      <td>-1</td>\n",
       "    </tr>\n",
       "    <tr>\n",
       "      <th>5640</th>\n",
       "      <td>http://www.allocine.fr/film/fichefilm-241020/critiques/spectateurs</td>\n",
       "      <td>cette nouvelle génération d'angels a serte beaucoup de sexy charme mais le reste est pour moi mal réalisé tout simplement, trop de gros plans qui rendent l'action souvent illisible et masque des moyens d'un téléfilm, l'histoire à tiroir n'apporte que du vu et revu sans classe mais avec du bling bling de mauvais goût...le féminisme lourdingue avec coup de pied dans les partis intimes est bien présente (mannequin forte comme des colosses pourquoi pas)..je m'attendais à un film plus ambitieux avec un tel casting mais c'est juste une grosse caricature des fois drôle mais loin d'être à la hauteur de ces \"drôles de dames \".</td>\n",
       "      <td>-1</td>\n",
       "    </tr>\n",
       "    <tr>\n",
       "      <th>13988</th>\n",
       "      <td>http://www.allocine.fr/film/fichefilm-265573/critiques/spectateurs</td>\n",
       "      <td>J'avais envie de le voir pour faire ma propre opinion malgré les avis négatif : je confirme donc ! Film plat sans gros intérêt et pas plus marrant que sa, relativement déçu pour ma part...</td>\n",
       "      <td>-1</td>\n",
       "    </tr>\n",
       "  </tbody>\n",
       "</table>\n",
       "</div>"
      ],
      "text/plain": [
       "                                                                 film-url  \\\n",
       "12317  http://www.allocine.fr/film/fichefilm-262124/critiques/spectateurs   \n",
       "12959  http://www.allocine.fr/film/fichefilm-263312/critiques/spectateurs   \n",
       "13575  http://www.allocine.fr/film/fichefilm-264228/critiques/spectateurs   \n",
       "14386  http://www.allocine.fr/film/fichefilm-266409/critiques/spectateurs   \n",
       "14382  http://www.allocine.fr/film/fichefilm-266409/critiques/spectateurs   \n",
       "15193  http://www.allocine.fr/film/fichefilm-267581/critiques/spectateurs   \n",
       "2784   http://www.allocine.fr/film/fichefilm-215094/critiques/spectateurs   \n",
       "15845  http://www.allocine.fr/film/fichefilm-271957/critiques/spectateurs   \n",
       "5640   http://www.allocine.fr/film/fichefilm-241020/critiques/spectateurs   \n",
       "13988  http://www.allocine.fr/film/fichefilm-265573/critiques/spectateurs   \n",
       "\n",
       "                                                                                                                                                                                                                                                                                                                                                                                                                                                                                                                                                                                                                                                                                                                                                                                                                                                                                                                                                                                                                                                                                                                                                                                                                                                                                                                 review  \\\n",
       "12317  Magnifique encore mieux que le precedent et toujour le meme humour une belle réussite encore je me suis bien amusée !!!                                                                                                                                                                                                                                                                                                                                                                                                                                                                                                                                                                                                                                                                                                                                                                                                                                                                                                                                                                                                                                                                                                                                                                                            \n",
       "12959  Voici un polar roumain bien tordu, entre Roumanie, la Gomera aux Canaries et pour le final Singapour. Un flic piégé par la pègre, une femme ultra fatale, une procureure psychorigide, une intrigue complètement azimutée, un langage sifflé en trois langues, ajoutez en plus trois phases temporelles bien mélangées et chapitré par personnage, et vous obtenez une recette de polar absolument unique.                                                                                                                                                                                                                                                                                                                                                                                                                                                                                                                                                                                                                                                                                                                                                                                                                                                                                                         \n",
       "13575  Très bon film je recommande, moment agréable à passer seul ou à plusieurs, histoire immersive, touchante. Beaucoup à dire. Mais encore !                                                                                                                                                                                                                                                                                                                                                                                                                                                                                                                                                                                                                                                                                                                                                                                                                                                                                                                                                                                                                                                                                                                                                                           \n",
       "14386  Ah la bien pensance en une scéance ... Quand c'est bien traité, avec humour, positivisme, sous un fond de psychologie \"vraie\" pourquoi pas mais là le sujet est survolé. Pas vraiment du cinéma                                                                                                                                                                                                                                                                                                                                                                                                                                                                                                                                                                                                                                                                                                                                                                                                                                                                                                                                                                                                                                                                                                                    \n",
       "14382  Je ne recommande à personne d’aller voir ce film. Un ramassis de clichés sur les jeunes de cités. Pendant toute la durée du film on voit Amel, Yanis, Farid... faire des bêtises et être en échec scolaire. C’est une honte qu’en 2019, au cinéma, on se permette de montrer encore cette image des jeunes de cités, comme étant des débiles incapables de s’en sortir. Je suis d’autant plus déçue que Grand Corps Malade ait participé à la réalisation de ce film. Parlons aussi de la « morale » de ce film, et de la représentation des classes segpa. Alors d’apres ce film ces classes sont pour les « débiles » et les fauteurs de troubles. Pourtant ces classes permettent réellement à certains enfants de rattraper leur retard et de poursuivre les études de leurs choix à leurs rythmes, et adaptées à leurs profils. Parce que non en segpa on ne fait pas du repassage et de la couture et qu’on peut vivre en cité,banlieue, tout en étant cultivé et en ayant soif d’apprendre.                                                                                                                                                                                                                                                                                                                 \n",
       "15193  Le réalisateur Maxime Giroux retrouve son alter-ego Martin Dubreuil pour une conquête de l'ouest atemporelle et envoûtante : paysages grandioses et cadres resserrés en clair-obscur, galerie de personnages inquiétants et fascinants (Romain Duris, Reda Kateb, Soko, Sarah Gadon...), habile mélange des genres... Tout est réuni pour faire vivre au spectateur une expérience intellectuelle et sensorielle dont il se souviendra longtemps.                                                                                                                                                                                                                                                                                                                                                                                                                                                                                                                                                                                                                                                                                                                                                                                                                                                                  \n",
       "2784   Une déplorable pauvreté linguistique, des décors sans intérêt, l’antre depapi palpatine et déjà vue mille fois et jamais appréciée, une grotte, des pics et un fauteuil roulant télescopique, ça n’a rien de captivant. Pour ce qui est des « dialogues », étant lycéen, j’aurais pu poser mon bon micro à n’importe quelle table de la cantine pour les créer, rendant ce filme encore plus déprimant. Des incohérences à foison : d’où sort le margoulin dans le faucon millenium au début du filme ? Il dit un mot puis disparaît jusqu’à l’une des dernières scènes. La mort du général espion vaut-elle la peine d’être commentée ? Kylo Ren qui prend le collier de Rey par télépathie ? Suivi d’un « attends, j’arrive »? Leur cailloux à la qui les mènent à leur planète ? Je regrette mais pas d’arkenstone dans Star Wars, c’est sensé être un filme de science fiction. Les croiseurs qui sortent de terre ? Les méchants TOUJOURS associés à la pluie, le gris et le noir, même pas un peu de feu, dans une grotte bien sûr sinon ça devient trop dur à comprendre.C’est au jeu d’acteur de Poe Dameron avec ses mimiques que je donne ces 0,5. C’est une honte. On se prend une avalanche d’effets spéciaux et de dialogues PAUVRES dans la figure, je n’achèterais même pas ce filme en blue ray.   \n",
       "15845  Le film MARTIN EDEN a le mérite de prouver encore une fois que l'oeuvre homonyme de Jack LONDON est indémodable et intemporelle. On a beau transposer l'action de San Francisco à Naples, il n'en demeure que l'essence même du personnage et ses tiraillements intellectuels sont très bien portés par le magnifique (retenez bien son nom) Luca MARINELLI. L'esthétique assez kaléidoscopique choisie par Pietro MARCELLO est aussi très singulière et mémorable. Malheureusement, malgré ces qualités indéniables, la \"sauce\" ne prend pas, le film souffre de lenteur et le spectateur d'ennui. Une belle déception.                                                                                                                                                                                                                                                                                                                                                                                                                                                                                                                                                                                                                                                                                           \n",
       "5640   cette nouvelle génération d'angels a serte beaucoup de sexy charme mais le reste est pour moi mal réalisé tout simplement, trop de gros plans qui rendent l'action souvent illisible et masque des moyens d'un téléfilm, l'histoire à tiroir n'apporte que du vu et revu sans classe mais avec du bling bling de mauvais goût...le féminisme lourdingue avec coup de pied dans les partis intimes est bien présente (mannequin forte comme des colosses pourquoi pas)..je m'attendais à un film plus ambitieux avec un tel casting mais c'est juste une grosse caricature des fois drôle mais loin d'être à la hauteur de ces \"drôles de dames \".                                                                                                                                                                                                                                                                                                                                                                                                                                                                                                                                                                                                                                                                  \n",
       "13988  J'avais envie de le voir pour faire ma propre opinion malgré les avis négatif : je confirme donc ! Film plat sans gros intérêt et pas plus marrant que sa, relativement déçu pour ma part...                                                                                                                                                                                                                                                                                                                                                                                                                                                                                                                                                                                                                                                                                                                                                                                                                                                                                                                                                                                                                                                                                                                       \n",
       "\n",
       "       polarity  \n",
       "12317  1         \n",
       "12959  1         \n",
       "13575  1         \n",
       "14386 -1         \n",
       "14382 -1         \n",
       "15193  1         \n",
       "2784  -1         \n",
       "15845 -1         \n",
       "5640  -1         \n",
       "13988 -1         "
      ]
     },
     "execution_count": 45,
     "metadata": {},
     "output_type": "execute_result"
    }
   ],
   "source": [
    "print(balanced_df.groupby('polarity').size())\n",
    "balanced_df.sample(10, random_state=RANDOM_SEED)"
   ]
  },
  {
   "cell_type": "code",
   "execution_count": null,
   "metadata": {},
   "outputs": [],
   "source": []
  },
  {
   "cell_type": "code",
   "execution_count": 119,
   "metadata": {},
   "outputs": [],
   "source": [
    "# split train / test\n",
    "# While True\n",
    "# 1. random in train_set ids => find corresponding row\n",
    "# 2. add all rows with same film id test_set\n",
    "# 3. is test_proportion reached ? Yes: STOP, No continue\n",
    "\n",
    "# => verify this split preserve the balanced distribution of classes"
   ]
  },
  {
   "cell_type": "code",
   "execution_count": 73,
   "metadata": {},
   "outputs": [],
   "source": [
    "\n"
   ]
  },
  {
   "cell_type": "code",
   "execution_count": null,
   "metadata": {},
   "outputs": [],
   "source": []
  },
  {
   "cell_type": "code",
   "execution_count": null,
   "metadata": {},
   "outputs": [],
   "source": []
  }
 ],
 "metadata": {
  "kernelspec": {
   "display_name": "Python 3",
   "language": "python",
   "name": "python3"
  },
  "language_info": {
   "codemirror_mode": {
    "name": "ipython",
    "version": 3
   },
   "file_extension": ".py",
   "mimetype": "text/x-python",
   "name": "python",
   "nbconvert_exporter": "python",
   "pygments_lexer": "ipython3",
   "version": "3.7.5"
  }
 },
 "nbformat": 4,
 "nbformat_minor": 4
}
