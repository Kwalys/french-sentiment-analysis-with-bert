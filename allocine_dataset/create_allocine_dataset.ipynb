{
 "cells": [
  {
   "cell_type": "code",
   "execution_count": 10,
   "metadata": {},
   "outputs": [],
   "source": [
    "import requests\n",
    "from bs4 import BeautifulSoup"
   ]
  },
  {
   "cell_type": "code",
   "execution_count": null,
   "metadata": {},
   "outputs": [],
   "source": [
    "url = url_input + '?page=' + str(pagenumber)\n",
    "r = requests.get(url)\n",
    "bs = BeautifulSoup(r.text, 'html.parser')"
   ]
  },
  {
   "cell_type": "code",
   "execution_count": 213,
   "metadata": {},
   "outputs": [],
   "source": [
    "url_input =  \"http://www.allocine.fr/film/fichefilm-22092/critiques/spectateurs\"\n",
    "pagenumber = 1\n",
    "\n",
    "url = \"{}/?page={}\".format(url_input, pagenumber + 1)"
   ]
  },
  {
   "cell_type": "code",
   "execution_count": 276,
   "metadata": {},
   "outputs": [],
   "source": [
    "r = requests.get(url)\n",
    "soup = BeautifulSoup(r.text, 'html.parser')"
   ]
  },
  {
   "cell_type": "code",
   "execution_count": null,
   "metadata": {},
   "outputs": [],
   "source": []
  },
  {
   "cell_type": "code",
   "execution_count": null,
   "metadata": {},
   "outputs": [],
   "source": []
  },
  {
   "cell_type": "code",
   "execution_count": 277,
   "metadata": {},
   "outputs": [],
   "source": []
  },
  {
   "cell_type": "code",
   "execution_count": 436,
   "metadata": {},
   "outputs": [],
   "source": [
    "def format_comment(comment):\n",
    "    output_text = \"\"\n",
    "    for content in comment.contents:        \n",
    "        content_str = str(content)        \n",
    "        content_soup = BeautifulSoup(content_str, 'html.parser')\n",
    "        spoiler = content_soup.find(\"span\", {\"class\": \"spoiler-content\"})\n",
    "        if spoiler:\n",
    "            output_text += spoiler.text.strip()\n",
    "        else:\n",
    "            output_text += content_str.strip()\n",
    "    return output_text #.replace('\\n', ' ')\n",
    "\n",
    "def parse_page(page_url):    \n",
    "    ratings, comments = [], []    \n",
    "    r = requests.get(page_url)\n",
    "    soup = BeautifulSoup(r.text, 'html.parser')\n",
    "    \n",
    "    # Favorise well structured comments\n",
    "    # Also avoid sarcastic comments / against main opinion (but it's not a something we need)\n",
    "    #for helpful in soup.find_all(\"div\", {\"class\": \"reviews-users-comment-useful js-useful-reviews\"}):\n",
    "    #    helpful_dic = json.loads(helpful.get(\"data-statistics\"))\n",
    "    #    helpful_delta = int(helpful_dic['helpfulCount']) - int(helpful_dic['unhelpfulCount'])\n",
    "    #    helpfuls.append(helpful_delta)\n",
    "\n",
    "\n",
    "    for rating in soup.find_all(\"span\", {\"class\": \"stareval-note\"}):\n",
    "        rating_str = str(rating.contents)[2:5]\n",
    "        rating_float = float(rating_str.replace(',', '.'))\n",
    "        ratings.append(rating_float)\n",
    "\n",
    "    for comment in soup.find_all(\"div\", attrs={\"class\": \"content-txt review-card-content\"}):        \n",
    "        comment_text = format_comment(comment)           \n",
    "        comments.append(comment_text)    \n",
    "        \n",
    "    return ratings, comments"
   ]
  },
  {
   "cell_type": "code",
   "execution_count": 536,
   "metadata": {},
   "outputs": [],
   "source": [
    "import requests\n",
    "from bs4 import BeautifulSoup\n",
    "\n",
    "def parse_film(film_url):\n",
    "    r = requests.get(film_url)\n",
    "    if r.status_code == requests.codes.not_found:\n",
    "        # if url is not foud : film does not exist\n",
    "        return None\n",
    "    elif len(r.history) > 1: \n",
    "        # if there is more than one element in history, the request was redirected\n",
    "        # and that means there are no \"critiques/spectateurs\" page      \n",
    "        return None\n",
    "\n",
    "    soup = BeautifulSoup(r.text, 'html.parser')\n",
    "    \n",
    "    #print(\"> Film url: \" + film_url)\n",
    "    \n",
    "    # Find number of pages\n",
    "    pagination = soup.find(\"div\", {\"class\": \"pagination-item-holder\"})\n",
    "    if pagination:\n",
    "        #print(pagination)\n",
    "        pages = pagination.find_all(\"span\")\n",
    "        #print([page.text for page in pages])\n",
    "        page_number = int([page.text for page in pages][-1])\n",
    "    else:\n",
    "        page_number = 1\n",
    "    #print(\"  pages: \" + str(page_number))\n",
    "    \n",
    "    # Iterate over pages\n",
    "    film_reviews = [] #defaultdict(tuple)\n",
    "\n",
    "    for page_id in range(0, page_number):            \n",
    "        page_url = url = \"{film_url}/?page={page_num}\".format(\n",
    "            film_url=film_url,\n",
    "            page_num=page_id+1)\n",
    "        ratings, comments = parse_page(page_url)\n",
    "        \n",
    "        for rating, comment in zip(ratings, comments):\n",
    "            film_reviews.append((rating, comment))\n",
    "            #film_ratings[rating].append(comment)\n",
    "            \n",
    "    return film_reviews\n",
    "            \n",
    "    # TODO => only keep x comments (random ?)"
   ]
  },
  {
   "cell_type": "code",
   "execution_count": 537,
   "metadata": {},
   "outputs": [],
   "source": [
    "from collections import defaultdict\n",
    "\n",
    "def parse_allocine(root_url, max_film_id):   \n",
    "    #FILM_ID = 22092\n",
    "    reviews = dict() #defaultdict(list)\n",
    "    for film_id in range(0, max_film_id+1):\n",
    "        \n",
    "        if film_id % 100 == 0:\n",
    "            print(\"Progress: {}/{}\".format(film_id, max_film_id))\n",
    "            \n",
    "        film_url = \"{root}/film/fichefilm-{film_id}/critiques/spectateurs\".format(\n",
    "            root=root_url,\n",
    "            film_id=film_id\n",
    "        )\n",
    "        film_reviews = parse_film(film_url)\n",
    "        if film_reviews:\n",
    "            reviews[film_id] = film_reviews\n",
    "    \n",
    "    return reviews"
   ]
  },
  {
   "cell_type": "code",
   "execution_count": null,
   "metadata": {},
   "outputs": [],
   "source": []
  },
  {
   "cell_type": "code",
   "execution_count": 539,
   "metadata": {
    "scrolled": true
   },
   "outputs": [
    {
     "name": "stdout",
     "output_type": "stream",
     "text": [
      "Progress: 0/300\n",
      "Progress: 100/300\n",
      "Progress: 200/300\n",
      "Progress: 300/300\n"
     ]
    }
   ],
   "source": [
    "ROOT_URL = \"http://www.allocine.fr\"\n",
    "MAX_FILM_ID = 300\n",
    "#MAX_REVIEWS_PER_FILM = 30 + keepp only short answers ??\n",
    "\n",
    "allocine_reviews = parse_allocine(ROOT_URL, MAX_FILM_ID)"
   ]
  },
  {
   "cell_type": "code",
   "execution_count": null,
   "metadata": {},
   "outputs": [],
   "source": []
  },
  {
   "cell_type": "code",
   "execution_count": 552,
   "metadata": {},
   "outputs": [
    {
     "name": "stdout",
     "output_type": "stream",
     "text": [
      "Reviews number : 15\n",
      "Rating: 3.0/5\n",
      "Il y a indéniablement une réelle fascination à voir le cinéma rencontrer la peinture, à voir la caméra de Clouzot filmer un tableau de Picasso en train de se faire. Le parti pris du cinéaste est de ne pas montrer le peintre mais (presque) uniquement le tableau et aussi de ne pas filmer le processus créatif en temps réel (un des tableaux projeté en l'espace de cinq minutes a en réalité été peint en cinq heures). L'intérêt de ces choix de mise en scène est de renforcer l'attraction du spectateur pour le peintre car, en ne le voyant pas directement, c'est comme si le tableau se faisait de lui-même. Ce n'est pas Picasso qui corrige ou modifie son oeuvre, mais l'oeuvre elle-même qui change sous les yeux d'un spectateur se devant d'être attentif à tous les mouvements qui défilent sur la toile : Picasso est bien le maître, mais il est invisible; ce ne serait donc pas en le filmant qu'on percerait son mystère et qu'on comprendrait son génie. Pourtant, on peut se demander s'il n'aurait pas mieux valu filmer Picasso peindre un tableau en temps réel, ce qui aurait permis non seulement de représenter l'évolution complète de l'oeuvre mais aussi de saisir les pauses et les mouvements du peintre, afin de saisir de façon plus ample son travail. Cette idée, purement suggestive, aurait également brisé la monotonie d'un film qui se fait succéder un nombre exagéré de tableaux, un procédé qui n'évite en aucun cas la répétition et un sentiment de lassitude qui en découle. Clouzot réalise un exercice de style aussi impressionnant que frustrant, qui ne manque pas d'intérêt sur le principe mais qui montre ses limites sur la durée d'un long-métrage.\n",
      "\n",
      "Rating: 5.0/5\n",
      "Seul un immense réalisateur comme Henri-Georges Clouzot pouvait entreprendre de filmer le processus créatif et seul un artiste de l'envergure de Pablo Picasso pouvait accepter de participer à cette expérience unique. Aidé par le brillant technicien Claude Renoir, alors que le film commence en noir et blanc, Henri-Georges Clouzot capte chaque couleur au fur et à mesure que le peintre les fait apparaître à l'écran. On est fasciné sinon émerveillé au fur et à mesure que le film avance, que les toiles se suivent, pour finalement finir en apothéose où jamais le Troisième Art et le Septième Art n'ont été aussi magistralement concilié. \"Le Mystère Picasso\" est un vibrant hommage au processus créatif et bien sûr au génie de Picasso, mais aussi une preuve indéniable du talent précurseur d'Henri-Georges Clouzot. C'est un essai pleinement réussi, un véritable miracle cinématographique.\n",
      "\n",
      "Rating: 5.0/5\n",
      "Qu'est-ce que la création ? Opinion personnelle : une manière de construire quelque chose à partir de rien, soit en ajoutant, soit en retirant. Comment ajouter ou retirer quelque chose du néant ? Mystère, mystère... Il faudrait peut-être plus pour étayer mon point de vue : en ce sens, le documentaire de Henri-Georges Clouzot répond parfaitement à mes attentes. Son Mystère Picasso repose sur une idée magnifique : celle d'immortaliser le processus de création de l'un des peintres les plus géniaux du XXeme siècle, et ce via le cinéma. Picasso donne à voir ses méthodes de travail artistique par le biais de plaques transparentes, plaques à travers lesquelles la caméra de Clouzot capte lignes de forces, couleurs et autres touches picturales. Pour ce qui est de promener son regard dans le cadre, c'est une aubaine pour le spectateur : tout se passe à l'image, aussi bien au niveau de la forme qu'au niveau du contenu. Oeuvre riche rendant compte d'un travail colossal ( certaines séquences ont nécessité plus de 3000 plans ), mise en abîme d'une projection et d'une réalisation, Le Mystère Picasso est aussi radical que miraculeux. \" La beauté sera convulsive ou ne sera pas \", disaient les dadaïstes : c'est à la fois laconique et plein d'intelligence...\n",
      "\n",
      "Rating: 3.5/5\n",
      "Impressionnant, vraiment. De l'Art avec un grand A. Peut-on « mesurer » la valeur d'un tel film? La rencontre entre un maître du 7e art et l'un des plus grand génies de la peinture... La richesse du «Mystère Picasso» s'avère tout simplement inestimable. Sous nos yeux les toiles de Pablo Picasso prennent vie, et chaque nouvel ajout de couleur crée une nouvelle oeuvre, chaque couche de peinture supplémentaire vient bousculer l'ordre précédemment établi de la composition pour en constituer une nouvelle. Car le film repose sur une idée de génie de Clouzot : donner une nouvelle dimension à l'art pictural, le temps. On suit donc avec passion le processus créateur de l'artiste et on le voit tracer, hésiter, recouvrir, changer, tout recommencer ou simplement parfaire son travail... Et que dire des toiles qui nous sont présentées! Si toutes n'ont pas la même portée, inutile de préciser la beauté inouïe qui émane de chacune d'entre-elles. Un long métrage profondémment novateur et étonnant, parfait point de rencontre entre deux arts majeurs. Génial. [4/4] http://artetpoiesis.blogspot.fr/\n",
      "\n",
      "Rating: 3.0/5\n",
      "Filmer Pablo Picasso entrain de créer était une bonne idée (même si on est pas adepte du peintre, comme moi). Mais bon le résultat est moyen, pas assez didactique on le voit peindre mais on ne comprend pas ses oeuvres, les dessins (gribouillis) du début du film sont médiocres mais ensuite la qualité s'améliore nettement. Un peu déçu car je pensais en apprendre plus que cela en regardant ce documentaire.\n",
      "\n",
      "Rating: 4.0/5\n",
      "Pablo Picasso à l'oeuvre, comme vous ne l'avez jamais vu. Clouzot excelle grâce à ce très bon documentaire aspirant à percer \"Le Mystère Picasso\", montrant avec brio tout le mécanisme créateur d'un artiste. Le génie du réalisateur a ainsi été de proposer une véritable décomposition des derniers tableaux de l'artiste permettant de suivre la composition de ces quelques œuvres, au gré des mouvements de pinceaux, des coloriages, des collages, des insatisfactions du maître. Tout en sobriété (musiques et esthétiques laissant part au mysticisme) sublimations et passions semblent être les maîtres mots d'un documentaire constituant de fait un véritable hommage au peintre.\n",
      "\n",
      "Rating: 2.0/5\n",
      "Picasso peint. Clouzot le filme.\n",
      "\n",
      "\"On donnerait cher pour savoir ce qui s'est passé dans la tête de Rimbaud quand il écrivit \"Le Bateau ivre\", dans celle de Mozart quand il composa la \"Symphonie Jupiter\"\". Ces mots, prononcés en voix off par Clouzot, nous introduisent à un documentaire singulier. On y voit Picasso en train de peindre, le processus créatif en train de se réaliser.\n",
      "\n",
      "En 1955, Picasso et Clouzot sont chacun au sommet de leur art. À soixante-dix ans passés, le peintre espagnol n'a jamais été aussi productif, aussi célèbre, aussi polémique. De vingt ans son cadet, Clouzot vient de réaliser \"Le Salaire de la peur\" et \"Les Diaboliques\". La passion partagée de la corrida les rapproche. Clouzot s'essaie à la peinture. Il est fasciné par le génie et la créativité de Picasso.\n",
      "\n",
      "Clouzot utilise un procédé cinématographique particulièrement astucieux pour le mettre en scène. Il place la toile entre la caméra et le peintre. Picasso, invisible, utilise des pinceaux et des encres qui la traversent. La caméra filme le verso de la peinture en train de se faire, comme par magie. On voit ainsi Picasso réaliser une vingtaine d’œuvres. La réalisation des premières, à l'encre, est filmée en temps réel. Celle des secondes, à l'huile, plus longue, est filmée en plans fixes assemblés au montage. Entre les deux, un entracte nous révèle le dispositif : Picasso, torse nu, l’œil vif, qui peint et Clouzot qui le filme avec son chef opérateur Claude Renoir (le petit-fils d'Auguste et le neveu de Jean).\n",
      "\n",
      "La virtuosité de Picasso éclate. Quelques traits suffisent à esquisser une femme nue, un cheval, un torero. On essaie d'anticiper. On y réussit parfois ; on échoue souvent. Dans un cas comme dans l'autre, on est impressionnés.\n",
      "\n",
      "Alors d'où vient mon manque d'enthousiasme ? D'une part de la durée de film. Prévu au départ pour être un court-métrage d'une dizaine de minutes, il aurait gagné à conserver ce format. Malgré les tentatives de Clouzot d'en dramatiser l'action, les peintures se succèdent avec monotonie. D'autre part et surtout de mon manque de goût pur la peinture de Picasso. J'en reconnais volontiers la vitalité, l'énergie, la puissance. Mais je n'y ai jamais trouvé la sensualité, la délicatesse, la beauté susceptibles de me toucher.\n",
      "\n",
      "Rating: 2.0/5\n",
      "« Le mystère Picasso » de HG Clouzot, prix spécial du jury à Cannes en 1956, est qualifié de « documentaire » mais j’avoue être sorti frustré !\n",
      "Le film nous montre effectivement en gros plan l’exécution par le maître de plusieurs toiles et Pablo Picasso âgé de 75 ans de reprendre les traits, les couleurs … et de reprendre à nouveau et ce jusqu’à une quinzaine de fois pour un tableau où il dit même « ça va très mal … c’est très mauvais … j’arrache tout » et de reprendre une nouvelle toile !\n",
      "Ce qui m’ennuie dans ce film dit « documentaire » c’est l’absence de didactisme sur la technique du maître ! Il me semble manquer par exemple\n",
      "1)Le fait de savoir si les toiles présentées sont des créations ou la reprise d’anciens tableaux ?\n",
      "2)Le temps passé … car pour au moins un toile Picasso dit avoir passé 15 h devant la caméra … alors que dans le film les reprises paraissent très fluides, spontanées.\n",
      "3)Et surtout le pourquoi de la reprise des contours, des couleurs … pour essayer de comprendre pourquoi Picasso n’aime pas ce qu’il vient juste de faire et éprouve la nécessité de reprendre son travail.\n",
      "Clouzot s’est manifestement fait un grand plaisir intellectuel en essayant de combiner 2 domaines de l’art et il dit d’ailleurs en voix off dès le début du film « On donnerait cher pour savoir ce qui s'est passé dans la tête de Rimbaud quand il écrivit \"Le Bateau ivre\", ou dans celle de Mozart quand il composa la \"Symphonie Jupiter » ! Ici il s’attaque à la peinture ce qui est effectivement le plus facile, mais il le fait sans aucun prouesse cinématographique cad qu’on voit de façon un peu répétitive Picasso peindre une quinzaine de toiles avec heureusement une progression dans la richesse des compositions picturales … mais c’est tout même un peu répétitif avec un grand clin d’œil à la peinture et au cinéma, puisque le chef opérateur est Claude Renoir. La musique absente au début devient rapidement envahissante et parfois « emphatique ».\n",
      "Bref Clouzot n’a pas réussi à me transmettre le pourquoi du génie de Picasso auquel j’avoue ne pas trop accrocher (en dehors de son « Guernica ») et - comme dit plus haut - je suis sorti frustré car j’espérais apprendre voire comprendre le pourquoi du génie de Picasso !\n",
      "\n",
      "Rating: 2.5/5\n",
      "Film témoignage complètement hors normes. On pourrait imaginer François Truffaut filmant Miles Davis au travail, ou Jean Renoir filmant Rodin, sauf que je ne sais pas si ça c’est historiquement crédible. Le pape de l’art moderne filmé par un cinéaste emblématique. Et comme souvent quand deux montagnes se rencontrent, le résultat est extrêmement simple et sans  chichis. Picasso peint, Clouzot filme. On sent que le maître ne force pas son talent. Et je ne suis pas sûr que l’image en mouvement ça l'intéresse vraiment, (contrairement à son compatriote Dali). Reste son coup de crayon magistral, sa liberté créatrice et sa vision originale, identifiable au premier coup d’œil. Grâce à un trucage, on voit les tableaux se créer touts seuls à l’écran, comme par magie, en musique. Dommage que se soit sur le tard. Ce film aurait été énorme si quelqu’un avait eut l’idée de le réaliser à l’époque ou Picasso révolutionnait constamment sa pratique, quelques 20 ou 30 ans plus tôt. Là il se contente de gérer, on aurait tord de lui donner tort, il n’a plus rien à prouver. Debout torse nu tel un gladiateur qui sait, il se contente d’être là.\n",
      "\n",
      "Rating: 5.0/5\n",
      "Un chef d'oeuvre !!\n",
      "\n",
      "Rating: 5.0/5\n",
      "Je ne suis pas connaisseur en peinture pour deux sous , même si je sais apprécier une oeuvre quand elle me plaît ; la vision de ce film permet de suivre l' artiste et son oeuvre en pure création , on suit le tableau , on arrive a comprendre le cheminement de la plume .\r\n",
      "Je le conseille fortement aux amoureux de CULTURE.\n",
      "\n",
      "Rating: 4.0/5\n",
      "Film palpitant où comment un peintre et non des moindre nous livre son art orchestré par une musique sublime.Clouzot a de l'idée!\n",
      "\n",
      "Rating: 4.0/5\n",
      "C'est pour l'intèrêt de la peinture, qu'Henri-Georges Clouzot a pratiquè à diverses èpoques de sa vie, et l'amènera à rèaliser \"Le mystère Picasso\"! Ce documentaire passionnant, qui a reçut le prix spècial du jury du festival de Cannes en 1956, est à la fois une analyse approfondie de la carrière du peintre et une mèditation admirable sur l'ènigme de la crèation artistique! Le cinèaste met le peintre à l'èpreuve et chronomètre ses prouesses picturales, avec l'espoir secret de filmer l'èchec! Pour son thème exceptionnel, \"Le mystère Picasso\" constitue l'un des films les plus intèressants et les plus rèussis sur la peinture au cinèma puisqu'une oeuvre d'art se crèe sous nos propres yeux...\n",
      "\n",
      "Rating: 3.5/5\n",
      "J'ai aimé l'idée d'Henri-Georges Clouzot : filmer la création à l'état pur. Et pas n'importe quel peintre : Pablo Picasso.\n",
      "Déjà, c'est passionnant de voir comment le mec il peint, rien que ça. Mais le film ne se résume pas à ça, il montre comment tout d'un coup une idée vient, comment le tableau passe de quelque chose à un autre, puis un autre etc. C'est une expérience cinématographique vraiment intéressante et plutôt unique (ou presque du moins) dans son genre il me semble (en tout cas je n'ai rien vu de tel jusqu'à présent).\n",
      "\n",
      "Rating: 3.0/5\n",
      "On peut aller voir Le Mystère Picasso parce qu’on est attiré par le nom de Picasso ou par celui d’Henri-Georges Clouzot. C’est la première catégorie de spectateur qui sera le plus satisfaite par le film. En effet, tout le film montre diverses peintures s’exécuter sous les yeux du public. Sachant que le simple fait de montrer Picasso travailler risquerait d’être rapidement rébarbatif, Clouzot choisit d’offrir une forme originale et cinématographique à ce qu’il montre à l’écran. Ainsi, il fait travailler Picasso sur un papier spécial qui permet de filmer le tableau par derrière sans que l’on puisse voir le peintre : on a donc l’impression de voir le tableau se créer tout seul sous nos yeux. Visuellement, Clouzot s’amuse à jouer avec les différents ratios de cadre selon ceux des peintures : on peut donc passer du 4/3 au Cinemascope. De plus, le cinéaste n’applique pas le même traitement temporel à chaque tableau : si les premières œuvres sont dessinées en temps réel, plus le film avance plus les ellipses temporelles deviennent la règles (cela permet de montrer en 5 minutes un tableau se créer alors que cela a pris 5 heures dans la réalité). Clouzot décide aussi de jouer sur la bande sonore pour rythmer le tout : il choisit donc habillement les musiques en fonction de chaque tableau, en offrant à plusieurs reprises une ambiance hispanique pour rappeler les origines du peintre. Toutefois, pour relancer l’intérêt du spectateur, le réalisateur choisit d’introduire à plusieurs reprises des séquences \"making of\" où le peintre et le cinéaste font un point sur l’avancé du tournage. C’est sûrement pour cette forme originale que le film reçut le Prix spécial du jury au Festival de Cannes en 1956 lors d’une édition visiblement friande de documentaires puisque c’est Le Monde du silence de Jacques-Yves Cousteau et Louis Malle qui remporta la Palme d’or cette année-là. Toutefois, même s’il est intéressant de découvrir l’évolution de la création des tableaux, il est facilement possible de trouver le résultat trop long et un peu redondant si on n’est pas spécialement un grand amateur de peinture et se dire que sa forme idéal aurait été celle d’une série de courtes émissions télévisées si ce médium aurait été plus répandu à l’époque de sa réalisation. Le Mystère Picasso est donc un film qui s’adresse plus à des spectateurs adeptes de peinture qu’au grand public.\n",
      "\n"
     ]
    }
   ],
   "source": [
    "film_reviews = allocine_reviews[251]\n",
    "\n",
    "print(\"Reviews number : \" + str(len(film_reviews)))\n",
    "for rating, comment in film_reviews:\n",
    "    print(\"Rating: {}/5\".format(rating))\n",
    "    print(comment)\n",
    "    print()"
   ]
  },
  {
   "cell_type": "code",
   "execution_count": 506,
   "metadata": {},
   "outputs": [],
   "source": []
  },
  {
   "cell_type": "code",
   "execution_count": 550,
   "metadata": {},
   "outputs": [],
   "source": [
    "import pickle\n",
    "\n",
    "PICKLE_PATH = \"data/allocine.pickle\"\n",
    "\n",
    "with open(PICKLE_PATH, 'wb') as handle:\n",
    "    pickle.dump(allocine_reviews, handle, protocol=pickle.HIGHEST_PROTOCOL)\n",
    "\n",
    "#with open(PICKLE_PATH, 'rb') as handle:\n",
    "#    b = pickle.load(handle)"
   ]
  },
  {
   "cell_type": "code",
   "execution_count": 383,
   "metadata": {},
   "outputs": [
    {
     "name": "stdout",
     "output_type": "stream",
     "text": [
      "70\n",
      "UTF-8\n"
     ]
    },
    {
     "ename": "NameError",
     "evalue": "name 'p' is not defined",
     "output_type": "error",
     "traceback": [
      "\u001b[0;31m---------------------------------------------------------------------------\u001b[0m",
      "\u001b[0;31mNameError\u001b[0m                                 Traceback (most recent call last)",
      "\u001b[0;32m<ipython-input-383-cc93dc734da4>\u001b[0m in \u001b[0;36m<module>\u001b[0;34m\u001b[0m\n\u001b[1;32m     33\u001b[0m         \u001b[0;31m#print('--')\u001b[0m\u001b[0;34m\u001b[0m\u001b[0;34m\u001b[0m\u001b[0;34m\u001b[0m\u001b[0m\n\u001b[1;32m     34\u001b[0m \u001b[0;34m\u001b[0m\u001b[0m\n\u001b[0;32m---> 35\u001b[0;31m     \u001b[0mp\u001b[0m\u001b[0;34m\u001b[0m\u001b[0;34m\u001b[0m\u001b[0m\n\u001b[0m\u001b[1;32m     36\u001b[0m \u001b[0;34m\u001b[0m\u001b[0m\n\u001b[1;32m     37\u001b[0m \u001b[0;31m#print(pagination)\u001b[0m\u001b[0;34m\u001b[0m\u001b[0;34m\u001b[0m\u001b[0;34m\u001b[0m\u001b[0m\n",
      "\u001b[0;31mNameError\u001b[0m: name 'p' is not defined"
     ]
    }
   ],
   "source": [
    "import json \n",
    "\n",
    "pagination = soup.find(\"div\", {\"class\": \"pagination-item-holder\"})\n",
    "pages = pagination.find_all(\"span\")\n",
    "page_number = [int(page.text) for page in pages][-1]\n",
    "print(page_number)\n",
    "\n",
    "for page_index in range(page_number):\n",
    "    helpfuls = []\n",
    "    ratings = []\n",
    "    comments = []\n",
    "    \n",
    "    r = requests.get(url)\n",
    "    soup = BeautifulSoup(r.text, 'html.parser')\n",
    "    \n",
    "\n",
    "    for helpful in soup.find_all(\"div\", {\"class\": \"reviews-users-comment-useful js-useful-reviews\"}):\n",
    "        helpful_dic = json.loads(helpful.get(\"data-statistics\"))\n",
    "        helpful_delta = int(helpful_dic['helpfulCount']) - int(helpful_dic['unhelpfulCount'])\n",
    "        helpfuls.append(helpful_delta)\n",
    "\n",
    "\n",
    "    for rating in soup.find_all(\"span\", {\"class\": \"stareval-note\"}):\n",
    "        rating_str = str(rating.contents)[2:5]\n",
    "        rating_float = float(rating_str.replace(',', '.'))\n",
    "        ratings.append(rating_float)\n",
    "\n",
    "    for comment in soup.find_all(\"div\", attrs={\"class\": \"content-txt review-card-content\"}):\n",
    "        comment_text = format_comment(comment)\n",
    "        comments.append(comment_text)\n",
    "        #print(comment_text)\n",
    "        #print('--')\n",
    "\n",
    "    p\n",
    "\n",
    "#print(pagination)\n",
    "\n",
    "\n",
    "\n",
    "    #print(comment.contents)\n",
    "    \n",
    "    \n",
    "    \n",
    "    #spoilers = comment.findAll(\"span\", {\"class\": \"spoiler-content\"})\n",
    "    #print([s.text for s in spoilers])\n",
    "    #print(comment)\n",
    "    #text_str = str(comment.text)\n",
    "    #comments.append(text_str)\n",
    "    \n",
    "    \n",
    "    \n",
    "\"\"\"\n",
    "for i, (helpful, rating, comment) in enumerate(zip(helpfuls, ratings, comments)):    \n",
    "    print(\"Avis : \" + str(i+1))\n",
    "    print(\"Helpful: {}, Rating: {}\".format(helpful, rating))\n",
    "    print(comment)\n",
    "    print()   \n",
    "\"\"\"\n"
   ]
  },
  {
   "cell_type": "raw",
   "metadata": {},
   "source": []
  }
 ],
 "metadata": {
  "kernelspec": {
   "display_name": "Python 3",
   "language": "python",
   "name": "python3"
  },
  "language_info": {
   "codemirror_mode": {
    "name": "ipython",
    "version": 3
   },
   "file_extension": ".py",
   "mimetype": "text/x-python",
   "name": "python",
   "nbconvert_exporter": "python",
   "pygments_lexer": "ipython3",
   "version": "3.7.5"
  }
 },
 "nbformat": 4,
 "nbformat_minor": 4
}
