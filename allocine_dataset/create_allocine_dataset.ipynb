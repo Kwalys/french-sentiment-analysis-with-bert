{
 "cells": [
  {
   "cell_type": "code",
   "execution_count": 1,
   "metadata": {
    "scrolled": true
   },
   "outputs": [],
   "source": [
    "import os\n",
    "import random\n",
    "\n",
    "import matplotlib.pyplot as plt\n",
    "import pandas as pd\n",
    "import seaborn as sns\n",
    "\n",
    "%matplotlib inline\n",
    "\n",
    "# better display of review text in dataframes\n",
    "pd.set_option('display.max_colwidth', -1) \n",
    "\n",
    "RANDOM_SEED = 49\n",
    "random.seed(RANDOM_SEED) "
   ]
  },
  {
   "cell_type": "markdown",
   "metadata": {},
   "source": [
    "# Load pickle files"
   ]
  },
  {
   "cell_type": "code",
   "execution_count": 2,
   "metadata": {},
   "outputs": [
    {
     "name": "stdout",
     "output_type": "stream",
     "text": [
      "Reading file: pickle/allocine_15001_25000.pickle\n",
      "Reading file: pickle/allocine_8001_15000.pickle\n",
      "Reading file: pickle/allocine_1_1000.pickle\n",
      "Reading file: pickle/allocine_1001_5000.pickle\n",
      "Reading file: pickle/allocine_5001_8000.pickle\n",
      "\n",
      "Loaded 279591 reviews !\n"
     ]
    }
   ],
   "source": [
    "PICKLE_DIR = 'pickle'\n",
    "\n",
    "allocine_df = pd.DataFrame()\n",
    "\n",
    "#TODO: add series ?\n",
    "# -> 150001 and on !\n",
    "for filename in os.listdir(PICKLE_DIR):\n",
    "    if filename.endswith(\".pickle\"):        \n",
    "        path = os.path.join(PICKLE_DIR, filename)\n",
    "        print(\"Reading file: \" + path)\n",
    "        df = pd.read_pickle(path)\n",
    "        allocine_df = allocine_df.append(df, ignore_index=True)\n",
    "\n",
    "print()\n",
    "print(\"Loaded {} reviews !\".format(len(allocine_df)))"
   ]
  },
  {
   "cell_type": "markdown",
   "metadata": {},
   "source": [
    "# Explore data"
   ]
  },
  {
   "cell_type": "code",
   "execution_count": 3,
   "metadata": {},
   "outputs": [
    {
     "data": {
      "text/html": [
       "<div>\n",
       "<style scoped>\n",
       "    .dataframe tbody tr th:only-of-type {\n",
       "        vertical-align: middle;\n",
       "    }\n",
       "\n",
       "    .dataframe tbody tr th {\n",
       "        vertical-align: top;\n",
       "    }\n",
       "\n",
       "    .dataframe thead th {\n",
       "        text-align: right;\n",
       "    }\n",
       "</style>\n",
       "<table border=\"1\" class=\"dataframe\">\n",
       "  <thead>\n",
       "    <tr style=\"text-align: right;\">\n",
       "      <th></th>\n",
       "      <th>film-id</th>\n",
       "      <th>rating</th>\n",
       "      <th>review</th>\n",
       "      <th>date</th>\n",
       "      <th>helpful</th>\n",
       "      <th>unhelpful</th>\n",
       "    </tr>\n",
       "  </thead>\n",
       "  <tbody>\n",
       "    <tr>\n",
       "      <th>185909</th>\n",
       "      <td>1603</td>\n",
       "      <td>5.0</td>\n",
       "      <td>Le grand classique par excellence. Toutes les critiques au sujet du film se ressemble car l'effet est presque le même sur tout le monde . Un scénario qui évolue pas à pas mais tout de même de manière assez rapide pour un final d'anthologie. Le noir et blanc apporte par contre un véritable charme supplémentaire au film. Hitchcock avait vraiment réussi un grand coup avec film.</td>\n",
       "      <td>2013-05-09</td>\n",
       "      <td>0</td>\n",
       "      <td>0</td>\n",
       "    </tr>\n",
       "    <tr>\n",
       "      <th>51794</th>\n",
       "      <td>22779</td>\n",
       "      <td>5.0</td>\n",
       "      <td>Ce film tiré du roman de Stephen King est une merveille en soi. Le film repose sur un bloc particulier dans une prison : celui du couloir de la mort. L'histoire se passe dans les 1930, date à laquelle les exécutions étaient réalisés sous la chaise électrique. Tout va basculer dans la vie du chef de bloc incarné par Tom Hanks lorsqu'un prisonnier arrivera doté d'étranges pouvoirs... Il ne faut pas en dire trop car le suspense faut son pesant d'or et les larmes couleront durant le film devant tant de beauté et de tristesse.\\nBref : Nous sommes tous promis à la mort, tous sans exceptions. Mais pour certains parfois la ligne verte semble bien longue.</td>\n",
       "      <td>2019-04-09</td>\n",
       "      <td>3</td>\n",
       "      <td>0</td>\n",
       "    </tr>\n",
       "    <tr>\n",
       "      <th>134886</th>\n",
       "      <td>14928</td>\n",
       "      <td>2.5</td>\n",
       "      <td>Franchement déçu... Moi qui m'attendais à quelque chose de sensationnel, depuis le temps que j'en entendais parler! Le film peine vraiment à démarrer (le fait-il d'ailleurs?) et le rythme est sommes toutes très lent. Cette histoire vraie(ment fictive) est sinon interessante du point de vue du traitement légendaire des Coen : repères bousculés, refus des caricatures des bas étage, ton volontairement abrupt et surprenant... Par exemple, j'adore toutes les scènes de William H. Macy (les appels du gars pour les n° de plaques d'immatriculation, les interrogatoires de la policière). Pendant qu'on y est : superbe Frances McDormand qui ne demande qu'à retrouver tout les soirs son mari dessinateur de timbre (si g bien compris). Que dire de Steve Buscemi et peter Stormare (merveilleuse loque blonde  obnubilé par de séries TV médiocres et un peu avare de conversation) sinon qu'ils donnent un aperçu jouissif de leurs prochains faits d'armes dans le polar. La musique de Carter Burwell est transcendante, j'en convient mais je trouve que le film ne la mérite presque pas; et elle intervient beaucoup trop tôt dans le film (dès le géénrique quoi). Plus de point positifs que négatifs mais sa réputation me faisait espérer une ouevre au-delà de la simple évocation tragi-comique d'un fait divers dont les seuls éléments valables semble la violence et l'absurdité. C'est bien mais ça ne suffit pas.</td>\n",
       "      <td>2008-01-31</td>\n",
       "      <td>0</td>\n",
       "      <td>0</td>\n",
       "    </tr>\n",
       "    <tr>\n",
       "      <th>200255</th>\n",
       "      <td>2124</td>\n",
       "      <td>2.5</td>\n",
       "      <td>Après une présentation fétichiste des personnages que Jean-Pierre Jeunet empruntera pour son «Fabuleux destin d’Amélie Poulain», Alain Resnais entame «Mon oncle d’Amérique» (France, 1980). La présentation rapide et fugace des trois personnages principaux laisse place à l’approfondissement de leurs vies, aux fruits de leurs choix et à l’implacable déterminisme dont l’individu est victime. Resnais est l’un des plus grand formaliste français, pour le meilleur («Muriel ou le temps d’un retour», «Cœurs», «L’amour à mort») ou pour le moins bon en l’occurrence. La genèse du film explique peut-être son insipidité. L’initiative de l’œuvre ne vient pas de Resnais mais d’Henri Laborit, chercheur spécialisé sur les comportements humains. C’est ainsi que s’enfuit sous nos yeux la poésie de «Je t’aime, je t’aime», la politique d’«Hiroshima, mon amour» et même le délire de «Providence». En ponctuant son film d’interventions scientifiques, de commentaires explicatifs sur les rouages des modes de comportements humains, Resnais et Laborit assèchent le film de toute poésie, de toute grâce lyrique. La seule présence poétique se restreint à l’analogie triviale faite entre chacun des personnages et leurs idoles cinématographiques. Ainsi les personnages de Nicole Garcia, Gérard Depardieu et Roger Pierre sont respectivement représentés par Jean Marais, Jean Gabin et Danielle Darrieux. Le film ne demeure pas sans ironie. L’absurdité consciente du film à tendre vers l’exhaustivité des agissements humains provoque un certain charme ironique, bien étrange par ailleurs comme l’est toujours de rire du prosaïsme. C’est sur les ruines de l’homme, sur sa carcasse psychologique que Resnais s’arrête et «dévoile» l’inconscient. «Un être vivant est une mémoire qui agît» déclare Lamorit. La réminiscence bienheureuse du thème de la mémoire, et son singulier traitement, ne rend toutefois pas le film inintéressant en vue du cinéma de Resnais.</td>\n",
       "      <td>2008-03-06</td>\n",
       "      <td>4</td>\n",
       "      <td>1</td>\n",
       "    </tr>\n",
       "    <tr>\n",
       "      <th>275385</th>\n",
       "      <td>7570</td>\n",
       "      <td>5.0</td>\n",
       "      <td>Le second épisode de Burton est une vrai réussite!\\r\\nDanny De Vito est vraiment méconnaissable dans son rôle du pingouin qui est d'ailleurs très ressemblant au comics.\\r\\nPour Michael keaton rien à dire mis à part qu'il est toujours parfait dans son rôle de millionnaire à double identité.  \\r\\nMichelle Pfeiffer interprète Selina Kyle de façon très réussi.   \\r\\nAvec le succès du premier épisode on peut imaginer que Burton à eu plus de liberté pour mettre en scène un Gotham encore plus sombre et plus glauque que le précédent. Bref, a voir pour les fans de Tim Burton ainsi que les fan d'adapatation de comics au grand écran.</td>\n",
       "      <td>2009-02-18</td>\n",
       "      <td>0</td>\n",
       "      <td>0</td>\n",
       "    </tr>\n",
       "  </tbody>\n",
       "</table>\n",
       "</div>"
      ],
      "text/plain": [
       "        film-id  rating  \\\n",
       "185909  1603     5.0      \n",
       "51794   22779    5.0      \n",
       "134886  14928    2.5      \n",
       "200255  2124     2.5      \n",
       "275385  7570     5.0      \n",
       "\n",
       "                                                                                                                                                                                                                                                                                                                                                                                                                                                                                                                                                                                                                                                                                                                                                                                                                                                                                                                                                                                                                                                                                                                                                                                                                                                                                                                                                                                                                                                                                                                                                                                                                                                                                                                                                                                                                                                                                                                                                                                                                 review  \\\n",
       "185909  Le grand classique par excellence. Toutes les critiques au sujet du film se ressemble car l'effet est presque le même sur tout le monde . Un scénario qui évolue pas à pas mais tout de même de manière assez rapide pour un final d'anthologie. Le noir et blanc apporte par contre un véritable charme supplémentaire au film. Hitchcock avait vraiment réussi un grand coup avec film.                                                                                                                                                                                                                                                                                                                                                                                                                                                                                                                                                                                                                                                                                                                                                                                                                                                                                                                                                                                                                                                                                                                                                                                                                                                                                                                                                                                                                                                                                                                                                                                                                         \n",
       "51794   Ce film tiré du roman de Stephen King est une merveille en soi. Le film repose sur un bloc particulier dans une prison : celui du couloir de la mort. L'histoire se passe dans les 1930, date à laquelle les exécutions étaient réalisés sous la chaise électrique. Tout va basculer dans la vie du chef de bloc incarné par Tom Hanks lorsqu'un prisonnier arrivera doté d'étranges pouvoirs... Il ne faut pas en dire trop car le suspense faut son pesant d'or et les larmes couleront durant le film devant tant de beauté et de tristesse.\\nBref : Nous sommes tous promis à la mort, tous sans exceptions. Mais pour certains parfois la ligne verte semble bien longue.                                                                                                                                                                                                                                                                                                                                                                                                                                                                                                                                                                                                                                                                                                                                                                                                                                                                                                                                                                                                                                                                                                                                                                                                                                                                                                                                    \n",
       "134886  Franchement déçu... Moi qui m'attendais à quelque chose de sensationnel, depuis le temps que j'en entendais parler! Le film peine vraiment à démarrer (le fait-il d'ailleurs?) et le rythme est sommes toutes très lent. Cette histoire vraie(ment fictive) est sinon interessante du point de vue du traitement légendaire des Coen : repères bousculés, refus des caricatures des bas étage, ton volontairement abrupt et surprenant... Par exemple, j'adore toutes les scènes de William H. Macy (les appels du gars pour les n° de plaques d'immatriculation, les interrogatoires de la policière). Pendant qu'on y est : superbe Frances McDormand qui ne demande qu'à retrouver tout les soirs son mari dessinateur de timbre (si g bien compris). Que dire de Steve Buscemi et peter Stormare (merveilleuse loque blonde  obnubilé par de séries TV médiocres et un peu avare de conversation) sinon qu'ils donnent un aperçu jouissif de leurs prochains faits d'armes dans le polar. La musique de Carter Burwell est transcendante, j'en convient mais je trouve que le film ne la mérite presque pas; et elle intervient beaucoup trop tôt dans le film (dès le géénrique quoi). Plus de point positifs que négatifs mais sa réputation me faisait espérer une ouevre au-delà de la simple évocation tragi-comique d'un fait divers dont les seuls éléments valables semble la violence et l'absurdité. C'est bien mais ça ne suffit pas.                                                                                                                                                                                                                                                                                                                                                                                                                                                                                                                                                              \n",
       "200255  Après une présentation fétichiste des personnages que Jean-Pierre Jeunet empruntera pour son «Fabuleux destin d’Amélie Poulain», Alain Resnais entame «Mon oncle d’Amérique» (France, 1980). La présentation rapide et fugace des trois personnages principaux laisse place à l’approfondissement de leurs vies, aux fruits de leurs choix et à l’implacable déterminisme dont l’individu est victime. Resnais est l’un des plus grand formaliste français, pour le meilleur («Muriel ou le temps d’un retour», «Cœurs», «L’amour à mort») ou pour le moins bon en l’occurrence. La genèse du film explique peut-être son insipidité. L’initiative de l’œuvre ne vient pas de Resnais mais d’Henri Laborit, chercheur spécialisé sur les comportements humains. C’est ainsi que s’enfuit sous nos yeux la poésie de «Je t’aime, je t’aime», la politique d’«Hiroshima, mon amour» et même le délire de «Providence». En ponctuant son film d’interventions scientifiques, de commentaires explicatifs sur les rouages des modes de comportements humains, Resnais et Laborit assèchent le film de toute poésie, de toute grâce lyrique. La seule présence poétique se restreint à l’analogie triviale faite entre chacun des personnages et leurs idoles cinématographiques. Ainsi les personnages de Nicole Garcia, Gérard Depardieu et Roger Pierre sont respectivement représentés par Jean Marais, Jean Gabin et Danielle Darrieux. Le film ne demeure pas sans ironie. L’absurdité consciente du film à tendre vers l’exhaustivité des agissements humains provoque un certain charme ironique, bien étrange par ailleurs comme l’est toujours de rire du prosaïsme. C’est sur les ruines de l’homme, sur sa carcasse psychologique que Resnais s’arrête et «dévoile» l’inconscient. «Un être vivant est une mémoire qui agît» déclare Lamorit. La réminiscence bienheureuse du thème de la mémoire, et son singulier traitement, ne rend toutefois pas le film inintéressant en vue du cinéma de Resnais.   \n",
       "275385  Le second épisode de Burton est une vrai réussite!\\r\\nDanny De Vito est vraiment méconnaissable dans son rôle du pingouin qui est d'ailleurs très ressemblant au comics.\\r\\nPour Michael keaton rien à dire mis à part qu'il est toujours parfait dans son rôle de millionnaire à double identité.  \\r\\nMichelle Pfeiffer interprète Selina Kyle de façon très réussi.   \\r\\nAvec le succès du premier épisode on peut imaginer que Burton à eu plus de liberté pour mettre en scène un Gotham encore plus sombre et plus glauque que le précédent. Bref, a voir pour les fans de Tim Burton ainsi que les fan d'adapatation de comics au grand écran.                                                                                                                                                                                                                                                                                                                                                                                                                                                                                                                                                                                                                                                                                                                                                                                                                                                                                                                                                                                                                                                                                                                                                                                                                                                                                                                                                            \n",
       "\n",
       "              date  helpful  unhelpful  \n",
       "185909  2013-05-09  0        0          \n",
       "51794   2019-04-09  3        0          \n",
       "134886  2008-01-31  0        0          \n",
       "200255  2008-03-06  4        1          \n",
       "275385  2009-02-18  0        0          "
      ]
     },
     "execution_count": 3,
     "metadata": {},
     "output_type": "execute_result"
    }
   ],
   "source": [
    "allocine_df.sample(5, random_state=RANDOM_SEED)"
   ]
  },
  {
   "cell_type": "code",
   "execution_count": 4,
   "metadata": {},
   "outputs": [
    {
     "data": {
      "text/html": [
       "<div>\n",
       "<style scoped>\n",
       "    .dataframe tbody tr th:only-of-type {\n",
       "        vertical-align: middle;\n",
       "    }\n",
       "\n",
       "    .dataframe tbody tr th {\n",
       "        vertical-align: top;\n",
       "    }\n",
       "\n",
       "    .dataframe thead th {\n",
       "        text-align: right;\n",
       "    }\n",
       "</style>\n",
       "<table border=\"1\" class=\"dataframe\">\n",
       "  <thead>\n",
       "    <tr style=\"text-align: right;\">\n",
       "      <th></th>\n",
       "      <th>film-id</th>\n",
       "      <th>rating</th>\n",
       "      <th>review</th>\n",
       "      <th>date</th>\n",
       "      <th>helpful</th>\n",
       "      <th>unhelpful</th>\n",
       "    </tr>\n",
       "  </thead>\n",
       "  <tbody>\n",
       "    <tr>\n",
       "      <th>0</th>\n",
       "      <td>15002</td>\n",
       "      <td>4.0</td>\n",
       "      <td>Tueurs de vampires, les vampires nous appellent. Tels sont les mots prononcés par George Clooney lorsqu'il charge les suceurs de sang, vers la fin du film. Et oui, cette phrase en est l'exemple, Une nuit en enfer bénéficie de dialogues excellents et de punchlines devenues cultes. On y suivra la descente aux enfers de deux voleurs et de leurs trois otages qui, attaqués par des vampires, devront survivre coûte que coûte dans ce qui semblait être le paradis des motards. Le paradis, oui, mais le jour, pas la nuit. On passe le plus clair de son temps à sourire devant les dialogues Tarantiniesques et les situations made in Rodriguez , alors que le gore si cher à son réalisateur est omniprésent. Oui, c'est violent, même ultra-violent, mais le film est tellement barge et ne se prend tellement pas au sérieux que tout ces artifices ne sont pas gênants au bon déroulement, non, ils rentrent tout à fait dans l'ambiance générale et trouvent leur place parmi les vampires caricaturaux et les personnages très bien développés. Les deux compères utilisent les stéréotypes et autres lieux communs du genre fantastique et en particulier du vampirisme pour les modifier à leur sauce et ainsi donner leur propre version du mythe gothique. Pendant la première heure du métrage, on se dit de bout en bout que l'on va assister à une nouvelle course poursuite entre gangsters-policiers. Après la première heure,  un twist inattendu et surprenant vient bouleverser nos attentes et autres pensées. Et oui, car ils aiment jouer avec nos sentiments et faire passer leur oeuvre pour ce qu'elle n'est pas, c'est à dire un banal film d'action. Derrière le résultat final se trouve bien plus qu'une simple série b. Derrière le résultat final se trouve un film de qualité, personnel et qui jouit d'une aura unique, de par son côté série b évidemment volontaire et son jeu d'acteurs tout à fait honorable.</td>\n",
       "      <td>2014-07-19</td>\n",
       "      <td>17</td>\n",
       "      <td>3</td>\n",
       "    </tr>\n",
       "    <tr>\n",
       "      <th>1</th>\n",
       "      <td>15002</td>\n",
       "      <td>3.0</td>\n",
       "      <td>Un film déjanté en deux actes, dans lequel Quentin Tarantino et George Clooney forment un duo époustouflant. La première partie de la réalisation est excellente, tout bonnement hilarante, on y retrouve la patte de Tarantino avec des dialogues et des personnages complètement surréalistes. Cependant, le reste du film bascule ensuite, de manière soudaine, dans l’univers fantastique, farfelu, et surtout complètement différent de Rodriguez. On est alors nettement en dessous du début du film, et la réalisation perd sa crédibilité, on passe du road-movie au film horrifique ! Dommage !</td>\n",
       "      <td>2014-01-19</td>\n",
       "      <td>17</td>\n",
       "      <td>3</td>\n",
       "    </tr>\n",
       "  </tbody>\n",
       "</table>\n",
       "</div>"
      ],
      "text/plain": [
       "   film-id  rating  \\\n",
       "0  15002    4.0      \n",
       "1  15002    3.0      \n",
       "\n",
       "                                                                                                                                                                                                                                                                                                                                                                                                                                                                                                                                                                                                                                                                                                                                                                                                                                                                                                                                                                                                                                                                                                                                                                                                                                                                                                                                                                                                                                                                                                                                                                                                                                                                                                                                                                                                                                                                                                                                                         review  \\\n",
       "0  Tueurs de vampires, les vampires nous appellent. Tels sont les mots prononcés par George Clooney lorsqu'il charge les suceurs de sang, vers la fin du film. Et oui, cette phrase en est l'exemple, Une nuit en enfer bénéficie de dialogues excellents et de punchlines devenues cultes. On y suivra la descente aux enfers de deux voleurs et de leurs trois otages qui, attaqués par des vampires, devront survivre coûte que coûte dans ce qui semblait être le paradis des motards. Le paradis, oui, mais le jour, pas la nuit. On passe le plus clair de son temps à sourire devant les dialogues Tarantiniesques et les situations made in Rodriguez , alors que le gore si cher à son réalisateur est omniprésent. Oui, c'est violent, même ultra-violent, mais le film est tellement barge et ne se prend tellement pas au sérieux que tout ces artifices ne sont pas gênants au bon déroulement, non, ils rentrent tout à fait dans l'ambiance générale et trouvent leur place parmi les vampires caricaturaux et les personnages très bien développés. Les deux compères utilisent les stéréotypes et autres lieux communs du genre fantastique et en particulier du vampirisme pour les modifier à leur sauce et ainsi donner leur propre version du mythe gothique. Pendant la première heure du métrage, on se dit de bout en bout que l'on va assister à une nouvelle course poursuite entre gangsters-policiers. Après la première heure,  un twist inattendu et surprenant vient bouleverser nos attentes et autres pensées. Et oui, car ils aiment jouer avec nos sentiments et faire passer leur oeuvre pour ce qu'elle n'est pas, c'est à dire un banal film d'action. Derrière le résultat final se trouve bien plus qu'une simple série b. Derrière le résultat final se trouve un film de qualité, personnel et qui jouit d'une aura unique, de par son côté série b évidemment volontaire et son jeu d'acteurs tout à fait honorable.   \n",
       "1  Un film déjanté en deux actes, dans lequel Quentin Tarantino et George Clooney forment un duo époustouflant. La première partie de la réalisation est excellente, tout bonnement hilarante, on y retrouve la patte de Tarantino avec des dialogues et des personnages complètement surréalistes. Cependant, le reste du film bascule ensuite, de manière soudaine, dans l’univers fantastique, farfelu, et surtout complètement différent de Rodriguez. On est alors nettement en dessous du début du film, et la réalisation perd sa crédibilité, on passe du road-movie au film horrifique ! Dommage !                                                                                                                                                                                                                                                                                                                                                                                                                                                                                                                                                                                                                                                                                                                                                                                                                                                                                                                                                                                                                                                                                                                                                                                                                                                                                                                                                       \n",
       "\n",
       "         date  helpful  unhelpful  \n",
       "0  2014-07-19  17       3          \n",
       "1  2014-01-19  17       3          "
      ]
     },
     "execution_count": 4,
     "metadata": {},
     "output_type": "execute_result"
    }
   ],
   "source": [
    "allocine_df.head(2)"
   ]
  },
  {
   "cell_type": "markdown",
   "metadata": {},
   "source": [
    "Pickle files are not loaded in order.\n",
    "We sort the dataframe by film id for convenience"
   ]
  },
  {
   "cell_type": "code",
   "execution_count": 5,
   "metadata": {},
   "outputs": [],
   "source": [
    "# Pickle files are not loaded in order\n",
    "# We sort the dataframe by film id\n",
    "# TODO => don't do that. Sort path at the loading part so we don't have to do this\n",
    "allocine_df = allocine_df.sort_values(\"film-id\")\n",
    "allocine_df = allocine_df.reset_index(drop=True)"
   ]
  },
  {
   "cell_type": "code",
   "execution_count": 6,
   "metadata": {},
   "outputs": [
    {
     "data": {
      "text/html": [
       "<div>\n",
       "<style scoped>\n",
       "    .dataframe tbody tr th:only-of-type {\n",
       "        vertical-align: middle;\n",
       "    }\n",
       "\n",
       "    .dataframe tbody tr th {\n",
       "        vertical-align: top;\n",
       "    }\n",
       "\n",
       "    .dataframe thead th {\n",
       "        text-align: right;\n",
       "    }\n",
       "</style>\n",
       "<table border=\"1\" class=\"dataframe\">\n",
       "  <thead>\n",
       "    <tr style=\"text-align: right;\">\n",
       "      <th></th>\n",
       "      <th>film-id</th>\n",
       "      <th>rating</th>\n",
       "      <th>review</th>\n",
       "      <th>date</th>\n",
       "      <th>helpful</th>\n",
       "      <th>unhelpful</th>\n",
       "    </tr>\n",
       "  </thead>\n",
       "  <tbody>\n",
       "    <tr>\n",
       "      <th>0</th>\n",
       "      <td>1</td>\n",
       "      <td>5.0</td>\n",
       "      <td>Ah! Quel plaisir de revoir ce grand fou de Jack Nicholson dans un rôle crapuleux, lui qui avait terrorisé le monde entier dans sa prestation dans \"Shining\" de Stanley Kubrick! Le film est le remake d'un film des années 1940 mais il n'a pas à rougir devant l'original car le successeur le dépasse dans tous les domaines! Le scénario est très bien construit, il est très riche, très dense et attire les yeux du spectateur un peu voyeur devant les scènes sulfureuses et parfois très violentes réalisées de main de maître par Bob Rafelson. Le film respecte les codes du film noir dans la mesure où trois protagonistes sont liés à savoir le mari, la femme et son amant. Devant un tel spectacle, difficile de rester insensible devant cette débauche d'énergie délivrée par Jack Nicholson et Jessica Lange qui impressionnent par leurs talents d'acteurs. Le film relate un crime, celui de tuer le mari. Le long-métrage regorge de rebondissements et nous sommes exposés à suivre les opérations des deux amants qui veulent réaliser le crime parfait. Le réalisateur montre les policiers comme des traqueurs et des chercheurs de troubles pour inculper les deux amants. L'intérêt dans tout cela, c'est de montrer comment une femme soumise dans les années 1940 est malheureuse et cherche un homme qui saurait la sortir de son quotidien répétitif et ennuyeux à cause duquel elle éprouve une terrible névrose. D'un autre coté, voici l'exemple d'un opportuniste déjà emprisonné qui voit se profiler un cas intéressant: un mari qui passe son temps à se saouler et à donner des tapes sur les fesses de sa femme et qui possède un restaurant assez bien coté. Il endort sa méfiance en se faisant embaucher comme simple mécanicien pour mieux séduise sa femme lorsqu'il s'absente. Les rapports entre la femme et son amant sont complexes: ils se désirent, ils s'aiment mais ils ont peur de commettre le crime. Au final, un film qui se veut sulfureux, intelligent, immoral avant la dernière scène du film vraiment épouvantable.</td>\n",
       "      <td>2010-03-14</td>\n",
       "      <td>3</td>\n",
       "      <td>4</td>\n",
       "    </tr>\n",
       "    <tr>\n",
       "      <th>1</th>\n",
       "      <td>1</td>\n",
       "      <td>4.0</td>\n",
       "      <td>Jack Nicholson et Jessica Lange réinventent avec panache, brio, violence et sexualité le couple des amants diaboliques dans ce remake tout aussi culte que l'original.</td>\n",
       "      <td>2011-10-12</td>\n",
       "      <td>1</td>\n",
       "      <td>1</td>\n",
       "    </tr>\n",
       "  </tbody>\n",
       "</table>\n",
       "</div>"
      ],
      "text/plain": [
       "   film-id  rating  \\\n",
       "0  1        5.0      \n",
       "1  1        4.0      \n",
       "\n",
       "                                                                                                                                                                                                                                                                                                                                                                                                                                                                                                                                                                                                                                                                                                                                                                                                                                                                                                                                                                                                                                                                                                                                                                                                                                                                                                                                                                                                                                                                                                                                                                                                                                                                                                                                                                                                                                                                                                                                                                                                                                                                             review  \\\n",
       "0  Ah! Quel plaisir de revoir ce grand fou de Jack Nicholson dans un rôle crapuleux, lui qui avait terrorisé le monde entier dans sa prestation dans \"Shining\" de Stanley Kubrick! Le film est le remake d'un film des années 1940 mais il n'a pas à rougir devant l'original car le successeur le dépasse dans tous les domaines! Le scénario est très bien construit, il est très riche, très dense et attire les yeux du spectateur un peu voyeur devant les scènes sulfureuses et parfois très violentes réalisées de main de maître par Bob Rafelson. Le film respecte les codes du film noir dans la mesure où trois protagonistes sont liés à savoir le mari, la femme et son amant. Devant un tel spectacle, difficile de rester insensible devant cette débauche d'énergie délivrée par Jack Nicholson et Jessica Lange qui impressionnent par leurs talents d'acteurs. Le film relate un crime, celui de tuer le mari. Le long-métrage regorge de rebondissements et nous sommes exposés à suivre les opérations des deux amants qui veulent réaliser le crime parfait. Le réalisateur montre les policiers comme des traqueurs et des chercheurs de troubles pour inculper les deux amants. L'intérêt dans tout cela, c'est de montrer comment une femme soumise dans les années 1940 est malheureuse et cherche un homme qui saurait la sortir de son quotidien répétitif et ennuyeux à cause duquel elle éprouve une terrible névrose. D'un autre coté, voici l'exemple d'un opportuniste déjà emprisonné qui voit se profiler un cas intéressant: un mari qui passe son temps à se saouler et à donner des tapes sur les fesses de sa femme et qui possède un restaurant assez bien coté. Il endort sa méfiance en se faisant embaucher comme simple mécanicien pour mieux séduise sa femme lorsqu'il s'absente. Les rapports entre la femme et son amant sont complexes: ils se désirent, ils s'aiment mais ils ont peur de commettre le crime. Au final, un film qui se veut sulfureux, intelligent, immoral avant la dernière scène du film vraiment épouvantable.   \n",
       "1  Jack Nicholson et Jessica Lange réinventent avec panache, brio, violence et sexualité le couple des amants diaboliques dans ce remake tout aussi culte que l'original.                                                                                                                                                                                                                                                                                                                                                                                                                                                                                                                                                                                                                                                                                                                                                                                                                                                                                                                                                                                                                                                                                                                                                                                                                                                                                                                                                                                                                                                                                                                                                                                                                                                                                                                                                                                                                                                                                                             \n",
       "\n",
       "         date  helpful  unhelpful  \n",
       "0  2010-03-14  3        4          \n",
       "1  2011-10-12  1        1          "
      ]
     },
     "execution_count": 6,
     "metadata": {},
     "output_type": "execute_result"
    }
   ],
   "source": [
    "allocine_df.head(2)"
   ]
  },
  {
   "cell_type": "markdown",
   "metadata": {},
   "source": [
    "## Negative reviews"
   ]
  },
  {
   "cell_type": "markdown",
   "metadata": {},
   "source": [
    "We consider a review is negative when its associating rating is less than or equal to 2.0, which includes 4 categories: 0.5, 1.0, 1.5 and 2.0"
   ]
  },
  {
   "cell_type": "code",
   "execution_count": 7,
   "metadata": {
    "scrolled": true
   },
   "outputs": [
    {
     "data": {
      "text/html": [
       "<div>\n",
       "<style scoped>\n",
       "    .dataframe tbody tr th:only-of-type {\n",
       "        vertical-align: middle;\n",
       "    }\n",
       "\n",
       "    .dataframe tbody tr th {\n",
       "        vertical-align: top;\n",
       "    }\n",
       "\n",
       "    .dataframe thead th {\n",
       "        text-align: right;\n",
       "    }\n",
       "</style>\n",
       "<table border=\"1\" class=\"dataframe\">\n",
       "  <thead>\n",
       "    <tr style=\"text-align: right;\">\n",
       "      <th></th>\n",
       "      <th>film-id</th>\n",
       "      <th>rating</th>\n",
       "      <th>review</th>\n",
       "      <th>date</th>\n",
       "      <th>helpful</th>\n",
       "      <th>unhelpful</th>\n",
       "    </tr>\n",
       "  </thead>\n",
       "  <tbody>\n",
       "    <tr>\n",
       "      <th>113994</th>\n",
       "      <td>5453</td>\n",
       "      <td>2.0</td>\n",
       "      <td>Un film sombre qui nous entraîne laborieusement dans l'univers opaque des services secrets.</td>\n",
       "      <td>2011-08-08</td>\n",
       "      <td>0</td>\n",
       "      <td>2</td>\n",
       "    </tr>\n",
       "    <tr>\n",
       "      <th>171815</th>\n",
       "      <td>10555</td>\n",
       "      <td>2.0</td>\n",
       "      <td>Plus de 13 ans après sa sortie ce film d'action reste efficace et s'avère un bon divertissement. La version Director's cut disponible en dvd vaut vraiment le détour, pour bons nombres de scènes et dialogues gratuits et inutiles! Rires garantis. Un film au premier abord très américain, bourré d'honneur, paternaliste, mais où tout est assumé ; ce qui lui donne presque aujourd'hui les allures d'un joyeux nanard! malgré quelques incohérences de montage, le film a tout de même une réalisation très active et une superbe photographie qui aujourd'hui encore n'a pas pris une ride.</td>\n",
       "      <td>2011-03-12</td>\n",
       "      <td>0</td>\n",
       "      <td>0</td>\n",
       "    </tr>\n",
       "    <tr>\n",
       "      <th>116023</th>\n",
       "      <td>5757</td>\n",
       "      <td>2.0</td>\n",
       "      <td>Les acteurs sont très bons, mais le film manque cruellement de rythme.</td>\n",
       "      <td>2015-06-12</td>\n",
       "      <td>1</td>\n",
       "      <td>1</td>\n",
       "    </tr>\n",
       "  </tbody>\n",
       "</table>\n",
       "</div>"
      ],
      "text/plain": [
       "        film-id  rating  \\\n",
       "113994  5453     2.0      \n",
       "171815  10555    2.0      \n",
       "116023  5757     2.0      \n",
       "\n",
       "                                                                                                                                                                                                                                                                                                                                                                                                                                                                                                                                                                                                    review  \\\n",
       "113994  Un film sombre qui nous entraîne laborieusement dans l'univers opaque des services secrets.                                                                                                                                                                                                                                                                                                                                                                                                                                                                                                          \n",
       "171815  Plus de 13 ans après sa sortie ce film d'action reste efficace et s'avère un bon divertissement. La version Director's cut disponible en dvd vaut vraiment le détour, pour bons nombres de scènes et dialogues gratuits et inutiles! Rires garantis. Un film au premier abord très américain, bourré d'honneur, paternaliste, mais où tout est assumé ; ce qui lui donne presque aujourd'hui les allures d'un joyeux nanard! malgré quelques incohérences de montage, le film a tout de même une réalisation très active et une superbe photographie qui aujourd'hui encore n'a pas pris une ride.   \n",
       "116023  Les acteurs sont très bons, mais le film manque cruellement de rythme.                                                                                                                                                                                                                                                                                                                                                                                                                                                                                                                               \n",
       "\n",
       "              date  helpful  unhelpful  \n",
       "113994  2011-08-08  0        2          \n",
       "171815  2011-03-12  0        0          \n",
       "116023  2015-06-12  1        1          "
      ]
     },
     "execution_count": 7,
     "metadata": {},
     "output_type": "execute_result"
    }
   ],
   "source": [
    "negative_reviews = allocine_df[allocine_df['rating'] <= 2.0]\n",
    "negative_reviews.sample(3, random_state=RANDOM_SEED)"
   ]
  },
  {
   "cell_type": "markdown",
   "metadata": {},
   "source": [
    "## Positive reviews"
   ]
  },
  {
   "cell_type": "markdown",
   "metadata": {},
   "source": [
    "We consider a review is positive when its associating rating is greater than or equal to to 4.0, which includes 3 categories: 4.0, 4.5 and 5.0"
   ]
  },
  {
   "cell_type": "code",
   "execution_count": 8,
   "metadata": {},
   "outputs": [
    {
     "data": {
      "text/html": [
       "<div>\n",
       "<style scoped>\n",
       "    .dataframe tbody tr th:only-of-type {\n",
       "        vertical-align: middle;\n",
       "    }\n",
       "\n",
       "    .dataframe tbody tr th {\n",
       "        vertical-align: top;\n",
       "    }\n",
       "\n",
       "    .dataframe thead th {\n",
       "        text-align: right;\n",
       "    }\n",
       "</style>\n",
       "<table border=\"1\" class=\"dataframe\">\n",
       "  <thead>\n",
       "    <tr style=\"text-align: right;\">\n",
       "      <th></th>\n",
       "      <th>film-id</th>\n",
       "      <th>rating</th>\n",
       "      <th>review</th>\n",
       "      <th>date</th>\n",
       "      <th>helpful</th>\n",
       "      <th>unhelpful</th>\n",
       "    </tr>\n",
       "  </thead>\n",
       "  <tbody>\n",
       "    <tr>\n",
       "      <th>234762</th>\n",
       "      <td>17218</td>\n",
       "      <td>5.0</td>\n",
       "      <td>Dieu que je l'aime ce film! Un pur western-vampirique avec un James Woods fabuleux! Aux répliques tordantes et cultes et pas mal de scènes surprenantes (du moins pas mal de tension lors du premier visionnage) avec quelques séquences gores vraiment bien réalisés. Le tout accompagné d'une musique made in Carpenter à la sauce western proche d'un Ennio Morricone! Grandiose ce Vampires!</td>\n",
       "      <td>2007-11-08</td>\n",
       "      <td>0</td>\n",
       "      <td>0</td>\n",
       "    </tr>\n",
       "    <tr>\n",
       "      <th>104555</th>\n",
       "      <td>4966</td>\n",
       "      <td>4.5</td>\n",
       "      <td>L'un des premier film sur Batman, excellent : Alors qu’il n’était qu’un enfant, Bruce Wayne vécu la mort de ses parents en direct. Ils furent tués par un voleur. Après ces évènements, il décida de combattre le crime toute sa vie grâce à ses talents en arts martiaux et à sa fortune personnelle. Il crée un double de lui-même nommé Batman. Le jour, il est le playboy milliardaire Bruce Wayne et la nuit il est Batman, justicier impitoyable envers les criminels. La ville dans laquelle il vit, Gotham City, est en proie à la délinquance, au crime et est en partie contrôlée par la pègre de Carl Grissom. Mais le pire reste à venir : un nouvel ennemi, le Joker, est près à faire mourir de rire les citoyens de la ville... C'est vraiment un très bon film de Batman : les acteurs sont excellents, les combats également, les effets et la BO, sublime. Bref, un superbe hommage au justicier masqué !</td>\n",
       "      <td>2018-07-09</td>\n",
       "      <td>2</td>\n",
       "      <td>0</td>\n",
       "    </tr>\n",
       "    <tr>\n",
       "      <th>83546</th>\n",
       "      <td>3326</td>\n",
       "      <td>5.0</td>\n",
       "      <td>cet un de ses film qui a fais ma jeunesse le conte de fée par exellence drole est féerique les acteurs sont exellent</td>\n",
       "      <td>2010-01-13</td>\n",
       "      <td>1</td>\n",
       "      <td>1</td>\n",
       "    </tr>\n",
       "  </tbody>\n",
       "</table>\n",
       "</div>"
      ],
      "text/plain": [
       "        film-id  rating  \\\n",
       "234762  17218    5.0      \n",
       "104555  4966     4.5      \n",
       "83546   3326     5.0      \n",
       "\n",
       "                                                                                                                                                                                                                                                                                                                                                                                                                                                                                                                                                                                                                                                                                                                                                                                                                                                                                                                             review  \\\n",
       "234762  Dieu que je l'aime ce film! Un pur western-vampirique avec un James Woods fabuleux! Aux répliques tordantes et cultes et pas mal de scènes surprenantes (du moins pas mal de tension lors du premier visionnage) avec quelques séquences gores vraiment bien réalisés. Le tout accompagné d'une musique made in Carpenter à la sauce western proche d'un Ennio Morricone! Grandiose ce Vampires!                                                                                                                                                                                                                                                                                                                                                                                                                                                                                                                              \n",
       "104555  L'un des premier film sur Batman, excellent : Alors qu’il n’était qu’un enfant, Bruce Wayne vécu la mort de ses parents en direct. Ils furent tués par un voleur. Après ces évènements, il décida de combattre le crime toute sa vie grâce à ses talents en arts martiaux et à sa fortune personnelle. Il crée un double de lui-même nommé Batman. Le jour, il est le playboy milliardaire Bruce Wayne et la nuit il est Batman, justicier impitoyable envers les criminels. La ville dans laquelle il vit, Gotham City, est en proie à la délinquance, au crime et est en partie contrôlée par la pègre de Carl Grissom. Mais le pire reste à venir : un nouvel ennemi, le Joker, est près à faire mourir de rire les citoyens de la ville... C'est vraiment un très bon film de Batman : les acteurs sont excellents, les combats également, les effets et la BO, sublime. Bref, un superbe hommage au justicier masqué !   \n",
       "83546   cet un de ses film qui a fais ma jeunesse le conte de fée par exellence drole est féerique les acteurs sont exellent                                                                                                                                                                                                                                                                                                                                                                                                                                                                                                                                                                                                                                                                                                                                                                                                          \n",
       "\n",
       "              date  helpful  unhelpful  \n",
       "234762  2007-11-08  0        0          \n",
       "104555  2018-07-09  2        0          \n",
       "83546   2010-01-13  1        1          "
      ]
     },
     "execution_count": 8,
     "metadata": {},
     "output_type": "execute_result"
    }
   ],
   "source": [
    "positive_reviews = allocine_df[allocine_df['rating'] >= 4.0]\n",
    "positive_reviews.sample(3, random_state=RANDOM_SEED)"
   ]
  },
  {
   "cell_type": "code",
   "execution_count": null,
   "metadata": {},
   "outputs": [],
   "source": []
  },
  {
   "cell_type": "code",
   "execution_count": null,
   "metadata": {},
   "outputs": [],
   "source": []
  },
  {
   "cell_type": "markdown",
   "metadata": {},
   "source": [
    "# TODO"
   ]
  },
  {
   "cell_type": "code",
   "execution_count": 9,
   "metadata": {},
   "outputs": [],
   "source": [
    "sns.set(style=\"whitegrid\")"
   ]
  },
  {
   "cell_type": "markdown",
   "metadata": {},
   "source": [
    "## Rating counts"
   ]
  },
  {
   "cell_type": "code",
   "execution_count": 10,
   "metadata": {},
   "outputs": [
    {
     "data": {
      "image/png": "[encoded data removed]",
      "text/plain": [
       "<Figure size 576x360 with 1 Axes>"
      ]
     },
     "metadata": {},
     "output_type": "display_data"
    }
   ],
   "source": [
    "plt.figure(figsize=(8,5))\n",
    "\n",
    "goodbad_palette = sns.color_palette(\"RdYlGn_r\", n_colors=10)\n",
    "goodbad_palette.reverse()\n",
    "\n",
    "ax = sns.countplot(data=allocine_df, x='rating', palette=goodbad_palette)\n",
    "ax.set(xlabel='Rating', ylabel='Count')\n",
    "\n",
    "# Finalize the plot\n",
    "sns.despine(bottom=True)\n",
    "plt.tight_layout(h_pad=2)\n",
    "\n",
    "# Saving plot\n",
    "fig = ax.get_figure()\n",
    "fig.savefig('img/rating_counts.png', dpi=400)"
   ]
  },
  {
   "cell_type": "markdown",
   "metadata": {},
   "source": [
    "## Polarity"
   ]
  },
  {
   "cell_type": "code",
   "execution_count": 11,
   "metadata": {
    "scrolled": false
   },
   "outputs": [],
   "source": [
    "def find_polarity(row):\n",
    "    if row['rating'] <= 2.0:\n",
    "        return -1\n",
    "    elif row['rating'] >= 4.0:\n",
    "        return 1\n",
    "    else:\n",
    "        return 0\n",
    "\n",
    "allocine_df['polarity'] = allocine_df.apply(lambda row : find_polarity(row), axis=1) "
   ]
  },
  {
   "cell_type": "code",
   "execution_count": 12,
   "metadata": {},
   "outputs": [
    {
     "data": {
      "image/png": "[encoded data removed]",
      "text/plain": [
       "<Figure size 576x360 with 1 Axes>"
      ]
     },
     "metadata": {},
     "output_type": "display_data"
    }
   ],
   "source": [
    "plt.figure(figsize=(8,5))\n",
    "\n",
    "goodbad_palette = sns.color_palette(\"RdYlGn_r\", n_colors=3)\n",
    "goodbad_palette.reverse()\n",
    "\n",
    "ax = sns.countplot(data=allocine_df, x='polarity', palette=goodbad_palette)\n",
    "ax.set(xlabel='Polarity', ylabel='Count')\n",
    "ax.set_xticklabels(['Negative', 'Neutral', 'Positive'])\n",
    "\n",
    "# Frenquencies\n",
    "ncount = len(allocine_df)\n",
    "for p in ax.patches:\n",
    "    x=p.get_bbox().get_points()[:,0]\n",
    "    y=p.get_bbox().get_points()[1,1]\n",
    "    ax.annotate('{:.1f}%'.format(100.*y/ncount), (x.mean(), y), \n",
    "            ha='center', va='bottom') # set the alignment of the text\n",
    "\n",
    "# Finalize the plot\n",
    "sns.despine(bottom=True)\n",
    "plt.tight_layout(h_pad=2)\n",
    "\n",
    "# Saving plot\n",
    "fig = ax.get_figure()\n",
    "fig.savefig('img/polarity_frequency.png', dpi=400)"
   ]
  },
  {
   "cell_type": "markdown",
   "metadata": {},
   "source": [
    "## Reviews per year"
   ]
  },
  {
   "cell_type": "code",
   "execution_count": 13,
   "metadata": {},
   "outputs": [],
   "source": [
    "allocine_df['date'] = pd.to_datetime(allocine_df['date'])\n",
    "reviews_per_year = allocine_df.groupby(allocine_df['date'].dt.year).size()"
   ]
  },
  {
   "cell_type": "code",
   "execution_count": 14,
   "metadata": {
    "scrolled": true
   },
   "outputs": [
    {
     "data": {
      "image/png": "[encoded data removed]",
      "text/plain": [
       "<Figure size 576x360 with 1 Axes>"
      ]
     },
     "metadata": {},
     "output_type": "display_data"
    }
   ],
   "source": [
    "plt.figure(figsize=(8,5))\n",
    "ax = sns.barplot(reviews_per_year.index, reviews_per_year.values, palette=\"GnBu_d\")\n",
    "ax.set(xlabel='Year', ylabel='Count')\n",
    "\n",
    "# Finalize the plot\n",
    "sns.despine(bottom=True)\n",
    "plt.tight_layout(h_pad=2)\n",
    "\n",
    "# Saving plot\n",
    "fig = ax.get_figure()\n",
    "fig.savefig('img/reviews_per_year.png', dpi=400)"
   ]
  },
  {
   "cell_type": "markdown",
   "metadata": {},
   "source": [
    "## Reviews length"
   ]
  },
  {
   "cell_type": "code",
   "execution_count": 15,
   "metadata": {},
   "outputs": [
    {
     "data": {
      "image/png": "[encoded data removed]",
      "text/plain": [
       "<Figure size 720x360 with 1 Axes>"
      ]
     },
     "metadata": {},
     "output_type": "display_data"
    }
   ],
   "source": [
    "reviews_length = allocine_df['review'].str.len()\n",
    "\n",
    "plt.figure(figsize=(10,5))\n",
    "ax = sns.distplot(reviews_length, bins=150, kde=False, hist_kws=dict(alpha=0.8))\n",
    "ax.set(xlabel='Review Length')\n",
    "\n",
    "# Finalize the plot\n",
    "sns.despine(bottom=True)\n",
    "plt.tight_layout(h_pad=2)\n",
    "\n",
    "# Saving plot\n",
    "fig = ax.get_figure()\n",
    "fig.savefig('img/reviews_length.png', dpi=400)"
   ]
  },
  {
   "cell_type": "code",
   "execution_count": 16,
   "metadata": {},
   "outputs": [
    {
     "name": "stdout",
     "output_type": "stream",
     "text": [
      "1292 reviews with LEN > 4000 (0.46 % of total data)\n"
     ]
    }
   ],
   "source": [
    "THRESHOLD = 4000\n",
    "short_reviews = allocine_df[allocine_df['review'].str.len() <= THRESHOLD]\n",
    "long_reviews =  allocine_df[allocine_df['review'].str.len() > THRESHOLD]\n",
    "\n",
    "print(\"{} reviews with LEN > {} ({:.2f} % of total data)\".format(\n",
    "    len(long_reviews),\n",
    "    THRESHOLD,\n",
    "    100 * len(long_reviews) / len(allocine_df)\n",
    "))"
   ]
  },
  {
   "cell_type": "markdown",
   "metadata": {},
   "source": [
    "Example of a long review"
   ]
  },
  {
   "cell_type": "code",
   "execution_count": 17,
   "metadata": {},
   "outputs": [
    {
     "data": {
      "text/html": [
       "<div>\n",
       "<style scoped>\n",
       "    .dataframe tbody tr th:only-of-type {\n",
       "        vertical-align: middle;\n",
       "    }\n",
       "\n",
       "    .dataframe tbody tr th {\n",
       "        vertical-align: top;\n",
       "    }\n",
       "\n",
       "    .dataframe thead th {\n",
       "        text-align: right;\n",
       "    }\n",
       "</style>\n",
       "<table border=\"1\" class=\"dataframe\">\n",
       "  <thead>\n",
       "    <tr style=\"text-align: right;\">\n",
       "      <th></th>\n",
       "      <th>film-id</th>\n",
       "      <th>rating</th>\n",
       "      <th>review</th>\n",
       "      <th>date</th>\n",
       "      <th>helpful</th>\n",
       "      <th>unhelpful</th>\n",
       "      <th>polarity</th>\n",
       "    </tr>\n",
       "  </thead>\n",
       "  <tbody>\n",
       "    <tr>\n",
       "      <th>118</th>\n",
       "      <td>8</td>\n",
       "      <td>2.0</td>\n",
       "      <td>Je le dis à chaque fois mais ça aide à commencer une critique de ce genre : un succès, de n’importe quel genre cinématographique qu’il soit, se voit aussitôt complété d’une suite par les producteurs. Et avec le succès de Halloween, la Nuit des Masques, aucune raison que cela soit évité ! Voici donc Halloween 2, sorti trois ans après l’original et qui en reprend le casting (Jamie Lee Curtis, Donald Pleasence…) mais également le tandem John Carpenter/Debrah Hill au scénario. Mais cela s’arrête là car la suite, en ayant un autre réalisateur en la présence de Rick Rosenthal (qui dirige ici son premier long-métrage), ne parviendra jamais à égaler le travail accompli par Carpenter.\\n\\nPremière erreur à mon sens : le fait que l’histoire du film soit un prolongement direct de celle du premier Halloween. Que l’action se déroule pendant la même nuit, reprenant juste au moment où le personnage de Laurie se fait emmener à l’hôpital après avoir fait face à Myers. Rien que ce détail scénaristique ruine toute l’iconisation du tueur effectuée précédemment. En effet, au lieu d’être le croquemitaine à l’état pur, le revoir aussi rapidement tuer des gens comme une machine sans âme lui fait perdre tout son aura, le réduisant à Jason Voorhees et consorts. Pour être plus précis, Myers devient avec cette suite un psychopathe de film d’horreur lambda, ni plus ni moins ! Et le script va jusqu’à lui donner des « raisons » à ses gestes en lui offrant une simili affaire de famille avec l’héroïne et des origines mystico-diaboliques. Non seulement cela n’apporte rien mais surtout cela casse l’image que l’on avait de Myers, à savoir un être imprévisible et terrifiant. Malheureusement, la baisse de qualité ne s’arrête pas là !\\n\\nLa mise en scène de Rick Rosenthal est en tout point inférieure à celle de John Carpenter, pour ne pas dire plate. Alors que ce dernier savait placer sa caméra et faire peur au bon moment, son remplaçant réalise son long-métrage comme n’importe quel amateur : filmer les scènes de manière basique sans le moindre effet de style et forçant l’effroi avec des jump scares pas vraiment efficaces (traduits par une musique soudaine, reprise bêtement du premier volet). Halloween, la Nuit des Masques réussissait à surprendre le spectateur, il se retrouve avec une suite prévisible au plus haut point qui ne fait qu’enchaîner les séquences de meurtres ponctuées d’un jeu du chat et de la souris pour le final. Même si les effets spéciaux sont d’assez bonne facture et les comédiens plutôt honorables pour ce genre de production, Halloween 2 fait descendre la franchise au rang de films d’horreur tout ce qu’il y a de plus banal.\\n\\nIl suffit de voir le scénario pour s’en rendre compte. Sur le papier, cette suite possède la même structure que son aîné : ne pas avoir de personnages spécialement travaillés pour que le public puisse se reconnaître en eux et se préoccuper de leur sort, étant montrés comme des gens ordinaires. Pour le premier opus, cela permettait de se plonger inlassablement dans l’histoire. Mais ici, c’est tout le contraire, et ce à cause d’un simple détail d’écriture : le script propose bien trop de personnages. Tant de protagonistes, qu’ils soient anciens ou nouveaux, qui apparaissent/disparaissent sans crier gare de l’écran. Comment est-il possible de s’attacher à eux dans la mesure où vous ne vous rappelez pas de leur nom ou même de leur visage ? Difficile de s’apitoyer sur le cauchemar qu’ils vivent et donc de s’intéresser à une histoire bateau au possible. John Carpenter et Debrah Hill ont beau être les scénaristes de cette suite avec laquelle ils comptaient mettre fin à l’histoire Michael Myers/Laurie Strode, ils ont subi la pression des producteurs pour que leur script soit fin prêt pour le tournage. Un travail donc fait à la va-vite qui témoigne d’un sentiment de désintéressement total de ses géniteurs et qui ne cache nullement l’aspect commercial de ce projet.\\n\\nPour résumer, Halloween 2 est une sorte de copie du premier film, la mise en scène et le souci d’écriture en moins. De ce fait, nous obtenons un divertissement horrifique certes plaisant à regarder car sachant passer le temps grâce à ses quelques atouts techniques (dus à un budget plus conséquent), mais qui fait peine à voir quand on le compare à son prédécesseur. Mais bon, quand on voit la façon dont se termine cette suite, il n’y a aucune raison pour que les producteurs continuent d’user le filon jusqu’à la fin. Si ?</td>\n",
       "      <td>2015-11-03</td>\n",
       "      <td>0</td>\n",
       "      <td>0</td>\n",
       "      <td>-1</td>\n",
       "    </tr>\n",
       "  </tbody>\n",
       "</table>\n",
       "</div>"
      ],
      "text/plain": [
       "     film-id  rating  \\\n",
       "118  8        2.0      \n",
       "\n",
       "                                                                                                                                                                                                                                                                                                                                                                                                                                                                                                                                                                                                                                                                                                                                                                                                                                                                                                                                                                                                                                                                                                                                                                                                                                                                                                                                                                                                                                                                                                                                                                                                                                                                                                                                                                                                                                                                                                                                                                                                                                                                                                                                                                                                                                                                                                                                                                                                                                                                                                                                                                                                                                                                                                                                                                                                                                                                                                                                                                                                                                                                                                                                                                                                                                                                                                                                                                                                                                                                                                                                                                                                                                                                                                                                                                                                                                                                                                                                                                                                                                                                                                                                                                                                                                                                                                                                                                                                                                                                                                                                                                                                                                        review  \\\n",
       "118  Je le dis à chaque fois mais ça aide à commencer une critique de ce genre : un succès, de n’importe quel genre cinématographique qu’il soit, se voit aussitôt complété d’une suite par les producteurs. Et avec le succès de Halloween, la Nuit des Masques, aucune raison que cela soit évité ! Voici donc Halloween 2, sorti trois ans après l’original et qui en reprend le casting (Jamie Lee Curtis, Donald Pleasence…) mais également le tandem John Carpenter/Debrah Hill au scénario. Mais cela s’arrête là car la suite, en ayant un autre réalisateur en la présence de Rick Rosenthal (qui dirige ici son premier long-métrage), ne parviendra jamais à égaler le travail accompli par Carpenter.\\n\\nPremière erreur à mon sens : le fait que l’histoire du film soit un prolongement direct de celle du premier Halloween. Que l’action se déroule pendant la même nuit, reprenant juste au moment où le personnage de Laurie se fait emmener à l’hôpital après avoir fait face à Myers. Rien que ce détail scénaristique ruine toute l’iconisation du tueur effectuée précédemment. En effet, au lieu d’être le croquemitaine à l’état pur, le revoir aussi rapidement tuer des gens comme une machine sans âme lui fait perdre tout son aura, le réduisant à Jason Voorhees et consorts. Pour être plus précis, Myers devient avec cette suite un psychopathe de film d’horreur lambda, ni plus ni moins ! Et le script va jusqu’à lui donner des « raisons » à ses gestes en lui offrant une simili affaire de famille avec l’héroïne et des origines mystico-diaboliques. Non seulement cela n’apporte rien mais surtout cela casse l’image que l’on avait de Myers, à savoir un être imprévisible et terrifiant. Malheureusement, la baisse de qualité ne s’arrête pas là !\\n\\nLa mise en scène de Rick Rosenthal est en tout point inférieure à celle de John Carpenter, pour ne pas dire plate. Alors que ce dernier savait placer sa caméra et faire peur au bon moment, son remplaçant réalise son long-métrage comme n’importe quel amateur : filmer les scènes de manière basique sans le moindre effet de style et forçant l’effroi avec des jump scares pas vraiment efficaces (traduits par une musique soudaine, reprise bêtement du premier volet). Halloween, la Nuit des Masques réussissait à surprendre le spectateur, il se retrouve avec une suite prévisible au plus haut point qui ne fait qu’enchaîner les séquences de meurtres ponctuées d’un jeu du chat et de la souris pour le final. Même si les effets spéciaux sont d’assez bonne facture et les comédiens plutôt honorables pour ce genre de production, Halloween 2 fait descendre la franchise au rang de films d’horreur tout ce qu’il y a de plus banal.\\n\\nIl suffit de voir le scénario pour s’en rendre compte. Sur le papier, cette suite possède la même structure que son aîné : ne pas avoir de personnages spécialement travaillés pour que le public puisse se reconnaître en eux et se préoccuper de leur sort, étant montrés comme des gens ordinaires. Pour le premier opus, cela permettait de se plonger inlassablement dans l’histoire. Mais ici, c’est tout le contraire, et ce à cause d’un simple détail d’écriture : le script propose bien trop de personnages. Tant de protagonistes, qu’ils soient anciens ou nouveaux, qui apparaissent/disparaissent sans crier gare de l’écran. Comment est-il possible de s’attacher à eux dans la mesure où vous ne vous rappelez pas de leur nom ou même de leur visage ? Difficile de s’apitoyer sur le cauchemar qu’ils vivent et donc de s’intéresser à une histoire bateau au possible. John Carpenter et Debrah Hill ont beau être les scénaristes de cette suite avec laquelle ils comptaient mettre fin à l’histoire Michael Myers/Laurie Strode, ils ont subi la pression des producteurs pour que leur script soit fin prêt pour le tournage. Un travail donc fait à la va-vite qui témoigne d’un sentiment de désintéressement total de ses géniteurs et qui ne cache nullement l’aspect commercial de ce projet.\\n\\nPour résumer, Halloween 2 est une sorte de copie du premier film, la mise en scène et le souci d’écriture en moins. De ce fait, nous obtenons un divertissement horrifique certes plaisant à regarder car sachant passer le temps grâce à ses quelques atouts techniques (dus à un budget plus conséquent), mais qui fait peine à voir quand on le compare à son prédécesseur. Mais bon, quand on voit la façon dont se termine cette suite, il n’y a aucune raison pour que les producteurs continuent d’user le filon jusqu’à la fin. Si ?   \n",
       "\n",
       "          date  helpful  unhelpful  polarity  \n",
       "118 2015-11-03  0        0         -1         "
      ]
     },
     "execution_count": 17,
     "metadata": {},
     "output_type": "execute_result"
    }
   ],
   "source": [
    "long_reviews.head(1)"
   ]
  },
  {
   "cell_type": "code",
   "execution_count": 18,
   "metadata": {},
   "outputs": [
    {
     "data": {
      "image/png": "[encoded data removed]",
      "text/plain": [
       "<Figure size 576x360 with 1 Axes>"
      ]
     },
     "metadata": {},
     "output_type": "display_data"
    }
   ],
   "source": [
    "short_reviews_length = short_reviews['review'].str.len()\n",
    "\n",
    "plt.figure(figsize=(8,5))\n",
    "ax = sns.distplot(short_reviews_length, bins=100, kde=False, hist_kws=dict(alpha=0.8))\n",
    "ax.set(xlabel='Review Length')\n",
    "\n",
    "# Finalize the plot\n",
    "sns.despine(bottom=True)\n",
    "plt.tight_layout(h_pad=2)\n",
    "\n",
    "# Saving plot\n",
    "fig = ax.get_figure()\n",
    "fig.savefig('img/short_reviews_length.png', dpi=400)"
   ]
  },
  {
   "cell_type": "code",
   "execution_count": null,
   "metadata": {},
   "outputs": [],
   "source": [
    "# TODO: other analysis ?\n",
    "# Histograms of reviews lengths for each rating (negative reviews are shorter ?)"
   ]
  },
  {
   "cell_type": "code",
   "execution_count": null,
   "metadata": {
    "scrolled": true
   },
   "outputs": [],
   "source": [
    "# Num reviews per film ? => why are we limiting to 30 reviews per film ?"
   ]
  },
  {
   "cell_type": "code",
   "execution_count": null,
   "metadata": {},
   "outputs": [],
   "source": []
  },
  {
   "cell_type": "code",
   "execution_count": null,
   "metadata": {},
   "outputs": [],
   "source": []
  },
  {
   "cell_type": "markdown",
   "metadata": {
    "scrolled": false
   },
   "source": [
    "# Build dataset"
   ]
  },
  {
   "cell_type": "code",
   "execution_count": 19,
   "metadata": {},
   "outputs": [
    {
     "name": "stdout",
     "output_type": "stream",
     "text": [
      "Length: 279591\n"
     ]
    }
   ],
   "source": [
    "dataset_df = allocine_df.copy()\n",
    "initial_len = len(dataset_df)\n",
    "print(\"Length: {}\".format(initial_len))"
   ]
  },
  {
   "cell_type": "markdown",
   "metadata": {},
   "source": [
    "## Remove data we don't need "
   ]
  },
  {
   "cell_type": "code",
   "execution_count": 20,
   "metadata": {},
   "outputs": [],
   "source": [
    "def loss_percentage(df, previous_length):\n",
    "    new_length = len(df)\n",
    "    percentage = 100*(1-(new_length/previous_length))    \n",
    "    return new_length, percentage  "
   ]
  },
  {
   "cell_type": "code",
   "execution_count": 21,
   "metadata": {
    "scrolled": true
   },
   "outputs": [
    {
     "name": "stdout",
     "output_type": "stream",
     "text": [
      "Length: 213151 (-23.8 %)\n",
      "Length: 212136 (-0.5 %)\n",
      "Length: 53468 (-74.8 %)\n",
      "Total loss: (-80.9 %)\n"
     ]
    }
   ],
   "source": [
    "# 1. Drop columns we don't need\n",
    "dataset_df = dataset_df.drop(columns=['rating', 'date', 'helpful', 'unhelpful'])\n",
    "\n",
    "# 2. Drop rows we don't need (neutral polarity)\n",
    "dataset_df = dataset_df[dataset_df['polarity'] != 0]\n",
    "length, percentage = loss_percentage(dataset_df, initial_len)\n",
    "print(\"Length: {} (-{:.1f} %)\".format(length, percentage))\n",
    "\n",
    "# 3. Remove long reviews\n",
    "LENGTH_THRESH = 4000\n",
    "dataset_df = dataset_df[dataset_df['review'].str.len() <= LENGTH_THRESH]\n",
    "length, percentage = loss_percentage(dataset_df, length)\n",
    "print(\"Length: {} (-{:.1f} %)\".format(length, percentage))\n",
    "\n",
    "# 4. Limit number of reviews per film\n",
    "MAX_REVIEWS_PER_FILM = 30\n",
    "grouped = dataset_df.groupby('film-id')\n",
    "for ids in grouped.groups.values():\n",
    "    num_reviews = len(ids)    \n",
    "    if num_reviews > MAX_REVIEWS_PER_FILM:\n",
    "        sampling_size = num_reviews - MAX_REVIEWS_PER_FILM\n",
    "        ids_to_drop = random.sample(list(ids), sampling_size)\n",
    "        dataset_df = dataset_df.drop(ids_to_drop)\n",
    "        \n",
    "length, percentage = loss_percentage(dataset_df, length)\n",
    "print(\"Length: {} (-{:.1f} %)\".format(length, percentage))\n",
    "\n",
    "# Total loss\n",
    "length, percentage = loss_percentage(dataset_df, initial_len)\n",
    "print(\"Total loss: (-{:.1f} %)\".format(percentage))"
   ]
  },
  {
   "cell_type": "code",
   "execution_count": 22,
   "metadata": {},
   "outputs": [
    {
     "data": {
      "text/plain": [
       "polarity\n",
       "-1    13599\n",
       " 1    39869\n",
       "dtype: int64"
      ]
     },
     "execution_count": 22,
     "metadata": {},
     "output_type": "execute_result"
    }
   ],
   "source": [
    "dataset_df.groupby('polarity').size()"
   ]
  },
  {
   "cell_type": "markdown",
   "metadata": {},
   "source": [
    "## Clean review text"
   ]
  },
  {
   "cell_type": "code",
   "execution_count": 23,
   "metadata": {},
   "outputs": [],
   "source": [
    "import re\n",
    "\n",
    "def clean_text(text):\n",
    "    text = text.replace('\\xa0', ' ')\n",
    "    text = text.replace('\\x92', \"'\")\n",
    "    \n",
    "    # Substituting multiple spaces with single space\n",
    "    # Also remove '\\n' and '\\r' occurences\n",
    "    text= re.sub(r'\\s+', ' ', text, flags=re.I)\n",
    "    \n",
    "    return text\n",
    " \n",
    "dataset_df['review'] = dataset_df['review'].apply(clean_text)"
   ]
  },
  {
   "cell_type": "code",
   "execution_count": 24,
   "metadata": {},
   "outputs": [
    {
     "data": {
      "text/html": [
       "<div>\n",
       "<style scoped>\n",
       "    .dataframe tbody tr th:only-of-type {\n",
       "        vertical-align: middle;\n",
       "    }\n",
       "\n",
       "    .dataframe tbody tr th {\n",
       "        vertical-align: top;\n",
       "    }\n",
       "\n",
       "    .dataframe thead th {\n",
       "        text-align: right;\n",
       "    }\n",
       "</style>\n",
       "<table border=\"1\" class=\"dataframe\">\n",
       "  <thead>\n",
       "    <tr style=\"text-align: right;\">\n",
       "      <th></th>\n",
       "      <th>film-id</th>\n",
       "      <th>review</th>\n",
       "      <th>polarity</th>\n",
       "    </tr>\n",
       "  </thead>\n",
       "  <tbody>\n",
       "    <tr>\n",
       "      <th>139897</th>\n",
       "      <td>7570</td>\n",
       "      <td>Ce deuxième opus burtonien des aventures de l'homme chauve-souris est plus réussi encore que la version de 1989. La raison ? L'ambiance gothico-violente de la ville de Gotham City qui fait mouche, et surtout les méchants, absolument géniaux. Le Pingouin, alias Danny DeVito est époustouflant dans son rôle de monstre des égouts qui nécessitait deux heures de maquillage chaque jour ; Catwoman alias Michelle Pfeiffer est plus sexy que jamais dans sa tenue de cuir noir sortie tout droit d'un club SM ; Christopher Walken alias Max Shreck est délicieux dans la peau d'un entrepreneur véreux ne reculant devant rien pour parvenir à ses fins. Un délice.</td>\n",
       "      <td>1</td>\n",
       "    </tr>\n",
       "    <tr>\n",
       "      <th>203400</th>\n",
       "      <td>13247</td>\n",
       "      <td>Le début de la fin pour Kevin Costner habitué jusque là aux succès. Waterworld frise le waternanarland tout au long du film avec un scénario très limité et pompé en partie sur du Mad max sans la qualité technique. Du mauvais blockbuster pour engrenger au box office et rien de plus.</td>\n",
       "      <td>-1</td>\n",
       "    </tr>\n",
       "    <tr>\n",
       "      <th>21916</th>\n",
       "      <td>379</td>\n",
       "      <td>Bizarre ce western de John Sturges, ce n'est pas forcément nul ou lent (au contraire) mais ce n'est pas forcément captivant, il n'y a pas vraiment de prise de folie, que ce soit au niveau du scénario ou de la mise en scène, c'est très classique. Et c'est même un peu trop prévisible. De plus on reste vraiment sur notre faim, notamment à propos du duel Eastwood/Duvall. Il n'y a pas vraiment d'émotions qui se dégagent du film, c'est assez froid. Dommage car Clint Eastwood est parfait dans un rôle qu'il connait bien. Néanmoins, le réalisateur ne prend pas partis, et ne fait l'éloge ni des Américains, ni des Mexicains. Bref rien de vraiment honteux, on a vu pire, mais rien de mémorable et une déception vu le nom du réalisateur (à qui on doit les sept mercenaires ou encore la grande évasion) et du casting pourtant alléchant.</td>\n",
       "      <td>-1</td>\n",
       "    </tr>\n",
       "    <tr>\n",
       "      <th>214965</th>\n",
       "      <td>14675</td>\n",
       "      <td>Dernier et moins bon (euphémisme) film de la période allemande de Douglas Sirk : on le sent sur le départ et perturbé par les contraintes des autorités hitlériennes. Kitchissime, incohérent, sans queue ni tête : mélange de romance over-boostée à la chantilly dégoulinante et d’aventures à la Tintin chez les Picaros survoltées, où débarquent des scientifiques venus combattre une fièvre mortelle qui découvrent le virus en une nuit dans leur chambrette d’hôtel. Tout cela sur fond d’orchestres mariachis, de romances de Noel allemandes, d’airs de corridas pour la musique et de déguisements d’opérettes hallucinants, d’accroches cœur en série et de lunettes de soleil à géométrie variable pour les costumes. A voir au quatrième degré.</td>\n",
       "      <td>-1</td>\n",
       "    </tr>\n",
       "    <tr>\n",
       "      <th>30092</th>\n",
       "      <td>675</td>\n",
       "      <td>Ce film aurait du changer de titre, \"L'ennui\" lui aurait fort bien convenu. Quand on n'a pas grand chose à dire, il est inutile de rallonger les scènes à foison, d'ajouter du silence et de l'inaction. Tout ce propos aurait très bien pu tenir dans un court métrage de 15 minutes, mais il n'est même pas certain qu'il aurait été bon.</td>\n",
       "      <td>-1</td>\n",
       "    </tr>\n",
       "  </tbody>\n",
       "</table>\n",
       "</div>"
      ],
      "text/plain": [
       "        film-id  \\\n",
       "139897  7570      \n",
       "203400  13247     \n",
       "21916   379       \n",
       "214965  14675     \n",
       "30092   675       \n",
       "\n",
       "                                                                                                                                                                                                                                                                                                                                                                                                                                                                                                                                                                                                                                                                                                                                                                                                                                                                review  \\\n",
       "139897  Ce deuxième opus burtonien des aventures de l'homme chauve-souris est plus réussi encore que la version de 1989. La raison ? L'ambiance gothico-violente de la ville de Gotham City qui fait mouche, et surtout les méchants, absolument géniaux. Le Pingouin, alias Danny DeVito est époustouflant dans son rôle de monstre des égouts qui nécessitait deux heures de maquillage chaque jour ; Catwoman alias Michelle Pfeiffer est plus sexy que jamais dans sa tenue de cuir noir sortie tout droit d'un club SM ; Christopher Walken alias Max Shreck est délicieux dans la peau d'un entrepreneur véreux ne reculant devant rien pour parvenir à ses fins. Un délice.                                                                                                                                                                                       \n",
       "203400  Le début de la fin pour Kevin Costner habitué jusque là aux succès. Waterworld frise le waternanarland tout au long du film avec un scénario très limité et pompé en partie sur du Mad max sans la qualité technique. Du mauvais blockbuster pour engrenger au box office et rien de plus.                                                                                                                                                                                                                                                                                                                                                                                                                                                                                                                                                                       \n",
       "21916   Bizarre ce western de John Sturges, ce n'est pas forcément nul ou lent (au contraire) mais ce n'est pas forcément captivant, il n'y a pas vraiment de prise de folie, que ce soit au niveau du scénario ou de la mise en scène, c'est très classique. Et c'est même un peu trop prévisible. De plus on reste vraiment sur notre faim, notamment à propos du duel Eastwood/Duvall. Il n'y a pas vraiment d'émotions qui se dégagent du film, c'est assez froid. Dommage car Clint Eastwood est parfait dans un rôle qu'il connait bien. Néanmoins, le réalisateur ne prend pas partis, et ne fait l'éloge ni des Américains, ni des Mexicains. Bref rien de vraiment honteux, on a vu pire, mais rien de mémorable et une déception vu le nom du réalisateur (à qui on doit les sept mercenaires ou encore la grande évasion) et du casting pourtant alléchant.   \n",
       "214965  Dernier et moins bon (euphémisme) film de la période allemande de Douglas Sirk : on le sent sur le départ et perturbé par les contraintes des autorités hitlériennes. Kitchissime, incohérent, sans queue ni tête : mélange de romance over-boostée à la chantilly dégoulinante et d’aventures à la Tintin chez les Picaros survoltées, où débarquent des scientifiques venus combattre une fièvre mortelle qui découvrent le virus en une nuit dans leur chambrette d’hôtel. Tout cela sur fond d’orchestres mariachis, de romances de Noel allemandes, d’airs de corridas pour la musique et de déguisements d’opérettes hallucinants, d’accroches cœur en série et de lunettes de soleil à géométrie variable pour les costumes. A voir au quatrième degré.                                                                                                   \n",
       "30092   Ce film aurait du changer de titre, \"L'ennui\" lui aurait fort bien convenu. Quand on n'a pas grand chose à dire, il est inutile de rallonger les scènes à foison, d'ajouter du silence et de l'inaction. Tout ce propos aurait très bien pu tenir dans un court métrage de 15 minutes, mais il n'est même pas certain qu'il aurait été bon.                                                                                                                                                                                                                                                                                                                                                                                                                                                                                                                      \n",
       "\n",
       "        polarity  \n",
       "139897  1         \n",
       "203400 -1         \n",
       "21916  -1         \n",
       "214965 -1         \n",
       "30092  -1         "
      ]
     },
     "execution_count": 24,
     "metadata": {},
     "output_type": "execute_result"
    }
   ],
   "source": [
    "dataset_df.sample(5, random_state=RANDOM_SEED)"
   ]
  },
  {
   "cell_type": "markdown",
   "metadata": {},
   "source": [
    "## Balance classes"
   ]
  },
  {
   "cell_type": "code",
   "execution_count": 25,
   "metadata": {},
   "outputs": [],
   "source": [
    "# The overall distribution of labels is balanced (25k pos and 25k neg).\n",
    "# We don't have to have train and testset perfectly balanced\n",
    "\n",
    "balanced_df = dataset_df.copy()\n",
    "\n",
    "MAX_REVIEWS_PER_POLARITY = 13000\n",
    "# 4. Limit number of reviews per film\n",
    "grouped = balanced_df.groupby('polarity')\n",
    "for ids in grouped.groups.values():\n",
    "    num_reviews = len(ids)    \n",
    "    if num_reviews > MAX_REVIEWS_PER_POLARITY:\n",
    "        sampling_size = num_reviews - MAX_REVIEWS_PER_POLARITY\n",
    "        ids_to_drop = random.sample(list(ids), sampling_size)\n",
    "        balanced_df = balanced_df.drop(ids_to_drop)"
   ]
  },
  {
   "cell_type": "code",
   "execution_count": 26,
   "metadata": {},
   "outputs": [
    {
     "name": "stdout",
     "output_type": "stream",
     "text": [
      "polarity\n",
      "-1    13000\n",
      " 1    13000\n",
      "dtype: int64\n"
     ]
    },
    {
     "data": {
      "text/html": [
       "<div>\n",
       "<style scoped>\n",
       "    .dataframe tbody tr th:only-of-type {\n",
       "        vertical-align: middle;\n",
       "    }\n",
       "\n",
       "    .dataframe tbody tr th {\n",
       "        vertical-align: top;\n",
       "    }\n",
       "\n",
       "    .dataframe thead th {\n",
       "        text-align: right;\n",
       "    }\n",
       "</style>\n",
       "<table border=\"1\" class=\"dataframe\">\n",
       "  <thead>\n",
       "    <tr style=\"text-align: right;\">\n",
       "      <th></th>\n",
       "      <th>film-id</th>\n",
       "      <th>review</th>\n",
       "      <th>polarity</th>\n",
       "    </tr>\n",
       "  </thead>\n",
       "  <tbody>\n",
       "    <tr>\n",
       "      <th>0</th>\n",
       "      <td>1</td>\n",
       "      <td>Ah! Quel plaisir de revoir ce grand fou de Jack Nicholson dans un rôle crapuleux, lui qui avait terrorisé le monde entier dans sa prestation dans \"Shining\" de Stanley Kubrick! Le film est le remake d'un film des années 1940 mais il n'a pas à rougir devant l'original car le successeur le dépasse dans tous les domaines! Le scénario est très bien construit, il est très riche, très dense et attire les yeux du spectateur un peu voyeur devant les scènes sulfureuses et parfois très violentes réalisées de main de maître par Bob Rafelson. Le film respecte les codes du film noir dans la mesure où trois protagonistes sont liés à savoir le mari, la femme et son amant. Devant un tel spectacle, difficile de rester insensible devant cette débauche d'énergie délivrée par Jack Nicholson et Jessica Lange qui impressionnent par leurs talents d'acteurs. Le film relate un crime, celui de tuer le mari. Le long-métrage regorge de rebondissements et nous sommes exposés à suivre les opérations des deux amants qui veulent réaliser le crime parfait. Le réalisateur montre les policiers comme des traqueurs et des chercheurs de troubles pour inculper les deux amants. L'intérêt dans tout cela, c'est de montrer comment une femme soumise dans les années 1940 est malheureuse et cherche un homme qui saurait la sortir de son quotidien répétitif et ennuyeux à cause duquel elle éprouve une terrible névrose. D'un autre coté, voici l'exemple d'un opportuniste déjà emprisonné qui voit se profiler un cas intéressant: un mari qui passe son temps à se saouler et à donner des tapes sur les fesses de sa femme et qui possède un restaurant assez bien coté. Il endort sa méfiance en se faisant embaucher comme simple mécanicien pour mieux séduise sa femme lorsqu'il s'absente. Les rapports entre la femme et son amant sont complexes: ils se désirent, ils s'aiment mais ils ont peur de commettre le crime. Au final, un film qui se veut sulfureux, intelligent, immoral avant la dernière scène du film vraiment épouvantable.</td>\n",
       "      <td>1</td>\n",
       "    </tr>\n",
       "    <tr>\n",
       "      <th>11</th>\n",
       "      <td>1</td>\n",
       "      <td>De la dynamite! Les annèes 80 ont ètè marquèes par un retour au thème et aux personnages du passè! Ce retour au passè peut aussi permettre une vèritable approche de certaines thèmes, jusque là occultès par la censure! C'est ainsi que \"The Postman Always Rings Twice\" de Bob Rafelson peut enfin aller jusqu'au bout des implications du formidable roman de James Crain et donner à la sexualitè la place qui lui revient enfin dans l'histoire. \"Body Heat\" de Kasdan où, comme cette quatrième version de \"The Postman Always Rings Twice\" après Pierre Chenal, Luchino Visconti et Tay Garnett (ainsi que la plupart des romans de Cain), c'est la femme qui mène le jeu! Et elle mène le jeu avec ses armes! Dèfinitivement affranchie sexuellement, elle joue de son corps en toute libertè et sans ressentir la moindre culpabilitè! L'imposant Jack Nicholson et la sublime Jessica Lange forment un couple extraordinaire et leurs èbats sulfureux dans la farine ont fait date dans l'histoire du cinèma! Une scène de cul grand cru avec deux excellents comèdiens qui se sont totalement investis dans la conception de cette oeuvre intense et sensuelle, prototype même du film noir contemporain de demain! Tous les ingrèdients sont rèunis pour un duo de lègende à jamais dans nos mèmoires! Et dire que certaines critiques ont jugè ce remake racoleur et superficiel! Comme quoi, tous les goûts cinèphiliques sont dans la nature même si selon moi la version en noir &amp; blanc de Garnett est un cran au-dessus à la version colorisèe de Rafelson...</td>\n",
       "      <td>1</td>\n",
       "    </tr>\n",
       "    <tr>\n",
       "      <th>13</th>\n",
       "      <td>1</td>\n",
       "      <td>Je l’ai déjà dit plusieurs fois sur ce site, mais je le redis encore une fois: Jack Nicholson, j’adore, tout simplement. C’est comme ça depuis je ne sais combien de temps, et ça ne changera jamais, soyez-en sûrs. Et c’est justement pour ça, que c’est avec vraiment beaucoup de peine que je n’ai collé qu’une petite étoile à ce film. Je plaisante pas, ça m’a vraiment pas fait plaisir, mais, pour le coup, j’ai pas eu d’autres solutions étant donné que ce « Facteur sonne toujours deux fois » ne m’a pas du tout inspiré. Pourtant, Rafelson/Nicholson, ça avait plutôt bien fonctionné par le passé. Rappelons nous du très bon « Cinq pièces faciles » de 1970... Mais là rien, vraiment rien. Pas une seule seconde je n’ai réussi à m’intéresser au film. J’ai trouvé ça lent et surtout très insipide. Mais je me disais que ça allait finir par se lancer à un moment ou un autre, mais non, on reste au point mort tout le temps. Et l’on s’ennuie quand même pas mal. Même le grand Jack ne parvient pas à tirer tout cela un peu vers le haut ! Jessica Lange, quant à elle, est encore une fois difficilement supportable. C’est le premier raté du duo Rafelson/Nicholson. Le deuxième étant le catastrophique « Man Trouble ».</td>\n",
       "      <td>-1</td>\n",
       "    </tr>\n",
       "    <tr>\n",
       "      <th>14</th>\n",
       "      <td>1</td>\n",
       "      <td>Une histoire d'amour et de passion traitée sous la forme d'un polar. Les interprétations de Jack Nicholson et Jessica Lange sont parfaites, et le scénario, très bien ficelé, nous réserve sans cesse des surprises jusqu'à la fin du film. Un classique.</td>\n",
       "      <td>1</td>\n",
       "    </tr>\n",
       "    <tr>\n",
       "      <th>19</th>\n",
       "      <td>2</td>\n",
       "      <td>Le film niais à réserver aux pucelles écervelées qui croient encore au prince charmant et à toutes ces conneries. Il n'y a même pas de scénario, les mecs qui ont pondu ça ne se sont pas cassés le cul, c'est le moins que l'on puisse dire. La musique est tout bonnement immonde, même les sous-merdes dont nous gratifie Disney semblent être des chefs-d'oeuvre à côté. Pour les vêtements des années 80, ça fait peur. J'ai adoré le passage où Meryl Streep essaie des fringues. On a presque envie de lui dire : \"Mets-toi un sac poubelle et tu seras aussi bien habillée qu'avec cette robe d'un goût douteux\". Et je ne parle même pas de sa coupe de cheveux étrange. On se demande comment de Niro peut tomber amoureux de ce cageot., il a du mérite le bougre. Bref, un film à ne pas voir de sous peine de perdre des neurones.</td>\n",
       "      <td>-1</td>\n",
       "    </tr>\n",
       "    <tr>\n",
       "      <th>20</th>\n",
       "      <td>2</td>\n",
       "      <td>Par le biais d'une rencontre va naître l'amour à l'état pur qui suinterar par tous les pores de l'écran jusqu'à un dénouement aux dernières images qui ferait trembler n'importe quel coeur de pierre. Réalisé par le premier assistant réalisateur de West Side Story....</td>\n",
       "      <td>1</td>\n",
       "    </tr>\n",
       "    <tr>\n",
       "      <th>22</th>\n",
       "      <td>2</td>\n",
       "      <td>Un homme et une femme qui s'ennuient d'abord seul, puis à deux, et enfin avec le spectateur qu'ils entrainent dans leur monotonie niaise.</td>\n",
       "      <td>-1</td>\n",
       "    </tr>\n",
       "    <tr>\n",
       "      <th>24</th>\n",
       "      <td>2</td>\n",
       "      <td>Moi je l'aime ce film, je l'avais vu il y a longtemps je viens de le revoir, et bien les acteurs sont extras l'histoire super mélo mais tant pis de temps en temps ça fait du bien</td>\n",
       "      <td>1</td>\n",
       "    </tr>\n",
       "    <tr>\n",
       "      <th>25</th>\n",
       "      <td>2</td>\n",
       "      <td>Une superbe histoire d'amour ancrée dans le quotidien, très touchante portée par deux comédiens tout en sobriété et très justes. Certainement la plus belle \"love story\" après \"sur la route de Madison\".</td>\n",
       "      <td>1</td>\n",
       "    </tr>\n",
       "    <tr>\n",
       "      <th>27</th>\n",
       "      <td>2</td>\n",
       "      <td>En 1985, Meryl Streep native du New Jersey, fit davantage parler d'elle lorsqu'elle campait le rôle d'une certaine Karen Blixen . Robert de Niro, l'enfant du Bronx nous avait un peu affranchi (cf. Taxi driver) aux décors new-yorkais. Il faut bien admettre que ses dialogues futurs allaient être assortis de ceux d'un certain Smith et Wesson. Ce film est une histoire d'amour certes, qui commence par un sourire, une sympathie réciproque, et on se demande, malgré leur situation familiale établie, jusqu'où se poursuivra cette élévation amoureuse envers l'autre. Les mots ne leur sont pas nécessaires pour décrire cette aventure sentimentale qui leur fait relâcher le lien légitime, ils nous la font vivre en de multiples expressions. C'est bien là que réside le jeu naturel de ces grands acteurs. Ni sexe, ni violence, les inconditionnels de Meryl ou de Robert devraient être comblés. Ajoutez à ce couple la participation de Harvey Keitel (de Brooklyn) et de Dave Grusin pour une musique aussi agréable qu'inhabituelle. Si on parle de l'origine du mot Manhattan dans : Sept ans de réflexion, le spectateur ici, est informé de celui de Wall Street. A voir et à entendre</td>\n",
       "      <td>1</td>\n",
       "    </tr>\n",
       "  </tbody>\n",
       "</table>\n",
       "</div>"
      ],
      "text/plain": [
       "    film-id  \\\n",
       "0   1         \n",
       "11  1         \n",
       "13  1         \n",
       "14  1         \n",
       "19  2         \n",
       "20  2         \n",
       "22  2         \n",
       "24  2         \n",
       "25  2         \n",
       "27  2         \n",
       "\n",
       "                                                                                                                                                                                                                                                                                                                                                                                                                                                                                                                                                                                                                                                                                                                                                                                                                                                                                                                                                                                                                                                                                                                                                                                                                                                                                                                                                                                                                                                                                                                                                                                                                                                                                                                                                                                                                                                                                                                                                                                                                                                                              review  \\\n",
       "0   Ah! Quel plaisir de revoir ce grand fou de Jack Nicholson dans un rôle crapuleux, lui qui avait terrorisé le monde entier dans sa prestation dans \"Shining\" de Stanley Kubrick! Le film est le remake d'un film des années 1940 mais il n'a pas à rougir devant l'original car le successeur le dépasse dans tous les domaines! Le scénario est très bien construit, il est très riche, très dense et attire les yeux du spectateur un peu voyeur devant les scènes sulfureuses et parfois très violentes réalisées de main de maître par Bob Rafelson. Le film respecte les codes du film noir dans la mesure où trois protagonistes sont liés à savoir le mari, la femme et son amant. Devant un tel spectacle, difficile de rester insensible devant cette débauche d'énergie délivrée par Jack Nicholson et Jessica Lange qui impressionnent par leurs talents d'acteurs. Le film relate un crime, celui de tuer le mari. Le long-métrage regorge de rebondissements et nous sommes exposés à suivre les opérations des deux amants qui veulent réaliser le crime parfait. Le réalisateur montre les policiers comme des traqueurs et des chercheurs de troubles pour inculper les deux amants. L'intérêt dans tout cela, c'est de montrer comment une femme soumise dans les années 1940 est malheureuse et cherche un homme qui saurait la sortir de son quotidien répétitif et ennuyeux à cause duquel elle éprouve une terrible névrose. D'un autre coté, voici l'exemple d'un opportuniste déjà emprisonné qui voit se profiler un cas intéressant: un mari qui passe son temps à se saouler et à donner des tapes sur les fesses de sa femme et qui possède un restaurant assez bien coté. Il endort sa méfiance en se faisant embaucher comme simple mécanicien pour mieux séduise sa femme lorsqu'il s'absente. Les rapports entre la femme et son amant sont complexes: ils se désirent, ils s'aiment mais ils ont peur de commettre le crime. Au final, un film qui se veut sulfureux, intelligent, immoral avant la dernière scène du film vraiment épouvantable.   \n",
       "11  De la dynamite! Les annèes 80 ont ètè marquèes par un retour au thème et aux personnages du passè! Ce retour au passè peut aussi permettre une vèritable approche de certaines thèmes, jusque là occultès par la censure! C'est ainsi que \"The Postman Always Rings Twice\" de Bob Rafelson peut enfin aller jusqu'au bout des implications du formidable roman de James Crain et donner à la sexualitè la place qui lui revient enfin dans l'histoire. \"Body Heat\" de Kasdan où, comme cette quatrième version de \"The Postman Always Rings Twice\" après Pierre Chenal, Luchino Visconti et Tay Garnett (ainsi que la plupart des romans de Cain), c'est la femme qui mène le jeu! Et elle mène le jeu avec ses armes! Dèfinitivement affranchie sexuellement, elle joue de son corps en toute libertè et sans ressentir la moindre culpabilitè! L'imposant Jack Nicholson et la sublime Jessica Lange forment un couple extraordinaire et leurs èbats sulfureux dans la farine ont fait date dans l'histoire du cinèma! Une scène de cul grand cru avec deux excellents comèdiens qui se sont totalement investis dans la conception de cette oeuvre intense et sensuelle, prototype même du film noir contemporain de demain! Tous les ingrèdients sont rèunis pour un duo de lègende à jamais dans nos mèmoires! Et dire que certaines critiques ont jugè ce remake racoleur et superficiel! Comme quoi, tous les goûts cinèphiliques sont dans la nature même si selon moi la version en noir & blanc de Garnett est un cran au-dessus à la version colorisèe de Rafelson...                                                                                                                                                                                                                                                                                                                                                                                                                                                                                                   \n",
       "13  Je l’ai déjà dit plusieurs fois sur ce site, mais je le redis encore une fois: Jack Nicholson, j’adore, tout simplement. C’est comme ça depuis je ne sais combien de temps, et ça ne changera jamais, soyez-en sûrs. Et c’est justement pour ça, que c’est avec vraiment beaucoup de peine que je n’ai collé qu’une petite étoile à ce film. Je plaisante pas, ça m’a vraiment pas fait plaisir, mais, pour le coup, j’ai pas eu d’autres solutions étant donné que ce « Facteur sonne toujours deux fois » ne m’a pas du tout inspiré. Pourtant, Rafelson/Nicholson, ça avait plutôt bien fonctionné par le passé. Rappelons nous du très bon « Cinq pièces faciles » de 1970... Mais là rien, vraiment rien. Pas une seule seconde je n’ai réussi à m’intéresser au film. J’ai trouvé ça lent et surtout très insipide. Mais je me disais que ça allait finir par se lancer à un moment ou un autre, mais non, on reste au point mort tout le temps. Et l’on s’ennuie quand même pas mal. Même le grand Jack ne parvient pas à tirer tout cela un peu vers le haut ! Jessica Lange, quant à elle, est encore une fois difficilement supportable. C’est le premier raté du duo Rafelson/Nicholson. Le deuxième étant le catastrophique « Man Trouble ».                                                                                                                                                                                                                                                                                                                                                                                                                                                                                                                                                                                                                                                                                                                                                                                                                           \n",
       "14  Une histoire d'amour et de passion traitée sous la forme d'un polar. Les interprétations de Jack Nicholson et Jessica Lange sont parfaites, et le scénario, très bien ficelé, nous réserve sans cesse des surprises jusqu'à la fin du film. Un classique.                                                                                                                                                                                                                                                                                                                                                                                                                                                                                                                                                                                                                                                                                                                                                                                                                                                                                                                                                                                                                                                                                                                                                                                                                                                                                                                                                                                                                                                                                                                                                                                                                                                                                                                                                                                                                          \n",
       "19  Le film niais à réserver aux pucelles écervelées qui croient encore au prince charmant et à toutes ces conneries. Il n'y a même pas de scénario, les mecs qui ont pondu ça ne se sont pas cassés le cul, c'est le moins que l'on puisse dire. La musique est tout bonnement immonde, même les sous-merdes dont nous gratifie Disney semblent être des chefs-d'oeuvre à côté. Pour les vêtements des années 80, ça fait peur. J'ai adoré le passage où Meryl Streep essaie des fringues. On a presque envie de lui dire : \"Mets-toi un sac poubelle et tu seras aussi bien habillée qu'avec cette robe d'un goût douteux\". Et je ne parle même pas de sa coupe de cheveux étrange. On se demande comment de Niro peut tomber amoureux de ce cageot., il a du mérite le bougre. Bref, un film à ne pas voir de sous peine de perdre des neurones.                                                                                                                                                                                                                                                                                                                                                                                                                                                                                                                                                                                                                                                                                                                                                                                                                                                                                                                                                                                                                                                                                                                                                                                                                                    \n",
       "20  Par le biais d'une rencontre va naître l'amour à l'état pur qui suinterar par tous les pores de l'écran jusqu'à un dénouement aux dernières images qui ferait trembler n'importe quel coeur de pierre. Réalisé par le premier assistant réalisateur de West Side Story....                                                                                                                                                                                                                                                                                                                                                                                                                                                                                                                                                                                                                                                                                                                                                                                                                                                                                                                                                                                                                                                                                                                                                                                                                                                                                                                                                                                                                                                                                                                                                                                                                                                                                                                                                                                                         \n",
       "22  Un homme et une femme qui s'ennuient d'abord seul, puis à deux, et enfin avec le spectateur qu'ils entrainent dans leur monotonie niaise.                                                                                                                                                                                                                                                                                                                                                                                                                                                                                                                                                                                                                                                                                                                                                                                                                                                                                                                                                                                                                                                                                                                                                                                                                                                                                                                                                                                                                                                                                                                                                                                                                                                                                                                                                                                                                                                                                                                                          \n",
       "24  Moi je l'aime ce film, je l'avais vu il y a longtemps je viens de le revoir, et bien les acteurs sont extras l'histoire super mélo mais tant pis de temps en temps ça fait du bien                                                                                                                                                                                                                                                                                                                                                                                                                                                                                                                                                                                                                                                                                                                                                                                                                                                                                                                                                                                                                                                                                                                                                                                                                                                                                                                                                                                                                                                                                                                                                                                                                                                                                                                                                                                                                                                                                                 \n",
       "25  Une superbe histoire d'amour ancrée dans le quotidien, très touchante portée par deux comédiens tout en sobriété et très justes. Certainement la plus belle \"love story\" après \"sur la route de Madison\".                                                                                                                                                                                                                                                                                                                                                                                                                                                                                                                                                                                                                                                                                                                                                                                                                                                                                                                                                                                                                                                                                                                                                                                                                                                                                                                                                                                                                                                                                                                                                                                                                                                                                                                                                                                                                                                                          \n",
       "27  En 1985, Meryl Streep native du New Jersey, fit davantage parler d'elle lorsqu'elle campait le rôle d'une certaine Karen Blixen . Robert de Niro, l'enfant du Bronx nous avait un peu affranchi (cf. Taxi driver) aux décors new-yorkais. Il faut bien admettre que ses dialogues futurs allaient être assortis de ceux d'un certain Smith et Wesson. Ce film est une histoire d'amour certes, qui commence par un sourire, une sympathie réciproque, et on se demande, malgré leur situation familiale établie, jusqu'où se poursuivra cette élévation amoureuse envers l'autre. Les mots ne leur sont pas nécessaires pour décrire cette aventure sentimentale qui leur fait relâcher le lien légitime, ils nous la font vivre en de multiples expressions. C'est bien là que réside le jeu naturel de ces grands acteurs. Ni sexe, ni violence, les inconditionnels de Meryl ou de Robert devraient être comblés. Ajoutez à ce couple la participation de Harvey Keitel (de Brooklyn) et de Dave Grusin pour une musique aussi agréable qu'inhabituelle. Si on parle de l'origine du mot Manhattan dans : Sept ans de réflexion, le spectateur ici, est informé de celui de Wall Street. A voir et à entendre                                                                                                                                                                                                                                                                                                                                                                                                                                                                                                                                                                                                                                                                                                                                                                                                                                                                   \n",
       "\n",
       "    polarity  \n",
       "0   1         \n",
       "11  1         \n",
       "13 -1         \n",
       "14  1         \n",
       "19 -1         \n",
       "20  1         \n",
       "22 -1         \n",
       "24  1         \n",
       "25  1         \n",
       "27  1         "
      ]
     },
     "execution_count": 26,
     "metadata": {},
     "output_type": "execute_result"
    }
   ],
   "source": [
    "print(balanced_df.groupby('polarity').size())\n",
    "balanced_df.head(10)"
   ]
  },
  {
   "cell_type": "code",
   "execution_count": null,
   "metadata": {},
   "outputs": [],
   "source": []
  },
  {
   "cell_type": "code",
   "execution_count": 119,
   "metadata": {},
   "outputs": [],
   "source": [
    "# split train / test\n",
    "# While True\n",
    "# 1. random in train_set ids => find corresponding row\n",
    "# 2. add all rows with same film id test_set\n",
    "# 3. is test_proportion reached ? Yes: STOP, No continue\n",
    "\n",
    "# => verify this split preserve the balanced distribution of classes"
   ]
  },
  {
   "cell_type": "code",
   "execution_count": 73,
   "metadata": {},
   "outputs": [],
   "source": [
    "\n"
   ]
  },
  {
   "cell_type": "code",
   "execution_count": null,
   "metadata": {},
   "outputs": [],
   "source": []
  },
  {
   "cell_type": "code",
   "execution_count": null,
   "metadata": {},
   "outputs": [],
   "source": []
  }
 ],
 "metadata": {
  "kernelspec": {
   "display_name": "Python 3",
   "language": "python",
   "name": "python3"
  },
  "language_info": {
   "codemirror_mode": {
    "name": "ipython",
    "version": 3
   },
   "file_extension": ".py",
   "mimetype": "text/x-python",
   "name": "python",
   "nbconvert_exporter": "python",
   "pygments_lexer": "ipython3",
   "version": "3.7.5"
  }
 },
 "nbformat": 4,
 "nbformat_minor": 4
}
