{
 "cells": [
  {
   "cell_type": "code",
   "execution_count": 3,
   "metadata": {
    "scrolled": true
   },
   "outputs": [],
   "source": []
  },
  {
   "cell_type": "code",
   "execution_count": 3,
   "metadata": {},
   "outputs": [],
   "source": [
    "import pandas as pd"
   ]
  },
  {
   "cell_type": "code",
   "execution_count": 18,
   "metadata": {},
   "outputs": [],
   "source": [
    "pd.set_option('display.max_colwidth', -1)"
   ]
  },
  {
   "cell_type": "code",
   "execution_count": 7,
   "metadata": {},
   "outputs": [
    {
     "data": {
      "text/html": [
       "<div>\n",
       "<style scoped>\n",
       "    .dataframe tbody tr th:only-of-type {\n",
       "        vertical-align: middle;\n",
       "    }\n",
       "\n",
       "    .dataframe tbody tr th {\n",
       "        vertical-align: top;\n",
       "    }\n",
       "\n",
       "    .dataframe thead th {\n",
       "        text-align: right;\n",
       "    }\n",
       "</style>\n",
       "<table border=\"1\" class=\"dataframe\">\n",
       "  <thead>\n",
       "    <tr style=\"text-align: right;\">\n",
       "      <th></th>\n",
       "      <th>test</th>\n",
       "      <th>oui</th>\n",
       "    </tr>\n",
       "  </thead>\n",
       "  <tbody>\n",
       "    <tr>\n",
       "      <th>0</th>\n",
       "      <td>2</td>\n",
       "      <td>3</td>\n",
       "    </tr>\n",
       "    <tr>\n",
       "      <th>1</th>\n",
       "      <td>3</td>\n",
       "      <td>4</td>\n",
       "    </tr>\n",
       "  </tbody>\n",
       "</table>\n",
       "</div>"
      ],
      "text/plain": [
       "   test  oui\n",
       "0     2    3\n",
       "1     3    4"
      ]
     },
     "execution_count": 7,
     "metadata": {},
     "output_type": "execute_result"
    }
   ],
   "source": []
  },
  {
   "cell_type": "markdown",
   "metadata": {},
   "source": [
    "# Load pickle files"
   ]
  },
  {
   "cell_type": "code",
   "execution_count": 29,
   "metadata": {},
   "outputs": [],
   "source": [
    "allocine_reviews = {}\n",
    "pickle_files = [\n",
    "    \"pickle/allocine_1_10.pickle\",\n",
    "    \"pickle/allocine_11_20.pickle\",\n",
    "]\n",
    "\n",
    "data = pd.DataFrame()\n",
    "\n",
    "for path in pickle_files:\n",
    "    # For pickle file in pickle folder :\n",
    "    with open(path, 'rb') as handle:\n",
    "        df = pd.read_pickle(path)\n",
    "        data = data.append(df, ignore_index=True)        "
   ]
  },
  {
   "cell_type": "code",
   "execution_count": 30,
   "metadata": {
    "scrolled": false
   },
   "outputs": [
    {
     "data": {
      "text/html": [
       "<div>\n",
       "<style scoped>\n",
       "    .dataframe tbody tr th:only-of-type {\n",
       "        vertical-align: middle;\n",
       "    }\n",
       "\n",
       "    .dataframe tbody tr th {\n",
       "        vertical-align: top;\n",
       "    }\n",
       "\n",
       "    .dataframe thead th {\n",
       "        text-align: right;\n",
       "    }\n",
       "</style>\n",
       "<table border=\"1\" class=\"dataframe\">\n",
       "  <thead>\n",
       "    <tr style=\"text-align: right;\">\n",
       "      <th></th>\n",
       "      <th>film-id</th>\n",
       "      <th>rating</th>\n",
       "      <th>review</th>\n",
       "      <th>date</th>\n",
       "      <th>helpful</th>\n",
       "      <th>unhelpful</th>\n",
       "    </tr>\n",
       "  </thead>\n",
       "  <tbody>\n",
       "    <tr>\n",
       "      <th>0</th>\n",
       "      <td>1</td>\n",
       "      <td>1.0</td>\n",
       "      <td>Je l’ai déjà dit plusieurs fois sur ce site, mais je le redis encore une fois: Jack Nicholson, j’adore, tout simplement. C’est comme ça depuis je ne sais combien de temps, et ça ne changera jamais, soyez-en sûrs. Et c’est justement pour ça, que c’est avec vraiment beaucoup de peine que je n’ai collé qu’une petite étoile à ce film. Je plaisante pas, ça m’a vraiment pas fait plaisir, mais, pour le coup, j’ai pas eu d’autres solutions étant donné que ce « Facteur sonne toujours deux fois » ne m’a pas du tout inspiré. Pourtant, Rafelson/Nicholson, ça avait plutôt bien fonctionné par le passé. Rappelons nous du très bon « Cinq pièces faciles » de 1970... Mais là rien, vraiment rien. Pas une seule seconde je n’ai réussi à m’intéresser au film. J’ai trouvé ça lent et surtout très insipide. Mais je me disais que ça allait finir par se lancer à un moment ou un autre, mais non, on reste au point mort tout le temps. Et l’on s’ennuie quand même pas mal. Même le grand Jack ne parvient pas à tirer tout cela un peu vers le haut ! Jessica Lange, quant à elle, est encore une fois difficilement supportable. C’est le premier raté du duo Rafelson/Nicholson. Le deuxième étant le catastrophique « Man Trouble ».</td>\n",
       "      <td>2017-10-07</td>\n",
       "      <td>3</td>\n",
       "      <td>0</td>\n",
       "    </tr>\n",
       "    <tr>\n",
       "      <th>1</th>\n",
       "      <td>1</td>\n",
       "      <td>4.0</td>\n",
       "      <td>La prestation sans faute de Jack Nicholson et celle stupéfiante et débordante de sensualité de Jessica Lange font que ce film est essentiellement un film d'acteur. La partie judiciaire de l'intrigue est malheureusement ratée car peu compréhensible (les \"faux\" aveux, la négociation sur la prime, le jugement de Clara... tout cela est extrêmement confus). En revanche, on appréciera la courte irruption quasi surréaliste de la très troublante Angelica Huston en dompteuse de fauves. Et puis il y a cet érotisme très subtil que dégage le film d'un bout à l'autre, pratiquement rien n'est montré mais on n'est pas près d'oublier la petite nuisette quasi transparente de Jessica Lange. Il est simplement dommage que la prod n'est pas choisi un réalisateur de renom, sinon les ingrédients pour en faire un chef d'œuvre étaient bien là.</td>\n",
       "      <td>2014-04-23</td>\n",
       "      <td>5</td>\n",
       "      <td>1</td>\n",
       "    </tr>\n",
       "    <tr>\n",
       "      <th>2</th>\n",
       "      <td>1</td>\n",
       "      <td>4.0</td>\n",
       "      <td>De la dynamite! Les annèes 80 ont ètè marquèes par un retour au thème et aux personnages du passè! Ce retour au passè peut aussi permettre une vèritable approche de certaines thèmes, jusque là occultès par la censure! C'est ainsi que \"The Postman Always Rings Twice\" de Bob Rafelson peut enfin aller jusqu'au bout des implications du formidable roman de James Crain et donner à la sexualitè la place qui lui revient enfin dans l'histoire. \"Body Heat\" de Kasdan où, comme cette quatrième version de \"The Postman Always Rings Twice\" après Pierre Chenal, Luchino Visconti et Tay Garnett (ainsi que la plupart des romans de Cain), c'est la femme qui mène le jeu! Et elle mène le jeu avec ses armes! Dèfinitivement affranchie sexuellement, elle joue de son corps en toute libertè et sans ressentir la moindre culpabilitè! L'imposant Jack Nicholson et la sublime Jessica Lange forment un couple extraordinaire et leurs èbats sulfureux dans la farine ont fait date dans l'histoire du cinèma! Une scène de cul grand cru avec deux excellents comèdiens qui se sont totalement investis dans la conception de cette oeuvre intense et sensuelle, prototype même du film noir contemporain de demain! Tous les ingrèdients sont rèunis pour un duo de lègende à jamais dans nos mèmoires! Et dire que certaines critiques ont jugè ce remake racoleur et superficiel! Comme quoi, tous les goûts cinèphiliques sont dans la nature même si selon moi la version en noir &amp; blanc de Garnett est un cran au-dessus à la version colorisèe de Rafelson...</td>\n",
       "      <td>2014-09-10</td>\n",
       "      <td>4</td>\n",
       "      <td>3</td>\n",
       "    </tr>\n",
       "    <tr>\n",
       "      <th>3</th>\n",
       "      <td>1</td>\n",
       "      <td>4.0</td>\n",
       "      <td>Quatrième et dernière adaptation en date de la célèbre oeuvre de James M. Cain, cette version joue surtout sur la passion qui unit les deux amants pour faire avancer l'intrigue. Ce qui donne lieu à quelques scènes d'une sensualité exacerbée notamment celle où les deux personnages deviennent amants. On peut saluer le soin apporté à la reconstitution de l'Amérique de la Grande Dépression, même si elle sert ici surtout de toile de fond, et la finesse avec laquelle Bob Rafelson arrive à nous faire comprendre l'avancée psychologique des deux personnages, les rendant même sympathiques. Jessica Lange est totalement remarquable même si je lui préfère Jack Nicholson qui joue à merveille sur l'ambiguïté de son personnage. Un excellent film noir contemporain</td>\n",
       "      <td>2010-04-11</td>\n",
       "      <td>4</td>\n",
       "      <td>3</td>\n",
       "    </tr>\n",
       "    <tr>\n",
       "      <th>4</th>\n",
       "      <td>1</td>\n",
       "      <td>3.0</td>\n",
       "      <td>Remake d'un formidable film noir de 1946,\"Le facteur sonne toujours 2 fois\"(1981)tourne plutôt ici au thriller sensuel mâtiné de drame psychologique.Bob Rafelson consacre énormément de temps à entrer dans l'intimité et la psyché des 2 amants terribles,qui s'aiment,se désirent,mais qui se repoussent également,se craignent.Il fallait bien des acteurs de la trempe de Jack Nicholson et Jessica Lange pour transmettre une telle palette contradictoire de sentiments.Lui,mécanicien opportuniste qui veut tuer le mari de sa maîtresse pour empocher l'assurance et la garde du resto-route.Elle,serveuse délaissée qui recherche de la passion et de l'indépendance.C'est cette passion amoureuse,destructrice qui conduira à leur perte,après qu'ils aient évité les pièges de la condamnation à mort par la grâce d'un avocat véreux.Si Rafelson ne s'attarde pas trop sur la reconstitution de l'Amérique rurale de la Grande Dépression,il en fait ressortir des moeurs pour le moins troubles.Les scènes sexuelles,ouvertement choquantes,ont défrayées la chronique à l'époque par leur côté sauvage et bestial.Dommage que l'on remarque quelques longueurs et une partie policière succinte.Un bon film du genre.</td>\n",
       "      <td>2010-12-05</td>\n",
       "      <td>2</td>\n",
       "      <td>1</td>\n",
       "    </tr>\n",
       "    <tr>\n",
       "      <th>...</th>\n",
       "      <td>...</td>\n",
       "      <td>...</td>\n",
       "      <td>...</td>\n",
       "      <td>...</td>\n",
       "      <td>...</td>\n",
       "      <td>...</td>\n",
       "    </tr>\n",
       "    <tr>\n",
       "      <th>518</th>\n",
       "      <td>17</td>\n",
       "      <td>5.0</td>\n",
       "      <td>Ce film a été un choc a sa sortie et on le comprend! C'était aussi la première fois qu'un film classé X remportait un  oscar!!! Peut-être la première oeuvre cinématoghraphique a montré de façon aussi crue la triste réalité de la vie dans les grandes villes.\\r\\nRéalisation hyper-réaliste et acteur bluffant de naturel! Hoffman enchaînait sur un deuxième grand rôle après le carton du \"Lauréat\" et prouvait ainsi qu'il était un technicien hors-pair soucieux de ses rôle. (Macadam Cowboy reste certainement avec \"lenny\" et \"Little big man\" ce que le petit brun a fait de plus virtuose dans toute sa carrière.)</td>\n",
       "      <td>2006-09-29</td>\n",
       "      <td>0</td>\n",
       "      <td>0</td>\n",
       "    </tr>\n",
       "    <tr>\n",
       "      <th>519</th>\n",
       "      <td>17</td>\n",
       "      <td>5.0</td>\n",
       "      <td>Vu sur Arte le Dimanche 18 Avril 2010 à 20h40. Avec Dustin Hoffman et John Voigt. \\nMacadam Cowboy c’est avant tout un drame social sur 1969. Woodstock va avoir lieu . Morisson , Hendrix, Joplin et Brian Jones sont toujours en vie. Nixon a prit la place de Johnson en Janvier et les émeutes de Stonewall  marquent les premières révoltes des homos chez l’oncle Sam. L’homosexualité c’est d’ailleurs un des thèmes de Macadam Cowboy. Joe Buck, jeune cowboy blond quitte son Texas natal pour New York. Mais loin des utopies hippies, du rêve du communautarisme et de la révolution sexuelle, la réalité semble plus dure. En exercant son métier de gigolo à la petite semaine Joe rencontrera Ratso Rizzo, un petit paumé d’origine italienne (exceptionnel Dustin Hoffman), escrot minable et  tuberculeux. Après des moments de confrontation les deux hommes lieront une amitié forte et sans précédent pour chacun d’eux. Macadam Cowboy c’est avant tout une histoire d’amitié entre deux paumés. Totalement révolutionnaire pour son époque le film de Schlessinger heurte et émeut par son côté brut et sale. On navigue vraiment dans le N.Y en crise, en total dépression. Le peuple commence à se rendre compte que le Vietnam  n’est qu’une supercherie et comme l’Irak ou l’Afghanistan trente ou quarante ans plus tard, l’issue semble sans faille.</td>\n",
       "      <td>2010-04-25</td>\n",
       "      <td>0</td>\n",
       "      <td>0</td>\n",
       "    </tr>\n",
       "    <tr>\n",
       "      <th>520</th>\n",
       "      <td>17</td>\n",
       "      <td>5.0</td>\n",
       "      <td>La fin du cinéma des années 60 est largement marqué par Midnight Cowboy qui obtiendra le statut de film culte.\\nJon Voight en cowboy, et Dustin Hoffman en estropié Italien laissent espérer une association impossible, qui par la suite devient réelle dû au même but des deux personnages : la liberté vers la Floride.\\nLa fin de l'ère cowboy y est très bien représenté en la comparant à l'homosexualité, et l'année 1969 avec le mouvement hippie important nous offre une scène psychédélique superbe. \\nDustin Hoffman dans son meilleur rôle est de loin !</td>\n",
       "      <td>2014-08-02</td>\n",
       "      <td>0</td>\n",
       "      <td>0</td>\n",
       "    </tr>\n",
       "    <tr>\n",
       "      <th>521</th>\n",
       "      <td>17</td>\n",
       "      <td>5.0</td>\n",
       "      <td>Depuis sa sortie en 1969, le film de John Schlesinger, lauréat de trois Oscars, a conservé toute sa puissance. Comme beaucoup de films de la période, L’Épouvantail de Schatzberg par exemple, Macadam Cowboy, s'attache à nous raconter le destin de deux losers, pleins d’ambition, à la poursuite du rêve américain, dans l’Amérique des années 60. John Schlesinger, à travers deux êtres attachants, perdus dans la foule new-yorkaise, en quête de bonheur, d’amour et d’argent, nous restitue une vision sombre de l’Amérique et de la société qu’elle engendre.\\r\\n\\r\\nCe très beau film contient de nombreuses similitudes avec des œuvres de la même période. Dans Alice n’est plus ici de Martin Scorsese, Alice rêve depuis son plus jeune âge de devenir une star de la chanson. Adulte, son rêve se prolongera. Elle ira jusqu’au bout et y parviendra malgré les difficultés auxquelles elle devra faire face. Dans Easy Rider de Denis Hooper, les deux motards sillonnent toute l’Amérique dans un but précis : vivre et se sentir libre. Thématique récurrente dans le cinéma américain des années 70, qu’on appelle communément l’American Dream.\\r\\n\\r\\nDans Macadam Cowboy, Joe Buck, jeune homme naïf mais ambitieux, désire quitter son Texas natal, préférant l’agitation des grandes métropoles. Dans le greyhound qui le conduit à New-York, roulant jour et nuit d‘Ouest en Est, Joe revoit son passé défiler, douloureux, illustré par des flash-back récurrents : parents absents, viol de sa petite amie. Dans le Point limite Zéro de Sarafian, Kowalski, le héros du film fait le pari de rallier San Francisco à Denver en moins de 15 heures. De la même manière que Joe, son passé est évoqué par l’utilisation de flash-back : Kowalski est un ex-pilote de course, vétéran du Vietnam et ancien policier traumatisé par le viol auquel il a assisté durant son service. Le rapprochement est inévitable. Joe et Kowalski sont deux losers, qui après tant d’années d’échecs personnels souhaitent fuir, qu’importe la destination, afin d’échapper</td>\n",
       "      <td>2008-02-04</td>\n",
       "      <td>0</td>\n",
       "      <td>0</td>\n",
       "    </tr>\n",
       "    <tr>\n",
       "      <th>522</th>\n",
       "      <td>17</td>\n",
       "      <td>5.0</td>\n",
       "      <td>Un film émouant,très fidèle au bouquin.Surprenant,different,inoubliable!!!</td>\n",
       "      <td>2015-01-19</td>\n",
       "      <td>0</td>\n",
       "      <td>0</td>\n",
       "    </tr>\n",
       "  </tbody>\n",
       "</table>\n",
       "<p>523 rows × 6 columns</p>\n",
       "</div>"
      ],
      "text/plain": [
       "     film-id  rating  \\\n",
       "0    1        1.0      \n",
       "1    1        4.0      \n",
       "2    1        4.0      \n",
       "3    1        4.0      \n",
       "4    1        3.0      \n",
       "..  ..        ...      \n",
       "518  17       5.0      \n",
       "519  17       5.0      \n",
       "520  17       5.0      \n",
       "521  17       5.0      \n",
       "522  17       5.0      \n",
       "\n",
       "                                                                                                                                                                                                                                                                                                                                                                                                                                                                                                                                                                                                                                                                                                                                                                                                                                                                                                                                                                                                                                                                                                                                                                                                                                                                                                                                                                                                                                                                                                                                                                                                                                                                                                                                                                                                                                                                                                                                                                                                                                                                                      review  \\\n",
       "0    Je l’ai déjà dit plusieurs fois sur ce site, mais je le redis encore une fois: Jack Nicholson, j’adore, tout simplement. C’est comme ça depuis je ne sais combien de temps, et ça ne changera jamais, soyez-en sûrs. Et c’est justement pour ça, que c’est avec vraiment beaucoup de peine que je n’ai collé qu’une petite étoile à ce film. Je plaisante pas, ça m’a vraiment pas fait plaisir, mais, pour le coup, j’ai pas eu d’autres solutions étant donné que ce « Facteur sonne toujours deux fois » ne m’a pas du tout inspiré. Pourtant, Rafelson/Nicholson, ça avait plutôt bien fonctionné par le passé. Rappelons nous du très bon « Cinq pièces faciles » de 1970... Mais là rien, vraiment rien. Pas une seule seconde je n’ai réussi à m’intéresser au film. J’ai trouvé ça lent et surtout très insipide. Mais je me disais que ça allait finir par se lancer à un moment ou un autre, mais non, on reste au point mort tout le temps. Et l’on s’ennuie quand même pas mal. Même le grand Jack ne parvient pas à tirer tout cela un peu vers le haut ! Jessica Lange, quant à elle, est encore une fois difficilement supportable. C’est le premier raté du duo Rafelson/Nicholson. Le deuxième étant le catastrophique « Man Trouble ».                                                                                                                                                                                                                                                                                                                                                                                                                                                                                                                                                                                                                                                                                                                                                                                                                                  \n",
       "1    La prestation sans faute de Jack Nicholson et celle stupéfiante et débordante de sensualité de Jessica Lange font que ce film est essentiellement un film d'acteur. La partie judiciaire de l'intrigue est malheureusement ratée car peu compréhensible (les \"faux\" aveux, la négociation sur la prime, le jugement de Clara... tout cela est extrêmement confus). En revanche, on appréciera la courte irruption quasi surréaliste de la très troublante Angelica Huston en dompteuse de fauves. Et puis il y a cet érotisme très subtil que dégage le film d'un bout à l'autre, pratiquement rien n'est montré mais on n'est pas près d'oublier la petite nuisette quasi transparente de Jessica Lange. Il est simplement dommage que la prod n'est pas choisi un réalisateur de renom, sinon les ingrédients pour en faire un chef d'œuvre étaient bien là.                                                                                                                                                                                                                                                                                                                                                                                                                                                                                                                                                                                                                                                                                                                                                                                                                                                                                                                                                                                                                                                                                                                                                                                                                            \n",
       "2    De la dynamite! Les annèes 80 ont ètè marquèes par un retour au thème et aux personnages du passè! Ce retour au passè peut aussi permettre une vèritable approche de certaines thèmes, jusque là occultès par la censure! C'est ainsi que \"The Postman Always Rings Twice\" de Bob Rafelson peut enfin aller jusqu'au bout des implications du formidable roman de James Crain et donner à la sexualitè la place qui lui revient enfin dans l'histoire. \"Body Heat\" de Kasdan où, comme cette quatrième version de \"The Postman Always Rings Twice\" après Pierre Chenal, Luchino Visconti et Tay Garnett (ainsi que la plupart des romans de Cain), c'est la femme qui mène le jeu! Et elle mène le jeu avec ses armes! Dèfinitivement affranchie sexuellement, elle joue de son corps en toute libertè et sans ressentir la moindre culpabilitè! L'imposant Jack Nicholson et la sublime Jessica Lange forment un couple extraordinaire et leurs èbats sulfureux dans la farine ont fait date dans l'histoire du cinèma! Une scène de cul grand cru avec deux excellents comèdiens qui se sont totalement investis dans la conception de cette oeuvre intense et sensuelle, prototype même du film noir contemporain de demain! Tous les ingrèdients sont rèunis pour un duo de lègende à jamais dans nos mèmoires! Et dire que certaines critiques ont jugè ce remake racoleur et superficiel! Comme quoi, tous les goûts cinèphiliques sont dans la nature même si selon moi la version en noir & blanc de Garnett est un cran au-dessus à la version colorisèe de Rafelson...                                                                                                                                                                                                                                                                                                                                                                                                                                                                                                          \n",
       "3    Quatrième et dernière adaptation en date de la célèbre oeuvre de James M. Cain, cette version joue surtout sur la passion qui unit les deux amants pour faire avancer l'intrigue. Ce qui donne lieu à quelques scènes d'une sensualité exacerbée notamment celle où les deux personnages deviennent amants. On peut saluer le soin apporté à la reconstitution de l'Amérique de la Grande Dépression, même si elle sert ici surtout de toile de fond, et la finesse avec laquelle Bob Rafelson arrive à nous faire comprendre l'avancée psychologique des deux personnages, les rendant même sympathiques. Jessica Lange est totalement remarquable même si je lui préfère Jack Nicholson qui joue à merveille sur l'ambiguïté de son personnage. Un excellent film noir contemporain                                                                                                                                                                                                                                                                                                                                                                                                                                                                                                                                                                                                                                                                                                                                                                                                                                                                                                                                                                                                                                                                                                                                                                                                                                                                                                     \n",
       "4    Remake d'un formidable film noir de 1946,\"Le facteur sonne toujours 2 fois\"(1981)tourne plutôt ici au thriller sensuel mâtiné de drame psychologique.Bob Rafelson consacre énormément de temps à entrer dans l'intimité et la psyché des 2 amants terribles,qui s'aiment,se désirent,mais qui se repoussent également,se craignent.Il fallait bien des acteurs de la trempe de Jack Nicholson et Jessica Lange pour transmettre une telle palette contradictoire de sentiments.Lui,mécanicien opportuniste qui veut tuer le mari de sa maîtresse pour empocher l'assurance et la garde du resto-route.Elle,serveuse délaissée qui recherche de la passion et de l'indépendance.C'est cette passion amoureuse,destructrice qui conduira à leur perte,après qu'ils aient évité les pièges de la condamnation à mort par la grâce d'un avocat véreux.Si Rafelson ne s'attarde pas trop sur la reconstitution de l'Amérique rurale de la Grande Dépression,il en fait ressortir des moeurs pour le moins troubles.Les scènes sexuelles,ouvertement choquantes,ont défrayées la chronique à l'époque par leur côté sauvage et bestial.Dommage que l'on remarque quelques longueurs et une partie policière succinte.Un bon film du genre.                                                                                                                                                                                                                                                                                                                                                                                                                                                                                                                                                                                                                                                                                                                                                                                                                                                      \n",
       "..                                                                                                                                                                                                                                                                                                                                                                                                                                                                                                                                                                                                                                                                                                                                                                                                                                                                                                                                                                                                                                                                                                                                                                                                                                    ...                                                                                                                                                                                                                                                                                                                                                                                                                                                                                                                                                                                                                                                                                                                                                                                                                                                      \n",
       "518  Ce film a été un choc a sa sortie et on le comprend! C'était aussi la première fois qu'un film classé X remportait un  oscar!!! Peut-être la première oeuvre cinématoghraphique a montré de façon aussi crue la triste réalité de la vie dans les grandes villes.\\r\\nRéalisation hyper-réaliste et acteur bluffant de naturel! Hoffman enchaînait sur un deuxième grand rôle après le carton du \"Lauréat\" et prouvait ainsi qu'il était un technicien hors-pair soucieux de ses rôle. (Macadam Cowboy reste certainement avec \"lenny\" et \"Little big man\" ce que le petit brun a fait de plus virtuose dans toute sa carrière.)                                                                                                                                                                                                                                                                                                                                                                                                                                                                                                                                                                                                                                                                                                                                                                                                                                                                                                                                                                                                                                                                                                                                                                                                                                                                                                                                                                                                                                                           \n",
       "519  Vu sur Arte le Dimanche 18 Avril 2010 à 20h40. Avec Dustin Hoffman et John Voigt. \\nMacadam Cowboy c’est avant tout un drame social sur 1969. Woodstock va avoir lieu . Morisson , Hendrix, Joplin et Brian Jones sont toujours en vie. Nixon a prit la place de Johnson en Janvier et les émeutes de Stonewall  marquent les premières révoltes des homos chez l’oncle Sam. L’homosexualité c’est d’ailleurs un des thèmes de Macadam Cowboy. Joe Buck, jeune cowboy blond quitte son Texas natal pour New York. Mais loin des utopies hippies, du rêve du communautarisme et de la révolution sexuelle, la réalité semble plus dure. En exercant son métier de gigolo à la petite semaine Joe rencontrera Ratso Rizzo, un petit paumé d’origine italienne (exceptionnel Dustin Hoffman), escrot minable et  tuberculeux. Après des moments de confrontation les deux hommes lieront une amitié forte et sans précédent pour chacun d’eux. Macadam Cowboy c’est avant tout une histoire d’amitié entre deux paumés. Totalement révolutionnaire pour son époque le film de Schlessinger heurte et émeut par son côté brut et sale. On navigue vraiment dans le N.Y en crise, en total dépression. Le peuple commence à se rendre compte que le Vietnam  n’est qu’une supercherie et comme l’Irak ou l’Afghanistan trente ou quarante ans plus tard, l’issue semble sans faille.                                                                                                                                                                                                                                                                                                                                                                                                                                                                                                                                                                                                                                                                                                           \n",
       "520  La fin du cinéma des années 60 est largement marqué par Midnight Cowboy qui obtiendra le statut de film culte.\\nJon Voight en cowboy, et Dustin Hoffman en estropié Italien laissent espérer une association impossible, qui par la suite devient réelle dû au même but des deux personnages : la liberté vers la Floride.\\nLa fin de l'ère cowboy y est très bien représenté en la comparant à l'homosexualité, et l'année 1969 avec le mouvement hippie important nous offre une scène psychédélique superbe. \\nDustin Hoffman dans son meilleur rôle est de loin !                                                                                                                                                                                                                                                                                                                                                                                                                                                                                                                                                                                                                                                                                                                                                                                                                                                                                                                                                                                                                                                                                                                                                                                                                                                                                                                                                                                                                                                                                                                     \n",
       "521  Depuis sa sortie en 1969, le film de John Schlesinger, lauréat de trois Oscars, a conservé toute sa puissance. Comme beaucoup de films de la période, L’Épouvantail de Schatzberg par exemple, Macadam Cowboy, s'attache à nous raconter le destin de deux losers, pleins d’ambition, à la poursuite du rêve américain, dans l’Amérique des années 60. John Schlesinger, à travers deux êtres attachants, perdus dans la foule new-yorkaise, en quête de bonheur, d’amour et d’argent, nous restitue une vision sombre de l’Amérique et de la société qu’elle engendre.\\r\\n\\r\\nCe très beau film contient de nombreuses similitudes avec des œuvres de la même période. Dans Alice n’est plus ici de Martin Scorsese, Alice rêve depuis son plus jeune âge de devenir une star de la chanson. Adulte, son rêve se prolongera. Elle ira jusqu’au bout et y parviendra malgré les difficultés auxquelles elle devra faire face. Dans Easy Rider de Denis Hooper, les deux motards sillonnent toute l’Amérique dans un but précis : vivre et se sentir libre. Thématique récurrente dans le cinéma américain des années 70, qu’on appelle communément l’American Dream.\\r\\n\\r\\nDans Macadam Cowboy, Joe Buck, jeune homme naïf mais ambitieux, désire quitter son Texas natal, préférant l’agitation des grandes métropoles. Dans le greyhound qui le conduit à New-York, roulant jour et nuit d‘Ouest en Est, Joe revoit son passé défiler, douloureux, illustré par des flash-back récurrents : parents absents, viol de sa petite amie. Dans le Point limite Zéro de Sarafian, Kowalski, le héros du film fait le pari de rallier San Francisco à Denver en moins de 15 heures. De la même manière que Joe, son passé est évoqué par l’utilisation de flash-back : Kowalski est un ex-pilote de course, vétéran du Vietnam et ancien policier traumatisé par le viol auquel il a assisté durant son service. Le rapprochement est inévitable. Joe et Kowalski sont deux losers, qui après tant d’années d’échecs personnels souhaitent fuir, qu’importe la destination, afin d’échapper   \n",
       "522  Un film émouant,très fidèle au bouquin.Surprenant,different,inoubliable!!!                                                                                                                                                                                                                                                                                                                                                                                                                                                                                                                                                                                                                                                                                                                                                                                                                                                                                                                                                                                                                                                                                                                                                                                                                                                                                                                                                                                                                                                                                                                                                                                                                                                                                                                                                                                                                                                                                                                                                                                                                \n",
       "\n",
       "           date  helpful  unhelpful  \n",
       "0    2017-10-07  3        0          \n",
       "1    2014-04-23  5        1          \n",
       "2    2014-09-10  4        3          \n",
       "3    2010-04-11  4        3          \n",
       "4    2010-12-05  2        1          \n",
       "..          ... ..       ..          \n",
       "518  2006-09-29  0        0          \n",
       "519  2010-04-25  0        0          \n",
       "520  2014-08-02  0        0          \n",
       "521  2008-02-04  0        0          \n",
       "522  2015-01-19  0        0          \n",
       "\n",
       "[523 rows x 6 columns]"
      ]
     },
     "execution_count": 30,
     "metadata": {},
     "output_type": "execute_result"
    }
   ],
   "source": [
    "data"
   ]
  },
  {
   "cell_type": "code",
   "execution_count": 25,
   "metadata": {},
   "outputs": [
    {
     "name": "stdout",
     "output_type": "stream",
     "text": [
      "Un bon film d'aventure familial, porté par l'énergie et le charisme de Belmondo.\n",
      "L'humour y est très présent, en tournant en dérision toute la bêtise de l'idéologie nazi.\n",
      "Il y a aussi d’impressionnantes séquences d'action; dont une (les héros pourchassés par des nazis sur des motos) que Steven Spielberg a peut-être vu avant de signer le chef-d'oeuvre \"Indiana Jones et la dernière croisade\".\n"
     ]
    }
   ],
   "source": [
    "print(\"Un bon film d'aventure familial, porté par l'énergie et le charisme de Belmondo.\\nL'humour y est très présent, en tournant en dérision toute la bêtise de l'idéologie nazi.\\nIl y a aussi d’impressionnantes séquences d'action; dont une (les héros pourchassés par des nazis sur des motos) que Steven Spielberg a peut-être vu avant de signer le chef-d'oeuvre \\\"Indiana Jones et la dernière croisade\\\".\")"
   ]
  },
  {
   "cell_type": "code",
   "execution_count": null,
   "metadata": {},
   "outputs": [],
   "source": []
  }
 ],
 "metadata": {
  "kernelspec": {
   "display_name": "Python 3",
   "language": "python",
   "name": "python3"
  },
  "language_info": {
   "codemirror_mode": {
    "name": "ipython",
    "version": 3
   },
   "file_extension": ".py",
   "mimetype": "text/x-python",
   "name": "python",
   "nbconvert_exporter": "python",
   "pygments_lexer": "ipython3",
   "version": "3.7.5"
  }
 },
 "nbformat": 4,
 "nbformat_minor": 4
}
