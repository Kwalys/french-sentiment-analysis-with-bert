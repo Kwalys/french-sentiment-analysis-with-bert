{
 "cells": [
  {
   "cell_type": "code",
   "execution_count": 8,
   "metadata": {
    "scrolled": true
   },
   "outputs": [],
   "source": [
    "import pickle\n",
    "from common import AllocineReview"
   ]
  },
  {
   "cell_type": "code",
   "execution_count": null,
   "metadata": {},
   "outputs": [],
   "source": []
  },
  {
   "cell_type": "markdown",
   "metadata": {},
   "source": [
    "# Load pickle files"
   ]
  },
  {
   "cell_type": "code",
   "execution_count": 12,
   "metadata": {},
   "outputs": [],
   "source": [
    "allocine_reviews = {}\n",
    "path = \"pickle/allocine_0_1000.pickle\"\n",
    "\n",
    "# For pickle file in pickle folder :\n",
    "with open(path, 'rb') as handle:\n",
    "    film_reviews = pickle.load(handle)\n",
    "    allocine_reviews.update(film_reviews)"
   ]
  },
  {
   "cell_type": "code",
   "execution_count": 21,
   "metadata": {
    "scrolled": true
   },
   "outputs": [
    {
     "name": "stdout",
     "output_type": "stream",
     "text": [
      "Rating: 5.0 / 5.0, Date: 2006-11-15, Helpful: 2 / Unhelpful: 0\n",
      "+------------------------------------------------------------------------------------------------------+\n",
      "| Et on croit avoir tout vu... C'était sans compter sur MONSIEUR Billy Wilder, qui nous signe un chef  |\n",
      "| d'oeuvre éblouissant, dont le génie de la mise en scène n'a d'égale que le sublime scénario adapté d |\n",
      "| u roman de James Cain. C'est simple, tout est ici parfait, voire plus, Wilder apportant une touche i |\n",
      "| ncroyablement personnelle à ce film noir d'une incroyable intensité, au noir et blanc sublime et ave |\n",
      "| c une musique inoubliable signé par le grand Miklos Rosza. De plus, les dialogues sont impressionnan |\n",
      "| ts de maitrise et de brio, tout comme de nombreux petits détails qui rendent ce film encore plus uni |\n",
      "| que. A noter une interprétation assez impressionnante, avec un Fred MacMurray qui épate, une Barbara |\n",
      "|  Stanwyck fascinante et un immense Edward G. Robinson (pour ce dernier, il faut dire qu'on était hab |\n",
      "| itué.) Le septième art ne s'en aie jamais remis, et ne s'en remettra sans doute jamais. Moi non plus |\n",
      "|                                                 ...                                                  |\n",
      "+------------------------------------------------------------------------------------------------------+\n"
     ]
    }
   ],
   "source": [
    "film_id = 105\n",
    "film_reviews = allocine_reviews[film_id]\n",
    "print(film_reviews[3])"
   ]
  },
  {
   "cell_type": "code",
   "execution_count": null,
   "metadata": {},
   "outputs": [],
   "source": []
  },
  {
   "cell_type": "code",
   "execution_count": null,
   "metadata": {},
   "outputs": [],
   "source": []
  }
 ],
 "metadata": {
  "kernelspec": {
   "display_name": "Python 3",
   "language": "python",
   "name": "python3"
  },
  "language_info": {
   "codemirror_mode": {
    "name": "ipython",
    "version": 3
   },
   "file_extension": ".py",
   "mimetype": "text/x-python",
   "name": "python",
   "nbconvert_exporter": "python",
   "pygments_lexer": "ipython3",
   "version": "3.7.5"
  }
 },
 "nbformat": 4,
 "nbformat_minor": 4
}
