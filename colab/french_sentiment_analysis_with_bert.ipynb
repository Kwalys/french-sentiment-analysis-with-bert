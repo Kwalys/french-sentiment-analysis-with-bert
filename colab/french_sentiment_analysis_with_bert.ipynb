{
  "nbformat": 4,
  "nbformat_minor": 0,
  "metadata": {
    "colab": {
      "name": "french_sentiment_analysis_with_bert.ipynb",
      "provenance": [],
      "collapsed_sections": [],
      "toc_visible": true,
      "authorship_tag": "ABX9TyP1qtSvsFZM9pUGhvo4bNap",
      "include_colab_link": true
    },
    "kernelspec": {
      "name": "python3",
      "display_name": "Python 3"
    },
    "accelerator": "GPU",
    "widgets": {
      "application/vnd.jupyter.widget-state+json": {
        "cb8fdec9c71c4cf2bacac0040b26e567": {
          "model_module": "@jupyter-widgets/controls",
          "model_name": "TextareaModel",
          "state": {
            "_view_name": "TextareaView",
            "style": "IPY_MODEL_0f7ba0053d5243e9bf3ed38fe235fd16",
            "rows": null,
            "_dom_classes": [],
            "description": "",
            "_model_name": "TextareaModel",
            "placeholder": "Type something",
            "_view_module": "@jupyter-widgets/controls",
            "_model_module_version": "1.5.0",
            "value": "Alad'2 est clairement le meilleur film de l'année 2018.",
            "_view_count": null,
            "disabled": false,
            "_view_module_version": "1.5.0",
            "continuous_update": true,
            "description_tooltip": null,
            "_model_module": "@jupyter-widgets/controls",
            "layout": "IPY_MODEL_916d42f9ce7340e3a5d854faaf733b53"
          }
        },
        "0f7ba0053d5243e9bf3ed38fe235fd16": {
          "model_module": "@jupyter-widgets/controls",
          "model_name": "DescriptionStyleModel",
          "state": {
            "_view_name": "StyleView",
            "_model_name": "DescriptionStyleModel",
            "description_width": "",
            "_view_module": "@jupyter-widgets/base",
            "_model_module_version": "1.5.0",
            "_view_count": null,
            "_view_module_version": "1.2.0",
            "_model_module": "@jupyter-widgets/controls"
          }
        },
        "916d42f9ce7340e3a5d854faaf733b53": {
          "model_module": "@jupyter-widgets/base",
          "model_name": "LayoutModel",
          "state": {
            "_view_name": "LayoutView",
            "grid_template_rows": null,
            "right": null,
            "justify_content": null,
            "_view_module": "@jupyter-widgets/base",
            "overflow": null,
            "_model_module_version": "1.2.0",
            "_view_count": null,
            "flex_flow": null,
            "width": null,
            "min_width": null,
            "border": null,
            "align_items": null,
            "bottom": null,
            "_model_module": "@jupyter-widgets/base",
            "top": null,
            "grid_column": null,
            "overflow_y": null,
            "overflow_x": null,
            "grid_auto_flow": null,
            "grid_area": null,
            "grid_template_columns": null,
            "flex": null,
            "_model_name": "LayoutModel",
            "justify_items": null,
            "grid_row": null,
            "max_height": null,
            "align_content": null,
            "visibility": null,
            "align_self": null,
            "height": null,
            "min_height": null,
            "padding": null,
            "grid_auto_rows": null,
            "grid_gap": null,
            "max_width": null,
            "order": null,
            "_view_module_version": "1.2.0",
            "grid_template_areas": null,
            "object_position": null,
            "object_fit": null,
            "grid_auto_columns": null,
            "margin": null,
            "display": null,
            "left": null
          }
        },
        "d6d0724aa64849098785c02e84b0f9e5": {
          "model_module": "@jupyter-widgets/controls",
          "model_name": "ButtonModel",
          "state": {
            "_view_name": "ButtonView",
            "style": "IPY_MODEL_a90dfab3d92c404c8020a6a2737627d8",
            "_dom_classes": [],
            "description": "CLASSIFY !",
            "_model_name": "ButtonModel",
            "button_style": "success",
            "_view_module": "@jupyter-widgets/controls",
            "_model_module_version": "1.5.0",
            "tooltip": "",
            "_view_count": null,
            "disabled": false,
            "_view_module_version": "1.5.0",
            "layout": "IPY_MODEL_51e545de48a9465bb0957f69fd0608d5",
            "_model_module": "@jupyter-widgets/controls",
            "icon": ""
          }
        },
        "a90dfab3d92c404c8020a6a2737627d8": {
          "model_module": "@jupyter-widgets/controls",
          "model_name": "ButtonStyleModel",
          "state": {
            "_view_name": "StyleView",
            "_model_name": "ButtonStyleModel",
            "_view_module": "@jupyter-widgets/base",
            "_model_module_version": "1.5.0",
            "_view_count": null,
            "button_color": null,
            "font_weight": "",
            "_view_module_version": "1.2.0",
            "_model_module": "@jupyter-widgets/controls"
          }
        },
        "51e545de48a9465bb0957f69fd0608d5": {
          "model_module": "@jupyter-widgets/base",
          "model_name": "LayoutModel",
          "state": {
            "_view_name": "LayoutView",
            "grid_template_rows": null,
            "right": null,
            "justify_content": null,
            "_view_module": "@jupyter-widgets/base",
            "overflow": null,
            "_model_module_version": "1.2.0",
            "_view_count": null,
            "flex_flow": null,
            "width": null,
            "min_width": null,
            "border": null,
            "align_items": null,
            "bottom": null,
            "_model_module": "@jupyter-widgets/base",
            "top": null,
            "grid_column": null,
            "overflow_y": null,
            "overflow_x": null,
            "grid_auto_flow": null,
            "grid_area": null,
            "grid_template_columns": null,
            "flex": null,
            "_model_name": "LayoutModel",
            "justify_items": null,
            "grid_row": null,
            "max_height": null,
            "align_content": null,
            "visibility": null,
            "align_self": null,
            "height": null,
            "min_height": null,
            "padding": null,
            "grid_auto_rows": null,
            "grid_gap": null,
            "max_width": null,
            "order": null,
            "_view_module_version": "1.2.0",
            "grid_template_areas": null,
            "object_position": null,
            "object_fit": null,
            "grid_auto_columns": null,
            "margin": null,
            "display": null,
            "left": null
          }
        },
        "5c84a2eeddca4c1aa22aa7b5b7b0f2f6": {
          "model_module": "@jupyter-widgets/output",
          "model_name": "OutputModel",
          "state": {
            "_view_name": "OutputView",
            "msg_id": "",
            "_dom_classes": [],
            "_model_name": "OutputModel",
            "outputs": [
              {
                "output_type": "stream",
                "metadata": {
                  "tags": []
                },
                "text": "\u001b[1m\u001b[92mPOSITIVE: \u001b[0m\"Alad'2 est clairement le meilleur film de l'année \"\n",
                "stream": "stdout"
              }
            ],
            "_view_module": "@jupyter-widgets/output",
            "_model_module_version": "1.0.0",
            "_view_count": null,
            "_view_module_version": "1.0.0",
            "layout": "IPY_MODEL_ce88ca7b320641cba199097ae233c4be",
            "_model_module": "@jupyter-widgets/output"
          }
        },
        "ce88ca7b320641cba199097ae233c4be": {
          "model_module": "@jupyter-widgets/base",
          "model_name": "LayoutModel",
          "state": {
            "_view_name": "LayoutView",
            "grid_template_rows": null,
            "right": null,
            "justify_content": null,
            "_view_module": "@jupyter-widgets/base",
            "overflow": null,
            "_model_module_version": "1.2.0",
            "_view_count": null,
            "flex_flow": null,
            "width": null,
            "min_width": null,
            "border": null,
            "align_items": null,
            "bottom": null,
            "_model_module": "@jupyter-widgets/base",
            "top": null,
            "grid_column": null,
            "overflow_y": null,
            "overflow_x": null,
            "grid_auto_flow": null,
            "grid_area": null,
            "grid_template_columns": null,
            "flex": null,
            "_model_name": "LayoutModel",
            "justify_items": null,
            "grid_row": null,
            "max_height": null,
            "align_content": null,
            "visibility": null,
            "align_self": null,
            "height": null,
            "min_height": null,
            "padding": null,
            "grid_auto_rows": null,
            "grid_gap": null,
            "max_width": null,
            "order": null,
            "_view_module_version": "1.2.0",
            "grid_template_areas": null,
            "object_position": null,
            "object_fit": null,
            "grid_auto_columns": null,
            "margin": null,
            "display": null,
            "left": null
          }
        }
      }
    }
  },
  "cells": [
    {
      "cell_type": "markdown",
      "metadata": {
        "id": "view-in-github",
        "colab_type": "text"
      },
      "source": [
        "<a href=\"https://colab.research.google.com/github/TheophileBlard/french-sentiment-analysis-with-bert/blob/master/colab/french_sentiment_analysis_with_bert.ipynb\" target=\"_parent\"><img src=\"https://colab.research.google.com/assets/colab-badge.svg\" alt=\"Open In Colab\"/></a>"
      ]
    },
    {
      "cell_type": "markdown",
      "metadata": {
        "id": "IzJHPr6hMxkh",
        "colab_type": "text"
      },
      "source": [
        "# French sentiment analysis with BERT"
      ]
    },
    {
      "cell_type": "markdown",
      "metadata": {
        "id": "LgcbWwWNcx7_",
        "colab_type": "text"
      },
      "source": [
        "This notebook acts as an online demo for [this repository](https://github.com/TheophileBlard/french-sentiment-analysis-with-bert).\n",
        "\n",
        "With this notebook, you can perform inference on your own sentences. \n",
        "You cannot train the model, to do so, please clone the repo.\n",
        "\n",
        "*This is still experimental, so let me know if something doesn't work !*\n",
        "\n",
        "**Author**: Théophile Blard ([LinkedIn](https://www.linkedin.com/in/theophile-blard))"
      ]
    },
    {
      "cell_type": "markdown",
      "metadata": {
        "id": "PgJzc0x_bR1s",
        "colab_type": "text"
      },
      "source": [
        "## Preliminary steps"
      ]
    },
    {
      "cell_type": "markdown",
      "metadata": {
        "id": "D28UMLlXenmJ",
        "colab_type": "text"
      },
      "source": [
        "*Please run these cells, otherwise inference won't work.*"
      ]
    },
    {
      "cell_type": "code",
      "metadata": {
        "id": "FX1A2G_6XdmR",
        "colab_type": "code",
        "colab": {}
      },
      "source": [
        "!pip install transformers>=3.0.0\n",
        "\n",
        "import tensorflow as tf\n",
        "assert tf.__version__ >= \"2.0\""
      ],
      "execution_count": 10,
      "outputs": []
    },
    {
      "cell_type": "code",
      "metadata": {
        "id": "UAArDthAXdos",
        "colab_type": "code",
        "colab": {
          "base_uri": "https://localhost:8080/",
          "height": 106
        },
        "outputId": "568f81f0-ecb6-458a-cea7-bcc71833b1c8"
      },
      "source": [
        "from transformers import AutoTokenizer, TFAutoModelForSequenceClassification\n",
        "from transformers import pipeline\n",
        "\n",
        "tokenizer = AutoTokenizer.from_pretrained(\"tblard/tf-allocine\")\n",
        "#model = TFAutoModelForSequenceClassification.from_pretrained(\"tblard/tf-allocine\")\n",
        "\n",
        "#https://github.com/huggingface/transformers/issues/5473\n",
        "from transformers import TFCamembertForSequenceClassification\n",
        "model = TFCamembertForSequenceClassification.from_pretrained(\"tblard/tf-allocine\")\n",
        "\n",
        "nlp = pipeline('sentiment-analysis', model=model, tokenizer=tokenizer)"
      ],
      "execution_count": 11,
      "outputs": [
        {
          "output_type": "stream",
          "text": [
            "All model checkpoint weights were used when initializing TFCamembertForSequenceClassification.\n",
            "\n",
            "All the weights of TFCamembertForSequenceClassification were initialized from the model checkpoint at tblard/tf-allocine.\n",
            "If your task is similar to the task the model of the ckeckpoint was trained on, you can already use TFCamembertForSequenceClassification for predictions without further training.\n"
          ],
          "name": "stderr"
        }
      ]
    },
    {
      "cell_type": "markdown",
      "metadata": {
        "id": "lWzvfqfmQRWS",
        "colab_type": "text"
      },
      "source": [
        "## Inference"
      ]
    },
    {
      "cell_type": "markdown",
      "metadata": {
        "id": "FUPHng9te9zQ",
        "colab_type": "text"
      },
      "source": [
        "Here, you can enter your own sentences, and click on the \"CLASSIFY!\" button to feed BERT with your input. You can expand the text area by dragging the bottom right corner.\n",
        "\n",
        "*Please run this cell, or nothing will happen. You don't have to click on SHOW CODE*."
      ]
    },
    {
      "cell_type": "code",
      "metadata": {
        "id": "CcpYSPxFSjoa",
        "colab_type": "code",
        "cellView": "form",
        "colab": {
          "base_uri": "https://localhost:8080/",
          "height": 134,
          "referenced_widgets": [
            "cb8fdec9c71c4cf2bacac0040b26e567",
            "0f7ba0053d5243e9bf3ed38fe235fd16",
            "916d42f9ce7340e3a5d854faaf733b53",
            "d6d0724aa64849098785c02e84b0f9e5",
            "a90dfab3d92c404c8020a6a2737627d8",
            "51e545de48a9465bb0957f69fd0608d5",
            "5c84a2eeddca4c1aa22aa7b5b7b0f2f6",
            "ce88ca7b320641cba199097ae233c4be"
          ]
        },
        "outputId": "2499c4b6-321c-4dd9-88b1-5f737432151c"
      },
      "source": [
        "#@title\n",
        "import ipywidgets as widgets\n",
        "from IPython.display import display\n",
        "\n",
        "class Color:   \n",
        "   GREEN = '\\033[92m'\n",
        "   RED = '\\033[91m'\n",
        "   BOLD = '\\033[1m'   \n",
        "   END = '\\033[0m'\n",
        "\n",
        "button = widgets.Button(\n",
        "    description='CLASSIFY !',\n",
        "    button_style='success'\n",
        "  )\n",
        "\n",
        "text_area = widgets.Textarea(\n",
        "    value='',\n",
        "    placeholder='Type something',\n",
        "    description='',\n",
        "    disabled=False\n",
        ")\n",
        "output = widgets.Output()\n",
        "\n",
        "def on_button_clicked(b):\n",
        "  text = text_area.value\n",
        "  result = nlp(text)\n",
        "  prediction = result[0][\"label\"]\n",
        "\n",
        "  if prediction == \"POSITIVE\":    \n",
        "    color = Color.GREEN    \n",
        "  else:\n",
        "    color = Color.RED\n",
        "\n",
        "  with output:    \n",
        "    print(Color.BOLD + color + f'{prediction}: ' + Color.END + f'\"{text[:50]}\"')\n",
        "\n",
        "button.on_click(on_button_clicked)\n",
        "display(text_area, button, output)"
      ],
      "execution_count": 12,
      "outputs": [
        {
          "output_type": "display_data",
          "data": {
            "application/vnd.jupyter.widget-view+json": {
              "model_id": "cb8fdec9c71c4cf2bacac0040b26e567",
              "version_minor": 0,
              "version_major": 2
            },
            "text/plain": [
              "Textarea(value='', placeholder='Type something')"
            ]
          },
          "metadata": {
            "tags": []
          }
        },
        {
          "output_type": "display_data",
          "data": {
            "application/vnd.jupyter.widget-view+json": {
              "model_id": "d6d0724aa64849098785c02e84b0f9e5",
              "version_minor": 0,
              "version_major": 2
            },
            "text/plain": [
              "Button(button_style='success', description='CLASSIFY !', style=ButtonStyle())"
            ]
          },
          "metadata": {
            "tags": []
          }
        },
        {
          "output_type": "display_data",
          "data": {
            "application/vnd.jupyter.widget-view+json": {
              "model_id": "5c84a2eeddca4c1aa22aa7b5b7b0f2f6",
              "version_minor": 0,
              "version_major": 2
            },
            "text/plain": [
              "Output()"
            ]
          },
          "metadata": {
            "tags": []
          }
        }
      ]
    }
  ]
}