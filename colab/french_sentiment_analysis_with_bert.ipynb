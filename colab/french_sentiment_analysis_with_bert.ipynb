{
  "nbformat": 4,
  "nbformat_minor": 0,
  "metadata": {
    "colab": {
      "name": "french_sentiment_analysis_with_bert.ipynb",
      "provenance": [],
      "collapsed_sections": [],
      "toc_visible": true,
      "authorship_tag": "ABX9TyNmngTjC+Rb1Qn1GDqbgWJj",
      "include_colab_link": true
    },
    "kernelspec": {
      "name": "python3",
      "display_name": "Python 3"
    },
    "accelerator": "GPU",
    "widgets": {
      "application/vnd.jupyter.widget-state+json": {
        "2b7c550a93934949a71f9473e39e9d87": {
          "model_module": "@jupyter-widgets/controls",
          "model_name": "TextareaModel",
          "state": {
            "_view_name": "TextareaView",
            "style": "IPY_MODEL_0ff11fc955c044c99511a907d86aa3da",
            "rows": null,
            "_dom_classes": [],
            "description": "",
            "_model_name": "TextareaModel",
            "placeholder": "Type something",
            "_view_module": "@jupyter-widgets/controls",
            "_model_module_version": "1.5.0",
            "value": "Pour apprécier le film il faut ne jamais avoir jouer au jeux Sonic. Cette adaptation est totalement infidèle et mal écrite. Ce film aurait du sortir 20 ans en arrière. ",
            "_view_count": null,
            "disabled": false,
            "_view_module_version": "1.5.0",
            "continuous_update": true,
            "description_tooltip": null,
            "_model_module": "@jupyter-widgets/controls",
            "layout": "IPY_MODEL_8bd6ecc254b041da8a156b9b5bdb8222"
          }
        },
        "0ff11fc955c044c99511a907d86aa3da": {
          "model_module": "@jupyter-widgets/controls",
          "model_name": "DescriptionStyleModel",
          "state": {
            "_view_name": "StyleView",
            "_model_name": "DescriptionStyleModel",
            "description_width": "",
            "_view_module": "@jupyter-widgets/base",
            "_model_module_version": "1.5.0",
            "_view_count": null,
            "_view_module_version": "1.2.0",
            "_model_module": "@jupyter-widgets/controls"
          }
        },
        "8bd6ecc254b041da8a156b9b5bdb8222": {
          "model_module": "@jupyter-widgets/base",
          "model_name": "LayoutModel",
          "state": {
            "_view_name": "LayoutView",
            "grid_template_rows": null,
            "right": null,
            "justify_content": null,
            "_view_module": "@jupyter-widgets/base",
            "overflow": null,
            "_model_module_version": "1.2.0",
            "_view_count": null,
            "flex_flow": null,
            "width": null,
            "min_width": null,
            "border": null,
            "align_items": null,
            "bottom": null,
            "_model_module": "@jupyter-widgets/base",
            "top": null,
            "grid_column": null,
            "overflow_y": null,
            "overflow_x": null,
            "grid_auto_flow": null,
            "grid_area": null,
            "grid_template_columns": null,
            "flex": null,
            "_model_name": "LayoutModel",
            "justify_items": null,
            "grid_row": null,
            "max_height": null,
            "align_content": null,
            "visibility": null,
            "align_self": null,
            "height": null,
            "min_height": null,
            "padding": null,
            "grid_auto_rows": null,
            "grid_gap": null,
            "max_width": null,
            "order": null,
            "_view_module_version": "1.2.0",
            "grid_template_areas": null,
            "object_position": null,
            "object_fit": null,
            "grid_auto_columns": null,
            "margin": null,
            "display": null,
            "left": null
          }
        },
        "44e0ba93dd6546c188a3646e0771f738": {
          "model_module": "@jupyter-widgets/controls",
          "model_name": "ButtonModel",
          "state": {
            "_view_name": "ButtonView",
            "style": "IPY_MODEL_cd6e3d559dc040a692e363f4d3cd1a98",
            "_dom_classes": [],
            "description": "CLASSIFY !",
            "_model_name": "ButtonModel",
            "button_style": "success",
            "_view_module": "@jupyter-widgets/controls",
            "_model_module_version": "1.5.0",
            "tooltip": "",
            "_view_count": null,
            "disabled": false,
            "_view_module_version": "1.5.0",
            "layout": "IPY_MODEL_0833a1c43d20471ea9a509ccbda28385",
            "_model_module": "@jupyter-widgets/controls",
            "icon": ""
          }
        },
        "cd6e3d559dc040a692e363f4d3cd1a98": {
          "model_module": "@jupyter-widgets/controls",
          "model_name": "ButtonStyleModel",
          "state": {
            "_view_name": "StyleView",
            "_model_name": "ButtonStyleModel",
            "_view_module": "@jupyter-widgets/base",
            "_model_module_version": "1.5.0",
            "_view_count": null,
            "button_color": null,
            "font_weight": "",
            "_view_module_version": "1.2.0",
            "_model_module": "@jupyter-widgets/controls"
          }
        },
        "0833a1c43d20471ea9a509ccbda28385": {
          "model_module": "@jupyter-widgets/base",
          "model_name": "LayoutModel",
          "state": {
            "_view_name": "LayoutView",
            "grid_template_rows": null,
            "right": null,
            "justify_content": null,
            "_view_module": "@jupyter-widgets/base",
            "overflow": null,
            "_model_module_version": "1.2.0",
            "_view_count": null,
            "flex_flow": null,
            "width": null,
            "min_width": null,
            "border": null,
            "align_items": null,
            "bottom": null,
            "_model_module": "@jupyter-widgets/base",
            "top": null,
            "grid_column": null,
            "overflow_y": null,
            "overflow_x": null,
            "grid_auto_flow": null,
            "grid_area": null,
            "grid_template_columns": null,
            "flex": null,
            "_model_name": "LayoutModel",
            "justify_items": null,
            "grid_row": null,
            "max_height": null,
            "align_content": null,
            "visibility": null,
            "align_self": null,
            "height": null,
            "min_height": null,
            "padding": null,
            "grid_auto_rows": null,
            "grid_gap": null,
            "max_width": null,
            "order": null,
            "_view_module_version": "1.2.0",
            "grid_template_areas": null,
            "object_position": null,
            "object_fit": null,
            "grid_auto_columns": null,
            "margin": null,
            "display": null,
            "left": null
          }
        },
        "dfd74ad7819c41fb91f9578f78bbc4d8": {
          "model_module": "@jupyter-widgets/output",
          "model_name": "OutputModel",
          "state": {
            "_view_name": "OutputView",
            "msg_id": "",
            "_dom_classes": [],
            "_model_name": "OutputModel",
            "outputs": [
              {
                "output_type": "stream",
                "metadata": {
                  "tags": []
                },
                "text": "\u001b[1m\u001b[92mPositive: \u001b[0m\"Très bon film surtout pour les enfants. Le jeu d'a\"\n",
                "stream": "stdout"
              },
              {
                "output_type": "stream",
                "metadata": {
                  "tags": []
                },
                "text": "\u001b[1m\u001b[91mNegative: \u001b[0m\"Pour apprécier le film il faut ne jamais avoir jou\"\n",
                "stream": "stdout"
              }
            ],
            "_view_module": "@jupyter-widgets/output",
            "_model_module_version": "1.0.0",
            "_view_count": null,
            "_view_module_version": "1.0.0",
            "layout": "IPY_MODEL_d4186e8f278446be89319ed4038dc366",
            "_model_module": "@jupyter-widgets/output"
          }
        }
      }
    }
  },
  "cells": [
    {
      "cell_type": "markdown",
      "metadata": {
        "id": "view-in-github",
        "colab_type": "text"
      },
      "source": [
        "<a href=\"https://colab.research.google.com/github/TheophileBlard/french-sentiment-analysis-with-bert/blob/master/colab/french_sentiment_analysis_with_bert.ipynb\" target=\"_parent\"><img src=\"https://colab.research.google.com/assets/colab-badge.svg\" alt=\"Open In Colab\"/></a>"
      ]
    },
    {
      "cell_type": "markdown",
      "metadata": {
        "id": "IzJHPr6hMxkh",
        "colab_type": "text"
      },
      "source": [
        "# French sentiment analysis with BERT"
      ]
    },
    {
      "cell_type": "markdown",
      "metadata": {
        "id": "LgcbWwWNcx7_",
        "colab_type": "text"
      },
      "source": [
        "This notebook acts as an online demo for [this repository](https://github.com/TheophileBlard/french-sentiment-analysis-with-bert).\n",
        "\n",
        "With this notebook, you can perform inference on your own sentences. \n",
        "You cannot train the model, to do so, please clone the repo.\n",
        "\n",
        "*This is still experimental, so let me know if something doesn't work !*\n",
        "\n",
        "**Author**: Théophile Blard ([LinkedIn](https://www.linkedin.com/in/theophile-blard))"
      ]
    },
    {
      "cell_type": "markdown",
      "metadata": {
        "id": "PgJzc0x_bR1s",
        "colab_type": "text"
      },
      "source": [
        "## Loading data and librairies"
      ]
    },
    {
      "cell_type": "markdown",
      "metadata": {
        "id": "D28UMLlXenmJ",
        "colab_type": "text"
      },
      "source": [
        "Loads the model (> 400 mB) from Google Drive.\n",
        "\n",
        "*Please run these cells, otherwise inference won't work.*"
      ]
    },
    {
      "cell_type": "code",
      "metadata": {
        "id": "kpcVD7E08pLX",
        "colab_type": "code",
        "colab": {
          "base_uri": "https://localhost:8080/",
          "height": 312
        },
        "outputId": "436543c5-0aa2-4b9e-d4fe-586420506115"
      },
      "source": [
        "!sudo wget -O /usr/sbin/gdrivedl 'https://f.mjh.nz/gdrivedl'\n",
        "!sudo chmod +x /usr/sbin/gdrivedl\n",
        "!gdrivedl https://drive.google.com/open?id=1GL0zdThuAECX6zo1rA_ExKha1CPu1h_h camembert_sentiment.tar.xz\n",
        "!tar xf camembert_sentiment.tar.xz"
      ],
      "execution_count": 1,
      "outputs": [
        {
          "output_type": "stream",
          "text": [
            "--2020-03-28 18:56:39--  https://f.mjh.nz/gdrivedl\n",
            "Resolving f.mjh.nz (f.mjh.nz)... 104.28.30.233, 104.28.31.233, 2606:4700:3030::681c:1fe9, ...\n",
            "Connecting to f.mjh.nz (f.mjh.nz)|104.28.30.233|:443... connected.\n",
            "HTTP request sent, awaiting response... 200 OK\n",
            "Length: 1362 (1.3K) [application/octet-stream]\n",
            "Saving to: ‘/usr/sbin/gdrivedl’\n",
            "\n",
            "\r/usr/sbin/gdrivedl    0%[                    ]       0  --.-KB/s               \r/usr/sbin/gdrivedl  100%[===================>]   1.33K  --.-KB/s    in 0s      \n",
            "\n",
            "2020-03-28 18:56:39 (17.8 MB/s) - ‘/usr/sbin/gdrivedl’ saved [1362/1362]\n",
            "\n",
            "File ID: 1GL0zdThuAECX6zo1rA_ExKha1CPu1h_h\n",
            "Downloading: https://docs.google.com/uc?export=download&id=1GL0zdThuAECX6zo1rA_ExKha1CPu1h_h > camembert_sentiment.tar.xz.2083.file\n",
            "Downloading: https://docs.google.com/uc?export=download&id=1GL0zdThuAECX6zo1rA_ExKha1CPu1h_h&confirm=vR98 > camembert_sentiment.tar.xz.2083.file\n",
            "Moving: camembert_sentiment.tar.xz.2083.file > camembert_sentiment.tar.xz\n",
            "Saved: camembert_sentiment.tar.xz\n",
            "DONE!\n"
          ],
          "name": "stdout"
        }
      ]
    },
    {
      "cell_type": "code",
      "metadata": {
        "id": "0M9fZn7AGR3c",
        "colab_type": "code",
        "colab": {
          "base_uri": "https://localhost:8080/",
          "height": 399
        },
        "outputId": "6d0f5e02-8fc0-4977-e4cd-b0ce56faabd0"
      },
      "source": [
        "!pip install transformers\n",
        "\n",
        "import tensorflow as tf\n",
        "assert tf.__version__ >= \"2.0\""
      ],
      "execution_count": 2,
      "outputs": [
        {
          "output_type": "stream",
          "text": [
            "Requirement already satisfied: transformers in /usr/local/lib/python3.6/dist-packages (2.6.0)\n",
            "Requirement already satisfied: sacremoses in /usr/local/lib/python3.6/dist-packages (from transformers) (0.0.38)\n",
            "Requirement already satisfied: sentencepiece in /usr/local/lib/python3.6/dist-packages (from transformers) (0.1.85)\n",
            "Requirement already satisfied: requests in /usr/local/lib/python3.6/dist-packages (from transformers) (2.21.0)\n",
            "Requirement already satisfied: tokenizers==0.5.2 in /usr/local/lib/python3.6/dist-packages (from transformers) (0.5.2)\n",
            "Requirement already satisfied: boto3 in /usr/local/lib/python3.6/dist-packages (from transformers) (1.12.27)\n",
            "Requirement already satisfied: filelock in /usr/local/lib/python3.6/dist-packages (from transformers) (3.0.12)\n",
            "Requirement already satisfied: numpy in /usr/local/lib/python3.6/dist-packages (from transformers) (1.18.2)\n",
            "Requirement already satisfied: regex!=2019.12.17 in /usr/local/lib/python3.6/dist-packages (from transformers) (2019.12.20)\n",
            "Requirement already satisfied: tqdm>=4.27 in /usr/local/lib/python3.6/dist-packages (from transformers) (4.38.0)\n",
            "Requirement already satisfied: joblib in /usr/local/lib/python3.6/dist-packages (from sacremoses->transformers) (0.14.1)\n",
            "Requirement already satisfied: click in /usr/local/lib/python3.6/dist-packages (from sacremoses->transformers) (7.1.1)\n",
            "Requirement already satisfied: six in /usr/local/lib/python3.6/dist-packages (from sacremoses->transformers) (1.12.0)\n",
            "Requirement already satisfied: idna<2.9,>=2.5 in /usr/local/lib/python3.6/dist-packages (from requests->transformers) (2.8)\n",
            "Requirement already satisfied: chardet<3.1.0,>=3.0.2 in /usr/local/lib/python3.6/dist-packages (from requests->transformers) (3.0.4)\n",
            "Requirement already satisfied: urllib3<1.25,>=1.21.1 in /usr/local/lib/python3.6/dist-packages (from requests->transformers) (1.24.3)\n",
            "Requirement already satisfied: certifi>=2017.4.17 in /usr/local/lib/python3.6/dist-packages (from requests->transformers) (2019.11.28)\n",
            "Requirement already satisfied: botocore<1.16.0,>=1.15.27 in /usr/local/lib/python3.6/dist-packages (from boto3->transformers) (1.15.27)\n",
            "Requirement already satisfied: s3transfer<0.4.0,>=0.3.0 in /usr/local/lib/python3.6/dist-packages (from boto3->transformers) (0.3.3)\n",
            "Requirement already satisfied: jmespath<1.0.0,>=0.7.1 in /usr/local/lib/python3.6/dist-packages (from boto3->transformers) (0.9.5)\n",
            "Requirement already satisfied: python-dateutil<3.0.0,>=2.1 in /usr/local/lib/python3.6/dist-packages (from botocore<1.16.0,>=1.15.27->boto3->transformers) (2.8.1)\n",
            "Requirement already satisfied: docutils<0.16,>=0.10 in /usr/local/lib/python3.6/dist-packages (from botocore<1.16.0,>=1.15.27->boto3->transformers) (0.15.2)\n"
          ],
          "name": "stdout"
        }
      ]
    },
    {
      "cell_type": "markdown",
      "metadata": {
        "id": "WekUkmfONgno",
        "colab_type": "text"
      },
      "source": [
        " ## Preprocessing functions\n"
      ]
    },
    {
      "cell_type": "markdown",
      "metadata": {
        "id": "FD1lS-mBeyGQ",
        "colab_type": "text"
      },
      "source": [
        "*Please run this cell, otherwise inference won't work.*"
      ]
    },
    {
      "cell_type": "code",
      "metadata": {
        "id": "NQglHDFT-6Ew",
        "colab_type": "code",
        "colab": {},
        "cellView": "both"
      },
      "source": [
        "import numpy as np\n",
        "from sklearn.base import BaseEstimator, TransformerMixin\n",
        "from transformers import CamembertTokenizer, TFCamembertForSequenceClassification\n",
        "\n",
        "class InferencePreprocessor(BaseEstimator, TransformerMixin):\n",
        "    def __init__(self, tokenizer, max_seq_length):\n",
        "        self.tokenizer = tokenizer\n",
        "        self.max_seq_length = max_seq_length\n",
        "\n",
        "    def fit(self, X=None):\n",
        "        pass\n",
        "    \n",
        "    def transform(self, X):\n",
        "        # 1. Tokenize\n",
        "        X_encoded = encode_reviews(self.tokenizer, X, self.max_seq_length)\n",
        "        # 2. Labels\n",
        "        #y_array = np.array(y)\n",
        "        return X_encoded\n",
        "    \n",
        "    def fit_transform(self, X):        \n",
        "        return self.transform(X)\n",
        "\n",
        "def encode_reviews(tokenizer, reviews, max_length):\n",
        "    token_ids = np.zeros(shape=(len(reviews), max_length),\n",
        "                         dtype=np.int32)\n",
        "    for i, review in enumerate(reviews):\n",
        "        encoded = tokenizer.encode(review, max_length=max_length)\n",
        "        token_ids[i, 0:len(encoded)] = encoded\n",
        "    attention_mask = (token_ids != 0).astype(np.int32)\n",
        "    return {\"input_ids\": token_ids, \"attention_mask\": attention_mask}\n",
        "\n",
        "  \n",
        "TOKENIZER = \"camembert-base\"\n",
        "MODEL = \"camembert_sentiment\"\n",
        "MAX_SEQ_LEN = 400\n",
        "\n",
        "tokenizer = CamembertTokenizer.from_pretrained(TOKENIZER)\n",
        "preprocessor = InferencePreprocessor(tokenizer, MAX_SEQ_LEN)\n",
        "model = TFCamembertForSequenceClassification.from_pretrained(MODEL)"
      ],
      "execution_count": 0,
      "outputs": []
    },
    {
      "cell_type": "markdown",
      "metadata": {
        "id": "lWzvfqfmQRWS",
        "colab_type": "text"
      },
      "source": [
        "## Inference"
      ]
    },
    {
      "cell_type": "markdown",
      "metadata": {
        "id": "FUPHng9te9zQ",
        "colab_type": "text"
      },
      "source": [
        "Here, you can enter your own sentences, and click on the \"CLASSIFY!\" button to feed BERT with your input. You can expand the text area by dragging the bottom right corner.\n",
        "\n",
        "*Please run this cell, or nothing will happen. You don't have to click on SHOW CODE*."
      ]
    },
    {
      "cell_type": "code",
      "metadata": {
        "id": "CcpYSPxFSjoa",
        "colab_type": "code",
        "colab": {
          "base_uri": "https://localhost:8080/",
          "height": 293,
          "referenced_widgets": [
            "2b7c550a93934949a71f9473e39e9d87",
            "0ff11fc955c044c99511a907d86aa3da",
            "8bd6ecc254b041da8a156b9b5bdb8222",
            "44e0ba93dd6546c188a3646e0771f738",
            "cd6e3d559dc040a692e363f4d3cd1a98",
            "0833a1c43d20471ea9a509ccbda28385",
            "dfd74ad7819c41fb91f9578f78bbc4d8"
          ]
        },
        "cellView": "form",
        "outputId": "c1c57067-16be-483f-81f1-4dd0b509c7e3"
      },
      "source": [
        "#@title\n",
        "import ipywidgets as widgets\n",
        "from IPython.display import display\n",
        "\n",
        "class Color:\n",
        "   PURPLE = '\\033[95m'\n",
        "   CYAN = '\\033[96m'\n",
        "   DARKCYAN = '\\033[36m'\n",
        "   BLUE = '\\033[94m'\n",
        "   GREEN = '\\033[92m'\n",
        "   YELLOW = '\\033[93m'\n",
        "   RED = '\\033[91m'\n",
        "   BOLD = '\\033[1m'\n",
        "   UNDERLINE = '\\033[4m'\n",
        "   END = '\\033[0m'\n",
        "\n",
        "button = widgets.Button(\n",
        "    description='CLASSIFY !',\n",
        "    button_style='success'\n",
        "  )\n",
        "\n",
        "text_area = widgets.Textarea(\n",
        "    value='',\n",
        "    placeholder='Type something',\n",
        "    description='',\n",
        "    disabled=False\n",
        ")\n",
        "output = widgets.Output()\n",
        "\n",
        "def on_button_clicked(b):\n",
        "  text = text_area.value\n",
        "  X = preprocessor.transform([text])\n",
        "  scores = model.predict(X)\n",
        "  y_pred = np.argmax(scores[0], axis=1)\n",
        "\n",
        "  if y_pred == 1:\n",
        "    prediction = \"Positive\"\n",
        "    color = Color.GREEN    \n",
        "  else:    \n",
        "    prediction = \"Negative\" \n",
        "    color = Color.RED\n",
        "\n",
        "  with output:    \n",
        "    print(Color.BOLD + color + f'{prediction}: ' + Color.END + f'\"{text[:50]}\"')\n",
        "\n",
        "button.on_click(on_button_clicked)\n",
        "display(text_area, button, output)"
      ],
      "execution_count": 4,
      "outputs": [
        {
          "output_type": "display_data",
          "data": {
            "application/vnd.jupyter.widget-view+json": {
              "model_id": "2b7c550a93934949a71f9473e39e9d87",
              "version_minor": 0,
              "version_major": 2
            },
            "text/plain": [
              "Textarea(value='', placeholder='Type something')"
            ]
          },
          "metadata": {
            "tags": []
          }
        },
        {
          "output_type": "display_data",
          "data": {
            "application/vnd.jupyter.widget-view+json": {
              "model_id": "44e0ba93dd6546c188a3646e0771f738",
              "version_minor": 0,
              "version_major": 2
            },
            "text/plain": [
              "Button(button_style='success', description='CLASSIFY !', style=ButtonStyle())"
            ]
          },
          "metadata": {
            "tags": []
          }
        },
        {
          "output_type": "display_data",
          "data": {
            "application/vnd.jupyter.widget-view+json": {
              "model_id": "dfd74ad7819c41fb91f9578f78bbc4d8",
              "version_minor": 0,
              "version_major": 2
            },
            "text/plain": [
              "Output()"
            ]
          },
          "metadata": {
            "tags": []
          }
        }
      ]
    }
  ]
}