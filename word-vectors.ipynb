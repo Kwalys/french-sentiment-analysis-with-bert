{
 "cells": [
  {
   "cell_type": "code",
   "execution_count": 1,
   "metadata": {},
   "outputs": [],
   "source": [
    "import numpy as np\n",
    "import pandas as pd\n",
    "import seaborn as sns\n",
    "import matplotlib.pyplot as plt\n",
    "\n",
    "# better display of review text in dataframes\n",
    "pd.set_option('display.max_colwidth', None) \n",
    "\n",
    "# Seaborn options\n",
    "sns.set(style=\"whitegrid\", font_scale=1.4)"
   ]
  },
  {
   "cell_type": "code",
   "execution_count": 2,
   "metadata": {},
   "outputs": [],
   "source": [
    "import tensorflow as tf\n",
    "assert tf.__version__ >= \"2.0\"\n",
    "\n",
    "from tensorflow import keras"
   ]
  },
  {
   "cell_type": "code",
   "execution_count": 3,
   "metadata": {},
   "outputs": [],
   "source": [
    "physical_devices = tf.config.list_physical_devices('GPU')\n",
    "tf.config.experimental.set_memory_growth(physical_devices[0], enable=True)"
   ]
  },
  {
   "cell_type": "markdown",
   "metadata": {},
   "source": [
    "# Load data"
   ]
  },
  {
   "cell_type": "markdown",
   "metadata": {},
   "source": [
    "## Load dataset"
   ]
  },
  {
   "cell_type": "code",
   "execution_count": 28,
   "metadata": {},
   "outputs": [],
   "source": [
    "import pickle\n",
    "\n",
    "PICKLE_PATH = \"allocine_dataset/data/allocine_dataset.pickle\"\n",
    "\n",
    "with open(PICKLE_PATH, 'rb') as reader:\n",
    "    data = pickle.load(reader)\n",
    "\n",
    "# Reviews need to be tokenized\n",
    "train_reviews = np.array(data[\"train_set\"]['review'])\n",
    "val_reviews = np.array(data[\"val_set\"]['review'])\n",
    "test_reviews = np.array(data[\"test_set\"]['review'])\n",
    "all_reviews = np.concatenate((train_reviews, val_reviews, test_reviews), axis=0)\n",
    "\n",
    "y_train = np.array(data[\"train_set\"]['polarity'])\n",
    "y_val = np.array(data[\"val_set\"]['polarity'])\n",
    "y_test = np.array(data[\"test_set\"]['polarity'])\n",
    "class_names = data['class_names']"
   ]
  },
  {
   "cell_type": "markdown",
   "metadata": {},
   "source": [
    "## Tokenize"
   ]
  },
  {
   "cell_type": "code",
   "execution_count": 5,
   "metadata": {},
   "outputs": [
    {
     "name": "stdout",
     "output_type": "stream",
     "text": [
      "Found 69949 unique tokens.\n"
     ]
    }
   ],
   "source": [
    "MAX_NB_WORDS = 20000\n",
    "\n",
    "tokenizer = tf.keras.preprocessing.text.Tokenizer(\n",
    "    num_words=MAX_NB_WORDS,\n",
    "    oov_token=\"<unk>\",\n",
    "    #filters='!\"#$%&()*+.,-/:;=?@[\\]^_`{|}~ '\n",
    ")\n",
    "tokenizer.fit_on_texts(all_reviews)\n",
    "\n",
    "word_index = tokenizer.word_index\n",
    "print(\"Found {} unique tokens.\".format(len(word_index)))"
   ]
  },
  {
   "cell_type": "code",
   "execution_count": 6,
   "metadata": {},
   "outputs": [],
   "source": [
    "X_train = tokenizer.texts_to_sequences(train_reviews)\n",
    "X_val = tokenizer.texts_to_sequences(val_reviews)\n",
    "X_test = tokenizer.texts_to_sequences(test_reviews)"
   ]
  },
  {
   "cell_type": "code",
   "execution_count": 7,
   "metadata": {},
   "outputs": [
    {
     "data": {
      "text/plain": [
       "[14902, 1125, 322, 32, 1, 8354, 3, 11, 10, 4, 313, 8, 2, 5, 588]"
      ]
     },
     "execution_count": 7,
     "metadata": {},
     "output_type": "execute_result"
    }
   ],
   "source": [
    "X_train[0][:15]"
   ]
  },
  {
   "cell_type": "code",
   "execution_count": 8,
   "metadata": {},
   "outputs": [
    {
     "data": {
      "text/plain": [
       "'ant man réalisé par <unk> reed et qui est le dernier film de la deuxième'"
      ]
     },
     "execution_count": 8,
     "metadata": {},
     "output_type": "execute_result"
    }
   ],
   "source": [
    "index_to_word = dict((i, w) for w, i in tokenizer.word_index.items())\n",
    "\" \".join([index_to_word[i] for i in X_train[0][:15]])"
   ]
  },
  {
   "cell_type": "code",
   "execution_count": 9,
   "metadata": {},
   "outputs": [
    {
     "name": "stdout",
     "output_type": "stream",
     "text": [
      "Average length: 91.4\n",
      "Max length: 364\n"
     ]
    },
    {
     "data": {
      "image/png": "[encoded data removed]",
      "text/plain": [
       "<Figure size 720x360 with 1 Axes>"
      ]
     },
     "metadata": {},
     "output_type": "display_data"
    }
   ],
   "source": [
    "reviews_len = [len(s) for s in X_train+X_val+X_test]\n",
    "print(\"Average length: {:.1f}\".format(np.mean(reviews_len)))\n",
    "print(\"Max length: {}\".format(max(reviews_len)))\n",
    "\n",
    "plt.figure(figsize=(10,5))\n",
    "ax = sns.distplot(reviews_len, bins=150, kde=False, hist_kws=dict(alpha=0.8))\n",
    "ax.set(xlabel='Number of words')\n",
    "\n",
    "# Finalize the plot\n",
    "sns.despine(bottom=True)\n",
    "plt.tight_layout(h_pad=2)\n",
    "\n",
    "# Saving plot\n",
    "fig = ax.get_figure()\n",
    "fig.savefig('img/word-vectors/number_of_words.png', dpi=200)"
   ]
  },
  {
   "cell_type": "code",
   "execution_count": 10,
   "metadata": {},
   "outputs": [
    {
     "data": {
      "text/plain": [
       "0"
      ]
     },
     "execution_count": 10,
     "metadata": {},
     "output_type": "execute_result"
    }
   ],
   "source": [
    "reviews_len.count(0) \n",
    "# Important not to have empty tensors: https://github.com/tensorflow/tensorflow/issues/33148"
   ]
  },
  {
   "cell_type": "markdown",
   "metadata": {},
   "source": [
    "## Padding"
   ]
  },
  {
   "cell_type": "code",
   "execution_count": 11,
   "metadata": {},
   "outputs": [
    {
     "name": "stdout",
     "output_type": "stream",
     "text": [
      "Shape of X_train tensor: (12000, 400)\n",
      "Shape of X_val tensor: (4000, 400)\n",
      "Shape of X_test tensor: (4000, 400)\n"
     ]
    }
   ],
   "source": [
    "MAX_LENGTH_SEQ = 400\n",
    "\n",
    "# pad sequence with 0\n",
    "X_train = tf.keras.preprocessing.sequence.pad_sequences(\n",
    "    X_train, \n",
    "    maxlen=MAX_LENGTH_SEQ,\n",
    "    padding='post'\n",
    ")\n",
    "\n",
    "X_val = tf.keras.preprocessing.sequence.pad_sequences(\n",
    "    X_val, \n",
    "    maxlen=MAX_LENGTH_SEQ,\n",
    "    padding='post'\n",
    ")\n",
    "\n",
    "X_test = tf.keras.preprocessing.sequence.pad_sequences(\n",
    "    X_test, \n",
    "    maxlen=MAX_LENGTH_SEQ,\n",
    "    padding='post'\n",
    ")\n",
    "\n",
    "print('Shape of X_train tensor:', X_train.shape)\n",
    "print('Shape of X_val tensor:', X_val.shape)\n",
    "print('Shape of X_test tensor:', X_test.shape)"
   ]
  },
  {
   "cell_type": "markdown",
   "metadata": {},
   "source": [
    "## Target"
   ]
  },
  {
   "cell_type": "markdown",
   "metadata": {},
   "source": [
    "# Mean embedding"
   ]
  },
  {
   "cell_type": "code",
   "execution_count": 63,
   "metadata": {},
   "outputs": [],
   "source": [
    "from tensorflow import keras\n",
    "from tensorflow.keras import layers\n",
    "\n",
    "EMBEDDING_DIM = 128\n",
    "\n",
    "model = keras.models.Sequential()\n",
    "model.add(layers.Embedding(MAX_NB_WORDS, EMBEDDING_DIM,\n",
    "                           input_shape=[None]),)\n",
    "model.add(layers.GlobalAveragePooling1D())\n",
    "model.add(layers.Dense(1, activation=\"sigmoid\"))\n",
    "\n",
    "model.compile(\n",
    "    loss=\"binary_crossentropy\",\n",
    "    optimizer=\"adam\",\n",
    "    metrics=[\"accuracy\"]\n",
    ")"
   ]
  },
  {
   "cell_type": "code",
   "execution_count": 64,
   "metadata": {},
   "outputs": [
    {
     "name": "stdout",
     "output_type": "stream",
     "text": [
      "Train on 12000 samples, validate on 4000 samples\n",
      "Epoch 1/10\n",
      "12000/12000 [==============================] - 6s 526us/sample - loss: 0.6746 - accuracy: 0.6108 - val_loss: 0.6404 - val_accuracy: 0.7542\n",
      "Epoch 2/10\n",
      "12000/12000 [==============================] - 6s 498us/sample - loss: 0.5671 - accuracy: 0.8048 - val_loss: 0.5060 - val_accuracy: 0.8460\n",
      "Epoch 3/10\n",
      "12000/12000 [==============================] - 6s 495us/sample - loss: 0.4371 - accuracy: 0.8683 - val_loss: 0.4123 - val_accuracy: 0.8683\n",
      "Epoch 4/10\n",
      "12000/12000 [==============================] - 6s 496us/sample - loss: 0.3489 - accuracy: 0.8968 - val_loss: 0.3572 - val_accuracy: 0.8792\n",
      "Epoch 5/10\n",
      "12000/12000 [==============================] - 6s 520us/sample - loss: 0.2900 - accuracy: 0.9133 - val_loss: 0.3232 - val_accuracy: 0.8825\n",
      "Epoch 6/10\n",
      "12000/12000 [==============================] - 6s 503us/sample - loss: 0.2481 - accuracy: 0.9262 - val_loss: 0.2977 - val_accuracy: 0.8928\n",
      "Epoch 7/10\n",
      "12000/12000 [==============================] - 6s 483us/sample - loss: 0.2168 - accuracy: 0.9373 - val_loss: 0.2918 - val_accuracy: 0.8820\n",
      "Epoch 8/10\n",
      "12000/12000 [==============================] - 6s 482us/sample - loss: 0.1898 - accuracy: 0.9442 - val_loss: 0.2732 - val_accuracy: 0.8940\n",
      "Epoch 9/10\n",
      "12000/12000 [==============================] - 6s 481us/sample - loss: 0.1689 - accuracy: 0.9502 - val_loss: 0.2631 - val_accuracy: 0.8992\n",
      "Epoch 10/10\n",
      "12000/12000 [==============================] - 6s 485us/sample - loss: 0.1511 - accuracy: 0.9572 - val_loss: 0.2562 - val_accuracy: 0.9003\n"
     ]
    }
   ],
   "source": [
    "history = model.fit(\n",
    "    X_train, y_train,\n",
    "    validation_data=(X_val, y_val),\n",
    "    epochs=10, batch_size=32, verbose=1)"
   ]
  },
  {
   "cell_type": "code",
   "execution_count": 65,
   "metadata": {},
   "outputs": [
    {
     "data": {
      "image/png": "[encoded data removed]",
      "text/plain": [
       "<Figure size 432x288 with 1 Axes>"
      ]
     },
     "metadata": {},
     "output_type": "display_data"
    },
    {
     "data": {
      "image/png": "[encoded data removed]",
      "text/plain": [
       "<Figure size 432x288 with 1 Axes>"
      ]
     },
     "metadata": {},
     "output_type": "display_data"
    }
   ],
   "source": [
    "# Plot training & validation accuracy values\n",
    "plt.plot(history.history['accuracy'])\n",
    "plt.plot(history.history['val_accuracy'])\n",
    "plt.title('Model accuracy')\n",
    "plt.ylabel('Accuracy')\n",
    "plt.xlabel('Epoch')\n",
    "plt.legend(['Train', 'Test'], loc='upper left')\n",
    "plt.show()\n",
    "\n",
    "# Plot training & validation loss values\n",
    "plt.plot(history.history['loss'])\n",
    "plt.plot(history.history['val_loss'])\n",
    "plt.title('Model loss')\n",
    "plt.ylabel('Loss')\n",
    "plt.xlabel('Epoch')\n",
    "plt.legend(['Train', 'Test'], loc='upper left')\n",
    "plt.show()"
   ]
  },
  {
   "cell_type": "code",
   "execution_count": 66,
   "metadata": {},
   "outputs": [
    {
     "name": "stdout",
     "output_type": "stream",
     "text": [
      "0.90025\n"
     ]
    }
   ],
   "source": [
    "_, accuracy = model.evaluate(X_val, y_val, verbose=0)\n",
    "print(accuracy)"
   ]
  },
  {
   "cell_type": "markdown",
   "metadata": {},
   "source": [
    "# RNN"
   ]
  },
  {
   "cell_type": "code",
   "execution_count": null,
   "metadata": {},
   "outputs": [],
   "source": []
  },
  {
   "cell_type": "code",
   "execution_count": 82,
   "metadata": {},
   "outputs": [],
   "source": [
    "from tensorflow import keras\n",
    "from tensorflow.keras import layers\n",
    "\n",
    "EMBEDDING_DIM = 256\n",
    "\n",
    "model = keras.models.Sequential()\n",
    "model.add(layers.Embedding(MAX_NB_WORDS, EMBEDDING_DIM,\n",
    "                           mask_zero=True,                           \n",
    "                           input_shape=[None]),)\n",
    "\n",
    "model.add(layers.GRU(512, dropout=0.25))\n",
    "model.add(layers.Dense(1, activation=\"sigmoid\"))\n",
    "\n",
    "model.compile(\n",
    "    loss=\"binary_crossentropy\",\n",
    "    optimizer=\"adam\",\n",
    "    metrics=[\"accuracy\"]\n",
    ")"
   ]
  },
  {
   "cell_type": "code",
   "execution_count": 83,
   "metadata": {},
   "outputs": [
    {
     "name": "stdout",
     "output_type": "stream",
     "text": [
      "Train on 12000 samples, validate on 4000 samples\n",
      "Epoch 1/10\n",
      "12000/12000 [==============================] - 22s 2ms/sample - loss: 0.4735 - accuracy: 0.7675 - val_loss: 0.2668 - val_accuracy: 0.8957\n",
      "Epoch 2/10\n",
      "12000/12000 [==============================] - 21s 2ms/sample - loss: 0.1630 - accuracy: 0.9383 - val_loss: 0.2505 - val_accuracy: 0.9070\n",
      "Epoch 3/10\n",
      "12000/12000 [==============================] - 21s 2ms/sample - loss: 0.0514 - accuracy: 0.9834 - val_loss: 0.3629 - val_accuracy: 0.8955\n",
      "Epoch 4/10\n",
      "12000/12000 [==============================] - 21s 2ms/sample - loss: 0.0277 - accuracy: 0.9902 - val_loss: 0.4182 - val_accuracy: 0.9057\n",
      "Epoch 5/10\n",
      "12000/12000 [==============================] - 21s 2ms/sample - loss: 0.0144 - accuracy: 0.9952 - val_loss: 0.3991 - val_accuracy: 0.8997\n",
      "Epoch 6/10\n",
      "12000/12000 [==============================] - 21s 2ms/sample - loss: 0.0117 - accuracy: 0.9963 - val_loss: 0.5095 - val_accuracy: 0.8972\n",
      "Epoch 7/10\n",
      "12000/12000 [==============================] - 21s 2ms/sample - loss: 0.0053 - accuracy: 0.9983 - val_loss: 0.5394 - val_accuracy: 0.8950\n",
      "Epoch 8/10\n",
      "12000/12000 [==============================] - 21s 2ms/sample - loss: 0.0038 - accuracy: 0.9987 - val_loss: 0.4767 - val_accuracy: 0.8992\n",
      "Epoch 9/10\n",
      "12000/12000 [==============================] - 21s 2ms/sample - loss: 0.0060 - accuracy: 0.9980 - val_loss: 0.5315 - val_accuracy: 0.8992\n",
      "Epoch 10/10\n",
      "12000/12000 [==============================] - 21s 2ms/sample - loss: 0.0056 - accuracy: 0.9983 - val_loss: 0.5527 - val_accuracy: 0.8972\n"
     ]
    }
   ],
   "source": [
    "history = model.fit(\n",
    "    X_train, y_train,\n",
    "    validation_data=(X_val, y_val),\n",
    "    epochs=5, batch_size=32, verbose=1)"
   ]
  },
  {
   "cell_type": "code",
   "execution_count": null,
   "metadata": {},
   "outputs": [],
   "source": []
  },
  {
   "cell_type": "code",
   "execution_count": 110,
   "metadata": {},
   "outputs": [
    {
     "name": "stdout",
     "output_type": "stream",
     "text": [
      "4000/4000 [==============================] - 2s 550us/sample - loss: 0.5220 - accuracy: 0.8773\n",
      "Test score: 0.5220395186692476\n",
      "Test accuracy: 0.87725\n"
     ]
    }
   ],
   "source": [
    "score, acc = model.evaluate(X_val, y_val,\n",
    "                            batch_size=32)\n",
    "print('Test score:', score)\n",
    "print('Test accuracy:', acc)"
   ]
  },
  {
   "cell_type": "code",
   "execution_count": 186,
   "metadata": {},
   "outputs": [],
   "source": [
    "y_score = model.predict(X_val).T[0]\n",
    "y_pred = model.predict_classes(X_val).T[0]"
   ]
  },
  {
   "cell_type": "code",
   "execution_count": 130,
   "metadata": {},
   "outputs": [],
   "source": [
    "X_val_df = pd.DataFrame(val_reviews)"
   ]
  },
  {
   "cell_type": "code",
   "execution_count": 180,
   "metadata": {},
   "outputs": [],
   "source": [
    "false_pos = val_reviews[(y_val == 0) & (y_pred == 1)]\n",
    "false_neg = val_reviews[(y_val == 1) & (y_pred == 0)]"
   ]
  },
  {
   "cell_type": "code",
   "execution_count": 181,
   "metadata": {},
   "outputs": [
    {
     "data": {
      "text/html": [
       "<div>\n",
       "<style scoped>\n",
       "    .dataframe tbody tr th:only-of-type {\n",
       "        vertical-align: middle;\n",
       "    }\n",
       "\n",
       "    .dataframe tbody tr th {\n",
       "        vertical-align: top;\n",
       "    }\n",
       "\n",
       "    .dataframe thead th {\n",
       "        text-align: right;\n",
       "    }\n",
       "</style>\n",
       "<table border=\"1\" class=\"dataframe\">\n",
       "  <thead>\n",
       "    <tr style=\"text-align: right;\">\n",
       "      <th></th>\n",
       "      <th>0</th>\n",
       "    </tr>\n",
       "  </thead>\n",
       "  <tbody>\n",
       "    <tr>\n",
       "      <th>0</th>\n",
       "      <td>un film qui dépeint assez bien la relation homme femme et la sexualité un bon film psychologique le bémol est il est de taille un film terriblement niais a la limite de la guimauve et c'est bien dommage</td>\n",
       "    </tr>\n",
       "    <tr>\n",
       "      <th>1</th>\n",
       "      <td>Si vous entendez dire qu'il y a Cluzet dans ce téléfilm, c'est vrai, mais attention, fiez-vous plutôt à l'affiche car son rôle n'est pas grand. L'œuvre est aussi modeste que son sujet ; Ledoyen porte bien son personnage de « première femme syndicaliste », mais même elle ne parviendra pas à compenser les textes rédigés sans mesure pour faire bon genre et cohérent dans l'époque. C'est un peu triste car les dialogues sont foncièrement bons et le couple d'acteurs principaux aussi, mais les uns ne sont pas faits pour les autres. Il s'agit peut-être là d'une faiblesse de direction artistique, ou de trop d'ambition dans l'écriture. L'atmosphère est présente quand les figurants ne bâclent pas leurs lignes. La place de l'anticléricalité est bien pensée, et chaque chose semble prendre juste le temps nécessaire pour être prise en compte sans rabâchage. Mais avec du recul, l'image générale est un peu différente ; le scénario évolue par hoquets, les transitions ne se faisant pas le moins du monde les convoyeuses d'un sens global qui aurait survécu d'une scène à une autre. Drame social, petit film qui s'excuse de sa petitesse en se faisant l'honorable documentaire d'une cause naguère dignifiée, il y avait une ligne sur son cahier des charges qui disait : « doit durer quatre-vingt-dix minutes chrono parce que c'est pour la télé ». Il y parvient en donnant honteusement dans le mélodrame avec une conclusion tellement essoufflée qu'elle a besoin d'afficher un encart de texte pour rassurer le spectateur. Au moins le film mesurait-il ce qu'il était, et aussi accomplit-il sa mission sans prétention et avec quelque justesse, mais il demeure, à tous égards, le parangon du télécinéma. septiemeartetdemi.com</td>\n",
       "    </tr>\n",
       "    <tr>\n",
       "      <th>2</th>\n",
       "      <td>Sans prétentions petit film sympa , on se prend à avoir de l'affection pour nôtre pauvre livreur pas vraiment gâté par la vie et à approuvé son pétage de plomb, qui n'a jamais rêvé d'en faire autant face à des personnes aussi obtus, que hautaines et hautement antiphatiques... bon lui il fait pas dans la dentelle mais l'idée est là. Loin d'être essentiel et \"nanaresque\" il décocheras tout de même quelques sourires(motion spécial pour la scène d'engeuade par le patron.)</td>\n",
       "    </tr>\n",
       "    <tr>\n",
       "      <th>3</th>\n",
       "      <td>Seul les adorateurs de chevaux y trouveront leur compte..</td>\n",
       "    </tr>\n",
       "    <tr>\n",
       "      <th>4</th>\n",
       "      <td>Forêt, fumée noire, mystère...N'est pas \"Lost\" qui veut, surtout en 1h25! Si vous hésitez entre films à regarder, regardez l'autre...</td>\n",
       "    </tr>\n",
       "  </tbody>\n",
       "</table>\n",
       "</div>"
      ],
      "text/plain": [
       "                                                                                                                                                                                                                                                                                                                                                                                                                                                                                                                                                                                                                                                                                                                                                                                                                                                                                                                                                                                                                                                                                                                                                                                                                                                                                                                                                                                                                                                                                                                                                                                                                                                                                                                                                                                 0\n",
       "0  un film qui dépeint assez bien la relation homme femme et la sexualité un bon film psychologique le bémol est il est de taille un film terriblement niais a la limite de la guimauve et c'est bien dommage                                                                                                                                                                                                                                                                                                                                                                                                                                                                                                                                                                                                                                                                                                                                                                                                                                                                                                                                                                                                                                                                                                                                                                                                                                                                                                                                                                                                                                                                                                                                                                     \n",
       "1  Si vous entendez dire qu'il y a Cluzet dans ce téléfilm, c'est vrai, mais attention, fiez-vous plutôt à l'affiche car son rôle n'est pas grand. L'œuvre est aussi modeste que son sujet ; Ledoyen porte bien son personnage de « première femme syndicaliste », mais même elle ne parviendra pas à compenser les textes rédigés sans mesure pour faire bon genre et cohérent dans l'époque. C'est un peu triste car les dialogues sont foncièrement bons et le couple d'acteurs principaux aussi, mais les uns ne sont pas faits pour les autres. Il s'agit peut-être là d'une faiblesse de direction artistique, ou de trop d'ambition dans l'écriture. L'atmosphère est présente quand les figurants ne bâclent pas leurs lignes. La place de l'anticléricalité est bien pensée, et chaque chose semble prendre juste le temps nécessaire pour être prise en compte sans rabâchage. Mais avec du recul, l'image générale est un peu différente ; le scénario évolue par hoquets, les transitions ne se faisant pas le moins du monde les convoyeuses d'un sens global qui aurait survécu d'une scène à une autre. Drame social, petit film qui s'excuse de sa petitesse en se faisant l'honorable documentaire d'une cause naguère dignifiée, il y avait une ligne sur son cahier des charges qui disait : « doit durer quatre-vingt-dix minutes chrono parce que c'est pour la télé ». Il y parvient en donnant honteusement dans le mélodrame avec une conclusion tellement essoufflée qu'elle a besoin d'afficher un encart de texte pour rassurer le spectateur. Au moins le film mesurait-il ce qu'il était, et aussi accomplit-il sa mission sans prétention et avec quelque justesse, mais il demeure, à tous égards, le parangon du télécinéma. septiemeartetdemi.com\n",
       "2  Sans prétentions petit film sympa , on se prend à avoir de l'affection pour nôtre pauvre livreur pas vraiment gâté par la vie et à approuvé son pétage de plomb, qui n'a jamais rêvé d'en faire autant face à des personnes aussi obtus, que hautaines et hautement antiphatiques... bon lui il fait pas dans la dentelle mais l'idée est là. Loin d'être essentiel et \"nanaresque\" il décocheras tout de même quelques sourires(motion spécial pour la scène d'engeuade par le patron.)                                                                                                                                                                                                                                                                                                                                                                                                                                                                                                                                                                                                                                                                                                                                                                                                                                                                                                                                                                                                                                                                                                                                                                                                                                                                                       \n",
       "3  Seul les adorateurs de chevaux y trouveront leur compte..                                                                                                                                                                                                                                                                                                                                                                                                                                                                                                                                                                                                                                                                                                                                                                                                                                                                                                                                                                                                                                                                                                                                                                                                                                                                                                                                                                                                                                                                                                                                                                                                                                                                                                                      \n",
       "4  Forêt, fumée noire, mystère...N'est pas \"Lost\" qui veut, surtout en 1h25! Si vous hésitez entre films à regarder, regardez l'autre...                                                                                                                                                                                                                                                                                                                                                                                                                                                                                                                                                                                                                                                                                                                                                                                                                                                                                                                                                                                                                                                                                                                                                                                                                                                                                                                                                                                                                                                                                                                                                                                                                                          "
      ]
     },
     "execution_count": 181,
     "metadata": {},
     "output_type": "execute_result"
    }
   ],
   "source": [
    "pd.DataFrame(false_pos[:5])"
   ]
  },
  {
   "cell_type": "code",
   "execution_count": 182,
   "metadata": {},
   "outputs": [
    {
     "data": {
      "text/html": [
       "<div>\n",
       "<style scoped>\n",
       "    .dataframe tbody tr th:only-of-type {\n",
       "        vertical-align: middle;\n",
       "    }\n",
       "\n",
       "    .dataframe tbody tr th {\n",
       "        vertical-align: top;\n",
       "    }\n",
       "\n",
       "    .dataframe thead th {\n",
       "        text-align: right;\n",
       "    }\n",
       "</style>\n",
       "<table border=\"1\" class=\"dataframe\">\n",
       "  <thead>\n",
       "    <tr style=\"text-align: right;\">\n",
       "      <th></th>\n",
       "      <th>0</th>\n",
       "    </tr>\n",
       "  </thead>\n",
       "  <tbody>\n",
       "    <tr>\n",
       "      <th>0</th>\n",
       "      <td>Ce film vaut surtout pour ses dialogues en français croustillants où les doubleurs ont prit de (très) grandes libertés plus que pour l'histoire, totalement décousue tellement les morceaux de films entrecoupés sont flagrants. Amateurs de dialogues vulgaires, de scénario biaisé, d'armes en plastique et de scènes-références aux films de Sergio Leone, vous serez comblés. Le \"film\", en fait les 11 seules minutes où sont présents les protagonistes américains est facilement trouvable gratuitement sur internet.</td>\n",
       "    </tr>\n",
       "    <tr>\n",
       "      <th>1</th>\n",
       "      <td>Le meilleur de Kounen. Atmosphérique, poétique, un vol d'oiseau sur l'immensité du monde. Poésie des sens, du détail, et pas seulement. D'un coup d'un seul, c'est un genre que l'on transforme pour l'emmener vers là où erre une beauté sans pareil. Quelle aventure.</td>\n",
       "    </tr>\n",
       "    <tr>\n",
       "      <th>2</th>\n",
       "      <td>Ben moi j'ai commencé par ce film et j'ai bien aimé. Faut avouer que els images sont bonnes, tout autant que le maquillage et les effets spéciaux, l'histoire reste géniale, la trame pas si usée. Bref c'est cool, même si certains acteurs sont plus inspirés que d'autres, mais clairement ceux qui font les singes sont au top. Du reste, je ne suis pas persuadé que sans cette daube, comme beaucoup le disent avec leur fameux \"c'était mieux avant\", les reboot auraient vu le jour. On va me dire \"tant mieux\" mais vu le nombre d'entrées je pense qu'il faut réviser son jugement sur ce film. En plus Burton arrive à y imposer sa patte alors que ça ne s'y prêtait pas vraiment. Enfin avouons que l'opus original était moins bien monté que celui-ci, on comprend plus facilement là, un plus non négligeable.</td>\n",
       "    </tr>\n",
       "    <tr>\n",
       "      <th>3</th>\n",
       "      <td>Avant toute chose mieux vaut prévenir les futurs spectateurs : Bienvenue à Marwen n’est pas vraiment une douce fantaisie et encore moins une inoffensive comédie comme pourrait le laisser penser son affiche. S’il trouve néanmoins sa place dans la filmographie de Zemeckis, il faut bien se rendre à l’évidence ça reste un film difficile et franchement assez réaliste (inspiré d’ailleurs d’une histoire vraie) sur le traumatisme et la folie. Bon, cette mise en garde terminée, commençons par reconnaitre les évidentes qualités d’une œuvre qui est réalisée avec beaucoup de soin. Sur le plan technique d’abord, l’animation et les effets spéciaux sont d’excellente facture, sans jamais faire de l’ombre à l’histoire humaine à proprement parler. L’interprétation est toute aussi bonne, Steve Carrel habitant littéralement son personnage dans ce qui pourrait bien être un rôle à Oscar. Bienvenue à Marwen a toutefois un défaut qui est propre à son contenu et donc peut être inévitable. Le côté totalement obsessionnel du personnage principal finit par déteindre sur le film lui- même, le rendant parfois répétitif, oppressant, limite étouffant. A l’image du pauvre Mark Hogancamp, enfermé dans son monde et dans ses délires, on a souvent l’impression de tourner en rond, ressassant la même chose. Mais au final, le film vaut néanmoins largement le coup d'être vu pour son originalité et pour l’émotion qu’il parvient à atteindre dans le dernier quart d’heure. Peut-être pas un happy end, le sujet est trop difficile pour ça, mais pas loin.</td>\n",
       "    </tr>\n",
       "    <tr>\n",
       "      <th>4</th>\n",
       "      <td>sans fautes</td>\n",
       "    </tr>\n",
       "  </tbody>\n",
       "</table>\n",
       "</div>"
      ],
      "text/plain": [
       "                                                                                                                                                                                                                                                                                                                                                                                                                                                                                                                                                                                                                                                                                                                                                                                                                                                                                                                                                                                                                                                                                                                                                                                                                                                                                                                                                                                                                                                                                                                                                                                              0\n",
       "0  Ce film vaut surtout pour ses dialogues en français croustillants où les doubleurs ont prit de (très) grandes libertés plus que pour l'histoire, totalement décousue tellement les morceaux de films entrecoupés sont flagrants. Amateurs de dialogues vulgaires, de scénario biaisé, d'armes en plastique et de scènes-références aux films de Sergio Leone, vous serez comblés. Le \"film\", en fait les 11 seules minutes où sont présents les protagonistes américains est facilement trouvable gratuitement sur internet.                                                                                                                                                                                                                                                                                                                                                                                                                                                                                                                                                                                                                                                                                                                                                                                                                                                                                                                                                                                                                                                                \n",
       "1  Le meilleur de Kounen. Atmosphérique, poétique, un vol d'oiseau sur l'immensité du monde. Poésie des sens, du détail, et pas seulement. D'un coup d'un seul, c'est un genre que l'on transforme pour l'emmener vers là où erre une beauté sans pareil. Quelle aventure.                                                                                                                                                                                                                                                                                                                                                                                                                                                                                                                                                                                                                                                                                                                                                                                                                                                                                                                                                                                                                                                                                                                                                                                                                                                                                                                     \n",
       "2  Ben moi j'ai commencé par ce film et j'ai bien aimé. Faut avouer que els images sont bonnes, tout autant que le maquillage et les effets spéciaux, l'histoire reste géniale, la trame pas si usée. Bref c'est cool, même si certains acteurs sont plus inspirés que d'autres, mais clairement ceux qui font les singes sont au top. Du reste, je ne suis pas persuadé que sans cette daube, comme beaucoup le disent avec leur fameux \"c'était mieux avant\", les reboot auraient vu le jour. On va me dire \"tant mieux\" mais vu le nombre d'entrées je pense qu'il faut réviser son jugement sur ce film. En plus Burton arrive à y imposer sa patte alors que ça ne s'y prêtait pas vraiment. Enfin avouons que l'opus original était moins bien monté que celui-ci, on comprend plus facilement là, un plus non négligeable.                                                                                                                                                                                                                                                                                                                                                                                                                                                                                                                                                                                                                                                                                                                                                              \n",
       "3  Avant toute chose mieux vaut prévenir les futurs spectateurs : Bienvenue à Marwen n’est pas vraiment une douce fantaisie et encore moins une inoffensive comédie comme pourrait le laisser penser son affiche. S’il trouve néanmoins sa place dans la filmographie de Zemeckis, il faut bien se rendre à l’évidence ça reste un film difficile et franchement assez réaliste (inspiré d’ailleurs d’une histoire vraie) sur le traumatisme et la folie. Bon, cette mise en garde terminée, commençons par reconnaitre les évidentes qualités d’une œuvre qui est réalisée avec beaucoup de soin. Sur le plan technique d’abord, l’animation et les effets spéciaux sont d’excellente facture, sans jamais faire de l’ombre à l’histoire humaine à proprement parler. L’interprétation est toute aussi bonne, Steve Carrel habitant littéralement son personnage dans ce qui pourrait bien être un rôle à Oscar. Bienvenue à Marwen a toutefois un défaut qui est propre à son contenu et donc peut être inévitable. Le côté totalement obsessionnel du personnage principal finit par déteindre sur le film lui- même, le rendant parfois répétitif, oppressant, limite étouffant. A l’image du pauvre Mark Hogancamp, enfermé dans son monde et dans ses délires, on a souvent l’impression de tourner en rond, ressassant la même chose. Mais au final, le film vaut néanmoins largement le coup d'être vu pour son originalité et pour l’émotion qu’il parvient à atteindre dans le dernier quart d’heure. Peut-être pas un happy end, le sujet est trop difficile pour ça, mais pas loin.\n",
       "4  sans fautes                                                                                                                                                                                                                                                                                                                                                                                                                                                                                                                                                                                                                                                                                                                                                                                                                                                                                                                                                                                                                                                                                                                                                                                                                                                                                                                                                                                                                                                                                                                                                                                 "
      ]
     },
     "execution_count": 182,
     "metadata": {},
     "output_type": "execute_result"
    }
   ],
   "source": [
    "pd.DataFrame(false_neg[:5])"
   ]
  },
  {
   "cell_type": "markdown",
   "metadata": {},
   "source": [
    "## CNN"
   ]
  },
  {
   "cell_type": "markdown",
   "metadata": {},
   "source": [
    "## https://arxiv.org/abs/1412.1058"
   ]
  },
  {
   "cell_type": "code",
   "execution_count": 86,
   "metadata": {},
   "outputs": [
    {
     "name": "stdout",
     "output_type": "stream",
     "text": [
      "Model: \"model_3\"\n",
      "__________________________________________________________________________________________________\n",
      "Layer (type)                    Output Shape         Param #     Connected to                     \n",
      "==================================================================================================\n",
      "input_7 (InputLayer)            [(None, 400)]        0                                            \n",
      "__________________________________________________________________________________________________\n",
      "embedding_30 (Embedding)        (None, 400, 512)     10240000    input_7[0][0]                    \n",
      "__________________________________________________________________________________________________\n",
      "conv1d_29 (Conv1D)              (None, 399, 512)     524800      embedding_30[0][0]               \n",
      "__________________________________________________________________________________________________\n",
      "conv1d_28 (Conv1D)              (None, 398, 512)     786944      embedding_30[0][0]               \n",
      "__________________________________________________________________________________________________\n",
      "global_max_pooling1d_13 (Global (None, 512)          0           conv1d_29[0][0]                  \n",
      "__________________________________________________________________________________________________\n",
      "global_max_pooling1d_12 (Global (None, 512)          0           conv1d_28[0][0]                  \n",
      "__________________________________________________________________________________________________\n",
      "concatenate_6 (Concatenate)     (None, 1024)         0           global_max_pooling1d_13[0][0]    \n",
      "                                                                 global_max_pooling1d_12[0][0]    \n",
      "__________________________________________________________________________________________________\n",
      "batch_normalization_6 (BatchNor (None, 1024)         4096        concatenate_6[0][0]              \n",
      "__________________________________________________________________________________________________\n",
      "dropout_10 (Dropout)            (None, 1024)         0           batch_normalization_6[0][0]      \n",
      "__________________________________________________________________________________________________\n",
      "dense_23 (Dense)                (None, 1)            1025        dropout_10[0][0]                 \n",
      "==================================================================================================\n",
      "Total params: 11,556,865\n",
      "Trainable params: 11,554,817\n",
      "Non-trainable params: 2,048\n",
      "__________________________________________________________________________________________________\n"
     ]
    }
   ],
   "source": [
    "emb_dim = 512\n",
    "hid_dim = 512\n",
    "sentence_length = MAX_LENGTH_SEQ\n",
    "num_words = MAX_NB_WORDS\n",
    "dropout_rate = 0.05\n",
    "    \n",
    "input_layer = tf.keras.layers.Input(shape=(sentence_length,), dtype=tf.int32)\n",
    "\n",
    "layer = tf.keras.layers.Embedding(num_words, output_dim=emb_dim)(input_layer)\n",
    "\n",
    "layer_conv3 = tf.keras.layers.Conv1D(hid_dim, 3, activation=\"relu\")(layer)\n",
    "layer_conv3 = tf.keras.layers.GlobalMaxPooling1D()(layer_conv3)\n",
    "\n",
    "layer_conv4 = tf.keras.layers.Conv1D(hid_dim, 2, activation=\"relu\")(layer)\n",
    "layer_conv4 = tf.keras.layers.GlobalMaxPooling1D()(layer_conv4)\n",
    "\n",
    "layer = tf.keras.layers.concatenate([layer_conv4, layer_conv3], axis=1)\n",
    "layer = tf.keras.layers.BatchNormalization()(layer)\n",
    "layer = tf.keras.layers.Dropout(dropout_rate)(layer)\n",
    "\n",
    "output = tf.keras.layers.Dense(1, activation=\"sigmoid\")(layer)\n",
    "\n",
    "model = tf.keras.models.Model(inputs=[input_layer], outputs=output)\n",
    "model.summary()\n",
    "model.compile(loss=\"binary_crossentropy\",\n",
    "              optimizer=\"adam\",\n",
    "              metrics=[\"accuracy\"])"
   ]
  },
  {
   "cell_type": "code",
   "execution_count": 87,
   "metadata": {},
   "outputs": [
    {
     "name": "stdout",
     "output_type": "stream",
     "text": [
      "Train on 12000 samples, validate on 4000 samples\n",
      "Epoch 1/5\n",
      "12000/12000 [==============================] - 32s 3ms/sample - loss: 0.3515 - accuracy: 0.8413 - val_loss: 0.3255 - val_accuracy: 0.8940\n",
      "Epoch 2/5\n",
      "12000/12000 [==============================] - 31s 3ms/sample - loss: 0.0569 - accuracy: 0.9812 - val_loss: 0.2558 - val_accuracy: 0.9022\n",
      "Epoch 3/5\n",
      "12000/12000 [==============================] - 31s 3ms/sample - loss: 0.0173 - accuracy: 0.9960 - val_loss: 0.2843 - val_accuracy: 0.9070\n",
      "Epoch 4/5\n",
      "12000/12000 [==============================] - 31s 3ms/sample - loss: 0.0130 - accuracy: 0.9962 - val_loss: 0.3389 - val_accuracy: 0.9020\n",
      "Epoch 5/5\n",
      "12000/12000 [==============================] - 32s 3ms/sample - loss: 0.0346 - accuracy: 0.9871 - val_loss: 0.4070 - val_accuracy: 0.8825\n"
     ]
    }
   ],
   "source": [
    "history = model.fit(\n",
    "    X_train, y_train,\n",
    "    validation_data=(X_val, y_val),\n",
    "    epochs=5, batch_size=32, verbose=1)"
   ]
  },
  {
   "cell_type": "code",
   "execution_count": 56,
   "metadata": {},
   "outputs": [],
   "source": [
    "# Adapted"
   ]
  },
  {
   "cell_type": "code",
   "execution_count": 53,
   "metadata": {},
   "outputs": [],
   "source": []
  },
  {
   "cell_type": "code",
   "execution_count": null,
   "metadata": {},
   "outputs": [],
   "source": []
  },
  {
   "cell_type": "code",
   "execution_count": 88,
   "metadata": {},
   "outputs": [
    {
     "data": {
      "image/png": "[encoded data removed]",
      "text/plain": [
       "<Figure size 432x288 with 1 Axes>"
      ]
     },
     "metadata": {},
     "output_type": "display_data"
    },
    {
     "data": {
      "image/png": "[encoded data removed]",
      "text/plain": [
       "<Figure size 432x288 with 1 Axes>"
      ]
     },
     "metadata": {},
     "output_type": "display_data"
    }
   ],
   "source": [
    "# Plot training & validation accuracy values\n",
    "plt.plot(history.history['accuracy'])\n",
    "plt.plot(history.history['val_accuracy'])\n",
    "plt.title('Model accuracy')\n",
    "plt.ylabel('Accuracy')\n",
    "plt.xlabel('Epoch')\n",
    "plt.legend(['Train', 'Test'], loc='upper left')\n",
    "plt.show()\n",
    "\n",
    "# Plot training & validation loss values\n",
    "plt.plot(history.history['loss'])\n",
    "plt.plot(history.history['val_loss'])\n",
    "plt.title('Model loss')\n",
    "plt.ylabel('Loss')\n",
    "plt.xlabel('Epoch')\n",
    "plt.legend(['Train', 'Test'], loc='upper left')\n",
    "plt.show()"
   ]
  },
  {
   "cell_type": "code",
   "execution_count": null,
   "metadata": {},
   "outputs": [],
   "source": [
    "# TODO: add CNN + LSTM (see course + keras doc)"
   ]
  },
  {
   "cell_type": "code",
   "execution_count": null,
   "metadata": {},
   "outputs": [],
   "source": []
  },
  {
   "cell_type": "code",
   "execution_count": null,
   "metadata": {},
   "outputs": [],
   "source": []
  },
  {
   "cell_type": "code",
   "execution_count": null,
   "metadata": {},
   "outputs": [],
   "source": []
  },
  {
   "cell_type": "code",
   "execution_count": null,
   "metadata": {},
   "outputs": [],
   "source": []
  },
  {
   "cell_type": "code",
   "execution_count": 204,
   "metadata": {},
   "outputs": [],
   "source": [
    "from tensorflow import keras\n",
    "from tensorflow.keras import layers\n",
    "from kerastuner.tuners import RandomSearch\n",
    "\n",
    "def build_model(hp):\n",
    "    model = keras.Sequential()\n",
    "    model.add(layers.Embedding(MAX_NB_WORDS,\n",
    "                               output_dim=hp.Int('output_dim',\n",
    "                                                 min_value=32,\n",
    "                                                 max_value=128,\n",
    "                                                 step=32),\n",
    "                               input_shape=[None]))\n",
    "    model.add(layers.GlobalAveragePooling1D())\n",
    "    model.add(layers.Dense(1, activation=\"sigmoid\"))\n",
    "    \n",
    "    model.compile(\n",
    "        optimizer=keras.optimizers.Adam(\n",
    "            hp.Choice('learning_rate',\n",
    "                      values=[1e-2, 1e-3])),\n",
    "        loss='binary_crossentropy',\n",
    "        metrics=['accuracy'])\n",
    "    return model"
   ]
  },
  {
   "cell_type": "code",
   "execution_count": null,
   "metadata": {},
   "outputs": [],
   "source": [
    "tuner = RandomSearch(\n",
    "    build_model,\n",
    "    objective='val_accuracy',\n",
    "    max_trials=10,\n",
    "    executions_per_trial=2,\n",
    "    directory='data/keras-tuner',\n",
    "    project_name='helloworld')"
   ]
  },
  {
   "cell_type": "code",
   "execution_count": 210,
   "metadata": {},
   "outputs": [
    {
     "data": {
      "text/html": [
       "<span style=\"color:#4527A0\"><h1 style=\"font-size:18px\">Search space summary</h1></span>"
      ],
      "text/plain": [
       "<IPython.core.display.HTML object>"
      ]
     },
     "metadata": {},
     "output_type": "display_data"
    },
    {
     "data": {
      "text/html": [
       "<span style=\"color:cyan\"> |-Default search space size: 2</span>"
      ],
      "text/plain": [
       "<IPython.core.display.HTML object>"
      ]
     },
     "metadata": {},
     "output_type": "display_data"
    },
    {
     "data": {
      "text/html": [
       "<span style=\"color:#7E57C2\"><h2 style=\"font-size:16px\">output_dim (Int)</h2></span>"
      ],
      "text/plain": [
       "<IPython.core.display.HTML object>"
      ]
     },
     "metadata": {},
     "output_type": "display_data"
    },
    {
     "data": {
      "text/html": [
       "<span style=\"color:cyan\"> |-default: None</span>"
      ],
      "text/plain": [
       "<IPython.core.display.HTML object>"
      ]
     },
     "metadata": {},
     "output_type": "display_data"
    },
    {
     "data": {
      "text/html": [
       "<span style=\"color:blue\"> |-max_value: 128</span>"
      ],
      "text/plain": [
       "<IPython.core.display.HTML object>"
      ]
     },
     "metadata": {},
     "output_type": "display_data"
    },
    {
     "data": {
      "text/html": [
       "<span style=\"color:cyan\"> |-min_value: 32</span>"
      ],
      "text/plain": [
       "<IPython.core.display.HTML object>"
      ]
     },
     "metadata": {},
     "output_type": "display_data"
    },
    {
     "data": {
      "text/html": [
       "<span style=\"color:blue\"> |-sampling: None</span>"
      ],
      "text/plain": [
       "<IPython.core.display.HTML object>"
      ]
     },
     "metadata": {},
     "output_type": "display_data"
    },
    {
     "data": {
      "text/html": [
       "<span style=\"color:cyan\"> |-step: 32</span>"
      ],
      "text/plain": [
       "<IPython.core.display.HTML object>"
      ]
     },
     "metadata": {},
     "output_type": "display_data"
    },
    {
     "data": {
      "text/html": [
       "<span style=\"color:#7E57C2\"><h2 style=\"font-size:16px\">learning_rate (Choice)</h2></span>"
      ],
      "text/plain": [
       "<IPython.core.display.HTML object>"
      ]
     },
     "metadata": {},
     "output_type": "display_data"
    },
    {
     "data": {
      "text/html": [
       "<span style=\"color:cyan\"> |-default: 0.01</span>"
      ],
      "text/plain": [
       "<IPython.core.display.HTML object>"
      ]
     },
     "metadata": {},
     "output_type": "display_data"
    },
    {
     "data": {
      "text/html": [
       "<span style=\"color:blue\"> |-ordered: True</span>"
      ],
      "text/plain": [
       "<IPython.core.display.HTML object>"
      ]
     },
     "metadata": {},
     "output_type": "display_data"
    },
    {
     "data": {
      "text/html": [
       "<span style=\"color:cyan\"> |-values: [0.01, 0.001]</span>"
      ],
      "text/plain": [
       "<IPython.core.display.HTML object>"
      ]
     },
     "metadata": {},
     "output_type": "display_data"
    }
   ],
   "source": [
    "tuner.search_space_summary()"
   ]
  },
  {
   "cell_type": "code",
   "execution_count": null,
   "metadata": {},
   "outputs": [],
   "source": [
    "# TODO !\n",
    "tuner.search(X_train, y_train, epochs=10,\n",
    "             validation_data=(X_val, y_val),\n",
    "             verbose=0)"
   ]
  },
  {
   "cell_type": "code",
   "execution_count": 206,
   "metadata": {},
   "outputs": [],
   "source": []
  },
  {
   "cell_type": "code",
   "execution_count": null,
   "metadata": {},
   "outputs": [],
   "source": []
  },
  {
   "cell_type": "code",
   "execution_count": null,
   "metadata": {},
   "outputs": [],
   "source": []
  },
  {
   "cell_type": "code",
   "execution_count": 199,
   "metadata": {},
   "outputs": [],
   "source": [
    "models = tuner.get_best_models(2)\n",
    "params = tuner.get_best_hyperparameters(2)"
   ]
  },
  {
   "cell_type": "code",
   "execution_count": 201,
   "metadata": {},
   "outputs": [
    {
     "name": "stdout",
     "output_type": "stream",
     "text": [
      "4003/4003 [==============================] - ETA: 4s - loss: 0.2799 - accuracy: 0.81 - ETA: 0s - loss: 0.2725 - accuracy: 0.90 - ETA: 0s - loss: 0.2525 - accuracy: 0.91 - ETA: 0s - loss: 0.2752 - accuracy: 0.90 - ETA: 0s - loss: 0.2730 - accuracy: 0.90 - 0s 64us/sample - loss: 0.2760 - accuracy: 0.9088\n"
     ]
    },
    {
     "data": {
      "text/plain": [
       "[0.2759751172923808, 0.90881836]"
      ]
     },
     "execution_count": 201,
     "metadata": {},
     "output_type": "execute_result"
    }
   ],
   "source": [
    "models[0].evaluate(X_val, y_val)"
   ]
  },
  {
   "cell_type": "code",
   "execution_count": 179,
   "metadata": {},
   "outputs": [
    {
     "data": {
      "text/html": [
       "<span style=\"color:#4527A0\"><h1 style=\"font-size:18px\">Results summary</h1></span>"
      ],
      "text/plain": [
       "<IPython.core.display.HTML object>"
      ]
     },
     "metadata": {},
     "output_type": "display_data"
    },
    {
     "data": {
      "text/html": [
       "<span style=\"color:cyan\"> |-Results in my_dir/helloworld</span>"
      ],
      "text/plain": [
       "<IPython.core.display.HTML object>"
      ]
     },
     "metadata": {},
     "output_type": "display_data"
    },
    {
     "data": {
      "text/html": [
       "<span style=\"color:cyan\"> |-Showing 10 best trials</span>"
      ],
      "text/plain": [
       "<IPython.core.display.HTML object>"
      ]
     },
     "metadata": {},
     "output_type": "display_data"
    },
    {
     "data": {
      "text/html": [
       "<span style=\"color:cyan\"> |-Objective(name='val_accuracy', direction='max')</span>"
      ],
      "text/plain": [
       "<IPython.core.display.HTML object>"
      ]
     },
     "metadata": {},
     "output_type": "display_data"
    },
    {
     "data": {
      "text/html": [
       "<span style=\"color:#4527A0\"><h1 style=\"font-size:18px\">Trial summary</h1></span>"
      ],
      "text/plain": [
       "<IPython.core.display.HTML object>"
      ]
     },
     "metadata": {},
     "output_type": "display_data"
    },
    {
     "data": {
      "text/html": [
       "<span style=\"color:cyan\"> |-Trial ID: 6572581ef6d5bd7b947e6919ff0c6df0</span>"
      ],
      "text/plain": [
       "<IPython.core.display.HTML object>"
      ]
     },
     "metadata": {},
     "output_type": "display_data"
    },
    {
     "data": {
      "text/html": [
       "<span style=\"color:cyan\"> |-Score: 0.9084020256996155</span>"
      ],
      "text/plain": [
       "<IPython.core.display.HTML object>"
      ]
     },
     "metadata": {},
     "output_type": "display_data"
    },
    {
     "data": {
      "text/html": [
       "<span style=\"color:cyan\"> |-Best step: 0</span>"
      ],
      "text/plain": [
       "<IPython.core.display.HTML object>"
      ]
     },
     "metadata": {},
     "output_type": "display_data"
    },
    {
     "data": {
      "text/html": [
       "<span style=\"color:#7E57C2\"><h2 style=\"font-size:16px\">Hyperparameters:</h2></span>"
      ],
      "text/plain": [
       "<IPython.core.display.HTML object>"
      ]
     },
     "metadata": {},
     "output_type": "display_data"
    },
    {
     "data": {
      "text/html": [
       "<span style=\"color:cyan\"> |-learning_rate: 0.01</span>"
      ],
      "text/plain": [
       "<IPython.core.display.HTML object>"
      ]
     },
     "metadata": {},
     "output_type": "display_data"
    },
    {
     "data": {
      "text/html": [
       "<span style=\"color:blue\"> |-output_dim: 64</span>"
      ],
      "text/plain": [
       "<IPython.core.display.HTML object>"
      ]
     },
     "metadata": {},
     "output_type": "display_data"
    },
    {
     "data": {
      "text/html": [
       "<span style=\"color:#4527A0\"><h1 style=\"font-size:18px\">Trial summary</h1></span>"
      ],
      "text/plain": [
       "<IPython.core.display.HTML object>"
      ]
     },
     "metadata": {},
     "output_type": "display_data"
    },
    {
     "data": {
      "text/html": [
       "<span style=\"color:cyan\"> |-Trial ID: 92b4f794f95a8284c17666d40bd7fa56</span>"
      ],
      "text/plain": [
       "<IPython.core.display.HTML object>"
      ]
     },
     "metadata": {},
     "output_type": "display_data"
    },
    {
     "data": {
      "text/html": [
       "<span style=\"color:cyan\"> |-Score: 0.9071529507637024</span>"
      ],
      "text/plain": [
       "<IPython.core.display.HTML object>"
      ]
     },
     "metadata": {},
     "output_type": "display_data"
    },
    {
     "data": {
      "text/html": [
       "<span style=\"color:cyan\"> |-Best step: 0</span>"
      ],
      "text/plain": [
       "<IPython.core.display.HTML object>"
      ]
     },
     "metadata": {},
     "output_type": "display_data"
    },
    {
     "data": {
      "text/html": [
       "<span style=\"color:#7E57C2\"><h2 style=\"font-size:16px\">Hyperparameters:</h2></span>"
      ],
      "text/plain": [
       "<IPython.core.display.HTML object>"
      ]
     },
     "metadata": {},
     "output_type": "display_data"
    },
    {
     "data": {
      "text/html": [
       "<span style=\"color:cyan\"> |-learning_rate: 0.01</span>"
      ],
      "text/plain": [
       "<IPython.core.display.HTML object>"
      ]
     },
     "metadata": {},
     "output_type": "display_data"
    },
    {
     "data": {
      "text/html": [
       "<span style=\"color:blue\"> |-output_dim: 448</span>"
      ],
      "text/plain": [
       "<IPython.core.display.HTML object>"
      ]
     },
     "metadata": {},
     "output_type": "display_data"
    },
    {
     "data": {
      "text/html": [
       "<span style=\"color:#4527A0\"><h1 style=\"font-size:18px\">Trial summary</h1></span>"
      ],
      "text/plain": [
       "<IPython.core.display.HTML object>"
      ]
     },
     "metadata": {},
     "output_type": "display_data"
    },
    {
     "data": {
      "text/html": [
       "<span style=\"color:cyan\"> |-Trial ID: 0525ea3a780d6ba9e4f000ae4989e283</span>"
      ],
      "text/plain": [
       "<IPython.core.display.HTML object>"
      ]
     },
     "metadata": {},
     "output_type": "display_data"
    },
    {
     "data": {
      "text/html": [
       "<span style=\"color:cyan\"> |-Score: 0.9057373404502869</span>"
      ],
      "text/plain": [
       "<IPython.core.display.HTML object>"
      ]
     },
     "metadata": {},
     "output_type": "display_data"
    },
    {
     "data": {
      "text/html": [
       "<span style=\"color:cyan\"> |-Best step: 0</span>"
      ],
      "text/plain": [
       "<IPython.core.display.HTML object>"
      ]
     },
     "metadata": {},
     "output_type": "display_data"
    },
    {
     "data": {
      "text/html": [
       "<span style=\"color:#7E57C2\"><h2 style=\"font-size:16px\">Hyperparameters:</h2></span>"
      ],
      "text/plain": [
       "<IPython.core.display.HTML object>"
      ]
     },
     "metadata": {},
     "output_type": "display_data"
    },
    {
     "data": {
      "text/html": [
       "<span style=\"color:cyan\"> |-learning_rate: 0.01</span>"
      ],
      "text/plain": [
       "<IPython.core.display.HTML object>"
      ]
     },
     "metadata": {},
     "output_type": "display_data"
    },
    {
     "data": {
      "text/html": [
       "<span style=\"color:blue\"> |-output_dim: 224</span>"
      ],
      "text/plain": [
       "<IPython.core.display.HTML object>"
      ]
     },
     "metadata": {},
     "output_type": "display_data"
    },
    {
     "data": {
      "text/html": [
       "<span style=\"color:#4527A0\"><h1 style=\"font-size:18px\">Trial summary</h1></span>"
      ],
      "text/plain": [
       "<IPython.core.display.HTML object>"
      ]
     },
     "metadata": {},
     "output_type": "display_data"
    },
    {
     "data": {
      "text/html": [
       "<span style=\"color:cyan\"> |-Trial ID: 04c3a903567fb4404e4765b5780c0b56</span>"
      ],
      "text/plain": [
       "<IPython.core.display.HTML object>"
      ]
     },
     "metadata": {},
     "output_type": "display_data"
    },
    {
     "data": {
      "text/html": [
       "<span style=\"color:cyan\"> |-Score: 0.8959946632385254</span>"
      ],
      "text/plain": [
       "<IPython.core.display.HTML object>"
      ]
     },
     "metadata": {},
     "output_type": "display_data"
    },
    {
     "data": {
      "text/html": [
       "<span style=\"color:cyan\"> |-Best step: 0</span>"
      ],
      "text/plain": [
       "<IPython.core.display.HTML object>"
      ]
     },
     "metadata": {},
     "output_type": "display_data"
    },
    {
     "data": {
      "text/html": [
       "<span style=\"color:#7E57C2\"><h2 style=\"font-size:16px\">Hyperparameters:</h2></span>"
      ],
      "text/plain": [
       "<IPython.core.display.HTML object>"
      ]
     },
     "metadata": {},
     "output_type": "display_data"
    },
    {
     "data": {
      "text/html": [
       "<span style=\"color:cyan\"> |-learning_rate: 0.001</span>"
      ],
      "text/plain": [
       "<IPython.core.display.HTML object>"
      ]
     },
     "metadata": {},
     "output_type": "display_data"
    },
    {
     "data": {
      "text/html": [
       "<span style=\"color:blue\"> |-output_dim: 320</span>"
      ],
      "text/plain": [
       "<IPython.core.display.HTML object>"
      ]
     },
     "metadata": {},
     "output_type": "display_data"
    },
    {
     "data": {
      "text/html": [
       "<span style=\"color:#4527A0\"><h1 style=\"font-size:18px\">Trial summary</h1></span>"
      ],
      "text/plain": [
       "<IPython.core.display.HTML object>"
      ]
     },
     "metadata": {},
     "output_type": "display_data"
    },
    {
     "data": {
      "text/html": [
       "<span style=\"color:cyan\"> |-Trial ID: 6594ccb79189d0eeee0bf083ca01ba90</span>"
      ],
      "text/plain": [
       "<IPython.core.display.HTML object>"
      ]
     },
     "metadata": {},
     "output_type": "display_data"
    },
    {
     "data": {
      "text/html": [
       "<span style=\"color:cyan\"> |-Score: 0.665584146976471</span>"
      ],
      "text/plain": [
       "<IPython.core.display.HTML object>"
      ]
     },
     "metadata": {},
     "output_type": "display_data"
    },
    {
     "data": {
      "text/html": [
       "<span style=\"color:cyan\"> |-Best step: 0</span>"
      ],
      "text/plain": [
       "<IPython.core.display.HTML object>"
      ]
     },
     "metadata": {},
     "output_type": "display_data"
    },
    {
     "data": {
      "text/html": [
       "<span style=\"color:#7E57C2\"><h2 style=\"font-size:16px\">Hyperparameters:</h2></span>"
      ],
      "text/plain": [
       "<IPython.core.display.HTML object>"
      ]
     },
     "metadata": {},
     "output_type": "display_data"
    },
    {
     "data": {
      "text/html": [
       "<span style=\"color:cyan\"> |-learning_rate: 0.0001</span>"
      ],
      "text/plain": [
       "<IPython.core.display.HTML object>"
      ]
     },
     "metadata": {},
     "output_type": "display_data"
    },
    {
     "data": {
      "text/html": [
       "<span style=\"color:blue\"> |-output_dim: 64</span>"
      ],
      "text/plain": [
       "<IPython.core.display.HTML object>"
      ]
     },
     "metadata": {},
     "output_type": "display_data"
    }
   ],
   "source": [
    "tuner.results_summary()"
   ]
  },
  {
   "cell_type": "code",
   "execution_count": null,
   "metadata": {},
   "outputs": [],
   "source": []
  },
  {
   "cell_type": "code",
   "execution_count": null,
   "metadata": {},
   "outputs": [],
   "source": []
  }
 ],
 "metadata": {
  "kernelspec": {
   "display_name": "Python 3",
   "language": "python",
   "name": "python3"
  },
  "language_info": {
   "codemirror_mode": {
    "name": "ipython",
    "version": 3
   },
   "file_extension": ".py",
   "mimetype": "text/x-python",
   "name": "python",
   "nbconvert_exporter": "python",
   "pygments_lexer": "ipython3",
   "version": "3.7.5"
  }
 },
 "nbformat": 4,
 "nbformat_minor": 4
}
