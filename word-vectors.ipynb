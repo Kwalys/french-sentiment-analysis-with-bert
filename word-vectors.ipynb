{
 "cells": [
  {
   "cell_type": "code",
   "execution_count": 1,
   "metadata": {},
   "outputs": [],
   "source": [
    "import numpy as np\n",
    "import pandas as pd\n",
    "import seaborn as sns\n",
    "import matplotlib.pyplot as plt\n",
    "\n",
    "# better display of review text in dataframes\n",
    "pd.set_option('display.max_colwidth', None) \n",
    "\n",
    "# Seaborn options\n",
    "sns.set(style=\"whitegrid\", font_scale=1.4)\n",
    "\n",
    "# Auto reload modules\n",
    "%load_ext autoreload\n",
    "%autoreload 2"
   ]
  },
  {
   "cell_type": "code",
   "execution_count": 2,
   "metadata": {},
   "outputs": [],
   "source": [
    "import tensorflow as tf\n",
    "assert tf.__version__ >= \"2.0\""
   ]
  },
  {
   "cell_type": "code",
   "execution_count": 3,
   "metadata": {},
   "outputs": [],
   "source": [
    "# This cell is only here as a bug fix when running RNN on my GPU\n",
    "physical_devices = tf.config.list_physical_devices('GPU')\n",
    "tf.config.experimental.set_memory_growth(physical_devices[0], enable=True)"
   ]
  },
  {
   "cell_type": "markdown",
   "metadata": {},
   "source": [
    "# Prepare data"
   ]
  },
  {
   "cell_type": "markdown",
   "metadata": {},
   "source": [
    "## Load dataset"
   ]
  },
  {
   "cell_type": "code",
   "execution_count": 25,
   "metadata": {},
   "outputs": [],
   "source": [
    "import pickle\n",
    "\n",
    "PICKLE_PATH = \"allocine_dataset/data/allocine_dataset.pickle\"\n",
    "\n",
    "with open(PICKLE_PATH, 'rb') as reader:\n",
    "    data = pickle.load(reader)\n",
    "\n",
    "# Reviews need to be tokenized\n",
    "train_reviews = np.array(data[\"train_set\"]['review'])\n",
    "val_reviews = np.array(data[\"val_set\"]['review'])\n",
    "test_reviews = np.array(data[\"test_set\"]['review'])\n",
    "\n",
    "# Used to train fit tokenizer\n",
    "#all_reviews = np.concatenate((train_reviews, val_reviews, test_reviews), axis=0)\n",
    "\n",
    "train_labels = data[\"train_set\"]['polarity']\n",
    "val_labels = data[\"val_set\"]['polarity']\n",
    "test_labels = data[\"test_set\"]['polarity']\n",
    "class_names = data['class_names']"
   ]
  },
  {
   "cell_type": "markdown",
   "metadata": {},
   "source": [
    "## Preprocess dataset"
   ]
  },
  {
   "cell_type": "markdown",
   "metadata": {},
   "source": [
    "### Tokenize"
   ]
  },
  {
   "cell_type": "markdown",
   "metadata": {},
   "source": [
    "We train the tokenizer on the reviews of the train set"
   ]
  },
  {
   "cell_type": "code",
   "execution_count": 5,
   "metadata": {},
   "outputs": [
    {
     "name": "stdout",
     "output_type": "stream",
     "text": [
      "Found 186308 unique tokens.\n"
     ]
    }
   ],
   "source": [
    "MAX_NB_WORDS = 20000\n",
    "\n",
    "tokenizer = tf.keras.preprocessing.text.Tokenizer(\n",
    "    num_words=MAX_NB_WORDS,\n",
    "    oov_token=\"<unk>\",\n",
    ")\n",
    "tokenizer.fit_on_texts(train_reviews)\n",
    "\n",
    "word_index = tokenizer.word_index\n",
    "print(\"Found {} unique tokens.\".format(len(word_index)))"
   ]
  },
  {
   "cell_type": "code",
   "execution_count": 6,
   "metadata": {},
   "outputs": [],
   "source": [
    "train_reviews_tokenized = tokenizer.texts_to_sequences(train_reviews)\n",
    "val_reviews_tokenized = tokenizer.texts_to_sequences(val_reviews)\n",
    "test_reviews_tokenized = tokenizer.texts_to_sequences(test_reviews)"
   ]
  },
  {
   "cell_type": "code",
   "execution_count": 7,
   "metadata": {},
   "outputs": [
    {
     "data": {
      "text/plain": [
       "[45, 68, 4664, 17, 77, 15081, 7, 80, 9, 8746, 2505, 249, 439, 17, 1181]"
      ]
     },
     "execution_count": 7,
     "metadata": {},
     "output_type": "execute_result"
    }
   ],
   "source": [
    "some_review = train_reviews_tokenized[0]\n",
    "some_review[:15]"
   ]
  },
  {
   "cell_type": "code",
   "execution_count": 8,
   "metadata": {},
   "outputs": [
    {
     "data": {
      "text/plain": [
       "\"si vous cherchez du cinéma abrutissant à tous les étages n'ayant aucune peur du cliché\""
      ]
     },
     "execution_count": 8,
     "metadata": {},
     "output_type": "execute_result"
    }
   ],
   "source": [
    "index_to_word = dict((i, w) for w, i in tokenizer.word_index.items())\n",
    "\" \".join([index_to_word[i] for i in some_review[:15]])"
   ]
  },
  {
   "cell_type": "code",
   "execution_count": 9,
   "metadata": {},
   "outputs": [
    {
     "name": "stdout",
     "output_type": "stream",
     "text": [
      "Average length: 91.5\n",
      "Max length: 389\n"
     ]
    },
    {
     "data": {
      "image/png": "[encoded data removed]",
      "text/plain": [
       "<Figure size 720x360 with 1 Axes>"
      ]
     },
     "metadata": {},
     "output_type": "display_data"
    }
   ],
   "source": [
    "reviews_len = [len(s) for s in train_reviews_tokenized+val_reviews_tokenized+test_reviews_tokenized]\n",
    "print(\"Average length: {:.1f}\".format(np.mean(reviews_len)))\n",
    "print(\"Max length: {}\".format(max(reviews_len)))\n",
    "\n",
    "plt.figure(figsize=(10,5))\n",
    "ax = sns.distplot(reviews_len, bins=150, kde=False, hist_kws=dict(alpha=0.8))\n",
    "ax.set(xlabel='Number of words')\n",
    "\n",
    "# Finalize the plot\n",
    "sns.despine(bottom=True)\n",
    "plt.tight_layout(h_pad=2)\n",
    "\n",
    "# Saving plot\n",
    "fig = ax.get_figure()\n",
    "fig.savefig('img/word-vectors/number_of_words.png', dpi=200)"
   ]
  },
  {
   "cell_type": "code",
   "execution_count": 10,
   "metadata": {},
   "outputs": [
    {
     "ename": "AssertionError",
     "evalue": "",
     "output_type": "error",
     "traceback": [
      "\u001b[0;31m---------------------------------------------------------------------------\u001b[0m",
      "\u001b[0;31mAssertionError\u001b[0m                            Traceback (most recent call last)",
      "\u001b[0;32m<ipython-input-10-f6b1d3c0054b>\u001b[0m in \u001b[0;36m<module>\u001b[0;34m\u001b[0m\n\u001b[1;32m      1\u001b[0m \u001b[0;31m# This assert is likely to fail\u001b[0m\u001b[0;34m\u001b[0m\u001b[0;34m\u001b[0m\u001b[0;34m\u001b[0m\u001b[0m\n\u001b[0;32m----> 2\u001b[0;31m \u001b[0;32massert\u001b[0m\u001b[0;34m(\u001b[0m\u001b[0mreviews_len\u001b[0m\u001b[0;34m.\u001b[0m\u001b[0mcount\u001b[0m\u001b[0;34m(\u001b[0m\u001b[0;36m0\u001b[0m\u001b[0;34m)\u001b[0m \u001b[0;34m==\u001b[0m \u001b[0;36m0\u001b[0m\u001b[0;34m)\u001b[0m\u001b[0;34m\u001b[0m\u001b[0;34m\u001b[0m\u001b[0m\n\u001b[0m",
      "\u001b[0;31mAssertionError\u001b[0m: "
     ]
    }
   ],
   "source": [
    "# This assert is likely to fail\n",
    "assert(reviews_len.count(0) == 0)"
   ]
  },
  {
   "cell_type": "markdown",
   "metadata": {},
   "source": [
    "### Remove empty sequences"
   ]
  },
  {
   "cell_type": "markdown",
   "metadata": {},
   "source": [
    "Important not to have empty tensors: https://github.com/tensorflow/tensorflow/issues/33148"
   ]
  },
  {
   "cell_type": "code",
   "execution_count": 10,
   "metadata": {},
   "outputs": [],
   "source": [
    "def remove_empty_sequences(reviews, labels):\n",
    "    reviews_not_empty = []\n",
    "    labels_not_empty = []\n",
    "    removed = 0\n",
    "    for x, y in zip(reviews, labels):\n",
    "        if len(x) > 0:\n",
    "            reviews_not_empty.append(x)\n",
    "            labels_not_empty.append(y)\n",
    "        else:\n",
    "            removed += 1\n",
    "    #print(\"Removed {} sequences !\".format(removed))\n",
    "    return reviews_not_empty, labels_not_empty"
   ]
  },
  {
   "cell_type": "code",
   "execution_count": 11,
   "metadata": {},
   "outputs": [
    {
     "name": "stdout",
     "output_type": "stream",
     "text": [
      "Removing 8 empty sequences\n"
     ]
    }
   ],
   "source": [
    "print('Removing {} empty sequences'.format(reviews_len.count(0)))\n",
    "\n",
    "train_reviews_tokenized, train_labels = remove_empty_sequences(\n",
    "    train_reviews_tokenized, train_labels\n",
    ")\n",
    "\n",
    "val_reviews_tokenized, val_labels = remove_empty_sequences(\n",
    "    val_reviews_tokenized, val_labels\n",
    ")\n",
    "\n",
    "test_reviews_tokenized, test_labels = remove_empty_sequences(\n",
    "    test_reviews_tokenized, test_labels\n",
    ")\n",
    "\n",
    "# Verify\n",
    "reviews_len = [len(s) for s in train_reviews_tokenized+val_reviews_tokenized+test_reviews_tokenized]\n",
    "assert(reviews_len.count(0) == 0)"
   ]
  },
  {
   "cell_type": "markdown",
   "metadata": {},
   "source": [
    "### Padding"
   ]
  },
  {
   "cell_type": "markdown",
   "metadata": {},
   "source": [
    "Then we pad short sequences with zeros until they reach a fixed length. Long sequences are also truncated."
   ]
  },
  {
   "cell_type": "code",
   "execution_count": 12,
   "metadata": {},
   "outputs": [
    {
     "name": "stdout",
     "output_type": "stream",
     "text": [
      "Shape of X_train tensor: (159993, 350)\n",
      "Shape of X_val tensor: (19999, 350)\n",
      "Shape of X_test tensor: (20000, 350)\n"
     ]
    }
   ],
   "source": [
    "MAX_LENGTH_SEQ = 350 #\n",
    "\n",
    "X_train = tf.keras.preprocessing.sequence.pad_sequences(\n",
    "    train_reviews_tokenized, \n",
    "    maxlen=MAX_LENGTH_SEQ,\n",
    "    padding='post'\n",
    ")\n",
    "\n",
    "X_val = tf.keras.preprocessing.sequence.pad_sequences(\n",
    "    val_reviews_tokenized, \n",
    "    maxlen=MAX_LENGTH_SEQ,\n",
    "    padding='post'\n",
    ")\n",
    "\n",
    "X_test = tf.keras.preprocessing.sequence.pad_sequences(\n",
    "    test_reviews_tokenized, \n",
    "    maxlen=MAX_LENGTH_SEQ,\n",
    "    padding='post'\n",
    ")\n",
    "\n",
    "print('Shape of X_train tensor:', X_train.shape)\n",
    "print('Shape of X_val tensor:', X_val.shape)\n",
    "print('Shape of X_test tensor:', X_test.shape)"
   ]
  },
  {
   "cell_type": "markdown",
   "metadata": {},
   "source": [
    "### Labels"
   ]
  },
  {
   "cell_type": "code",
   "execution_count": 20,
   "metadata": {},
   "outputs": [],
   "source": [
    "y_train = np.array(train_labels)\n",
    "y_val = np.array(val_labels)\n",
    "y_test = np.array(test_labels)"
   ]
  },
  {
   "cell_type": "markdown",
   "metadata": {},
   "source": [
    "### Preprocessing pipeline"
   ]
  },
  {
   "cell_type": "markdown",
   "metadata": {},
   "source": [
    "In order to carry out the preprocessing phase more efficiently, we can define a Scikit-Learn transformer."
   ]
  },
  {
   "cell_type": "code",
   "execution_count": 14,
   "metadata": {},
   "outputs": [],
   "source": [
    "from sklearn.base import BaseEstimator, TransformerMixin\n",
    "\n",
    "class SequencePreprocessor(BaseEstimator, TransformerMixin):\n",
    "    def __init__(self, max_nbr_words, max_seq_length):\n",
    "        self.tokenizer = tf.keras.preprocessing.text.Tokenizer(\n",
    "            num_words=max_nbr_words,\n",
    "            oov_token=\"<unk>\",\n",
    "        )\n",
    "        self.max_seq_length = max_seq_length\n",
    "\n",
    "    # the arguments are ignored anyway, so we make them optional\n",
    "    def fit(self, X):\n",
    "        self.tokenizer.fit_on_texts(X)\n",
    "\n",
    "    def transform(self, X, y):\n",
    "        # 1. Tokenize\n",
    "        X_tokenized = self.tokenizer.texts_to_sequences(X)\n",
    "        # 2. Remove empty sequences\n",
    "        X_not_empty, y_not_empty = remove_empty_sequences(X_tokenized, y)\n",
    "        # 3. Pad\n",
    "        X_padded = tf.keras.preprocessing.sequence.pad_sequences(\n",
    "            X_not_empty, \n",
    "            maxlen=self.max_seq_length,\n",
    "            padding='post'\n",
    "        )\n",
    "        # 4. labels\n",
    "        y_array = np.array(y_not_empty)\n",
    "        return X_padded, y_array     \n",
    "    \n",
    "    def fit_transform(self, X, y):\n",
    "        self.fit(X)\n",
    "        return self.transform(X, y)"
   ]
  },
  {
   "cell_type": "markdown",
   "metadata": {},
   "source": [
    "# fastText"
   ]
  },
  {
   "cell_type": "markdown",
   "metadata": {},
   "source": [
    "## Model"
   ]
  },
  {
   "cell_type": "markdown",
   "metadata": {},
   "source": [
    "First we train an model which classify reviews based on the average vector of their embeddings."
   ]
  },
  {
   "cell_type": "code",
   "execution_count": 59,
   "metadata": {},
   "outputs": [],
   "source": [
    "from tensorflow import keras\n",
    "from tensorflow.keras import layers\n",
    "\n",
    "max_features = MAX_NB_WORDS\n",
    "embedding_dim = 128\n",
    "\n",
    "model = keras.models.Sequential(name='fasttext')\n",
    "model.add(layers.Embedding(max_features, embedding_dim,\n",
    "                           input_shape=[None]),)\n",
    "model.add(layers.GlobalAveragePooling1D())\n",
    "model.add(layers.Dense(1, activation=\"sigmoid\"))\n",
    "\n",
    "model.compile(\n",
    "    loss=\"binary_crossentropy\",\n",
    "    optimizer=\"adam\",\n",
    "    metrics=[\"accuracy\"]\n",
    ")"
   ]
  },
  {
   "cell_type": "code",
   "execution_count": 60,
   "metadata": {},
   "outputs": [
    {
     "name": "stdout",
     "output_type": "stream",
     "text": [
      "Model: \"average\"\n",
      "_________________________________________________________________\n",
      "Layer (type)                 Output Shape              Param #   \n",
      "=================================================================\n",
      "embedding_2 (Embedding)      (None, None, 128)         2560000   \n",
      "_________________________________________________________________\n",
      "global_average_pooling1d (Gl (None, 128)               0         \n",
      "_________________________________________________________________\n",
      "dense_2 (Dense)              (None, 1)                 129       \n",
      "=================================================================\n",
      "Total params: 2,560,129\n",
      "Trainable params: 2,560,129\n",
      "Non-trainable params: 0\n",
      "_________________________________________________________________\n"
     ]
    }
   ],
   "source": [
    "initial_weights = model.get_weights()\n",
    "model.summary()"
   ]
  },
  {
   "cell_type": "markdown",
   "metadata": {},
   "source": [
    "## Training"
   ]
  },
  {
   "cell_type": "code",
   "execution_count": 61,
   "metadata": {},
   "outputs": [
    {
     "name": "stdout",
     "output_type": "stream",
     "text": [
      "Train on 159993 samples, validate on 19999 samples\n",
      "Epoch 1/10\n",
      "159872/159993 [============================>.] - ETA: 0s - loss: 0.4679 - accuracy: 0.8217\n",
      "Epoch 00001: val_loss improved from inf to 0.29829, saving model to /tmp/average_weights.hdf5\n",
      "159993/159993 [==============================] - 28s 177us/sample - loss: 0.4678 - accuracy: 0.8218 - val_loss: 0.2983 - val_accuracy: 0.9049\n",
      "Epoch 2/10\n",
      "159872/159993 [============================>.] - ETA: 0s - loss: 0.2547 - accuracy: 0.9123\n",
      "Epoch 00002: val_loss improved from 0.29829 to 0.22919, saving model to /tmp/average_weights.hdf5\n",
      "159993/159993 [==============================] - 28s 172us/sample - loss: 0.2546 - accuracy: 0.9123 - val_loss: 0.2292 - val_accuracy: 0.9193\n",
      "Epoch 3/10\n",
      "159872/159993 [============================>.] - ETA: 0s - loss: 0.2055 - accuracy: 0.9267\n",
      "Epoch 00003: val_loss improved from 0.22919 to 0.20834, saving model to /tmp/average_weights.hdf5\n",
      "159993/159993 [==============================] - 28s 174us/sample - loss: 0.2056 - accuracy: 0.9267 - val_loss: 0.2083 - val_accuracy: 0.9250\n",
      "Epoch 4/10\n",
      "159744/159993 [============================>.] - ETA: 0s - loss: 0.1835 - accuracy: 0.9333\n",
      "Epoch 00004: val_loss improved from 0.20834 to 0.20557, saving model to /tmp/average_weights.hdf5\n",
      "159993/159993 [==============================] - 28s 173us/sample - loss: 0.1834 - accuracy: 0.9333 - val_loss: 0.2056 - val_accuracy: 0.9256\n",
      "Epoch 5/10\n",
      "159872/159993 [============================>.] - ETA: 0s - loss: 0.1698 - accuracy: 0.9375\n",
      "Epoch 00005: val_loss improved from 0.20557 to 0.20093, saving model to /tmp/average_weights.hdf5\n",
      "159993/159993 [==============================] - 27s 171us/sample - loss: 0.1698 - accuracy: 0.9375 - val_loss: 0.2009 - val_accuracy: 0.9288\n",
      "Epoch 6/10\n",
      "159616/159993 [============================>.] - ETA: 0s - loss: 0.1601 - accuracy: 0.9407\n",
      "Epoch 00006: val_loss did not improve from 0.20093\n",
      "159993/159993 [==============================] - 28s 178us/sample - loss: 0.1601 - accuracy: 0.9407 - val_loss: 0.2025 - val_accuracy: 0.9280\n",
      "Epoch 7/10\n",
      "159872/159993 [============================>.] - ETA: 0s - loss: 0.1527 - accuracy: 0.9435\n",
      "Epoch 00007: val_loss did not improve from 0.20093\n",
      "159993/159993 [==============================] - 28s 175us/sample - loss: 0.1527 - accuracy: 0.9436 - val_loss: 0.2040 - val_accuracy: 0.9280\n",
      "Epoch 8/10\n",
      "159744/159993 [============================>.] - ETA: 0s - loss: 0.1466 - accuracy: 0.9459\n",
      "Epoch 00008: val_loss did not improve from 0.20093\n",
      "159993/159993 [==============================] - 28s 175us/sample - loss: 0.1466 - accuracy: 0.9458 - val_loss: 0.2087 - val_accuracy: 0.9275\n",
      "Epoch 9/10\n",
      "159872/159993 [============================>.] - ETA: 0s - loss: 0.1411 - accuracy: 0.9478\n",
      "Epoch 00009: val_loss did not improve from 0.20093\n",
      "159993/159993 [==============================] - 28s 172us/sample - loss: 0.1411 - accuracy: 0.9478 - val_loss: 0.2112 - val_accuracy: 0.9258\n",
      "Epoch 10/10\n",
      "159872/159993 [============================>.] - ETA: 0s - loss: 0.1366 - accuracy: 0.9496\n",
      "Epoch 00010: val_loss did not improve from 0.20093\n",
      "159993/159993 [==============================] - 27s 172us/sample - loss: 0.1366 - accuracy: 0.9496 - val_loss: 0.2166 - val_accuracy: 0.9260\n"
     ]
    }
   ],
   "source": [
    "checkpointer = tf.keras.callbacks.ModelCheckpoint(\n",
    "    filepath='/tmp/fasttext_weights.hdf5',\n",
    "    save_best_only=True, verbose=1\n",
    ")\n",
    "\n",
    "history = model.fit(\n",
    "    X_train, y_train,\n",
    "    validation_data=(X_val, y_val),\n",
    "    epochs=10, batch_size=128, \n",
    "    callbacks=[checkpointer], verbose=1)"
   ]
  },
  {
   "cell_type": "code",
   "execution_count": 62,
   "metadata": {
    "scrolled": false
   },
   "outputs": [
    {
     "data": {
      "image/png": "[encoded data removed]",
      "text/plain": [
       "<Figure size 864x360 with 2 Axes>"
      ]
     },
     "metadata": {},
     "output_type": "display_data"
    }
   ],
   "source": [
    "from utils import plot_training_curves\n",
    "\n",
    "fig = plot_training_curves(history)\n",
    "\n",
    "# Finalize the plot\n",
    "sns.despine(bottom=True)\n",
    "plt.tight_layout(h_pad=2)\n",
    "\n",
    "# Saving plot\n",
    "fig.savefig('img/word-vectors/fasttext_training.png', dpi=200)"
   ]
  },
  {
   "cell_type": "code",
   "execution_count": 63,
   "metadata": {},
   "outputs": [
    {
     "name": "stdout",
     "output_type": "stream",
     "text": [
      "Val Accuracy: 92.88\n",
      "Val F1-Score: 92.75\n"
     ]
    }
   ],
   "source": [
    "from sklearn import metrics\n",
    "\n",
    "model.load_weights('/tmp/fasttext_weights.hdf5')\n",
    "probas = model.predict(X_val)\n",
    "y_pred = (probas > 0.5).astype(np.int)\n",
    "\n",
    "print(\"Val Accuracy: {:.2f}\".format(100 * metrics.accuracy_score(y_val, y_pred)))\n",
    "print(\"Val F1-Score: {:.2f}\".format(100 * metrics.f1_score(y_val, y_pred)))"
   ]
  },
  {
   "cell_type": "markdown",
   "metadata": {},
   "source": [
    "This simple technique works surprisingly well on our task !"
   ]
  },
  {
   "cell_type": "markdown",
   "metadata": {},
   "source": [
    "## Testing"
   ]
  },
  {
   "cell_type": "code",
   "execution_count": 64,
   "metadata": {},
   "outputs": [],
   "source": [
    "probas = model.predict(X_test)\n",
    "y_pred = (probas > 0.5).astype(np.int)"
   ]
  },
  {
   "cell_type": "code",
   "execution_count": 65,
   "metadata": {
    "scrolled": true
   },
   "outputs": [
    {
     "name": "stdout",
     "output_type": "stream",
     "text": [
      "Test Accuracy: 92.90\n",
      "Test F1-Score: 92.57\n",
      "\n",
      "              precision    recall  f1-score   support\n",
      "\n",
      "    Negative       0.93      0.93      0.93     10408\n",
      "    Positive       0.93      0.92      0.93      9592\n",
      "\n",
      "    accuracy                           0.93     20000\n",
      "   macro avg       0.93      0.93      0.93     20000\n",
      "weighted avg       0.93      0.93      0.93     20000\n",
      "\n"
     ]
    }
   ],
   "source": [
    "print(\"Test Accuracy: {:.2f}\".format(100 * metrics.accuracy_score(y_test, y_pred)))\n",
    "print(\"Test F1-Score: {:.2f}\".format(100 * metrics.f1_score(y_test, y_pred)))\n",
    "print()\n",
    "\n",
    "report = metrics.classification_report(\n",
    "    y_test, y_pred, \n",
    "    target_names=class_names.values()\n",
    ")\n",
    "print(report)"
   ]
  },
  {
   "cell_type": "code",
   "execution_count": 66,
   "metadata": {},
   "outputs": [
    {
     "data": {
      "image/png": "[encoded data removed]",
      "text/plain": [
       "<Figure size 504x360 with 2 Axes>"
      ]
     },
     "metadata": {},
     "output_type": "display_data"
    }
   ],
   "source": [
    "from sklearn.metrics import confusion_matrix\n",
    "from utils import print_confusion_matrix\n",
    "\n",
    "conf_mx = confusion_matrix(y_test, y_pred)\n",
    "\n",
    "fig = print_confusion_matrix(\n",
    "    conf_mx, \n",
    "    class_names.values(), \n",
    "    figsize=(7,5)\n",
    ")\n",
    "\n",
    "# Finalize the plot\n",
    "sns.despine(bottom=True)\n",
    "plt.tight_layout(h_pad=2)\n",
    "\n",
    "# Saving plot\n",
    "fig.savefig('img/word-vectors/fastext_test_confusion_mx.png', dpi=200)"
   ]
  },
  {
   "cell_type": "markdown",
   "metadata": {},
   "source": [
    "## Accuracy vs Training data"
   ]
  },
  {
   "cell_type": "code",
   "execution_count": 45,
   "metadata": {},
   "outputs": [],
   "source": [
    "from sklearn.base import BaseEstimator\n",
    "\n",
    "class EarlyStoppingModel(BaseEstimator):\n",
    "    def __init__(self, keras_model, max_epoches, batch_size, validation_data):\n",
    "        self.model = keras_model\n",
    "        self.max_epoches = max_epoches\n",
    "        self.batch_size = batch_size\n",
    "        self.validation_data = validation_data\n",
    "        \n",
    "    def fit(self, X, y):\n",
    "        # Defines early stopper\n",
    "        early_stopper = tf.keras.callbacks.EarlyStopping(\n",
    "            monitor='val_loss', mode='auto', patience=3,\n",
    "            verbose=1, restore_best_weights=True\n",
    "        )\n",
    "        \n",
    "        # Train model on data subset\n",
    "        self.model.fit(\n",
    "            X, y,\n",
    "            validation_data=self.validation_data,\n",
    "            epochs=self.max_epoches, \n",
    "            batch_size=self.batch_size,\n",
    "            callbacks=[early_stopper], \n",
    "            verbose=2\n",
    "        )        \n",
    "        return self\n",
    "    \n",
    "    def predict(self, X):        \n",
    "        probas = self.model.predict(X)\n",
    "        y_pred = (probas > 0.5).astype(np.int)\n",
    "        return y_pred"
   ]
  },
  {
   "cell_type": "code",
   "execution_count": 16,
   "metadata": {},
   "outputs": [],
   "source": [
    "from sklearn import metrics \n",
    "\n",
    "def accuracy_vs_training_data(keras_model, initial_weights, \n",
    "                              preprocessor, sizes,\n",
    "                              train_reviews, train_labels,\n",
    "                              val_reviews, val_labels,\n",
    "                              test_reviews, test_labels):\n",
    "    test_accuracies = []\n",
    "    for size in sizes:        \n",
    "        # Preprocess data\n",
    "        X_train, y_train = preprocessor.fit_transform(\n",
    "            train_reviews[:size], train_labels[:size]\n",
    "        )\n",
    "        X_val, y_val = preprocessor.transform(val_reviews, val_labels)\n",
    "        X_test, y_test = preprocessor.transform(test_reviews, test_labels)\n",
    "        \n",
    "        # Reset weights to initial value\n",
    "        keras_model.set_weights(initial_weights)\n",
    "        best_model = EarlyStoppingModel(\n",
    "            keras_model, max_epoches=100, batch_size=64,\n",
    "            validation_data=(X_val, y_val)\n",
    "        )\n",
    "        \n",
    "        # Train model\n",
    "        best_model.fit(X_train, y_train)\n",
    "        \n",
    "        # Evaluate on test set\n",
    "        y_pred = best_model.predict(X_test)\n",
    "        test_acc = metrics.accuracy_score(y_test, y_pred)\n",
    "        test_accuracies.append(test_acc)\n",
    "        \n",
    "    return test_accuracies        "
   ]
  },
  {
   "cell_type": "code",
   "execution_count": 61,
   "metadata": {},
   "outputs": [
    {
     "name": "stdout",
     "output_type": "stream",
     "text": [
      "Train on 1000 samples, validate on 19999 samples\n",
      "Epoch 1/100\n",
      "1000/1000 - 1s - loss: 0.6925 - accuracy: 0.5100 - val_loss: 0.6912 - val_accuracy: 0.5379\n",
      "Epoch 2/100\n",
      "1000/1000 - 1s - loss: 0.6894 - accuracy: 0.5430 - val_loss: 0.6896 - val_accuracy: 0.5413\n",
      "Epoch 3/100\n",
      "1000/1000 - 1s - loss: 0.6873 - accuracy: 0.5420 - val_loss: 0.6881 - val_accuracy: 0.5408\n",
      "Epoch 4/100\n",
      "1000/1000 - 1s - loss: 0.6839 - accuracy: 0.5810 - val_loss: 0.6860 - val_accuracy: 0.5734\n",
      "Epoch 5/100\n",
      "1000/1000 - 1s - loss: 0.6801 - accuracy: 0.6110 - val_loss: 0.6839 - val_accuracy: 0.5750\n",
      "Epoch 6/100\n",
      "1000/1000 - 1s - loss: 0.6761 - accuracy: 0.6380 - val_loss: 0.6813 - val_accuracy: 0.5894\n",
      "Epoch 7/100\n",
      "1000/1000 - 1s - loss: 0.6709 - accuracy: 0.6440 - val_loss: 0.6783 - val_accuracy: 0.5893\n",
      "Epoch 8/100\n",
      "1000/1000 - 1s - loss: 0.6649 - accuracy: 0.6540 - val_loss: 0.6748 - val_accuracy: 0.6007\n",
      "Epoch 9/100\n",
      "1000/1000 - 1s - loss: 0.6582 - accuracy: 0.6870 - val_loss: 0.6709 - val_accuracy: 0.6293\n",
      "Epoch 10/100\n",
      "1000/1000 - 1s - loss: 0.6505 - accuracy: 0.7200 - val_loss: 0.6665 - val_accuracy: 0.6388\n",
      "Epoch 11/100\n",
      "1000/1000 - 1s - loss: 0.6417 - accuracy: 0.7070 - val_loss: 0.6618 - val_accuracy: 0.6215\n",
      "Epoch 12/100\n",
      "1000/1000 - 1s - loss: 0.6322 - accuracy: 0.7220 - val_loss: 0.6560 - val_accuracy: 0.6516\n",
      "Epoch 13/100\n",
      "1000/1000 - 1s - loss: 0.6212 - accuracy: 0.7570 - val_loss: 0.6504 - val_accuracy: 0.6568\n",
      "Epoch 14/100\n",
      "1000/1000 - 1s - loss: 0.6093 - accuracy: 0.7610 - val_loss: 0.6441 - val_accuracy: 0.6654\n",
      "Epoch 15/100\n",
      "1000/1000 - 1s - loss: 0.5965 - accuracy: 0.7860 - val_loss: 0.6372 - val_accuracy: 0.6865\n",
      "Epoch 16/100\n",
      "1000/1000 - 1s - loss: 0.5844 - accuracy: 0.8260 - val_loss: 0.6303 - val_accuracy: 0.6867\n",
      "Epoch 17/100\n",
      "1000/1000 - 1s - loss: 0.5700 - accuracy: 0.8300 - val_loss: 0.6229 - val_accuracy: 0.7050\n",
      "Epoch 18/100\n",
      "1000/1000 - 1s - loss: 0.5553 - accuracy: 0.8220 - val_loss: 0.6152 - val_accuracy: 0.7308\n",
      "Epoch 19/100\n",
      "1000/1000 - 1s - loss: 0.5405 - accuracy: 0.8830 - val_loss: 0.6075 - val_accuracy: 0.7622\n",
      "Epoch 20/100\n",
      "1000/1000 - 1s - loss: 0.5262 - accuracy: 0.8460 - val_loss: 0.6000 - val_accuracy: 0.7390\n",
      "Epoch 21/100\n",
      "1000/1000 - 1s - loss: 0.5106 - accuracy: 0.8960 - val_loss: 0.5922 - val_accuracy: 0.7574\n",
      "Epoch 22/100\n",
      "1000/1000 - 1s - loss: 0.4959 - accuracy: 0.9300 - val_loss: 0.5843 - val_accuracy: 0.7724\n",
      "Epoch 23/100\n",
      "1000/1000 - 1s - loss: 0.4827 - accuracy: 0.8500 - val_loss: 0.5766 - val_accuracy: 0.7815\n",
      "Epoch 24/100\n",
      "1000/1000 - 1s - loss: 0.4665 - accuracy: 0.9500 - val_loss: 0.5690 - val_accuracy: 0.8020\n",
      "Epoch 25/100\n",
      "1000/1000 - 1s - loss: 0.4527 - accuracy: 0.8960 - val_loss: 0.5617 - val_accuracy: 0.7873\n",
      "Epoch 26/100\n",
      "1000/1000 - 1s - loss: 0.4376 - accuracy: 0.9320 - val_loss: 0.5542 - val_accuracy: 0.7981\n",
      "Epoch 27/100\n",
      "1000/1000 - 1s - loss: 0.4244 - accuracy: 0.9590 - val_loss: 0.5471 - val_accuracy: 0.7991\n",
      "Epoch 28/100\n",
      "1000/1000 - 1s - loss: 0.4128 - accuracy: 0.8950 - val_loss: 0.5403 - val_accuracy: 0.8178\n",
      "Epoch 29/100\n",
      "1000/1000 - 1s - loss: 0.3995 - accuracy: 0.9630 - val_loss: 0.5343 - val_accuracy: 0.7954\n",
      "Epoch 30/100\n",
      "1000/1000 - 1s - loss: 0.3856 - accuracy: 0.9260 - val_loss: 0.5274 - val_accuracy: 0.8072\n",
      "Epoch 31/100\n",
      "1000/1000 - 1s - loss: 0.3741 - accuracy: 0.9660 - val_loss: 0.5214 - val_accuracy: 0.8062\n",
      "Epoch 32/100\n",
      "1000/1000 - 1s - loss: 0.3626 - accuracy: 0.9480 - val_loss: 0.5151 - val_accuracy: 0.8182\n",
      "Epoch 33/100\n",
      "1000/1000 - 1s - loss: 0.3505 - accuracy: 0.9480 - val_loss: 0.5093 - val_accuracy: 0.8182\n",
      "Epoch 34/100\n",
      "1000/1000 - 1s - loss: 0.3399 - accuracy: 0.9620 - val_loss: 0.5041 - val_accuracy: 0.8135\n",
      "Epoch 35/100\n",
      "1000/1000 - 1s - loss: 0.3291 - accuracy: 0.9570 - val_loss: 0.4982 - val_accuracy: 0.8266\n",
      "Epoch 36/100\n",
      "1000/1000 - 1s - loss: 0.3199 - accuracy: 0.9520 - val_loss: 0.4931 - val_accuracy: 0.8277\n",
      "Epoch 37/100\n",
      "1000/1000 - 1s - loss: 0.3123 - accuracy: 0.9710 - val_loss: 0.4904 - val_accuracy: 0.8026\n",
      "Epoch 38/100\n",
      "1000/1000 - 1s - loss: 0.3005 - accuracy: 0.9560 - val_loss: 0.4835 - val_accuracy: 0.8244\n",
      "Epoch 39/100\n",
      "1000/1000 - 1s - loss: 0.2916 - accuracy: 0.9680 - val_loss: 0.4788 - val_accuracy: 0.8287\n",
      "Epoch 40/100\n",
      "1000/1000 - 1s - loss: 0.2837 - accuracy: 0.9590 - val_loss: 0.4745 - val_accuracy: 0.8328\n",
      "Epoch 41/100\n",
      "1000/1000 - 1s - loss: 0.2757 - accuracy: 0.9660 - val_loss: 0.4702 - val_accuracy: 0.8294\n",
      "Epoch 42/100\n",
      "1000/1000 - 1s - loss: 0.2668 - accuracy: 0.9690 - val_loss: 0.4662 - val_accuracy: 0.8345\n",
      "Epoch 43/100\n",
      "1000/1000 - 1s - loss: 0.2591 - accuracy: 0.9740 - val_loss: 0.4636 - val_accuracy: 0.8208\n",
      "Epoch 44/100\n",
      "1000/1000 - 1s - loss: 0.2537 - accuracy: 0.9560 - val_loss: 0.4594 - val_accuracy: 0.8366\n",
      "Epoch 45/100\n",
      "1000/1000 - 1s - loss: 0.2454 - accuracy: 0.9790 - val_loss: 0.4551 - val_accuracy: 0.8310\n",
      "Epoch 46/100\n",
      "1000/1000 - 1s - loss: 0.2377 - accuracy: 0.9710 - val_loss: 0.4519 - val_accuracy: 0.8311\n",
      "Epoch 47/100\n",
      "1000/1000 - 1s - loss: 0.2316 - accuracy: 0.9760 - val_loss: 0.4482 - val_accuracy: 0.8336\n",
      "Epoch 48/100\n",
      "1000/1000 - 1s - loss: 0.2259 - accuracy: 0.9660 - val_loss: 0.4450 - val_accuracy: 0.8343\n",
      "Epoch 49/100\n",
      "1000/1000 - 1s - loss: 0.2191 - accuracy: 0.9790 - val_loss: 0.4418 - val_accuracy: 0.8367\n",
      "Epoch 50/100\n",
      "1000/1000 - 1s - loss: 0.2130 - accuracy: 0.9760 - val_loss: 0.4392 - val_accuracy: 0.8350\n",
      "Epoch 51/100\n",
      "1000/1000 - 1s - loss: 0.2074 - accuracy: 0.9790 - val_loss: 0.4362 - val_accuracy: 0.8367\n",
      "Epoch 52/100\n",
      "1000/1000 - 1s - loss: 0.2020 - accuracy: 0.9770 - val_loss: 0.4336 - val_accuracy: 0.8359\n",
      "Epoch 53/100\n",
      "1000/1000 - 1s - loss: 0.1974 - accuracy: 0.9780 - val_loss: 0.4309 - val_accuracy: 0.8397\n",
      "Epoch 54/100\n",
      "1000/1000 - 1s - loss: 0.1916 - accuracy: 0.9800 - val_loss: 0.4291 - val_accuracy: 0.8350\n",
      "Epoch 55/100\n",
      "1000/1000 - 1s - loss: 0.1871 - accuracy: 0.9790 - val_loss: 0.4260 - val_accuracy: 0.8388\n",
      "Epoch 56/100\n",
      "1000/1000 - 1s - loss: 0.1823 - accuracy: 0.9800 - val_loss: 0.4236 - val_accuracy: 0.8403\n",
      "Epoch 57/100\n",
      "1000/1000 - 1s - loss: 0.1778 - accuracy: 0.9810 - val_loss: 0.4216 - val_accuracy: 0.8398\n",
      "Epoch 58/100\n",
      "1000/1000 - 1s - loss: 0.1733 - accuracy: 0.9830 - val_loss: 0.4196 - val_accuracy: 0.8393\n",
      "Epoch 59/100\n",
      "1000/1000 - 1s - loss: 0.1689 - accuracy: 0.9820 - val_loss: 0.4175 - val_accuracy: 0.8406\n",
      "Epoch 60/100\n",
      "1000/1000 - 1s - loss: 0.1649 - accuracy: 0.9830 - val_loss: 0.4154 - val_accuracy: 0.8411\n",
      "Epoch 61/100\n",
      "1000/1000 - 1s - loss: 0.1613 - accuracy: 0.9830 - val_loss: 0.4147 - val_accuracy: 0.8373\n",
      "Epoch 62/100\n",
      "1000/1000 - 1s - loss: 0.1571 - accuracy: 0.9830 - val_loss: 0.4117 - val_accuracy: 0.8419\n",
      "Epoch 63/100\n",
      "1000/1000 - 1s - loss: 0.1546 - accuracy: 0.9850 - val_loss: 0.4110 - val_accuracy: 0.8389\n",
      "Epoch 64/100\n",
      "1000/1000 - 1s - loss: 0.1506 - accuracy: 0.9850 - val_loss: 0.4093 - val_accuracy: 0.8395\n",
      "Epoch 65/100\n",
      "1000/1000 - 1s - loss: 0.1465 - accuracy: 0.9840 - val_loss: 0.4069 - val_accuracy: 0.8420\n",
      "Epoch 66/100\n",
      "1000/1000 - 1s - loss: 0.1432 - accuracy: 0.9840 - val_loss: 0.4054 - val_accuracy: 0.8424\n",
      "Epoch 67/100\n",
      "1000/1000 - 1s - loss: 0.1399 - accuracy: 0.9850 - val_loss: 0.4043 - val_accuracy: 0.8419\n",
      "Epoch 68/100\n",
      "1000/1000 - 1s - loss: 0.1372 - accuracy: 0.9840 - val_loss: 0.4026 - val_accuracy: 0.8436\n",
      "Epoch 69/100\n",
      "1000/1000 - 1s - loss: 0.1337 - accuracy: 0.9850 - val_loss: 0.4017 - val_accuracy: 0.8419\n",
      "Epoch 70/100\n",
      "1000/1000 - 1s - loss: 0.1309 - accuracy: 0.9870 - val_loss: 0.4000 - val_accuracy: 0.8440\n",
      "Epoch 71/100\n",
      "1000/1000 - 1s - loss: 0.1280 - accuracy: 0.9860 - val_loss: 0.3989 - val_accuracy: 0.8437\n",
      "Epoch 72/100\n",
      "1000/1000 - 1s - loss: 0.1254 - accuracy: 0.9850 - val_loss: 0.3983 - val_accuracy: 0.8423\n",
      "Epoch 73/100\n",
      "1000/1000 - 1s - loss: 0.1226 - accuracy: 0.9870 - val_loss: 0.3973 - val_accuracy: 0.8421\n",
      "Epoch 74/100\n",
      "1000/1000 - 1s - loss: 0.1199 - accuracy: 0.9860 - val_loss: 0.3956 - val_accuracy: 0.8444\n",
      "Epoch 75/100\n",
      "1000/1000 - 1s - loss: 0.1179 - accuracy: 0.9850 - val_loss: 0.3947 - val_accuracy: 0.8441\n",
      "Epoch 76/100\n",
      "1000/1000 - 1s - loss: 0.1153 - accuracy: 0.9870 - val_loss: 0.3945 - val_accuracy: 0.8420\n",
      "Epoch 77/100\n",
      "1000/1000 - 1s - loss: 0.1128 - accuracy: 0.9870 - val_loss: 0.3927 - val_accuracy: 0.8455\n",
      "Epoch 78/100\n",
      "1000/1000 - 1s - loss: 0.1104 - accuracy: 0.9870 - val_loss: 0.3924 - val_accuracy: 0.8429\n",
      "Epoch 79/100\n",
      "1000/1000 - 1s - loss: 0.1084 - accuracy: 0.9900 - val_loss: 0.3915 - val_accuracy: 0.8433\n"
     ]
    },
    {
     "name": "stdout",
     "output_type": "stream",
     "text": [
      "Epoch 80/100\n",
      "1000/1000 - 1s - loss: 0.1061 - accuracy: 0.9880 - val_loss: 0.3907 - val_accuracy: 0.8443\n",
      "Epoch 81/100\n",
      "1000/1000 - 1s - loss: 0.1037 - accuracy: 0.9900 - val_loss: 0.3895 - val_accuracy: 0.8451\n",
      "Epoch 82/100\n",
      "1000/1000 - 1s - loss: 0.1015 - accuracy: 0.9900 - val_loss: 0.3899 - val_accuracy: 0.8422\n",
      "Epoch 83/100\n",
      "1000/1000 - 1s - loss: 0.1001 - accuracy: 0.9900 - val_loss: 0.3891 - val_accuracy: 0.8428\n",
      "Epoch 84/100\n",
      "1000/1000 - 1s - loss: 0.0977 - accuracy: 0.9880 - val_loss: 0.3876 - val_accuracy: 0.8457\n",
      "Epoch 85/100\n",
      "1000/1000 - 1s - loss: 0.0959 - accuracy: 0.9900 - val_loss: 0.3869 - val_accuracy: 0.8466\n",
      "Epoch 86/100\n",
      "1000/1000 - 1s - loss: 0.0943 - accuracy: 0.9890 - val_loss: 0.3864 - val_accuracy: 0.8462\n",
      "Epoch 87/100\n",
      "1000/1000 - 1s - loss: 0.0925 - accuracy: 0.9940 - val_loss: 0.3878 - val_accuracy: 0.8409\n",
      "Epoch 88/100\n",
      "1000/1000 - 1s - loss: 0.0906 - accuracy: 0.9900 - val_loss: 0.3855 - val_accuracy: 0.8458\n",
      "Epoch 89/100\n",
      "1000/1000 - 1s - loss: 0.0887 - accuracy: 0.9910 - val_loss: 0.3848 - val_accuracy: 0.8468\n",
      "Epoch 90/100\n",
      "1000/1000 - 1s - loss: 0.0871 - accuracy: 0.9920 - val_loss: 0.3845 - val_accuracy: 0.8459\n",
      "Epoch 91/100\n",
      "1000/1000 - 1s - loss: 0.0855 - accuracy: 0.9910 - val_loss: 0.3839 - val_accuracy: 0.8470\n",
      "Epoch 92/100\n",
      "1000/1000 - 1s - loss: 0.0842 - accuracy: 0.9930 - val_loss: 0.3836 - val_accuracy: 0.8470\n",
      "Epoch 93/100\n",
      "1000/1000 - 1s - loss: 0.0828 - accuracy: 0.9910 - val_loss: 0.3833 - val_accuracy: 0.8464\n",
      "Epoch 94/100\n",
      "1000/1000 - 1s - loss: 0.0815 - accuracy: 0.9940 - val_loss: 0.3845 - val_accuracy: 0.8438\n",
      "Epoch 95/100\n",
      "1000/1000 - 1s - loss: 0.0795 - accuracy: 0.9890 - val_loss: 0.3827 - val_accuracy: 0.8465\n",
      "Epoch 96/100\n",
      "1000/1000 - 1s - loss: 0.0785 - accuracy: 0.9940 - val_loss: 0.3840 - val_accuracy: 0.8437\n",
      "Epoch 97/100\n",
      "1000/1000 - 1s - loss: 0.0768 - accuracy: 0.9910 - val_loss: 0.3821 - val_accuracy: 0.8464\n",
      "Epoch 98/100\n",
      "1000/1000 - 1s - loss: 0.0758 - accuracy: 0.9940 - val_loss: 0.3824 - val_accuracy: 0.8459\n",
      "Epoch 99/100\n",
      "1000/1000 - 1s - loss: 0.0738 - accuracy: 0.9920 - val_loss: 0.3819 - val_accuracy: 0.8464\n",
      "Epoch 100/100\n",
      "1000/1000 - 1s - loss: 0.0726 - accuracy: 0.9940 - val_loss: 0.3817 - val_accuracy: 0.8462\n",
      "Train on 1757 samples, validate on 19999 samples\n",
      "Epoch 1/100\n",
      "1757/1757 - 1s - loss: 0.6932 - accuracy: 0.5174 - val_loss: 0.6909 - val_accuracy: 0.5113\n",
      "Epoch 2/100\n",
      "1757/1757 - 1s - loss: 0.6881 - accuracy: 0.5857 - val_loss: 0.6882 - val_accuracy: 0.5823\n",
      "Epoch 3/100\n",
      "1757/1757 - 1s - loss: 0.6835 - accuracy: 0.5805 - val_loss: 0.6852 - val_accuracy: 0.5735\n",
      "Epoch 4/100\n",
      "1757/1757 - 1s - loss: 0.6775 - accuracy: 0.6386 - val_loss: 0.6815 - val_accuracy: 0.6021\n",
      "Epoch 5/100\n",
      "1757/1757 - 1s - loss: 0.6705 - accuracy: 0.6614 - val_loss: 0.6771 - val_accuracy: 0.6081\n",
      "Epoch 6/100\n",
      "1757/1757 - 1s - loss: 0.6620 - accuracy: 0.6756 - val_loss: 0.6712 - val_accuracy: 0.6246\n",
      "Epoch 7/100\n",
      "1757/1757 - 1s - loss: 0.6511 - accuracy: 0.7496 - val_loss: 0.6637 - val_accuracy: 0.6492\n",
      "Epoch 8/100\n",
      "1757/1757 - 1s - loss: 0.6370 - accuracy: 0.7615 - val_loss: 0.6545 - val_accuracy: 0.6803\n",
      "Epoch 9/100\n",
      "1757/1757 - 1s - loss: 0.6202 - accuracy: 0.7934 - val_loss: 0.6437 - val_accuracy: 0.7204\n",
      "Epoch 10/100\n",
      "1757/1757 - 1s - loss: 0.6002 - accuracy: 0.8429 - val_loss: 0.6312 - val_accuracy: 0.7334\n",
      "Epoch 11/100\n",
      "1757/1757 - 1s - loss: 0.5784 - accuracy: 0.7906 - val_loss: 0.6171 - val_accuracy: 0.7585\n",
      "Epoch 12/100\n",
      "1757/1757 - 1s - loss: 0.5538 - accuracy: 0.8936 - val_loss: 0.6021 - val_accuracy: 0.8006\n",
      "Epoch 13/100\n",
      "1757/1757 - 1s - loss: 0.5279 - accuracy: 0.9203 - val_loss: 0.5887 - val_accuracy: 0.7246\n",
      "Epoch 14/100\n",
      "1757/1757 - 1s - loss: 0.5019 - accuracy: 0.9021 - val_loss: 0.5713 - val_accuracy: 0.7834\n",
      "Epoch 15/100\n",
      "1757/1757 - 1s - loss: 0.4741 - accuracy: 0.9084 - val_loss: 0.5548 - val_accuracy: 0.8306\n",
      "Epoch 16/100\n",
      "1757/1757 - 1s - loss: 0.4482 - accuracy: 0.9499 - val_loss: 0.5431 - val_accuracy: 0.7644\n",
      "Epoch 17/100\n",
      "1757/1757 - 1s - loss: 0.4247 - accuracy: 0.9277 - val_loss: 0.5249 - val_accuracy: 0.8397\n",
      "Epoch 18/100\n",
      "1757/1757 - 1s - loss: 0.4009 - accuracy: 0.9437 - val_loss: 0.5121 - val_accuracy: 0.8435\n",
      "Epoch 19/100\n",
      "1757/1757 - 1s - loss: 0.3782 - accuracy: 0.9516 - val_loss: 0.4985 - val_accuracy: 0.8445\n",
      "Epoch 20/100\n",
      "1757/1757 - 1s - loss: 0.3570 - accuracy: 0.9562 - val_loss: 0.4866 - val_accuracy: 0.8337\n",
      "Epoch 21/100\n",
      "1757/1757 - 1s - loss: 0.3370 - accuracy: 0.9602 - val_loss: 0.4757 - val_accuracy: 0.8480\n",
      "Epoch 22/100\n",
      "1757/1757 - 1s - loss: 0.3198 - accuracy: 0.9630 - val_loss: 0.4658 - val_accuracy: 0.8491\n",
      "Epoch 23/100\n",
      "1757/1757 - 1s - loss: 0.3031 - accuracy: 0.9698 - val_loss: 0.4566 - val_accuracy: 0.8345\n",
      "Epoch 24/100\n",
      "1757/1757 - 1s - loss: 0.2872 - accuracy: 0.9693 - val_loss: 0.4472 - val_accuracy: 0.8399\n",
      "Epoch 25/100\n",
      "1757/1757 - 1s - loss: 0.2725 - accuracy: 0.9693 - val_loss: 0.4375 - val_accuracy: 0.8506\n",
      "Epoch 26/100\n",
      "1757/1757 - 1s - loss: 0.2593 - accuracy: 0.9715 - val_loss: 0.4301 - val_accuracy: 0.8503\n",
      "Epoch 27/100\n",
      "1757/1757 - 1s - loss: 0.2474 - accuracy: 0.9778 - val_loss: 0.4229 - val_accuracy: 0.8523\n",
      "Epoch 28/100\n",
      "1757/1757 - 1s - loss: 0.2344 - accuracy: 0.9755 - val_loss: 0.4174 - val_accuracy: 0.8553\n",
      "Epoch 29/100\n",
      "1757/1757 - 1s - loss: 0.2256 - accuracy: 0.9772 - val_loss: 0.4118 - val_accuracy: 0.8468\n",
      "Epoch 30/100\n",
      "1757/1757 - 1s - loss: 0.2163 - accuracy: 0.9772 - val_loss: 0.4047 - val_accuracy: 0.8575\n",
      "Epoch 31/100\n",
      "1757/1757 - 1s - loss: 0.2048 - accuracy: 0.9806 - val_loss: 0.3998 - val_accuracy: 0.8582\n",
      "Epoch 32/100\n",
      "1757/1757 - 1s - loss: 0.1965 - accuracy: 0.9846 - val_loss: 0.3947 - val_accuracy: 0.8591\n",
      "Epoch 33/100\n",
      "1757/1757 - 1s - loss: 0.1874 - accuracy: 0.9824 - val_loss: 0.3917 - val_accuracy: 0.8588\n",
      "Epoch 34/100\n",
      "1757/1757 - 1s - loss: 0.1799 - accuracy: 0.9835 - val_loss: 0.3862 - val_accuracy: 0.8597\n",
      "Epoch 35/100\n",
      "1757/1757 - 1s - loss: 0.1728 - accuracy: 0.9846 - val_loss: 0.3823 - val_accuracy: 0.8616\n",
      "Epoch 36/100\n",
      "1757/1757 - 1s - loss: 0.1662 - accuracy: 0.9824 - val_loss: 0.3789 - val_accuracy: 0.8613\n",
      "Epoch 37/100\n",
      "1757/1757 - 1s - loss: 0.1598 - accuracy: 0.9852 - val_loss: 0.3760 - val_accuracy: 0.8622\n",
      "Epoch 38/100\n",
      "1757/1757 - 1s - loss: 0.1539 - accuracy: 0.9863 - val_loss: 0.3726 - val_accuracy: 0.8623\n",
      "Epoch 39/100\n",
      "1757/1757 - 1s - loss: 0.1476 - accuracy: 0.9869 - val_loss: 0.3699 - val_accuracy: 0.8627\n",
      "Epoch 40/100\n",
      "1757/1757 - 1s - loss: 0.1425 - accuracy: 0.9852 - val_loss: 0.3671 - val_accuracy: 0.8626\n",
      "Epoch 41/100\n",
      "1757/1757 - 1s - loss: 0.1369 - accuracy: 0.9880 - val_loss: 0.3642 - val_accuracy: 0.8634\n",
      "Epoch 42/100\n",
      "1757/1757 - 1s - loss: 0.1323 - accuracy: 0.9886 - val_loss: 0.3619 - val_accuracy: 0.8628\n",
      "Epoch 43/100\n",
      "1757/1757 - 1s - loss: 0.1281 - accuracy: 0.9880 - val_loss: 0.3601 - val_accuracy: 0.8637\n",
      "Epoch 44/100\n",
      "1757/1757 - 1s - loss: 0.1235 - accuracy: 0.9886 - val_loss: 0.3575 - val_accuracy: 0.8649\n",
      "Epoch 45/100\n",
      "1757/1757 - 1s - loss: 0.1196 - accuracy: 0.9892 - val_loss: 0.3557 - val_accuracy: 0.8634\n",
      "Epoch 46/100\n",
      "1757/1757 - 1s - loss: 0.1162 - accuracy: 0.9892 - val_loss: 0.3548 - val_accuracy: 0.8623\n",
      "Epoch 47/100\n",
      "1757/1757 - 1s - loss: 0.1122 - accuracy: 0.9898 - val_loss: 0.3520 - val_accuracy: 0.8649\n",
      "Epoch 48/100\n",
      "1757/1757 - 1s - loss: 0.1079 - accuracy: 0.9909 - val_loss: 0.3507 - val_accuracy: 0.8651\n",
      "Epoch 49/100\n",
      "1757/1757 - 1s - loss: 0.1045 - accuracy: 0.9909 - val_loss: 0.3490 - val_accuracy: 0.8656\n",
      "Epoch 50/100\n",
      "1757/1757 - 1s - loss: 0.1011 - accuracy: 0.9909 - val_loss: 0.3479 - val_accuracy: 0.8657\n",
      "Epoch 51/100\n",
      "1757/1757 - 1s - loss: 0.0982 - accuracy: 0.9903 - val_loss: 0.3464 - val_accuracy: 0.8653\n",
      "Epoch 52/100\n",
      "1757/1757 - 1s - loss: 0.0966 - accuracy: 0.9898 - val_loss: 0.3458 - val_accuracy: 0.8654\n",
      "Epoch 53/100\n",
      "1757/1757 - 1s - loss: 0.0923 - accuracy: 0.9932 - val_loss: 0.3451 - val_accuracy: 0.8650\n",
      "Epoch 54/100\n",
      "1757/1757 - 1s - loss: 0.0900 - accuracy: 0.9915 - val_loss: 0.3455 - val_accuracy: 0.8660\n",
      "Epoch 55/100\n",
      "1757/1757 - 1s - loss: 0.0868 - accuracy: 0.9920 - val_loss: 0.3424 - val_accuracy: 0.8668\n",
      "Epoch 56/100\n",
      "1757/1757 - 1s - loss: 0.0844 - accuracy: 0.9932 - val_loss: 0.3459 - val_accuracy: 0.8614\n",
      "Epoch 57/100\n",
      "1757/1757 - 1s - loss: 0.0827 - accuracy: 0.9926 - val_loss: 0.3433 - val_accuracy: 0.8635\n",
      "Epoch 58/100\n",
      "1757/1757 - 1s - loss: 0.0805 - accuracy: 0.9920 - val_loss: 0.3399 - val_accuracy: 0.8676\n"
     ]
    },
    {
     "name": "stdout",
     "output_type": "stream",
     "text": [
      "Epoch 59/100\n",
      "1757/1757 - 1s - loss: 0.0776 - accuracy: 0.9926 - val_loss: 0.3392 - val_accuracy: 0.8665\n",
      "Epoch 60/100\n",
      "1757/1757 - 1s - loss: 0.0756 - accuracy: 0.9932 - val_loss: 0.3399 - val_accuracy: 0.8655\n",
      "Epoch 61/100\n",
      "1757/1757 - 1s - loss: 0.0727 - accuracy: 0.9920 - val_loss: 0.3435 - val_accuracy: 0.8660\n",
      "Epoch 62/100\n",
      "1757/1757 - 1s - loss: 0.0726 - accuracy: 0.9926 - val_loss: 0.3380 - val_accuracy: 0.8671\n",
      "Epoch 63/100\n",
      "1757/1757 - 1s - loss: 0.0696 - accuracy: 0.9943 - val_loss: 0.3396 - val_accuracy: 0.8650\n",
      "Epoch 64/100\n",
      "1757/1757 - 1s - loss: 0.0685 - accuracy: 0.9932 - val_loss: 0.3366 - val_accuracy: 0.8674\n",
      "Epoch 65/100\n",
      "1757/1757 - 1s - loss: 0.0665 - accuracy: 0.9943 - val_loss: 0.3381 - val_accuracy: 0.8681\n",
      "Epoch 66/100\n",
      "1757/1757 - 1s - loss: 0.0645 - accuracy: 0.9937 - val_loss: 0.3359 - val_accuracy: 0.8679\n",
      "Epoch 67/100\n",
      "1757/1757 - 1s - loss: 0.0628 - accuracy: 0.9943 - val_loss: 0.3356 - val_accuracy: 0.8681\n",
      "Epoch 68/100\n",
      "1757/1757 - 1s - loss: 0.0612 - accuracy: 0.9949 - val_loss: 0.3356 - val_accuracy: 0.8688\n",
      "Epoch 69/100\n",
      "1757/1757 - 1s - loss: 0.0595 - accuracy: 0.9954 - val_loss: 0.3353 - val_accuracy: 0.8687\n",
      "Epoch 70/100\n",
      "1757/1757 - 1s - loss: 0.0578 - accuracy: 0.9954 - val_loss: 0.3350 - val_accuracy: 0.8691\n",
      "Epoch 71/100\n",
      "1757/1757 - 1s - loss: 0.0569 - accuracy: 0.9954 - val_loss: 0.3353 - val_accuracy: 0.8683\n",
      "Epoch 72/100\n",
      "1757/1757 - 1s - loss: 0.0550 - accuracy: 0.9954 - val_loss: 0.3360 - val_accuracy: 0.8673\n",
      "Epoch 73/100\n",
      "1757/1757 - 1s - loss: 0.0540 - accuracy: 0.9960 - val_loss: 0.3346 - val_accuracy: 0.8693\n",
      "Epoch 74/100\n",
      "1757/1757 - 1s - loss: 0.0524 - accuracy: 0.9960 - val_loss: 0.3344 - val_accuracy: 0.8695\n",
      "Epoch 75/100\n",
      "1757/1757 - 1s - loss: 0.0517 - accuracy: 0.9954 - val_loss: 0.3345 - val_accuracy: 0.8693\n",
      "Epoch 76/100\n",
      "1757/1757 - 1s - loss: 0.0504 - accuracy: 0.9954 - val_loss: 0.3345 - val_accuracy: 0.8694\n",
      "Epoch 77/100\n",
      "Restoring model weights from the end of the best epoch.\n",
      "1757/1757 - 1s - loss: 0.0489 - accuracy: 0.9960 - val_loss: 0.3350 - val_accuracy: 0.8688\n",
      "Epoch 00077: early stopping\n",
      "Train on 3088 samples, validate on 19999 samples\n",
      "Epoch 1/100\n",
      "3088/3088 - 2s - loss: 0.6918 - accuracy: 0.5324 - val_loss: 0.6890 - val_accuracy: 0.5410\n",
      "Epoch 2/100\n",
      "3088/3088 - 2s - loss: 0.6857 - accuracy: 0.5560 - val_loss: 0.6839 - val_accuracy: 0.5827\n",
      "Epoch 3/100\n",
      "3088/3088 - 2s - loss: 0.6781 - accuracy: 0.5959 - val_loss: 0.6769 - val_accuracy: 0.6027\n",
      "Epoch 4/100\n",
      "3088/3088 - 2s - loss: 0.6671 - accuracy: 0.6655 - val_loss: 0.6664 - val_accuracy: 0.6467\n",
      "Epoch 5/100\n",
      "3088/3088 - 2s - loss: 0.6503 - accuracy: 0.6891 - val_loss: 0.6517 - val_accuracy: 0.6541\n",
      "Epoch 6/100\n",
      "3088/3088 - 2s - loss: 0.6266 - accuracy: 0.7134 - val_loss: 0.6303 - val_accuracy: 0.7386\n",
      "Epoch 7/100\n",
      "3088/3088 - 2s - loss: 0.5942 - accuracy: 0.8439 - val_loss: 0.6042 - val_accuracy: 0.7388\n",
      "Epoch 8/100\n",
      "3088/3088 - 2s - loss: 0.5546 - accuracy: 0.8731 - val_loss: 0.5747 - val_accuracy: 0.7728\n",
      "Epoch 9/100\n",
      "3088/3088 - 2s - loss: 0.5126 - accuracy: 0.8701 - val_loss: 0.5428 - val_accuracy: 0.8469\n",
      "Epoch 10/100\n",
      "3088/3088 - 2s - loss: 0.4689 - accuracy: 0.9064 - val_loss: 0.5139 - val_accuracy: 0.8539\n",
      "Epoch 11/100\n",
      "3088/3088 - 2s - loss: 0.4283 - accuracy: 0.9200 - val_loss: 0.4912 - val_accuracy: 0.8128\n",
      "Epoch 12/100\n",
      "3088/3088 - 2s - loss: 0.3911 - accuracy: 0.9317 - val_loss: 0.4632 - val_accuracy: 0.8573\n",
      "Epoch 13/100\n",
      "3088/3088 - 2s - loss: 0.3583 - accuracy: 0.9411 - val_loss: 0.4435 - val_accuracy: 0.8636\n",
      "Epoch 14/100\n",
      "3088/3088 - 2s - loss: 0.3299 - accuracy: 0.9385 - val_loss: 0.4271 - val_accuracy: 0.8649\n",
      "Epoch 15/100\n",
      "3088/3088 - 2s - loss: 0.3040 - accuracy: 0.9511 - val_loss: 0.4104 - val_accuracy: 0.8673\n",
      "Epoch 16/100\n",
      "3088/3088 - 2s - loss: 0.2816 - accuracy: 0.9573 - val_loss: 0.3980 - val_accuracy: 0.8679\n",
      "Epoch 17/100\n",
      "3088/3088 - 2s - loss: 0.2631 - accuracy: 0.9573 - val_loss: 0.3891 - val_accuracy: 0.8603\n",
      "Epoch 18/100\n",
      "3088/3088 - 2s - loss: 0.2447 - accuracy: 0.9621 - val_loss: 0.3762 - val_accuracy: 0.8729\n",
      "Epoch 19/100\n",
      "3088/3088 - 2s - loss: 0.2290 - accuracy: 0.9637 - val_loss: 0.3683 - val_accuracy: 0.8708\n",
      "Epoch 20/100\n",
      "3088/3088 - 2s - loss: 0.2138 - accuracy: 0.9679 - val_loss: 0.3600 - val_accuracy: 0.8756\n",
      "Epoch 21/100\n",
      "3088/3088 - 2s - loss: 0.2018 - accuracy: 0.9696 - val_loss: 0.3547 - val_accuracy: 0.8744\n",
      "Epoch 22/100\n",
      "3088/3088 - 2s - loss: 0.1899 - accuracy: 0.9734 - val_loss: 0.3470 - val_accuracy: 0.8787\n",
      "Epoch 23/100\n",
      "3088/3088 - 2s - loss: 0.1803 - accuracy: 0.9731 - val_loss: 0.3423 - val_accuracy: 0.8791\n",
      "Epoch 24/100\n",
      "3088/3088 - 2s - loss: 0.1694 - accuracy: 0.9760 - val_loss: 0.3377 - val_accuracy: 0.8772\n",
      "Epoch 25/100\n",
      "3088/3088 - 2s - loss: 0.1603 - accuracy: 0.9783 - val_loss: 0.3348 - val_accuracy: 0.8786\n",
      "Epoch 26/100\n",
      "3088/3088 - 2s - loss: 0.1525 - accuracy: 0.9790 - val_loss: 0.3307 - val_accuracy: 0.8795\n",
      "Epoch 27/100\n",
      "3088/3088 - 2s - loss: 0.1456 - accuracy: 0.9806 - val_loss: 0.3270 - val_accuracy: 0.8785\n",
      "Epoch 28/100\n",
      "3088/3088 - 2s - loss: 0.1383 - accuracy: 0.9838 - val_loss: 0.3228 - val_accuracy: 0.8805\n",
      "Epoch 29/100\n",
      "3088/3088 - 2s - loss: 0.1325 - accuracy: 0.9819 - val_loss: 0.3204 - val_accuracy: 0.8824\n",
      "Epoch 30/100\n",
      "3088/3088 - 2s - loss: 0.1259 - accuracy: 0.9825 - val_loss: 0.3175 - val_accuracy: 0.8839\n",
      "Epoch 31/100\n",
      "3088/3088 - 2s - loss: 0.1204 - accuracy: 0.9825 - val_loss: 0.3162 - val_accuracy: 0.8814\n",
      "Epoch 32/100\n",
      "3088/3088 - 2s - loss: 0.1152 - accuracy: 0.9841 - val_loss: 0.3243 - val_accuracy: 0.8705\n",
      "Epoch 33/100\n",
      "3088/3088 - 2s - loss: 0.1116 - accuracy: 0.9838 - val_loss: 0.3136 - val_accuracy: 0.8809\n",
      "Epoch 34/100\n",
      "3088/3088 - 2s - loss: 0.1052 - accuracy: 0.9861 - val_loss: 0.3102 - val_accuracy: 0.8855\n",
      "Epoch 35/100\n",
      "3088/3088 - 2s - loss: 0.1015 - accuracy: 0.9867 - val_loss: 0.3088 - val_accuracy: 0.8860\n",
      "Epoch 36/100\n",
      "3088/3088 - 2s - loss: 0.0976 - accuracy: 0.9880 - val_loss: 0.3079 - val_accuracy: 0.8857\n",
      "Epoch 37/100\n",
      "3088/3088 - 2s - loss: 0.0932 - accuracy: 0.9890 - val_loss: 0.3070 - val_accuracy: 0.8859\n",
      "Epoch 38/100\n",
      "3088/3088 - 2s - loss: 0.0897 - accuracy: 0.9893 - val_loss: 0.3059 - val_accuracy: 0.8869\n",
      "Epoch 39/100\n",
      "3088/3088 - 2s - loss: 0.0864 - accuracy: 0.9893 - val_loss: 0.3076 - val_accuracy: 0.8830\n",
      "Epoch 40/100\n",
      "3088/3088 - 2s - loss: 0.0826 - accuracy: 0.9906 - val_loss: 0.3065 - val_accuracy: 0.8840\n",
      "Epoch 41/100\n",
      "3088/3088 - 2s - loss: 0.0799 - accuracy: 0.9906 - val_loss: 0.3038 - val_accuracy: 0.8869\n",
      "Epoch 42/100\n",
      "3088/3088 - 2s - loss: 0.0767 - accuracy: 0.9900 - val_loss: 0.3040 - val_accuracy: 0.8865\n",
      "Epoch 43/100\n",
      "3088/3088 - 2s - loss: 0.0743 - accuracy: 0.9906 - val_loss: 0.3043 - val_accuracy: 0.8847\n",
      "Epoch 44/100\n",
      "Restoring model weights from the end of the best epoch.\n",
      "3088/3088 - 2s - loss: 0.0712 - accuracy: 0.9926 - val_loss: 0.3053 - val_accuracy: 0.8845\n",
      "Epoch 00044: early stopping\n",
      "Train on 5428 samples, validate on 19999 samples\n",
      "Epoch 1/100\n",
      "5428/5428 - 2s - loss: 0.6912 - accuracy: 0.5748 - val_loss: 0.6873 - val_accuracy: 0.6076\n",
      "Epoch 2/100\n",
      "5428/5428 - 2s - loss: 0.6832 - accuracy: 0.6269 - val_loss: 0.6788 - val_accuracy: 0.6959\n",
      "Epoch 3/100\n",
      "5428/5428 - 2s - loss: 0.6696 - accuracy: 0.6778 - val_loss: 0.6625 - val_accuracy: 0.7322\n",
      "Epoch 4/100\n",
      "5428/5428 - 2s - loss: 0.6451 - accuracy: 0.7318 - val_loss: 0.6339 - val_accuracy: 0.7351\n",
      "Epoch 5/100\n",
      "5428/5428 - 2s - loss: 0.6055 - accuracy: 0.8139 - val_loss: 0.5945 - val_accuracy: 0.8316\n",
      "Epoch 6/100\n",
      "5428/5428 - 2s - loss: 0.5522 - accuracy: 0.8605 - val_loss: 0.5482 - val_accuracy: 0.8541\n",
      "Epoch 7/100\n",
      "5428/5428 - 2s - loss: 0.4947 - accuracy: 0.8856 - val_loss: 0.5021 - val_accuracy: 0.8603\n",
      "Epoch 8/100\n",
      "5428/5428 - 2s - loss: 0.4397 - accuracy: 0.9003 - val_loss: 0.4639 - val_accuracy: 0.8643\n",
      "Epoch 9/100\n",
      "5428/5428 - 2s - loss: 0.3931 - accuracy: 0.9147 - val_loss: 0.4353 - val_accuracy: 0.8534\n",
      "Epoch 10/100\n",
      "5428/5428 - 2s - loss: 0.3528 - accuracy: 0.9258 - val_loss: 0.4032 - val_accuracy: 0.8754\n",
      "Epoch 11/100\n",
      "5428/5428 - 2s - loss: 0.3172 - accuracy: 0.9333 - val_loss: 0.3820 - val_accuracy: 0.8773\n",
      "Epoch 12/100\n",
      "5428/5428 - 2s - loss: 0.2870 - accuracy: 0.9422 - val_loss: 0.3639 - val_accuracy: 0.8772\n",
      "Epoch 13/100\n",
      "5428/5428 - 2s - loss: 0.2632 - accuracy: 0.9464 - val_loss: 0.3494 - val_accuracy: 0.8838\n",
      "Epoch 14/100\n",
      "5428/5428 - 2s - loss: 0.2413 - accuracy: 0.9567 - val_loss: 0.3385 - val_accuracy: 0.8806\n"
     ]
    },
    {
     "name": "stdout",
     "output_type": "stream",
     "text": [
      "Epoch 15/100\n",
      "5428/5428 - 2s - loss: 0.2225 - accuracy: 0.9602 - val_loss: 0.3307 - val_accuracy: 0.8843\n",
      "Epoch 16/100\n",
      "5428/5428 - 2s - loss: 0.2073 - accuracy: 0.9604 - val_loss: 0.3192 - val_accuracy: 0.8870\n",
      "Epoch 17/100\n",
      "5428/5428 - 2s - loss: 0.1908 - accuracy: 0.9661 - val_loss: 0.3148 - val_accuracy: 0.8870\n",
      "Epoch 18/100\n",
      "5428/5428 - 2s - loss: 0.1786 - accuracy: 0.9676 - val_loss: 0.3085 - val_accuracy: 0.8865\n",
      "Epoch 19/100\n",
      "5428/5428 - 2s - loss: 0.1667 - accuracy: 0.9707 - val_loss: 0.3017 - val_accuracy: 0.8893\n",
      "Epoch 20/100\n",
      "5428/5428 - 2s - loss: 0.1566 - accuracy: 0.9700 - val_loss: 0.2969 - val_accuracy: 0.8912\n",
      "Epoch 21/100\n",
      "5428/5428 - 2s - loss: 0.1460 - accuracy: 0.9762 - val_loss: 0.2935 - val_accuracy: 0.8918\n",
      "Epoch 22/100\n",
      "5428/5428 - 2s - loss: 0.1371 - accuracy: 0.9779 - val_loss: 0.2900 - val_accuracy: 0.8928\n",
      "Epoch 23/100\n",
      "5428/5428 - 2s - loss: 0.1309 - accuracy: 0.9735 - val_loss: 0.3042 - val_accuracy: 0.8763\n",
      "Epoch 24/100\n",
      "5428/5428 - 2s - loss: 0.1224 - accuracy: 0.9790 - val_loss: 0.2864 - val_accuracy: 0.8932\n",
      "Epoch 25/100\n",
      "5428/5428 - 2s - loss: 0.1153 - accuracy: 0.9814 - val_loss: 0.2866 - val_accuracy: 0.8914\n",
      "Epoch 26/100\n",
      "5428/5428 - 2s - loss: 0.1093 - accuracy: 0.9818 - val_loss: 0.2837 - val_accuracy: 0.8932\n",
      "Epoch 27/100\n",
      "5428/5428 - 2s - loss: 0.1037 - accuracy: 0.9831 - val_loss: 0.2816 - val_accuracy: 0.8940\n",
      "Epoch 28/100\n",
      "5428/5428 - 2s - loss: 0.0983 - accuracy: 0.9836 - val_loss: 0.2815 - val_accuracy: 0.8939\n",
      "Epoch 29/100\n",
      "5428/5428 - 2s - loss: 0.0939 - accuracy: 0.9842 - val_loss: 0.2839 - val_accuracy: 0.8921\n",
      "Epoch 30/100\n",
      "5428/5428 - 2s - loss: 0.0891 - accuracy: 0.9854 - val_loss: 0.2802 - val_accuracy: 0.8936\n",
      "Epoch 31/100\n",
      "5428/5428 - 2s - loss: 0.0844 - accuracy: 0.9866 - val_loss: 0.2802 - val_accuracy: 0.8943\n",
      "Epoch 32/100\n",
      "5428/5428 - 2s - loss: 0.0808 - accuracy: 0.9884 - val_loss: 0.2798 - val_accuracy: 0.8933\n",
      "Epoch 33/100\n",
      "5428/5428 - 2s - loss: 0.0761 - accuracy: 0.9893 - val_loss: 0.2847 - val_accuracy: 0.8920\n",
      "Epoch 34/100\n",
      "5428/5428 - 2s - loss: 0.0737 - accuracy: 0.9895 - val_loss: 0.2841 - val_accuracy: 0.8925\n",
      "Epoch 35/100\n",
      "Restoring model weights from the end of the best epoch.\n",
      "5428/5428 - 2s - loss: 0.0694 - accuracy: 0.9912 - val_loss: 0.2809 - val_accuracy: 0.8946\n",
      "Epoch 00035: early stopping\n",
      "Train on 9540 samples, validate on 19999 samples\n",
      "Epoch 1/100\n",
      "9540/9540 - 3s - loss: 0.6895 - accuracy: 0.5633 - val_loss: 0.6828 - val_accuracy: 0.6000\n",
      "Epoch 2/100\n",
      "9540/9540 - 3s - loss: 0.6726 - accuracy: 0.6623 - val_loss: 0.6575 - val_accuracy: 0.6876\n",
      "Epoch 3/100\n",
      "9540/9540 - 3s - loss: 0.6297 - accuracy: 0.7672 - val_loss: 0.5986 - val_accuracy: 0.8112\n",
      "Epoch 4/100\n",
      "9540/9540 - 3s - loss: 0.5511 - accuracy: 0.8309 - val_loss: 0.5189 - val_accuracy: 0.8542\n",
      "Epoch 5/100\n",
      "9540/9540 - 3s - loss: 0.4627 - accuracy: 0.8804 - val_loss: 0.4487 - val_accuracy: 0.8718\n",
      "Epoch 6/100\n",
      "9540/9540 - 3s - loss: 0.3893 - accuracy: 0.9025 - val_loss: 0.3991 - val_accuracy: 0.8674\n",
      "Epoch 7/100\n",
      "9540/9540 - 3s - loss: 0.3351 - accuracy: 0.9119 - val_loss: 0.3613 - val_accuracy: 0.8843\n",
      "Epoch 8/100\n",
      "9540/9540 - 3s - loss: 0.2929 - accuracy: 0.9230 - val_loss: 0.3367 - val_accuracy: 0.8897\n",
      "Epoch 9/100\n",
      "9540/9540 - 3s - loss: 0.2620 - accuracy: 0.9332 - val_loss: 0.3175 - val_accuracy: 0.8941\n",
      "Epoch 10/100\n",
      "9540/9540 - 3s - loss: 0.2340 - accuracy: 0.9443 - val_loss: 0.3032 - val_accuracy: 0.8947\n",
      "Epoch 11/100\n",
      "9540/9540 - 3s - loss: 0.2123 - accuracy: 0.9501 - val_loss: 0.2957 - val_accuracy: 0.8922\n",
      "Epoch 12/100\n",
      "9540/9540 - 3s - loss: 0.1938 - accuracy: 0.9545 - val_loss: 0.2845 - val_accuracy: 0.8995\n",
      "Epoch 13/100\n",
      "9540/9540 - 3s - loss: 0.1779 - accuracy: 0.9591 - val_loss: 0.2773 - val_accuracy: 0.9000\n",
      "Epoch 14/100\n",
      "9540/9540 - 3s - loss: 0.1643 - accuracy: 0.9633 - val_loss: 0.2734 - val_accuracy: 0.9015\n",
      "Epoch 15/100\n",
      "9540/9540 - 3s - loss: 0.1520 - accuracy: 0.9643 - val_loss: 0.2676 - val_accuracy: 0.9037\n",
      "Epoch 16/100\n",
      "9540/9540 - 3s - loss: 0.1409 - accuracy: 0.9674 - val_loss: 0.2650 - val_accuracy: 0.9042\n",
      "Epoch 17/100\n",
      "9540/9540 - 3s - loss: 0.1321 - accuracy: 0.9697 - val_loss: 0.2629 - val_accuracy: 0.9042\n",
      "Epoch 18/100\n",
      "9540/9540 - 3s - loss: 0.1226 - accuracy: 0.9723 - val_loss: 0.2611 - val_accuracy: 0.9051\n",
      "Epoch 19/100\n",
      "9540/9540 - 3s - loss: 0.1147 - accuracy: 0.9744 - val_loss: 0.2605 - val_accuracy: 0.9048\n",
      "Epoch 20/100\n",
      "9540/9540 - 3s - loss: 0.1072 - accuracy: 0.9759 - val_loss: 0.2610 - val_accuracy: 0.9034\n",
      "Epoch 21/100\n",
      "9540/9540 - 3s - loss: 0.1026 - accuracy: 0.9771 - val_loss: 0.2602 - val_accuracy: 0.9058\n",
      "Epoch 22/100\n",
      "9540/9540 - 3s - loss: 0.0946 - accuracy: 0.9786 - val_loss: 0.2604 - val_accuracy: 0.9056\n",
      "Epoch 23/100\n",
      "9540/9540 - 3s - loss: 0.0905 - accuracy: 0.9804 - val_loss: 0.2611 - val_accuracy: 0.9042\n",
      "Epoch 24/100\n",
      "Restoring model weights from the end of the best epoch.\n",
      "9540/9540 - 3s - loss: 0.0850 - accuracy: 0.9820 - val_loss: 0.2640 - val_accuracy: 0.9026\n",
      "Epoch 00024: early stopping\n",
      "Train on 16768 samples, validate on 19999 samples\n",
      "Epoch 1/100\n",
      "16768/16768 - 5s - loss: 0.6862 - accuracy: 0.5997 - val_loss: 0.6722 - val_accuracy: 0.6364\n",
      "Epoch 2/100\n",
      "16768/16768 - 5s - loss: 0.6381 - accuracy: 0.7357 - val_loss: 0.5859 - val_accuracy: 0.8167\n",
      "Epoch 3/100\n",
      "16768/16768 - 5s - loss: 0.5175 - accuracy: 0.8530 - val_loss: 0.4619 - val_accuracy: 0.8683\n",
      "Epoch 4/100\n",
      "16768/16768 - 5s - loss: 0.4015 - accuracy: 0.8854 - val_loss: 0.3796 - val_accuracy: 0.8880\n",
      "Epoch 5/100\n",
      "16768/16768 - 5s - loss: 0.3248 - accuracy: 0.9070 - val_loss: 0.3318 - val_accuracy: 0.8941\n",
      "Epoch 6/100\n",
      "16768/16768 - 5s - loss: 0.2729 - accuracy: 0.9234 - val_loss: 0.3005 - val_accuracy: 0.9022\n",
      "Epoch 7/100\n",
      "16768/16768 - 5s - loss: 0.2367 - accuracy: 0.9339 - val_loss: 0.2795 - val_accuracy: 0.9052\n",
      "Epoch 8/100\n",
      "16768/16768 - 5s - loss: 0.2088 - accuracy: 0.9406 - val_loss: 0.2655 - val_accuracy: 0.9081\n",
      "Epoch 9/100\n",
      "16768/16768 - 5s - loss: 0.1863 - accuracy: 0.9491 - val_loss: 0.2588 - val_accuracy: 0.9071\n",
      "Epoch 10/100\n",
      "16768/16768 - 5s - loss: 0.1682 - accuracy: 0.9530 - val_loss: 0.2494 - val_accuracy: 0.9107\n",
      "Epoch 11/100\n",
      "16768/16768 - 5s - loss: 0.1538 - accuracy: 0.9570 - val_loss: 0.2465 - val_accuracy: 0.9105\n",
      "Epoch 12/100\n",
      "16768/16768 - 5s - loss: 0.1392 - accuracy: 0.9631 - val_loss: 0.2431 - val_accuracy: 0.9116\n",
      "Epoch 13/100\n",
      "16768/16768 - 5s - loss: 0.1277 - accuracy: 0.9654 - val_loss: 0.2410 - val_accuracy: 0.9123\n",
      "Epoch 14/100\n",
      "16768/16768 - 5s - loss: 0.1176 - accuracy: 0.9687 - val_loss: 0.2412 - val_accuracy: 0.9122\n",
      "Epoch 15/100\n",
      "16768/16768 - 5s - loss: 0.1092 - accuracy: 0.9719 - val_loss: 0.2510 - val_accuracy: 0.9063\n",
      "Epoch 16/100\n",
      "Restoring model weights from the end of the best epoch.\n",
      "16768/16768 - 5s - loss: 0.1005 - accuracy: 0.9739 - val_loss: 0.2438 - val_accuracy: 0.9118\n",
      "Epoch 00016: early stopping\n",
      "Train on 29471 samples, validate on 19999 samples\n",
      "Epoch 1/100\n",
      "29471/29471 - 8s - loss: 0.6776 - accuracy: 0.6338 - val_loss: 0.6374 - val_accuracy: 0.7936\n",
      "Epoch 2/100\n",
      "29471/29471 - 8s - loss: 0.5401 - accuracy: 0.8292 - val_loss: 0.4416 - val_accuracy: 0.8761\n",
      "Epoch 3/100\n",
      "29471/29471 - 8s - loss: 0.3727 - accuracy: 0.8893 - val_loss: 0.3341 - val_accuracy: 0.8986\n",
      "Epoch 4/100\n",
      "29471/29471 - 8s - loss: 0.2867 - accuracy: 0.9133 - val_loss: 0.2849 - val_accuracy: 0.9080\n",
      "Epoch 5/100\n",
      "29471/29471 - 8s - loss: 0.2378 - accuracy: 0.9254 - val_loss: 0.2589 - val_accuracy: 0.9123\n",
      "Epoch 6/100\n",
      "29471/29471 - 8s - loss: 0.2046 - accuracy: 0.9368 - val_loss: 0.2464 - val_accuracy: 0.9116\n",
      "Epoch 7/100\n",
      "29471/29471 - 8s - loss: 0.1811 - accuracy: 0.9434 - val_loss: 0.2348 - val_accuracy: 0.9171\n",
      "Epoch 8/100\n",
      "29471/29471 - 8s - loss: 0.1612 - accuracy: 0.9505 - val_loss: 0.2322 - val_accuracy: 0.9161\n",
      "Epoch 9/100\n",
      "29471/29471 - 8s - loss: 0.1459 - accuracy: 0.9556 - val_loss: 0.2315 - val_accuracy: 0.9142\n",
      "Epoch 10/100\n",
      "29471/29471 - 8s - loss: 0.1327 - accuracy: 0.9582 - val_loss: 0.2320 - val_accuracy: 0.9157\n",
      "Epoch 11/100\n",
      "29471/29471 - 8s - loss: 0.1210 - accuracy: 0.9627 - val_loss: 0.2318 - val_accuracy: 0.9160\n",
      "Epoch 12/100\n",
      "Restoring model weights from the end of the best epoch.\n",
      "29471/29471 - 8s - loss: 0.1109 - accuracy: 0.9671 - val_loss: 0.2320 - val_accuracy: 0.9170\n",
      "Epoch 00012: early stopping\n",
      "Train on 51795 samples, validate on 19999 samples\n",
      "Epoch 1/100\n",
      "51795/51795 - 14s - loss: 0.6408 - accuracy: 0.6914 - val_loss: 0.5126 - val_accuracy: 0.8314\n"
     ]
    },
    {
     "name": "stdout",
     "output_type": "stream",
     "text": [
      "Epoch 2/100\n",
      "51795/51795 - 14s - loss: 0.3954 - accuracy: 0.8777 - val_loss: 0.3151 - val_accuracy: 0.8981\n",
      "Epoch 3/100\n",
      "51795/51795 - 14s - loss: 0.2725 - accuracy: 0.9115 - val_loss: 0.2590 - val_accuracy: 0.9077\n",
      "Epoch 4/100\n",
      "51795/51795 - 14s - loss: 0.2199 - accuracy: 0.9262 - val_loss: 0.2357 - val_accuracy: 0.9151\n",
      "Epoch 5/100\n",
      "51795/51795 - 14s - loss: 0.1893 - accuracy: 0.9361 - val_loss: 0.2212 - val_accuracy: 0.9206\n",
      "Epoch 6/100\n",
      "51795/51795 - 14s - loss: 0.1670 - accuracy: 0.9442 - val_loss: 0.2190 - val_accuracy: 0.9190\n",
      "Epoch 7/100\n",
      "51795/51795 - 14s - loss: 0.1510 - accuracy: 0.9494 - val_loss: 0.2166 - val_accuracy: 0.9205\n",
      "Epoch 8/100\n",
      "51795/51795 - 14s - loss: 0.1377 - accuracy: 0.9546 - val_loss: 0.2665 - val_accuracy: 0.8949\n",
      "Epoch 9/100\n",
      "51795/51795 - 14s - loss: 0.1273 - accuracy: 0.9573 - val_loss: 0.2223 - val_accuracy: 0.9209\n",
      "Epoch 10/100\n",
      "Restoring model weights from the end of the best epoch.\n",
      "51795/51795 - 14s - loss: 0.1170 - accuracy: 0.9612 - val_loss: 0.2276 - val_accuracy: 0.9198\n",
      "Epoch 00010: early stopping\n",
      "Train on 91032 samples, validate on 19999 samples\n",
      "Epoch 1/100\n",
      "91032/91032 - 24s - loss: 0.5629 - accuracy: 0.7635 - val_loss: 0.3583 - val_accuracy: 0.8969\n",
      "Epoch 2/100\n",
      "91032/91032 - 24s - loss: 0.2873 - accuracy: 0.9055 - val_loss: 0.2439 - val_accuracy: 0.9169\n",
      "Epoch 3/100\n",
      "91032/91032 - 24s - loss: 0.2139 - accuracy: 0.9260 - val_loss: 0.2234 - val_accuracy: 0.9179\n",
      "Epoch 4/100\n",
      "91032/91032 - 24s - loss: 0.1820 - accuracy: 0.9354 - val_loss: 0.2112 - val_accuracy: 0.9235\n",
      "Epoch 5/100\n",
      "91032/91032 - 24s - loss: 0.1630 - accuracy: 0.9415 - val_loss: 0.2069 - val_accuracy: 0.9253\n",
      "Epoch 6/100\n",
      "91032/91032 - 24s - loss: 0.1496 - accuracy: 0.9458 - val_loss: 0.2094 - val_accuracy: 0.9256\n",
      "Epoch 7/100\n",
      "91032/91032 - 24s - loss: 0.1387 - accuracy: 0.9505 - val_loss: 0.2180 - val_accuracy: 0.9226\n",
      "Epoch 8/100\n",
      "Restoring model weights from the end of the best epoch.\n",
      "91032/91032 - 24s - loss: 0.1298 - accuracy: 0.9537 - val_loss: 0.2242 - val_accuracy: 0.9220\n",
      "Epoch 00008: early stopping\n",
      "Train on 159993 samples, validate on 19999 samples\n",
      "Epoch 1/100\n",
      "159993/159993 - 41s - loss: 0.4623 - accuracy: 0.8166 - val_loss: 0.2683 - val_accuracy: 0.9099\n",
      "Epoch 2/100\n",
      "159993/159993 - 41s - loss: 0.2257 - accuracy: 0.9202 - val_loss: 0.2206 - val_accuracy: 0.9173\n",
      "Epoch 3/100\n",
      "159993/159993 - 41s - loss: 0.1851 - accuracy: 0.9325 - val_loss: 0.2031 - val_accuracy: 0.9262\n",
      "Epoch 4/100\n",
      "159993/159993 - 41s - loss: 0.1672 - accuracy: 0.9385 - val_loss: 0.2005 - val_accuracy: 0.9288\n",
      "Epoch 5/100\n",
      "159993/159993 - 41s - loss: 0.1557 - accuracy: 0.9427 - val_loss: 0.2096 - val_accuracy: 0.9246\n",
      "Epoch 6/100\n",
      "159993/159993 - 41s - loss: 0.1476 - accuracy: 0.9454 - val_loss: 0.2082 - val_accuracy: 0.9271\n",
      "Epoch 7/100\n",
      "Restoring model weights from the end of the best epoch.\n",
      "159993/159993 - 41s - loss: 0.1415 - accuracy: 0.9480 - val_loss: 0.2140 - val_accuracy: 0.9246\n",
      "Epoch 00007: early stopping\n"
     ]
    }
   ],
   "source": [
    "sizes = [int(p) for p in np.geomspace(1000, 160000, 10)]\n",
    "preprocessor = SequencePreprocessor(MAX_NB_WORDS, MAX_LENGTH_SEQ)\n",
    "\n",
    "test_accuracies = accuracy_vs_training_data(\n",
    "    model, initial_weights, \n",
    "    preprocessor, sizes,\n",
    "    train_reviews, train_labels,\n",
    "    val_reviews, val_labels,\n",
    "    test_reviews, test_labels\n",
    ")"
   ]
  },
  {
   "cell_type": "code",
   "execution_count": 64,
   "metadata": {},
   "outputs": [],
   "source": [
    "import pickle\n",
    "\n",
    "OUTPUT_PATH = 'data/fasttext_accuracies.pickle'\n",
    "\n",
    "output_dict = {\n",
    "    \"sizes\": sizes,\n",
    "    \"test_accuracies\": test_accuracies\n",
    "}\n",
    "\n",
    "with open(OUTPUT_PATH, 'wb') as writer:\n",
    "    pickle.dump(output_dict, writer)"
   ]
  },
  {
   "cell_type": "markdown",
   "metadata": {},
   "source": [
    "# RNN"
   ]
  },
  {
   "cell_type": "markdown",
   "metadata": {},
   "source": [
    "## Model"
   ]
  },
  {
   "cell_type": "code",
   "execution_count": 28,
   "metadata": {},
   "outputs": [],
   "source": [
    "from tensorflow import keras\n",
    "from tensorflow.keras import layers\n",
    "\n",
    "embedding_dim = 128\n",
    "\n",
    "model = keras.models.Sequential(name='rnn')\n",
    "model.add(layers.Embedding(MAX_NB_WORDS, embedding_dim,\n",
    "                           mask_zero=True,                           \n",
    "                           input_shape=[None]),)\n",
    "\n",
    "model.add(layers.GRU(256, return_sequences=True))\n",
    "model.add(layers.GRU(256))\n",
    "model.add(layers.Dense(1, activation=\"sigmoid\"))\n",
    "\n",
    "model.compile(\n",
    "    loss=\"binary_crossentropy\",\n",
    "    optimizer=\"adam\",\n",
    "    metrics=[\"accuracy\"]\n",
    ")"
   ]
  },
  {
   "cell_type": "code",
   "execution_count": 29,
   "metadata": {},
   "outputs": [
    {
     "name": "stdout",
     "output_type": "stream",
     "text": [
      "Model: \"rnn\"\n",
      "_________________________________________________________________\n",
      "Layer (type)                 Output Shape              Param #   \n",
      "=================================================================\n",
      "embedding_1 (Embedding)      (None, None, 128)         2560000   \n",
      "_________________________________________________________________\n",
      "gru_2 (GRU)                  (None, None, 256)         296448    \n",
      "_________________________________________________________________\n",
      "gru_3 (GRU)                  (None, 256)               394752    \n",
      "_________________________________________________________________\n",
      "dense_1 (Dense)              (None, 1)                 257       \n",
      "=================================================================\n",
      "Total params: 3,251,457\n",
      "Trainable params: 3,251,457\n",
      "Non-trainable params: 0\n",
      "_________________________________________________________________\n"
     ]
    }
   ],
   "source": [
    "initial_weights = model.get_weights()\n",
    "model.summary()"
   ]
  },
  {
   "cell_type": "markdown",
   "metadata": {},
   "source": [
    "## Training"
   ]
  },
  {
   "cell_type": "code",
   "execution_count": 175,
   "metadata": {},
   "outputs": [
    {
     "name": "stdout",
     "output_type": "stream",
     "text": [
      "Train on 159993 samples, validate on 19999 samples\n",
      "Epoch 1/5\n",
      "159872/159993 [============================>.] - ETA: 0s - loss: 0.2158 - accuracy: 0.9126\n",
      "Epoch 00001: val_loss improved from inf to 0.17517, saving model to /tmp/rnn_weights.hdf5\n",
      "159993/159993 [==============================] - 134s 839us/sample - loss: 0.2158 - accuracy: 0.9126 - val_loss: 0.1752 - val_accuracy: 0.9324\n",
      "Epoch 2/5\n",
      "159872/159993 [============================>.] - ETA: 0s - loss: 0.1214 - accuracy: 0.9550\n",
      "Epoch 00002: val_loss improved from 0.17517 to 0.15195, saving model to /tmp/rnn_weights.hdf5\n",
      "159993/159993 [==============================] - 131s 819us/sample - loss: 0.1215 - accuracy: 0.9550 - val_loss: 0.1519 - val_accuracy: 0.9439\n",
      "Epoch 3/5\n",
      "159936/159993 [============================>.] - ETA: 0s - loss: 0.0827 - accuracy: 0.9707\n",
      "Epoch 00003: val_loss did not improve from 0.15195\n",
      "159993/159993 [==============================] - 131s 819us/sample - loss: 0.0827 - accuracy: 0.9707 - val_loss: 0.1714 - val_accuracy: 0.9425\n",
      "Epoch 4/5\n",
      "159936/159993 [============================>.] - ETA: 0s - loss: 0.0539 - accuracy: 0.9817\n",
      "Epoch 00004: val_loss did not improve from 0.15195\n",
      "159993/159993 [==============================] - 132s 824us/sample - loss: 0.0539 - accuracy: 0.9817 - val_loss: 0.2105 - val_accuracy: 0.9387\n",
      "Epoch 5/5\n",
      "159872/159993 [============================>.] - ETA: 0s - loss: 0.0346 - accuracy: 0.9886\n",
      "Epoch 00005: val_loss did not improve from 0.15195\n",
      "159993/159993 [==============================] - 131s 818us/sample - loss: 0.0346 - accuracy: 0.9886 - val_loss: 0.2488 - val_accuracy: 0.9360\n"
     ]
    }
   ],
   "source": [
    "checkpointer = tf.keras.callbacks.ModelCheckpoint(\n",
    "    filepath='/tmp/rnn_weights.hdf5',\n",
    "    save_best_only=True, verbose=1\n",
    ")\n",
    "\n",
    "history = model.fit(\n",
    "    X_train, y_train,\n",
    "    validation_data=(X_val, y_val),\n",
    "    epochs=5, batch_size=64, \n",
    "    callbacks=[checkpointer], verbose=1)"
   ]
  },
  {
   "cell_type": "code",
   "execution_count": 176,
   "metadata": {},
   "outputs": [
    {
     "data": {
      "image/png": "[encoded data removed]",
      "text/plain": [
       "<Figure size 864x360 with 2 Axes>"
      ]
     },
     "metadata": {},
     "output_type": "display_data"
    }
   ],
   "source": [
    "fig = plot_training_curves(history)\n",
    "\n",
    "# Finalize the plot\n",
    "sns.despine(bottom=True)\n",
    "plt.tight_layout(h_pad=2)\n",
    "\n",
    "# Saving plot\n",
    "fig.savefig('img/word-vectors/rnn_training.png', dpi=200)"
   ]
  },
  {
   "cell_type": "markdown",
   "metadata": {},
   "source": [
    "RNN seems to overfit very quickly, but the validation accuracy of the very firsts epoches is quite good !"
   ]
  },
  {
   "cell_type": "code",
   "execution_count": 177,
   "metadata": {},
   "outputs": [
    {
     "name": "stdout",
     "output_type": "stream",
     "text": [
      "Val Accuracy: 94.39\n",
      "Val F1-Score: 94.34\n"
     ]
    }
   ],
   "source": [
    "from sklearn import metrics\n",
    "\n",
    "model.load_weights('/tmp/rnn_weights.hdf5')\n",
    "probas = model.predict(X_val)\n",
    "y_pred = (probas > 0.5).astype(np.int)\n",
    "\n",
    "print(\"Val Accuracy: {:.2f}\".format(100 * metrics.accuracy_score(y_val, y_pred)))\n",
    "print(\"Val F1-Score: {:.2f}\".format(100 * metrics.f1_score(y_val, y_pred)))"
   ]
  },
  {
   "cell_type": "markdown",
   "metadata": {},
   "source": [
    "## Testing"
   ]
  },
  {
   "cell_type": "code",
   "execution_count": 178,
   "metadata": {},
   "outputs": [],
   "source": [
    "probas = model.predict(X_test)\n",
    "y_pred = (probas > 0.5).astype(np.int)"
   ]
  },
  {
   "cell_type": "code",
   "execution_count": 179,
   "metadata": {
    "scrolled": true
   },
   "outputs": [
    {
     "name": "stdout",
     "output_type": "stream",
     "text": [
      "Test Accuracy: 94.58\n",
      "Test F1-Score: 94.39\n",
      "\n",
      "              precision    recall  f1-score   support\n",
      "\n",
      "    Negative       0.95      0.94      0.95     10408\n",
      "    Positive       0.94      0.95      0.94      9592\n",
      "\n",
      "    accuracy                           0.95     20000\n",
      "   macro avg       0.95      0.95      0.95     20000\n",
      "weighted avg       0.95      0.95      0.95     20000\n",
      "\n"
     ]
    }
   ],
   "source": [
    "print(\"Test Accuracy: {:.2f}\".format(100 * metrics.accuracy_score(y_test, y_pred)))\n",
    "print(\"Test F1-Score: {:.2f}\".format(100 * metrics.f1_score(y_test, y_pred)))\n",
    "print()\n",
    "\n",
    "report = metrics.classification_report(\n",
    "    y_test, y_pred, \n",
    "    target_names=class_names.values()\n",
    ")\n",
    "print(report)"
   ]
  },
  {
   "cell_type": "code",
   "execution_count": 180,
   "metadata": {},
   "outputs": [
    {
     "data": {
      "image/png": "[encoded data removed]",
      "text/plain": [
       "<Figure size 504x360 with 2 Axes>"
      ]
     },
     "metadata": {},
     "output_type": "display_data"
    }
   ],
   "source": [
    "from sklearn.metrics import confusion_matrix\n",
    "from utils import print_confusion_matrix\n",
    "\n",
    "conf_mx = confusion_matrix(y_test, y_pred)\n",
    "\n",
    "fig = print_confusion_matrix(\n",
    "    conf_mx, \n",
    "    class_names.values(), \n",
    "    figsize=(7,5)\n",
    ")\n",
    "\n",
    "# Finalize the plot\n",
    "sns.despine(bottom=True)\n",
    "plt.tight_layout(h_pad=2)\n",
    "\n",
    "# Saving plot\n",
    "fig.savefig('img/word-vectors/rnn_test_confusion_mx.png', dpi=200)"
   ]
  },
  {
   "cell_type": "markdown",
   "metadata": {},
   "source": [
    "## Accuracy vs Training data"
   ]
  },
  {
   "cell_type": "code",
   "execution_count": 56,
   "metadata": {
    "scrolled": true
   },
   "outputs": [
    {
     "name": "stdout",
     "output_type": "stream",
     "text": [
      "Train on 1000 samples, validate on 19999 samples\n",
      "Epoch 1/100\n",
      "1000/1000 - 6s - loss: 0.6940 - accuracy: 0.4920 - val_loss: 0.6951 - val_accuracy: 0.5102\n",
      "Epoch 2/100\n",
      "1000/1000 - 6s - loss: 0.6829 - accuracy: 0.5570 - val_loss: 0.6880 - val_accuracy: 0.5012\n",
      "Epoch 3/100\n",
      "1000/1000 - 6s - loss: 0.6274 - accuracy: 0.7120 - val_loss: 0.6632 - val_accuracy: 0.6013\n",
      "Epoch 4/100\n",
      "1000/1000 - 6s - loss: 0.2518 - accuracy: 0.9060 - val_loss: 0.7161 - val_accuracy: 0.6734\n",
      "Epoch 5/100\n",
      "1000/1000 - 6s - loss: 0.0787 - accuracy: 0.9710 - val_loss: 1.0117 - val_accuracy: 0.7045\n",
      "Epoch 6/100\n",
      "Restoring model weights from the end of the best epoch.\n",
      "1000/1000 - 6s - loss: 0.0153 - accuracy: 0.9940 - val_loss: 1.1572 - val_accuracy: 0.6960\n",
      "Epoch 00006: early stopping\n",
      "Train on 1757 samples, validate on 19999 samples\n",
      "Epoch 1/100\n",
      "1757/1757 - 7s - loss: 0.6924 - accuracy: 0.5157 - val_loss: 0.6894 - val_accuracy: 0.5478\n",
      "Epoch 2/100\n",
      "1757/1757 - 7s - loss: 0.6129 - accuracy: 0.7137 - val_loss: 0.5690 - val_accuracy: 0.7320\n",
      "Epoch 3/100\n",
      "1757/1757 - 7s - loss: 0.2141 - accuracy: 0.9106 - val_loss: 0.6459 - val_accuracy: 0.7230\n",
      "Epoch 4/100\n",
      "1757/1757 - 7s - loss: 0.0486 - accuracy: 0.9835 - val_loss: 0.8651 - val_accuracy: 0.7142\n",
      "Epoch 5/100\n",
      "Restoring model weights from the end of the best epoch.\n",
      "1757/1757 - 7s - loss: 0.0137 - accuracy: 0.9954 - val_loss: 1.1183 - val_accuracy: 0.7219\n",
      "Epoch 00005: early stopping\n",
      "Train on 3088 samples, validate on 19999 samples\n",
      "Epoch 1/100\n",
      "3088/3088 - 8s - loss: 0.6910 - accuracy: 0.5424 - val_loss: 0.6811 - val_accuracy: 0.6363\n",
      "Epoch 2/100\n",
      "3088/3088 - 8s - loss: 0.5127 - accuracy: 0.7710 - val_loss: 0.4190 - val_accuracy: 0.8159\n",
      "Epoch 3/100\n",
      "3088/3088 - 8s - loss: 0.1844 - accuracy: 0.9388 - val_loss: 0.6215 - val_accuracy: 0.7607\n",
      "Epoch 4/100\n",
      "3088/3088 - 8s - loss: 0.0547 - accuracy: 0.9815 - val_loss: 0.7956 - val_accuracy: 0.7798\n",
      "Epoch 5/100\n",
      "Restoring model weights from the end of the best epoch.\n",
      "3088/3088 - 8s - loss: 0.0288 - accuracy: 0.9909 - val_loss: 0.8936 - val_accuracy: 0.7694\n",
      "Epoch 00005: early stopping\n",
      "Train on 5428 samples, validate on 19999 samples\n",
      "Epoch 1/100\n",
      "5428/5428 - 9s - loss: 0.6653 - accuracy: 0.5728 - val_loss: 0.5604 - val_accuracy: 0.7103\n",
      "Epoch 2/100\n",
      "5428/5428 - 9s - loss: 0.3477 - accuracy: 0.8464 - val_loss: 0.4172 - val_accuracy: 0.8195\n",
      "Epoch 3/100\n",
      "5428/5428 - 9s - loss: 0.1278 - accuracy: 0.9552 - val_loss: 0.5378 - val_accuracy: 0.8110\n",
      "Epoch 4/100\n",
      "5428/5428 - 9s - loss: 0.0436 - accuracy: 0.9878 - val_loss: 0.6224 - val_accuracy: 0.8289\n",
      "Epoch 5/100\n",
      "Restoring model weights from the end of the best epoch.\n",
      "5428/5428 - 9s - loss: 0.0118 - accuracy: 0.9972 - val_loss: 0.6997 - val_accuracy: 0.8239\n",
      "Epoch 00005: early stopping\n",
      "Train on 9540 samples, validate on 19999 samples\n",
      "Epoch 1/100\n",
      "9540/9540 - 12s - loss: 0.5961 - accuracy: 0.6595 - val_loss: 0.4173 - val_accuracy: 0.8076\n",
      "Epoch 2/100\n",
      "9540/9540 - 12s - loss: 0.2934 - accuracy: 0.8825 - val_loss: 0.3872 - val_accuracy: 0.8468\n",
      "Epoch 3/100\n",
      "9540/9540 - 12s - loss: 0.1454 - accuracy: 0.9463 - val_loss: 0.3792 - val_accuracy: 0.8551\n",
      "Epoch 4/100\n",
      "9540/9540 - 12s - loss: 0.0824 - accuracy: 0.9729 - val_loss: 0.4215 - val_accuracy: 0.8630\n",
      "Epoch 5/100\n",
      "9540/9540 - 12s - loss: 0.0250 - accuracy: 0.9928 - val_loss: 0.5457 - val_accuracy: 0.8587\n",
      "Epoch 6/100\n",
      "Restoring model weights from the end of the best epoch.\n",
      "9540/9540 - 12s - loss: 0.0084 - accuracy: 0.9981 - val_loss: 0.6765 - val_accuracy: 0.8622\n",
      "Epoch 00006: early stopping\n",
      "Train on 16768 samples, validate on 19999 samples\n",
      "Epoch 1/100\n",
      "16768/16768 - 19s - loss: 0.5345 - accuracy: 0.7195 - val_loss: 0.5587 - val_accuracy: 0.7116\n",
      "Epoch 2/100\n",
      "16768/16768 - 18s - loss: 0.2789 - accuracy: 0.8854 - val_loss: 0.3197 - val_accuracy: 0.8675\n",
      "Epoch 3/100\n",
      "16768/16768 - 18s - loss: 0.1248 - accuracy: 0.9553 - val_loss: 0.2756 - val_accuracy: 0.8967\n",
      "Epoch 4/100\n",
      "16768/16768 - 18s - loss: 0.0511 - accuracy: 0.9831 - val_loss: 0.3335 - val_accuracy: 0.8969\n",
      "Epoch 5/100\n",
      "16768/16768 - 18s - loss: 0.0181 - accuracy: 0.9945 - val_loss: 0.4171 - val_accuracy: 0.8906\n",
      "Epoch 6/100\n",
      "Restoring model weights from the end of the best epoch.\n",
      "16768/16768 - 18s - loss: 0.0087 - accuracy: 0.9976 - val_loss: 0.5348 - val_accuracy: 0.8901\n",
      "Epoch 00006: early stopping\n",
      "Train on 29471 samples, validate on 19999 samples\n",
      "Epoch 1/100\n",
      "29471/29471 - 27s - loss: 0.4035 - accuracy: 0.7962 - val_loss: 0.2150 - val_accuracy: 0.9138\n",
      "Epoch 2/100\n",
      "29471/29471 - 27s - loss: 0.1435 - accuracy: 0.9459 - val_loss: 0.2258 - val_accuracy: 0.9187\n",
      "Epoch 3/100\n",
      "29471/29471 - 27s - loss: 0.0656 - accuracy: 0.9776 - val_loss: 0.2950 - val_accuracy: 0.9077\n",
      "Epoch 4/100\n",
      "Restoring model weights from the end of the best epoch.\n",
      "29471/29471 - 27s - loss: 0.0336 - accuracy: 0.9892 - val_loss: 0.3631 - val_accuracy: 0.9001\n",
      "Epoch 00004: early stopping\n",
      "Train on 51795 samples, validate on 19999 samples\n",
      "Epoch 1/100\n",
      "51795/51795 - 44s - loss: 0.3686 - accuracy: 0.8195 - val_loss: 0.1963 - val_accuracy: 0.9224\n",
      "Epoch 2/100\n",
      "51795/51795 - 44s - loss: 0.1479 - accuracy: 0.9454 - val_loss: 0.1964 - val_accuracy: 0.9234\n",
      "Epoch 3/100\n",
      "51795/51795 - 44s - loss: 0.0889 - accuracy: 0.9692 - val_loss: 0.2165 - val_accuracy: 0.9233\n",
      "Epoch 4/100\n",
      "Restoring model weights from the end of the best epoch.\n",
      "51795/51795 - 44s - loss: 0.0507 - accuracy: 0.9836 - val_loss: 0.2756 - val_accuracy: 0.9170\n",
      "Epoch 00004: early stopping\n",
      "Train on 91032 samples, validate on 19999 samples\n",
      "Epoch 1/100\n",
      "91032/91032 - 74s - loss: 0.2595 - accuracy: 0.8847 - val_loss: 0.1609 - val_accuracy: 0.9386\n",
      "Epoch 2/100\n",
      "91032/91032 - 74s - loss: 0.1160 - accuracy: 0.9569 - val_loss: 0.1668 - val_accuracy: 0.9362\n",
      "Epoch 3/100\n",
      "91032/91032 - 74s - loss: 0.0693 - accuracy: 0.9758 - val_loss: 0.1999 - val_accuracy: 0.9356\n",
      "Epoch 4/100\n",
      "Restoring model weights from the end of the best epoch.\n",
      "91032/91032 - 74s - loss: 0.0421 - accuracy: 0.9861 - val_loss: 0.2373 - val_accuracy: 0.9316\n",
      "Epoch 00004: early stopping\n",
      "Train on 159993 samples, validate on 19999 samples\n",
      "Epoch 1/100\n",
      "159993/159993 - 125s - loss: 0.2502 - accuracy: 0.8899 - val_loss: 0.1609 - val_accuracy: 0.9393\n",
      "Epoch 2/100\n",
      "159993/159993 - 126s - loss: 0.1263 - accuracy: 0.9528 - val_loss: 0.1482 - val_accuracy: 0.9444\n",
      "Epoch 3/100\n",
      "159993/159993 - 126s - loss: 0.0851 - accuracy: 0.9699 - val_loss: 0.1678 - val_accuracy: 0.9415\n",
      "Epoch 4/100\n",
      "159993/159993 - 126s - loss: 0.0549 - accuracy: 0.9817 - val_loss: 0.2058 - val_accuracy: 0.9386\n",
      "Epoch 5/100\n",
      "Restoring model weights from the end of the best epoch.\n",
      "159993/159993 - 126s - loss: 0.0362 - accuracy: 0.9885 - val_loss: 0.2558 - val_accuracy: 0.9345\n",
      "Epoch 00005: early stopping\n"
     ]
    }
   ],
   "source": [
    "sizes = [int(p) for p in np.geomspace(1000, 160000, 10)]\n",
    "preprocessor = SequencePreprocessor(MAX_NB_WORDS, MAX_LENGTH_SEQ)\n",
    "\n",
    "test_accuracies = accuracy_vs_training_data(\n",
    "    model, initial_weights, \n",
    "    preprocessor, sizes,\n",
    "    train_reviews, train_labels,\n",
    "    val_reviews, val_labels,\n",
    "    test_reviews, test_labels\n",
    ")"
   ]
  },
  {
   "cell_type": "code",
   "execution_count": 58,
   "metadata": {},
   "outputs": [],
   "source": [
    "import pickle\n",
    "\n",
    "OUTPUT_PATH = 'data/rnn_accuracies.pickle'\n",
    "\n",
    "output_dict = {\n",
    "    \"sizes\": sizes,\n",
    "    \"test_accuracies\": test_accuracies\n",
    "}\n",
    "\n",
    "with open(OUTPUT_PATH, 'wb') as writer:\n",
    "    pickle.dump(output_dict, writer)"
   ]
  },
  {
   "cell_type": "markdown",
   "metadata": {},
   "source": [
    "# CNN"
   ]
  },
  {
   "cell_type": "markdown",
   "metadata": {},
   "source": [
    "Here we implement [this model](https://arxiv.org/abs/1412.1058), because it has a pretty good accuracy on the english IMDB sentiment analysis dataset."
   ]
  },
  {
   "cell_type": "markdown",
   "metadata": {},
   "source": [
    "## Model"
   ]
  },
  {
   "cell_type": "code",
   "execution_count": 89,
   "metadata": {},
   "outputs": [],
   "source": [
    "emb_dim = 512\n",
    "hid_dim = 512\n",
    "sentence_length = MAX_LENGTH_SEQ\n",
    "num_words = MAX_NB_WORDS\n",
    "dropout_rate = 0.05\n",
    "    \n",
    "input_layer = tf.keras.layers.Input(shape=(sentence_length,), dtype=tf.int32)\n",
    "\n",
    "layer = tf.keras.layers.Embedding(num_words, output_dim=emb_dim)(input_layer)\n",
    "\n",
    "layer_conv3 = tf.keras.layers.Conv1D(hid_dim, 3, activation=\"relu\")(layer)\n",
    "layer_conv3 = tf.keras.layers.GlobalMaxPooling1D()(layer_conv3)\n",
    "\n",
    "layer_conv4 = tf.keras.layers.Conv1D(hid_dim, 2, activation=\"relu\")(layer)\n",
    "layer_conv4 = tf.keras.layers.GlobalMaxPooling1D()(layer_conv4)\n",
    "\n",
    "layer = tf.keras.layers.concatenate([layer_conv4, layer_conv3], axis=1)\n",
    "layer = tf.keras.layers.BatchNormalization()(layer)\n",
    "layer = tf.keras.layers.Dropout(dropout_rate)(layer)\n",
    "\n",
    "output = tf.keras.layers.Dense(1, activation=\"sigmoid\")(layer)\n",
    "\n",
    "model = tf.keras.models.Model(name='cnn', inputs=[input_layer], outputs=output)\n",
    "\n",
    "model.compile(loss=\"binary_crossentropy\",\n",
    "              optimizer=\"adam\",\n",
    "              metrics=[\"accuracy\"])"
   ]
  },
  {
   "cell_type": "code",
   "execution_count": 90,
   "metadata": {},
   "outputs": [
    {
     "name": "stdout",
     "output_type": "stream",
     "text": [
      "Model: \"cnn\"\n",
      "__________________________________________________________________________________________________\n",
      "Layer (type)                    Output Shape         Param #     Connected to                     \n",
      "==================================================================================================\n",
      "input_12 (InputLayer)           [(None, 350)]        0                                            \n",
      "__________________________________________________________________________________________________\n",
      "embedding_14 (Embedding)        (None, 350, 512)     10240000    input_12[0][0]                   \n",
      "__________________________________________________________________________________________________\n",
      "conv1d_31 (Conv1D)              (None, 349, 512)     524800      embedding_14[0][0]               \n",
      "__________________________________________________________________________________________________\n",
      "conv1d_30 (Conv1D)              (None, 348, 512)     786944      embedding_14[0][0]               \n",
      "__________________________________________________________________________________________________\n",
      "global_max_pooling1d_7 (GlobalM (None, 512)          0           conv1d_31[0][0]                  \n",
      "__________________________________________________________________________________________________\n",
      "global_max_pooling1d_6 (GlobalM (None, 512)          0           conv1d_30[0][0]                  \n",
      "__________________________________________________________________________________________________\n",
      "concatenate_7 (Concatenate)     (None, 1024)         0           global_max_pooling1d_7[0][0]     \n",
      "                                                                 global_max_pooling1d_6[0][0]     \n",
      "__________________________________________________________________________________________________\n",
      "batch_normalization_6 (BatchNor (None, 1024)         4096        concatenate_7[0][0]              \n",
      "__________________________________________________________________________________________________\n",
      "dropout_4 (Dropout)             (None, 1024)         0           batch_normalization_6[0][0]      \n",
      "__________________________________________________________________________________________________\n",
      "dense_9 (Dense)                 (None, 1)            1025        dropout_4[0][0]                  \n",
      "==================================================================================================\n",
      "Total params: 11,556,865\n",
      "Trainable params: 11,554,817\n",
      "Non-trainable params: 2,048\n",
      "__________________________________________________________________________________________________\n"
     ]
    }
   ],
   "source": [
    "initial_weights = model.get_weights()\n",
    "model.summary()"
   ]
  },
  {
   "cell_type": "markdown",
   "metadata": {},
   "source": [
    "## Training"
   ]
  },
  {
   "cell_type": "code",
   "execution_count": 39,
   "metadata": {},
   "outputs": [
    {
     "name": "stdout",
     "output_type": "stream",
     "text": [
      "Train on 159993 samples, validate on 19999 samples\n",
      "Epoch 1/5\n",
      "159872/159993 [============================>.] - ETA: 0s - loss: 0.1975 - accuracy: 0.9206\n",
      "Epoch 00001: val_loss improved from inf to 0.16033, saving model to /tmp/cnn_weights.hdf5\n",
      "159993/159993 [==============================] - 220s 1ms/sample - loss: 0.1975 - accuracy: 0.9206 - val_loss: 0.1603 - val_accuracy: 0.9369\n",
      "Epoch 2/5\n",
      "159872/159993 [============================>.] - ETA: 0s - loss: 0.0865 - accuracy: 0.9696\n",
      "Epoch 00002: val_loss did not improve from 0.16033\n",
      "159993/159993 [==============================] - 221s 1ms/sample - loss: 0.0865 - accuracy: 0.9696 - val_loss: 0.1808 - val_accuracy: 0.9366\n",
      "Epoch 3/5\n",
      "159872/159993 [============================>.] - ETA: 0s - loss: 0.0433 - accuracy: 0.9850\n",
      "Epoch 00003: val_loss did not improve from 0.16033\n",
      "159993/159993 [==============================] - 224s 1ms/sample - loss: 0.0433 - accuracy: 0.9849 - val_loss: 0.2035 - val_accuracy: 0.9342\n",
      "Epoch 4/5\n",
      "159872/159993 [============================>.] - ETA: 0s - loss: 0.0280 - accuracy: 0.9902\n",
      "Epoch 00004: val_loss did not improve from 0.16033\n",
      "159993/159993 [==============================] - 224s 1ms/sample - loss: 0.0280 - accuracy: 0.9902 - val_loss: 0.2502 - val_accuracy: 0.9350\n",
      "Epoch 5/5\n",
      "159872/159993 [============================>.] - ETA: 0s - loss: 0.0226 - accuracy: 0.9923\n",
      "Epoch 00005: val_loss did not improve from 0.16033\n",
      "159993/159993 [==============================] - 223s 1ms/sample - loss: 0.0226 - accuracy: 0.9922 - val_loss: 0.2660 - val_accuracy: 0.9360\n"
     ]
    }
   ],
   "source": [
    "checkpointer = tf.keras.callbacks.ModelCheckpoint(\n",
    "    filepath='/tmp/cnn_weights.hdf5',\n",
    "    save_best_only=True, verbose=1\n",
    ")\n",
    "\n",
    "history = model.fit(\n",
    "    X_train, y_train,\n",
    "    validation_data=(X_val, y_val),\n",
    "    epochs=5, batch_size=128, \n",
    "    callbacks=[checkpointer], verbose=1)"
   ]
  },
  {
   "cell_type": "code",
   "execution_count": 41,
   "metadata": {},
   "outputs": [
    {
     "data": {
      "image/png": "[encoded data removed]",
      "text/plain": [
       "<Figure size 864x360 with 2 Axes>"
      ]
     },
     "metadata": {},
     "output_type": "display_data"
    }
   ],
   "source": [
    "from utils import plot_training_curves\n",
    "\n",
    "fig = plot_training_curves(history)\n",
    "\n",
    "# Finalize the plot\n",
    "sns.despine(bottom=True)\n",
    "plt.tight_layout(h_pad=2)\n",
    "\n",
    "# Saving plot\n",
    "fig.savefig('img/word-vectors/cnn_training.png', dpi=200)"
   ]
  },
  {
   "cell_type": "code",
   "execution_count": 69,
   "metadata": {},
   "outputs": [
    {
     "name": "stdout",
     "output_type": "stream",
     "text": [
      "Val Accuracy: 93.69\n",
      "Val F1-Score: 93.72\n"
     ]
    }
   ],
   "source": [
    "from sklearn import metrics\n",
    "\n",
    "model.load_weights('/tmp/cnn_weights.hdf5')\n",
    "probas = model.predict(X_val)\n",
    "y_pred = (probas > 0.5).astype(np.int)\n",
    "\n",
    "print(\"Val Accuracy: {:.2f}\".format(100 * metrics.accuracy_score(y_val, y_pred)))\n",
    "print(\"Val F1-Score: {:.2f}\".format(100 * metrics.f1_score(y_val, y_pred)))"
   ]
  },
  {
   "cell_type": "markdown",
   "metadata": {},
   "source": [
    "## Testing"
   ]
  },
  {
   "cell_type": "code",
   "execution_count": 70,
   "metadata": {},
   "outputs": [],
   "source": [
    "probas = model.predict(X_test)\n",
    "y_pred = (probas > 0.5).astype(np.int)"
   ]
  },
  {
   "cell_type": "code",
   "execution_count": 71,
   "metadata": {},
   "outputs": [
    {
     "name": "stdout",
     "output_type": "stream",
     "text": [
      "Test Accuracy: 94.10\n",
      "Test F1-Score: 93.98\n",
      "\n",
      "              precision    recall  f1-score   support\n",
      "\n",
      "    Negative       0.96      0.92      0.94     10408\n",
      "    Positive       0.92      0.96      0.94      9592\n",
      "\n",
      "    accuracy                           0.94     20000\n",
      "   macro avg       0.94      0.94      0.94     20000\n",
      "weighted avg       0.94      0.94      0.94     20000\n",
      "\n"
     ]
    }
   ],
   "source": [
    "print(\"Test Accuracy: {:.2f}\".format(100 * metrics.accuracy_score(y_test, y_pred)))\n",
    "print(\"Test F1-Score: {:.2f}\".format(100 * metrics.f1_score(y_test, y_pred)))\n",
    "print()\n",
    "\n",
    "report = metrics.classification_report(\n",
    "    y_test, y_pred, \n",
    "    target_names=class_names.values()\n",
    ")\n",
    "print(report)"
   ]
  },
  {
   "cell_type": "code",
   "execution_count": 45,
   "metadata": {
    "scrolled": true
   },
   "outputs": [
    {
     "data": {
      "image/png": "[encoded data removed]",
      "text/plain": [
       "<Figure size 504x360 with 2 Axes>"
      ]
     },
     "metadata": {},
     "output_type": "display_data"
    }
   ],
   "source": [
    "from sklearn.metrics import confusion_matrix\n",
    "from utils import print_confusion_matrix\n",
    "\n",
    "conf_mx = confusion_matrix(y_test, y_pred)\n",
    "\n",
    "fig = print_confusion_matrix(\n",
    "    conf_mx, \n",
    "    class_names.values(), \n",
    "    figsize=(7,5)\n",
    ")\n",
    "\n",
    "# Finalize the plot\n",
    "sns.despine(bottom=True)\n",
    "plt.tight_layout(h_pad=2)\n",
    "\n",
    "# Saving plot\n",
    "fig.savefig('img/word-vectors/cnn_test_confusion_mx.png', dpi=200)"
   ]
  },
  {
   "cell_type": "markdown",
   "metadata": {},
   "source": [
    "## Accuracy vs Training data"
   ]
  },
  {
   "cell_type": "code",
   "execution_count": null,
   "metadata": {
    "scrolled": true
   },
   "outputs": [],
   "source": [
    "sizes = [1000, 5000, 10000, 20000, 40000, 80000, 120000, 160000]\n",
    "preprocessor = SequencePreprocessor(MAX_NB_WORDS, MAX_LENGTH_SEQ)\n",
    "\n",
    "test_accuracies = accuracy_vs_training_data(\n",
    "    model, initial_weights, \n",
    "    preprocessor, sizes,\n",
    "    train_reviews, train_labels,\n",
    "    val_reviews, val_labels,\n",
    "    test_reviews, test_labels\n",
    ")"
   ]
  },
  {
   "cell_type": "code",
   "execution_count": 92,
   "metadata": {},
   "outputs": [],
   "source": [
    "import pickle\n",
    "\n",
    "OUTPUT_PATH = 'data/cnn_accuracies.pickle'\n",
    "\n",
    "output_dict = {\n",
    "    \"sizes\": sizes,\n",
    "    \"test_accuracies\": test_accuracies\n",
    "}\n",
    "\n",
    "with open(OUTPUT_PATH, 'wb') as writer:\n",
    "    pickle.dump(output_dict, writer)"
   ]
  },
  {
   "cell_type": "code",
   "execution_count": null,
   "metadata": {},
   "outputs": [],
   "source": []
  },
  {
   "cell_type": "code",
   "execution_count": null,
   "metadata": {},
   "outputs": [],
   "source": []
  },
  {
   "cell_type": "code",
   "execution_count": null,
   "metadata": {},
   "outputs": [],
   "source": []
  }
 ],
 "metadata": {
  "kernelspec": {
   "display_name": "Python 3",
   "language": "python",
   "name": "python3"
  },
  "language_info": {
   "codemirror_mode": {
    "name": "ipython",
    "version": 3
   },
   "file_extension": ".py",
   "mimetype": "text/x-python",
   "name": "python",
   "nbconvert_exporter": "python",
   "pygments_lexer": "ipython3",
   "version": "3.7.5"
  }
 },
 "nbformat": 4,
 "nbformat_minor": 4
}
