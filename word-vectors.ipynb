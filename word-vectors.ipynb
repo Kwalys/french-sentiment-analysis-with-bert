{
 "cells": [
  {
   "cell_type": "code",
   "execution_count": 54,
   "metadata": {},
   "outputs": [
    {
     "name": "stdout",
     "output_type": "stream",
     "text": [
      "The autoreload extension is already loaded. To reload it, use:\n",
      "  %reload_ext autoreload\n"
     ]
    }
   ],
   "source": [
    "import numpy as np\n",
    "import pandas as pd\n",
    "import seaborn as sns\n",
    "import matplotlib.pyplot as plt\n",
    "\n",
    "# better display of review text in dataframes\n",
    "pd.set_option('display.max_colwidth', None) \n",
    "\n",
    "# Seaborn options\n",
    "sns.set(style=\"whitegrid\", font_scale=1.4)\n",
    "\n",
    "# Auto reload modules\n",
    "%load_ext autoreload\n",
    "%autoreload 2"
   ]
  },
  {
   "cell_type": "code",
   "execution_count": 4,
   "metadata": {},
   "outputs": [],
   "source": [
    "import tensorflow as tf\n",
    "assert tf.__version__ >= \"2.0\""
   ]
  },
  {
   "cell_type": "code",
   "execution_count": 5,
   "metadata": {},
   "outputs": [],
   "source": [
    "# This cell is only here as a bug fix when running RNN on my GPU\n",
    "physical_devices = tf.config.list_physical_devices('GPU')\n",
    "tf.config.experimental.set_memory_growth(physical_devices[0], enable=True)"
   ]
  },
  {
   "cell_type": "markdown",
   "metadata": {},
   "source": [
    "# Prepare data"
   ]
  },
  {
   "cell_type": "markdown",
   "metadata": {},
   "source": [
    "## Load dataset"
   ]
  },
  {
   "cell_type": "code",
   "execution_count": 159,
   "metadata": {},
   "outputs": [],
   "source": [
    "import pickle\n",
    "\n",
    "PICKLE_PATH = \"allocine_dataset/data/allocine_dataset.pickle\"\n",
    "\n",
    "with open(PICKLE_PATH, 'rb') as reader:\n",
    "    data = pickle.load(reader)\n",
    "\n",
    "# Reviews need to be tokenized\n",
    "train_reviews = np.array(data[\"train_set\"]['review'])\n",
    "val_reviews = np.array(data[\"val_set\"]['review'])\n",
    "test_reviews = np.array(data[\"test_set\"]['review'])\n",
    "\n",
    "# Used to train fit tokenizer\n",
    "#all_reviews = np.concatenate((train_reviews, val_reviews, test_reviews), axis=0)\n",
    "\n",
    "train_labels = np.array(data[\"train_set\"]['polarity'])\n",
    "val_labels = np.array(data[\"val_set\"]['polarity'])\n",
    "test_labels = np.array(data[\"test_set\"]['polarity'])\n",
    "class_names = data['class_names']"
   ]
  },
  {
   "cell_type": "markdown",
   "metadata": {},
   "source": [
    "## Preprocess dataset"
   ]
  },
  {
   "cell_type": "markdown",
   "metadata": {},
   "source": [
    "### Tokenize"
   ]
  },
  {
   "cell_type": "markdown",
   "metadata": {},
   "source": [
    "We train the tokenizer on the reviews of the train set"
   ]
  },
  {
   "cell_type": "code",
   "execution_count": 160,
   "metadata": {},
   "outputs": [
    {
     "name": "stdout",
     "output_type": "stream",
     "text": [
      "Found 186308 unique tokens.\n"
     ]
    }
   ],
   "source": [
    "MAX_NB_WORDS = 20000\n",
    "\n",
    "tokenizer = tf.keras.preprocessing.text.Tokenizer(\n",
    "    num_words=MAX_NB_WORDS,\n",
    "    oov_token=\"<unk>\",\n",
    ")\n",
    "tokenizer.fit_on_texts(train_reviews)\n",
    "\n",
    "word_index = tokenizer.word_index\n",
    "print(\"Found {} unique tokens.\".format(len(word_index)))"
   ]
  },
  {
   "cell_type": "code",
   "execution_count": 161,
   "metadata": {},
   "outputs": [],
   "source": [
    "train_reviews_tokenized = tokenizer.texts_to_sequences(train_reviews)\n",
    "val_reviews_tokenized = tokenizer.texts_to_sequences(val_reviews)\n",
    "test_reviews_tokenized = tokenizer.texts_to_sequences(test_reviews)"
   ]
  },
  {
   "cell_type": "code",
   "execution_count": 162,
   "metadata": {},
   "outputs": [
    {
     "data": {
      "text/plain": [
       "[45, 68, 4664, 17, 77, 15081, 7, 80, 9, 8746, 2505, 249, 439, 17, 1181]"
      ]
     },
     "execution_count": 162,
     "metadata": {},
     "output_type": "execute_result"
    }
   ],
   "source": [
    "some_review = train_reviews_tokenized[0]\n",
    "some_review[:15]"
   ]
  },
  {
   "cell_type": "code",
   "execution_count": 163,
   "metadata": {},
   "outputs": [
    {
     "data": {
      "text/plain": [
       "\"si vous cherchez du cinéma abrutissant à tous les étages n'ayant aucune peur du cliché\""
      ]
     },
     "execution_count": 163,
     "metadata": {},
     "output_type": "execute_result"
    }
   ],
   "source": [
    "index_to_word = dict((i, w) for w, i in tokenizer.word_index.items())\n",
    "\" \".join([index_to_word[i] for i in some_review[:15]])"
   ]
  },
  {
   "cell_type": "code",
   "execution_count": 164,
   "metadata": {},
   "outputs": [
    {
     "name": "stdout",
     "output_type": "stream",
     "text": [
      "Average length: 91.5\n",
      "Max length: 389\n"
     ]
    },
    {
     "data": {
      "image/png": "[encoded data removed]",
      "text/plain": [
       "<Figure size 720x360 with 1 Axes>"
      ]
     },
     "metadata": {},
     "output_type": "display_data"
    }
   ],
   "source": [
    "reviews_len = [len(s) for s in train_reviews_tokenized+val_reviews_tokenized+test_reviews_tokenized]\n",
    "print(\"Average length: {:.1f}\".format(np.mean(reviews_len)))\n",
    "print(\"Max length: {}\".format(max(reviews_len)))\n",
    "\n",
    "plt.figure(figsize=(10,5))\n",
    "ax = sns.distplot(reviews_len, bins=150, kde=False, hist_kws=dict(alpha=0.8))\n",
    "ax.set(xlabel='Number of words')\n",
    "\n",
    "# Finalize the plot\n",
    "sns.despine(bottom=True)\n",
    "plt.tight_layout(h_pad=2)\n",
    "\n",
    "# Saving plot\n",
    "fig = ax.get_figure()\n",
    "fig.savefig('img/word-vectors/number_of_words.png', dpi=200)"
   ]
  },
  {
   "cell_type": "code",
   "execution_count": 165,
   "metadata": {},
   "outputs": [
    {
     "ename": "AssertionError",
     "evalue": "",
     "output_type": "error",
     "traceback": [
      "\u001b[0;31m---------------------------------------------------------------------------\u001b[0m",
      "\u001b[0;31mAssertionError\u001b[0m                            Traceback (most recent call last)",
      "\u001b[0;32m<ipython-input-165-f6b1d3c0054b>\u001b[0m in \u001b[0;36m<module>\u001b[0;34m\u001b[0m\n\u001b[1;32m      1\u001b[0m \u001b[0;31m# This assert is likely to fail\u001b[0m\u001b[0;34m\u001b[0m\u001b[0;34m\u001b[0m\u001b[0;34m\u001b[0m\u001b[0m\n\u001b[0;32m----> 2\u001b[0;31m \u001b[0;32massert\u001b[0m\u001b[0;34m(\u001b[0m\u001b[0mreviews_len\u001b[0m\u001b[0;34m.\u001b[0m\u001b[0mcount\u001b[0m\u001b[0;34m(\u001b[0m\u001b[0;36m0\u001b[0m\u001b[0;34m)\u001b[0m \u001b[0;34m==\u001b[0m \u001b[0;36m0\u001b[0m\u001b[0;34m)\u001b[0m\u001b[0;34m\u001b[0m\u001b[0;34m\u001b[0m\u001b[0m\n\u001b[0m",
      "\u001b[0;31mAssertionError\u001b[0m: "
     ]
    }
   ],
   "source": [
    "# This assert is likely to fail\n",
    "assert(reviews_len.count(0) == 0)"
   ]
  },
  {
   "cell_type": "markdown",
   "metadata": {},
   "source": [
    "### Remove empty sequences"
   ]
  },
  {
   "cell_type": "markdown",
   "metadata": {},
   "source": [
    "Important not to have empty tensors: https://github.com/tensorflow/tensorflow/issues/33148"
   ]
  },
  {
   "cell_type": "code",
   "execution_count": 166,
   "metadata": {},
   "outputs": [],
   "source": [
    "def remove_empty_sequences(reviews, labels):\n",
    "    reviews_not_empty = []\n",
    "    labels_not_empty = []\n",
    "    removed = 0\n",
    "    for x, y in zip(reviews, labels):\n",
    "        if len(x) > 0:\n",
    "            reviews_not_empty.append(x)\n",
    "            labels_not_empty.append(y)\n",
    "        else:\n",
    "            removed += 1\n",
    "    #print(\"Removed {} sequences !\".format(removed))\n",
    "    return reviews_not_empty, labels_not_empty"
   ]
  },
  {
   "cell_type": "code",
   "execution_count": 167,
   "metadata": {},
   "outputs": [
    {
     "name": "stdout",
     "output_type": "stream",
     "text": [
      "Removing 8 empty sequences\n"
     ]
    }
   ],
   "source": [
    "print('Removing {} empty sequences'.format(reviews_len.count(0)))\n",
    "\n",
    "train_reviews_tokenized, train_labels = remove_empty_sequences(\n",
    "    train_reviews_tokenized, train_labels\n",
    ")\n",
    "\n",
    "val_reviews_tokenized, val_labels = remove_empty_sequences(\n",
    "    val_reviews_tokenized, val_labels\n",
    ")\n",
    "\n",
    "test_reviews_tokenized, test_labels = remove_empty_sequences(\n",
    "    test_reviews_tokenized, test_labels\n",
    ")\n",
    "\n",
    "# Verify\n",
    "reviews_len = [len(s) for s in train_reviews_tokenized+val_reviews_tokenized+test_reviews_tokenized]\n",
    "assert(reviews_len.count(0) == 0)"
   ]
  },
  {
   "cell_type": "markdown",
   "metadata": {},
   "source": [
    "### Padding"
   ]
  },
  {
   "cell_type": "markdown",
   "metadata": {},
   "source": [
    "Then we pad short sequences with zeros until they reach a fixed length. Long sequences are also truncated."
   ]
  },
  {
   "cell_type": "code",
   "execution_count": 168,
   "metadata": {},
   "outputs": [
    {
     "name": "stdout",
     "output_type": "stream",
     "text": [
      "Shape of X_train tensor: (159993, 350)\n",
      "Shape of X_val tensor: (19999, 350)\n",
      "Shape of X_test tensor: (20000, 350)\n"
     ]
    }
   ],
   "source": [
    "MAX_LENGTH_SEQ = 350 #\n",
    "\n",
    "X_train = tf.keras.preprocessing.sequence.pad_sequences(\n",
    "    train_reviews_tokenized, \n",
    "    maxlen=MAX_LENGTH_SEQ,\n",
    "    padding='post'\n",
    ")\n",
    "\n",
    "X_val = tf.keras.preprocessing.sequence.pad_sequences(\n",
    "    val_reviews_tokenized, \n",
    "    maxlen=MAX_LENGTH_SEQ,\n",
    "    padding='post'\n",
    ")\n",
    "\n",
    "X_test = tf.keras.preprocessing.sequence.pad_sequences(\n",
    "    test_reviews_tokenized, \n",
    "    maxlen=MAX_LENGTH_SEQ,\n",
    "    padding='post'\n",
    ")\n",
    "\n",
    "print('Shape of X_train tensor:', X_train.shape)\n",
    "print('Shape of X_val tensor:', X_val.shape)\n",
    "print('Shape of X_test tensor:', X_test.shape)"
   ]
  },
  {
   "cell_type": "markdown",
   "metadata": {},
   "source": [
    "### Labels"
   ]
  },
  {
   "cell_type": "code",
   "execution_count": 169,
   "metadata": {},
   "outputs": [],
   "source": [
    "y_train = np.array(train_labels)\n",
    "y_val = np.array(val_labels)\n",
    "y_test = np.array(test_labels)"
   ]
  },
  {
   "cell_type": "markdown",
   "metadata": {},
   "source": [
    "### Preprocessing pipeline"
   ]
  },
  {
   "cell_type": "markdown",
   "metadata": {},
   "source": [
    "In order to carry out the preprocessing phase more efficiently, we can define a Scikit-Learn transformer."
   ]
  },
  {
   "cell_type": "code",
   "execution_count": 130,
   "metadata": {},
   "outputs": [],
   "source": [
    "from sklearn.base import BaseEstimator, TransformerMixin\n",
    "\n",
    "class SequencePreprocessor(BaseEstimator, TransformerMixin):\n",
    "    def __init__(self, max_nbr_words, max_seq_length):\n",
    "        self.tokenizer = tf.keras.preprocessing.text.Tokenizer(\n",
    "            num_words=max_nbr_words,\n",
    "            oov_token=\"<unk>\",\n",
    "        )\n",
    "        self.max_seq_length = max_seq_length\n",
    "\n",
    "    # the arguments are ignored anyway, so we make them optional\n",
    "    def fit(self, X):\n",
    "        self.tokenizer.fit_on_texts(X)\n",
    "\n",
    "    def transform(self, X, y):\n",
    "        # 1. Tokenize\n",
    "        X_tokenized = self.tokenizer.texts_to_sequences(X)\n",
    "        # 2. Remove empty sequences\n",
    "        X_not_empty, y_not_empty = remove_empty_sequences(X_tokenized, y)\n",
    "        # 3. Pad\n",
    "        X_padded = tf.keras.preprocessing.sequence.pad_sequences(\n",
    "            X_not_empty, \n",
    "            maxlen=self.max_seq_length,\n",
    "            padding='post'\n",
    "        )\n",
    "        # 4. labels\n",
    "        y_array = np.array(y_not_empty)\n",
    "        return X_padded, y_array     \n",
    "    \n",
    "    def fit_transform(self, X, y):\n",
    "        self.fit(X)\n",
    "        return self.transform(X, y)"
   ]
  },
  {
   "cell_type": "markdown",
   "metadata": {},
   "source": [
    "# Averaging embeddings"
   ]
  },
  {
   "cell_type": "markdown",
   "metadata": {},
   "source": [
    "## Model"
   ]
  },
  {
   "cell_type": "markdown",
   "metadata": {},
   "source": [
    "First we train an model which classify reviews based on the average vector of their embeddings."
   ]
  },
  {
   "cell_type": "code",
   "execution_count": 94,
   "metadata": {},
   "outputs": [],
   "source": [
    "from tensorflow import keras\n",
    "from tensorflow.keras import layers\n",
    "\n",
    "max_features = MAX_NB_WORDS\n",
    "embedding_dim = 128\n",
    "\n",
    "model = keras.models.Sequential(name='average')\n",
    "model.add(layers.Embedding(max_features, embedding_dim,\n",
    "                           input_shape=[None]),)\n",
    "model.add(layers.GlobalAveragePooling1D())\n",
    "model.add(layers.Dense(1, activation=\"sigmoid\"))\n",
    "\n",
    "model.compile(\n",
    "    loss=\"binary_crossentropy\",\n",
    "    optimizer=\"adam\",\n",
    "    metrics=[\"accuracy\"]\n",
    ")"
   ]
  },
  {
   "cell_type": "code",
   "execution_count": 95,
   "metadata": {},
   "outputs": [
    {
     "name": "stdout",
     "output_type": "stream",
     "text": [
      "Model: \"average\"\n",
      "_________________________________________________________________\n",
      "Layer (type)                 Output Shape              Param #   \n",
      "=================================================================\n",
      "embedding_9 (Embedding)      (None, None, 128)         2560000   \n",
      "_________________________________________________________________\n",
      "global_average_pooling1d_3 ( (None, 128)               0         \n",
      "_________________________________________________________________\n",
      "dense_9 (Dense)              (None, 1)                 129       \n",
      "=================================================================\n",
      "Total params: 2,560,129\n",
      "Trainable params: 2,560,129\n",
      "Non-trainable params: 0\n",
      "_________________________________________________________________\n"
     ]
    }
   ],
   "source": [
    "initial_weights = model.get_weights()\n",
    "model.summary()"
   ]
  },
  {
   "cell_type": "markdown",
   "metadata": {},
   "source": [
    "## Training"
   ]
  },
  {
   "cell_type": "code",
   "execution_count": 61,
   "metadata": {},
   "outputs": [
    {
     "name": "stdout",
     "output_type": "stream",
     "text": [
      "Train on 159993 samples, validate on 19999 samples\n",
      "Epoch 1/10\n",
      "159872/159993 [============================>.] - ETA: 0s - loss: 0.4679 - accuracy: 0.8217\n",
      "Epoch 00001: val_loss improved from inf to 0.29829, saving model to /tmp/average_weights.hdf5\n",
      "159993/159993 [==============================] - 28s 177us/sample - loss: 0.4678 - accuracy: 0.8218 - val_loss: 0.2983 - val_accuracy: 0.9049\n",
      "Epoch 2/10\n",
      "159872/159993 [============================>.] - ETA: 0s - loss: 0.2547 - accuracy: 0.9123\n",
      "Epoch 00002: val_loss improved from 0.29829 to 0.22919, saving model to /tmp/average_weights.hdf5\n",
      "159993/159993 [==============================] - 28s 172us/sample - loss: 0.2546 - accuracy: 0.9123 - val_loss: 0.2292 - val_accuracy: 0.9193\n",
      "Epoch 3/10\n",
      "159872/159993 [============================>.] - ETA: 0s - loss: 0.2055 - accuracy: 0.9267\n",
      "Epoch 00003: val_loss improved from 0.22919 to 0.20834, saving model to /tmp/average_weights.hdf5\n",
      "159993/159993 [==============================] - 28s 174us/sample - loss: 0.2056 - accuracy: 0.9267 - val_loss: 0.2083 - val_accuracy: 0.9250\n",
      "Epoch 4/10\n",
      "159744/159993 [============================>.] - ETA: 0s - loss: 0.1835 - accuracy: 0.9333\n",
      "Epoch 00004: val_loss improved from 0.20834 to 0.20557, saving model to /tmp/average_weights.hdf5\n",
      "159993/159993 [==============================] - 28s 173us/sample - loss: 0.1834 - accuracy: 0.9333 - val_loss: 0.2056 - val_accuracy: 0.9256\n",
      "Epoch 5/10\n",
      "159872/159993 [============================>.] - ETA: 0s - loss: 0.1698 - accuracy: 0.9375\n",
      "Epoch 00005: val_loss improved from 0.20557 to 0.20093, saving model to /tmp/average_weights.hdf5\n",
      "159993/159993 [==============================] - 27s 171us/sample - loss: 0.1698 - accuracy: 0.9375 - val_loss: 0.2009 - val_accuracy: 0.9288\n",
      "Epoch 6/10\n",
      "159616/159993 [============================>.] - ETA: 0s - loss: 0.1601 - accuracy: 0.9407\n",
      "Epoch 00006: val_loss did not improve from 0.20093\n",
      "159993/159993 [==============================] - 28s 178us/sample - loss: 0.1601 - accuracy: 0.9407 - val_loss: 0.2025 - val_accuracy: 0.9280\n",
      "Epoch 7/10\n",
      "159872/159993 [============================>.] - ETA: 0s - loss: 0.1527 - accuracy: 0.9435\n",
      "Epoch 00007: val_loss did not improve from 0.20093\n",
      "159993/159993 [==============================] - 28s 175us/sample - loss: 0.1527 - accuracy: 0.9436 - val_loss: 0.2040 - val_accuracy: 0.9280\n",
      "Epoch 8/10\n",
      "159744/159993 [============================>.] - ETA: 0s - loss: 0.1466 - accuracy: 0.9459\n",
      "Epoch 00008: val_loss did not improve from 0.20093\n",
      "159993/159993 [==============================] - 28s 175us/sample - loss: 0.1466 - accuracy: 0.9458 - val_loss: 0.2087 - val_accuracy: 0.9275\n",
      "Epoch 9/10\n",
      "159872/159993 [============================>.] - ETA: 0s - loss: 0.1411 - accuracy: 0.9478\n",
      "Epoch 00009: val_loss did not improve from 0.20093\n",
      "159993/159993 [==============================] - 28s 172us/sample - loss: 0.1411 - accuracy: 0.9478 - val_loss: 0.2112 - val_accuracy: 0.9258\n",
      "Epoch 10/10\n",
      "159872/159993 [============================>.] - ETA: 0s - loss: 0.1366 - accuracy: 0.9496\n",
      "Epoch 00010: val_loss did not improve from 0.20093\n",
      "159993/159993 [==============================] - 27s 172us/sample - loss: 0.1366 - accuracy: 0.9496 - val_loss: 0.2166 - val_accuracy: 0.9260\n"
     ]
    }
   ],
   "source": [
    "checkpointer = tf.keras.callbacks.ModelCheckpoint(\n",
    "    filepath='/tmp/average_weights.hdf5',\n",
    "    save_best_only=True, verbose=1\n",
    ")\n",
    "\n",
    "history = model.fit(\n",
    "    X_train, y_train,\n",
    "    validation_data=(X_val, y_val),\n",
    "    epochs=10, batch_size=128, \n",
    "    callbacks=[checkpointer], verbose=1)"
   ]
  },
  {
   "cell_type": "code",
   "execution_count": 62,
   "metadata": {
    "scrolled": false
   },
   "outputs": [
    {
     "data": {
      "image/png": "[encoded data removed]",
      "text/plain": [
       "<Figure size 864x360 with 2 Axes>"
      ]
     },
     "metadata": {},
     "output_type": "display_data"
    }
   ],
   "source": [
    "from utils import plot_training_curves\n",
    "\n",
    "fig = plot_training_curves(history)\n",
    "\n",
    "# Finalize the plot\n",
    "sns.despine(bottom=True)\n",
    "plt.tight_layout(h_pad=2)\n",
    "\n",
    "# Saving plot\n",
    "fig.savefig('img/word-vectors/average_training.png', dpi=200)"
   ]
  },
  {
   "cell_type": "code",
   "execution_count": 63,
   "metadata": {},
   "outputs": [
    {
     "name": "stdout",
     "output_type": "stream",
     "text": [
      "Val Accuracy: 92.88\n",
      "Val F1-Score: 92.75\n"
     ]
    }
   ],
   "source": [
    "from sklearn import metrics\n",
    "\n",
    "model.load_weights('/tmp/average_weights.hdf5')\n",
    "probas = model.predict(X_val)\n",
    "y_pred = (probas > 0.5).astype(np.int)\n",
    "\n",
    "print(\"Val Accuracy: {:.2f}\".format(100 * metrics.accuracy_score(y_val, y_pred)))\n",
    "print(\"Val F1-Score: {:.2f}\".format(100 * metrics.f1_score(y_val, y_pred)))"
   ]
  },
  {
   "cell_type": "markdown",
   "metadata": {},
   "source": [
    "This simple technique works surprisingly well on our task !"
   ]
  },
  {
   "cell_type": "markdown",
   "metadata": {},
   "source": [
    "## Testing"
   ]
  },
  {
   "cell_type": "code",
   "execution_count": 64,
   "metadata": {},
   "outputs": [],
   "source": [
    "probas = model.predict(X_test)\n",
    "y_pred = (probas > 0.5).astype(np.int)"
   ]
  },
  {
   "cell_type": "code",
   "execution_count": 65,
   "metadata": {
    "scrolled": true
   },
   "outputs": [
    {
     "name": "stdout",
     "output_type": "stream",
     "text": [
      "Test Accuracy: 92.90\n",
      "Test F1-Score: 92.57\n",
      "\n",
      "              precision    recall  f1-score   support\n",
      "\n",
      "    Negative       0.93      0.93      0.93     10408\n",
      "    Positive       0.93      0.92      0.93      9592\n",
      "\n",
      "    accuracy                           0.93     20000\n",
      "   macro avg       0.93      0.93      0.93     20000\n",
      "weighted avg       0.93      0.93      0.93     20000\n",
      "\n"
     ]
    }
   ],
   "source": [
    "print(\"Test Accuracy: {:.2f}\".format(100 * metrics.accuracy_score(y_test, y_pred)))\n",
    "print(\"Test F1-Score: {:.2f}\".format(100 * metrics.f1_score(y_test, y_pred)))\n",
    "print()\n",
    "\n",
    "report = metrics.classification_report(\n",
    "    y_test, y_pred, \n",
    "    target_names=class_names.values()\n",
    ")\n",
    "print(report)"
   ]
  },
  {
   "cell_type": "code",
   "execution_count": 66,
   "metadata": {},
   "outputs": [
    {
     "data": {
      "image/png": "[encoded data removed]",
      "text/plain": [
       "<Figure size 504x360 with 2 Axes>"
      ]
     },
     "metadata": {},
     "output_type": "display_data"
    }
   ],
   "source": [
    "from sklearn.metrics import confusion_matrix\n",
    "from utils import print_confusion_matrix\n",
    "\n",
    "conf_mx = confusion_matrix(y_test, y_pred)\n",
    "\n",
    "fig = print_confusion_matrix(\n",
    "    conf_mx, \n",
    "    class_names.values(), \n",
    "    figsize=(7,5)\n",
    ")\n",
    "\n",
    "# Finalize the plot\n",
    "sns.despine(bottom=True)\n",
    "plt.tight_layout(h_pad=2)\n",
    "\n",
    "# Saving plot\n",
    "fig.savefig('img/word-vectors/average_test_confusion_mx.png', dpi=200)"
   ]
  },
  {
   "cell_type": "markdown",
   "metadata": {},
   "source": [
    "## Accuracy vs Training data"
   ]
  },
  {
   "cell_type": "code",
   "execution_count": 131,
   "metadata": {},
   "outputs": [],
   "source": [
    "from sklearn.base import BaseEstimator\n",
    "\n",
    "class EarlyStoppingModel(BaseEstimator):\n",
    "    def __init__(self, keras_model, max_epoches, batch_size, validation_data):\n",
    "        self.model = keras_model\n",
    "        self.max_epoches = max_epoches\n",
    "        self.batch_size = batch_size\n",
    "        self.validation_data = validation_data\n",
    "        \n",
    "    def fit(self, X, y):\n",
    "        # Defines early stopper\n",
    "        early_stopper = tf.keras.callbacks.EarlyStopping(\n",
    "            monitor='val_loss', mode='auto', patience=2,\n",
    "            verbose=1, restore_best_weights=True\n",
    "        )\n",
    "        \n",
    "        # Train model on data subset\n",
    "        self.model.fit(\n",
    "            X, y,\n",
    "            validation_data=self.validation_data,\n",
    "            epochs=self.max_epoches, \n",
    "            batch_size=self.batch_size,\n",
    "            callbacks=[early_stopper], \n",
    "            verbose=2\n",
    "        )        \n",
    "        return self\n",
    "    \n",
    "    def predict(self, X):        \n",
    "        probas = self.model.predict(X)\n",
    "        y_pred = (probas > 0.5).astype(np.int)\n",
    "        return y_pred"
   ]
  },
  {
   "cell_type": "code",
   "execution_count": 135,
   "metadata": {},
   "outputs": [],
   "source": [
    "from sklearn import metrics \n",
    "\n",
    "def accuracy_vs_training_data(keras_model, initial_weights, \n",
    "                              preprocessor, sizes,\n",
    "                              train_reviews, train_labels,\n",
    "                              val_reviews, val_labels,\n",
    "                              test_reviews, test_labels):\n",
    "    test_accuracies = []\n",
    "    for size in sizes:        \n",
    "        # Preprocess data\n",
    "        X_train, y_train = preprocessor.fit_transform(\n",
    "            train_reviews[:size], train_labels[:size]\n",
    "        )\n",
    "        X_val, y_val = preprocessor.transform(val_reviews, val_labels)\n",
    "        X_test, y_test = preprocessor.transform(test_reviews, test_labels)\n",
    "        \n",
    "        # Reset weights to initial value\n",
    "        keras_model.set_weights(initial_weights)\n",
    "        best_model = EarlyStoppingModel(\n",
    "            keras_model, max_epoches=100, batch_size=64,\n",
    "            validation_data=(X_val, y_val)\n",
    "        )\n",
    "        \n",
    "        # Train model\n",
    "        best_model.fit(X_train, y_train)\n",
    "        \n",
    "        # Evaluate on test set\n",
    "        y_pred = best_model.predict(X_test)\n",
    "        test_acc = metrics.accuracy_score(y_test, y_pred)\n",
    "        test_accuracies.append(test_acc)\n",
    "        \n",
    "    return test_accuracies        "
   ]
  },
  {
   "cell_type": "code",
   "execution_count": 136,
   "metadata": {},
   "outputs": [
    {
     "name": "stdout",
     "output_type": "stream",
     "text": [
      "Train on 1000 samples, validate on 19998 samples\n",
      "Epoch 1/100\n",
      "1000/1000 - 1s - loss: 0.6923 - accuracy: 0.5180 - val_loss: 0.6915 - val_accuracy: 0.5351\n",
      "Epoch 2/100\n",
      "1000/1000 - 1s - loss: 0.6898 - accuracy: 0.5440 - val_loss: 0.6900 - val_accuracy: 0.5455\n",
      "Epoch 3/100\n",
      "1000/1000 - 1s - loss: 0.6871 - accuracy: 0.5610 - val_loss: 0.6887 - val_accuracy: 0.5489\n",
      "Epoch 4/100\n",
      "1000/1000 - 1s - loss: 0.6845 - accuracy: 0.5740 - val_loss: 0.6872 - val_accuracy: 0.5541\n",
      "Epoch 5/100\n",
      "1000/1000 - 1s - loss: 0.6813 - accuracy: 0.6200 - val_loss: 0.6854 - val_accuracy: 0.5774\n",
      "Epoch 6/100\n",
      "1000/1000 - 1s - loss: 0.6772 - accuracy: 0.6440 - val_loss: 0.6834 - val_accuracy: 0.5776\n",
      "Epoch 7/100\n",
      "1000/1000 - 1s - loss: 0.6730 - accuracy: 0.6510 - val_loss: 0.6811 - val_accuracy: 0.5836\n",
      "Epoch 8/100\n",
      "1000/1000 - 1s - loss: 0.6680 - accuracy: 0.6600 - val_loss: 0.6786 - val_accuracy: 0.5897\n",
      "Epoch 9/100\n",
      "1000/1000 - 1s - loss: 0.6627 - accuracy: 0.6720 - val_loss: 0.6755 - val_accuracy: 0.5940\n",
      "Epoch 10/100\n",
      "1000/1000 - 1s - loss: 0.6557 - accuracy: 0.6860 - val_loss: 0.6720 - val_accuracy: 0.6090\n",
      "Epoch 11/100\n",
      "1000/1000 - 1s - loss: 0.6483 - accuracy: 0.7030 - val_loss: 0.6680 - val_accuracy: 0.6171\n",
      "Epoch 12/100\n",
      "1000/1000 - 1s - loss: 0.6396 - accuracy: 0.7280 - val_loss: 0.6636 - val_accuracy: 0.6341\n",
      "Epoch 13/100\n",
      "1000/1000 - 1s - loss: 0.6299 - accuracy: 0.7520 - val_loss: 0.6584 - val_accuracy: 0.6430\n",
      "Epoch 14/100\n",
      "1000/1000 - 1s - loss: 0.6191 - accuracy: 0.7340 - val_loss: 0.6528 - val_accuracy: 0.6428\n",
      "Epoch 15/100\n",
      "1000/1000 - 1s - loss: 0.6064 - accuracy: 0.7620 - val_loss: 0.6465 - val_accuracy: 0.6618\n",
      "Epoch 16/100\n",
      "1000/1000 - 1s - loss: 0.5929 - accuracy: 0.8010 - val_loss: 0.6397 - val_accuracy: 0.6736\n",
      "Epoch 17/100\n",
      "1000/1000 - 1s - loss: 0.5785 - accuracy: 0.7950 - val_loss: 0.6323 - val_accuracy: 0.6820\n",
      "Epoch 18/100\n",
      "1000/1000 - 1s - loss: 0.5631 - accuracy: 0.8290 - val_loss: 0.6242 - val_accuracy: 0.7182\n",
      "Epoch 19/100\n",
      "1000/1000 - 1s - loss: 0.5468 - accuracy: 0.8280 - val_loss: 0.6163 - val_accuracy: 0.7001\n",
      "Epoch 20/100\n",
      "1000/1000 - 1s - loss: 0.5303 - accuracy: 0.8510 - val_loss: 0.6074 - val_accuracy: 0.7433\n",
      "Epoch 21/100\n",
      "1000/1000 - 1s - loss: 0.5131 - accuracy: 0.8740 - val_loss: 0.5988 - val_accuracy: 0.7381\n",
      "Epoch 22/100\n",
      "1000/1000 - 1s - loss: 0.4964 - accuracy: 0.8800 - val_loss: 0.5899 - val_accuracy: 0.7605\n",
      "Epoch 23/100\n",
      "1000/1000 - 1s - loss: 0.4800 - accuracy: 0.9000 - val_loss: 0.5815 - val_accuracy: 0.7996\n",
      "Epoch 24/100\n",
      "1000/1000 - 1s - loss: 0.4631 - accuracy: 0.9140 - val_loss: 0.5728 - val_accuracy: 0.7760\n",
      "Epoch 25/100\n",
      "1000/1000 - 1s - loss: 0.4471 - accuracy: 0.9020 - val_loss: 0.5645 - val_accuracy: 0.7778\n",
      "Epoch 26/100\n",
      "1000/1000 - 1s - loss: 0.4313 - accuracy: 0.9190 - val_loss: 0.5564 - val_accuracy: 0.8089\n",
      "Epoch 27/100\n",
      "1000/1000 - 1s - loss: 0.4171 - accuracy: 0.9450 - val_loss: 0.5487 - val_accuracy: 0.7848\n",
      "Epoch 28/100\n",
      "1000/1000 - 1s - loss: 0.4019 - accuracy: 0.9270 - val_loss: 0.5409 - val_accuracy: 0.8176\n",
      "Epoch 29/100\n",
      "1000/1000 - 1s - loss: 0.3874 - accuracy: 0.9390 - val_loss: 0.5336 - val_accuracy: 0.7978\n",
      "Epoch 30/100\n",
      "1000/1000 - 1s - loss: 0.3748 - accuracy: 0.9460 - val_loss: 0.5265 - val_accuracy: 0.7981\n",
      "Epoch 31/100\n",
      "1000/1000 - 1s - loss: 0.3613 - accuracy: 0.9320 - val_loss: 0.5194 - val_accuracy: 0.8175\n",
      "Epoch 32/100\n",
      "1000/1000 - 1s - loss: 0.3519 - accuracy: 0.9520 - val_loss: 0.5160 - val_accuracy: 0.7763\n",
      "Epoch 33/100\n",
      "1000/1000 - 1s - loss: 0.3372 - accuracy: 0.9430 - val_loss: 0.5066 - val_accuracy: 0.8237\n",
      "Epoch 34/100\n",
      "1000/1000 - 1s - loss: 0.3255 - accuracy: 0.9520 - val_loss: 0.5006 - val_accuracy: 0.8200\n",
      "Epoch 35/100\n",
      "1000/1000 - 1s - loss: 0.3150 - accuracy: 0.9620 - val_loss: 0.4949 - val_accuracy: 0.8246\n",
      "Epoch 36/100\n",
      "1000/1000 - 1s - loss: 0.3064 - accuracy: 0.9450 - val_loss: 0.4898 - val_accuracy: 0.8303\n",
      "Epoch 37/100\n",
      "1000/1000 - 1s - loss: 0.2968 - accuracy: 0.9750 - val_loss: 0.4851 - val_accuracy: 0.8131\n",
      "Epoch 38/100\n",
      "1000/1000 - 1s - loss: 0.2853 - accuracy: 0.9550 - val_loss: 0.4797 - val_accuracy: 0.8322\n",
      "Epoch 39/100\n",
      "1000/1000 - 1s - loss: 0.2771 - accuracy: 0.9740 - val_loss: 0.4746 - val_accuracy: 0.8258\n",
      "Epoch 40/100\n",
      "1000/1000 - 1s - loss: 0.2707 - accuracy: 0.9450 - val_loss: 0.4715 - val_accuracy: 0.8349\n",
      "Epoch 41/100\n",
      "1000/1000 - 1s - loss: 0.2606 - accuracy: 0.9750 - val_loss: 0.4661 - val_accuracy: 0.8257\n",
      "Epoch 42/100\n",
      "1000/1000 - 1s - loss: 0.2520 - accuracy: 0.9680 - val_loss: 0.4619 - val_accuracy: 0.8269\n",
      "Epoch 43/100\n",
      "1000/1000 - 1s - loss: 0.2444 - accuracy: 0.9680 - val_loss: 0.4579 - val_accuracy: 0.8349\n",
      "Epoch 44/100\n",
      "1000/1000 - 1s - loss: 0.2377 - accuracy: 0.9710 - val_loss: 0.4541 - val_accuracy: 0.8356\n",
      "Epoch 45/100\n",
      "1000/1000 - 1s - loss: 0.2304 - accuracy: 0.9770 - val_loss: 0.4512 - val_accuracy: 0.8269\n",
      "Epoch 46/100\n",
      "1000/1000 - 1s - loss: 0.2243 - accuracy: 0.9640 - val_loss: 0.4472 - val_accuracy: 0.8357\n",
      "Epoch 47/100\n",
      "1000/1000 - 1s - loss: 0.2190 - accuracy: 0.9750 - val_loss: 0.4449 - val_accuracy: 0.8273\n",
      "Epoch 48/100\n",
      "1000/1000 - 1s - loss: 0.2128 - accuracy: 0.9720 - val_loss: 0.4410 - val_accuracy: 0.8331\n",
      "Epoch 49/100\n",
      "1000/1000 - 1s - loss: 0.2060 - accuracy: 0.9760 - val_loss: 0.4378 - val_accuracy: 0.8356\n",
      "Epoch 50/100\n",
      "1000/1000 - 1s - loss: 0.2005 - accuracy: 0.9740 - val_loss: 0.4351 - val_accuracy: 0.8391\n",
      "Epoch 51/100\n",
      "1000/1000 - 1s - loss: 0.1951 - accuracy: 0.9770 - val_loss: 0.4324 - val_accuracy: 0.8363\n",
      "Epoch 52/100\n",
      "1000/1000 - 1s - loss: 0.1897 - accuracy: 0.9790 - val_loss: 0.4304 - val_accuracy: 0.8401\n",
      "Epoch 53/100\n",
      "1000/1000 - 1s - loss: 0.1846 - accuracy: 0.9790 - val_loss: 0.4279 - val_accuracy: 0.8333\n",
      "Epoch 54/100\n",
      "1000/1000 - 1s - loss: 0.1806 - accuracy: 0.9730 - val_loss: 0.4251 - val_accuracy: 0.8414\n",
      "Epoch 55/100\n",
      "1000/1000 - 1s - loss: 0.1757 - accuracy: 0.9810 - val_loss: 0.4227 - val_accuracy: 0.8385\n",
      "Epoch 56/100\n",
      "1000/1000 - 1s - loss: 0.1711 - accuracy: 0.9790 - val_loss: 0.4206 - val_accuracy: 0.8392\n",
      "Epoch 57/100\n",
      "1000/1000 - 1s - loss: 0.1671 - accuracy: 0.9790 - val_loss: 0.4185 - val_accuracy: 0.8413\n",
      "Epoch 58/100\n",
      "1000/1000 - 1s - loss: 0.1630 - accuracy: 0.9830 - val_loss: 0.4166 - val_accuracy: 0.8391\n",
      "Epoch 59/100\n",
      "1000/1000 - 1s - loss: 0.1590 - accuracy: 0.9830 - val_loss: 0.4148 - val_accuracy: 0.8392\n",
      "Epoch 60/100\n",
      "1000/1000 - 1s - loss: 0.1554 - accuracy: 0.9790 - val_loss: 0.4129 - val_accuracy: 0.8417\n",
      "Epoch 61/100\n",
      "1000/1000 - 1s - loss: 0.1524 - accuracy: 0.9850 - val_loss: 0.4115 - val_accuracy: 0.8389\n",
      "Epoch 62/100\n",
      "1000/1000 - 1s - loss: 0.1483 - accuracy: 0.9800 - val_loss: 0.4095 - val_accuracy: 0.8416\n",
      "Epoch 63/100\n",
      "1000/1000 - 1s - loss: 0.1448 - accuracy: 0.9850 - val_loss: 0.4082 - val_accuracy: 0.8398\n",
      "Epoch 64/100\n",
      "1000/1000 - 1s - loss: 0.1420 - accuracy: 0.9810 - val_loss: 0.4069 - val_accuracy: 0.8429\n",
      "Epoch 65/100\n",
      "1000/1000 - 1s - loss: 0.1392 - accuracy: 0.9860 - val_loss: 0.4055 - val_accuracy: 0.8398\n",
      "Epoch 66/100\n",
      "1000/1000 - 1s - loss: 0.1356 - accuracy: 0.9820 - val_loss: 0.4037 - val_accuracy: 0.8422\n",
      "Epoch 67/100\n",
      "1000/1000 - 1s - loss: 0.1326 - accuracy: 0.9820 - val_loss: 0.4026 - val_accuracy: 0.8433\n",
      "Epoch 68/100\n",
      "1000/1000 - 1s - loss: 0.1296 - accuracy: 0.9840 - val_loss: 0.4018 - val_accuracy: 0.8400\n",
      "Epoch 69/100\n",
      "1000/1000 - 1s - loss: 0.1266 - accuracy: 0.9840 - val_loss: 0.4004 - val_accuracy: 0.8415\n",
      "Epoch 70/100\n",
      "1000/1000 - 1s - loss: 0.1237 - accuracy: 0.9840 - val_loss: 0.3990 - val_accuracy: 0.8433\n",
      "Epoch 71/100\n",
      "1000/1000 - 1s - loss: 0.1219 - accuracy: 0.9870 - val_loss: 0.3989 - val_accuracy: 0.8398\n",
      "Epoch 72/100\n",
      "1000/1000 - 1s - loss: 0.1189 - accuracy: 0.9850 - val_loss: 0.3974 - val_accuracy: 0.8453\n",
      "Epoch 73/100\n",
      "1000/1000 - 1s - loss: 0.1165 - accuracy: 0.9870 - val_loss: 0.3959 - val_accuracy: 0.8442\n",
      "Epoch 74/100\n",
      "1000/1000 - 1s - loss: 0.1137 - accuracy: 0.9850 - val_loss: 0.3955 - val_accuracy: 0.8418\n",
      "Epoch 75/100\n",
      "1000/1000 - 1s - loss: 0.1114 - accuracy: 0.9870 - val_loss: 0.3943 - val_accuracy: 0.8446\n",
      "Epoch 76/100\n",
      "1000/1000 - 1s - loss: 0.1094 - accuracy: 0.9880 - val_loss: 0.3933 - val_accuracy: 0.8445\n",
      "Epoch 77/100\n",
      "1000/1000 - 1s - loss: 0.1075 - accuracy: 0.9860 - val_loss: 0.3926 - val_accuracy: 0.8440\n",
      "Epoch 78/100\n",
      "1000/1000 - 1s - loss: 0.1052 - accuracy: 0.9890 - val_loss: 0.3918 - val_accuracy: 0.8445\n",
      "Epoch 79/100\n",
      "1000/1000 - 1s - loss: 0.1028 - accuracy: 0.9900 - val_loss: 0.3912 - val_accuracy: 0.8445\n"
     ]
    },
    {
     "name": "stdout",
     "output_type": "stream",
     "text": [
      "Epoch 80/100\n",
      "1000/1000 - 1s - loss: 0.1014 - accuracy: 0.9870 - val_loss: 0.3915 - val_accuracy: 0.8456\n",
      "Epoch 81/100\n",
      "1000/1000 - 1s - loss: 0.0996 - accuracy: 0.9900 - val_loss: 0.3906 - val_accuracy: 0.8421\n",
      "Epoch 82/100\n",
      "1000/1000 - 1s - loss: 0.0978 - accuracy: 0.9880 - val_loss: 0.3892 - val_accuracy: 0.8448\n",
      "Epoch 83/100\n",
      "1000/1000 - 1s - loss: 0.0954 - accuracy: 0.9890 - val_loss: 0.3895 - val_accuracy: 0.8422\n",
      "Epoch 84/100\n",
      "1000/1000 - 1s - loss: 0.0935 - accuracy: 0.9910 - val_loss: 0.3882 - val_accuracy: 0.8446\n",
      "Epoch 85/100\n",
      "1000/1000 - 1s - loss: 0.0921 - accuracy: 0.9880 - val_loss: 0.3881 - val_accuracy: 0.8459\n",
      "Epoch 86/100\n",
      "1000/1000 - 1s - loss: 0.0902 - accuracy: 0.9900 - val_loss: 0.3876 - val_accuracy: 0.8433\n",
      "Epoch 87/100\n",
      "1000/1000 - 1s - loss: 0.0882 - accuracy: 0.9900 - val_loss: 0.3869 - val_accuracy: 0.8455\n",
      "Epoch 88/100\n",
      "1000/1000 - 1s - loss: 0.0870 - accuracy: 0.9890 - val_loss: 0.3867 - val_accuracy: 0.8443\n",
      "Epoch 89/100\n",
      "1000/1000 - 1s - loss: 0.0851 - accuracy: 0.9910 - val_loss: 0.3862 - val_accuracy: 0.8457\n",
      "Epoch 90/100\n",
      "1000/1000 - 1s - loss: 0.0839 - accuracy: 0.9920 - val_loss: 0.3858 - val_accuracy: 0.8459\n",
      "Epoch 91/100\n",
      "1000/1000 - 1s - loss: 0.0821 - accuracy: 0.9920 - val_loss: 0.3853 - val_accuracy: 0.8458\n",
      "Epoch 92/100\n",
      "1000/1000 - 1s - loss: 0.0809 - accuracy: 0.9910 - val_loss: 0.3852 - val_accuracy: 0.8461\n",
      "Epoch 93/100\n",
      "1000/1000 - 1s - loss: 0.0797 - accuracy: 0.9910 - val_loss: 0.3848 - val_accuracy: 0.8458\n",
      "Epoch 94/100\n",
      "1000/1000 - 1s - loss: 0.0779 - accuracy: 0.9940 - val_loss: 0.3845 - val_accuracy: 0.8457\n",
      "Epoch 95/100\n",
      "1000/1000 - 1s - loss: 0.0775 - accuracy: 0.9910 - val_loss: 0.3848 - val_accuracy: 0.8459\n",
      "Epoch 96/100\n",
      "Restoring model weights from the end of the best epoch.\n",
      "1000/1000 - 1s - loss: 0.0761 - accuracy: 0.9970 - val_loss: 0.3845 - val_accuracy: 0.8439\n",
      "Epoch 00096: early stopping\n",
      "Train on 5000 samples, validate on 19998 samples\n",
      "Epoch 1/100\n",
      "5000/5000 - 2s - loss: 0.6911 - accuracy: 0.5234 - val_loss: 0.6870 - val_accuracy: 0.5986\n",
      "Epoch 2/100\n",
      "5000/5000 - 2s - loss: 0.6832 - accuracy: 0.6226 - val_loss: 0.6789 - val_accuracy: 0.6379\n",
      "Epoch 3/100\n",
      "5000/5000 - 2s - loss: 0.6709 - accuracy: 0.6602 - val_loss: 0.6647 - val_accuracy: 0.7092\n",
      "Epoch 4/100\n",
      "5000/5000 - 2s - loss: 0.6486 - accuracy: 0.7624 - val_loss: 0.6391 - val_accuracy: 0.7311\n",
      "Epoch 5/100\n",
      "5000/5000 - 2s - loss: 0.6112 - accuracy: 0.7924 - val_loss: 0.6012 - val_accuracy: 0.8248\n",
      "Epoch 6/100\n",
      "5000/5000 - 2s - loss: 0.5583 - accuracy: 0.8634 - val_loss: 0.5546 - val_accuracy: 0.8509\n",
      "Epoch 7/100\n",
      "5000/5000 - 2s - loss: 0.5006 - accuracy: 0.8880 - val_loss: 0.5098 - val_accuracy: 0.8538\n",
      "Epoch 8/100\n",
      "5000/5000 - 2s - loss: 0.4445 - accuracy: 0.9044 - val_loss: 0.4686 - val_accuracy: 0.8606\n",
      "Epoch 9/100\n",
      "5000/5000 - 2s - loss: 0.3953 - accuracy: 0.9158 - val_loss: 0.4369 - val_accuracy: 0.8670\n",
      "Epoch 10/100\n",
      "5000/5000 - 2s - loss: 0.3533 - accuracy: 0.9264 - val_loss: 0.4102 - val_accuracy: 0.8659\n",
      "Epoch 11/100\n",
      "5000/5000 - 2s - loss: 0.3203 - accuracy: 0.9334 - val_loss: 0.3903 - val_accuracy: 0.8711\n",
      "Epoch 12/100\n",
      "5000/5000 - 2s - loss: 0.2906 - accuracy: 0.9400 - val_loss: 0.3760 - val_accuracy: 0.8678\n",
      "Epoch 13/100\n",
      "5000/5000 - 2s - loss: 0.2652 - accuracy: 0.9478 - val_loss: 0.3610 - val_accuracy: 0.8724\n",
      "Epoch 14/100\n",
      "5000/5000 - 2s - loss: 0.2437 - accuracy: 0.9538 - val_loss: 0.3433 - val_accuracy: 0.8822\n",
      "Epoch 15/100\n",
      "5000/5000 - 2s - loss: 0.2244 - accuracy: 0.9604 - val_loss: 0.3358 - val_accuracy: 0.8782\n",
      "Epoch 16/100\n",
      "5000/5000 - 2s - loss: 0.2079 - accuracy: 0.9612 - val_loss: 0.3284 - val_accuracy: 0.8764\n",
      "Epoch 17/100\n",
      "5000/5000 - 2s - loss: 0.1945 - accuracy: 0.9634 - val_loss: 0.3185 - val_accuracy: 0.8876\n",
      "Epoch 18/100\n",
      "5000/5000 - 2s - loss: 0.1808 - accuracy: 0.9666 - val_loss: 0.3119 - val_accuracy: 0.8876\n",
      "Epoch 19/100\n",
      "5000/5000 - 2s - loss: 0.1692 - accuracy: 0.9712 - val_loss: 0.3066 - val_accuracy: 0.8891\n",
      "Epoch 20/100\n",
      "5000/5000 - 2s - loss: 0.1587 - accuracy: 0.9726 - val_loss: 0.3016 - val_accuracy: 0.8902\n",
      "Epoch 21/100\n",
      "5000/5000 - 2s - loss: 0.1503 - accuracy: 0.9732 - val_loss: 0.2985 - val_accuracy: 0.8897\n",
      "Epoch 22/100\n",
      "5000/5000 - 2s - loss: 0.1409 - accuracy: 0.9754 - val_loss: 0.2944 - val_accuracy: 0.8914\n",
      "Epoch 23/100\n",
      "5000/5000 - 2s - loss: 0.1325 - accuracy: 0.9754 - val_loss: 0.2923 - val_accuracy: 0.8916\n",
      "Epoch 24/100\n",
      "5000/5000 - 2s - loss: 0.1264 - accuracy: 0.9790 - val_loss: 0.2938 - val_accuracy: 0.8900\n",
      "Epoch 25/100\n",
      "5000/5000 - 2s - loss: 0.1188 - accuracy: 0.9802 - val_loss: 0.2884 - val_accuracy: 0.8929\n",
      "Epoch 26/100\n",
      "5000/5000 - 2s - loss: 0.1129 - accuracy: 0.9810 - val_loss: 0.2865 - val_accuracy: 0.8926\n",
      "Epoch 27/100\n",
      "5000/5000 - 2s - loss: 0.1075 - accuracy: 0.9816 - val_loss: 0.2854 - val_accuracy: 0.8927\n",
      "Epoch 28/100\n",
      "5000/5000 - 2s - loss: 0.1022 - accuracy: 0.9834 - val_loss: 0.2839 - val_accuracy: 0.8940\n",
      "Epoch 29/100\n",
      "5000/5000 - 2s - loss: 0.0981 - accuracy: 0.9826 - val_loss: 0.2833 - val_accuracy: 0.8948\n",
      "Epoch 30/100\n",
      "5000/5000 - 2s - loss: 0.0925 - accuracy: 0.9856 - val_loss: 0.2824 - val_accuracy: 0.8952\n",
      "Epoch 31/100\n",
      "5000/5000 - 2s - loss: 0.0880 - accuracy: 0.9854 - val_loss: 0.2819 - val_accuracy: 0.8949\n",
      "Epoch 32/100\n",
      "5000/5000 - 2s - loss: 0.0838 - accuracy: 0.9872 - val_loss: 0.2826 - val_accuracy: 0.8948\n",
      "Epoch 33/100\n",
      "Restoring model weights from the end of the best epoch.\n",
      "5000/5000 - 2s - loss: 0.0801 - accuracy: 0.9874 - val_loss: 0.2824 - val_accuracy: 0.8949\n",
      "Epoch 00033: early stopping\n",
      "Train on 9999 samples, validate on 19998 samples\n",
      "Epoch 1/100\n",
      "9999/9999 - 3s - loss: 0.6890 - accuracy: 0.6061 - val_loss: 0.6821 - val_accuracy: 0.6035\n",
      "Epoch 2/100\n",
      "9999/9999 - 3s - loss: 0.6715 - accuracy: 0.6362 - val_loss: 0.6560 - val_accuracy: 0.7108\n",
      "Epoch 3/100\n",
      "9999/9999 - 3s - loss: 0.6267 - accuracy: 0.7597 - val_loss: 0.5959 - val_accuracy: 0.7935\n",
      "Epoch 4/100\n",
      "9999/9999 - 3s - loss: 0.5492 - accuracy: 0.8416 - val_loss: 0.5177 - val_accuracy: 0.8563\n",
      "Epoch 5/100\n",
      "9999/9999 - 3s - loss: 0.4633 - accuracy: 0.8800 - val_loss: 0.4511 - val_accuracy: 0.8713\n",
      "Epoch 6/100\n",
      "9999/9999 - 3s - loss: 0.3919 - accuracy: 0.9006 - val_loss: 0.3995 - val_accuracy: 0.8832\n",
      "Epoch 7/100\n",
      "9999/9999 - 3s - loss: 0.3378 - accuracy: 0.9164 - val_loss: 0.3633 - val_accuracy: 0.8884\n",
      "Epoch 8/100\n",
      "9999/9999 - 3s - loss: 0.2957 - accuracy: 0.9268 - val_loss: 0.3365 - val_accuracy: 0.8920\n",
      "Epoch 9/100\n",
      "9999/9999 - 3s - loss: 0.2632 - accuracy: 0.9341 - val_loss: 0.3175 - val_accuracy: 0.8963\n",
      "Epoch 10/100\n",
      "9999/9999 - 3s - loss: 0.2350 - accuracy: 0.9445 - val_loss: 0.3036 - val_accuracy: 0.8977\n",
      "Epoch 11/100\n",
      "9999/9999 - 3s - loss: 0.2126 - accuracy: 0.9491 - val_loss: 0.2911 - val_accuracy: 0.9001\n",
      "Epoch 12/100\n",
      "9999/9999 - 3s - loss: 0.1936 - accuracy: 0.9550 - val_loss: 0.2818 - val_accuracy: 0.9020\n",
      "Epoch 13/100\n",
      "9999/9999 - 3s - loss: 0.1769 - accuracy: 0.9598 - val_loss: 0.2752 - val_accuracy: 0.9029\n",
      "Epoch 14/100\n",
      "9999/9999 - 3s - loss: 0.1629 - accuracy: 0.9640 - val_loss: 0.2692 - val_accuracy: 0.9034\n",
      "Epoch 15/100\n",
      "9999/9999 - 3s - loss: 0.1506 - accuracy: 0.9645 - val_loss: 0.2654 - val_accuracy: 0.9045\n",
      "Epoch 16/100\n",
      "9999/9999 - 3s - loss: 0.1395 - accuracy: 0.9683 - val_loss: 0.2630 - val_accuracy: 0.9049\n",
      "Epoch 17/100\n",
      "9999/9999 - 3s - loss: 0.1295 - accuracy: 0.9700 - val_loss: 0.2623 - val_accuracy: 0.9042\n",
      "Epoch 18/100\n",
      "9999/9999 - 3s - loss: 0.1216 - accuracy: 0.9705 - val_loss: 0.2585 - val_accuracy: 0.9047\n",
      "Epoch 19/100\n",
      "9999/9999 - 3s - loss: 0.1129 - accuracy: 0.9739 - val_loss: 0.2582 - val_accuracy: 0.9066\n",
      "Epoch 20/100\n",
      "9999/9999 - 3s - loss: 0.1058 - accuracy: 0.9765 - val_loss: 0.2586 - val_accuracy: 0.9038\n",
      "Epoch 21/100\n",
      "9999/9999 - 3s - loss: 0.0993 - accuracy: 0.9768 - val_loss: 0.2574 - val_accuracy: 0.9063\n",
      "Epoch 22/100\n",
      "9999/9999 - 3s - loss: 0.0936 - accuracy: 0.9788 - val_loss: 0.2573 - val_accuracy: 0.9062\n",
      "Epoch 23/100\n",
      "9999/9999 - 3s - loss: 0.0868 - accuracy: 0.9809 - val_loss: 0.2684 - val_accuracy: 0.9009\n",
      "Epoch 24/100\n",
      "Restoring model weights from the end of the best epoch.\n",
      "9999/9999 - 3s - loss: 0.0822 - accuracy: 0.9815 - val_loss: 0.2621 - val_accuracy: 0.9051\n",
      "Epoch 00024: early stopping\n",
      "Train on 19999 samples, validate on 19998 samples\n",
      "Epoch 1/100\n",
      "19999/19999 - 6s - loss: 0.6849 - accuracy: 0.5881 - val_loss: 0.6667 - val_accuracy: 0.6445\n",
      "Epoch 2/100\n"
     ]
    },
    {
     "name": "stdout",
     "output_type": "stream",
     "text": [
      "19999/19999 - 6s - loss: 0.6168 - accuracy: 0.7623 - val_loss: 0.5475 - val_accuracy: 0.8118\n",
      "Epoch 3/100\n",
      "19999/19999 - 6s - loss: 0.4661 - accuracy: 0.8661 - val_loss: 0.4104 - val_accuracy: 0.8814\n",
      "Epoch 4/100\n",
      "19999/19999 - 6s - loss: 0.3537 - accuracy: 0.8955 - val_loss: 0.3406 - val_accuracy: 0.8945\n",
      "Epoch 5/100\n",
      "19999/19999 - 6s - loss: 0.2874 - accuracy: 0.9173 - val_loss: 0.2998 - val_accuracy: 0.9030\n",
      "Epoch 6/100\n",
      "19999/19999 - 6s - loss: 0.2435 - accuracy: 0.9285 - val_loss: 0.2760 - val_accuracy: 0.9072\n",
      "Epoch 7/100\n",
      "19999/19999 - 6s - loss: 0.2129 - accuracy: 0.9374 - val_loss: 0.2623 - val_accuracy: 0.9076\n",
      "Epoch 8/100\n",
      "19999/19999 - 6s - loss: 0.1892 - accuracy: 0.9446 - val_loss: 0.2516 - val_accuracy: 0.9109\n",
      "Epoch 9/100\n",
      "19999/19999 - 6s - loss: 0.1704 - accuracy: 0.9503 - val_loss: 0.2450 - val_accuracy: 0.9114\n",
      "Epoch 10/100\n",
      "19999/19999 - 6s - loss: 0.1537 - accuracy: 0.9563 - val_loss: 0.2410 - val_accuracy: 0.9120\n",
      "Epoch 11/100\n",
      "19999/19999 - 6s - loss: 0.1401 - accuracy: 0.9590 - val_loss: 0.2397 - val_accuracy: 0.9121\n",
      "Epoch 12/100\n",
      "19999/19999 - 6s - loss: 0.1289 - accuracy: 0.9636 - val_loss: 0.2439 - val_accuracy: 0.9097\n",
      "Epoch 13/100\n",
      "Restoring model weights from the end of the best epoch.\n",
      "19999/19999 - 6s - loss: 0.1184 - accuracy: 0.9677 - val_loss: 0.2445 - val_accuracy: 0.9097\n",
      "Epoch 00013: early stopping\n",
      "Train on 39998 samples, validate on 19998 samples\n",
      "Epoch 1/100\n",
      "39998/39998 - 11s - loss: 0.6670 - accuracy: 0.6580 - val_loss: 0.5934 - val_accuracy: 0.8375\n",
      "Epoch 2/100\n",
      "39998/39998 - 11s - loss: 0.4769 - accuracy: 0.8532 - val_loss: 0.3787 - val_accuracy: 0.8810\n",
      "Epoch 3/100\n",
      "39998/39998 - 11s - loss: 0.3239 - accuracy: 0.8993 - val_loss: 0.2929 - val_accuracy: 0.9057\n",
      "Epoch 4/100\n",
      "39998/39998 - 12s - loss: 0.2537 - accuracy: 0.9196 - val_loss: 0.2581 - val_accuracy: 0.9108\n",
      "Epoch 5/100\n",
      "39998/39998 - 12s - loss: 0.2126 - accuracy: 0.9306 - val_loss: 0.2383 - val_accuracy: 0.9144\n",
      "Epoch 6/100\n",
      "39998/39998 - 12s - loss: 0.1855 - accuracy: 0.9404 - val_loss: 0.2270 - val_accuracy: 0.9179\n",
      "Epoch 7/100\n",
      "39998/39998 - 12s - loss: 0.1645 - accuracy: 0.9469 - val_loss: 0.2272 - val_accuracy: 0.9144\n",
      "Epoch 8/100\n",
      "Restoring model weights from the end of the best epoch.\n",
      "39998/39998 - 11s - loss: 0.1487 - accuracy: 0.9522 - val_loss: 0.2286 - val_accuracy: 0.9141\n",
      "Epoch 00008: early stopping\n",
      "Train on 79997 samples, validate on 19998 samples\n",
      "Epoch 1/100\n",
      "79997/79997 - 22s - loss: 0.5990 - accuracy: 0.7259 - val_loss: 0.4088 - val_accuracy: 0.8627\n",
      "Epoch 2/100\n",
      "79997/79997 - 22s - loss: 0.3162 - accuracy: 0.8960 - val_loss: 0.2617 - val_accuracy: 0.9112\n",
      "Epoch 3/100\n",
      "79997/79997 - 22s - loss: 0.2266 - accuracy: 0.9222 - val_loss: 0.2241 - val_accuracy: 0.9202\n",
      "Epoch 4/100\n",
      "79997/79997 - 22s - loss: 0.1901 - accuracy: 0.9334 - val_loss: 0.2122 - val_accuracy: 0.9239\n",
      "Epoch 5/100\n",
      "79997/79997 - 22s - loss: 0.1682 - accuracy: 0.9405 - val_loss: 0.2152 - val_accuracy: 0.9210\n",
      "Epoch 6/100\n",
      "79997/79997 - 23s - loss: 0.1522 - accuracy: 0.9460 - val_loss: 0.2096 - val_accuracy: 0.9253\n",
      "Epoch 7/100\n",
      "79997/79997 - 22s - loss: 0.1405 - accuracy: 0.9496 - val_loss: 0.2141 - val_accuracy: 0.9231\n",
      "Epoch 8/100\n",
      "Restoring model weights from the end of the best epoch.\n",
      "79997/79997 - 22s - loss: 0.1307 - accuracy: 0.9535 - val_loss: 0.2198 - val_accuracy: 0.9215\n",
      "Epoch 00008: early stopping\n",
      "Train on 119996 samples, validate on 19998 samples\n",
      "Epoch 1/100\n",
      "119996/119996 - 33s - loss: 0.5251 - accuracy: 0.7780 - val_loss: 0.3139 - val_accuracy: 0.9043\n",
      "Epoch 2/100\n",
      "119996/119996 - 33s - loss: 0.2572 - accuracy: 0.9118 - val_loss: 0.2345 - val_accuracy: 0.9136\n",
      "Epoch 3/100\n",
      "119996/119996 - 33s - loss: 0.1985 - accuracy: 0.9291 - val_loss: 0.2068 - val_accuracy: 0.9248\n",
      "Epoch 4/100\n",
      "119996/119996 - 33s - loss: 0.1737 - accuracy: 0.9366 - val_loss: 0.2100 - val_accuracy: 0.9223\n",
      "Epoch 5/100\n",
      "Restoring model weights from the end of the best epoch.\n",
      "119996/119996 - 33s - loss: 0.1583 - accuracy: 0.9418 - val_loss: 0.2085 - val_accuracy: 0.9252\n",
      "Epoch 00005: early stopping\n",
      "Train on 159986 samples, validate on 19998 samples\n",
      "Epoch 1/100\n",
      "159986/159986 - 43s - loss: 0.4778 - accuracy: 0.8027 - val_loss: 0.2697 - val_accuracy: 0.9093\n",
      "Epoch 2/100\n",
      "159986/159986 - 43s - loss: 0.2285 - accuracy: 0.9195 - val_loss: 0.2114 - val_accuracy: 0.9250\n",
      "Epoch 3/100\n",
      "159986/159986 - 43s - loss: 0.1861 - accuracy: 0.9319 - val_loss: 0.2055 - val_accuracy: 0.9260\n",
      "Epoch 4/100\n",
      "159986/159986 - 43s - loss: 0.1679 - accuracy: 0.9381 - val_loss: 0.2023 - val_accuracy: 0.9280\n",
      "Epoch 5/100\n",
      "159986/159986 - 43s - loss: 0.1562 - accuracy: 0.9424 - val_loss: 0.2068 - val_accuracy: 0.9250\n",
      "Epoch 6/100\n",
      "Restoring model weights from the end of the best epoch.\n",
      "159986/159986 - 43s - loss: 0.1478 - accuracy: 0.9453 - val_loss: 0.2154 - val_accuracy: 0.9231\n",
      "Epoch 00006: early stopping\n"
     ]
    }
   ],
   "source": [
    "sizes = [1000, 5000, 10000, 20000, 40000, 80000, 120000, 160000]\n",
    "preprocessor = SequencePreprocessor(MAX_NB_WORDS, MAX_LENGTH_SEQ)\n",
    "\n",
    "test_accuracies = accuracy_vs_training_data(\n",
    "    model, initial_weights, \n",
    "    preprocessor, sizes,\n",
    "    train_reviews, train_labels,\n",
    "    val_reviews, val_labels,\n",
    "    test_reviews, test_labels\n",
    ")"
   ]
  },
  {
   "cell_type": "code",
   "execution_count": 137,
   "metadata": {},
   "outputs": [],
   "source": [
    "import pickle\n",
    "\n",
    "OUTPUT_PATH = 'data/average_accuracies.pickle'\n",
    "\n",
    "output_dict = {\n",
    "    \"sizes\": sizes,\n",
    "    \"test_accuracies\": test_accuracies\n",
    "}\n",
    "\n",
    "with open(OUTPUT_PATH, 'wb') as writer:\n",
    "    pickle.dump(output_dict, writer)"
   ]
  },
  {
   "cell_type": "markdown",
   "metadata": {},
   "source": [
    "# Simple RNN"
   ]
  },
  {
   "cell_type": "markdown",
   "metadata": {},
   "source": [
    "## Model"
   ]
  },
  {
   "cell_type": "code",
   "execution_count": 173,
   "metadata": {},
   "outputs": [],
   "source": [
    "from tensorflow import keras\n",
    "from tensorflow.keras import layers\n",
    "\n",
    "embedding_dim = 128\n",
    "\n",
    "model = keras.models.Sequential(name='rnn')\n",
    "model.add(layers.Embedding(MAX_NB_WORDS, embedding_dim,\n",
    "                           mask_zero=True,                           \n",
    "                           input_shape=[None]),)\n",
    "\n",
    "model.add(layers.GRU(256, return_sequences=True))\n",
    "model.add(layers.GRU(256))\n",
    "model.add(layers.Dense(1, activation=\"sigmoid\"))\n",
    "\n",
    "model.compile(\n",
    "    loss=\"binary_crossentropy\",\n",
    "    optimizer=\"adam\",\n",
    "    metrics=[\"accuracy\"]\n",
    ")"
   ]
  },
  {
   "cell_type": "code",
   "execution_count": 174,
   "metadata": {},
   "outputs": [
    {
     "name": "stdout",
     "output_type": "stream",
     "text": [
      "Model: \"rnn\"\n",
      "_________________________________________________________________\n",
      "Layer (type)                 Output Shape              Param #   \n",
      "=================================================================\n",
      "embedding_14 (Embedding)     (None, None, 128)         2560000   \n",
      "_________________________________________________________________\n",
      "gru_12 (GRU)                 (None, None, 256)         296448    \n",
      "_________________________________________________________________\n",
      "gru_13 (GRU)                 (None, 256)               394752    \n",
      "_________________________________________________________________\n",
      "dense_14 (Dense)             (None, 1)                 257       \n",
      "=================================================================\n",
      "Total params: 3,251,457\n",
      "Trainable params: 3,251,457\n",
      "Non-trainable params: 0\n",
      "_________________________________________________________________\n"
     ]
    }
   ],
   "source": [
    "initial_weights = model.get_weights()\n",
    "model.summary()"
   ]
  },
  {
   "cell_type": "markdown",
   "metadata": {},
   "source": [
    "## Training"
   ]
  },
  {
   "cell_type": "code",
   "execution_count": 175,
   "metadata": {},
   "outputs": [
    {
     "name": "stdout",
     "output_type": "stream",
     "text": [
      "Train on 159993 samples, validate on 19999 samples\n",
      "Epoch 1/5\n",
      "159872/159993 [============================>.] - ETA: 0s - loss: 0.2158 - accuracy: 0.9126\n",
      "Epoch 00001: val_loss improved from inf to 0.17517, saving model to /tmp/rnn_weights.hdf5\n",
      "159993/159993 [==============================] - 134s 839us/sample - loss: 0.2158 - accuracy: 0.9126 - val_loss: 0.1752 - val_accuracy: 0.9324\n",
      "Epoch 2/5\n",
      "159872/159993 [============================>.] - ETA: 0s - loss: 0.1214 - accuracy: 0.9550\n",
      "Epoch 00002: val_loss improved from 0.17517 to 0.15195, saving model to /tmp/rnn_weights.hdf5\n",
      "159993/159993 [==============================] - 131s 819us/sample - loss: 0.1215 - accuracy: 0.9550 - val_loss: 0.1519 - val_accuracy: 0.9439\n",
      "Epoch 3/5\n",
      "159936/159993 [============================>.] - ETA: 0s - loss: 0.0827 - accuracy: 0.9707\n",
      "Epoch 00003: val_loss did not improve from 0.15195\n",
      "159993/159993 [==============================] - 131s 819us/sample - loss: 0.0827 - accuracy: 0.9707 - val_loss: 0.1714 - val_accuracy: 0.9425\n",
      "Epoch 4/5\n",
      "159936/159993 [============================>.] - ETA: 0s - loss: 0.0539 - accuracy: 0.9817\n",
      "Epoch 00004: val_loss did not improve from 0.15195\n",
      "159993/159993 [==============================] - 132s 824us/sample - loss: 0.0539 - accuracy: 0.9817 - val_loss: 0.2105 - val_accuracy: 0.9387\n",
      "Epoch 5/5\n",
      "159872/159993 [============================>.] - ETA: 0s - loss: 0.0346 - accuracy: 0.9886\n",
      "Epoch 00005: val_loss did not improve from 0.15195\n",
      "159993/159993 [==============================] - 131s 818us/sample - loss: 0.0346 - accuracy: 0.9886 - val_loss: 0.2488 - val_accuracy: 0.9360\n"
     ]
    }
   ],
   "source": [
    "checkpointer = tf.keras.callbacks.ModelCheckpoint(\n",
    "    filepath='/tmp/rnn_weights.hdf5',\n",
    "    save_best_only=True, verbose=1\n",
    ")\n",
    "\n",
    "history = model.fit(\n",
    "    X_train, y_train,\n",
    "    validation_data=(X_val, y_val),\n",
    "    epochs=5, batch_size=64, \n",
    "    callbacks=[checkpointer], verbose=1)"
   ]
  },
  {
   "cell_type": "code",
   "execution_count": 176,
   "metadata": {},
   "outputs": [
    {
     "data": {
      "image/png": "[encoded data removed]",
      "text/plain": [
       "<Figure size 864x360 with 2 Axes>"
      ]
     },
     "metadata": {},
     "output_type": "display_data"
    }
   ],
   "source": [
    "fig = plot_training_curves(history)\n",
    "\n",
    "# Finalize the plot\n",
    "sns.despine(bottom=True)\n",
    "plt.tight_layout(h_pad=2)\n",
    "\n",
    "# Saving plot\n",
    "fig.savefig('img/word-vectors/rnn_training.png', dpi=200)"
   ]
  },
  {
   "cell_type": "markdown",
   "metadata": {},
   "source": [
    "RNN seems to overfit very quickly, but the validation accuracy of the very firsts epoches is quite good !"
   ]
  },
  {
   "cell_type": "code",
   "execution_count": 177,
   "metadata": {},
   "outputs": [
    {
     "name": "stdout",
     "output_type": "stream",
     "text": [
      "Val Accuracy: 94.39\n",
      "Val F1-Score: 94.34\n"
     ]
    }
   ],
   "source": [
    "from sklearn import metrics\n",
    "\n",
    "model.load_weights('/tmp/rnn_weights.hdf5')\n",
    "probas = model.predict(X_val)\n",
    "y_pred = (probas > 0.5).astype(np.int)\n",
    "\n",
    "print(\"Val Accuracy: {:.2f}\".format(100 * metrics.accuracy_score(y_val, y_pred)))\n",
    "print(\"Val F1-Score: {:.2f}\".format(100 * metrics.f1_score(y_val, y_pred)))"
   ]
  },
  {
   "cell_type": "markdown",
   "metadata": {},
   "source": [
    "## Testing"
   ]
  },
  {
   "cell_type": "code",
   "execution_count": 178,
   "metadata": {},
   "outputs": [],
   "source": [
    "probas = model.predict(X_test)\n",
    "y_pred = (probas > 0.5).astype(np.int)"
   ]
  },
  {
   "cell_type": "code",
   "execution_count": 179,
   "metadata": {
    "scrolled": true
   },
   "outputs": [
    {
     "name": "stdout",
     "output_type": "stream",
     "text": [
      "Test Accuracy: 94.58\n",
      "Test F1-Score: 94.39\n",
      "\n",
      "              precision    recall  f1-score   support\n",
      "\n",
      "    Negative       0.95      0.94      0.95     10408\n",
      "    Positive       0.94      0.95      0.94      9592\n",
      "\n",
      "    accuracy                           0.95     20000\n",
      "   macro avg       0.95      0.95      0.95     20000\n",
      "weighted avg       0.95      0.95      0.95     20000\n",
      "\n"
     ]
    }
   ],
   "source": [
    "print(\"Test Accuracy: {:.2f}\".format(100 * metrics.accuracy_score(y_test, y_pred)))\n",
    "print(\"Test F1-Score: {:.2f}\".format(100 * metrics.f1_score(y_test, y_pred)))\n",
    "print()\n",
    "\n",
    "report = metrics.classification_report(\n",
    "    y_test, y_pred, \n",
    "    target_names=class_names.values()\n",
    ")\n",
    "print(report)"
   ]
  },
  {
   "cell_type": "code",
   "execution_count": 180,
   "metadata": {},
   "outputs": [
    {
     "data": {
      "image/png": "[encoded data removed]",
      "text/plain": [
       "<Figure size 504x360 with 2 Axes>"
      ]
     },
     "metadata": {},
     "output_type": "display_data"
    }
   ],
   "source": [
    "from sklearn.metrics import confusion_matrix\n",
    "from utils import print_confusion_matrix\n",
    "\n",
    "conf_mx = confusion_matrix(y_test, y_pred)\n",
    "\n",
    "fig = print_confusion_matrix(\n",
    "    conf_mx, \n",
    "    class_names.values(), \n",
    "    figsize=(7,5)\n",
    ")\n",
    "\n",
    "# Finalize the plot\n",
    "sns.despine(bottom=True)\n",
    "plt.tight_layout(h_pad=2)\n",
    "\n",
    "# Saving plot\n",
    "fig.savefig('img/word-vectors/rnn_test_confusion_mx.png', dpi=200)"
   ]
  },
  {
   "cell_type": "markdown",
   "metadata": {},
   "source": [
    "## Accuracy vs Training data"
   ]
  },
  {
   "cell_type": "code",
   "execution_count": 140,
   "metadata": {
    "scrolled": true
   },
   "outputs": [
    {
     "name": "stdout",
     "output_type": "stream",
     "text": [
      "Train on 1000 samples, validate on 19998 samples\n",
      "Epoch 1/100\n",
      "1000/1000 - 10s - loss: 0.6912 - accuracy: 0.5280 - val_loss: 0.6767 - val_accuracy: 0.6088\n",
      "Epoch 2/100\n",
      "1000/1000 - 6s - loss: 0.4740 - accuracy: 0.7850 - val_loss: 0.6038 - val_accuracy: 0.6976\n",
      "Epoch 3/100\n",
      "1000/1000 - 6s - loss: 0.1278 - accuracy: 0.9530 - val_loss: 0.6769 - val_accuracy: 0.6943\n",
      "Epoch 4/100\n",
      "Restoring model weights from the end of the best epoch.\n",
      "1000/1000 - 6s - loss: 0.0426 - accuracy: 0.9880 - val_loss: 1.2740 - val_accuracy: 0.7154\n",
      "Epoch 00004: early stopping\n",
      "Train on 5000 samples, validate on 19998 samples\n",
      "Epoch 1/100\n",
      "5000/5000 - 9s - loss: 0.6472 - accuracy: 0.6096 - val_loss: 0.4615 - val_accuracy: 0.8239\n",
      "Epoch 2/100\n",
      "5000/5000 - 10s - loss: 0.3046 - accuracy: 0.8804 - val_loss: 0.3498 - val_accuracy: 0.8533\n",
      "Epoch 3/100\n",
      "5000/5000 - 9s - loss: 0.0761 - accuracy: 0.9708 - val_loss: 0.4354 - val_accuracy: 0.8460\n",
      "Epoch 4/100\n",
      "Restoring model weights from the end of the best epoch.\n",
      "5000/5000 - 9s - loss: 0.0301 - accuracy: 0.9910 - val_loss: 0.6467 - val_accuracy: 0.8335\n",
      "Epoch 00004: early stopping\n",
      "Train on 9999 samples, validate on 19998 samples\n",
      "Epoch 1/100\n",
      "9999/9999 - 13s - loss: 0.5610 - accuracy: 0.6940 - val_loss: 0.4482 - val_accuracy: 0.7936\n",
      "Epoch 2/100\n",
      "9999/9999 - 13s - loss: 0.2212 - accuracy: 0.9140 - val_loss: 0.2980 - val_accuracy: 0.8766\n",
      "Epoch 3/100\n",
      "9999/9999 - 14s - loss: 0.0761 - accuracy: 0.9735 - val_loss: 0.3893 - val_accuracy: 0.8695\n",
      "Epoch 4/100\n",
      "Restoring model weights from the end of the best epoch.\n",
      "9999/9999 - 14s - loss: 0.0261 - accuracy: 0.9909 - val_loss: 0.4965 - val_accuracy: 0.8780\n",
      "Epoch 00004: early stopping\n",
      "Train on 19999 samples, validate on 19998 samples\n",
      "Epoch 1/100\n",
      "19999/19999 - 21s - loss: 0.4883 - accuracy: 0.7502 - val_loss: 0.2740 - val_accuracy: 0.8871\n",
      "Epoch 2/100\n",
      "19999/19999 - 22s - loss: 0.1885 - accuracy: 0.9296 - val_loss: 0.2723 - val_accuracy: 0.8877\n",
      "Epoch 3/100\n",
      "19999/19999 - 21s - loss: 0.1045 - accuracy: 0.9633 - val_loss: 0.2737 - val_accuracy: 0.8968\n",
      "Epoch 4/100\n",
      "Restoring model weights from the end of the best epoch.\n",
      "19999/19999 - 21s - loss: 0.0428 - accuracy: 0.9860 - val_loss: 0.4060 - val_accuracy: 0.8973\n",
      "Epoch 00004: early stopping\n",
      "Train on 39998 samples, validate on 19998 samples\n",
      "Epoch 1/100\n",
      "39998/39998 - 37s - loss: 0.3644 - accuracy: 0.8276 - val_loss: 0.2037 - val_accuracy: 0.9198\n",
      "Epoch 2/100\n",
      "39998/39998 - 37s - loss: 0.1335 - accuracy: 0.9517 - val_loss: 0.1972 - val_accuracy: 0.9237\n",
      "Epoch 3/100\n",
      "39998/39998 - 37s - loss: 0.0615 - accuracy: 0.9802 - val_loss: 0.2353 - val_accuracy: 0.9195\n",
      "Epoch 4/100\n",
      "Restoring model weights from the end of the best epoch.\n",
      "39998/39998 - 37s - loss: 0.0336 - accuracy: 0.9896 - val_loss: 0.3223 - val_accuracy: 0.9188\n",
      "Epoch 00004: early stopping\n",
      "Train on 79997 samples, validate on 19998 samples\n",
      "Epoch 1/100\n",
      "79997/79997 - 70s - loss: 0.3248 - accuracy: 0.8503 - val_loss: 0.1864 - val_accuracy: 0.9267\n",
      "Epoch 2/100\n",
      "79997/79997 - 70s - loss: 0.1447 - accuracy: 0.9458 - val_loss: 0.1744 - val_accuracy: 0.9312\n",
      "Epoch 3/100\n",
      "79997/79997 - 68s - loss: 0.0934 - accuracy: 0.9674 - val_loss: 0.1886 - val_accuracy: 0.9310\n",
      "Epoch 4/100\n",
      "Restoring model weights from the end of the best epoch.\n",
      "79997/79997 - 68s - loss: 0.0584 - accuracy: 0.9807 - val_loss: 0.2227 - val_accuracy: 0.9277\n",
      "Epoch 00004: early stopping\n",
      "Train on 119996 samples, validate on 19998 samples\n",
      "Epoch 1/100\n",
      "119996/119996 - 100s - loss: 0.2362 - accuracy: 0.8971 - val_loss: 0.1588 - val_accuracy: 0.9388\n",
      "Epoch 2/100\n",
      "119996/119996 - 100s - loss: 0.1156 - accuracy: 0.9568 - val_loss: 0.1519 - val_accuracy: 0.9407\n",
      "Epoch 3/100\n",
      "119996/119996 - 100s - loss: 0.0717 - accuracy: 0.9750 - val_loss: 0.1743 - val_accuracy: 0.9357\n",
      "Epoch 4/100\n",
      "Restoring model weights from the end of the best epoch.\n",
      "119996/119996 - 101s - loss: 0.0446 - accuracy: 0.9853 - val_loss: 0.1998 - val_accuracy: 0.9361\n",
      "Epoch 00004: early stopping\n",
      "Train on 159986 samples, validate on 19998 samples\n",
      "Epoch 1/100\n",
      "159986/159986 - 135s - loss: 0.2208 - accuracy: 0.9072 - val_loss: 0.1484 - val_accuracy: 0.9440\n",
      "Epoch 2/100\n",
      "159986/159986 - 137s - loss: 0.1132 - accuracy: 0.9582 - val_loss: 0.1479 - val_accuracy: 0.9464\n",
      "Epoch 3/100\n",
      "159986/159986 - 137s - loss: 0.0752 - accuracy: 0.9737 - val_loss: 0.1667 - val_accuracy: 0.9436\n",
      "Epoch 4/100\n",
      "Restoring model weights from the end of the best epoch.\n",
      "159986/159986 - 139s - loss: 0.0477 - accuracy: 0.9839 - val_loss: 0.1995 - val_accuracy: 0.9387\n",
      "Epoch 00004: early stopping\n"
     ]
    }
   ],
   "source": [
    "sizes = [1000, 5000, 10000, 20000, 40000, 80000, 120000, 160000]\n",
    "preprocessor = SequencePreprocessor(MAX_NB_WORDS, MAX_LENGTH_SEQ)\n",
    "\n",
    "test_accuracies = accuracy_vs_training_data(\n",
    "    model, initial_weights, \n",
    "    preprocessor, sizes,\n",
    "    train_reviews, train_labels,\n",
    "    val_reviews, val_labels,\n",
    "    test_reviews, test_labels\n",
    ")"
   ]
  },
  {
   "cell_type": "code",
   "execution_count": 141,
   "metadata": {},
   "outputs": [],
   "source": [
    "import pickle\n",
    "\n",
    "OUTPUT_PATH = 'data/rnn_accuracies.pickle'\n",
    "\n",
    "output_dict = {\n",
    "    \"sizes\": sizes,\n",
    "    \"test_accuracies\": test_accuracies\n",
    "}\n",
    "\n",
    "with open(OUTPUT_PATH, 'wb') as writer:\n",
    "    pickle.dump(output_dict, writer)"
   ]
  },
  {
   "cell_type": "markdown",
   "metadata": {},
   "source": [
    "# Bidirectional RNN"
   ]
  },
  {
   "cell_type": "code",
   "execution_count": null,
   "metadata": {},
   "outputs": [],
   "source": [
    "# TODO"
   ]
  },
  {
   "cell_type": "code",
   "execution_count": null,
   "metadata": {},
   "outputs": [],
   "source": []
  },
  {
   "cell_type": "code",
   "execution_count": null,
   "metadata": {},
   "outputs": [],
   "source": []
  },
  {
   "cell_type": "code",
   "execution_count": null,
   "metadata": {},
   "outputs": [],
   "source": []
  },
  {
   "cell_type": "markdown",
   "metadata": {},
   "source": [
    "# CNN"
   ]
  },
  {
   "cell_type": "markdown",
   "metadata": {},
   "source": [
    "Here we implement [this model](https://arxiv.org/abs/1412.1058), because it has a pretty good accuracy on the english IMDB sentiment analysis dataset."
   ]
  },
  {
   "cell_type": "markdown",
   "metadata": {},
   "source": [
    "## Model"
   ]
  },
  {
   "cell_type": "code",
   "execution_count": 40,
   "metadata": {},
   "outputs": [],
   "source": [
    "emb_dim = 512\n",
    "hid_dim = 512\n",
    "sentence_length = MAX_LENGTH_SEQ\n",
    "num_words = MAX_NB_WORDS\n",
    "dropout_rate = 0.05\n",
    "    \n",
    "input_layer = tf.keras.layers.Input(shape=(sentence_length,), dtype=tf.int32)\n",
    "\n",
    "layer = tf.keras.layers.Embedding(num_words, output_dim=emb_dim)(input_layer)\n",
    "\n",
    "layer_conv3 = tf.keras.layers.Conv1D(hid_dim, 3, activation=\"relu\")(layer)\n",
    "layer_conv3 = tf.keras.layers.GlobalMaxPooling1D()(layer_conv3)\n",
    "\n",
    "layer_conv4 = tf.keras.layers.Conv1D(hid_dim, 2, activation=\"relu\")(layer)\n",
    "layer_conv4 = tf.keras.layers.GlobalMaxPooling1D()(layer_conv4)\n",
    "\n",
    "layer = tf.keras.layers.concatenate([layer_conv4, layer_conv3], axis=1)\n",
    "layer = tf.keras.layers.BatchNormalization()(layer)\n",
    "layer = tf.keras.layers.Dropout(dropout_rate)(layer)\n",
    "\n",
    "output = tf.keras.layers.Dense(1, activation=\"sigmoid\")(layer)\n",
    "\n",
    "model = tf.keras.models.Model(name='cnn', inputs=[input_layer], outputs=output)\n",
    "\n",
    "model.compile(loss=\"binary_crossentropy\",\n",
    "              optimizer=\"adam\",\n",
    "              metrics=[\"accuracy\"])"
   ]
  },
  {
   "cell_type": "code",
   "execution_count": 41,
   "metadata": {},
   "outputs": [
    {
     "name": "stdout",
     "output_type": "stream",
     "text": [
      "Model: \"cnn\"\n",
      "__________________________________________________________________________________________________\n",
      "Layer (type)                    Output Shape         Param #     Connected to                     \n",
      "==================================================================================================\n",
      "input_4 (InputLayer)            [(None, 350)]        0                                            \n",
      "__________________________________________________________________________________________________\n",
      "embedding_6 (Embedding)         (None, 350, 512)     10240000    input_4[0][0]                    \n",
      "__________________________________________________________________________________________________\n",
      "conv1d_7 (Conv1D)               (None, 349, 512)     524800      embedding_6[0][0]                \n",
      "__________________________________________________________________________________________________\n",
      "conv1d_6 (Conv1D)               (None, 348, 512)     786944      embedding_6[0][0]                \n",
      "__________________________________________________________________________________________________\n",
      "global_max_pooling1d_7 (GlobalM (None, 512)          0           conv1d_7[0][0]                   \n",
      "__________________________________________________________________________________________________\n",
      "global_max_pooling1d_6 (GlobalM (None, 512)          0           conv1d_6[0][0]                   \n",
      "__________________________________________________________________________________________________\n",
      "concatenate_3 (Concatenate)     (None, 1024)         0           global_max_pooling1d_7[0][0]     \n",
      "                                                                 global_max_pooling1d_6[0][0]     \n",
      "__________________________________________________________________________________________________\n",
      "batch_normalization_3 (BatchNor (None, 1024)         4096        concatenate_3[0][0]              \n",
      "__________________________________________________________________________________________________\n",
      "dropout_3 (Dropout)             (None, 1024)         0           batch_normalization_3[0][0]      \n",
      "__________________________________________________________________________________________________\n",
      "dense_6 (Dense)                 (None, 1)            1025        dropout_3[0][0]                  \n",
      "==================================================================================================\n",
      "Total params: 11,556,865\n",
      "Trainable params: 11,554,817\n",
      "Non-trainable params: 2,048\n",
      "__________________________________________________________________________________________________\n"
     ]
    }
   ],
   "source": [
    "initial_weights = model.get_weights()\n",
    "model.summary()"
   ]
  },
  {
   "cell_type": "markdown",
   "metadata": {},
   "source": [
    "## Training"
   ]
  },
  {
   "cell_type": "code",
   "execution_count": 42,
   "metadata": {},
   "outputs": [
    {
     "name": "stdout",
     "output_type": "stream",
     "text": [
      "Train on 159993 samples, validate on 19999 samples\n",
      "Epoch 1/5\n",
      "159872/159993 [============================>.] - ETA: 0s - loss: 0.1963 - accuracy: 0.9212\n",
      "Epoch 00001: val_loss improved from inf to 0.15319, saving model to /tmp/cnn_weights.hdf5\n",
      "159993/159993 [==============================] - 222s 1ms/sample - loss: 0.1963 - accuracy: 0.9212 - val_loss: 0.1532 - val_accuracy: 0.9416\n",
      "Epoch 2/5\n",
      "159872/159993 [============================>.] - ETA: 0s - loss: 0.0854 - accuracy: 0.9696\n",
      "Epoch 00002: val_loss did not improve from 0.15319\n",
      "159993/159993 [==============================] - 222s 1ms/sample - loss: 0.0854 - accuracy: 0.9696 - val_loss: 0.1911 - val_accuracy: 0.9314\n",
      "Epoch 3/5\n",
      "159872/159993 [============================>.] - ETA: 0s - loss: 0.0443 - accuracy: 0.9846\n",
      "Epoch 00003: val_loss did not improve from 0.15319\n",
      "159993/159993 [==============================] - 223s 1ms/sample - loss: 0.0443 - accuracy: 0.9846 - val_loss: 0.2280 - val_accuracy: 0.9295\n",
      "Epoch 4/5\n",
      "159872/159993 [============================>.] - ETA: 0s - loss: 0.0291 - accuracy: 0.9900\n",
      "Epoch 00004: val_loss did not improve from 0.15319\n",
      "159993/159993 [==============================] - 218s 1ms/sample - loss: 0.0291 - accuracy: 0.9900 - val_loss: 0.2729 - val_accuracy: 0.9275\n",
      "Epoch 5/5\n",
      "159872/159993 [============================>.] - ETA: 0s - loss: 0.0225 - accuracy: 0.9920\n",
      "Epoch 00005: val_loss did not improve from 0.15319\n",
      "159993/159993 [==============================] - 222s 1ms/sample - loss: 0.0225 - accuracy: 0.9920 - val_loss: 0.2649 - val_accuracy: 0.9348\n"
     ]
    }
   ],
   "source": [
    "checkpointer = tf.keras.callbacks.ModelCheckpoint(\n",
    "    filepath='/tmp/cnn_weights.hdf5',\n",
    "    save_best_only=True, verbose=1\n",
    ")\n",
    "\n",
    "history = model.fit(\n",
    "    X_train, y_train,\n",
    "    validation_data=(X_val, y_val),\n",
    "    epochs=5, batch_size=128, \n",
    "    callbacks=[checkpointer], verbose=1)"
   ]
  },
  {
   "cell_type": "code",
   "execution_count": 43,
   "metadata": {},
   "outputs": [
    {
     "data": {
      "image/png": "[encoded data removed]",
      "text/plain": [
       "<Figure size 864x360 with 2 Axes>"
      ]
     },
     "metadata": {},
     "output_type": "display_data"
    }
   ],
   "source": [
    "fig = plot_training_curves(history)\n",
    "\n",
    "# Finalize the plot\n",
    "sns.despine(bottom=True)\n",
    "plt.tight_layout(h_pad=2)\n",
    "\n",
    "# Saving plot\n",
    "fig.savefig('img/word-vectors/cnn_training.png', dpi=200)"
   ]
  },
  {
   "cell_type": "code",
   "execution_count": 45,
   "metadata": {},
   "outputs": [
    {
     "name": "stdout",
     "output_type": "stream",
     "text": [
      "Val Accuracy: 94.16\n",
      "Val F1-Score: 94.11\n"
     ]
    }
   ],
   "source": [
    "from sklearn import metrics\n",
    "\n",
    "model.load_weights('/tmp/cnn_weights.hdf5')\n",
    "probas = model.predict(X_val)\n",
    "y_pred = (probas > 0.5).astype(np.int)\n",
    "\n",
    "print(\"Val Accuracy: {:.2f}\".format(100 * metrics.accuracy_score(y_val, y_pred)))\n",
    "print(\"Val F1-Score: {:.2f}\".format(100 * metrics.f1_score(y_val, y_pred)))"
   ]
  },
  {
   "cell_type": "markdown",
   "metadata": {},
   "source": [
    "## Testing"
   ]
  },
  {
   "cell_type": "code",
   "execution_count": 49,
   "metadata": {},
   "outputs": [],
   "source": [
    "probas = model.predict(X_test)\n",
    "y_pred = (probas > 0.5).astype(np.int)"
   ]
  },
  {
   "cell_type": "code",
   "execution_count": 52,
   "metadata": {},
   "outputs": [
    {
     "name": "stdout",
     "output_type": "stream",
     "text": [
      "Test Accuracy: 94.38\n",
      "Test F1-Score: 94.18\n",
      "\n",
      "              precision    recall  f1-score   support\n",
      "\n",
      "    Negative       0.95      0.94      0.95     10408\n",
      "    Positive       0.94      0.95      0.94      9592\n",
      "\n",
      "    accuracy                           0.94     20000\n",
      "   macro avg       0.94      0.94      0.94     20000\n",
      "weighted avg       0.94      0.94      0.94     20000\n",
      "\n"
     ]
    }
   ],
   "source": [
    "print(\"Test Accuracy: {:.2f}\".format(100 * metrics.accuracy_score(y_test, y_pred)))\n",
    "print(\"Test F1-Score: {:.2f}\".format(100 * metrics.f1_score(y_test, y_pred)))\n",
    "print()\n",
    "\n",
    "report = metrics.classification_report(\n",
    "    y_test, y_pred, \n",
    "    target_names=class_names.values()\n",
    ")\n",
    "print(report)"
   ]
  },
  {
   "cell_type": "code",
   "execution_count": 55,
   "metadata": {},
   "outputs": [
    {
     "data": {
      "image/png": "[encoded data removed]",
      "text/plain": [
       "<Figure size 504x360 with 2 Axes>"
      ]
     },
     "metadata": {},
     "output_type": "display_data"
    }
   ],
   "source": [
    "from sklearn.metrics import confusion_matrix\n",
    "from utils import print_confusion_matrix\n",
    "\n",
    "conf_mx = confusion_matrix(y_test, y_pred)\n",
    "\n",
    "fig = print_confusion_matrix(\n",
    "    conf_mx, \n",
    "    class_names.values(), \n",
    "    figsize=(7,5)\n",
    ")\n",
    "\n",
    "# Finalize the plot\n",
    "sns.despine(bottom=True)\n",
    "plt.tight_layout(h_pad=2)\n",
    "\n",
    "# Saving plot\n",
    "fig.savefig('img/word-vectors/cnn_test_confusion_mx.png', dpi=200)"
   ]
  },
  {
   "cell_type": "markdown",
   "metadata": {},
   "source": [
    "# fastText"
   ]
  },
  {
   "cell_type": "code",
   "execution_count": null,
   "metadata": {},
   "outputs": [],
   "source": [
    "# TODO: delete\n",
    "# implement a subword fasttext model in another notebook"
   ]
  },
  {
   "cell_type": "markdown",
   "metadata": {},
   "source": [
    "[fastText classifier](https://fasttext.cc/docs/en/supervised-tutorial.html) works by averaging learned word embeddings. This is exactly what we did for our first model !\n",
    "\n",
    "However, fastText go further by using n-gram word embeddings. Let's see if we can get better results by using bi-grams !"
   ]
  },
  {
   "cell_type": "markdown",
   "metadata": {},
   "source": [
    "## Adding bigrams"
   ]
  },
  {
   "cell_type": "code",
   "execution_count": 31,
   "metadata": {},
   "outputs": [],
   "source": [
    "def create_ngram_set(input_list, ngram_value=2):\n",
    "    \"\"\"\n",
    "    Extract a set of n-grams from a list of integers.\n",
    "\n",
    "    >>> create_ngram_set([1, 4, 9, 4, 1, 4], ngram_value=2)\n",
    "    {(4, 9), (4, 1), (1, 4), (9, 4)}\n",
    "\n",
    "    >>> create_ngram_set([1, 4, 9, 4, 1, 4], ngram_value=3)\n",
    "    [(1, 4, 9), (4, 9, 4), (9, 4, 1), (4, 1, 4)]\n",
    "    \"\"\"\n",
    "    return set(zip(*[input_list[i:] for i in range(ngram_value)]))\n",
    "\n",
    "\n",
    "def add_ngram(sequences, token_indice, ngram_range=2):\n",
    "    \"\"\"\n",
    "    Augment the input list of list (sequences) by appending n-grams values.\n",
    "\n",
    "    Example: adding bi-gram\n",
    "    >>> sequences = [[1, 3, 4, 5], [1, 3, 7, 9, 2]]\n",
    "    >>> token_indice = {(1, 3): 1337, (9, 2): 42, (4, 5): 2017}\n",
    "    >>> add_ngram(sequences, token_indice, ngram_range=2)\n",
    "    [[1, 3, 4, 5, 1337, 2017], [1, 3, 7, 9, 2, 1337, 42]]\n",
    "\n",
    "    Example: adding tri-gram\n",
    "    >>> sequences = [[1, 3, 4, 5], [1, 3, 7, 9, 2]]\n",
    "    >>> token_indice = {(1, 3): 1337, (9, 2): 42, (4, 5): 2017, (7, 9, 2): 2018}\n",
    "    >>> add_ngram(sequences, token_indice, ngram_range=3)\n",
    "    [[1, 3, 4, 5, 1337, 2017], [1, 3, 7, 9, 2, 1337, 42, 2018]]\n",
    "    \"\"\"\n",
    "    new_sequences = []\n",
    "    for input_list in sequences:\n",
    "        new_list = input_list[:]\n",
    "        for ngram_value in range(2, ngram_range + 1):\n",
    "            for i in range(len(new_list) - ngram_value + 1):\n",
    "                ngram = tuple(new_list[i:i + ngram_value])\n",
    "                if ngram in token_indice:\n",
    "                    new_list.append(token_indice[ngram])\n",
    "\n",
    "        new_sequences.append(new_list)\n",
    "\n",
    "    return new_sequences\n",
    "\n",
    "def augment_dataset(train_reviews, val_reviews, test_reviews, max_features, ngram_range):\n",
    "    assert(ngram_range > 1)  \n",
    "    \n",
    "    # Create set of unique n-gram from the training set.\n",
    "    ngram_set = set()\n",
    "    for input_list in train_reviews:\n",
    "        for i in range(2, ngram_range + 1):\n",
    "            set_of_ngram = create_ngram_set(input_list, ngram_value=i)\n",
    "            ngram_set.update(set_of_ngram)\n",
    "\n",
    "    # Dictionary mapping n-gram token to a unique integer.\n",
    "    # Integer values are greater than max_features in order\n",
    "    # to avoid collision with existing features.\n",
    "    start_index = max_features + 1\n",
    "    token_indice = {v: k + start_index for k, v in enumerate(ngram_set)}\n",
    "    indice_token = {token_indice[k]: k for k in token_indice}\n",
    "\n",
    "    # max_features is the highest integer that could be found in the dataset.\n",
    "    max_features = np.max(list(indice_token.keys())) + 1    \n",
    "\n",
    "    # Augmenting x_train and x_test with n-grams features\n",
    "    train_ngram = add_ngram(train_reviews, token_indice, ngram_range)\n",
    "    val_ngram = add_ngram(val_reviews, token_indice, ngram_range)\n",
    "    test_ngram = add_ngram(test_reviews, token_indice, ngram_range)\n",
    "    \n",
    "    return train_ngram, val_ngram, test_ngram, max_features  "
   ]
  },
  {
   "cell_type": "code",
   "execution_count": 32,
   "metadata": {},
   "outputs": [
    {
     "name": "stdout",
     "output_type": "stream",
     "text": [
      "Adding 2-gram features\n",
      "From 20000 to 367960 features.\n"
     ]
    }
   ],
   "source": [
    "ngram_range = 2\n",
    "\n",
    "print('Adding {}-gram features'.format(ngram_range))\n",
    "    # Create set of unique n-gram from the training set.\n",
    "\n",
    "train_ngram, val_ngram, test_ngram, max_ngram_features = augment_dataset(\n",
    "    train_reviews_tokenized, val_reviews_tokenized, test_reviews_tokenized, \n",
    "    MAX_NB_WORDS, ngram_range\n",
    ")\n",
    "\n",
    "print('From {} to {} features.'.format(\n",
    "    MAX_NB_WORDS, max_ngram_features\n",
    "))"
   ]
  },
  {
   "cell_type": "code",
   "execution_count": 33,
   "metadata": {},
   "outputs": [
    {
     "name": "stdout",
     "output_type": "stream",
     "text": [
      "Average length: 174.3\n",
      "Max length: 727\n"
     ]
    },
    {
     "data": {
      "image/png": "[encoded data removed]",
      "text/plain": [
       "<Figure size 720x360 with 1 Axes>"
      ]
     },
     "metadata": {},
     "output_type": "display_data"
    }
   ],
   "source": [
    "reviews_len = [len(s) for s in train_ngram+val_ngram+test_ngram]\n",
    "print(\"Average length: {:.1f}\".format(np.mean(reviews_len)))\n",
    "print(\"Max length: {}\".format(max(reviews_len)))\n",
    "\n",
    "plt.figure(figsize=(10,5))\n",
    "ax = sns.distplot(reviews_len, bins=150, kde=False, hist_kws=dict(alpha=0.8))\n",
    "ax.set(xlabel='Number of words')\n",
    "\n",
    "# Finalize the plot\n",
    "sns.despine(bottom=True)\n",
    "plt.tight_layout(h_pad=2)\n",
    "\n",
    "# Saving plot\n",
    "fig = ax.get_figure()\n",
    "fig.savefig('img/word-vectors/number_of_bigrams.png', dpi=200)"
   ]
  },
  {
   "cell_type": "markdown",
   "metadata": {},
   "source": [
    "## Padding"
   ]
  },
  {
   "cell_type": "code",
   "execution_count": 34,
   "metadata": {},
   "outputs": [
    {
     "name": "stdout",
     "output_type": "stream",
     "text": [
      "Shape of X_train tensor: (12000, 700)\n",
      "Shape of X_val tensor: (4000, 700)\n",
      "Shape of X_test tensor: (4000, 700)\n"
     ]
    }
   ],
   "source": [
    "MAX_LENGTH_SEQ = 700\n",
    "\n",
    "# truncate long sequences and pad short sequences with 0s\n",
    "X_train = tf.keras.preprocessing.sequence.pad_sequences(\n",
    "    train_ngram, \n",
    "    maxlen=MAX_LENGTH_SEQ,\n",
    "    padding='post'\n",
    ")\n",
    "\n",
    "X_val = tf.keras.preprocessing.sequence.pad_sequences(\n",
    "    val_ngram, \n",
    "    maxlen=MAX_LENGTH_SEQ,\n",
    "    padding='post'\n",
    ")\n",
    "\n",
    "X_test = tf.keras.preprocessing.sequence.pad_sequences(\n",
    "    test_ngram, \n",
    "    maxlen=MAX_LENGTH_SEQ,\n",
    "    padding='post'\n",
    ")\n",
    "\n",
    "print('Shape of X_train tensor:', X_train.shape)\n",
    "print('Shape of X_val tensor:', X_val.shape)\n",
    "print('Shape of X_test tensor:', X_test.shape)"
   ]
  },
  {
   "cell_type": "code",
   "execution_count": 35,
   "metadata": {},
   "outputs": [],
   "source": [
    "from tensorflow import keras\n",
    "from tensorflow.keras import layers\n",
    "\n",
    "embedding_dim = 128\n",
    "max_features = max_ngram_features\n",
    "\n",
    "model = keras.models.Sequential(name=\"fastText\")\n",
    "model.add(layers.Embedding(max_features, embedding_dim,\n",
    "                           input_shape=[None]),)\n",
    "model.add(layers.GlobalAveragePooling1D())\n",
    "model.add(layers.Dense(1, activation=\"sigmoid\"))\n",
    "\n",
    "model.compile(\n",
    "    loss=\"binary_crossentropy\",\n",
    "    optimizer=\"adam\",\n",
    "    metrics=[\"accuracy\"]\n",
    ")"
   ]
  },
  {
   "cell_type": "code",
   "execution_count": 36,
   "metadata": {},
   "outputs": [
    {
     "name": "stdout",
     "output_type": "stream",
     "text": [
      "Model: \"fastText\"\n",
      "_________________________________________________________________\n",
      "Layer (type)                 Output Shape              Param #   \n",
      "=================================================================\n",
      "embedding_3 (Embedding)      (None, None, 128)         47098880  \n",
      "_________________________________________________________________\n",
      "global_average_pooling1d_1 ( (None, 128)               0         \n",
      "_________________________________________________________________\n",
      "dense_3 (Dense)              (None, 1)                 129       \n",
      "=================================================================\n",
      "Total params: 47,099,009\n",
      "Trainable params: 47,099,009\n",
      "Non-trainable params: 0\n",
      "_________________________________________________________________\n"
     ]
    }
   ],
   "source": [
    "model.summary()"
   ]
  },
  {
   "cell_type": "markdown",
   "metadata": {},
   "source": [
    "## Training"
   ]
  },
  {
   "cell_type": "code",
   "execution_count": 37,
   "metadata": {
    "scrolled": true
   },
   "outputs": [
    {
     "name": "stdout",
     "output_type": "stream",
     "text": [
      "Train on 12000 samples, validate on 4000 samples\n",
      "Epoch 1/20\n",
      "11968/12000 [============================>.] - ETA: 0s - loss: 0.6789 - accuracy: 0.6166\n",
      "Epoch 00001: val_loss improved from inf to 0.65291, saving model to /tmp/fasttext_weights.hdf5\n",
      "12000/12000 [==============================] - 123s 10ms/sample - loss: 0.6789 - accuracy: 0.6167 - val_loss: 0.6529 - val_accuracy: 0.7308\n",
      "Epoch 2/20\n",
      "11968/12000 [============================>.] - ETA: 0s - loss: 0.5707 - accuracy: 0.8227\n",
      "Epoch 00002: val_loss improved from 0.65291 to 0.51335, saving model to /tmp/fasttext_weights.hdf5\n",
      "12000/12000 [==============================] - 124s 10ms/sample - loss: 0.5705 - accuracy: 0.8230 - val_loss: 0.5133 - val_accuracy: 0.8600\n",
      "Epoch 3/20\n",
      "11968/12000 [============================>.] - ETA: 0s - loss: 0.4056 - accuracy: 0.9072\n",
      "Epoch 00003: val_loss improved from 0.51335 to 0.40840, saving model to /tmp/fasttext_weights.hdf5\n",
      "12000/12000 [==============================] - 135s 11ms/sample - loss: 0.4053 - accuracy: 0.9074 - val_loss: 0.4084 - val_accuracy: 0.8712\n",
      "Epoch 4/20\n",
      "11968/12000 [============================>.] - ETA: 0s - loss: 0.2861 - accuracy: 0.9442\n",
      "Epoch 00004: val_loss improved from 0.40840 to 0.34449, saving model to /tmp/fasttext_weights.hdf5\n",
      "12000/12000 [==============================] - 134s 11ms/sample - loss: 0.2860 - accuracy: 0.9442 - val_loss: 0.3445 - val_accuracy: 0.8915\n",
      "Epoch 5/20\n",
      "11968/12000 [============================>.] - ETA: 0s - loss: 0.2089 - accuracy: 0.9619\n",
      "Epoch 00005: val_loss improved from 0.34449 to 0.30548, saving model to /tmp/fasttext_weights.hdf5\n",
      "12000/12000 [==============================] - 134s 11ms/sample - loss: 0.2088 - accuracy: 0.9620 - val_loss: 0.3055 - val_accuracy: 0.9003\n",
      "Epoch 6/20\n",
      "11968/12000 [============================>.] - ETA: 0s - loss: 0.1576 - accuracy: 0.9757\n",
      "Epoch 00006: val_loss improved from 0.30548 to 0.28027, saving model to /tmp/fasttext_weights.hdf5\n",
      "12000/12000 [==============================] - 138s 11ms/sample - loss: 0.1576 - accuracy: 0.9757 - val_loss: 0.2803 - val_accuracy: 0.9040\n",
      "Epoch 7/20\n",
      "11968/12000 [============================>.] - ETA: 0s - loss: 0.1220 - accuracy: 0.9829\n",
      "Epoch 00007: val_loss improved from 0.28027 to 0.26327, saving model to /tmp/fasttext_weights.hdf5\n",
      "12000/12000 [==============================] - 133s 11ms/sample - loss: 0.1219 - accuracy: 0.9829 - val_loss: 0.2633 - val_accuracy: 0.9070\n",
      "Epoch 8/20\n",
      "11968/12000 [============================>.] - ETA: 0s - loss: 0.0961 - accuracy: 0.9885\n",
      "Epoch 00008: val_loss improved from 0.26327 to 0.25254, saving model to /tmp/fasttext_weights.hdf5\n",
      "12000/12000 [==============================] - 133s 11ms/sample - loss: 0.0961 - accuracy: 0.9885 - val_loss: 0.2525 - val_accuracy: 0.9078\n",
      "Epoch 9/20\n",
      "11968/12000 [============================>.] - ETA: 0s - loss: 0.0775 - accuracy: 0.9906\n",
      "Epoch 00009: val_loss improved from 0.25254 to 0.24020, saving model to /tmp/fasttext_weights.hdf5\n",
      "12000/12000 [==============================] - 134s 11ms/sample - loss: 0.0776 - accuracy: 0.9906 - val_loss: 0.2402 - val_accuracy: 0.9135\n",
      "Epoch 10/20\n",
      "11968/12000 [============================>.] - ETA: 0s - loss: 0.0627 - accuracy: 0.9927\n",
      "Epoch 00010: val_loss improved from 0.24020 to 0.23352, saving model to /tmp/fasttext_weights.hdf5\n",
      "12000/12000 [==============================] - 136s 11ms/sample - loss: 0.0627 - accuracy: 0.9927 - val_loss: 0.2335 - val_accuracy: 0.9160\n",
      "Epoch 11/20\n",
      "11968/12000 [============================>.] - ETA: 0s - loss: 0.0512 - accuracy: 0.9957\n",
      "Epoch 00011: val_loss improved from 0.23352 to 0.23019, saving model to /tmp/fasttext_weights.hdf5\n",
      "12000/12000 [==============================] - 136s 11ms/sample - loss: 0.0512 - accuracy: 0.9957 - val_loss: 0.2302 - val_accuracy: 0.9160\n",
      "Epoch 12/20\n",
      "11968/12000 [============================>.] - ETA: 0s - loss: 0.0424 - accuracy: 0.9964\n",
      "Epoch 00012: val_loss improved from 0.23019 to 0.22727, saving model to /tmp/fasttext_weights.hdf5\n",
      "12000/12000 [==============================] - 136s 11ms/sample - loss: 0.0424 - accuracy: 0.9964 - val_loss: 0.2273 - val_accuracy: 0.9162\n",
      "Epoch 13/20\n",
      "11968/12000 [============================>.] - ETA: 0s - loss: 0.0351 - accuracy: 0.9972\n",
      "Epoch 00013: val_loss improved from 0.22727 to 0.22444, saving model to /tmp/fasttext_weights.hdf5\n",
      "12000/12000 [==============================] - 136s 11ms/sample - loss: 0.0351 - accuracy: 0.9972 - val_loss: 0.2244 - val_accuracy: 0.9195\n",
      "Epoch 14/20\n",
      "11968/12000 [============================>.] - ETA: 0s - loss: 0.0291 - accuracy: 0.9976\n",
      "Epoch 00014: val_loss did not improve from 0.22444\n",
      "12000/12000 [==============================] - 132s 11ms/sample - loss: 0.0292 - accuracy: 0.9976 - val_loss: 0.2256 - val_accuracy: 0.9172\n",
      "Epoch 15/20\n",
      "11968/12000 [============================>.] - ETA: 0s - loss: 0.0250 - accuracy: 0.9981\n",
      "Epoch 00015: val_loss did not improve from 0.22444\n",
      "12000/12000 [==============================] - 132s 11ms/sample - loss: 0.0250 - accuracy: 0.9981 - val_loss: 0.2307 - val_accuracy: 0.9145\n",
      "Epoch 16/20\n",
      "11968/12000 [============================>.] - ETA: 0s - loss: 0.0210 - accuracy: 0.9983\n",
      "Epoch 00016: val_loss did not improve from 0.22444\n",
      "12000/12000 [==============================] - 132s 11ms/sample - loss: 0.0210 - accuracy: 0.9983 - val_loss: 0.2267 - val_accuracy: 0.9195\n",
      "Epoch 17/20\n",
      "11968/12000 [============================>.] - ETA: 0s - loss: 0.0179 - accuracy: 0.9985\n",
      "Epoch 00017: val_loss did not improve from 0.22444\n",
      "12000/12000 [==============================] - 132s 11ms/sample - loss: 0.0178 - accuracy: 0.9985 - val_loss: 0.2276 - val_accuracy: 0.9190\n",
      "Epoch 18/20\n",
      "11968/12000 [============================>.] - ETA: 0s - loss: 0.0157 - accuracy: 0.9985\n",
      "Epoch 00018: val_loss did not improve from 0.22444\n",
      "12000/12000 [==============================] - 131s 11ms/sample - loss: 0.0157 - accuracy: 0.9985 - val_loss: 0.2282 - val_accuracy: 0.9180\n",
      "Epoch 19/20\n",
      "11968/12000 [============================>.] - ETA: 0s - loss: 0.0130 - accuracy: 0.9989\n",
      "Epoch 00019: val_loss did not improve from 0.22444\n",
      "12000/12000 [==============================] - 134s 11ms/sample - loss: 0.0130 - accuracy: 0.9989 - val_loss: 0.2351 - val_accuracy: 0.9178\n",
      "Epoch 20/20\n",
      "11968/12000 [============================>.] - ETA: 0s - loss: 0.0112 - accuracy: 0.9989\n",
      "Epoch 00020: val_loss did not improve from 0.22444\n",
      "12000/12000 [==============================] - 132s 11ms/sample - loss: 0.0112 - accuracy: 0.9989 - val_loss: 0.2328 - val_accuracy: 0.9187\n"
     ]
    }
   ],
   "source": [
    "checkpointer = tf.keras.callbacks.ModelCheckpoint(\n",
    "    filepath='/tmp/fasttext_weights.hdf5',\n",
    "    save_best_only=True, verbose=1\n",
    ")\n",
    "\n",
    "history = model.fit(\n",
    "    X_train, y_train,\n",
    "    validation_data=(X_val, y_val),\n",
    "    epochs=20, batch_size=32, \n",
    "    callbacks=[checkpointer], verbose=1)"
   ]
  },
  {
   "cell_type": "code",
   "execution_count": 38,
   "metadata": {},
   "outputs": [
    {
     "data": {
      "image/png": "[encoded data removed]",
      "text/plain": [
       "<Figure size 864x360 with 2 Axes>"
      ]
     },
     "metadata": {},
     "output_type": "display_data"
    }
   ],
   "source": [
    "fig = plot_training_curves(history)\n",
    "\n",
    "# Finalize the plot\n",
    "sns.despine(bottom=True)\n",
    "plt.tight_layout(h_pad=2)\n",
    "\n",
    "# Saving plot\n",
    "fig.savefig('img/word-vectors/fasttext_training.png', dpi=200)"
   ]
  },
  {
   "cell_type": "code",
   "execution_count": 39,
   "metadata": {},
   "outputs": [
    {
     "name": "stdout",
     "output_type": "stream",
     "text": [
      "Val Accuracy: 0.92\n",
      "Val F1-Score: 0.92\n"
     ]
    }
   ],
   "source": [
    "model.load_weights('/tmp/fasttext_weights.hdf5')\n",
    "probas = model.predict(X_val)\n",
    "y_pred = (probas > 0.5).astype(np.int)\n",
    "\n",
    "print(\"Val Accuracy: {:.2f}\".format(metrics.accuracy_score(y_val, y_pred)))\n",
    "print(\"Val F1-Score: {:.2f}\".format(metrics.f1_score(y_val, y_pred)))"
   ]
  },
  {
   "cell_type": "markdown",
   "metadata": {},
   "source": [
    "## Testing best fastText model"
   ]
  },
  {
   "cell_type": "code",
   "execution_count": 40,
   "metadata": {},
   "outputs": [],
   "source": [
    "probas = model.predict(X_test)\n",
    "y_pred = (probas > 0.5).astype(np.int)"
   ]
  },
  {
   "cell_type": "code",
   "execution_count": 41,
   "metadata": {},
   "outputs": [
    {
     "name": "stdout",
     "output_type": "stream",
     "text": [
      "Test Accuracy: 0.91\n",
      "Test F1-Score: 0.91\n",
      "\n",
      "              precision    recall  f1-score   support\n",
      "\n",
      "    Negative       0.90      0.91      0.91      1988\n",
      "    Positive       0.91      0.91      0.91      2012\n",
      "\n",
      "    accuracy                           0.91      4000\n",
      "   macro avg       0.91      0.91      0.91      4000\n",
      "weighted avg       0.91      0.91      0.91      4000\n",
      "\n"
     ]
    }
   ],
   "source": [
    "print(\"Test Accuracy: {:.2f}\".format(metrics.accuracy_score(y_test, y_pred)))\n",
    "print(\"Test F1-Score: {:.2f}\".format(metrics.f1_score(y_test, y_pred)))\n",
    "print()\n",
    "\n",
    "report = metrics.classification_report(\n",
    "    y_test, y_pred, \n",
    "    target_names=class_names.values()\n",
    ")\n",
    "print(report)"
   ]
  },
  {
   "cell_type": "code",
   "execution_count": null,
   "metadata": {},
   "outputs": [],
   "source": []
  },
  {
   "cell_type": "code",
   "execution_count": null,
   "metadata": {},
   "outputs": [],
   "source": []
  },
  {
   "cell_type": "code",
   "execution_count": null,
   "metadata": {},
   "outputs": [],
   "source": []
  },
  {
   "cell_type": "code",
   "execution_count": 138,
   "metadata": {},
   "outputs": [],
   "source": [
    "# TODO: test RNN & CNN on smaller part of the dataset, (accuracy as a function of dataset size) as RNN should decrease in accuracy with a smaller dataset"
   ]
  }
 ],
 "metadata": {
  "kernelspec": {
   "display_name": "Python 3",
   "language": "python",
   "name": "python3"
  },
  "language_info": {
   "codemirror_mode": {
    "name": "ipython",
    "version": 3
   },
   "file_extension": ".py",
   "mimetype": "text/x-python",
   "name": "python",
   "nbconvert_exporter": "python",
   "pygments_lexer": "ipython3",
   "version": "3.7.5"
  }
 },
 "nbformat": 4,
 "nbformat_minor": 4
}
